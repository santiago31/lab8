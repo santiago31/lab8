{
  "nbformat": 4,
  "nbformat_minor": 0,
  "metadata": {
    "colab": {
      "name": "Laboratorio8.ipynb",
      "provenance": [],
      "collapsed_sections": [
        "LCOUC4jss148",
        "GtG74Cphq56p"
      ]
    },
    "deepnote": {},
    "deepnote_execution_queue": [],
    "deepnote_notebook_id": "038fcdf2-d87a-4a74-89c6-f5afff22afb6",
    "kernelspec": {
      "display_name": "Python 3",
      "language": "python",
      "name": "python3"
    },
    "language_info": {
      "codemirror_mode": {
        "name": "ipython",
        "version": 3
      },
      "file_extension": ".py",
      "mimetype": "text/x-python",
      "name": "python",
      "nbconvert_exporter": "python",
      "pygments_lexer": "ipython3",
      "version": "3.8.3"
    },
    "toc": {
      "base_numbering": 1,
      "nav_menu": {},
      "number_sections": true,
      "sideBar": true,
      "skip_h1_title": true,
      "title_cell": "Tabla de Contenidos",
      "title_sidebar": "Contenidos",
      "toc_cell": false,
      "toc_position": {
        "height": "calc(100% - 180px)",
        "left": "10px",
        "top": "150px",
        "width": "241.867px"
      },
      "toc_section_display": true,
      "toc_window_display": true
    },
    "varInspector": {
      "cols": {
        "lenName": 16,
        "lenType": 16,
        "lenVar": 40
      },
      "kernels_config": {
        "python": {
          "delete_cmd_postfix": "",
          "delete_cmd_prefix": "del ",
          "library": "var_list.py",
          "varRefreshCmd": "print(var_dic_list())"
        },
        "r": {
          "delete_cmd_postfix": ") ",
          "delete_cmd_prefix": "rm(",
          "library": "var_list.r",
          "varRefreshCmd": "cat(var_dic_list()) "
        }
      },
      "types_to_exclude": [
        "module",
        "function",
        "builtin_function_or_method",
        "instance",
        "_Feature"
      ],
      "window_display": false
    },
    "accelerator": "GPU"
  },
  "cells": [
    {
      "cell_type": "markdown",
      "metadata": {
        "cell_id": "00000-7111e3ae-b60e-4569-b774-a13ef1b95f77",
        "deepnote_cell_type": "markdown",
        "id": "XUZ1dFPHzAHl"
      },
      "source": [
        "<h1><center>Laboratorio 8: ¿Superhéroe o Villano? 🦸</center></h1>\n",
        "\n",
        "<center><strong>MDS7202: Laboratorio de Programación Científica para Ciencia de Datos</strong></center>"
      ]
    },
    {
      "cell_type": "markdown",
      "metadata": {
        "cell_id": "00001-988ebcea-7685-4ad4-968d-5530ff0099a7",
        "deepnote_cell_type": "markdown",
        "id": "UD8X1uhGzAHq"
      },
      "source": [
        "### Cuerpo Docente:\n",
        "\n",
        "- Profesor: Pablo Badilla\n",
        "- Auxiliar: Ignacio Meza D.\n",
        "- Ayudante: Constanza Peña"
      ]
    },
    {
      "cell_type": "markdown",
      "metadata": {
        "cell_id": "00002-038ebafa-6641-4c2a-b2e8-62ad2018b88e",
        "deepnote_cell_type": "markdown",
        "id": "tXflExjqzAHr"
      },
      "source": [
        "### Equipo: SUPER IMPORTANTE - notebooks sin nombre no serán revisados\n",
        "\n",
        "- Nombre de alumno 1:Santiago Valdivieso\n",
        "- Nombre de alumno 2:\n"
      ]
    },
    {
      "cell_type": "markdown",
      "metadata": {
        "cell_id": "00003-913d0cc4-e146-4ff9-a0e3-26a20c808d7c",
        "deepnote_cell_type": "markdown",
        "id": "AD-V0bbZzAHr"
      },
      "source": [
        "### **Link de repositorio de GitHub:** `http://....`"
      ]
    },
    {
      "cell_type": "markdown",
      "metadata": {
        "cell_id": "00004-e5841000-37dc-494f-a9b8-3c30765c243a",
        "deepnote_cell_type": "markdown",
        "id": "EcnsiQMkzAHr"
      },
      "source": [
        "### Indice \n",
        "\n",
        "1. [Temas a tratar](#Temas-a-tratar:)\n",
        "3. [Descripcción del laboratorio](#Descripción-del-laboratorio.)\n",
        "4. [Desarrollo](#Desarrollo)"
      ]
    },
    {
      "cell_type": "markdown",
      "metadata": {
        "cell_id": "00005-64f7c2d0-4287-4f3a-9b4b-2c5b829f606c",
        "deepnote_cell_type": "markdown",
        "id": "6uBLPj1PzAHs"
      },
      "source": [
        "# Temas a tratar\n",
        "\n",
        "- Exploración del dataset y los resultados a través de visualizaciones interactivas usando `plotly`.\n",
        "- Introducción a procesamiento del lenguaje natural.\n",
        "- Clasificación en `scikit-learn`\n",
        "- Uso de pipelines.\n",
        "\n",
        "## Reglas:\n",
        "\n",
        "- Fecha de entrega: 26/11/2021\n",
        "- **Grupos de 2 personas**\n",
        "- **Ausentes** deberán realizar la actividad solos. \n",
        "- Cualquier duda fuera del horario de clases al foro. Mensajes al equipo docente serán respondidos por este medio.\n",
        "- Prohibidas las copias. \n",
        "- Pueden usar cualquer matrial del curso que estimen conveniente.\n",
        "\n",
        "### Objetivos principales del laboratorio\n",
        "\n",
        "- Aplicar las ventajas que nos ofrece crear un pipeline.\n",
        "- Obtener caracteristicas desde texto.\n",
        "- Visualizar el funcionamiento de clasificadores.\n",
        "- Realizar una GridSearch sobre un conjunto de clasificadores.\n",
        "\n",
        "El laboratorio deberá ser desarrollado sin el uso indiscriminado de iteradores nativos de python (aka \"for\", \"while\"). La idea es que aprendan a exprimir al máximo las funciones optimizadas que nos entrega `pandas`, las cuales vale mencionar, son bastante más eficientes que los iteradores nativos sobre DataFrames."
      ]
    },
    {
      "cell_type": "code",
      "metadata": {
        "id": "Pe_pGhatjROO"
      },
      "source": [
        ""
      ],
      "execution_count": null,
      "outputs": []
    },
    {
      "cell_type": "markdown",
      "metadata": {
        "cell_id": "00006-b8353b3b-8f85-4aa6-9379-96902d3d0bf3",
        "deepnote_cell_type": "markdown",
        "id": "MhISwri4zAHy"
      },
      "source": [
        "#Importamos librerias utiles 😸"
      ]
    },
    {
      "cell_type": "code",
      "metadata": {
        "ExecuteTime": {
          "end_time": "2021-03-29T00:08:16.884674Z",
          "start_time": "2021-03-29T00:08:16.349846Z"
        },
        "cell_id": "00007-e696189c-3187-4899-bf04-8034b0e8a595",
        "colab": {
          "base_uri": "https://localhost:8080/"
        },
        "deepnote_cell_type": "code",
        "deepnote_output_heights": [
          null,
          21.199996948242188
        ],
        "deepnote_to_be_reexecuted": false,
        "execution_millis": 36497,
        "execution_start": 1637348694866,
        "id": "uyc33dKdzAHy",
        "source_hash": "7ce9748b",
        "outputId": "bd521fe1-018a-439d-dc9b-3167bcbcb668"
      },
      "source": [
        "# Librería Core del lab.\n",
        "import numpy as np\n",
        "import pandas as pd\n",
        "from sklearn.pipeline import Pipeline\n",
        "\n",
        "from sklearn.model_selection import train_test_split \n",
        "\n",
        "# Pre-procesamiento\n",
        "from sklearn.feature_selection import SelectPercentile, f_classif\n",
        "from sklearn.compose import ColumnTransformer\n",
        "from sklearn.preprocessing import MinMaxScaler\n",
        "from sklearn.feature_extraction.text import CountVectorizer\n",
        "\n",
        "# Clasifación\n",
        "from sklearn.svm import SVC\n",
        "from sklearn.naive_bayes import MultinomialNB\n",
        "from sklearn.tree import DecisionTreeClassifier\n",
        "from sklearn.model_selection import GridSearchCV\n",
        "from sklearn.ensemble import RandomForestClassifier\n",
        "from sklearn.linear_model import LogisticRegression\n",
        "\n",
        "# Metricas de evaluación\n",
        "from sklearn.metrics import classification_report\n",
        "from sklearn.metrics import accuracy_score\n",
        "from sklearn.metrics import f1_score\n",
        "from sklearn.metrics import cohen_kappa_score\n",
        "\n",
        "# Librería para plotear\n",
        "!pip install --upgrade plotly\n",
        "import plotly.express as px\n",
        "from plotly.subplots import make_subplots\n",
        "import plotly.graph_objects as go\n",
        "\n",
        "# Proyecciones en baja dimensionalidad: UMAP\n",
        "!pip install umap-learn\n",
        "\n",
        "# Librería para NLP\n",
        "!pip install nltk\n",
        "import nltk\n",
        "from nltk.corpus import stopwords\n",
        "from nltk import word_tokenize  \n",
        "from nltk.stem import PorterStemmer\n",
        "nltk.download('stopwords')"
      ],
      "execution_count": 1,
      "outputs": [
        {
          "output_type": "stream",
          "name": "stdout",
          "text": [
            "Requirement already satisfied: plotly in /usr/local/lib/python3.7/dist-packages (4.4.1)\n",
            "Collecting plotly\n",
            "  Downloading plotly-5.4.0-py2.py3-none-any.whl (25.3 MB)\n",
            "\u001b[K     |████████████████████████████████| 25.3 MB 1.8 MB/s \n",
            "\u001b[?25hRequirement already satisfied: six in /usr/local/lib/python3.7/dist-packages (from plotly) (1.15.0)\n",
            "Collecting tenacity>=6.2.0\n",
            "  Downloading tenacity-8.0.1-py3-none-any.whl (24 kB)\n",
            "Installing collected packages: tenacity, plotly\n",
            "  Attempting uninstall: plotly\n",
            "    Found existing installation: plotly 4.4.1\n",
            "    Uninstalling plotly-4.4.1:\n",
            "      Successfully uninstalled plotly-4.4.1\n",
            "Successfully installed plotly-5.4.0 tenacity-8.0.1\n",
            "Collecting umap-learn\n",
            "  Downloading umap-learn-0.5.2.tar.gz (86 kB)\n",
            "\u001b[K     |████████████████████████████████| 86 kB 3.3 MB/s \n",
            "\u001b[?25hRequirement already satisfied: numpy>=1.17 in /usr/local/lib/python3.7/dist-packages (from umap-learn) (1.19.5)\n",
            "Requirement already satisfied: scikit-learn>=0.22 in /usr/local/lib/python3.7/dist-packages (from umap-learn) (1.0.1)\n",
            "Requirement already satisfied: scipy>=1.0 in /usr/local/lib/python3.7/dist-packages (from umap-learn) (1.4.1)\n",
            "Requirement already satisfied: numba>=0.49 in /usr/local/lib/python3.7/dist-packages (from umap-learn) (0.51.2)\n",
            "Collecting pynndescent>=0.5\n",
            "  Downloading pynndescent-0.5.5.tar.gz (1.1 MB)\n",
            "\u001b[K     |████████████████████████████████| 1.1 MB 35.4 MB/s \n",
            "\u001b[?25hRequirement already satisfied: tqdm in /usr/local/lib/python3.7/dist-packages (from umap-learn) (4.62.3)\n",
            "Requirement already satisfied: setuptools in /usr/local/lib/python3.7/dist-packages (from numba>=0.49->umap-learn) (57.4.0)\n",
            "Requirement already satisfied: llvmlite<0.35,>=0.34.0.dev0 in /usr/local/lib/python3.7/dist-packages (from numba>=0.49->umap-learn) (0.34.0)\n",
            "Requirement already satisfied: joblib>=0.11 in /usr/local/lib/python3.7/dist-packages (from pynndescent>=0.5->umap-learn) (1.1.0)\n",
            "Requirement already satisfied: threadpoolctl>=2.0.0 in /usr/local/lib/python3.7/dist-packages (from scikit-learn>=0.22->umap-learn) (3.0.0)\n",
            "Building wheels for collected packages: umap-learn, pynndescent\n",
            "  Building wheel for umap-learn (setup.py) ... \u001b[?25l\u001b[?25hdone\n",
            "  Created wheel for umap-learn: filename=umap_learn-0.5.2-py3-none-any.whl size=82709 sha256=e3fa39e6010a4722589bf245f38d201afc0f970167f7b72fb9218801c30bb730\n",
            "  Stored in directory: /root/.cache/pip/wheels/84/1b/c6/aaf68a748122632967cef4dffef68224eb16798b6793257d82\n",
            "  Building wheel for pynndescent (setup.py) ... \u001b[?25l\u001b[?25hdone\n",
            "  Created wheel for pynndescent: filename=pynndescent-0.5.5-py3-none-any.whl size=52603 sha256=c1a65bdb1d48d4de0a7459b7357b33ad2c3b28328d6109be64f7a9ca1946a567\n",
            "  Stored in directory: /root/.cache/pip/wheels/af/e9/33/04db1436df0757c42fda8ea6796d7a8586e23c85fac355f476\n",
            "Successfully built umap-learn pynndescent\n",
            "Installing collected packages: pynndescent, umap-learn\n",
            "Successfully installed pynndescent-0.5.5 umap-learn-0.5.2\n",
            "Requirement already satisfied: nltk in /usr/local/lib/python3.7/dist-packages (3.2.5)\n",
            "Requirement already satisfied: six in /usr/local/lib/python3.7/dist-packages (from nltk) (1.15.0)\n",
            "[nltk_data] Downloading package stopwords to /root/nltk_data...\n",
            "[nltk_data]   Unzipping corpora/stopwords.zip.\n"
          ]
        },
        {
          "output_type": "execute_result",
          "data": {
            "text/plain": [
              "True"
            ]
          },
          "metadata": {},
          "execution_count": 1
        }
      ]
    },
    {
      "cell_type": "code",
      "metadata": {
        "id": "wKzEiQySjROQ",
        "colab": {
          "base_uri": "https://localhost:8080/"
        },
        "outputId": "b1272f33-41de-4996-9d12-9f1725eefe79"
      },
      "source": [
        "import nltk\n",
        "nltk.download('punkt')"
      ],
      "execution_count": 2,
      "outputs": [
        {
          "output_type": "stream",
          "name": "stdout",
          "text": [
            "[nltk_data] Downloading package punkt to /root/nltk_data...\n",
            "[nltk_data]   Unzipping tokenizers/punkt.zip.\n"
          ]
        },
        {
          "output_type": "execute_result",
          "data": {
            "text/plain": [
              "True"
            ]
          },
          "metadata": {},
          "execution_count": 2
        }
      ]
    },
    {
      "cell_type": "markdown",
      "metadata": {
        "cell_id": "00008-9c535dd9-01e0-4804-a325-7b5d36a20a32",
        "deepnote_cell_type": "markdown",
        "id": "xpOTbQcxbSiy"
      },
      "source": [
        "# 1. ¿Quien es Bat Cow?"
      ]
    },
    {
      "cell_type": "markdown",
      "metadata": {
        "cell_id": "00009-43ac5618-611f-4712-aec7-faaa53d72d08",
        "deepnote_cell_type": "markdown",
        "id": "3Q93vbNS25bM"
      },
      "source": [
        "<p align=\"center\">\n",
        "  <img src=\"https://i.imgur.com/D9f1RHy.jpg\" width=\"350\">\n",
        "</p>"
      ]
    },
    {
      "cell_type": "markdown",
      "metadata": {
        "cell_id": "00010-632e9494-ce9c-4d54-8e57-e700baed4302",
        "deepnote_cell_type": "markdown",
        "id": "jnmZfFpxTTYX"
      },
      "source": [
        "En vez de estar desarrollando las evaluaciones correspondientes a su curso, su profesor de catedra y su auxiliar discuten acerca la alineación (héroe o villano) del personaje de ficción Bat-Cow. \n",
        "\n",
        "El cuerpo docente, no logra ponerse de acuerdo si el personaje es bueno, neutral o malo: el auxiliar plantea que Bat-cow posee una siniestra mirada, intrigante pero común característica de los personajes malvados. \n",
        "Por otra parte, extendiendo las ideas de Rousseau, el profesor plantea que tal como los humanos no nacen malos, no existe motivo por el cual una vaca con superpoderes deba serlo.\n",
        "\n",
        "Sin embargo, ambos concuerdan que es difícil estimar la alineación solo usando los atributos físicos, por lo que creen el análisis debe ser complementado aún más antes de comunicarle los resultados a su estudiantado. Buscando más información, ambos sujetos se percatan de la existencia de un excelente antecedente para estimar la alineación: la historia personal de cada superhéroe o villano.\n",
        "\n",
        "Es por esto le solicitan que construya y optimice un clasificador basado en texto el cual analice la alineación de cada personaje basado en su historia personal.\n",
        "\n",
        "Para este laboratorio deben trabajar con los datos `df_comics.csv` y `comics_no_label.csv` subidos a u-cursos. El primero es un conjunto de datos que les servirá para entrenar un modelo de clasificación, mientras que el segundo es un dataset con personajes de ficción no etiquetados a predecir (sí, aquí está la misteriosa Batcow).\n",
        "\n",
        "Para comenzar cargue los dataset señalados y visualice a través de un head los atributos que poseen cada uno de los dataset.\n"
      ]
    },
    {
      "cell_type": "code",
      "metadata": {
        "cell_id": "00011-9a36781e-c26a-46de-b4bf-a5448a347cab",
        "colab": {
          "base_uri": "https://localhost:8080/"
        },
        "deepnote_cell_type": "code",
        "deepnote_to_be_reexecuted": false,
        "execution_millis": 27,
        "execution_start": 1637348657022,
        "id": "Jqq-s010Iwl1",
        "source_hash": "c60dc4a7",
        "outputId": "3e982b3e-2ea8-4c25-f394-8f3b045eed7b"
      },
      "source": [
        "# Si usted está utilizando Colabolatory le puede ser útil este código para cargar los archivos.\n",
        "try:\n",
        "    from google.colab import drive\n",
        "    drive.mount(\"/content/drive\")\n",
        "    path = '/content/drive/MyDrive/lab_8/'\n",
        "except: \n",
        "    print('Ignorando conexión drive-colab')"
      ],
      "execution_count": 3,
      "outputs": [
        {
          "output_type": "stream",
          "name": "stdout",
          "text": [
            "Mounted at /content/drive\n"
          ]
        }
      ]
    },
    {
      "cell_type": "code",
      "metadata": {
        "cell_id": "00012-8b0c36c2-aeaa-4ba1-9611-45f0599aa584",
        "deepnote_cell_type": "code",
        "deepnote_to_be_reexecuted": false,
        "execution_millis": 325,
        "execution_start": 1637348732856,
        "id": "bED3w3tDbSCf",
        "source_hash": "443d6e8"
      },
      "source": [
        "df_comics = pd.read_csv(path + 'df_comics.csv')\n",
        "df_comics_no_label = pd.read_csv(path + 'comics_no_label.csv')\n",
        "df_comics = df_comics.dropna(subset=['history_text']) # eliminar ejemplos sin historia\n"
      ],
      "execution_count": 4,
      "outputs": []
    },
    {
      "cell_type": "code",
      "metadata": {
        "id": "kzmQxVwMjROS",
        "colab": {
          "base_uri": "https://localhost:8080/",
          "height": 620
        },
        "outputId": "11f33ba5-fa67-42f5-868b-7d57b7dae81f"
      },
      "source": [
        "df_comics_no_label.head()"
      ],
      "execution_count": 5,
      "outputs": [
        {
          "output_type": "execute_result",
          "data": {
            "text/html": [
              "<div>\n",
              "<style scoped>\n",
              "    .dataframe tbody tr th:only-of-type {\n",
              "        vertical-align: middle;\n",
              "    }\n",
              "\n",
              "    .dataframe tbody tr th {\n",
              "        vertical-align: top;\n",
              "    }\n",
              "\n",
              "    .dataframe thead th {\n",
              "        text-align: right;\n",
              "    }\n",
              "</style>\n",
              "<table border=\"1\" class=\"dataframe\">\n",
              "  <thead>\n",
              "    <tr style=\"text-align: right;\">\n",
              "      <th></th>\n",
              "      <th>Unnamed: 0</th>\n",
              "      <th>name</th>\n",
              "      <th>real_name</th>\n",
              "      <th>full_name</th>\n",
              "      <th>overall_score</th>\n",
              "      <th>history_text</th>\n",
              "      <th>powers_text</th>\n",
              "      <th>intelligence_score</th>\n",
              "      <th>strength_score</th>\n",
              "      <th>speed_score</th>\n",
              "      <th>durability_score</th>\n",
              "      <th>power_score</th>\n",
              "      <th>combat_score</th>\n",
              "      <th>superpowers</th>\n",
              "      <th>alter_egos</th>\n",
              "      <th>aliases</th>\n",
              "      <th>place_of_birth</th>\n",
              "      <th>first_appearance</th>\n",
              "      <th>creator</th>\n",
              "      <th>alignment</th>\n",
              "      <th>occupation</th>\n",
              "      <th>base</th>\n",
              "      <th>teams</th>\n",
              "      <th>relatives</th>\n",
              "      <th>gender</th>\n",
              "      <th>type_race</th>\n",
              "      <th>height</th>\n",
              "      <th>weight</th>\n",
              "      <th>eye_color</th>\n",
              "      <th>hair_color</th>\n",
              "      <th>skin_color</th>\n",
              "      <th>img</th>\n",
              "      <th>has_electrokinesis</th>\n",
              "      <th>has_energy_constructs</th>\n",
              "      <th>has_mind_control_resistance</th>\n",
              "      <th>has_matter_manipulation</th>\n",
              "      <th>has_telepathy_resistance</th>\n",
              "      <th>has_mind_control</th>\n",
              "      <th>has_enhanced_hearing</th>\n",
              "      <th>has_dimensional_travel</th>\n",
              "      <th>...</th>\n",
              "      <th>has_fire_resistance</th>\n",
              "      <th>has_fire_control</th>\n",
              "      <th>has_dexterity</th>\n",
              "      <th>has_reality_warping</th>\n",
              "      <th>has_illusions</th>\n",
              "      <th>has_energy_beams</th>\n",
              "      <th>has_peak_human_condition</th>\n",
              "      <th>has_shapeshifting</th>\n",
              "      <th>has_heat_resistance</th>\n",
              "      <th>has_jump</th>\n",
              "      <th>has_self-sustenance</th>\n",
              "      <th>has_energy_absorption</th>\n",
              "      <th>has_cold_resistance</th>\n",
              "      <th>has_magic</th>\n",
              "      <th>has_telekinesis</th>\n",
              "      <th>has_toxin_and_disease_resistance</th>\n",
              "      <th>has_telepathy</th>\n",
              "      <th>has_regeneration</th>\n",
              "      <th>has_immortality</th>\n",
              "      <th>has_teleportation</th>\n",
              "      <th>has_force_fields</th>\n",
              "      <th>has_energy_manipulation</th>\n",
              "      <th>has_endurance</th>\n",
              "      <th>has_longevity</th>\n",
              "      <th>has_weapon-based_powers</th>\n",
              "      <th>has_energy_blasts</th>\n",
              "      <th>has_enhanced_senses</th>\n",
              "      <th>has_invulnerability</th>\n",
              "      <th>has_stealth</th>\n",
              "      <th>has_marksmanship</th>\n",
              "      <th>has_flight</th>\n",
              "      <th>has_accelerated_healing</th>\n",
              "      <th>has_weapons_master</th>\n",
              "      <th>has_intelligence</th>\n",
              "      <th>has_reflexes</th>\n",
              "      <th>has_super_speed</th>\n",
              "      <th>has_durability</th>\n",
              "      <th>has_stamina</th>\n",
              "      <th>has_agility</th>\n",
              "      <th>has_super_strength</th>\n",
              "    </tr>\n",
              "  </thead>\n",
              "  <tbody>\n",
              "    <tr>\n",
              "      <th>0</th>\n",
              "      <td>1</td>\n",
              "      <td>514A (Gotham)</td>\n",
              "      <td>Bruce Wayne</td>\n",
              "      <td>NaN</td>\n",
              "      <td>10</td>\n",
              "      <td>He was one of the many prisoners of Indian Hil...</td>\n",
              "      <td>NaN</td>\n",
              "      <td>100</td>\n",
              "      <td>20</td>\n",
              "      <td>30</td>\n",
              "      <td>50</td>\n",
              "      <td>35</td>\n",
              "      <td>100</td>\n",
              "      <td>['Durability', 'Reflexes', 'Super Strength']</td>\n",
              "      <td>['Batgod', 'Batman', 'Batman (1966)', 'Batman ...</td>\n",
              "      <td>['Subject 514A', 'Bruce Wayne', 'Bruce 2']</td>\n",
              "      <td>NaN</td>\n",
              "      <td>NaN</td>\n",
              "      <td>DC Comics</td>\n",
              "      <td>NaN</td>\n",
              "      <td>NaN</td>\n",
              "      <td>NaN</td>\n",
              "      <td>[]</td>\n",
              "      <td>Bruce Wayne (genetic template)</td>\n",
              "      <td>NaN</td>\n",
              "      <td>NaN</td>\n",
              "      <td>-</td>\n",
              "      <td>-</td>\n",
              "      <td>NaN</td>\n",
              "      <td>NaN</td>\n",
              "      <td>NaN</td>\n",
              "      <td>NaN</td>\n",
              "      <td>0.0</td>\n",
              "      <td>0.0</td>\n",
              "      <td>0.0</td>\n",
              "      <td>0.0</td>\n",
              "      <td>0.0</td>\n",
              "      <td>0.0</td>\n",
              "      <td>0.0</td>\n",
              "      <td>0.0</td>\n",
              "      <td>...</td>\n",
              "      <td>0.0</td>\n",
              "      <td>0.0</td>\n",
              "      <td>0.0</td>\n",
              "      <td>0.0</td>\n",
              "      <td>0.0</td>\n",
              "      <td>0.0</td>\n",
              "      <td>0.0</td>\n",
              "      <td>0.0</td>\n",
              "      <td>0.0</td>\n",
              "      <td>0.0</td>\n",
              "      <td>0.0</td>\n",
              "      <td>0.0</td>\n",
              "      <td>0.0</td>\n",
              "      <td>0.0</td>\n",
              "      <td>0.0</td>\n",
              "      <td>0.0</td>\n",
              "      <td>0.0</td>\n",
              "      <td>0.0</td>\n",
              "      <td>0.0</td>\n",
              "      <td>0.0</td>\n",
              "      <td>0.0</td>\n",
              "      <td>0.0</td>\n",
              "      <td>0.0</td>\n",
              "      <td>0.0</td>\n",
              "      <td>0.0</td>\n",
              "      <td>0.0</td>\n",
              "      <td>0.0</td>\n",
              "      <td>0.0</td>\n",
              "      <td>0.0</td>\n",
              "      <td>0.0</td>\n",
              "      <td>0.0</td>\n",
              "      <td>0.0</td>\n",
              "      <td>0.0</td>\n",
              "      <td>0.0</td>\n",
              "      <td>1.0</td>\n",
              "      <td>0.0</td>\n",
              "      <td>1.0</td>\n",
              "      <td>0.0</td>\n",
              "      <td>0.0</td>\n",
              "      <td>1.0</td>\n",
              "    </tr>\n",
              "    <tr>\n",
              "      <th>1</th>\n",
              "      <td>14</td>\n",
              "      <td>Ace Morgan</td>\n",
              "      <td>Kyle Morgan</td>\n",
              "      <td>NaN</td>\n",
              "      <td>7</td>\n",
              "      <td>NaN</td>\n",
              "      <td>Aviation:  Ace is an extremely skilled pilot, ...</td>\n",
              "      <td>85</td>\n",
              "      <td>20</td>\n",
              "      <td>65</td>\n",
              "      <td>55</td>\n",
              "      <td>80</td>\n",
              "      <td>90</td>\n",
              "      <td>['Agility', 'Banish', 'Energy Blasts', 'Enhanc...</td>\n",
              "      <td>[]</td>\n",
              "      <td>['']</td>\n",
              "      <td>NaN</td>\n",
              "      <td>NaN</td>\n",
              "      <td>DC Comics</td>\n",
              "      <td>NaN</td>\n",
              "      <td>NaN</td>\n",
              "      <td>NaN</td>\n",
              "      <td>['Challengers of the Unknown']</td>\n",
              "      <td>NaN</td>\n",
              "      <td>NaN</td>\n",
              "      <td>NaN</td>\n",
              "      <td>-</td>\n",
              "      <td>-</td>\n",
              "      <td>NaN</td>\n",
              "      <td>NaN</td>\n",
              "      <td>NaN</td>\n",
              "      <td>/pictures2/portraits/11/050/11545.jpg?v=156107...</td>\n",
              "      <td>0.0</td>\n",
              "      <td>0.0</td>\n",
              "      <td>0.0</td>\n",
              "      <td>0.0</td>\n",
              "      <td>0.0</td>\n",
              "      <td>0.0</td>\n",
              "      <td>0.0</td>\n",
              "      <td>0.0</td>\n",
              "      <td>...</td>\n",
              "      <td>0.0</td>\n",
              "      <td>0.0</td>\n",
              "      <td>0.0</td>\n",
              "      <td>0.0</td>\n",
              "      <td>0.0</td>\n",
              "      <td>0.0</td>\n",
              "      <td>1.0</td>\n",
              "      <td>0.0</td>\n",
              "      <td>0.0</td>\n",
              "      <td>0.0</td>\n",
              "      <td>0.0</td>\n",
              "      <td>0.0</td>\n",
              "      <td>0.0</td>\n",
              "      <td>1.0</td>\n",
              "      <td>0.0</td>\n",
              "      <td>0.0</td>\n",
              "      <td>0.0</td>\n",
              "      <td>0.0</td>\n",
              "      <td>0.0</td>\n",
              "      <td>0.0</td>\n",
              "      <td>0.0</td>\n",
              "      <td>0.0</td>\n",
              "      <td>0.0</td>\n",
              "      <td>0.0</td>\n",
              "      <td>1.0</td>\n",
              "      <td>1.0</td>\n",
              "      <td>0.0</td>\n",
              "      <td>0.0</td>\n",
              "      <td>0.0</td>\n",
              "      <td>1.0</td>\n",
              "      <td>0.0</td>\n",
              "      <td>0.0</td>\n",
              "      <td>1.0</td>\n",
              "      <td>1.0</td>\n",
              "      <td>1.0</td>\n",
              "      <td>0.0</td>\n",
              "      <td>0.0</td>\n",
              "      <td>1.0</td>\n",
              "      <td>1.0</td>\n",
              "      <td>0.0</td>\n",
              "    </tr>\n",
              "    <tr>\n",
              "      <th>2</th>\n",
              "      <td>17</td>\n",
              "      <td>A'dal</td>\n",
              "      <td>NaN</td>\n",
              "      <td>NaN</td>\n",
              "      <td>7</td>\n",
              "      <td>As with most of the naaru, little is known of ...</td>\n",
              "      <td>NaN</td>\n",
              "      <td>85</td>\n",
              "      <td>30</td>\n",
              "      <td>70</td>\n",
              "      <td>55</td>\n",
              "      <td>65</td>\n",
              "      <td>100</td>\n",
              "      <td>['Element Control', 'Heat Generation', 'Light ...</td>\n",
              "      <td>[]</td>\n",
              "      <td>['']</td>\n",
              "      <td>Terrace of Light, Shattrath City</td>\n",
              "      <td>NaN</td>\n",
              "      <td>Blizzard Entertainment</td>\n",
              "      <td>NaN</td>\n",
              "      <td>NaN</td>\n",
              "      <td>NaN</td>\n",
              "      <td>[]</td>\n",
              "      <td>NaN</td>\n",
              "      <td>NaN</td>\n",
              "      <td>NaN</td>\n",
              "      <td>-</td>\n",
              "      <td>-</td>\n",
              "      <td>NaN</td>\n",
              "      <td>NaN</td>\n",
              "      <td>NaN</td>\n",
              "      <td>/pictures2/portraits/11/050/14754.jpg?v=156121...</td>\n",
              "      <td>0.0</td>\n",
              "      <td>0.0</td>\n",
              "      <td>0.0</td>\n",
              "      <td>1.0</td>\n",
              "      <td>0.0</td>\n",
              "      <td>0.0</td>\n",
              "      <td>0.0</td>\n",
              "      <td>0.0</td>\n",
              "      <td>...</td>\n",
              "      <td>0.0</td>\n",
              "      <td>0.0</td>\n",
              "      <td>0.0</td>\n",
              "      <td>0.0</td>\n",
              "      <td>0.0</td>\n",
              "      <td>0.0</td>\n",
              "      <td>0.0</td>\n",
              "      <td>0.0</td>\n",
              "      <td>0.0</td>\n",
              "      <td>0.0</td>\n",
              "      <td>0.0</td>\n",
              "      <td>0.0</td>\n",
              "      <td>0.0</td>\n",
              "      <td>0.0</td>\n",
              "      <td>0.0</td>\n",
              "      <td>0.0</td>\n",
              "      <td>0.0</td>\n",
              "      <td>0.0</td>\n",
              "      <td>0.0</td>\n",
              "      <td>0.0</td>\n",
              "      <td>0.0</td>\n",
              "      <td>0.0</td>\n",
              "      <td>0.0</td>\n",
              "      <td>0.0</td>\n",
              "      <td>0.0</td>\n",
              "      <td>0.0</td>\n",
              "      <td>0.0</td>\n",
              "      <td>0.0</td>\n",
              "      <td>0.0</td>\n",
              "      <td>0.0</td>\n",
              "      <td>0.0</td>\n",
              "      <td>0.0</td>\n",
              "      <td>0.0</td>\n",
              "      <td>0.0</td>\n",
              "      <td>0.0</td>\n",
              "      <td>0.0</td>\n",
              "      <td>0.0</td>\n",
              "      <td>0.0</td>\n",
              "      <td>0.0</td>\n",
              "      <td>0.0</td>\n",
              "    </tr>\n",
              "    <tr>\n",
              "      <th>3</th>\n",
              "      <td>27</td>\n",
              "      <td>Agent Zero (FOX)</td>\n",
              "      <td>David North</td>\n",
              "      <td>NaN</td>\n",
              "      <td>6</td>\n",
              "      <td>During mid-late 1973, Zero was a member of Tea...</td>\n",
              "      <td>Zero can absorb kinetic energy to further incr...</td>\n",
              "      <td>90</td>\n",
              "      <td>10</td>\n",
              "      <td>25</td>\n",
              "      <td>25</td>\n",
              "      <td>35</td>\n",
              "      <td>80</td>\n",
              "      <td>['Absorption', 'Agility', 'Energy Absorption',...</td>\n",
              "      <td>[]</td>\n",
              "      <td>['Maverick', 'Zero']</td>\n",
              "      <td>NaN</td>\n",
              "      <td>NaN</td>\n",
              "      <td>Marvel Comics</td>\n",
              "      <td>NaN</td>\n",
              "      <td>NaN</td>\n",
              "      <td>NaN</td>\n",
              "      <td>[]</td>\n",
              "      <td>NaN</td>\n",
              "      <td>NaN</td>\n",
              "      <td>Mutant</td>\n",
              "      <td>-</td>\n",
              "      <td>-</td>\n",
              "      <td>NaN</td>\n",
              "      <td>NaN</td>\n",
              "      <td>NaN</td>\n",
              "      <td>/pictures2/portraits/11/050/14359.jpg?v=155405...</td>\n",
              "      <td>0.0</td>\n",
              "      <td>0.0</td>\n",
              "      <td>0.0</td>\n",
              "      <td>0.0</td>\n",
              "      <td>0.0</td>\n",
              "      <td>0.0</td>\n",
              "      <td>0.0</td>\n",
              "      <td>0.0</td>\n",
              "      <td>...</td>\n",
              "      <td>0.0</td>\n",
              "      <td>0.0</td>\n",
              "      <td>0.0</td>\n",
              "      <td>0.0</td>\n",
              "      <td>0.0</td>\n",
              "      <td>0.0</td>\n",
              "      <td>0.0</td>\n",
              "      <td>0.0</td>\n",
              "      <td>0.0</td>\n",
              "      <td>0.0</td>\n",
              "      <td>0.0</td>\n",
              "      <td>1.0</td>\n",
              "      <td>0.0</td>\n",
              "      <td>0.0</td>\n",
              "      <td>0.0</td>\n",
              "      <td>0.0</td>\n",
              "      <td>0.0</td>\n",
              "      <td>0.0</td>\n",
              "      <td>0.0</td>\n",
              "      <td>0.0</td>\n",
              "      <td>0.0</td>\n",
              "      <td>0.0</td>\n",
              "      <td>0.0</td>\n",
              "      <td>0.0</td>\n",
              "      <td>0.0</td>\n",
              "      <td>0.0</td>\n",
              "      <td>0.0</td>\n",
              "      <td>0.0</td>\n",
              "      <td>0.0</td>\n",
              "      <td>1.0</td>\n",
              "      <td>0.0</td>\n",
              "      <td>0.0</td>\n",
              "      <td>0.0</td>\n",
              "      <td>0.0</td>\n",
              "      <td>1.0</td>\n",
              "      <td>0.0</td>\n",
              "      <td>0.0</td>\n",
              "      <td>0.0</td>\n",
              "      <td>1.0</td>\n",
              "      <td>0.0</td>\n",
              "    </tr>\n",
              "    <tr>\n",
              "      <th>4</th>\n",
              "      <td>31</td>\n",
              "      <td>Ajax (FOX)</td>\n",
              "      <td>Francis</td>\n",
              "      <td>Francis Freeman</td>\n",
              "      <td>7</td>\n",
              "      <td>Ajax (born Francis Freeman) was a human who ga...</td>\n",
              "      <td>Ajax has claimed that the procedure to obtain ...</td>\n",
              "      <td>85</td>\n",
              "      <td>25</td>\n",
              "      <td>45</td>\n",
              "      <td>75</td>\n",
              "      <td>45</td>\n",
              "      <td>65</td>\n",
              "      <td>['Dexterity', 'Durability', 'Intelligence', 'I...</td>\n",
              "      <td>['Ajax']</td>\n",
              "      <td>['A British Villain', 'British Shitstick', 'Co...</td>\n",
              "      <td>NaN</td>\n",
              "      <td>NaN</td>\n",
              "      <td>Marvel Comics</td>\n",
              "      <td>NaN</td>\n",
              "      <td>NaN</td>\n",
              "      <td>NaN</td>\n",
              "      <td>[]</td>\n",
              "      <td>NaN</td>\n",
              "      <td>Male</td>\n",
              "      <td>Mutant</td>\n",
              "      <td>-</td>\n",
              "      <td>-</td>\n",
              "      <td>NaN</td>\n",
              "      <td>NaN</td>\n",
              "      <td>NaN</td>\n",
              "      <td>/pictures2/portraits/11/050/14265.jpg?v=155393...</td>\n",
              "      <td>0.0</td>\n",
              "      <td>0.0</td>\n",
              "      <td>0.0</td>\n",
              "      <td>0.0</td>\n",
              "      <td>0.0</td>\n",
              "      <td>0.0</td>\n",
              "      <td>0.0</td>\n",
              "      <td>0.0</td>\n",
              "      <td>...</td>\n",
              "      <td>0.0</td>\n",
              "      <td>0.0</td>\n",
              "      <td>1.0</td>\n",
              "      <td>0.0</td>\n",
              "      <td>0.0</td>\n",
              "      <td>0.0</td>\n",
              "      <td>0.0</td>\n",
              "      <td>0.0</td>\n",
              "      <td>0.0</td>\n",
              "      <td>0.0</td>\n",
              "      <td>0.0</td>\n",
              "      <td>0.0</td>\n",
              "      <td>0.0</td>\n",
              "      <td>0.0</td>\n",
              "      <td>0.0</td>\n",
              "      <td>0.0</td>\n",
              "      <td>0.0</td>\n",
              "      <td>0.0</td>\n",
              "      <td>0.0</td>\n",
              "      <td>0.0</td>\n",
              "      <td>0.0</td>\n",
              "      <td>0.0</td>\n",
              "      <td>0.0</td>\n",
              "      <td>0.0</td>\n",
              "      <td>0.0</td>\n",
              "      <td>0.0</td>\n",
              "      <td>0.0</td>\n",
              "      <td>1.0</td>\n",
              "      <td>0.0</td>\n",
              "      <td>0.0</td>\n",
              "      <td>0.0</td>\n",
              "      <td>0.0</td>\n",
              "      <td>1.0</td>\n",
              "      <td>1.0</td>\n",
              "      <td>1.0</td>\n",
              "      <td>0.0</td>\n",
              "      <td>1.0</td>\n",
              "      <td>0.0</td>\n",
              "      <td>0.0</td>\n",
              "      <td>1.0</td>\n",
              "    </tr>\n",
              "  </tbody>\n",
              "</table>\n",
              "<p>5 rows × 82 columns</p>\n",
              "</div>"
            ],
            "text/plain": [
              "   Unnamed: 0              name  ... has_agility has_super_strength\n",
              "0           1     514A (Gotham)  ...         0.0                1.0\n",
              "1          14        Ace Morgan  ...         1.0                0.0\n",
              "2          17             A'dal  ...         0.0                0.0\n",
              "3          27  Agent Zero (FOX)  ...         1.0                0.0\n",
              "4          31        Ajax (FOX)  ...         0.0                1.0\n",
              "\n",
              "[5 rows x 82 columns]"
            ]
          },
          "metadata": {},
          "execution_count": 5
        }
      ]
    },
    {
      "cell_type": "code",
      "metadata": {
        "cell_id": "00013-2cd3a433-4f43-4a9e-92f5-caf54a662db2",
        "deepnote_cell_type": "code",
        "deepnote_to_be_reexecuted": false,
        "execution_millis": 654,
        "execution_start": 1637348731943,
        "source_hash": "b986316d",
        "tags": [],
        "id": "1RkxouO-jROT",
        "colab": {
          "base_uri": "https://localhost:8080/",
          "height": 620
        },
        "outputId": "a7efbccf-0e6c-4c4c-bc4a-d2a4971b31d7"
      },
      "source": [
        "# queda a labor de su equipo hacer el análisis exploratorio\n",
        "df_comics.head()"
      ],
      "execution_count": 6,
      "outputs": [
        {
          "output_type": "execute_result",
          "data": {
            "text/html": [
              "<div>\n",
              "<style scoped>\n",
              "    .dataframe tbody tr th:only-of-type {\n",
              "        vertical-align: middle;\n",
              "    }\n",
              "\n",
              "    .dataframe tbody tr th {\n",
              "        vertical-align: top;\n",
              "    }\n",
              "\n",
              "    .dataframe thead th {\n",
              "        text-align: right;\n",
              "    }\n",
              "</style>\n",
              "<table border=\"1\" class=\"dataframe\">\n",
              "  <thead>\n",
              "    <tr style=\"text-align: right;\">\n",
              "      <th></th>\n",
              "      <th>Unnamed: 0</th>\n",
              "      <th>name</th>\n",
              "      <th>real_name</th>\n",
              "      <th>full_name</th>\n",
              "      <th>overall_score</th>\n",
              "      <th>history_text</th>\n",
              "      <th>powers_text</th>\n",
              "      <th>intelligence_score</th>\n",
              "      <th>strength_score</th>\n",
              "      <th>speed_score</th>\n",
              "      <th>durability_score</th>\n",
              "      <th>power_score</th>\n",
              "      <th>combat_score</th>\n",
              "      <th>superpowers</th>\n",
              "      <th>alter_egos</th>\n",
              "      <th>aliases</th>\n",
              "      <th>place_of_birth</th>\n",
              "      <th>first_appearance</th>\n",
              "      <th>creator</th>\n",
              "      <th>alignment</th>\n",
              "      <th>occupation</th>\n",
              "      <th>base</th>\n",
              "      <th>teams</th>\n",
              "      <th>relatives</th>\n",
              "      <th>gender</th>\n",
              "      <th>type_race</th>\n",
              "      <th>height</th>\n",
              "      <th>weight</th>\n",
              "      <th>eye_color</th>\n",
              "      <th>hair_color</th>\n",
              "      <th>skin_color</th>\n",
              "      <th>img</th>\n",
              "      <th>has_electrokinesis</th>\n",
              "      <th>has_energy_constructs</th>\n",
              "      <th>has_mind_control_resistance</th>\n",
              "      <th>has_matter_manipulation</th>\n",
              "      <th>has_telepathy_resistance</th>\n",
              "      <th>has_mind_control</th>\n",
              "      <th>has_enhanced_hearing</th>\n",
              "      <th>has_dimensional_travel</th>\n",
              "      <th>...</th>\n",
              "      <th>has_fire_resistance</th>\n",
              "      <th>has_fire_control</th>\n",
              "      <th>has_dexterity</th>\n",
              "      <th>has_reality_warping</th>\n",
              "      <th>has_illusions</th>\n",
              "      <th>has_energy_beams</th>\n",
              "      <th>has_peak_human_condition</th>\n",
              "      <th>has_shapeshifting</th>\n",
              "      <th>has_heat_resistance</th>\n",
              "      <th>has_jump</th>\n",
              "      <th>has_self-sustenance</th>\n",
              "      <th>has_energy_absorption</th>\n",
              "      <th>has_cold_resistance</th>\n",
              "      <th>has_magic</th>\n",
              "      <th>has_telekinesis</th>\n",
              "      <th>has_toxin_and_disease_resistance</th>\n",
              "      <th>has_telepathy</th>\n",
              "      <th>has_regeneration</th>\n",
              "      <th>has_immortality</th>\n",
              "      <th>has_teleportation</th>\n",
              "      <th>has_force_fields</th>\n",
              "      <th>has_energy_manipulation</th>\n",
              "      <th>has_endurance</th>\n",
              "      <th>has_longevity</th>\n",
              "      <th>has_weapon-based_powers</th>\n",
              "      <th>has_energy_blasts</th>\n",
              "      <th>has_enhanced_senses</th>\n",
              "      <th>has_invulnerability</th>\n",
              "      <th>has_stealth</th>\n",
              "      <th>has_marksmanship</th>\n",
              "      <th>has_flight</th>\n",
              "      <th>has_accelerated_healing</th>\n",
              "      <th>has_weapons_master</th>\n",
              "      <th>has_intelligence</th>\n",
              "      <th>has_reflexes</th>\n",
              "      <th>has_super_speed</th>\n",
              "      <th>has_durability</th>\n",
              "      <th>has_stamina</th>\n",
              "      <th>has_agility</th>\n",
              "      <th>has_super_strength</th>\n",
              "    </tr>\n",
              "  </thead>\n",
              "  <tbody>\n",
              "    <tr>\n",
              "      <th>0</th>\n",
              "      <td>0</td>\n",
              "      <td>3-D Man</td>\n",
              "      <td>Delroy Garrett, Jr.</td>\n",
              "      <td>Delroy Garrett, Jr.</td>\n",
              "      <td>6</td>\n",
              "      <td>Delroy Garrett, Jr. grew up to become a track ...</td>\n",
              "      <td>NaN</td>\n",
              "      <td>85</td>\n",
              "      <td>30</td>\n",
              "      <td>60</td>\n",
              "      <td>60</td>\n",
              "      <td>40</td>\n",
              "      <td>70</td>\n",
              "      <td>['Super Speed', 'Super Strength']</td>\n",
              "      <td>[]</td>\n",
              "      <td>['']</td>\n",
              "      <td>NaN</td>\n",
              "      <td>NaN</td>\n",
              "      <td>Marvel Comics</td>\n",
              "      <td>Good</td>\n",
              "      <td>NaN</td>\n",
              "      <td>NaN</td>\n",
              "      <td>['Annihilators', 'Asgardians', 'Avengers', 'Ne...</td>\n",
              "      <td>NaN</td>\n",
              "      <td>Male</td>\n",
              "      <td>Human</td>\n",
              "      <td>-</td>\n",
              "      <td>-</td>\n",
              "      <td>NaN</td>\n",
              "      <td>NaN</td>\n",
              "      <td>NaN</td>\n",
              "      <td>/pictures2/portraits/11/050/10038.jpg?v=156096...</td>\n",
              "      <td>0.0</td>\n",
              "      <td>0.0</td>\n",
              "      <td>0.0</td>\n",
              "      <td>0.0</td>\n",
              "      <td>0.0</td>\n",
              "      <td>0.0</td>\n",
              "      <td>0.0</td>\n",
              "      <td>0.0</td>\n",
              "      <td>...</td>\n",
              "      <td>0.0</td>\n",
              "      <td>0.0</td>\n",
              "      <td>0.0</td>\n",
              "      <td>0.0</td>\n",
              "      <td>0.0</td>\n",
              "      <td>0.0</td>\n",
              "      <td>0.0</td>\n",
              "      <td>0.0</td>\n",
              "      <td>0.0</td>\n",
              "      <td>0.0</td>\n",
              "      <td>0.0</td>\n",
              "      <td>0.0</td>\n",
              "      <td>0.0</td>\n",
              "      <td>0.0</td>\n",
              "      <td>0.0</td>\n",
              "      <td>0.0</td>\n",
              "      <td>0.0</td>\n",
              "      <td>0.0</td>\n",
              "      <td>0.0</td>\n",
              "      <td>0.0</td>\n",
              "      <td>0.0</td>\n",
              "      <td>0.0</td>\n",
              "      <td>0.0</td>\n",
              "      <td>0.0</td>\n",
              "      <td>0.0</td>\n",
              "      <td>0.0</td>\n",
              "      <td>0.0</td>\n",
              "      <td>0.0</td>\n",
              "      <td>0.0</td>\n",
              "      <td>0.0</td>\n",
              "      <td>0.0</td>\n",
              "      <td>0.0</td>\n",
              "      <td>0.0</td>\n",
              "      <td>0.0</td>\n",
              "      <td>0.0</td>\n",
              "      <td>1.0</td>\n",
              "      <td>0.0</td>\n",
              "      <td>0.0</td>\n",
              "      <td>0.0</td>\n",
              "      <td>1.0</td>\n",
              "    </tr>\n",
              "    <tr>\n",
              "      <th>1</th>\n",
              "      <td>2</td>\n",
              "      <td>A-Bomb</td>\n",
              "      <td>Richard Milhouse Jones</td>\n",
              "      <td>Richard Milhouse Jones</td>\n",
              "      <td>20</td>\n",
              "      <td>Richard \"Rick\" Jones was orphaned at a young ...</td>\n",
              "      <td>On rare occasions, and through unusual circu...</td>\n",
              "      <td>80</td>\n",
              "      <td>100</td>\n",
              "      <td>80</td>\n",
              "      <td>100</td>\n",
              "      <td>100</td>\n",
              "      <td>80</td>\n",
              "      <td>['Accelerated Healing', 'Agility', 'Berserk Mo...</td>\n",
              "      <td>[]</td>\n",
              "      <td>['Rick Jones']</td>\n",
              "      <td>Scarsdale, Arizona</td>\n",
              "      <td>Hulk Vol 2 #2 (April, 2008) (as A-Bomb)</td>\n",
              "      <td>Marvel Comics</td>\n",
              "      <td>Good</td>\n",
              "      <td>Musician, adventurer, author; formerly talk sh...</td>\n",
              "      <td>NaN</td>\n",
              "      <td>['Teen Brigade', 'Ultimate Fantastic Four', 'U...</td>\n",
              "      <td>Marlo Chandler-Jones (wife); Polly (aunt); Mrs...</td>\n",
              "      <td>Male</td>\n",
              "      <td>Human</td>\n",
              "      <td>6'8 • 203 cm</td>\n",
              "      <td>980 lb • 441 kg</td>\n",
              "      <td>Yellow</td>\n",
              "      <td>No Hair</td>\n",
              "      <td>NaN</td>\n",
              "      <td>/pictures2/portraits/10/050/10060.jpg?v=158233...</td>\n",
              "      <td>0.0</td>\n",
              "      <td>0.0</td>\n",
              "      <td>0.0</td>\n",
              "      <td>0.0</td>\n",
              "      <td>1.0</td>\n",
              "      <td>0.0</td>\n",
              "      <td>0.0</td>\n",
              "      <td>0.0</td>\n",
              "      <td>...</td>\n",
              "      <td>1.0</td>\n",
              "      <td>0.0</td>\n",
              "      <td>0.0</td>\n",
              "      <td>0.0</td>\n",
              "      <td>0.0</td>\n",
              "      <td>0.0</td>\n",
              "      <td>0.0</td>\n",
              "      <td>1.0</td>\n",
              "      <td>1.0</td>\n",
              "      <td>1.0</td>\n",
              "      <td>1.0</td>\n",
              "      <td>0.0</td>\n",
              "      <td>1.0</td>\n",
              "      <td>0.0</td>\n",
              "      <td>0.0</td>\n",
              "      <td>1.0</td>\n",
              "      <td>0.0</td>\n",
              "      <td>1.0</td>\n",
              "      <td>0.0</td>\n",
              "      <td>0.0</td>\n",
              "      <td>0.0</td>\n",
              "      <td>0.0</td>\n",
              "      <td>1.0</td>\n",
              "      <td>1.0</td>\n",
              "      <td>0.0</td>\n",
              "      <td>0.0</td>\n",
              "      <td>1.0</td>\n",
              "      <td>1.0</td>\n",
              "      <td>1.0</td>\n",
              "      <td>0.0</td>\n",
              "      <td>0.0</td>\n",
              "      <td>1.0</td>\n",
              "      <td>0.0</td>\n",
              "      <td>0.0</td>\n",
              "      <td>1.0</td>\n",
              "      <td>1.0</td>\n",
              "      <td>1.0</td>\n",
              "      <td>1.0</td>\n",
              "      <td>1.0</td>\n",
              "      <td>1.0</td>\n",
              "    </tr>\n",
              "    <tr>\n",
              "      <th>2</th>\n",
              "      <td>3</td>\n",
              "      <td>Aa</td>\n",
              "      <td>Aa</td>\n",
              "      <td>NaN</td>\n",
              "      <td>12</td>\n",
              "      <td>Aa is one of the more passive members of the P...</td>\n",
              "      <td>NaN</td>\n",
              "      <td>80</td>\n",
              "      <td>50</td>\n",
              "      <td>55</td>\n",
              "      <td>45</td>\n",
              "      <td>100</td>\n",
              "      <td>55</td>\n",
              "      <td>['Energy Absorption', 'Energy Armor', 'Energy ...</td>\n",
              "      <td>[]</td>\n",
              "      <td>['']</td>\n",
              "      <td>Stoneworld</td>\n",
              "      <td>Green Lantern Vol 3 #21</td>\n",
              "      <td>DC Comics</td>\n",
              "      <td>Good</td>\n",
              "      <td>NaN</td>\n",
              "      <td>NaN</td>\n",
              "      <td>['Blue Lantern Corps', 'Green Lantern Corps', ...</td>\n",
              "      <td>NaN</td>\n",
              "      <td>Male</td>\n",
              "      <td>Human</td>\n",
              "      <td>-</td>\n",
              "      <td>-</td>\n",
              "      <td>NaN</td>\n",
              "      <td>NaN</td>\n",
              "      <td>NaN</td>\n",
              "      <td>/pictures2/portraits/10/050/1410.jpg?v=1581168103</td>\n",
              "      <td>0.0</td>\n",
              "      <td>1.0</td>\n",
              "      <td>0.0</td>\n",
              "      <td>0.0</td>\n",
              "      <td>0.0</td>\n",
              "      <td>0.0</td>\n",
              "      <td>0.0</td>\n",
              "      <td>0.0</td>\n",
              "      <td>...</td>\n",
              "      <td>0.0</td>\n",
              "      <td>0.0</td>\n",
              "      <td>0.0</td>\n",
              "      <td>0.0</td>\n",
              "      <td>0.0</td>\n",
              "      <td>1.0</td>\n",
              "      <td>0.0</td>\n",
              "      <td>0.0</td>\n",
              "      <td>0.0</td>\n",
              "      <td>0.0</td>\n",
              "      <td>0.0</td>\n",
              "      <td>1.0</td>\n",
              "      <td>0.0</td>\n",
              "      <td>0.0</td>\n",
              "      <td>0.0</td>\n",
              "      <td>0.0</td>\n",
              "      <td>0.0</td>\n",
              "      <td>0.0</td>\n",
              "      <td>0.0</td>\n",
              "      <td>0.0</td>\n",
              "      <td>1.0</td>\n",
              "      <td>1.0</td>\n",
              "      <td>0.0</td>\n",
              "      <td>0.0</td>\n",
              "      <td>1.0</td>\n",
              "      <td>1.0</td>\n",
              "      <td>0.0</td>\n",
              "      <td>0.0</td>\n",
              "      <td>0.0</td>\n",
              "      <td>0.0</td>\n",
              "      <td>0.0</td>\n",
              "      <td>0.0</td>\n",
              "      <td>0.0</td>\n",
              "      <td>0.0</td>\n",
              "      <td>0.0</td>\n",
              "      <td>0.0</td>\n",
              "      <td>0.0</td>\n",
              "      <td>0.0</td>\n",
              "      <td>0.0</td>\n",
              "      <td>0.0</td>\n",
              "    </tr>\n",
              "    <tr>\n",
              "      <th>3</th>\n",
              "      <td>4</td>\n",
              "      <td>Aaron Cash</td>\n",
              "      <td>Aaron Cash</td>\n",
              "      <td>Aaron Cash</td>\n",
              "      <td>5</td>\n",
              "      <td>Aaron Cash is the head of security at Arkham A...</td>\n",
              "      <td>NaN</td>\n",
              "      <td>80</td>\n",
              "      <td>10</td>\n",
              "      <td>25</td>\n",
              "      <td>40</td>\n",
              "      <td>30</td>\n",
              "      <td>50</td>\n",
              "      <td>['Weapon-based Powers', 'Weapons Master']</td>\n",
              "      <td>[]</td>\n",
              "      <td>['']</td>\n",
              "      <td>Gotham City</td>\n",
              "      <td>NaN</td>\n",
              "      <td>DC Comics</td>\n",
              "      <td>Good</td>\n",
              "      <td>NaN</td>\n",
              "      <td>NaN</td>\n",
              "      <td>[]</td>\n",
              "      <td>NaN</td>\n",
              "      <td>Male</td>\n",
              "      <td>Human</td>\n",
              "      <td>-</td>\n",
              "      <td>-</td>\n",
              "      <td>NaN</td>\n",
              "      <td>NaN</td>\n",
              "      <td>NaN</td>\n",
              "      <td>/pictures2/portraits/11/050/11650.jpg?v=156173...</td>\n",
              "      <td>0.0</td>\n",
              "      <td>0.0</td>\n",
              "      <td>0.0</td>\n",
              "      <td>0.0</td>\n",
              "      <td>0.0</td>\n",
              "      <td>0.0</td>\n",
              "      <td>0.0</td>\n",
              "      <td>0.0</td>\n",
              "      <td>...</td>\n",
              "      <td>0.0</td>\n",
              "      <td>0.0</td>\n",
              "      <td>0.0</td>\n",
              "      <td>0.0</td>\n",
              "      <td>0.0</td>\n",
              "      <td>0.0</td>\n",
              "      <td>0.0</td>\n",
              "      <td>0.0</td>\n",
              "      <td>0.0</td>\n",
              "      <td>0.0</td>\n",
              "      <td>0.0</td>\n",
              "      <td>0.0</td>\n",
              "      <td>0.0</td>\n",
              "      <td>0.0</td>\n",
              "      <td>0.0</td>\n",
              "      <td>0.0</td>\n",
              "      <td>0.0</td>\n",
              "      <td>0.0</td>\n",
              "      <td>0.0</td>\n",
              "      <td>0.0</td>\n",
              "      <td>0.0</td>\n",
              "      <td>0.0</td>\n",
              "      <td>0.0</td>\n",
              "      <td>0.0</td>\n",
              "      <td>1.0</td>\n",
              "      <td>0.0</td>\n",
              "      <td>0.0</td>\n",
              "      <td>0.0</td>\n",
              "      <td>0.0</td>\n",
              "      <td>0.0</td>\n",
              "      <td>0.0</td>\n",
              "      <td>0.0</td>\n",
              "      <td>1.0</td>\n",
              "      <td>0.0</td>\n",
              "      <td>0.0</td>\n",
              "      <td>0.0</td>\n",
              "      <td>0.0</td>\n",
              "      <td>0.0</td>\n",
              "      <td>0.0</td>\n",
              "      <td>0.0</td>\n",
              "    </tr>\n",
              "    <tr>\n",
              "      <th>4</th>\n",
              "      <td>5</td>\n",
              "      <td>Aayla Secura</td>\n",
              "      <td>Aayla Secura</td>\n",
              "      <td>NaN</td>\n",
              "      <td>8</td>\n",
              "      <td>ayla Secura was a Rutian Twi'lek Jedi Knight (...</td>\n",
              "      <td>NaN</td>\n",
              "      <td>90</td>\n",
              "      <td>40</td>\n",
              "      <td>45</td>\n",
              "      <td>55</td>\n",
              "      <td>55</td>\n",
              "      <td>85</td>\n",
              "      <td>['Accelerated Healing', 'Agility', 'Astral Pro...</td>\n",
              "      <td>[]</td>\n",
              "      <td>['']</td>\n",
              "      <td>NaN</td>\n",
              "      <td>NaN</td>\n",
              "      <td>George Lucas</td>\n",
              "      <td>Good</td>\n",
              "      <td>NaN</td>\n",
              "      <td>NaN</td>\n",
              "      <td>['Jedi Order']</td>\n",
              "      <td>NaN</td>\n",
              "      <td>Female</td>\n",
              "      <td>Twi'lek</td>\n",
              "      <td>-</td>\n",
              "      <td>-</td>\n",
              "      <td>NaN</td>\n",
              "      <td>NaN</td>\n",
              "      <td>NaN</td>\n",
              "      <td>/pictures2/portraits/11/050/10891.jpg?v=156181...</td>\n",
              "      <td>0.0</td>\n",
              "      <td>0.0</td>\n",
              "      <td>0.0</td>\n",
              "      <td>0.0</td>\n",
              "      <td>0.0</td>\n",
              "      <td>0.0</td>\n",
              "      <td>0.0</td>\n",
              "      <td>0.0</td>\n",
              "      <td>...</td>\n",
              "      <td>0.0</td>\n",
              "      <td>0.0</td>\n",
              "      <td>0.0</td>\n",
              "      <td>0.0</td>\n",
              "      <td>0.0</td>\n",
              "      <td>0.0</td>\n",
              "      <td>0.0</td>\n",
              "      <td>0.0</td>\n",
              "      <td>0.0</td>\n",
              "      <td>0.0</td>\n",
              "      <td>0.0</td>\n",
              "      <td>0.0</td>\n",
              "      <td>0.0</td>\n",
              "      <td>0.0</td>\n",
              "      <td>0.0</td>\n",
              "      <td>0.0</td>\n",
              "      <td>0.0</td>\n",
              "      <td>0.0</td>\n",
              "      <td>0.0</td>\n",
              "      <td>0.0</td>\n",
              "      <td>0.0</td>\n",
              "      <td>0.0</td>\n",
              "      <td>0.0</td>\n",
              "      <td>0.0</td>\n",
              "      <td>0.0</td>\n",
              "      <td>0.0</td>\n",
              "      <td>0.0</td>\n",
              "      <td>0.0</td>\n",
              "      <td>0.0</td>\n",
              "      <td>0.0</td>\n",
              "      <td>0.0</td>\n",
              "      <td>1.0</td>\n",
              "      <td>0.0</td>\n",
              "      <td>0.0</td>\n",
              "      <td>0.0</td>\n",
              "      <td>0.0</td>\n",
              "      <td>0.0</td>\n",
              "      <td>0.0</td>\n",
              "      <td>1.0</td>\n",
              "      <td>0.0</td>\n",
              "    </tr>\n",
              "  </tbody>\n",
              "</table>\n",
              "<p>5 rows × 82 columns</p>\n",
              "</div>"
            ],
            "text/plain": [
              "   Unnamed: 0          name  ... has_agility has_super_strength\n",
              "0           0       3-D Man  ...         0.0                1.0\n",
              "1           2        A-Bomb  ...         1.0                1.0\n",
              "2           3            Aa  ...         0.0                0.0\n",
              "3           4    Aaron Cash  ...         0.0                0.0\n",
              "4           5  Aayla Secura  ...         1.0                0.0\n",
              "\n",
              "[5 rows x 82 columns]"
            ]
          },
          "metadata": {},
          "execution_count": 6
        }
      ]
    },
    {
      "cell_type": "markdown",
      "metadata": {
        "cell_id": "00013-00e51eac-6169-4978-9714-ee8c7a8f55b8",
        "deepnote_cell_type": "markdown",
        "id": "i4tFPrFA4_O5"
      },
      "source": [
        "## 1.1 Obtención de Features y Bag of Words\n",
        "\n",
        "<p align=\"center\">\n",
        "  <img src=\"https://media0.giphy.com/media/eIUpSyzwGp0YhAMTKr/200.gif\" width=\"300\">\n",
        "</p>"
      ]
    },
    {
      "cell_type": "markdown",
      "metadata": {
        "cell_id": "00014-528c8f39-a27a-40e0-8de0-0cc7f362b4ae",
        "deepnote_cell_type": "markdown",
        "id": "f_4NF0_V5XZ-"
      },
      "source": [
        "Primero que todo, deben obtener un vector de características del atributo `history_text`, utilizando `bag of words`. En este atributo se presenta una breve descripción de la historia de cada uno de los personajes de ficción presentes en el dataset. \n",
        "\n",
        "Pero... antes de empezar, ¿Que es `bag of words`?...\n",
        "\n",
        "`bag of words` es un modelo de conteo utilizado en Procesamiento de Lenguaje Natural (NLP) que tiene como objetivo generar una representación vectorial (vector de características en nuestro cas) para cada documento a través del conteo de las palabras que contienen. \n",
        "\n",
        "La siguiente figura muestra un ejemplo de `bag of words` en acción:\n",
        "\n",
        "<p align=\"center\">\n",
        "  <img src=\"https://user.oc-static.com/upload/2020/10/23/16034397439042_surfin%20bird%20bow.png\" width=\"500\">\n",
        "</p>\n",
        "\n",
        "Como pueden ver, el modelo de `bag of words` no resulta tan complicado, ¿pero cómo lo aplicamos en python?. \n",
        "\n",
        "Como podrán darse cuenta del ejemplo anterior, para facilitar el conteo será necesario transformar cada uno de los documentos en vectores, donde cada una de las posiciones posee un carácter. Este proceso es conocido como **tokenización** y lo podemos realizar de la siguiente forma:"
      ]
    },
    {
      "cell_type": "code",
      "metadata": {
        "cell_id": "00015-5924cc55-1587-4776-8c5e-cb400ddacaa3",
        "deepnote_cell_type": "code",
        "deepnote_output_heights": [
          40.399993896484375
        ],
        "deepnote_to_be_reexecuted": false,
        "execution_millis": 8,
        "execution_start": 1637346921830,
        "source_hash": "57e4888a",
        "tags": [],
        "id": "sA84dUx0jROT",
        "colab": {
          "base_uri": "https://localhost:8080/"
        },
        "outputId": "86392d14-2c72-4660-c9cb-3671e255e3d3"
      },
      "source": [
        "docs = ['The teacher rocks like a good rock & roll',\n",
        "             'the rock is the best actor in the world']\n",
        "\n",
        "\n",
        "docs_tokenizados = [word_tokenize(doc)  for doc in docs]\n",
        "docs_tokenizados"
      ],
      "execution_count": 7,
      "outputs": [
        {
          "output_type": "execute_result",
          "data": {
            "text/plain": [
              "[['The', 'teacher', 'rocks', 'like', 'a', 'good', 'rock', '&', 'roll'],\n",
              " ['the', 'rock', 'is', 'the', 'best', 'actor', 'in', 'the', 'world']]"
            ]
          },
          "metadata": {},
          "execution_count": 7
        }
      ]
    },
    {
      "cell_type": "markdown",
      "metadata": {
        "cell_id": "00016-649b0384-cac3-4b79-93ff-75aac3b8c5df",
        "deepnote_cell_type": "markdown",
        "tags": [],
        "id": "1DY6ncUxjROU"
      },
      "source": [
        "Podemos mejorar un poco más el proceso de tokenización agregando \n",
        "\n",
        "- Stemming:  Definimos Stemming como un algoritmo basado en reglas que transforma las palabras a una forma general. Un ejemplo de stemming, es el siguiente:\n",
        "- Eliminación de Stopwords: Eliminación de palabras muy frecuentes que entorpecen la clasificación (por ejemplo, el, la los, la, etc...)\n",
        "\n",
        "<p align=\"center\">\n",
        "  <img src=\"https://devopedia.org/images/article/218/8583.1569386710.png\" width=\"300\">\n",
        "</p>\n"
      ]
    },
    {
      "cell_type": "code",
      "metadata": {
        "cell_id": "00017-52acaa25-55d2-49ee-a6c8-49437b8d4523",
        "deepnote_cell_type": "code",
        "deepnote_output_heights": [
          null,
          59.600006103515625
        ],
        "deepnote_to_be_reexecuted": false,
        "execution_millis": 36,
        "execution_start": 1637346924545,
        "source_hash": "d7f59237",
        "tags": [],
        "id": "ynNABk1hjROU",
        "colab": {
          "base_uri": "https://localhost:8080/"
        },
        "outputId": "33e012ce-02b3-4322-e2f3-85ff0eb19be8"
      },
      "source": [
        "# Definimos algunas stopword que queremos que sean eliminadas\n",
        "import nltk\n",
        "nltk.download('stopwords')\n",
        "\n",
        "from nltk.corpus import stopwords\n",
        "\n",
        "stop_words = stopwords.words('spanish')\n",
        "\n",
        "# Definimos un tokenizador con Stemming\n",
        "class StemmerTokenizer:\n",
        "    def __init__(self):\n",
        "        self.ps = PorterStemmer()\n",
        "    def __call__(self, doc):\n",
        "        doc_tok = word_tokenize(doc)\n",
        "        doc_tok = [t for t in doc_tok if t not in stop_words]\n",
        "        return [self.ps.stem(t) for t in doc_tok]\n",
        "\n",
        "# Inicializamos tokenizador\n",
        "tokenizador = StemmerTokenizer()\n",
        "\n",
        "# Creamos algunos documentos\n",
        "docs = ['The teacher rocks like a good rock & roll',\n",
        "        'the rock is the best actor in the world',\n",
        "        'New York is a beautiful city']\n",
        "\n",
        "# Obtenemos el token del primer documento\n",
        "[tokenizador(doc) for doc in docs]"
      ],
      "execution_count": 8,
      "outputs": [
        {
          "output_type": "stream",
          "name": "stdout",
          "text": [
            "[nltk_data] Downloading package stopwords to /root/nltk_data...\n",
            "[nltk_data]   Package stopwords is already up-to-date!\n"
          ]
        },
        {
          "output_type": "execute_result",
          "data": {
            "text/plain": [
              "[['the', 'teacher', 'rock', 'like', 'good', 'rock', '&', 'roll'],\n",
              " ['the', 'rock', 'is', 'the', 'best', 'actor', 'in', 'the', 'world'],\n",
              " ['new', 'york', 'is', 'beauti', 'citi']]"
            ]
          },
          "metadata": {},
          "execution_count": 8
        }
      ]
    },
    {
      "cell_type": "code",
      "metadata": {
        "cell_id": "00018-03a0f079-19df-42cb-b3b9-863a9e2ecb7a",
        "deepnote_cell_type": "code",
        "deepnote_output_heights": [
          59.600006103515625
        ],
        "deepnote_to_be_reexecuted": false,
        "execution_millis": 13,
        "execution_start": 1637346927213,
        "source_hash": "2503a9b4",
        "tags": [],
        "id": "2yarkkLDjROU",
        "colab": {
          "base_uri": "https://localhost:8080/"
        },
        "outputId": "b6b3a599-1ccc-4c61-fcc2-0f853199cfdd"
      },
      "source": [
        "# Comparación con el caso anterior\n",
        "docs_tokenizados = [word_tokenize(doc) for doc in docs]\n",
        "docs_tokenizados"
      ],
      "execution_count": 9,
      "outputs": [
        {
          "output_type": "execute_result",
          "data": {
            "text/plain": [
              "[['The', 'teacher', 'rocks', 'like', 'a', 'good', 'rock', '&', 'roll'],\n",
              " ['the', 'rock', 'is', 'the', 'best', 'actor', 'in', 'the', 'world'],\n",
              " ['New', 'York', 'is', 'a', 'beautiful', 'city']]"
            ]
          },
          "metadata": {},
          "execution_count": 9
        }
      ]
    },
    {
      "cell_type": "markdown",
      "metadata": {
        "cell_id": "00019-3f862033-7b4e-4623-b17f-545b988af69b",
        "deepnote_cell_type": "markdown",
        "tags": [],
        "id": "riGlJaTdjROV"
      },
      "source": [
        "#### Al Estilo Scikit\n",
        "\n",
        "Scikit implementa `bag of words` a través de la clase `CountVectorizer()` la cual contiene muchas opciones para mejorar la tokenización."
      ]
    },
    {
      "cell_type": "code",
      "metadata": {
        "cell_id": "00020-721a6ba0-0990-4436-9de5-4b4b53c5ff79",
        "deepnote_cell_type": "code",
        "deepnote_output_heights": [
          98,
          40.390625
        ],
        "deepnote_to_be_reexecuted": false,
        "execution_millis": 152,
        "execution_start": 1637346927803,
        "source_hash": "2bc7124d",
        "tags": [],
        "id": "0KfL6JLCjROV",
        "colab": {
          "base_uri": "https://localhost:8080/",
          "height": 198
        },
        "outputId": "6e3b0def-88b6-45c8-8a88-ae464dc3fe51"
      },
      "source": [
        "bow = CountVectorizer(tokenizer= StemmerTokenizer())\n",
        "df = bow.fit_transform(docs)\n",
        "\n",
        "pd.DataFrame(df.toarray(), columns=bow.get_feature_names())"
      ],
      "execution_count": 10,
      "outputs": [
        {
          "output_type": "stream",
          "name": "stderr",
          "text": [
            "/usr/local/lib/python3.7/dist-packages/sklearn/utils/deprecation.py:87: FutureWarning: Function get_feature_names is deprecated; get_feature_names is deprecated in 1.0 and will be removed in 1.2. Please use get_feature_names_out instead.\n",
            "  warnings.warn(msg, category=FutureWarning)\n"
          ]
        },
        {
          "output_type": "execute_result",
          "data": {
            "text/html": [
              "<div>\n",
              "<style scoped>\n",
              "    .dataframe tbody tr th:only-of-type {\n",
              "        vertical-align: middle;\n",
              "    }\n",
              "\n",
              "    .dataframe tbody tr th {\n",
              "        vertical-align: top;\n",
              "    }\n",
              "\n",
              "    .dataframe thead th {\n",
              "        text-align: right;\n",
              "    }\n",
              "</style>\n",
              "<table border=\"1\" class=\"dataframe\">\n",
              "  <thead>\n",
              "    <tr style=\"text-align: right;\">\n",
              "      <th></th>\n",
              "      <th>&amp;</th>\n",
              "      <th>actor</th>\n",
              "      <th>beauti</th>\n",
              "      <th>best</th>\n",
              "      <th>citi</th>\n",
              "      <th>good</th>\n",
              "      <th>in</th>\n",
              "      <th>is</th>\n",
              "      <th>like</th>\n",
              "      <th>new</th>\n",
              "      <th>rock</th>\n",
              "      <th>roll</th>\n",
              "      <th>teacher</th>\n",
              "      <th>the</th>\n",
              "      <th>world</th>\n",
              "      <th>york</th>\n",
              "    </tr>\n",
              "  </thead>\n",
              "  <tbody>\n",
              "    <tr>\n",
              "      <th>0</th>\n",
              "      <td>1</td>\n",
              "      <td>0</td>\n",
              "      <td>0</td>\n",
              "      <td>0</td>\n",
              "      <td>0</td>\n",
              "      <td>1</td>\n",
              "      <td>0</td>\n",
              "      <td>0</td>\n",
              "      <td>1</td>\n",
              "      <td>0</td>\n",
              "      <td>2</td>\n",
              "      <td>1</td>\n",
              "      <td>1</td>\n",
              "      <td>1</td>\n",
              "      <td>0</td>\n",
              "      <td>0</td>\n",
              "    </tr>\n",
              "    <tr>\n",
              "      <th>1</th>\n",
              "      <td>0</td>\n",
              "      <td>1</td>\n",
              "      <td>0</td>\n",
              "      <td>1</td>\n",
              "      <td>0</td>\n",
              "      <td>0</td>\n",
              "      <td>1</td>\n",
              "      <td>1</td>\n",
              "      <td>0</td>\n",
              "      <td>0</td>\n",
              "      <td>1</td>\n",
              "      <td>0</td>\n",
              "      <td>0</td>\n",
              "      <td>3</td>\n",
              "      <td>1</td>\n",
              "      <td>0</td>\n",
              "    </tr>\n",
              "    <tr>\n",
              "      <th>2</th>\n",
              "      <td>0</td>\n",
              "      <td>0</td>\n",
              "      <td>1</td>\n",
              "      <td>0</td>\n",
              "      <td>1</td>\n",
              "      <td>0</td>\n",
              "      <td>0</td>\n",
              "      <td>1</td>\n",
              "      <td>0</td>\n",
              "      <td>1</td>\n",
              "      <td>0</td>\n",
              "      <td>0</td>\n",
              "      <td>0</td>\n",
              "      <td>0</td>\n",
              "      <td>0</td>\n",
              "      <td>1</td>\n",
              "    </tr>\n",
              "  </tbody>\n",
              "</table>\n",
              "</div>"
            ],
            "text/plain": [
              "   &  actor  beauti  best  citi  good  ...  rock  roll  teacher  the  world  york\n",
              "0  1      0       0     0     0     1  ...     2     1        1    1      0     0\n",
              "1  0      1       0     1     0     0  ...     1     0        0    3      1     0\n",
              "2  0      0       1     0     1     0  ...     0     0        0    0      0     1\n",
              "\n",
              "[3 rows x 16 columns]"
            ]
          },
          "metadata": {},
          "execution_count": 10
        }
      ]
    },
    {
      "cell_type": "markdown",
      "metadata": {
        "cell_id": "00021-b3e721d0-6b1f-4f91-aef8-7b04028286fe",
        "deepnote_cell_type": "markdown",
        "tags": [],
        "id": "NaYaGOcFjROV"
      },
      "source": [
        "Una de las cosas más interesantes que provee son el use de n-gramas, los cuales, en palabras simples, son conjuntos de n-palabras que se concatenan entre si y que se consideran como tokens separados. \n",
        "\n",
        "Pensemos en `Nueva York`. Cuando se tokeniza Nueva York, se generan dos tokens independientes que a simple vista no tienen relación: `Nueva` `York`.\n",
        "Al usar n-gramas (en un rango min=1,max=2) , generamos tanto `Nueva` y `York` como también `Nueva York` como un token independiente."
      ]
    },
    {
      "cell_type": "code",
      "metadata": {
        "cell_id": "00022-a7abf0fb-cbf2-4745-a96a-dcad9d4bc00f",
        "deepnote_cell_type": "code",
        "deepnote_to_be_reexecuted": false,
        "execution_millis": 241,
        "execution_start": 1637346930092,
        "source_hash": "6af25c7e",
        "tags": [],
        "id": "tHB1SQK4jROV",
        "colab": {
          "base_uri": "https://localhost:8080/",
          "height": 216
        },
        "outputId": "764f339f-0a55-4b7d-8a73-9b3c3accabf3"
      },
      "source": [
        "bow = CountVectorizer(tokenizer= StemmerTokenizer(), ngram_range=(1,2))\n",
        "df = bow.fit_transform(docs)\n",
        "\n",
        "pd.DataFrame(df.toarray(), columns=bow.get_feature_names())"
      ],
      "execution_count": 11,
      "outputs": [
        {
          "output_type": "stream",
          "name": "stderr",
          "text": [
            "/usr/local/lib/python3.7/dist-packages/sklearn/utils/deprecation.py:87: FutureWarning: Function get_feature_names is deprecated; get_feature_names is deprecated in 1.0 and will be removed in 1.2. Please use get_feature_names_out instead.\n",
            "  warnings.warn(msg, category=FutureWarning)\n"
          ]
        },
        {
          "output_type": "execute_result",
          "data": {
            "text/html": [
              "<div>\n",
              "<style scoped>\n",
              "    .dataframe tbody tr th:only-of-type {\n",
              "        vertical-align: middle;\n",
              "    }\n",
              "\n",
              "    .dataframe tbody tr th {\n",
              "        vertical-align: top;\n",
              "    }\n",
              "\n",
              "    .dataframe thead th {\n",
              "        text-align: right;\n",
              "    }\n",
              "</style>\n",
              "<table border=\"1\" class=\"dataframe\">\n",
              "  <thead>\n",
              "    <tr style=\"text-align: right;\">\n",
              "      <th></th>\n",
              "      <th>&amp;</th>\n",
              "      <th>&amp; roll</th>\n",
              "      <th>actor</th>\n",
              "      <th>actor in</th>\n",
              "      <th>beauti</th>\n",
              "      <th>beauti citi</th>\n",
              "      <th>best</th>\n",
              "      <th>best actor</th>\n",
              "      <th>citi</th>\n",
              "      <th>good</th>\n",
              "      <th>good rock</th>\n",
              "      <th>in</th>\n",
              "      <th>in the</th>\n",
              "      <th>is</th>\n",
              "      <th>is beauti</th>\n",
              "      <th>is the</th>\n",
              "      <th>like</th>\n",
              "      <th>like good</th>\n",
              "      <th>new</th>\n",
              "      <th>new york</th>\n",
              "      <th>rock</th>\n",
              "      <th>rock &amp;</th>\n",
              "      <th>rock is</th>\n",
              "      <th>rock like</th>\n",
              "      <th>roll</th>\n",
              "      <th>teacher</th>\n",
              "      <th>teacher rock</th>\n",
              "      <th>the</th>\n",
              "      <th>the best</th>\n",
              "      <th>the rock</th>\n",
              "      <th>the teacher</th>\n",
              "      <th>the world</th>\n",
              "      <th>world</th>\n",
              "      <th>york</th>\n",
              "      <th>york is</th>\n",
              "    </tr>\n",
              "  </thead>\n",
              "  <tbody>\n",
              "    <tr>\n",
              "      <th>0</th>\n",
              "      <td>1</td>\n",
              "      <td>1</td>\n",
              "      <td>0</td>\n",
              "      <td>0</td>\n",
              "      <td>0</td>\n",
              "      <td>0</td>\n",
              "      <td>0</td>\n",
              "      <td>0</td>\n",
              "      <td>0</td>\n",
              "      <td>1</td>\n",
              "      <td>1</td>\n",
              "      <td>0</td>\n",
              "      <td>0</td>\n",
              "      <td>0</td>\n",
              "      <td>0</td>\n",
              "      <td>0</td>\n",
              "      <td>1</td>\n",
              "      <td>1</td>\n",
              "      <td>0</td>\n",
              "      <td>0</td>\n",
              "      <td>2</td>\n",
              "      <td>1</td>\n",
              "      <td>0</td>\n",
              "      <td>1</td>\n",
              "      <td>1</td>\n",
              "      <td>1</td>\n",
              "      <td>1</td>\n",
              "      <td>1</td>\n",
              "      <td>0</td>\n",
              "      <td>0</td>\n",
              "      <td>1</td>\n",
              "      <td>0</td>\n",
              "      <td>0</td>\n",
              "      <td>0</td>\n",
              "      <td>0</td>\n",
              "    </tr>\n",
              "    <tr>\n",
              "      <th>1</th>\n",
              "      <td>0</td>\n",
              "      <td>0</td>\n",
              "      <td>1</td>\n",
              "      <td>1</td>\n",
              "      <td>0</td>\n",
              "      <td>0</td>\n",
              "      <td>1</td>\n",
              "      <td>1</td>\n",
              "      <td>0</td>\n",
              "      <td>0</td>\n",
              "      <td>0</td>\n",
              "      <td>1</td>\n",
              "      <td>1</td>\n",
              "      <td>1</td>\n",
              "      <td>0</td>\n",
              "      <td>1</td>\n",
              "      <td>0</td>\n",
              "      <td>0</td>\n",
              "      <td>0</td>\n",
              "      <td>0</td>\n",
              "      <td>1</td>\n",
              "      <td>0</td>\n",
              "      <td>1</td>\n",
              "      <td>0</td>\n",
              "      <td>0</td>\n",
              "      <td>0</td>\n",
              "      <td>0</td>\n",
              "      <td>3</td>\n",
              "      <td>1</td>\n",
              "      <td>1</td>\n",
              "      <td>0</td>\n",
              "      <td>1</td>\n",
              "      <td>1</td>\n",
              "      <td>0</td>\n",
              "      <td>0</td>\n",
              "    </tr>\n",
              "    <tr>\n",
              "      <th>2</th>\n",
              "      <td>0</td>\n",
              "      <td>0</td>\n",
              "      <td>0</td>\n",
              "      <td>0</td>\n",
              "      <td>1</td>\n",
              "      <td>1</td>\n",
              "      <td>0</td>\n",
              "      <td>0</td>\n",
              "      <td>1</td>\n",
              "      <td>0</td>\n",
              "      <td>0</td>\n",
              "      <td>0</td>\n",
              "      <td>0</td>\n",
              "      <td>1</td>\n",
              "      <td>1</td>\n",
              "      <td>0</td>\n",
              "      <td>0</td>\n",
              "      <td>0</td>\n",
              "      <td>1</td>\n",
              "      <td>1</td>\n",
              "      <td>0</td>\n",
              "      <td>0</td>\n",
              "      <td>0</td>\n",
              "      <td>0</td>\n",
              "      <td>0</td>\n",
              "      <td>0</td>\n",
              "      <td>0</td>\n",
              "      <td>0</td>\n",
              "      <td>0</td>\n",
              "      <td>0</td>\n",
              "      <td>0</td>\n",
              "      <td>0</td>\n",
              "      <td>0</td>\n",
              "      <td>1</td>\n",
              "      <td>1</td>\n",
              "    </tr>\n",
              "  </tbody>\n",
              "</table>\n",
              "</div>"
            ],
            "text/plain": [
              "   &  & roll  actor  actor in  ...  the world  world  york  york is\n",
              "0  1       1      0         0  ...          0      0     0        0\n",
              "1  0       0      1         1  ...          1      1     0        0\n",
              "2  0       0      0         0  ...          0      0     1        1\n",
              "\n",
              "[3 rows x 35 columns]"
            ]
          },
          "metadata": {},
          "execution_count": 11
        }
      ]
    },
    {
      "cell_type": "markdown",
      "metadata": {
        "cell_id": "00023-55bca23d-f3d4-4f39-ae9d-e8810b522c79",
        "deepnote_cell_type": "markdown",
        "tags": [],
        "id": "Io3DjqJ-jROW"
      },
      "source": [
        "De los resultados, podemos ver que generamos vectores de conteo para cada una de las palabras que conforman el corpus.  Un punto extra que se agrega en esta obtención de frecuencias son los bigramas, que básicamente son el conjunto de palabras de tamaño de aparecen juntas en el texto."
      ]
    },
    {
      "cell_type": "markdown",
      "metadata": {
        "cell_id": "00024-231f49a8-163f-457d-b933-9e5dad0e1e29",
        "deepnote_cell_type": "markdown",
        "tags": [],
        "id": "xXIlspjZjROW"
      },
      "source": [
        "## Codificando los Super{heroes, villanos}  [0.5 Puntos]\n",
        "\n",
        "<p align=\"center\">\n",
        "  <img src=\"https://c.tenor.com/LkQzw7k5DV4AAAAd/anime-hacking.gif\" width=\"300\">\n",
        "</p>\n",
        "\n",
        "Conociendo ahora que es el proceso de `bag of words`, aplique este modelo de obtención de caracteristicas de la siguiente forma en un pipeline:\n",
        "\n",
        "- Utilice el tokenizador entregado.\n",
        "- Obtenga caracteristicas de los unigramas y bigramas del texto (tal como el ejemplo).\n",
        "\n",
        "```python\n",
        "bog = CountVectorizer(tokenizer= StemmerTokenizer(),`\n",
        "                      ngram_range=(1,2) # Este punto es opcional y es para generar bigramas\n",
        "                      )\n",
        "```"
      ]
    },
    {
      "cell_type": "markdown",
      "metadata": {
        "cell_id": "00025-145bb273-d73c-4ad1-8b84-46327add3a2e",
        "deepnote_cell_type": "markdown",
        "tags": [],
        "id": "8F_on5RSjROW"
      },
      "source": [
        "Finalmente, aplique `MinMaxScaler()` sobre `atributos_de_interes` y concatene el valor obtenido con el matriz de caracteristicas obtenidas con bag of words.\n",
        "\n",
        "```python\n",
        "atributos_de_interes = ['intelligence_score', 'strength_score', 'speed_score', 'durability_score', 'power_score', 'combat_score']\n",
        "```\n",
        "\n",
        "No es necesario que obtenga un dataframe en concreto con las características solicitadas. Se le recomienda generar un `ColumnTransformer()` para aplicar las transformaciones solicitadas en un pipeline.\n",
        "\n",
        "**To-Do:**\n",
        "- [ ] Obtener a traves de bag of words caracteristicas del resumen de historia de cada personaje.\n",
        "- [ ] Aplicar MinMaxScaler sobre los atributos de interes."
      ]
    },
    {
      "cell_type": "markdown",
      "metadata": {
        "cell_id": "00026-b13521a0-adf9-4c19-893e-ba6ed644ca12",
        "deepnote_cell_type": "markdown",
        "tags": [],
        "id": "3HafMlMJjROW"
      },
      "source": [
        "**Respuesta:**"
      ]
    },
    {
      "cell_type": "code",
      "metadata": {
        "cell_id": "00026-898e0ee0-748d-4dac-bfc5-d72f4fe21827",
        "deepnote_cell_type": "code",
        "id": "ay080DunHcOS"
      },
      "source": [
        "from sklearn.compose import ColumnTransformer\n",
        "from sklearn.pipeline import Pipeline\n",
        "from sklearn.preprocessing import StandardScaler"
      ],
      "execution_count": 12,
      "outputs": []
    },
    {
      "cell_type": "code",
      "metadata": {
        "id": "eGcQaqjUjROX"
      },
      "source": [
        "preprocessing_transformer = ColumnTransformer(\n",
        "    transformers=[\n",
        "        ('bow', CountVectorizer(tokenizer= StemmerTokenizer(),ngram_range=(1,2)),'history_text'),\n",
        "        ('scaler', MinMaxScaler(),['intelligence_score', 'strength_score', 'speed_score', 'durability_score', 'power_score', 'combat_score'])])\n"
      ],
      "execution_count": 13,
      "outputs": []
    },
    {
      "cell_type": "code",
      "metadata": {
        "id": "sIDkDBF6jROX"
      },
      "source": [
        "pipe = Pipeline([('Preprocessing', preprocessing_transformer)])"
      ],
      "execution_count": 14,
      "outputs": []
    },
    {
      "cell_type": "code",
      "metadata": {
        "id": "QXUTZDnYjROX",
        "colab": {
          "base_uri": "https://localhost:8080/"
        },
        "outputId": "bc5301b2-fc40-4909-db51-536f0f9f0771"
      },
      "source": [
        "df_preprocesado = pipe.fit_transform(df_comics)\n",
        "df_preprocesado"
      ],
      "execution_count": 15,
      "outputs": [
        {
          "output_type": "execute_result",
          "data": {
            "text/plain": [
              "<1285x307731 sparse matrix of type '<class 'numpy.float64'>'\n",
              "\twith 1068157 stored elements in Compressed Sparse Row format>"
            ]
          },
          "metadata": {},
          "execution_count": 15
        }
      ]
    },
    {
      "cell_type": "code",
      "metadata": {
        "id": "MmjTWlQzjROX",
        "colab": {
          "base_uri": "https://localhost:8080/",
          "height": 444
        },
        "outputId": "03a927f0-aaef-4d27-b2ee-f96567c6e819"
      },
      "source": [
        "df_preprocesado = pd.DataFrame(df_preprocesado.toarray())\n",
        "df_preprocesado"
      ],
      "execution_count": 16,
      "outputs": [
        {
          "output_type": "execute_result",
          "data": {
            "text/html": [
              "<div>\n",
              "<style scoped>\n",
              "    .dataframe tbody tr th:only-of-type {\n",
              "        vertical-align: middle;\n",
              "    }\n",
              "\n",
              "    .dataframe tbody tr th {\n",
              "        vertical-align: top;\n",
              "    }\n",
              "\n",
              "    .dataframe thead th {\n",
              "        text-align: right;\n",
              "    }\n",
              "</style>\n",
              "<table border=\"1\" class=\"dataframe\">\n",
              "  <thead>\n",
              "    <tr style=\"text-align: right;\">\n",
              "      <th></th>\n",
              "      <th>0</th>\n",
              "      <th>1</th>\n",
              "      <th>2</th>\n",
              "      <th>3</th>\n",
              "      <th>4</th>\n",
              "      <th>5</th>\n",
              "      <th>6</th>\n",
              "      <th>7</th>\n",
              "      <th>8</th>\n",
              "      <th>9</th>\n",
              "      <th>10</th>\n",
              "      <th>11</th>\n",
              "      <th>12</th>\n",
              "      <th>13</th>\n",
              "      <th>14</th>\n",
              "      <th>15</th>\n",
              "      <th>16</th>\n",
              "      <th>17</th>\n",
              "      <th>18</th>\n",
              "      <th>19</th>\n",
              "      <th>20</th>\n",
              "      <th>21</th>\n",
              "      <th>22</th>\n",
              "      <th>23</th>\n",
              "      <th>24</th>\n",
              "      <th>25</th>\n",
              "      <th>26</th>\n",
              "      <th>27</th>\n",
              "      <th>28</th>\n",
              "      <th>29</th>\n",
              "      <th>30</th>\n",
              "      <th>31</th>\n",
              "      <th>32</th>\n",
              "      <th>33</th>\n",
              "      <th>34</th>\n",
              "      <th>35</th>\n",
              "      <th>36</th>\n",
              "      <th>37</th>\n",
              "      <th>38</th>\n",
              "      <th>39</th>\n",
              "      <th>...</th>\n",
              "      <th>307691</th>\n",
              "      <th>307692</th>\n",
              "      <th>307693</th>\n",
              "      <th>307694</th>\n",
              "      <th>307695</th>\n",
              "      <th>307696</th>\n",
              "      <th>307697</th>\n",
              "      <th>307698</th>\n",
              "      <th>307699</th>\n",
              "      <th>307700</th>\n",
              "      <th>307701</th>\n",
              "      <th>307702</th>\n",
              "      <th>307703</th>\n",
              "      <th>307704</th>\n",
              "      <th>307705</th>\n",
              "      <th>307706</th>\n",
              "      <th>307707</th>\n",
              "      <th>307708</th>\n",
              "      <th>307709</th>\n",
              "      <th>307710</th>\n",
              "      <th>307711</th>\n",
              "      <th>307712</th>\n",
              "      <th>307713</th>\n",
              "      <th>307714</th>\n",
              "      <th>307715</th>\n",
              "      <th>307716</th>\n",
              "      <th>307717</th>\n",
              "      <th>307718</th>\n",
              "      <th>307719</th>\n",
              "      <th>307720</th>\n",
              "      <th>307721</th>\n",
              "      <th>307722</th>\n",
              "      <th>307723</th>\n",
              "      <th>307724</th>\n",
              "      <th>307725</th>\n",
              "      <th>307726</th>\n",
              "      <th>307727</th>\n",
              "      <th>307728</th>\n",
              "      <th>307729</th>\n",
              "      <th>307730</th>\n",
              "    </tr>\n",
              "  </thead>\n",
              "  <tbody>\n",
              "    <tr>\n",
              "      <th>0</th>\n",
              "      <td>0.0</td>\n",
              "      <td>0.0</td>\n",
              "      <td>0.0</td>\n",
              "      <td>0.0</td>\n",
              "      <td>0.0</td>\n",
              "      <td>0.0</td>\n",
              "      <td>0.0</td>\n",
              "      <td>0.0</td>\n",
              "      <td>0.0</td>\n",
              "      <td>0.0</td>\n",
              "      <td>0.0</td>\n",
              "      <td>0.0</td>\n",
              "      <td>0.0</td>\n",
              "      <td>0.0</td>\n",
              "      <td>0.0</td>\n",
              "      <td>0.0</td>\n",
              "      <td>0.0</td>\n",
              "      <td>0.0</td>\n",
              "      <td>0.0</td>\n",
              "      <td>0.0</td>\n",
              "      <td>0.0</td>\n",
              "      <td>0.0</td>\n",
              "      <td>0.0</td>\n",
              "      <td>0.0</td>\n",
              "      <td>0.0</td>\n",
              "      <td>0.0</td>\n",
              "      <td>0.0</td>\n",
              "      <td>0.0</td>\n",
              "      <td>0.0</td>\n",
              "      <td>0.0</td>\n",
              "      <td>0.0</td>\n",
              "      <td>0.0</td>\n",
              "      <td>0.0</td>\n",
              "      <td>0.0</td>\n",
              "      <td>0.0</td>\n",
              "      <td>0.0</td>\n",
              "      <td>0.0</td>\n",
              "      <td>0.0</td>\n",
              "      <td>0.0</td>\n",
              "      <td>0.0</td>\n",
              "      <td>...</td>\n",
              "      <td>0.0</td>\n",
              "      <td>0.0</td>\n",
              "      <td>0.0</td>\n",
              "      <td>0.0</td>\n",
              "      <td>0.0</td>\n",
              "      <td>0.0</td>\n",
              "      <td>0.0</td>\n",
              "      <td>0.0</td>\n",
              "      <td>0.0</td>\n",
              "      <td>0.0</td>\n",
              "      <td>0.0</td>\n",
              "      <td>0.0</td>\n",
              "      <td>0.0</td>\n",
              "      <td>0.0</td>\n",
              "      <td>0.0</td>\n",
              "      <td>0.0</td>\n",
              "      <td>0.0</td>\n",
              "      <td>0.0</td>\n",
              "      <td>0.0</td>\n",
              "      <td>0.0</td>\n",
              "      <td>0.0</td>\n",
              "      <td>0.0</td>\n",
              "      <td>0.0</td>\n",
              "      <td>0.0</td>\n",
              "      <td>0.0</td>\n",
              "      <td>0.0</td>\n",
              "      <td>0.0</td>\n",
              "      <td>0.0</td>\n",
              "      <td>0.0</td>\n",
              "      <td>0.0</td>\n",
              "      <td>0.0</td>\n",
              "      <td>0.0</td>\n",
              "      <td>0.0</td>\n",
              "      <td>0.0</td>\n",
              "      <td>0.85</td>\n",
              "      <td>0.3</td>\n",
              "      <td>0.60</td>\n",
              "      <td>0.60</td>\n",
              "      <td>0.40</td>\n",
              "      <td>0.70</td>\n",
              "    </tr>\n",
              "    <tr>\n",
              "      <th>1</th>\n",
              "      <td>0.0</td>\n",
              "      <td>0.0</td>\n",
              "      <td>0.0</td>\n",
              "      <td>0.0</td>\n",
              "      <td>0.0</td>\n",
              "      <td>0.0</td>\n",
              "      <td>0.0</td>\n",
              "      <td>0.0</td>\n",
              "      <td>0.0</td>\n",
              "      <td>0.0</td>\n",
              "      <td>0.0</td>\n",
              "      <td>0.0</td>\n",
              "      <td>0.0</td>\n",
              "      <td>0.0</td>\n",
              "      <td>0.0</td>\n",
              "      <td>0.0</td>\n",
              "      <td>0.0</td>\n",
              "      <td>0.0</td>\n",
              "      <td>0.0</td>\n",
              "      <td>0.0</td>\n",
              "      <td>0.0</td>\n",
              "      <td>0.0</td>\n",
              "      <td>0.0</td>\n",
              "      <td>0.0</td>\n",
              "      <td>0.0</td>\n",
              "      <td>0.0</td>\n",
              "      <td>0.0</td>\n",
              "      <td>0.0</td>\n",
              "      <td>0.0</td>\n",
              "      <td>0.0</td>\n",
              "      <td>0.0</td>\n",
              "      <td>0.0</td>\n",
              "      <td>0.0</td>\n",
              "      <td>0.0</td>\n",
              "      <td>0.0</td>\n",
              "      <td>0.0</td>\n",
              "      <td>0.0</td>\n",
              "      <td>0.0</td>\n",
              "      <td>0.0</td>\n",
              "      <td>0.0</td>\n",
              "      <td>...</td>\n",
              "      <td>0.0</td>\n",
              "      <td>0.0</td>\n",
              "      <td>0.0</td>\n",
              "      <td>0.0</td>\n",
              "      <td>0.0</td>\n",
              "      <td>0.0</td>\n",
              "      <td>0.0</td>\n",
              "      <td>0.0</td>\n",
              "      <td>0.0</td>\n",
              "      <td>0.0</td>\n",
              "      <td>0.0</td>\n",
              "      <td>0.0</td>\n",
              "      <td>0.0</td>\n",
              "      <td>0.0</td>\n",
              "      <td>0.0</td>\n",
              "      <td>0.0</td>\n",
              "      <td>0.0</td>\n",
              "      <td>0.0</td>\n",
              "      <td>0.0</td>\n",
              "      <td>0.0</td>\n",
              "      <td>0.0</td>\n",
              "      <td>0.0</td>\n",
              "      <td>0.0</td>\n",
              "      <td>0.0</td>\n",
              "      <td>0.0</td>\n",
              "      <td>0.0</td>\n",
              "      <td>0.0</td>\n",
              "      <td>0.0</td>\n",
              "      <td>0.0</td>\n",
              "      <td>0.0</td>\n",
              "      <td>0.0</td>\n",
              "      <td>0.0</td>\n",
              "      <td>0.0</td>\n",
              "      <td>0.0</td>\n",
              "      <td>0.80</td>\n",
              "      <td>1.0</td>\n",
              "      <td>0.80</td>\n",
              "      <td>1.00</td>\n",
              "      <td>1.00</td>\n",
              "      <td>0.80</td>\n",
              "    </tr>\n",
              "    <tr>\n",
              "      <th>2</th>\n",
              "      <td>0.0</td>\n",
              "      <td>0.0</td>\n",
              "      <td>0.0</td>\n",
              "      <td>0.0</td>\n",
              "      <td>0.0</td>\n",
              "      <td>0.0</td>\n",
              "      <td>0.0</td>\n",
              "      <td>0.0</td>\n",
              "      <td>0.0</td>\n",
              "      <td>0.0</td>\n",
              "      <td>0.0</td>\n",
              "      <td>0.0</td>\n",
              "      <td>0.0</td>\n",
              "      <td>0.0</td>\n",
              "      <td>0.0</td>\n",
              "      <td>0.0</td>\n",
              "      <td>0.0</td>\n",
              "      <td>0.0</td>\n",
              "      <td>0.0</td>\n",
              "      <td>0.0</td>\n",
              "      <td>0.0</td>\n",
              "      <td>0.0</td>\n",
              "      <td>0.0</td>\n",
              "      <td>0.0</td>\n",
              "      <td>0.0</td>\n",
              "      <td>0.0</td>\n",
              "      <td>0.0</td>\n",
              "      <td>0.0</td>\n",
              "      <td>0.0</td>\n",
              "      <td>0.0</td>\n",
              "      <td>0.0</td>\n",
              "      <td>0.0</td>\n",
              "      <td>0.0</td>\n",
              "      <td>0.0</td>\n",
              "      <td>0.0</td>\n",
              "      <td>0.0</td>\n",
              "      <td>0.0</td>\n",
              "      <td>0.0</td>\n",
              "      <td>0.0</td>\n",
              "      <td>0.0</td>\n",
              "      <td>...</td>\n",
              "      <td>0.0</td>\n",
              "      <td>0.0</td>\n",
              "      <td>0.0</td>\n",
              "      <td>0.0</td>\n",
              "      <td>0.0</td>\n",
              "      <td>0.0</td>\n",
              "      <td>0.0</td>\n",
              "      <td>0.0</td>\n",
              "      <td>0.0</td>\n",
              "      <td>0.0</td>\n",
              "      <td>0.0</td>\n",
              "      <td>0.0</td>\n",
              "      <td>0.0</td>\n",
              "      <td>0.0</td>\n",
              "      <td>0.0</td>\n",
              "      <td>0.0</td>\n",
              "      <td>0.0</td>\n",
              "      <td>0.0</td>\n",
              "      <td>0.0</td>\n",
              "      <td>0.0</td>\n",
              "      <td>0.0</td>\n",
              "      <td>0.0</td>\n",
              "      <td>0.0</td>\n",
              "      <td>0.0</td>\n",
              "      <td>0.0</td>\n",
              "      <td>0.0</td>\n",
              "      <td>0.0</td>\n",
              "      <td>0.0</td>\n",
              "      <td>0.0</td>\n",
              "      <td>0.0</td>\n",
              "      <td>0.0</td>\n",
              "      <td>0.0</td>\n",
              "      <td>0.0</td>\n",
              "      <td>0.0</td>\n",
              "      <td>0.80</td>\n",
              "      <td>0.5</td>\n",
              "      <td>0.55</td>\n",
              "      <td>0.45</td>\n",
              "      <td>1.00</td>\n",
              "      <td>0.55</td>\n",
              "    </tr>\n",
              "    <tr>\n",
              "      <th>3</th>\n",
              "      <td>0.0</td>\n",
              "      <td>0.0</td>\n",
              "      <td>0.0</td>\n",
              "      <td>0.0</td>\n",
              "      <td>0.0</td>\n",
              "      <td>0.0</td>\n",
              "      <td>0.0</td>\n",
              "      <td>0.0</td>\n",
              "      <td>0.0</td>\n",
              "      <td>0.0</td>\n",
              "      <td>0.0</td>\n",
              "      <td>0.0</td>\n",
              "      <td>0.0</td>\n",
              "      <td>0.0</td>\n",
              "      <td>0.0</td>\n",
              "      <td>0.0</td>\n",
              "      <td>0.0</td>\n",
              "      <td>0.0</td>\n",
              "      <td>0.0</td>\n",
              "      <td>0.0</td>\n",
              "      <td>0.0</td>\n",
              "      <td>0.0</td>\n",
              "      <td>0.0</td>\n",
              "      <td>0.0</td>\n",
              "      <td>0.0</td>\n",
              "      <td>0.0</td>\n",
              "      <td>0.0</td>\n",
              "      <td>0.0</td>\n",
              "      <td>0.0</td>\n",
              "      <td>0.0</td>\n",
              "      <td>0.0</td>\n",
              "      <td>0.0</td>\n",
              "      <td>0.0</td>\n",
              "      <td>0.0</td>\n",
              "      <td>0.0</td>\n",
              "      <td>0.0</td>\n",
              "      <td>0.0</td>\n",
              "      <td>0.0</td>\n",
              "      <td>0.0</td>\n",
              "      <td>0.0</td>\n",
              "      <td>...</td>\n",
              "      <td>0.0</td>\n",
              "      <td>0.0</td>\n",
              "      <td>0.0</td>\n",
              "      <td>0.0</td>\n",
              "      <td>0.0</td>\n",
              "      <td>0.0</td>\n",
              "      <td>0.0</td>\n",
              "      <td>0.0</td>\n",
              "      <td>0.0</td>\n",
              "      <td>0.0</td>\n",
              "      <td>0.0</td>\n",
              "      <td>0.0</td>\n",
              "      <td>0.0</td>\n",
              "      <td>0.0</td>\n",
              "      <td>0.0</td>\n",
              "      <td>0.0</td>\n",
              "      <td>0.0</td>\n",
              "      <td>0.0</td>\n",
              "      <td>0.0</td>\n",
              "      <td>0.0</td>\n",
              "      <td>0.0</td>\n",
              "      <td>0.0</td>\n",
              "      <td>0.0</td>\n",
              "      <td>0.0</td>\n",
              "      <td>0.0</td>\n",
              "      <td>0.0</td>\n",
              "      <td>0.0</td>\n",
              "      <td>0.0</td>\n",
              "      <td>0.0</td>\n",
              "      <td>0.0</td>\n",
              "      <td>0.0</td>\n",
              "      <td>0.0</td>\n",
              "      <td>0.0</td>\n",
              "      <td>0.0</td>\n",
              "      <td>0.80</td>\n",
              "      <td>0.1</td>\n",
              "      <td>0.25</td>\n",
              "      <td>0.40</td>\n",
              "      <td>0.30</td>\n",
              "      <td>0.50</td>\n",
              "    </tr>\n",
              "    <tr>\n",
              "      <th>4</th>\n",
              "      <td>0.0</td>\n",
              "      <td>0.0</td>\n",
              "      <td>0.0</td>\n",
              "      <td>0.0</td>\n",
              "      <td>0.0</td>\n",
              "      <td>0.0</td>\n",
              "      <td>0.0</td>\n",
              "      <td>0.0</td>\n",
              "      <td>0.0</td>\n",
              "      <td>0.0</td>\n",
              "      <td>0.0</td>\n",
              "      <td>0.0</td>\n",
              "      <td>0.0</td>\n",
              "      <td>0.0</td>\n",
              "      <td>0.0</td>\n",
              "      <td>0.0</td>\n",
              "      <td>0.0</td>\n",
              "      <td>0.0</td>\n",
              "      <td>0.0</td>\n",
              "      <td>0.0</td>\n",
              "      <td>0.0</td>\n",
              "      <td>0.0</td>\n",
              "      <td>0.0</td>\n",
              "      <td>0.0</td>\n",
              "      <td>0.0</td>\n",
              "      <td>0.0</td>\n",
              "      <td>0.0</td>\n",
              "      <td>0.0</td>\n",
              "      <td>0.0</td>\n",
              "      <td>0.0</td>\n",
              "      <td>0.0</td>\n",
              "      <td>0.0</td>\n",
              "      <td>0.0</td>\n",
              "      <td>0.0</td>\n",
              "      <td>0.0</td>\n",
              "      <td>0.0</td>\n",
              "      <td>0.0</td>\n",
              "      <td>0.0</td>\n",
              "      <td>0.0</td>\n",
              "      <td>0.0</td>\n",
              "      <td>...</td>\n",
              "      <td>0.0</td>\n",
              "      <td>0.0</td>\n",
              "      <td>0.0</td>\n",
              "      <td>0.0</td>\n",
              "      <td>0.0</td>\n",
              "      <td>0.0</td>\n",
              "      <td>0.0</td>\n",
              "      <td>0.0</td>\n",
              "      <td>0.0</td>\n",
              "      <td>0.0</td>\n",
              "      <td>0.0</td>\n",
              "      <td>0.0</td>\n",
              "      <td>0.0</td>\n",
              "      <td>0.0</td>\n",
              "      <td>0.0</td>\n",
              "      <td>0.0</td>\n",
              "      <td>0.0</td>\n",
              "      <td>0.0</td>\n",
              "      <td>0.0</td>\n",
              "      <td>0.0</td>\n",
              "      <td>0.0</td>\n",
              "      <td>0.0</td>\n",
              "      <td>0.0</td>\n",
              "      <td>0.0</td>\n",
              "      <td>0.0</td>\n",
              "      <td>0.0</td>\n",
              "      <td>0.0</td>\n",
              "      <td>0.0</td>\n",
              "      <td>0.0</td>\n",
              "      <td>0.0</td>\n",
              "      <td>0.0</td>\n",
              "      <td>0.0</td>\n",
              "      <td>0.0</td>\n",
              "      <td>0.0</td>\n",
              "      <td>0.90</td>\n",
              "      <td>0.4</td>\n",
              "      <td>0.45</td>\n",
              "      <td>0.55</td>\n",
              "      <td>0.55</td>\n",
              "      <td>0.85</td>\n",
              "    </tr>\n",
              "    <tr>\n",
              "      <th>...</th>\n",
              "      <td>...</td>\n",
              "      <td>...</td>\n",
              "      <td>...</td>\n",
              "      <td>...</td>\n",
              "      <td>...</td>\n",
              "      <td>...</td>\n",
              "      <td>...</td>\n",
              "      <td>...</td>\n",
              "      <td>...</td>\n",
              "      <td>...</td>\n",
              "      <td>...</td>\n",
              "      <td>...</td>\n",
              "      <td>...</td>\n",
              "      <td>...</td>\n",
              "      <td>...</td>\n",
              "      <td>...</td>\n",
              "      <td>...</td>\n",
              "      <td>...</td>\n",
              "      <td>...</td>\n",
              "      <td>...</td>\n",
              "      <td>...</td>\n",
              "      <td>...</td>\n",
              "      <td>...</td>\n",
              "      <td>...</td>\n",
              "      <td>...</td>\n",
              "      <td>...</td>\n",
              "      <td>...</td>\n",
              "      <td>...</td>\n",
              "      <td>...</td>\n",
              "      <td>...</td>\n",
              "      <td>...</td>\n",
              "      <td>...</td>\n",
              "      <td>...</td>\n",
              "      <td>...</td>\n",
              "      <td>...</td>\n",
              "      <td>...</td>\n",
              "      <td>...</td>\n",
              "      <td>...</td>\n",
              "      <td>...</td>\n",
              "      <td>...</td>\n",
              "      <td>...</td>\n",
              "      <td>...</td>\n",
              "      <td>...</td>\n",
              "      <td>...</td>\n",
              "      <td>...</td>\n",
              "      <td>...</td>\n",
              "      <td>...</td>\n",
              "      <td>...</td>\n",
              "      <td>...</td>\n",
              "      <td>...</td>\n",
              "      <td>...</td>\n",
              "      <td>...</td>\n",
              "      <td>...</td>\n",
              "      <td>...</td>\n",
              "      <td>...</td>\n",
              "      <td>...</td>\n",
              "      <td>...</td>\n",
              "      <td>...</td>\n",
              "      <td>...</td>\n",
              "      <td>...</td>\n",
              "      <td>...</td>\n",
              "      <td>...</td>\n",
              "      <td>...</td>\n",
              "      <td>...</td>\n",
              "      <td>...</td>\n",
              "      <td>...</td>\n",
              "      <td>...</td>\n",
              "      <td>...</td>\n",
              "      <td>...</td>\n",
              "      <td>...</td>\n",
              "      <td>...</td>\n",
              "      <td>...</td>\n",
              "      <td>...</td>\n",
              "      <td>...</td>\n",
              "      <td>...</td>\n",
              "      <td>...</td>\n",
              "      <td>...</td>\n",
              "      <td>...</td>\n",
              "      <td>...</td>\n",
              "      <td>...</td>\n",
              "      <td>...</td>\n",
              "    </tr>\n",
              "    <tr>\n",
              "      <th>1280</th>\n",
              "      <td>0.0</td>\n",
              "      <td>0.0</td>\n",
              "      <td>0.0</td>\n",
              "      <td>0.0</td>\n",
              "      <td>0.0</td>\n",
              "      <td>0.0</td>\n",
              "      <td>0.0</td>\n",
              "      <td>0.0</td>\n",
              "      <td>0.0</td>\n",
              "      <td>0.0</td>\n",
              "      <td>0.0</td>\n",
              "      <td>0.0</td>\n",
              "      <td>0.0</td>\n",
              "      <td>0.0</td>\n",
              "      <td>0.0</td>\n",
              "      <td>0.0</td>\n",
              "      <td>0.0</td>\n",
              "      <td>0.0</td>\n",
              "      <td>0.0</td>\n",
              "      <td>0.0</td>\n",
              "      <td>0.0</td>\n",
              "      <td>0.0</td>\n",
              "      <td>0.0</td>\n",
              "      <td>0.0</td>\n",
              "      <td>0.0</td>\n",
              "      <td>0.0</td>\n",
              "      <td>0.0</td>\n",
              "      <td>0.0</td>\n",
              "      <td>0.0</td>\n",
              "      <td>0.0</td>\n",
              "      <td>0.0</td>\n",
              "      <td>0.0</td>\n",
              "      <td>0.0</td>\n",
              "      <td>0.0</td>\n",
              "      <td>0.0</td>\n",
              "      <td>0.0</td>\n",
              "      <td>0.0</td>\n",
              "      <td>0.0</td>\n",
              "      <td>0.0</td>\n",
              "      <td>0.0</td>\n",
              "      <td>...</td>\n",
              "      <td>0.0</td>\n",
              "      <td>0.0</td>\n",
              "      <td>0.0</td>\n",
              "      <td>0.0</td>\n",
              "      <td>0.0</td>\n",
              "      <td>0.0</td>\n",
              "      <td>0.0</td>\n",
              "      <td>0.0</td>\n",
              "      <td>0.0</td>\n",
              "      <td>0.0</td>\n",
              "      <td>0.0</td>\n",
              "      <td>0.0</td>\n",
              "      <td>0.0</td>\n",
              "      <td>0.0</td>\n",
              "      <td>0.0</td>\n",
              "      <td>0.0</td>\n",
              "      <td>0.0</td>\n",
              "      <td>0.0</td>\n",
              "      <td>0.0</td>\n",
              "      <td>0.0</td>\n",
              "      <td>0.0</td>\n",
              "      <td>0.0</td>\n",
              "      <td>0.0</td>\n",
              "      <td>0.0</td>\n",
              "      <td>0.0</td>\n",
              "      <td>0.0</td>\n",
              "      <td>0.0</td>\n",
              "      <td>0.0</td>\n",
              "      <td>0.0</td>\n",
              "      <td>0.0</td>\n",
              "      <td>0.0</td>\n",
              "      <td>0.0</td>\n",
              "      <td>0.0</td>\n",
              "      <td>0.0</td>\n",
              "      <td>0.90</td>\n",
              "      <td>0.1</td>\n",
              "      <td>0.25</td>\n",
              "      <td>0.30</td>\n",
              "      <td>1.00</td>\n",
              "      <td>0.55</td>\n",
              "    </tr>\n",
              "    <tr>\n",
              "      <th>1281</th>\n",
              "      <td>1.0</td>\n",
              "      <td>0.0</td>\n",
              "      <td>1.0</td>\n",
              "      <td>0.0</td>\n",
              "      <td>0.0</td>\n",
              "      <td>0.0</td>\n",
              "      <td>0.0</td>\n",
              "      <td>0.0</td>\n",
              "      <td>0.0</td>\n",
              "      <td>0.0</td>\n",
              "      <td>0.0</td>\n",
              "      <td>0.0</td>\n",
              "      <td>0.0</td>\n",
              "      <td>0.0</td>\n",
              "      <td>0.0</td>\n",
              "      <td>0.0</td>\n",
              "      <td>0.0</td>\n",
              "      <td>0.0</td>\n",
              "      <td>0.0</td>\n",
              "      <td>0.0</td>\n",
              "      <td>0.0</td>\n",
              "      <td>0.0</td>\n",
              "      <td>0.0</td>\n",
              "      <td>0.0</td>\n",
              "      <td>0.0</td>\n",
              "      <td>0.0</td>\n",
              "      <td>0.0</td>\n",
              "      <td>0.0</td>\n",
              "      <td>0.0</td>\n",
              "      <td>0.0</td>\n",
              "      <td>0.0</td>\n",
              "      <td>0.0</td>\n",
              "      <td>0.0</td>\n",
              "      <td>0.0</td>\n",
              "      <td>0.0</td>\n",
              "      <td>0.0</td>\n",
              "      <td>0.0</td>\n",
              "      <td>0.0</td>\n",
              "      <td>0.0</td>\n",
              "      <td>0.0</td>\n",
              "      <td>...</td>\n",
              "      <td>0.0</td>\n",
              "      <td>0.0</td>\n",
              "      <td>0.0</td>\n",
              "      <td>0.0</td>\n",
              "      <td>0.0</td>\n",
              "      <td>0.0</td>\n",
              "      <td>0.0</td>\n",
              "      <td>0.0</td>\n",
              "      <td>0.0</td>\n",
              "      <td>0.0</td>\n",
              "      <td>0.0</td>\n",
              "      <td>0.0</td>\n",
              "      <td>0.0</td>\n",
              "      <td>0.0</td>\n",
              "      <td>0.0</td>\n",
              "      <td>0.0</td>\n",
              "      <td>0.0</td>\n",
              "      <td>0.0</td>\n",
              "      <td>0.0</td>\n",
              "      <td>0.0</td>\n",
              "      <td>0.0</td>\n",
              "      <td>0.0</td>\n",
              "      <td>0.0</td>\n",
              "      <td>0.0</td>\n",
              "      <td>0.0</td>\n",
              "      <td>0.0</td>\n",
              "      <td>0.0</td>\n",
              "      <td>0.0</td>\n",
              "      <td>0.0</td>\n",
              "      <td>0.0</td>\n",
              "      <td>0.0</td>\n",
              "      <td>0.0</td>\n",
              "      <td>0.0</td>\n",
              "      <td>0.0</td>\n",
              "      <td>0.80</td>\n",
              "      <td>1.0</td>\n",
              "      <td>1.00</td>\n",
              "      <td>1.00</td>\n",
              "      <td>1.00</td>\n",
              "      <td>0.80</td>\n",
              "    </tr>\n",
              "    <tr>\n",
              "      <th>1282</th>\n",
              "      <td>0.0</td>\n",
              "      <td>0.0</td>\n",
              "      <td>0.0</td>\n",
              "      <td>0.0</td>\n",
              "      <td>0.0</td>\n",
              "      <td>0.0</td>\n",
              "      <td>0.0</td>\n",
              "      <td>0.0</td>\n",
              "      <td>0.0</td>\n",
              "      <td>0.0</td>\n",
              "      <td>0.0</td>\n",
              "      <td>0.0</td>\n",
              "      <td>0.0</td>\n",
              "      <td>0.0</td>\n",
              "      <td>0.0</td>\n",
              "      <td>0.0</td>\n",
              "      <td>0.0</td>\n",
              "      <td>0.0</td>\n",
              "      <td>0.0</td>\n",
              "      <td>0.0</td>\n",
              "      <td>0.0</td>\n",
              "      <td>0.0</td>\n",
              "      <td>0.0</td>\n",
              "      <td>0.0</td>\n",
              "      <td>0.0</td>\n",
              "      <td>0.0</td>\n",
              "      <td>0.0</td>\n",
              "      <td>0.0</td>\n",
              "      <td>0.0</td>\n",
              "      <td>0.0</td>\n",
              "      <td>0.0</td>\n",
              "      <td>0.0</td>\n",
              "      <td>0.0</td>\n",
              "      <td>0.0</td>\n",
              "      <td>0.0</td>\n",
              "      <td>0.0</td>\n",
              "      <td>0.0</td>\n",
              "      <td>0.0</td>\n",
              "      <td>0.0</td>\n",
              "      <td>0.0</td>\n",
              "      <td>...</td>\n",
              "      <td>0.0</td>\n",
              "      <td>0.0</td>\n",
              "      <td>0.0</td>\n",
              "      <td>0.0</td>\n",
              "      <td>0.0</td>\n",
              "      <td>0.0</td>\n",
              "      <td>0.0</td>\n",
              "      <td>0.0</td>\n",
              "      <td>0.0</td>\n",
              "      <td>0.0</td>\n",
              "      <td>0.0</td>\n",
              "      <td>0.0</td>\n",
              "      <td>0.0</td>\n",
              "      <td>0.0</td>\n",
              "      <td>0.0</td>\n",
              "      <td>0.0</td>\n",
              "      <td>0.0</td>\n",
              "      <td>0.0</td>\n",
              "      <td>0.0</td>\n",
              "      <td>0.0</td>\n",
              "      <td>0.0</td>\n",
              "      <td>0.0</td>\n",
              "      <td>0.0</td>\n",
              "      <td>0.0</td>\n",
              "      <td>0.0</td>\n",
              "      <td>0.0</td>\n",
              "      <td>0.0</td>\n",
              "      <td>0.0</td>\n",
              "      <td>0.0</td>\n",
              "      <td>0.0</td>\n",
              "      <td>0.0</td>\n",
              "      <td>0.0</td>\n",
              "      <td>0.0</td>\n",
              "      <td>0.0</td>\n",
              "      <td>0.95</td>\n",
              "      <td>0.5</td>\n",
              "      <td>1.00</td>\n",
              "      <td>0.75</td>\n",
              "      <td>1.00</td>\n",
              "      <td>0.80</td>\n",
              "    </tr>\n",
              "    <tr>\n",
              "      <th>1283</th>\n",
              "      <td>0.0</td>\n",
              "      <td>0.0</td>\n",
              "      <td>0.0</td>\n",
              "      <td>0.0</td>\n",
              "      <td>0.0</td>\n",
              "      <td>0.0</td>\n",
              "      <td>0.0</td>\n",
              "      <td>0.0</td>\n",
              "      <td>0.0</td>\n",
              "      <td>0.0</td>\n",
              "      <td>0.0</td>\n",
              "      <td>0.0</td>\n",
              "      <td>0.0</td>\n",
              "      <td>0.0</td>\n",
              "      <td>0.0</td>\n",
              "      <td>0.0</td>\n",
              "      <td>0.0</td>\n",
              "      <td>0.0</td>\n",
              "      <td>0.0</td>\n",
              "      <td>0.0</td>\n",
              "      <td>0.0</td>\n",
              "      <td>0.0</td>\n",
              "      <td>0.0</td>\n",
              "      <td>0.0</td>\n",
              "      <td>0.0</td>\n",
              "      <td>0.0</td>\n",
              "      <td>0.0</td>\n",
              "      <td>0.0</td>\n",
              "      <td>0.0</td>\n",
              "      <td>0.0</td>\n",
              "      <td>0.0</td>\n",
              "      <td>0.0</td>\n",
              "      <td>0.0</td>\n",
              "      <td>0.0</td>\n",
              "      <td>0.0</td>\n",
              "      <td>0.0</td>\n",
              "      <td>0.0</td>\n",
              "      <td>0.0</td>\n",
              "      <td>0.0</td>\n",
              "      <td>0.0</td>\n",
              "      <td>...</td>\n",
              "      <td>0.0</td>\n",
              "      <td>0.0</td>\n",
              "      <td>0.0</td>\n",
              "      <td>0.0</td>\n",
              "      <td>0.0</td>\n",
              "      <td>0.0</td>\n",
              "      <td>0.0</td>\n",
              "      <td>0.0</td>\n",
              "      <td>0.0</td>\n",
              "      <td>0.0</td>\n",
              "      <td>0.0</td>\n",
              "      <td>0.0</td>\n",
              "      <td>0.0</td>\n",
              "      <td>0.0</td>\n",
              "      <td>0.0</td>\n",
              "      <td>0.0</td>\n",
              "      <td>0.0</td>\n",
              "      <td>0.0</td>\n",
              "      <td>0.0</td>\n",
              "      <td>0.0</td>\n",
              "      <td>0.0</td>\n",
              "      <td>0.0</td>\n",
              "      <td>0.0</td>\n",
              "      <td>0.0</td>\n",
              "      <td>0.0</td>\n",
              "      <td>0.0</td>\n",
              "      <td>0.0</td>\n",
              "      <td>0.0</td>\n",
              "      <td>0.0</td>\n",
              "      <td>0.0</td>\n",
              "      <td>0.0</td>\n",
              "      <td>0.0</td>\n",
              "      <td>0.0</td>\n",
              "      <td>0.0</td>\n",
              "      <td>0.75</td>\n",
              "      <td>0.1</td>\n",
              "      <td>1.00</td>\n",
              "      <td>0.30</td>\n",
              "      <td>1.00</td>\n",
              "      <td>0.30</td>\n",
              "    </tr>\n",
              "    <tr>\n",
              "      <th>1284</th>\n",
              "      <td>0.0</td>\n",
              "      <td>0.0</td>\n",
              "      <td>0.0</td>\n",
              "      <td>0.0</td>\n",
              "      <td>0.0</td>\n",
              "      <td>0.0</td>\n",
              "      <td>0.0</td>\n",
              "      <td>0.0</td>\n",
              "      <td>0.0</td>\n",
              "      <td>0.0</td>\n",
              "      <td>0.0</td>\n",
              "      <td>0.0</td>\n",
              "      <td>0.0</td>\n",
              "      <td>0.0</td>\n",
              "      <td>0.0</td>\n",
              "      <td>0.0</td>\n",
              "      <td>0.0</td>\n",
              "      <td>0.0</td>\n",
              "      <td>0.0</td>\n",
              "      <td>0.0</td>\n",
              "      <td>0.0</td>\n",
              "      <td>0.0</td>\n",
              "      <td>0.0</td>\n",
              "      <td>0.0</td>\n",
              "      <td>0.0</td>\n",
              "      <td>0.0</td>\n",
              "      <td>0.0</td>\n",
              "      <td>0.0</td>\n",
              "      <td>0.0</td>\n",
              "      <td>0.0</td>\n",
              "      <td>0.0</td>\n",
              "      <td>0.0</td>\n",
              "      <td>0.0</td>\n",
              "      <td>0.0</td>\n",
              "      <td>0.0</td>\n",
              "      <td>0.0</td>\n",
              "      <td>0.0</td>\n",
              "      <td>0.0</td>\n",
              "      <td>0.0</td>\n",
              "      <td>0.0</td>\n",
              "      <td>...</td>\n",
              "      <td>0.0</td>\n",
              "      <td>0.0</td>\n",
              "      <td>0.0</td>\n",
              "      <td>0.0</td>\n",
              "      <td>0.0</td>\n",
              "      <td>0.0</td>\n",
              "      <td>0.0</td>\n",
              "      <td>0.0</td>\n",
              "      <td>0.0</td>\n",
              "      <td>0.0</td>\n",
              "      <td>0.0</td>\n",
              "      <td>0.0</td>\n",
              "      <td>0.0</td>\n",
              "      <td>0.0</td>\n",
              "      <td>0.0</td>\n",
              "      <td>0.0</td>\n",
              "      <td>0.0</td>\n",
              "      <td>0.0</td>\n",
              "      <td>0.0</td>\n",
              "      <td>0.0</td>\n",
              "      <td>0.0</td>\n",
              "      <td>0.0</td>\n",
              "      <td>0.0</td>\n",
              "      <td>0.0</td>\n",
              "      <td>0.0</td>\n",
              "      <td>0.0</td>\n",
              "      <td>0.0</td>\n",
              "      <td>0.0</td>\n",
              "      <td>0.0</td>\n",
              "      <td>0.0</td>\n",
              "      <td>0.0</td>\n",
              "      <td>0.0</td>\n",
              "      <td>0.0</td>\n",
              "      <td>0.0</td>\n",
              "      <td>0.45</td>\n",
              "      <td>0.8</td>\n",
              "      <td>0.75</td>\n",
              "      <td>0.95</td>\n",
              "      <td>0.80</td>\n",
              "      <td>0.50</td>\n",
              "    </tr>\n",
              "  </tbody>\n",
              "</table>\n",
              "<p>1285 rows × 307731 columns</p>\n",
              "</div>"
            ],
            "text/plain": [
              "      0       1       2       3       ...  307727  307728  307729  307730\n",
              "0        0.0     0.0     0.0     0.0  ...    0.60    0.60    0.40    0.70\n",
              "1        0.0     0.0     0.0     0.0  ...    0.80    1.00    1.00    0.80\n",
              "2        0.0     0.0     0.0     0.0  ...    0.55    0.45    1.00    0.55\n",
              "3        0.0     0.0     0.0     0.0  ...    0.25    0.40    0.30    0.50\n",
              "4        0.0     0.0     0.0     0.0  ...    0.45    0.55    0.55    0.85\n",
              "...      ...     ...     ...     ...  ...     ...     ...     ...     ...\n",
              "1280     0.0     0.0     0.0     0.0  ...    0.25    0.30    1.00    0.55\n",
              "1281     1.0     0.0     1.0     0.0  ...    1.00    1.00    1.00    0.80\n",
              "1282     0.0     0.0     0.0     0.0  ...    1.00    0.75    1.00    0.80\n",
              "1283     0.0     0.0     0.0     0.0  ...    1.00    0.30    1.00    0.30\n",
              "1284     0.0     0.0     0.0     0.0  ...    0.75    0.95    0.80    0.50\n",
              "\n",
              "[1285 rows x 307731 columns]"
            ]
          },
          "metadata": {},
          "execution_count": 16
        }
      ]
    },
    {
      "cell_type": "markdown",
      "metadata": {
        "cell_id": "00029-0baf6cdb-9550-4717-87db-9f9900d5b276",
        "deepnote_cell_type": "markdown",
        "id": "stHncQ-A-j4I"
      },
      "source": [
        "## 1.2 Diseño de Baseline y  Primer Entrenamiento  [1 Puntos]\n",
        "\n",
        "\n",
        "<p align=\"center\">\n",
        "  <img src=\"https://pa1.narvii.com/6374/9eaec1b7bf9157334151452a669516f9a78b954c_hq.gif\" width=\"300\">\n",
        "</p>\n"
      ]
    },
    {
      "cell_type": "markdown",
      "metadata": {
        "cell_id": "00030-1452da19-1559-4b8b-8b73-a134157c0656",
        "deepnote_cell_type": "markdown",
        "id": "NeMiptpQ_EWb"
      },
      "source": [
        "Genere un Pipeline con las caracteristicas solicitadas en la sección 1.1, un selector de mejores features `SelectPercentile` con métrica `f_classif` y percentile=90 y un clasificador `MultinomialNB()` por defecto.\n",
        "\n",
        "Luego, separe el conjunto de datos en un conjunto de entrenamiento y prueba, donde las etiquetas estará dado por el atributo `alignment`. \n",
        "\n",
        "Finalmente entrene el modelo y reporte el desempeño con un `classification_report`. ¿ Nos recomendaría predecir la alineación de BatCow con este clasificador?.\n",
        "\n",
        "**To-DO:**\n",
        "- [ ] Realizar un pipeline con las caracteristicas solicitadas en 1.1 y aplicar un clasificador  `MultinomialNB()`.\n",
        "- [ ] Entrenar el pipeline y comentar los resultados."
      ]
    },
    {
      "cell_type": "markdown",
      "metadata": {
        "cell_id": "00029-34f1be30-f2df-45ac-aa14-8e05dc678be9",
        "deepnote_cell_type": "markdown",
        "tags": [],
        "id": "wxuZhL8mjROY"
      },
      "source": [
        "**Respuesta:**"
      ]
    },
    {
      "cell_type": "code",
      "metadata": {
        "id": "UIaeFLOTjROY"
      },
      "source": [
        "from sklearn.model_selection import train_test_split\n",
        "from sklearn.metrics import confusion_matrix, classification_report"
      ],
      "execution_count": 17,
      "outputs": []
    },
    {
      "cell_type": "code",
      "metadata": {
        "id": "CQqpK7CDjROY"
      },
      "source": [
        "features = df_comics.drop(columns=[\"alignment\"])\n",
        "labels = df_comics.loc[:, \"alignment\"]\n",
        "\n",
        "X_train, X_test, y_train, y_test = train_test_split(\n",
        "    features, labels, test_size=0.33, shuffle=True, stratify=labels\n",
        ")"
      ],
      "execution_count": 74,
      "outputs": []
    },
    {
      "cell_type": "code",
      "metadata": {
        "cell_id": "00031-92f07569-b6ee-48af-be9e-70cd05cb9e5e",
        "deepnote_cell_type": "code",
        "id": "_hHpPDooPafy"
      },
      "source": [
        "preprocessing_transformer = ColumnTransformer(\n",
        "    transformers=[\n",
        "        ('bow', CountVectorizer(tokenizer= StemmerTokenizer(),ngram_range=(1,2)),'history_text'),\n",
        "        ('scaler', MinMaxScaler(),['intelligence_score', 'strength_score', 'speed_score', 'durability_score', 'power_score', 'combat_score'])])\n",
        "\n",
        "pipe2 = Pipeline([('Preprocessing', preprocessing_transformer),\n",
        "                  ('SelectPercentile', SelectPercentile(score_func=f_classif,percentile=90)),\n",
        "                  ('Modelo', MultinomialNB())                 \n",
        "                 ])"
      ],
      "execution_count": 75,
      "outputs": []
    },
    {
      "cell_type": "code",
      "metadata": {
        "id": "Rw5bInwtjROZ"
      },
      "source": [
        "pipe2 = pipe2.fit(X_train, y_train)"
      ],
      "execution_count": 76,
      "outputs": []
    },
    {
      "cell_type": "code",
      "metadata": {
        "id": "MCSENhIQjROZ"
      },
      "source": [
        "y_pred = pipe2.predict(X_test)\n"
      ],
      "execution_count": 78,
      "outputs": []
    },
    {
      "cell_type": "code",
      "metadata": {
        "id": "Uy-vahHwjROZ",
        "colab": {
          "base_uri": "https://localhost:8080/"
        },
        "outputId": "52fc1496-608a-47ad-e0b9-c5ca1310a4d1"
      },
      "source": [
        "print(\"Matriz de confusión\\n\\n\", confusion_matrix(y_test, y_pred), \"\\n\")\n",
        "print(classification_report(y_test, y_pred))\n",
        "print(f1_score(y_test, y_pred, average='weighted'))"
      ],
      "execution_count": 79,
      "outputs": [
        {
          "output_type": "stream",
          "name": "stdout",
          "text": [
            "Matriz de confusión\n",
            "\n",
            " [[ 17 125   0]\n",
            " [  3 243   0]\n",
            " [  1  36   0]] \n",
            "\n",
            "              precision    recall  f1-score   support\n",
            "\n",
            "         Bad       0.81      0.12      0.21       142\n",
            "        Good       0.60      0.99      0.75       246\n",
            "     Neutral       0.00      0.00      0.00        37\n",
            "\n",
            "    accuracy                           0.61       425\n",
            "   macro avg       0.47      0.37      0.32       425\n",
            "weighted avg       0.62      0.61      0.50       425\n",
            "\n",
            "0.5024751519862312\n"
          ]
        },
        {
          "output_type": "stream",
          "name": "stderr",
          "text": [
            "/usr/local/lib/python3.7/dist-packages/sklearn/metrics/_classification.py:1308: UndefinedMetricWarning: Precision and F-score are ill-defined and being set to 0.0 in labels with no predicted samples. Use `zero_division` parameter to control this behavior.\n",
            "  _warn_prf(average, modifier, msg_start, len(result))\n",
            "/usr/local/lib/python3.7/dist-packages/sklearn/metrics/_classification.py:1308: UndefinedMetricWarning: Precision and F-score are ill-defined and being set to 0.0 in labels with no predicted samples. Use `zero_division` parameter to control this behavior.\n",
            "  _warn_prf(average, modifier, msg_start, len(result))\n",
            "/usr/local/lib/python3.7/dist-packages/sklearn/metrics/_classification.py:1308: UndefinedMetricWarning: Precision and F-score are ill-defined and being set to 0.0 in labels with no predicted samples. Use `zero_division` parameter to control this behavior.\n",
            "  _warn_prf(average, modifier, msg_start, len(result))\n"
          ]
        }
      ]
    },
    {
      "cell_type": "markdown",
      "metadata": {
        "id": "ECjIWy-RA3pB"
      },
      "source": [
        "¿ Nos recomendaría predecir la alineación de BatCow con este clasificador?\n",
        "\n",
        "\n",
        "Al ser este el primer modelo que se realiza y considerando que la métrica f1_score no presenta un valor muy confiable, no se recomendaría predecir la alineación de BatCow con este clasificador, sino que se recomienda probar nuevos distintos modelos con distintas configuraciones y así encontrar uno con métricas más confiables"
      ]
    },
    {
      "cell_type": "markdown",
      "metadata": {
        "cell_id": "00035-35040b90-b6b9-4e43-8eff-15b7fa897575",
        "deepnote_cell_type": "markdown",
        "id": "pfm7I2B7_rfB"
      },
      "source": [
        "## 1.3 Busqueda del Mejor Modelo con Grid Search [4 Puntos]\n",
        "\n",
        "<p align=\"center\">\n",
        "  <img src=\"https://media1.tenor.com/images/70fdfeea52a8e2e4505498c230a0d2f9/tenor.gif?itemid=5134219\" width=\"250\">\n",
        "</p>"
      ]
    },
    {
      "cell_type": "markdown",
      "metadata": {
        "cell_id": "00036-c58166cc-71f7-4fa3-94c8-c67d1145ccf1",
        "deepnote_cell_type": "markdown",
        "id": "14siiavzK67p"
      },
      "source": [
        "No conformes con el rendimiento obtenido en la sección 1.2, el cuerpo docente les pide que realicen un **`HalvingGridSearchCV`** con diferentes parámetros para mejorar el rendimiento de la clasificación. Para esto, se le solicita que defina:\n",
        "\n",
        "- Dos clasificadores distintos en donde varie sus parámetros. Se le recomienda utilizar `LogisticRegression()` y `RandomForestClassifier()`.\n",
        "- Modificar `n-gram` range del `CountVectorizer` probando `(1,1), (1,2) y (1,3)`. \n",
        "- Selección de las mejores columnas para la clasificación con `SelectPercentile` en los percentiles `[20, 40, 60, 80]` (puede usar la métrica que usted quiera).\n",
        "\n",
        "A continuación, un ejemplo de parametros para GridSearch para una búsqueda de 3 clasificadores distintos:\n",
        "\n",
        "```python\n",
        "params = [\n",
        "       # clasificador 1 + hiperparámetros\n",
        "       {'clf': classificator1(),\n",
        "        'clf__penalty': ['ovr'],\n",
        "        'clf__multi_class': ['liblinear']},\n",
        "       # clasificador 1 + hiperparámetros    \n",
        "       {'clf': classificator2(),\n",
        "        'clf__n_estimators': [200]},\n",
        "       # clasificador 1 + hiperparámetros\n",
        "       {'clf': classificator3(),\n",
        "        ...\n",
        "       }\n",
        "       ]\n",
        "```\n",
        "\n",
        "**Nota 1**: Puede ver los parámetros modificables aplicando el método get_params() sobre su pipeline.\n",
        "\n",
        "**Nota 2**: Recuerde inicializar los clasificadores con un random state definido.\n",
        "\n",
        "**Nota 3**: Puede usar en `HalvingGridSearchCV` el parámetro `verbose=10` para ver que GridSearch le indique el estado de su ejecución.\n",
        "\n",
        "**Nota 3:** El GridSearch puede tomar tiempos de búsqueda exorbitantes, por lo que se le recomienda no agrandar mucho el espacio de búsqueda, dejar corriendo el código y tomarse un tecito."
      ]
    },
    {
      "cell_type": "markdown",
      "metadata": {
        "cell_id": "00032-3fea06e0-a390-4ae0-8036-f5fedb6d6baf",
        "deepnote_cell_type": "markdown",
        "tags": [],
        "id": "UhtWSOd0jROZ"
      },
      "source": [
        "**Respuesta:**"
      ]
    },
    {
      "cell_type": "code",
      "metadata": {
        "cell_id": "00037-8b06a200-cb7a-485a-b11b-31a3d0ee57f3",
        "deepnote_cell_type": "code",
        "id": "oNvHOHELUoIv"
      },
      "source": [
        "from sklearn.feature_selection import (\n",
        "    SelectPercentile,\n",
        "    f_classif)"
      ],
      "execution_count": 23,
      "outputs": []
    },
    {
      "cell_type": "code",
      "metadata": {
        "id": "6tly5XZnjROa"
      },
      "source": [
        "selection_pipeline = Pipeline(steps=[\n",
        "                  ('Preprocessing', preprocessing_transformer),\n",
        "                  ('Selection', SelectPercentile(score_func=f_classif,percentile=90)),\n",
        "                  ('Modelo', LogisticRegression(random_state=20))])\n",
        "\n"
      ],
      "execution_count": 24,
      "outputs": []
    },
    {
      "cell_type": "code",
      "metadata": {
        "id": "s8VVk183jROa",
        "colab": {
          "base_uri": "https://localhost:8080/"
        },
        "outputId": "a65b8251-5d1f-4952-ac1f-6e37aeb27e20"
      },
      "source": [
        "selection_pipeline.get_params()"
      ],
      "execution_count": 25,
      "outputs": [
        {
          "output_type": "execute_result",
          "data": {
            "text/plain": [
              "{'Modelo': LogisticRegression(random_state=20),\n",
              " 'Modelo__C': 1.0,\n",
              " 'Modelo__class_weight': None,\n",
              " 'Modelo__dual': False,\n",
              " 'Modelo__fit_intercept': True,\n",
              " 'Modelo__intercept_scaling': 1,\n",
              " 'Modelo__l1_ratio': None,\n",
              " 'Modelo__max_iter': 100,\n",
              " 'Modelo__multi_class': 'auto',\n",
              " 'Modelo__n_jobs': None,\n",
              " 'Modelo__penalty': 'l2',\n",
              " 'Modelo__random_state': 20,\n",
              " 'Modelo__solver': 'lbfgs',\n",
              " 'Modelo__tol': 0.0001,\n",
              " 'Modelo__verbose': 0,\n",
              " 'Modelo__warm_start': False,\n",
              " 'Preprocessing': ColumnTransformer(transformers=[('bow',\n",
              "                                  CountVectorizer(ngram_range=(1, 2),\n",
              "                                                  tokenizer=<__main__.StemmerTokenizer object at 0x7f6c524e6d10>),\n",
              "                                  'history_text'),\n",
              "                                 ('scaler', MinMaxScaler(),\n",
              "                                  ['intelligence_score', 'strength_score',\n",
              "                                   'speed_score', 'durability_score',\n",
              "                                   'power_score', 'combat_score'])]),\n",
              " 'Preprocessing__bow': CountVectorizer(ngram_range=(1, 2),\n",
              "                 tokenizer=<__main__.StemmerTokenizer object at 0x7f6c524e6d10>),\n",
              " 'Preprocessing__bow__analyzer': 'word',\n",
              " 'Preprocessing__bow__binary': False,\n",
              " 'Preprocessing__bow__decode_error': 'strict',\n",
              " 'Preprocessing__bow__dtype': numpy.int64,\n",
              " 'Preprocessing__bow__encoding': 'utf-8',\n",
              " 'Preprocessing__bow__input': 'content',\n",
              " 'Preprocessing__bow__lowercase': True,\n",
              " 'Preprocessing__bow__max_df': 1.0,\n",
              " 'Preprocessing__bow__max_features': None,\n",
              " 'Preprocessing__bow__min_df': 1,\n",
              " 'Preprocessing__bow__ngram_range': (1, 2),\n",
              " 'Preprocessing__bow__preprocessor': None,\n",
              " 'Preprocessing__bow__stop_words': None,\n",
              " 'Preprocessing__bow__strip_accents': None,\n",
              " 'Preprocessing__bow__token_pattern': '(?u)\\\\b\\\\w\\\\w+\\\\b',\n",
              " 'Preprocessing__bow__tokenizer': <__main__.StemmerTokenizer at 0x7f6c524e6d10>,\n",
              " 'Preprocessing__bow__vocabulary': None,\n",
              " 'Preprocessing__n_jobs': None,\n",
              " 'Preprocessing__remainder': 'drop',\n",
              " 'Preprocessing__scaler': MinMaxScaler(),\n",
              " 'Preprocessing__scaler__clip': False,\n",
              " 'Preprocessing__scaler__copy': True,\n",
              " 'Preprocessing__scaler__feature_range': (0, 1),\n",
              " 'Preprocessing__sparse_threshold': 0.3,\n",
              " 'Preprocessing__transformer_weights': None,\n",
              " 'Preprocessing__transformers': [('bow', CountVectorizer(ngram_range=(1, 2),\n",
              "                   tokenizer=<__main__.StemmerTokenizer object at 0x7f6c524e6d10>), 'history_text'),\n",
              "  ('scaler',\n",
              "   MinMaxScaler(),\n",
              "   ['intelligence_score',\n",
              "    'strength_score',\n",
              "    'speed_score',\n",
              "    'durability_score',\n",
              "    'power_score',\n",
              "    'combat_score'])],\n",
              " 'Preprocessing__verbose': False,\n",
              " 'Preprocessing__verbose_feature_names_out': True,\n",
              " 'Selection': SelectPercentile(percentile=90),\n",
              " 'Selection__percentile': 90,\n",
              " 'Selection__score_func': <function sklearn.feature_selection._univariate_selection.f_classif>,\n",
              " 'memory': None,\n",
              " 'steps': [('Preprocessing', ColumnTransformer(transformers=[('bow',\n",
              "                                    CountVectorizer(ngram_range=(1, 2),\n",
              "                                                    tokenizer=<__main__.StemmerTokenizer object at 0x7f6c524e6d10>),\n",
              "                                    'history_text'),\n",
              "                                   ('scaler', MinMaxScaler(),\n",
              "                                    ['intelligence_score', 'strength_score',\n",
              "                                     'speed_score', 'durability_score',\n",
              "                                     'power_score', 'combat_score'])])),\n",
              "  ('Selection', SelectPercentile(percentile=90)),\n",
              "  ('Modelo', LogisticRegression(random_state=20))],\n",
              " 'verbose': False}"
            ]
          },
          "metadata": {},
          "execution_count": 25
        }
      ]
    },
    {
      "cell_type": "code",
      "metadata": {
        "id": "aUQE1GhujROa",
        "colab": {
          "base_uri": "https://localhost:8080/"
        },
        "outputId": "458a9546-e7c0-4245-ae64-cb97a43dccc1"
      },
      "source": [
        "param_grid = [\n",
        "    {'Modelo': [LogisticRegression(random_state=20)],\n",
        "        \"Selection__percentile\": range(5, 101, 5),\n",
        "    \"Preprocessing__bow__ngram_range\":[(1,1),(1,2),(1,3)]}\n",
        "    ,\n",
        "    {'Modelo': [RandomForestClassifier(random_state=20)],\n",
        "        \"Selection__percentile\": range(5, 101, 5),\n",
        "    \"Preprocessing__bow__ngram_range\":[(1,1),(1,2),(1,3)] }\n",
        "]\n",
        "param_grid"
      ],
      "execution_count": 31,
      "outputs": [
        {
          "output_type": "execute_result",
          "data": {
            "text/plain": [
              "[{'Modelo': [LogisticRegression(random_state=20)],\n",
              "  'Preprocessing__bow__ngram_range': [(1, 1), (1, 2), (1, 3)],\n",
              "  'Selection__percentile': range(5, 101, 5)},\n",
              " {'Modelo': [RandomForestClassifier(random_state=20)],\n",
              "  'Preprocessing__bow__ngram_range': [(1, 1), (1, 2), (1, 3)],\n",
              "  'Selection__percentile': range(5, 101, 5)}]"
            ]
          },
          "metadata": {},
          "execution_count": 31
        }
      ]
    },
    {
      "cell_type": "code",
      "metadata": {
        "id": "IasPdzz1jROa"
      },
      "source": [
        "def train_and_evaluate(pipe,\n",
        "                       print_=True,\n",
        "                       X_train=X_train,\n",
        "                       y_train=y_train,\n",
        "                       X_test=X_test,\n",
        "                       y_test=y_test):\n",
        "\n",
        "    pipe.fit(X_train, y_train)\n",
        "    y_pred = pipe.predict(X_test)\n",
        "\n",
        "    if print_:\n",
        "        print('Matriz de confusión: \\n')\n",
        "        print(confusion_matrix(y_test, y_pred, labels=pipe.classes_))\n",
        "        print('\\nReporte de Clasificación: \\n')\n",
        "        print(classification_report(y_test, y_pred, target_names=pipe.classes_), )\n",
        "    \n",
        "    return f1_score(y_test, y_pred, average='weighted')\n"
      ],
      "execution_count": 27,
      "outputs": []
    },
    {
      "cell_type": "code",
      "metadata": {
        "id": "H6JKC6-AjROb"
      },
      "source": [
        "from sklearn.experimental import enable_halving_search_cv  # noqa\n",
        "from sklearn.model_selection import HalvingGridSearchCV"
      ],
      "execution_count": 29,
      "outputs": []
    },
    {
      "cell_type": "code",
      "metadata": {
        "id": "L8RfTGeZjROb"
      },
      "source": [
        "hgs = HalvingGridSearchCV(selection_pipeline, param_grid,verbose=10)"
      ],
      "execution_count": 32,
      "outputs": []
    },
    {
      "cell_type": "code",
      "metadata": {
        "colab": {
          "base_uri": "https://localhost:8080/"
        },
        "id": "_jrR8l-0nVHc",
        "outputId": "2c22b0ee-3945-42fb-8c6d-701eb14d2a78"
      },
      "source": [
        "train_and_evaluate(hgs)"
      ],
      "execution_count": 33,
      "outputs": [
        {
          "output_type": "stream",
          "name": "stdout",
          "text": [
            "n_iterations: 4\n",
            "n_required_iterations: 5\n",
            "n_possible_iterations: 4\n",
            "min_resources_: 30\n",
            "max_resources_: 860\n",
            "aggressive_elimination: False\n",
            "factor: 3\n",
            "----------\n",
            "iter: 0\n",
            "n_candidates: 120\n",
            "n_resources: 30\n",
            "Fitting 5 folds for each of 120 candidates, totalling 600 fits\n",
            "[CV 1/5; 1/120] START Modelo=LogisticRegression(random_state=20), Preprocessing__bow__ngram_range=(1, 1), Selection__percentile=5\n"
          ]
        },
        {
          "output_type": "stream",
          "name": "stderr",
          "text": [
            "/usr/local/lib/python3.7/dist-packages/sklearn/feature_selection/_univariate_selection.py:113: RuntimeWarning: divide by zero encountered in true_divide\n",
            "  f = msb / msw\n"
          ]
        },
        {
          "output_type": "stream",
          "name": "stdout",
          "text": [
            "[CV 1/5; 1/120] END Modelo=LogisticRegression(random_state=20), Preprocessing__bow__ngram_range=(1, 1), Selection__percentile=5;, score=(train=0.958, test=0.833) total time=   0.8s\n",
            "[CV 2/5; 1/120] START Modelo=LogisticRegression(random_state=20), Preprocessing__bow__ngram_range=(1, 1), Selection__percentile=5\n"
          ]
        },
        {
          "output_type": "stream",
          "name": "stderr",
          "text": [
            "/usr/local/lib/python3.7/dist-packages/sklearn/feature_selection/_univariate_selection.py:113: RuntimeWarning: divide by zero encountered in true_divide\n",
            "  f = msb / msw\n"
          ]
        },
        {
          "output_type": "stream",
          "name": "stdout",
          "text": [
            "[CV 2/5; 1/120] END Modelo=LogisticRegression(random_state=20), Preprocessing__bow__ngram_range=(1, 1), Selection__percentile=5;, score=(train=1.000, test=0.333) total time=   1.0s\n",
            "[CV 3/5; 1/120] START Modelo=LogisticRegression(random_state=20), Preprocessing__bow__ngram_range=(1, 1), Selection__percentile=5\n",
            "[CV 3/5; 1/120] END Modelo=LogisticRegression(random_state=20), Preprocessing__bow__ngram_range=(1, 1), Selection__percentile=5;, score=(train=0.625, test=0.500) total time=   0.4s\n",
            "[CV 4/5; 1/120] START Modelo=LogisticRegression(random_state=20), Preprocessing__bow__ngram_range=(1, 1), Selection__percentile=5\n",
            "[CV 4/5; 1/120] END Modelo=LogisticRegression(random_state=20), Preprocessing__bow__ngram_range=(1, 1), Selection__percentile=5;, score=(train=1.000, test=0.333) total time=   0.8s\n",
            "[CV 5/5; 1/120] START Modelo=LogisticRegression(random_state=20), Preprocessing__bow__ngram_range=(1, 1), Selection__percentile=5\n",
            "[CV 5/5; 1/120] END Modelo=LogisticRegression(random_state=20), Preprocessing__bow__ngram_range=(1, 1), Selection__percentile=5;, score=(train=1.000, test=0.500) total time=   0.6s\n",
            "[CV 1/5; 2/120] START Modelo=LogisticRegression(random_state=20), Preprocessing__bow__ngram_range=(1, 1), Selection__percentile=10\n"
          ]
        },
        {
          "output_type": "stream",
          "name": "stderr",
          "text": [
            "/usr/local/lib/python3.7/dist-packages/sklearn/feature_selection/_univariate_selection.py:113: RuntimeWarning: divide by zero encountered in true_divide\n",
            "  f = msb / msw\n"
          ]
        },
        {
          "output_type": "stream",
          "name": "stdout",
          "text": [
            "[CV 1/5; 2/120] END Modelo=LogisticRegression(random_state=20), Preprocessing__bow__ngram_range=(1, 1), Selection__percentile=10;, score=(train=1.000, test=0.333) total time=   0.7s\n",
            "[CV 2/5; 2/120] START Modelo=LogisticRegression(random_state=20), Preprocessing__bow__ngram_range=(1, 1), Selection__percentile=10\n"
          ]
        },
        {
          "output_type": "stream",
          "name": "stderr",
          "text": [
            "/usr/local/lib/python3.7/dist-packages/sklearn/feature_selection/_univariate_selection.py:113: RuntimeWarning: divide by zero encountered in true_divide\n",
            "  f = msb / msw\n",
            "/usr/local/lib/python3.7/dist-packages/sklearn/linear_model/_logistic.py:818: ConvergenceWarning: lbfgs failed to converge (status=1):\n",
            "STOP: TOTAL NO. of ITERATIONS REACHED LIMIT.\n",
            "\n",
            "Increase the number of iterations (max_iter) or scale the data as shown in:\n",
            "    https://scikit-learn.org/stable/modules/preprocessing.html\n",
            "Please also refer to the documentation for alternative solver options:\n",
            "    https://scikit-learn.org/stable/modules/linear_model.html#logistic-regression\n",
            "  extra_warning_msg=_LOGISTIC_SOLVER_CONVERGENCE_MSG,\n"
          ]
        },
        {
          "output_type": "stream",
          "name": "stdout",
          "text": [
            "[CV 2/5; 2/120] END Modelo=LogisticRegression(random_state=20), Preprocessing__bow__ngram_range=(1, 1), Selection__percentile=10;, score=(train=1.000, test=0.833) total time=   1.0s\n",
            "[CV 3/5; 2/120] START Modelo=LogisticRegression(random_state=20), Preprocessing__bow__ngram_range=(1, 1), Selection__percentile=10\n",
            "[CV 3/5; 2/120] END Modelo=LogisticRegression(random_state=20), Preprocessing__bow__ngram_range=(1, 1), Selection__percentile=10;, score=(train=0.833, test=0.333) total time=   0.4s\n",
            "[CV 4/5; 2/120] START Modelo=LogisticRegression(random_state=20), Preprocessing__bow__ngram_range=(1, 1), Selection__percentile=10\n",
            "[CV 4/5; 2/120] END Modelo=LogisticRegression(random_state=20), Preprocessing__bow__ngram_range=(1, 1), Selection__percentile=10;, score=(train=1.000, test=0.333) total time=   0.8s\n",
            "[CV 5/5; 2/120] START Modelo=LogisticRegression(random_state=20), Preprocessing__bow__ngram_range=(1, 1), Selection__percentile=10\n",
            "[CV 5/5; 2/120] END Modelo=LogisticRegression(random_state=20), Preprocessing__bow__ngram_range=(1, 1), Selection__percentile=10;, score=(train=1.000, test=0.500) total time=   0.7s\n",
            "[CV 1/5; 3/120] START Modelo=LogisticRegression(random_state=20), Preprocessing__bow__ngram_range=(1, 1), Selection__percentile=15\n"
          ]
        },
        {
          "output_type": "stream",
          "name": "stderr",
          "text": [
            "/usr/local/lib/python3.7/dist-packages/sklearn/feature_selection/_univariate_selection.py:113: RuntimeWarning: divide by zero encountered in true_divide\n",
            "  f = msb / msw\n",
            "/usr/local/lib/python3.7/dist-packages/sklearn/linear_model/_logistic.py:818: ConvergenceWarning: lbfgs failed to converge (status=1):\n",
            "STOP: TOTAL NO. of ITERATIONS REACHED LIMIT.\n",
            "\n",
            "Increase the number of iterations (max_iter) or scale the data as shown in:\n",
            "    https://scikit-learn.org/stable/modules/preprocessing.html\n",
            "Please also refer to the documentation for alternative solver options:\n",
            "    https://scikit-learn.org/stable/modules/linear_model.html#logistic-regression\n",
            "  extra_warning_msg=_LOGISTIC_SOLVER_CONVERGENCE_MSG,\n"
          ]
        },
        {
          "output_type": "stream",
          "name": "stdout",
          "text": [
            "[CV 1/5; 3/120] END Modelo=LogisticRegression(random_state=20), Preprocessing__bow__ngram_range=(1, 1), Selection__percentile=15;, score=(train=1.000, test=0.667) total time=   0.8s\n",
            "[CV 2/5; 3/120] START Modelo=LogisticRegression(random_state=20), Preprocessing__bow__ngram_range=(1, 1), Selection__percentile=15\n"
          ]
        },
        {
          "output_type": "stream",
          "name": "stderr",
          "text": [
            "/usr/local/lib/python3.7/dist-packages/sklearn/feature_selection/_univariate_selection.py:113: RuntimeWarning: divide by zero encountered in true_divide\n",
            "  f = msb / msw\n",
            "/usr/local/lib/python3.7/dist-packages/sklearn/linear_model/_logistic.py:818: ConvergenceWarning: lbfgs failed to converge (status=1):\n",
            "STOP: TOTAL NO. of ITERATIONS REACHED LIMIT.\n",
            "\n",
            "Increase the number of iterations (max_iter) or scale the data as shown in:\n",
            "    https://scikit-learn.org/stable/modules/preprocessing.html\n",
            "Please also refer to the documentation for alternative solver options:\n",
            "    https://scikit-learn.org/stable/modules/linear_model.html#logistic-regression\n",
            "  extra_warning_msg=_LOGISTIC_SOLVER_CONVERGENCE_MSG,\n"
          ]
        },
        {
          "output_type": "stream",
          "name": "stdout",
          "text": [
            "[CV 2/5; 3/120] END Modelo=LogisticRegression(random_state=20), Preprocessing__bow__ngram_range=(1, 1), Selection__percentile=15;, score=(train=1.000, test=0.500) total time=   1.1s\n",
            "[CV 3/5; 3/120] START Modelo=LogisticRegression(random_state=20), Preprocessing__bow__ngram_range=(1, 1), Selection__percentile=15\n",
            "[CV 3/5; 3/120] END Modelo=LogisticRegression(random_state=20), Preprocessing__bow__ngram_range=(1, 1), Selection__percentile=15;, score=(train=1.000, test=0.667) total time=   0.4s\n",
            "[CV 4/5; 3/120] START Modelo=LogisticRegression(random_state=20), Preprocessing__bow__ngram_range=(1, 1), Selection__percentile=15\n",
            "[CV 4/5; 3/120] END Modelo=LogisticRegression(random_state=20), Preprocessing__bow__ngram_range=(1, 1), Selection__percentile=15;, score=(train=1.000, test=0.333) total time=   0.8s\n",
            "[CV 5/5; 3/120] START Modelo=LogisticRegression(random_state=20), Preprocessing__bow__ngram_range=(1, 1), Selection__percentile=15\n",
            "[CV 5/5; 3/120] END Modelo=LogisticRegression(random_state=20), Preprocessing__bow__ngram_range=(1, 1), Selection__percentile=15;, score=(train=1.000, test=0.500) total time=   0.7s\n",
            "[CV 1/5; 4/120] START Modelo=LogisticRegression(random_state=20), Preprocessing__bow__ngram_range=(1, 1), Selection__percentile=20\n"
          ]
        },
        {
          "output_type": "stream",
          "name": "stderr",
          "text": [
            "/usr/local/lib/python3.7/dist-packages/sklearn/feature_selection/_univariate_selection.py:113: RuntimeWarning: divide by zero encountered in true_divide\n",
            "  f = msb / msw\n",
            "/usr/local/lib/python3.7/dist-packages/sklearn/linear_model/_logistic.py:818: ConvergenceWarning: lbfgs failed to converge (status=1):\n",
            "STOP: TOTAL NO. of ITERATIONS REACHED LIMIT.\n",
            "\n",
            "Increase the number of iterations (max_iter) or scale the data as shown in:\n",
            "    https://scikit-learn.org/stable/modules/preprocessing.html\n",
            "Please also refer to the documentation for alternative solver options:\n",
            "    https://scikit-learn.org/stable/modules/linear_model.html#logistic-regression\n",
            "  extra_warning_msg=_LOGISTIC_SOLVER_CONVERGENCE_MSG,\n"
          ]
        },
        {
          "output_type": "stream",
          "name": "stdout",
          "text": [
            "[CV 1/5; 4/120] END Modelo=LogisticRegression(random_state=20), Preprocessing__bow__ngram_range=(1, 1), Selection__percentile=20;, score=(train=1.000, test=0.667) total time=   0.8s\n",
            "[CV 2/5; 4/120] START Modelo=LogisticRegression(random_state=20), Preprocessing__bow__ngram_range=(1, 1), Selection__percentile=20\n"
          ]
        },
        {
          "output_type": "stream",
          "name": "stderr",
          "text": [
            "/usr/local/lib/python3.7/dist-packages/sklearn/feature_selection/_univariate_selection.py:113: RuntimeWarning: divide by zero encountered in true_divide\n",
            "  f = msb / msw\n"
          ]
        },
        {
          "output_type": "stream",
          "name": "stdout",
          "text": [
            "[CV 2/5; 4/120] END Modelo=LogisticRegression(random_state=20), Preprocessing__bow__ngram_range=(1, 1), Selection__percentile=20;, score=(train=1.000, test=0.500) total time=   1.1s\n",
            "[CV 3/5; 4/120] START Modelo=LogisticRegression(random_state=20), Preprocessing__bow__ngram_range=(1, 1), Selection__percentile=20\n"
          ]
        },
        {
          "output_type": "stream",
          "name": "stderr",
          "text": [
            "/usr/local/lib/python3.7/dist-packages/sklearn/linear_model/_logistic.py:818: ConvergenceWarning: lbfgs failed to converge (status=1):\n",
            "STOP: TOTAL NO. of ITERATIONS REACHED LIMIT.\n",
            "\n",
            "Increase the number of iterations (max_iter) or scale the data as shown in:\n",
            "    https://scikit-learn.org/stable/modules/preprocessing.html\n",
            "Please also refer to the documentation for alternative solver options:\n",
            "    https://scikit-learn.org/stable/modules/linear_model.html#logistic-regression\n",
            "  extra_warning_msg=_LOGISTIC_SOLVER_CONVERGENCE_MSG,\n"
          ]
        },
        {
          "output_type": "stream",
          "name": "stdout",
          "text": [
            "[CV 3/5; 4/120] END Modelo=LogisticRegression(random_state=20), Preprocessing__bow__ngram_range=(1, 1), Selection__percentile=20;, score=(train=1.000, test=0.500) total time=   0.4s\n",
            "[CV 4/5; 4/120] START Modelo=LogisticRegression(random_state=20), Preprocessing__bow__ngram_range=(1, 1), Selection__percentile=20\n",
            "[CV 4/5; 4/120] END Modelo=LogisticRegression(random_state=20), Preprocessing__bow__ngram_range=(1, 1), Selection__percentile=20;, score=(train=1.000, test=0.333) total time=   0.8s\n",
            "[CV 5/5; 4/120] START Modelo=LogisticRegression(random_state=20), Preprocessing__bow__ngram_range=(1, 1), Selection__percentile=20\n",
            "[CV 5/5; 4/120] END Modelo=LogisticRegression(random_state=20), Preprocessing__bow__ngram_range=(1, 1), Selection__percentile=20;, score=(train=1.000, test=0.500) total time=   0.6s\n",
            "[CV 1/5; 5/120] START Modelo=LogisticRegression(random_state=20), Preprocessing__bow__ngram_range=(1, 1), Selection__percentile=25\n"
          ]
        },
        {
          "output_type": "stream",
          "name": "stderr",
          "text": [
            "/usr/local/lib/python3.7/dist-packages/sklearn/feature_selection/_univariate_selection.py:113: RuntimeWarning: divide by zero encountered in true_divide\n",
            "  f = msb / msw\n",
            "/usr/local/lib/python3.7/dist-packages/sklearn/linear_model/_logistic.py:818: ConvergenceWarning: lbfgs failed to converge (status=1):\n",
            "STOP: TOTAL NO. of ITERATIONS REACHED LIMIT.\n",
            "\n",
            "Increase the number of iterations (max_iter) or scale the data as shown in:\n",
            "    https://scikit-learn.org/stable/modules/preprocessing.html\n",
            "Please also refer to the documentation for alternative solver options:\n",
            "    https://scikit-learn.org/stable/modules/linear_model.html#logistic-regression\n",
            "  extra_warning_msg=_LOGISTIC_SOLVER_CONVERGENCE_MSG,\n"
          ]
        },
        {
          "output_type": "stream",
          "name": "stdout",
          "text": [
            "[CV 1/5; 5/120] END Modelo=LogisticRegression(random_state=20), Preprocessing__bow__ngram_range=(1, 1), Selection__percentile=25;, score=(train=1.000, test=0.667) total time=   0.8s\n",
            "[CV 2/5; 5/120] START Modelo=LogisticRegression(random_state=20), Preprocessing__bow__ngram_range=(1, 1), Selection__percentile=25\n"
          ]
        },
        {
          "output_type": "stream",
          "name": "stderr",
          "text": [
            "/usr/local/lib/python3.7/dist-packages/sklearn/feature_selection/_univariate_selection.py:113: RuntimeWarning: divide by zero encountered in true_divide\n",
            "  f = msb / msw\n",
            "/usr/local/lib/python3.7/dist-packages/sklearn/linear_model/_logistic.py:818: ConvergenceWarning: lbfgs failed to converge (status=1):\n",
            "STOP: TOTAL NO. of ITERATIONS REACHED LIMIT.\n",
            "\n",
            "Increase the number of iterations (max_iter) or scale the data as shown in:\n",
            "    https://scikit-learn.org/stable/modules/preprocessing.html\n",
            "Please also refer to the documentation for alternative solver options:\n",
            "    https://scikit-learn.org/stable/modules/linear_model.html#logistic-regression\n",
            "  extra_warning_msg=_LOGISTIC_SOLVER_CONVERGENCE_MSG,\n"
          ]
        },
        {
          "output_type": "stream",
          "name": "stdout",
          "text": [
            "[CV 2/5; 5/120] END Modelo=LogisticRegression(random_state=20), Preprocessing__bow__ngram_range=(1, 1), Selection__percentile=25;, score=(train=1.000, test=0.333) total time=   1.1s\n",
            "[CV 3/5; 5/120] START Modelo=LogisticRegression(random_state=20), Preprocessing__bow__ngram_range=(1, 1), Selection__percentile=25\n"
          ]
        },
        {
          "output_type": "stream",
          "name": "stderr",
          "text": [
            "/usr/local/lib/python3.7/dist-packages/sklearn/linear_model/_logistic.py:818: ConvergenceWarning: lbfgs failed to converge (status=1):\n",
            "STOP: TOTAL NO. of ITERATIONS REACHED LIMIT.\n",
            "\n",
            "Increase the number of iterations (max_iter) or scale the data as shown in:\n",
            "    https://scikit-learn.org/stable/modules/preprocessing.html\n",
            "Please also refer to the documentation for alternative solver options:\n",
            "    https://scikit-learn.org/stable/modules/linear_model.html#logistic-regression\n",
            "  extra_warning_msg=_LOGISTIC_SOLVER_CONVERGENCE_MSG,\n"
          ]
        },
        {
          "output_type": "stream",
          "name": "stdout",
          "text": [
            "[CV 3/5; 5/120] END Modelo=LogisticRegression(random_state=20), Preprocessing__bow__ngram_range=(1, 1), Selection__percentile=25;, score=(train=1.000, test=0.500) total time=   0.4s\n",
            "[CV 4/5; 5/120] START Modelo=LogisticRegression(random_state=20), Preprocessing__bow__ngram_range=(1, 1), Selection__percentile=25\n",
            "[CV 4/5; 5/120] END Modelo=LogisticRegression(random_state=20), Preprocessing__bow__ngram_range=(1, 1), Selection__percentile=25;, score=(train=1.000, test=0.333) total time=   0.8s\n",
            "[CV 5/5; 5/120] START Modelo=LogisticRegression(random_state=20), Preprocessing__bow__ngram_range=(1, 1), Selection__percentile=25\n",
            "[CV 5/5; 5/120] END Modelo=LogisticRegression(random_state=20), Preprocessing__bow__ngram_range=(1, 1), Selection__percentile=25;, score=(train=1.000, test=0.500) total time=   0.7s\n",
            "[CV 1/5; 6/120] START Modelo=LogisticRegression(random_state=20), Preprocessing__bow__ngram_range=(1, 1), Selection__percentile=30\n"
          ]
        },
        {
          "output_type": "stream",
          "name": "stderr",
          "text": [
            "/usr/local/lib/python3.7/dist-packages/sklearn/feature_selection/_univariate_selection.py:113: RuntimeWarning: divide by zero encountered in true_divide\n",
            "  f = msb / msw\n",
            "/usr/local/lib/python3.7/dist-packages/sklearn/linear_model/_logistic.py:818: ConvergenceWarning: lbfgs failed to converge (status=1):\n",
            "STOP: TOTAL NO. of ITERATIONS REACHED LIMIT.\n",
            "\n",
            "Increase the number of iterations (max_iter) or scale the data as shown in:\n",
            "    https://scikit-learn.org/stable/modules/preprocessing.html\n",
            "Please also refer to the documentation for alternative solver options:\n",
            "    https://scikit-learn.org/stable/modules/linear_model.html#logistic-regression\n",
            "  extra_warning_msg=_LOGISTIC_SOLVER_CONVERGENCE_MSG,\n"
          ]
        },
        {
          "output_type": "stream",
          "name": "stdout",
          "text": [
            "[CV 1/5; 6/120] END Modelo=LogisticRegression(random_state=20), Preprocessing__bow__ngram_range=(1, 1), Selection__percentile=30;, score=(train=1.000, test=0.833) total time=   0.8s\n",
            "[CV 2/5; 6/120] START Modelo=LogisticRegression(random_state=20), Preprocessing__bow__ngram_range=(1, 1), Selection__percentile=30\n"
          ]
        },
        {
          "output_type": "stream",
          "name": "stderr",
          "text": [
            "/usr/local/lib/python3.7/dist-packages/sklearn/feature_selection/_univariate_selection.py:113: RuntimeWarning: divide by zero encountered in true_divide\n",
            "  f = msb / msw\n",
            "/usr/local/lib/python3.7/dist-packages/sklearn/linear_model/_logistic.py:818: ConvergenceWarning: lbfgs failed to converge (status=1):\n",
            "STOP: TOTAL NO. of ITERATIONS REACHED LIMIT.\n",
            "\n",
            "Increase the number of iterations (max_iter) or scale the data as shown in:\n",
            "    https://scikit-learn.org/stable/modules/preprocessing.html\n",
            "Please also refer to the documentation for alternative solver options:\n",
            "    https://scikit-learn.org/stable/modules/linear_model.html#logistic-regression\n",
            "  extra_warning_msg=_LOGISTIC_SOLVER_CONVERGENCE_MSG,\n"
          ]
        },
        {
          "output_type": "stream",
          "name": "stdout",
          "text": [
            "[CV 2/5; 6/120] END Modelo=LogisticRegression(random_state=20), Preprocessing__bow__ngram_range=(1, 1), Selection__percentile=30;, score=(train=1.000, test=0.500) total time=   1.1s\n",
            "[CV 3/5; 6/120] START Modelo=LogisticRegression(random_state=20), Preprocessing__bow__ngram_range=(1, 1), Selection__percentile=30\n"
          ]
        },
        {
          "output_type": "stream",
          "name": "stderr",
          "text": [
            "/usr/local/lib/python3.7/dist-packages/sklearn/linear_model/_logistic.py:818: ConvergenceWarning: lbfgs failed to converge (status=1):\n",
            "STOP: TOTAL NO. of ITERATIONS REACHED LIMIT.\n",
            "\n",
            "Increase the number of iterations (max_iter) or scale the data as shown in:\n",
            "    https://scikit-learn.org/stable/modules/preprocessing.html\n",
            "Please also refer to the documentation for alternative solver options:\n",
            "    https://scikit-learn.org/stable/modules/linear_model.html#logistic-regression\n",
            "  extra_warning_msg=_LOGISTIC_SOLVER_CONVERGENCE_MSG,\n"
          ]
        },
        {
          "output_type": "stream",
          "name": "stdout",
          "text": [
            "[CV 3/5; 6/120] END Modelo=LogisticRegression(random_state=20), Preprocessing__bow__ngram_range=(1, 1), Selection__percentile=30;, score=(train=1.000, test=0.500) total time=   0.5s\n",
            "[CV 4/5; 6/120] START Modelo=LogisticRegression(random_state=20), Preprocessing__bow__ngram_range=(1, 1), Selection__percentile=30\n",
            "[CV 4/5; 6/120] END Modelo=LogisticRegression(random_state=20), Preprocessing__bow__ngram_range=(1, 1), Selection__percentile=30;, score=(train=1.000, test=0.333) total time=   0.8s\n",
            "[CV 5/5; 6/120] START Modelo=LogisticRegression(random_state=20), Preprocessing__bow__ngram_range=(1, 1), Selection__percentile=30\n",
            "[CV 5/5; 6/120] END Modelo=LogisticRegression(random_state=20), Preprocessing__bow__ngram_range=(1, 1), Selection__percentile=30;, score=(train=1.000, test=0.500) total time=   0.7s\n",
            "[CV 1/5; 7/120] START Modelo=LogisticRegression(random_state=20), Preprocessing__bow__ngram_range=(1, 1), Selection__percentile=35\n"
          ]
        },
        {
          "output_type": "stream",
          "name": "stderr",
          "text": [
            "/usr/local/lib/python3.7/dist-packages/sklearn/feature_selection/_univariate_selection.py:113: RuntimeWarning: divide by zero encountered in true_divide\n",
            "  f = msb / msw\n",
            "/usr/local/lib/python3.7/dist-packages/sklearn/linear_model/_logistic.py:818: ConvergenceWarning: lbfgs failed to converge (status=1):\n",
            "STOP: TOTAL NO. of ITERATIONS REACHED LIMIT.\n",
            "\n",
            "Increase the number of iterations (max_iter) or scale the data as shown in:\n",
            "    https://scikit-learn.org/stable/modules/preprocessing.html\n",
            "Please also refer to the documentation for alternative solver options:\n",
            "    https://scikit-learn.org/stable/modules/linear_model.html#logistic-regression\n",
            "  extra_warning_msg=_LOGISTIC_SOLVER_CONVERGENCE_MSG,\n"
          ]
        },
        {
          "output_type": "stream",
          "name": "stdout",
          "text": [
            "[CV 1/5; 7/120] END Modelo=LogisticRegression(random_state=20), Preprocessing__bow__ngram_range=(1, 1), Selection__percentile=35;, score=(train=1.000, test=0.833) total time=   0.8s\n",
            "[CV 2/5; 7/120] START Modelo=LogisticRegression(random_state=20), Preprocessing__bow__ngram_range=(1, 1), Selection__percentile=35\n"
          ]
        },
        {
          "output_type": "stream",
          "name": "stderr",
          "text": [
            "/usr/local/lib/python3.7/dist-packages/sklearn/feature_selection/_univariate_selection.py:113: RuntimeWarning: divide by zero encountered in true_divide\n",
            "  f = msb / msw\n",
            "/usr/local/lib/python3.7/dist-packages/sklearn/linear_model/_logistic.py:818: ConvergenceWarning: lbfgs failed to converge (status=1):\n",
            "STOP: TOTAL NO. of ITERATIONS REACHED LIMIT.\n",
            "\n",
            "Increase the number of iterations (max_iter) or scale the data as shown in:\n",
            "    https://scikit-learn.org/stable/modules/preprocessing.html\n",
            "Please also refer to the documentation for alternative solver options:\n",
            "    https://scikit-learn.org/stable/modules/linear_model.html#logistic-regression\n",
            "  extra_warning_msg=_LOGISTIC_SOLVER_CONVERGENCE_MSG,\n"
          ]
        },
        {
          "output_type": "stream",
          "name": "stdout",
          "text": [
            "[CV 2/5; 7/120] END Modelo=LogisticRegression(random_state=20), Preprocessing__bow__ngram_range=(1, 1), Selection__percentile=35;, score=(train=1.000, test=0.500) total time=   1.1s\n",
            "[CV 3/5; 7/120] START Modelo=LogisticRegression(random_state=20), Preprocessing__bow__ngram_range=(1, 1), Selection__percentile=35\n"
          ]
        },
        {
          "output_type": "stream",
          "name": "stderr",
          "text": [
            "/usr/local/lib/python3.7/dist-packages/sklearn/linear_model/_logistic.py:818: ConvergenceWarning: lbfgs failed to converge (status=1):\n",
            "STOP: TOTAL NO. of ITERATIONS REACHED LIMIT.\n",
            "\n",
            "Increase the number of iterations (max_iter) or scale the data as shown in:\n",
            "    https://scikit-learn.org/stable/modules/preprocessing.html\n",
            "Please also refer to the documentation for alternative solver options:\n",
            "    https://scikit-learn.org/stable/modules/linear_model.html#logistic-regression\n",
            "  extra_warning_msg=_LOGISTIC_SOLVER_CONVERGENCE_MSG,\n"
          ]
        },
        {
          "output_type": "stream",
          "name": "stdout",
          "text": [
            "[CV 3/5; 7/120] END Modelo=LogisticRegression(random_state=20), Preprocessing__bow__ngram_range=(1, 1), Selection__percentile=35;, score=(train=1.000, test=0.500) total time=   0.5s\n",
            "[CV 4/5; 7/120] START Modelo=LogisticRegression(random_state=20), Preprocessing__bow__ngram_range=(1, 1), Selection__percentile=35\n",
            "[CV 4/5; 7/120] END Modelo=LogisticRegression(random_state=20), Preprocessing__bow__ngram_range=(1, 1), Selection__percentile=35;, score=(train=1.000, test=0.333) total time=   0.8s\n",
            "[CV 5/5; 7/120] START Modelo=LogisticRegression(random_state=20), Preprocessing__bow__ngram_range=(1, 1), Selection__percentile=35\n"
          ]
        },
        {
          "output_type": "stream",
          "name": "stderr",
          "text": [
            "/usr/local/lib/python3.7/dist-packages/sklearn/linear_model/_logistic.py:818: ConvergenceWarning: lbfgs failed to converge (status=1):\n",
            "STOP: TOTAL NO. of ITERATIONS REACHED LIMIT.\n",
            "\n",
            "Increase the number of iterations (max_iter) or scale the data as shown in:\n",
            "    https://scikit-learn.org/stable/modules/preprocessing.html\n",
            "Please also refer to the documentation for alternative solver options:\n",
            "    https://scikit-learn.org/stable/modules/linear_model.html#logistic-regression\n",
            "  extra_warning_msg=_LOGISTIC_SOLVER_CONVERGENCE_MSG,\n"
          ]
        },
        {
          "output_type": "stream",
          "name": "stdout",
          "text": [
            "[CV 5/5; 7/120] END Modelo=LogisticRegression(random_state=20), Preprocessing__bow__ngram_range=(1, 1), Selection__percentile=35;, score=(train=1.000, test=0.500) total time=   0.7s\n",
            "[CV 1/5; 8/120] START Modelo=LogisticRegression(random_state=20), Preprocessing__bow__ngram_range=(1, 1), Selection__percentile=40\n"
          ]
        },
        {
          "output_type": "stream",
          "name": "stderr",
          "text": [
            "/usr/local/lib/python3.7/dist-packages/sklearn/feature_selection/_univariate_selection.py:113: RuntimeWarning: divide by zero encountered in true_divide\n",
            "  f = msb / msw\n",
            "/usr/local/lib/python3.7/dist-packages/sklearn/linear_model/_logistic.py:818: ConvergenceWarning: lbfgs failed to converge (status=1):\n",
            "STOP: TOTAL NO. of ITERATIONS REACHED LIMIT.\n",
            "\n",
            "Increase the number of iterations (max_iter) or scale the data as shown in:\n",
            "    https://scikit-learn.org/stable/modules/preprocessing.html\n",
            "Please also refer to the documentation for alternative solver options:\n",
            "    https://scikit-learn.org/stable/modules/linear_model.html#logistic-regression\n",
            "  extra_warning_msg=_LOGISTIC_SOLVER_CONVERGENCE_MSG,\n"
          ]
        },
        {
          "output_type": "stream",
          "name": "stdout",
          "text": [
            "[CV 1/5; 8/120] END Modelo=LogisticRegression(random_state=20), Preprocessing__bow__ngram_range=(1, 1), Selection__percentile=40;, score=(train=1.000, test=0.833) total time=   0.8s\n",
            "[CV 2/5; 8/120] START Modelo=LogisticRegression(random_state=20), Preprocessing__bow__ngram_range=(1, 1), Selection__percentile=40\n"
          ]
        },
        {
          "output_type": "stream",
          "name": "stderr",
          "text": [
            "/usr/local/lib/python3.7/dist-packages/sklearn/feature_selection/_univariate_selection.py:113: RuntimeWarning: divide by zero encountered in true_divide\n",
            "  f = msb / msw\n",
            "/usr/local/lib/python3.7/dist-packages/sklearn/linear_model/_logistic.py:818: ConvergenceWarning: lbfgs failed to converge (status=1):\n",
            "STOP: TOTAL NO. of ITERATIONS REACHED LIMIT.\n",
            "\n",
            "Increase the number of iterations (max_iter) or scale the data as shown in:\n",
            "    https://scikit-learn.org/stable/modules/preprocessing.html\n",
            "Please also refer to the documentation for alternative solver options:\n",
            "    https://scikit-learn.org/stable/modules/linear_model.html#logistic-regression\n",
            "  extra_warning_msg=_LOGISTIC_SOLVER_CONVERGENCE_MSG,\n"
          ]
        },
        {
          "output_type": "stream",
          "name": "stdout",
          "text": [
            "[CV 2/5; 8/120] END Modelo=LogisticRegression(random_state=20), Preprocessing__bow__ngram_range=(1, 1), Selection__percentile=40;, score=(train=1.000, test=0.333) total time=   1.1s\n",
            "[CV 3/5; 8/120] START Modelo=LogisticRegression(random_state=20), Preprocessing__bow__ngram_range=(1, 1), Selection__percentile=40\n"
          ]
        },
        {
          "output_type": "stream",
          "name": "stderr",
          "text": [
            "/usr/local/lib/python3.7/dist-packages/sklearn/linear_model/_logistic.py:818: ConvergenceWarning: lbfgs failed to converge (status=1):\n",
            "STOP: TOTAL NO. of ITERATIONS REACHED LIMIT.\n",
            "\n",
            "Increase the number of iterations (max_iter) or scale the data as shown in:\n",
            "    https://scikit-learn.org/stable/modules/preprocessing.html\n",
            "Please also refer to the documentation for alternative solver options:\n",
            "    https://scikit-learn.org/stable/modules/linear_model.html#logistic-regression\n",
            "  extra_warning_msg=_LOGISTIC_SOLVER_CONVERGENCE_MSG,\n"
          ]
        },
        {
          "output_type": "stream",
          "name": "stdout",
          "text": [
            "[CV 3/5; 8/120] END Modelo=LogisticRegression(random_state=20), Preprocessing__bow__ngram_range=(1, 1), Selection__percentile=40;, score=(train=1.000, test=0.500) total time=   0.5s\n",
            "[CV 4/5; 8/120] START Modelo=LogisticRegression(random_state=20), Preprocessing__bow__ngram_range=(1, 1), Selection__percentile=40\n",
            "[CV 4/5; 8/120] END Modelo=LogisticRegression(random_state=20), Preprocessing__bow__ngram_range=(1, 1), Selection__percentile=40;, score=(train=1.000, test=0.333) total time=   0.8s\n",
            "[CV 5/5; 8/120] START Modelo=LogisticRegression(random_state=20), Preprocessing__bow__ngram_range=(1, 1), Selection__percentile=40\n"
          ]
        },
        {
          "output_type": "stream",
          "name": "stderr",
          "text": [
            "/usr/local/lib/python3.7/dist-packages/sklearn/linear_model/_logistic.py:818: ConvergenceWarning: lbfgs failed to converge (status=1):\n",
            "STOP: TOTAL NO. of ITERATIONS REACHED LIMIT.\n",
            "\n",
            "Increase the number of iterations (max_iter) or scale the data as shown in:\n",
            "    https://scikit-learn.org/stable/modules/preprocessing.html\n",
            "Please also refer to the documentation for alternative solver options:\n",
            "    https://scikit-learn.org/stable/modules/linear_model.html#logistic-regression\n",
            "  extra_warning_msg=_LOGISTIC_SOLVER_CONVERGENCE_MSG,\n"
          ]
        },
        {
          "output_type": "stream",
          "name": "stdout",
          "text": [
            "[CV 5/5; 8/120] END Modelo=LogisticRegression(random_state=20), Preprocessing__bow__ngram_range=(1, 1), Selection__percentile=40;, score=(train=1.000, test=0.500) total time=   0.7s\n",
            "[CV 1/5; 9/120] START Modelo=LogisticRegression(random_state=20), Preprocessing__bow__ngram_range=(1, 1), Selection__percentile=45\n"
          ]
        },
        {
          "output_type": "stream",
          "name": "stderr",
          "text": [
            "/usr/local/lib/python3.7/dist-packages/sklearn/feature_selection/_univariate_selection.py:113: RuntimeWarning: divide by zero encountered in true_divide\n",
            "  f = msb / msw\n",
            "/usr/local/lib/python3.7/dist-packages/sklearn/linear_model/_logistic.py:818: ConvergenceWarning: lbfgs failed to converge (status=1):\n",
            "STOP: TOTAL NO. of ITERATIONS REACHED LIMIT.\n",
            "\n",
            "Increase the number of iterations (max_iter) or scale the data as shown in:\n",
            "    https://scikit-learn.org/stable/modules/preprocessing.html\n",
            "Please also refer to the documentation for alternative solver options:\n",
            "    https://scikit-learn.org/stable/modules/linear_model.html#logistic-regression\n",
            "  extra_warning_msg=_LOGISTIC_SOLVER_CONVERGENCE_MSG,\n"
          ]
        },
        {
          "output_type": "stream",
          "name": "stdout",
          "text": [
            "[CV 1/5; 9/120] END Modelo=LogisticRegression(random_state=20), Preprocessing__bow__ngram_range=(1, 1), Selection__percentile=45;, score=(train=1.000, test=0.833) total time=   0.8s\n",
            "[CV 2/5; 9/120] START Modelo=LogisticRegression(random_state=20), Preprocessing__bow__ngram_range=(1, 1), Selection__percentile=45\n"
          ]
        },
        {
          "output_type": "stream",
          "name": "stderr",
          "text": [
            "/usr/local/lib/python3.7/dist-packages/sklearn/feature_selection/_univariate_selection.py:113: RuntimeWarning: divide by zero encountered in true_divide\n",
            "  f = msb / msw\n",
            "/usr/local/lib/python3.7/dist-packages/sklearn/linear_model/_logistic.py:818: ConvergenceWarning: lbfgs failed to converge (status=1):\n",
            "STOP: TOTAL NO. of ITERATIONS REACHED LIMIT.\n",
            "\n",
            "Increase the number of iterations (max_iter) or scale the data as shown in:\n",
            "    https://scikit-learn.org/stable/modules/preprocessing.html\n",
            "Please also refer to the documentation for alternative solver options:\n",
            "    https://scikit-learn.org/stable/modules/linear_model.html#logistic-regression\n",
            "  extra_warning_msg=_LOGISTIC_SOLVER_CONVERGENCE_MSG,\n"
          ]
        },
        {
          "output_type": "stream",
          "name": "stdout",
          "text": [
            "[CV 2/5; 9/120] END Modelo=LogisticRegression(random_state=20), Preprocessing__bow__ngram_range=(1, 1), Selection__percentile=45;, score=(train=1.000, test=0.500) total time=   1.1s\n",
            "[CV 3/5; 9/120] START Modelo=LogisticRegression(random_state=20), Preprocessing__bow__ngram_range=(1, 1), Selection__percentile=45\n"
          ]
        },
        {
          "output_type": "stream",
          "name": "stderr",
          "text": [
            "/usr/local/lib/python3.7/dist-packages/sklearn/linear_model/_logistic.py:818: ConvergenceWarning: lbfgs failed to converge (status=1):\n",
            "STOP: TOTAL NO. of ITERATIONS REACHED LIMIT.\n",
            "\n",
            "Increase the number of iterations (max_iter) or scale the data as shown in:\n",
            "    https://scikit-learn.org/stable/modules/preprocessing.html\n",
            "Please also refer to the documentation for alternative solver options:\n",
            "    https://scikit-learn.org/stable/modules/linear_model.html#logistic-regression\n",
            "  extra_warning_msg=_LOGISTIC_SOLVER_CONVERGENCE_MSG,\n"
          ]
        },
        {
          "output_type": "stream",
          "name": "stdout",
          "text": [
            "[CV 3/5; 9/120] END Modelo=LogisticRegression(random_state=20), Preprocessing__bow__ngram_range=(1, 1), Selection__percentile=45;, score=(train=1.000, test=0.500) total time=   0.5s\n",
            "[CV 4/5; 9/120] START Modelo=LogisticRegression(random_state=20), Preprocessing__bow__ngram_range=(1, 1), Selection__percentile=45\n",
            "[CV 4/5; 9/120] END Modelo=LogisticRegression(random_state=20), Preprocessing__bow__ngram_range=(1, 1), Selection__percentile=45;, score=(train=1.000, test=0.333) total time=   0.8s\n",
            "[CV 5/5; 9/120] START Modelo=LogisticRegression(random_state=20), Preprocessing__bow__ngram_range=(1, 1), Selection__percentile=45\n",
            "[CV 5/5; 9/120] END Modelo=LogisticRegression(random_state=20), Preprocessing__bow__ngram_range=(1, 1), Selection__percentile=45;, score=(train=1.000, test=0.500) total time=   0.7s\n",
            "[CV 1/5; 10/120] START Modelo=LogisticRegression(random_state=20), Preprocessing__bow__ngram_range=(1, 1), Selection__percentile=50\n"
          ]
        },
        {
          "output_type": "stream",
          "name": "stderr",
          "text": [
            "/usr/local/lib/python3.7/dist-packages/sklearn/feature_selection/_univariate_selection.py:113: RuntimeWarning: divide by zero encountered in true_divide\n",
            "  f = msb / msw\n",
            "/usr/local/lib/python3.7/dist-packages/sklearn/linear_model/_logistic.py:818: ConvergenceWarning: lbfgs failed to converge (status=1):\n",
            "STOP: TOTAL NO. of ITERATIONS REACHED LIMIT.\n",
            "\n",
            "Increase the number of iterations (max_iter) or scale the data as shown in:\n",
            "    https://scikit-learn.org/stable/modules/preprocessing.html\n",
            "Please also refer to the documentation for alternative solver options:\n",
            "    https://scikit-learn.org/stable/modules/linear_model.html#logistic-regression\n",
            "  extra_warning_msg=_LOGISTIC_SOLVER_CONVERGENCE_MSG,\n"
          ]
        },
        {
          "output_type": "stream",
          "name": "stdout",
          "text": [
            "[CV 1/5; 10/120] END Modelo=LogisticRegression(random_state=20), Preprocessing__bow__ngram_range=(1, 1), Selection__percentile=50;, score=(train=1.000, test=0.833) total time=   0.8s\n",
            "[CV 2/5; 10/120] START Modelo=LogisticRegression(random_state=20), Preprocessing__bow__ngram_range=(1, 1), Selection__percentile=50\n"
          ]
        },
        {
          "output_type": "stream",
          "name": "stderr",
          "text": [
            "/usr/local/lib/python3.7/dist-packages/sklearn/feature_selection/_univariate_selection.py:113: RuntimeWarning: divide by zero encountered in true_divide\n",
            "  f = msb / msw\n",
            "/usr/local/lib/python3.7/dist-packages/sklearn/linear_model/_logistic.py:818: ConvergenceWarning: lbfgs failed to converge (status=1):\n",
            "STOP: TOTAL NO. of ITERATIONS REACHED LIMIT.\n",
            "\n",
            "Increase the number of iterations (max_iter) or scale the data as shown in:\n",
            "    https://scikit-learn.org/stable/modules/preprocessing.html\n",
            "Please also refer to the documentation for alternative solver options:\n",
            "    https://scikit-learn.org/stable/modules/linear_model.html#logistic-regression\n",
            "  extra_warning_msg=_LOGISTIC_SOLVER_CONVERGENCE_MSG,\n"
          ]
        },
        {
          "output_type": "stream",
          "name": "stdout",
          "text": [
            "[CV 2/5; 10/120] END Modelo=LogisticRegression(random_state=20), Preprocessing__bow__ngram_range=(1, 1), Selection__percentile=50;, score=(train=1.000, test=0.500) total time=   1.1s\n",
            "[CV 3/5; 10/120] START Modelo=LogisticRegression(random_state=20), Preprocessing__bow__ngram_range=(1, 1), Selection__percentile=50\n",
            "[CV 3/5; 10/120] END Modelo=LogisticRegression(random_state=20), Preprocessing__bow__ngram_range=(1, 1), Selection__percentile=50;, score=(train=1.000, test=0.500) total time=   0.5s\n",
            "[CV 4/5; 10/120] START Modelo=LogisticRegression(random_state=20), Preprocessing__bow__ngram_range=(1, 1), Selection__percentile=50\n",
            "[CV 4/5; 10/120] END Modelo=LogisticRegression(random_state=20), Preprocessing__bow__ngram_range=(1, 1), Selection__percentile=50;, score=(train=1.000, test=0.333) total time=   0.8s\n",
            "[CV 5/5; 10/120] START Modelo=LogisticRegression(random_state=20), Preprocessing__bow__ngram_range=(1, 1), Selection__percentile=50\n"
          ]
        },
        {
          "output_type": "stream",
          "name": "stderr",
          "text": [
            "/usr/local/lib/python3.7/dist-packages/sklearn/linear_model/_logistic.py:818: ConvergenceWarning: lbfgs failed to converge (status=1):\n",
            "STOP: TOTAL NO. of ITERATIONS REACHED LIMIT.\n",
            "\n",
            "Increase the number of iterations (max_iter) or scale the data as shown in:\n",
            "    https://scikit-learn.org/stable/modules/preprocessing.html\n",
            "Please also refer to the documentation for alternative solver options:\n",
            "    https://scikit-learn.org/stable/modules/linear_model.html#logistic-regression\n",
            "  extra_warning_msg=_LOGISTIC_SOLVER_CONVERGENCE_MSG,\n"
          ]
        },
        {
          "output_type": "stream",
          "name": "stdout",
          "text": [
            "[CV 5/5; 10/120] END Modelo=LogisticRegression(random_state=20), Preprocessing__bow__ngram_range=(1, 1), Selection__percentile=50;, score=(train=1.000, test=0.500) total time=   0.7s\n",
            "[CV 1/5; 11/120] START Modelo=LogisticRegression(random_state=20), Preprocessing__bow__ngram_range=(1, 1), Selection__percentile=55\n"
          ]
        },
        {
          "output_type": "stream",
          "name": "stderr",
          "text": [
            "/usr/local/lib/python3.7/dist-packages/sklearn/feature_selection/_univariate_selection.py:113: RuntimeWarning: divide by zero encountered in true_divide\n",
            "  f = msb / msw\n",
            "/usr/local/lib/python3.7/dist-packages/sklearn/linear_model/_logistic.py:818: ConvergenceWarning: lbfgs failed to converge (status=1):\n",
            "STOP: TOTAL NO. of ITERATIONS REACHED LIMIT.\n",
            "\n",
            "Increase the number of iterations (max_iter) or scale the data as shown in:\n",
            "    https://scikit-learn.org/stable/modules/preprocessing.html\n",
            "Please also refer to the documentation for alternative solver options:\n",
            "    https://scikit-learn.org/stable/modules/linear_model.html#logistic-regression\n",
            "  extra_warning_msg=_LOGISTIC_SOLVER_CONVERGENCE_MSG,\n"
          ]
        },
        {
          "output_type": "stream",
          "name": "stdout",
          "text": [
            "[CV 1/5; 11/120] END Modelo=LogisticRegression(random_state=20), Preprocessing__bow__ngram_range=(1, 1), Selection__percentile=55;, score=(train=1.000, test=0.833) total time=   0.8s\n",
            "[CV 2/5; 11/120] START Modelo=LogisticRegression(random_state=20), Preprocessing__bow__ngram_range=(1, 1), Selection__percentile=55\n"
          ]
        },
        {
          "output_type": "stream",
          "name": "stderr",
          "text": [
            "/usr/local/lib/python3.7/dist-packages/sklearn/feature_selection/_univariate_selection.py:113: RuntimeWarning: divide by zero encountered in true_divide\n",
            "  f = msb / msw\n",
            "/usr/local/lib/python3.7/dist-packages/sklearn/linear_model/_logistic.py:818: ConvergenceWarning: lbfgs failed to converge (status=1):\n",
            "STOP: TOTAL NO. of ITERATIONS REACHED LIMIT.\n",
            "\n",
            "Increase the number of iterations (max_iter) or scale the data as shown in:\n",
            "    https://scikit-learn.org/stable/modules/preprocessing.html\n",
            "Please also refer to the documentation for alternative solver options:\n",
            "    https://scikit-learn.org/stable/modules/linear_model.html#logistic-regression\n",
            "  extra_warning_msg=_LOGISTIC_SOLVER_CONVERGENCE_MSG,\n"
          ]
        },
        {
          "output_type": "stream",
          "name": "stdout",
          "text": [
            "[CV 2/5; 11/120] END Modelo=LogisticRegression(random_state=20), Preprocessing__bow__ngram_range=(1, 1), Selection__percentile=55;, score=(train=1.000, test=0.500) total time=   1.1s\n",
            "[CV 3/5; 11/120] START Modelo=LogisticRegression(random_state=20), Preprocessing__bow__ngram_range=(1, 1), Selection__percentile=55\n"
          ]
        },
        {
          "output_type": "stream",
          "name": "stderr",
          "text": [
            "/usr/local/lib/python3.7/dist-packages/sklearn/linear_model/_logistic.py:818: ConvergenceWarning: lbfgs failed to converge (status=1):\n",
            "STOP: TOTAL NO. of ITERATIONS REACHED LIMIT.\n",
            "\n",
            "Increase the number of iterations (max_iter) or scale the data as shown in:\n",
            "    https://scikit-learn.org/stable/modules/preprocessing.html\n",
            "Please also refer to the documentation for alternative solver options:\n",
            "    https://scikit-learn.org/stable/modules/linear_model.html#logistic-regression\n",
            "  extra_warning_msg=_LOGISTIC_SOLVER_CONVERGENCE_MSG,\n"
          ]
        },
        {
          "output_type": "stream",
          "name": "stdout",
          "text": [
            "[CV 3/5; 11/120] END Modelo=LogisticRegression(random_state=20), Preprocessing__bow__ngram_range=(1, 1), Selection__percentile=55;, score=(train=1.000, test=0.500) total time=   0.5s\n",
            "[CV 4/5; 11/120] START Modelo=LogisticRegression(random_state=20), Preprocessing__bow__ngram_range=(1, 1), Selection__percentile=55\n",
            "[CV 4/5; 11/120] END Modelo=LogisticRegression(random_state=20), Preprocessing__bow__ngram_range=(1, 1), Selection__percentile=55;, score=(train=1.000, test=0.333) total time=   0.8s\n",
            "[CV 5/5; 11/120] START Modelo=LogisticRegression(random_state=20), Preprocessing__bow__ngram_range=(1, 1), Selection__percentile=55\n",
            "[CV 5/5; 11/120] END Modelo=LogisticRegression(random_state=20), Preprocessing__bow__ngram_range=(1, 1), Selection__percentile=55;, score=(train=1.000, test=0.500) total time=   0.7s\n",
            "[CV 1/5; 12/120] START Modelo=LogisticRegression(random_state=20), Preprocessing__bow__ngram_range=(1, 1), Selection__percentile=60\n"
          ]
        },
        {
          "output_type": "stream",
          "name": "stderr",
          "text": [
            "/usr/local/lib/python3.7/dist-packages/sklearn/feature_selection/_univariate_selection.py:113: RuntimeWarning: divide by zero encountered in true_divide\n",
            "  f = msb / msw\n",
            "/usr/local/lib/python3.7/dist-packages/sklearn/linear_model/_logistic.py:818: ConvergenceWarning: lbfgs failed to converge (status=1):\n",
            "STOP: TOTAL NO. of ITERATIONS REACHED LIMIT.\n",
            "\n",
            "Increase the number of iterations (max_iter) or scale the data as shown in:\n",
            "    https://scikit-learn.org/stable/modules/preprocessing.html\n",
            "Please also refer to the documentation for alternative solver options:\n",
            "    https://scikit-learn.org/stable/modules/linear_model.html#logistic-regression\n",
            "  extra_warning_msg=_LOGISTIC_SOLVER_CONVERGENCE_MSG,\n"
          ]
        },
        {
          "output_type": "stream",
          "name": "stdout",
          "text": [
            "[CV 1/5; 12/120] END Modelo=LogisticRegression(random_state=20), Preprocessing__bow__ngram_range=(1, 1), Selection__percentile=60;, score=(train=1.000, test=0.833) total time=   0.8s\n",
            "[CV 2/5; 12/120] START Modelo=LogisticRegression(random_state=20), Preprocessing__bow__ngram_range=(1, 1), Selection__percentile=60\n"
          ]
        },
        {
          "output_type": "stream",
          "name": "stderr",
          "text": [
            "/usr/local/lib/python3.7/dist-packages/sklearn/feature_selection/_univariate_selection.py:113: RuntimeWarning: divide by zero encountered in true_divide\n",
            "  f = msb / msw\n",
            "/usr/local/lib/python3.7/dist-packages/sklearn/linear_model/_logistic.py:818: ConvergenceWarning: lbfgs failed to converge (status=1):\n",
            "STOP: TOTAL NO. of ITERATIONS REACHED LIMIT.\n",
            "\n",
            "Increase the number of iterations (max_iter) or scale the data as shown in:\n",
            "    https://scikit-learn.org/stable/modules/preprocessing.html\n",
            "Please also refer to the documentation for alternative solver options:\n",
            "    https://scikit-learn.org/stable/modules/linear_model.html#logistic-regression\n",
            "  extra_warning_msg=_LOGISTIC_SOLVER_CONVERGENCE_MSG,\n"
          ]
        },
        {
          "output_type": "stream",
          "name": "stdout",
          "text": [
            "[CV 2/5; 12/120] END Modelo=LogisticRegression(random_state=20), Preprocessing__bow__ngram_range=(1, 1), Selection__percentile=60;, score=(train=1.000, test=0.500) total time=   1.1s\n",
            "[CV 3/5; 12/120] START Modelo=LogisticRegression(random_state=20), Preprocessing__bow__ngram_range=(1, 1), Selection__percentile=60\n"
          ]
        },
        {
          "output_type": "stream",
          "name": "stderr",
          "text": [
            "/usr/local/lib/python3.7/dist-packages/sklearn/linear_model/_logistic.py:818: ConvergenceWarning: lbfgs failed to converge (status=1):\n",
            "STOP: TOTAL NO. of ITERATIONS REACHED LIMIT.\n",
            "\n",
            "Increase the number of iterations (max_iter) or scale the data as shown in:\n",
            "    https://scikit-learn.org/stable/modules/preprocessing.html\n",
            "Please also refer to the documentation for alternative solver options:\n",
            "    https://scikit-learn.org/stable/modules/linear_model.html#logistic-regression\n",
            "  extra_warning_msg=_LOGISTIC_SOLVER_CONVERGENCE_MSG,\n"
          ]
        },
        {
          "output_type": "stream",
          "name": "stdout",
          "text": [
            "[CV 3/5; 12/120] END Modelo=LogisticRegression(random_state=20), Preprocessing__bow__ngram_range=(1, 1), Selection__percentile=60;, score=(train=1.000, test=0.500) total time=   0.5s\n",
            "[CV 4/5; 12/120] START Modelo=LogisticRegression(random_state=20), Preprocessing__bow__ngram_range=(1, 1), Selection__percentile=60\n",
            "[CV 4/5; 12/120] END Modelo=LogisticRegression(random_state=20), Preprocessing__bow__ngram_range=(1, 1), Selection__percentile=60;, score=(train=1.000, test=0.333) total time=   0.9s\n",
            "[CV 5/5; 12/120] START Modelo=LogisticRegression(random_state=20), Preprocessing__bow__ngram_range=(1, 1), Selection__percentile=60\n",
            "[CV 5/5; 12/120] END Modelo=LogisticRegression(random_state=20), Preprocessing__bow__ngram_range=(1, 1), Selection__percentile=60;, score=(train=1.000, test=0.500) total time=   0.7s\n",
            "[CV 1/5; 13/120] START Modelo=LogisticRegression(random_state=20), Preprocessing__bow__ngram_range=(1, 1), Selection__percentile=65\n"
          ]
        },
        {
          "output_type": "stream",
          "name": "stderr",
          "text": [
            "/usr/local/lib/python3.7/dist-packages/sklearn/feature_selection/_univariate_selection.py:113: RuntimeWarning: divide by zero encountered in true_divide\n",
            "  f = msb / msw\n",
            "/usr/local/lib/python3.7/dist-packages/sklearn/linear_model/_logistic.py:818: ConvergenceWarning: lbfgs failed to converge (status=1):\n",
            "STOP: TOTAL NO. of ITERATIONS REACHED LIMIT.\n",
            "\n",
            "Increase the number of iterations (max_iter) or scale the data as shown in:\n",
            "    https://scikit-learn.org/stable/modules/preprocessing.html\n",
            "Please also refer to the documentation for alternative solver options:\n",
            "    https://scikit-learn.org/stable/modules/linear_model.html#logistic-regression\n",
            "  extra_warning_msg=_LOGISTIC_SOLVER_CONVERGENCE_MSG,\n"
          ]
        },
        {
          "output_type": "stream",
          "name": "stdout",
          "text": [
            "[CV 1/5; 13/120] END Modelo=LogisticRegression(random_state=20), Preprocessing__bow__ngram_range=(1, 1), Selection__percentile=65;, score=(train=1.000, test=0.833) total time=   0.9s\n",
            "[CV 2/5; 13/120] START Modelo=LogisticRegression(random_state=20), Preprocessing__bow__ngram_range=(1, 1), Selection__percentile=65\n"
          ]
        },
        {
          "output_type": "stream",
          "name": "stderr",
          "text": [
            "/usr/local/lib/python3.7/dist-packages/sklearn/feature_selection/_univariate_selection.py:113: RuntimeWarning: divide by zero encountered in true_divide\n",
            "  f = msb / msw\n",
            "/usr/local/lib/python3.7/dist-packages/sklearn/linear_model/_logistic.py:818: ConvergenceWarning: lbfgs failed to converge (status=1):\n",
            "STOP: TOTAL NO. of ITERATIONS REACHED LIMIT.\n",
            "\n",
            "Increase the number of iterations (max_iter) or scale the data as shown in:\n",
            "    https://scikit-learn.org/stable/modules/preprocessing.html\n",
            "Please also refer to the documentation for alternative solver options:\n",
            "    https://scikit-learn.org/stable/modules/linear_model.html#logistic-regression\n",
            "  extra_warning_msg=_LOGISTIC_SOLVER_CONVERGENCE_MSG,\n"
          ]
        },
        {
          "output_type": "stream",
          "name": "stdout",
          "text": [
            "[CV 2/5; 13/120] END Modelo=LogisticRegression(random_state=20), Preprocessing__bow__ngram_range=(1, 1), Selection__percentile=65;, score=(train=1.000, test=0.500) total time=   1.1s\n",
            "[CV 3/5; 13/120] START Modelo=LogisticRegression(random_state=20), Preprocessing__bow__ngram_range=(1, 1), Selection__percentile=65\n"
          ]
        },
        {
          "output_type": "stream",
          "name": "stderr",
          "text": [
            "/usr/local/lib/python3.7/dist-packages/sklearn/linear_model/_logistic.py:818: ConvergenceWarning: lbfgs failed to converge (status=1):\n",
            "STOP: TOTAL NO. of ITERATIONS REACHED LIMIT.\n",
            "\n",
            "Increase the number of iterations (max_iter) or scale the data as shown in:\n",
            "    https://scikit-learn.org/stable/modules/preprocessing.html\n",
            "Please also refer to the documentation for alternative solver options:\n",
            "    https://scikit-learn.org/stable/modules/linear_model.html#logistic-regression\n",
            "  extra_warning_msg=_LOGISTIC_SOLVER_CONVERGENCE_MSG,\n"
          ]
        },
        {
          "output_type": "stream",
          "name": "stdout",
          "text": [
            "[CV 3/5; 13/120] END Modelo=LogisticRegression(random_state=20), Preprocessing__bow__ngram_range=(1, 1), Selection__percentile=65;, score=(train=1.000, test=0.500) total time=   0.5s\n",
            "[CV 4/5; 13/120] START Modelo=LogisticRegression(random_state=20), Preprocessing__bow__ngram_range=(1, 1), Selection__percentile=65\n",
            "[CV 4/5; 13/120] END Modelo=LogisticRegression(random_state=20), Preprocessing__bow__ngram_range=(1, 1), Selection__percentile=65;, score=(train=1.000, test=0.333) total time=   0.9s\n",
            "[CV 5/5; 13/120] START Modelo=LogisticRegression(random_state=20), Preprocessing__bow__ngram_range=(1, 1), Selection__percentile=65\n"
          ]
        },
        {
          "output_type": "stream",
          "name": "stderr",
          "text": [
            "/usr/local/lib/python3.7/dist-packages/sklearn/linear_model/_logistic.py:818: ConvergenceWarning: lbfgs failed to converge (status=1):\n",
            "STOP: TOTAL NO. of ITERATIONS REACHED LIMIT.\n",
            "\n",
            "Increase the number of iterations (max_iter) or scale the data as shown in:\n",
            "    https://scikit-learn.org/stable/modules/preprocessing.html\n",
            "Please also refer to the documentation for alternative solver options:\n",
            "    https://scikit-learn.org/stable/modules/linear_model.html#logistic-regression\n",
            "  extra_warning_msg=_LOGISTIC_SOLVER_CONVERGENCE_MSG,\n"
          ]
        },
        {
          "output_type": "stream",
          "name": "stdout",
          "text": [
            "[CV 5/5; 13/120] END Modelo=LogisticRegression(random_state=20), Preprocessing__bow__ngram_range=(1, 1), Selection__percentile=65;, score=(train=1.000, test=0.500) total time=   0.7s\n",
            "[CV 1/5; 14/120] START Modelo=LogisticRegression(random_state=20), Preprocessing__bow__ngram_range=(1, 1), Selection__percentile=70\n"
          ]
        },
        {
          "output_type": "stream",
          "name": "stderr",
          "text": [
            "/usr/local/lib/python3.7/dist-packages/sklearn/feature_selection/_univariate_selection.py:113: RuntimeWarning: divide by zero encountered in true_divide\n",
            "  f = msb / msw\n",
            "/usr/local/lib/python3.7/dist-packages/sklearn/linear_model/_logistic.py:818: ConvergenceWarning: lbfgs failed to converge (status=1):\n",
            "STOP: TOTAL NO. of ITERATIONS REACHED LIMIT.\n",
            "\n",
            "Increase the number of iterations (max_iter) or scale the data as shown in:\n",
            "    https://scikit-learn.org/stable/modules/preprocessing.html\n",
            "Please also refer to the documentation for alternative solver options:\n",
            "    https://scikit-learn.org/stable/modules/linear_model.html#logistic-regression\n",
            "  extra_warning_msg=_LOGISTIC_SOLVER_CONVERGENCE_MSG,\n"
          ]
        },
        {
          "output_type": "stream",
          "name": "stdout",
          "text": [
            "[CV 1/5; 14/120] END Modelo=LogisticRegression(random_state=20), Preprocessing__bow__ngram_range=(1, 1), Selection__percentile=70;, score=(train=1.000, test=0.833) total time=   0.9s\n",
            "[CV 2/5; 14/120] START Modelo=LogisticRegression(random_state=20), Preprocessing__bow__ngram_range=(1, 1), Selection__percentile=70\n"
          ]
        },
        {
          "output_type": "stream",
          "name": "stderr",
          "text": [
            "/usr/local/lib/python3.7/dist-packages/sklearn/feature_selection/_univariate_selection.py:113: RuntimeWarning: divide by zero encountered in true_divide\n",
            "  f = msb / msw\n",
            "/usr/local/lib/python3.7/dist-packages/sklearn/linear_model/_logistic.py:818: ConvergenceWarning: lbfgs failed to converge (status=1):\n",
            "STOP: TOTAL NO. of ITERATIONS REACHED LIMIT.\n",
            "\n",
            "Increase the number of iterations (max_iter) or scale the data as shown in:\n",
            "    https://scikit-learn.org/stable/modules/preprocessing.html\n",
            "Please also refer to the documentation for alternative solver options:\n",
            "    https://scikit-learn.org/stable/modules/linear_model.html#logistic-regression\n",
            "  extra_warning_msg=_LOGISTIC_SOLVER_CONVERGENCE_MSG,\n"
          ]
        },
        {
          "output_type": "stream",
          "name": "stdout",
          "text": [
            "[CV 2/5; 14/120] END Modelo=LogisticRegression(random_state=20), Preprocessing__bow__ngram_range=(1, 1), Selection__percentile=70;, score=(train=1.000, test=0.500) total time=   1.2s\n",
            "[CV 3/5; 14/120] START Modelo=LogisticRegression(random_state=20), Preprocessing__bow__ngram_range=(1, 1), Selection__percentile=70\n"
          ]
        },
        {
          "output_type": "stream",
          "name": "stderr",
          "text": [
            "/usr/local/lib/python3.7/dist-packages/sklearn/linear_model/_logistic.py:818: ConvergenceWarning: lbfgs failed to converge (status=1):\n",
            "STOP: TOTAL NO. of ITERATIONS REACHED LIMIT.\n",
            "\n",
            "Increase the number of iterations (max_iter) or scale the data as shown in:\n",
            "    https://scikit-learn.org/stable/modules/preprocessing.html\n",
            "Please also refer to the documentation for alternative solver options:\n",
            "    https://scikit-learn.org/stable/modules/linear_model.html#logistic-regression\n",
            "  extra_warning_msg=_LOGISTIC_SOLVER_CONVERGENCE_MSG,\n"
          ]
        },
        {
          "output_type": "stream",
          "name": "stdout",
          "text": [
            "[CV 3/5; 14/120] END Modelo=LogisticRegression(random_state=20), Preprocessing__bow__ngram_range=(1, 1), Selection__percentile=70;, score=(train=1.000, test=0.500) total time=   0.5s\n",
            "[CV 4/5; 14/120] START Modelo=LogisticRegression(random_state=20), Preprocessing__bow__ngram_range=(1, 1), Selection__percentile=70\n",
            "[CV 4/5; 14/120] END Modelo=LogisticRegression(random_state=20), Preprocessing__bow__ngram_range=(1, 1), Selection__percentile=70;, score=(train=1.000, test=0.333) total time=   0.9s\n",
            "[CV 5/5; 14/120] START Modelo=LogisticRegression(random_state=20), Preprocessing__bow__ngram_range=(1, 1), Selection__percentile=70\n",
            "[CV 5/5; 14/120] END Modelo=LogisticRegression(random_state=20), Preprocessing__bow__ngram_range=(1, 1), Selection__percentile=70;, score=(train=1.000, test=0.333) total time=   0.7s\n",
            "[CV 1/5; 15/120] START Modelo=LogisticRegression(random_state=20), Preprocessing__bow__ngram_range=(1, 1), Selection__percentile=75\n"
          ]
        },
        {
          "output_type": "stream",
          "name": "stderr",
          "text": [
            "/usr/local/lib/python3.7/dist-packages/sklearn/feature_selection/_univariate_selection.py:113: RuntimeWarning: divide by zero encountered in true_divide\n",
            "  f = msb / msw\n",
            "/usr/local/lib/python3.7/dist-packages/sklearn/linear_model/_logistic.py:818: ConvergenceWarning: lbfgs failed to converge (status=1):\n",
            "STOP: TOTAL NO. of ITERATIONS REACHED LIMIT.\n",
            "\n",
            "Increase the number of iterations (max_iter) or scale the data as shown in:\n",
            "    https://scikit-learn.org/stable/modules/preprocessing.html\n",
            "Please also refer to the documentation for alternative solver options:\n",
            "    https://scikit-learn.org/stable/modules/linear_model.html#logistic-regression\n",
            "  extra_warning_msg=_LOGISTIC_SOLVER_CONVERGENCE_MSG,\n"
          ]
        },
        {
          "output_type": "stream",
          "name": "stdout",
          "text": [
            "[CV 1/5; 15/120] END Modelo=LogisticRegression(random_state=20), Preprocessing__bow__ngram_range=(1, 1), Selection__percentile=75;, score=(train=1.000, test=0.833) total time=   0.9s\n",
            "[CV 2/5; 15/120] START Modelo=LogisticRegression(random_state=20), Preprocessing__bow__ngram_range=(1, 1), Selection__percentile=75\n"
          ]
        },
        {
          "output_type": "stream",
          "name": "stderr",
          "text": [
            "/usr/local/lib/python3.7/dist-packages/sklearn/feature_selection/_univariate_selection.py:113: RuntimeWarning: divide by zero encountered in true_divide\n",
            "  f = msb / msw\n",
            "/usr/local/lib/python3.7/dist-packages/sklearn/linear_model/_logistic.py:818: ConvergenceWarning: lbfgs failed to converge (status=1):\n",
            "STOP: TOTAL NO. of ITERATIONS REACHED LIMIT.\n",
            "\n",
            "Increase the number of iterations (max_iter) or scale the data as shown in:\n",
            "    https://scikit-learn.org/stable/modules/preprocessing.html\n",
            "Please also refer to the documentation for alternative solver options:\n",
            "    https://scikit-learn.org/stable/modules/linear_model.html#logistic-regression\n",
            "  extra_warning_msg=_LOGISTIC_SOLVER_CONVERGENCE_MSG,\n"
          ]
        },
        {
          "output_type": "stream",
          "name": "stdout",
          "text": [
            "[CV 2/5; 15/120] END Modelo=LogisticRegression(random_state=20), Preprocessing__bow__ngram_range=(1, 1), Selection__percentile=75;, score=(train=1.000, test=0.500) total time=   1.1s\n",
            "[CV 3/5; 15/120] START Modelo=LogisticRegression(random_state=20), Preprocessing__bow__ngram_range=(1, 1), Selection__percentile=75\n",
            "[CV 3/5; 15/120] END Modelo=LogisticRegression(random_state=20), Preprocessing__bow__ngram_range=(1, 1), Selection__percentile=75;, score=(train=1.000, test=0.500) total time=   0.5s\n",
            "[CV 4/5; 15/120] START Modelo=LogisticRegression(random_state=20), Preprocessing__bow__ngram_range=(1, 1), Selection__percentile=75\n",
            "[CV 4/5; 15/120] END Modelo=LogisticRegression(random_state=20), Preprocessing__bow__ngram_range=(1, 1), Selection__percentile=75;, score=(train=1.000, test=0.333) total time=   0.9s\n",
            "[CV 5/5; 15/120] START Modelo=LogisticRegression(random_state=20), Preprocessing__bow__ngram_range=(1, 1), Selection__percentile=75\n"
          ]
        },
        {
          "output_type": "stream",
          "name": "stderr",
          "text": [
            "/usr/local/lib/python3.7/dist-packages/sklearn/linear_model/_logistic.py:818: ConvergenceWarning: lbfgs failed to converge (status=1):\n",
            "STOP: TOTAL NO. of ITERATIONS REACHED LIMIT.\n",
            "\n",
            "Increase the number of iterations (max_iter) or scale the data as shown in:\n",
            "    https://scikit-learn.org/stable/modules/preprocessing.html\n",
            "Please also refer to the documentation for alternative solver options:\n",
            "    https://scikit-learn.org/stable/modules/linear_model.html#logistic-regression\n",
            "  extra_warning_msg=_LOGISTIC_SOLVER_CONVERGENCE_MSG,\n"
          ]
        },
        {
          "output_type": "stream",
          "name": "stdout",
          "text": [
            "[CV 5/5; 15/120] END Modelo=LogisticRegression(random_state=20), Preprocessing__bow__ngram_range=(1, 1), Selection__percentile=75;, score=(train=1.000, test=0.333) total time=   0.7s\n",
            "[CV 1/5; 16/120] START Modelo=LogisticRegression(random_state=20), Preprocessing__bow__ngram_range=(1, 1), Selection__percentile=80\n"
          ]
        },
        {
          "output_type": "stream",
          "name": "stderr",
          "text": [
            "/usr/local/lib/python3.7/dist-packages/sklearn/feature_selection/_univariate_selection.py:113: RuntimeWarning: divide by zero encountered in true_divide\n",
            "  f = msb / msw\n",
            "/usr/local/lib/python3.7/dist-packages/sklearn/linear_model/_logistic.py:818: ConvergenceWarning: lbfgs failed to converge (status=1):\n",
            "STOP: TOTAL NO. of ITERATIONS REACHED LIMIT.\n",
            "\n",
            "Increase the number of iterations (max_iter) or scale the data as shown in:\n",
            "    https://scikit-learn.org/stable/modules/preprocessing.html\n",
            "Please also refer to the documentation for alternative solver options:\n",
            "    https://scikit-learn.org/stable/modules/linear_model.html#logistic-regression\n",
            "  extra_warning_msg=_LOGISTIC_SOLVER_CONVERGENCE_MSG,\n"
          ]
        },
        {
          "output_type": "stream",
          "name": "stdout",
          "text": [
            "[CV 1/5; 16/120] END Modelo=LogisticRegression(random_state=20), Preprocessing__bow__ngram_range=(1, 1), Selection__percentile=80;, score=(train=1.000, test=0.833) total time=   0.9s\n",
            "[CV 2/5; 16/120] START Modelo=LogisticRegression(random_state=20), Preprocessing__bow__ngram_range=(1, 1), Selection__percentile=80\n"
          ]
        },
        {
          "output_type": "stream",
          "name": "stderr",
          "text": [
            "/usr/local/lib/python3.7/dist-packages/sklearn/feature_selection/_univariate_selection.py:113: RuntimeWarning: divide by zero encountered in true_divide\n",
            "  f = msb / msw\n"
          ]
        },
        {
          "output_type": "stream",
          "name": "stdout",
          "text": [
            "[CV 2/5; 16/120] END Modelo=LogisticRegression(random_state=20), Preprocessing__bow__ngram_range=(1, 1), Selection__percentile=80;, score=(train=1.000, test=0.500) total time=   1.1s\n",
            "[CV 3/5; 16/120] START Modelo=LogisticRegression(random_state=20), Preprocessing__bow__ngram_range=(1, 1), Selection__percentile=80\n"
          ]
        },
        {
          "output_type": "stream",
          "name": "stderr",
          "text": [
            "/usr/local/lib/python3.7/dist-packages/sklearn/linear_model/_logistic.py:818: ConvergenceWarning: lbfgs failed to converge (status=1):\n",
            "STOP: TOTAL NO. of ITERATIONS REACHED LIMIT.\n",
            "\n",
            "Increase the number of iterations (max_iter) or scale the data as shown in:\n",
            "    https://scikit-learn.org/stable/modules/preprocessing.html\n",
            "Please also refer to the documentation for alternative solver options:\n",
            "    https://scikit-learn.org/stable/modules/linear_model.html#logistic-regression\n",
            "  extra_warning_msg=_LOGISTIC_SOLVER_CONVERGENCE_MSG,\n"
          ]
        },
        {
          "output_type": "stream",
          "name": "stdout",
          "text": [
            "[CV 3/5; 16/120] END Modelo=LogisticRegression(random_state=20), Preprocessing__bow__ngram_range=(1, 1), Selection__percentile=80;, score=(train=1.000, test=0.500) total time=   0.5s\n",
            "[CV 4/5; 16/120] START Modelo=LogisticRegression(random_state=20), Preprocessing__bow__ngram_range=(1, 1), Selection__percentile=80\n",
            "[CV 4/5; 16/120] END Modelo=LogisticRegression(random_state=20), Preprocessing__bow__ngram_range=(1, 1), Selection__percentile=80;, score=(train=1.000, test=0.333) total time=   0.8s\n",
            "[CV 5/5; 16/120] START Modelo=LogisticRegression(random_state=20), Preprocessing__bow__ngram_range=(1, 1), Selection__percentile=80\n",
            "[CV 5/5; 16/120] END Modelo=LogisticRegression(random_state=20), Preprocessing__bow__ngram_range=(1, 1), Selection__percentile=80;, score=(train=1.000, test=0.333) total time=   0.7s\n",
            "[CV 1/5; 17/120] START Modelo=LogisticRegression(random_state=20), Preprocessing__bow__ngram_range=(1, 1), Selection__percentile=85\n"
          ]
        },
        {
          "output_type": "stream",
          "name": "stderr",
          "text": [
            "/usr/local/lib/python3.7/dist-packages/sklearn/feature_selection/_univariate_selection.py:113: RuntimeWarning: divide by zero encountered in true_divide\n",
            "  f = msb / msw\n",
            "/usr/local/lib/python3.7/dist-packages/sklearn/linear_model/_logistic.py:818: ConvergenceWarning: lbfgs failed to converge (status=1):\n",
            "STOP: TOTAL NO. of ITERATIONS REACHED LIMIT.\n",
            "\n",
            "Increase the number of iterations (max_iter) or scale the data as shown in:\n",
            "    https://scikit-learn.org/stable/modules/preprocessing.html\n",
            "Please also refer to the documentation for alternative solver options:\n",
            "    https://scikit-learn.org/stable/modules/linear_model.html#logistic-regression\n",
            "  extra_warning_msg=_LOGISTIC_SOLVER_CONVERGENCE_MSG,\n"
          ]
        },
        {
          "output_type": "stream",
          "name": "stdout",
          "text": [
            "[CV 1/5; 17/120] END Modelo=LogisticRegression(random_state=20), Preprocessing__bow__ngram_range=(1, 1), Selection__percentile=85;, score=(train=1.000, test=0.833) total time=   0.9s\n",
            "[CV 2/5; 17/120] START Modelo=LogisticRegression(random_state=20), Preprocessing__bow__ngram_range=(1, 1), Selection__percentile=85\n"
          ]
        },
        {
          "output_type": "stream",
          "name": "stderr",
          "text": [
            "/usr/local/lib/python3.7/dist-packages/sklearn/feature_selection/_univariate_selection.py:113: RuntimeWarning: divide by zero encountered in true_divide\n",
            "  f = msb / msw\n",
            "/usr/local/lib/python3.7/dist-packages/sklearn/linear_model/_logistic.py:818: ConvergenceWarning: lbfgs failed to converge (status=1):\n",
            "STOP: TOTAL NO. of ITERATIONS REACHED LIMIT.\n",
            "\n",
            "Increase the number of iterations (max_iter) or scale the data as shown in:\n",
            "    https://scikit-learn.org/stable/modules/preprocessing.html\n",
            "Please also refer to the documentation for alternative solver options:\n",
            "    https://scikit-learn.org/stable/modules/linear_model.html#logistic-regression\n",
            "  extra_warning_msg=_LOGISTIC_SOLVER_CONVERGENCE_MSG,\n"
          ]
        },
        {
          "output_type": "stream",
          "name": "stdout",
          "text": [
            "[CV 2/5; 17/120] END Modelo=LogisticRegression(random_state=20), Preprocessing__bow__ngram_range=(1, 1), Selection__percentile=85;, score=(train=1.000, test=0.500) total time=   1.2s\n",
            "[CV 3/5; 17/120] START Modelo=LogisticRegression(random_state=20), Preprocessing__bow__ngram_range=(1, 1), Selection__percentile=85\n",
            "[CV 3/5; 17/120] END Modelo=LogisticRegression(random_state=20), Preprocessing__bow__ngram_range=(1, 1), Selection__percentile=85;, score=(train=1.000, test=0.500) total time=   0.5s\n",
            "[CV 4/5; 17/120] START Modelo=LogisticRegression(random_state=20), Preprocessing__bow__ngram_range=(1, 1), Selection__percentile=85\n",
            "[CV 4/5; 17/120] END Modelo=LogisticRegression(random_state=20), Preprocessing__bow__ngram_range=(1, 1), Selection__percentile=85;, score=(train=1.000, test=0.333) total time=   0.9s\n",
            "[CV 5/5; 17/120] START Modelo=LogisticRegression(random_state=20), Preprocessing__bow__ngram_range=(1, 1), Selection__percentile=85\n",
            "[CV 5/5; 17/120] END Modelo=LogisticRegression(random_state=20), Preprocessing__bow__ngram_range=(1, 1), Selection__percentile=85;, score=(train=1.000, test=0.333) total time=   0.7s\n",
            "[CV 1/5; 18/120] START Modelo=LogisticRegression(random_state=20), Preprocessing__bow__ngram_range=(1, 1), Selection__percentile=90\n"
          ]
        },
        {
          "output_type": "stream",
          "name": "stderr",
          "text": [
            "/usr/local/lib/python3.7/dist-packages/sklearn/feature_selection/_univariate_selection.py:113: RuntimeWarning: divide by zero encountered in true_divide\n",
            "  f = msb / msw\n",
            "/usr/local/lib/python3.7/dist-packages/sklearn/linear_model/_logistic.py:818: ConvergenceWarning: lbfgs failed to converge (status=1):\n",
            "STOP: TOTAL NO. of ITERATIONS REACHED LIMIT.\n",
            "\n",
            "Increase the number of iterations (max_iter) or scale the data as shown in:\n",
            "    https://scikit-learn.org/stable/modules/preprocessing.html\n",
            "Please also refer to the documentation for alternative solver options:\n",
            "    https://scikit-learn.org/stable/modules/linear_model.html#logistic-regression\n",
            "  extra_warning_msg=_LOGISTIC_SOLVER_CONVERGENCE_MSG,\n"
          ]
        },
        {
          "output_type": "stream",
          "name": "stdout",
          "text": [
            "[CV 1/5; 18/120] END Modelo=LogisticRegression(random_state=20), Preprocessing__bow__ngram_range=(1, 1), Selection__percentile=90;, score=(train=1.000, test=0.833) total time=   0.9s\n",
            "[CV 2/5; 18/120] START Modelo=LogisticRegression(random_state=20), Preprocessing__bow__ngram_range=(1, 1), Selection__percentile=90\n"
          ]
        },
        {
          "output_type": "stream",
          "name": "stderr",
          "text": [
            "/usr/local/lib/python3.7/dist-packages/sklearn/feature_selection/_univariate_selection.py:113: RuntimeWarning: divide by zero encountered in true_divide\n",
            "  f = msb / msw\n",
            "/usr/local/lib/python3.7/dist-packages/sklearn/linear_model/_logistic.py:818: ConvergenceWarning: lbfgs failed to converge (status=1):\n",
            "STOP: TOTAL NO. of ITERATIONS REACHED LIMIT.\n",
            "\n",
            "Increase the number of iterations (max_iter) or scale the data as shown in:\n",
            "    https://scikit-learn.org/stable/modules/preprocessing.html\n",
            "Please also refer to the documentation for alternative solver options:\n",
            "    https://scikit-learn.org/stable/modules/linear_model.html#logistic-regression\n",
            "  extra_warning_msg=_LOGISTIC_SOLVER_CONVERGENCE_MSG,\n"
          ]
        },
        {
          "output_type": "stream",
          "name": "stdout",
          "text": [
            "[CV 2/5; 18/120] END Modelo=LogisticRegression(random_state=20), Preprocessing__bow__ngram_range=(1, 1), Selection__percentile=90;, score=(train=1.000, test=0.500) total time=   1.1s\n",
            "[CV 3/5; 18/120] START Modelo=LogisticRegression(random_state=20), Preprocessing__bow__ngram_range=(1, 1), Selection__percentile=90\n",
            "[CV 3/5; 18/120] END Modelo=LogisticRegression(random_state=20), Preprocessing__bow__ngram_range=(1, 1), Selection__percentile=90;, score=(train=1.000, test=0.500) total time=   0.5s\n",
            "[CV 4/5; 18/120] START Modelo=LogisticRegression(random_state=20), Preprocessing__bow__ngram_range=(1, 1), Selection__percentile=90\n",
            "[CV 4/5; 18/120] END Modelo=LogisticRegression(random_state=20), Preprocessing__bow__ngram_range=(1, 1), Selection__percentile=90;, score=(train=1.000, test=0.333) total time=   0.9s\n",
            "[CV 5/5; 18/120] START Modelo=LogisticRegression(random_state=20), Preprocessing__bow__ngram_range=(1, 1), Selection__percentile=90\n",
            "[CV 5/5; 18/120] END Modelo=LogisticRegression(random_state=20), Preprocessing__bow__ngram_range=(1, 1), Selection__percentile=90;, score=(train=1.000, test=0.333) total time=   0.8s\n",
            "[CV 1/5; 19/120] START Modelo=LogisticRegression(random_state=20), Preprocessing__bow__ngram_range=(1, 1), Selection__percentile=95\n"
          ]
        },
        {
          "output_type": "stream",
          "name": "stderr",
          "text": [
            "/usr/local/lib/python3.7/dist-packages/sklearn/feature_selection/_univariate_selection.py:113: RuntimeWarning: divide by zero encountered in true_divide\n",
            "  f = msb / msw\n",
            "/usr/local/lib/python3.7/dist-packages/sklearn/linear_model/_logistic.py:818: ConvergenceWarning: lbfgs failed to converge (status=1):\n",
            "STOP: TOTAL NO. of ITERATIONS REACHED LIMIT.\n",
            "\n",
            "Increase the number of iterations (max_iter) or scale the data as shown in:\n",
            "    https://scikit-learn.org/stable/modules/preprocessing.html\n",
            "Please also refer to the documentation for alternative solver options:\n",
            "    https://scikit-learn.org/stable/modules/linear_model.html#logistic-regression\n",
            "  extra_warning_msg=_LOGISTIC_SOLVER_CONVERGENCE_MSG,\n"
          ]
        },
        {
          "output_type": "stream",
          "name": "stdout",
          "text": [
            "[CV 1/5; 19/120] END Modelo=LogisticRegression(random_state=20), Preprocessing__bow__ngram_range=(1, 1), Selection__percentile=95;, score=(train=1.000, test=0.833) total time=   0.9s\n",
            "[CV 2/5; 19/120] START Modelo=LogisticRegression(random_state=20), Preprocessing__bow__ngram_range=(1, 1), Selection__percentile=95\n"
          ]
        },
        {
          "output_type": "stream",
          "name": "stderr",
          "text": [
            "/usr/local/lib/python3.7/dist-packages/sklearn/feature_selection/_univariate_selection.py:113: RuntimeWarning: divide by zero encountered in true_divide\n",
            "  f = msb / msw\n",
            "/usr/local/lib/python3.7/dist-packages/sklearn/linear_model/_logistic.py:818: ConvergenceWarning: lbfgs failed to converge (status=1):\n",
            "STOP: TOTAL NO. of ITERATIONS REACHED LIMIT.\n",
            "\n",
            "Increase the number of iterations (max_iter) or scale the data as shown in:\n",
            "    https://scikit-learn.org/stable/modules/preprocessing.html\n",
            "Please also refer to the documentation for alternative solver options:\n",
            "    https://scikit-learn.org/stable/modules/linear_model.html#logistic-regression\n",
            "  extra_warning_msg=_LOGISTIC_SOLVER_CONVERGENCE_MSG,\n"
          ]
        },
        {
          "output_type": "stream",
          "name": "stdout",
          "text": [
            "[CV 2/5; 19/120] END Modelo=LogisticRegression(random_state=20), Preprocessing__bow__ngram_range=(1, 1), Selection__percentile=95;, score=(train=1.000, test=0.500) total time=   1.2s\n",
            "[CV 3/5; 19/120] START Modelo=LogisticRegression(random_state=20), Preprocessing__bow__ngram_range=(1, 1), Selection__percentile=95\n",
            "[CV 3/5; 19/120] END Modelo=LogisticRegression(random_state=20), Preprocessing__bow__ngram_range=(1, 1), Selection__percentile=95;, score=(train=1.000, test=0.500) total time=   0.5s\n",
            "[CV 4/5; 19/120] START Modelo=LogisticRegression(random_state=20), Preprocessing__bow__ngram_range=(1, 1), Selection__percentile=95\n",
            "[CV 4/5; 19/120] END Modelo=LogisticRegression(random_state=20), Preprocessing__bow__ngram_range=(1, 1), Selection__percentile=95;, score=(train=1.000, test=0.500) total time=   0.9s\n",
            "[CV 5/5; 19/120] START Modelo=LogisticRegression(random_state=20), Preprocessing__bow__ngram_range=(1, 1), Selection__percentile=95\n"
          ]
        },
        {
          "output_type": "stream",
          "name": "stderr",
          "text": [
            "/usr/local/lib/python3.7/dist-packages/sklearn/linear_model/_logistic.py:818: ConvergenceWarning: lbfgs failed to converge (status=1):\n",
            "STOP: TOTAL NO. of ITERATIONS REACHED LIMIT.\n",
            "\n",
            "Increase the number of iterations (max_iter) or scale the data as shown in:\n",
            "    https://scikit-learn.org/stable/modules/preprocessing.html\n",
            "Please also refer to the documentation for alternative solver options:\n",
            "    https://scikit-learn.org/stable/modules/linear_model.html#logistic-regression\n",
            "  extra_warning_msg=_LOGISTIC_SOLVER_CONVERGENCE_MSG,\n"
          ]
        },
        {
          "output_type": "stream",
          "name": "stdout",
          "text": [
            "[CV 5/5; 19/120] END Modelo=LogisticRegression(random_state=20), Preprocessing__bow__ngram_range=(1, 1), Selection__percentile=95;, score=(train=1.000, test=0.500) total time=   0.7s\n",
            "[CV 1/5; 20/120] START Modelo=LogisticRegression(random_state=20), Preprocessing__bow__ngram_range=(1, 1), Selection__percentile=100\n"
          ]
        },
        {
          "output_type": "stream",
          "name": "stderr",
          "text": [
            "/usr/local/lib/python3.7/dist-packages/sklearn/feature_selection/_univariate_selection.py:113: RuntimeWarning: divide by zero encountered in true_divide\n",
            "  f = msb / msw\n",
            "/usr/local/lib/python3.7/dist-packages/sklearn/linear_model/_logistic.py:818: ConvergenceWarning: lbfgs failed to converge (status=1):\n",
            "STOP: TOTAL NO. of ITERATIONS REACHED LIMIT.\n",
            "\n",
            "Increase the number of iterations (max_iter) or scale the data as shown in:\n",
            "    https://scikit-learn.org/stable/modules/preprocessing.html\n",
            "Please also refer to the documentation for alternative solver options:\n",
            "    https://scikit-learn.org/stable/modules/linear_model.html#logistic-regression\n",
            "  extra_warning_msg=_LOGISTIC_SOLVER_CONVERGENCE_MSG,\n"
          ]
        },
        {
          "output_type": "stream",
          "name": "stdout",
          "text": [
            "[CV 1/5; 20/120] END Modelo=LogisticRegression(random_state=20), Preprocessing__bow__ngram_range=(1, 1), Selection__percentile=100;, score=(train=1.000, test=0.833) total time=   0.9s\n",
            "[CV 2/5; 20/120] START Modelo=LogisticRegression(random_state=20), Preprocessing__bow__ngram_range=(1, 1), Selection__percentile=100\n"
          ]
        },
        {
          "output_type": "stream",
          "name": "stderr",
          "text": [
            "/usr/local/lib/python3.7/dist-packages/sklearn/feature_selection/_univariate_selection.py:113: RuntimeWarning: divide by zero encountered in true_divide\n",
            "  f = msb / msw\n",
            "/usr/local/lib/python3.7/dist-packages/sklearn/linear_model/_logistic.py:818: ConvergenceWarning: lbfgs failed to converge (status=1):\n",
            "STOP: TOTAL NO. of ITERATIONS REACHED LIMIT.\n",
            "\n",
            "Increase the number of iterations (max_iter) or scale the data as shown in:\n",
            "    https://scikit-learn.org/stable/modules/preprocessing.html\n",
            "Please also refer to the documentation for alternative solver options:\n",
            "    https://scikit-learn.org/stable/modules/linear_model.html#logistic-regression\n",
            "  extra_warning_msg=_LOGISTIC_SOLVER_CONVERGENCE_MSG,\n"
          ]
        },
        {
          "output_type": "stream",
          "name": "stdout",
          "text": [
            "[CV 2/5; 20/120] END Modelo=LogisticRegression(random_state=20), Preprocessing__bow__ngram_range=(1, 1), Selection__percentile=100;, score=(train=1.000, test=0.500) total time=   1.2s\n",
            "[CV 3/5; 20/120] START Modelo=LogisticRegression(random_state=20), Preprocessing__bow__ngram_range=(1, 1), Selection__percentile=100\n"
          ]
        },
        {
          "output_type": "stream",
          "name": "stderr",
          "text": [
            "/usr/local/lib/python3.7/dist-packages/sklearn/linear_model/_logistic.py:818: ConvergenceWarning: lbfgs failed to converge (status=1):\n",
            "STOP: TOTAL NO. of ITERATIONS REACHED LIMIT.\n",
            "\n",
            "Increase the number of iterations (max_iter) or scale the data as shown in:\n",
            "    https://scikit-learn.org/stable/modules/preprocessing.html\n",
            "Please also refer to the documentation for alternative solver options:\n",
            "    https://scikit-learn.org/stable/modules/linear_model.html#logistic-regression\n",
            "  extra_warning_msg=_LOGISTIC_SOLVER_CONVERGENCE_MSG,\n"
          ]
        },
        {
          "output_type": "stream",
          "name": "stdout",
          "text": [
            "[CV 3/5; 20/120] END Modelo=LogisticRegression(random_state=20), Preprocessing__bow__ngram_range=(1, 1), Selection__percentile=100;, score=(train=1.000, test=0.500) total time=   0.5s\n",
            "[CV 4/5; 20/120] START Modelo=LogisticRegression(random_state=20), Preprocessing__bow__ngram_range=(1, 1), Selection__percentile=100\n"
          ]
        },
        {
          "output_type": "stream",
          "name": "stderr",
          "text": [
            "/usr/local/lib/python3.7/dist-packages/sklearn/linear_model/_logistic.py:818: ConvergenceWarning: lbfgs failed to converge (status=1):\n",
            "STOP: TOTAL NO. of ITERATIONS REACHED LIMIT.\n",
            "\n",
            "Increase the number of iterations (max_iter) or scale the data as shown in:\n",
            "    https://scikit-learn.org/stable/modules/preprocessing.html\n",
            "Please also refer to the documentation for alternative solver options:\n",
            "    https://scikit-learn.org/stable/modules/linear_model.html#logistic-regression\n",
            "  extra_warning_msg=_LOGISTIC_SOLVER_CONVERGENCE_MSG,\n"
          ]
        },
        {
          "output_type": "stream",
          "name": "stdout",
          "text": [
            "[CV 4/5; 20/120] END Modelo=LogisticRegression(random_state=20), Preprocessing__bow__ngram_range=(1, 1), Selection__percentile=100;, score=(train=1.000, test=0.667) total time=   0.9s\n",
            "[CV 5/5; 20/120] START Modelo=LogisticRegression(random_state=20), Preprocessing__bow__ngram_range=(1, 1), Selection__percentile=100\n"
          ]
        },
        {
          "output_type": "stream",
          "name": "stderr",
          "text": [
            "/usr/local/lib/python3.7/dist-packages/sklearn/linear_model/_logistic.py:818: ConvergenceWarning: lbfgs failed to converge (status=1):\n",
            "STOP: TOTAL NO. of ITERATIONS REACHED LIMIT.\n",
            "\n",
            "Increase the number of iterations (max_iter) or scale the data as shown in:\n",
            "    https://scikit-learn.org/stable/modules/preprocessing.html\n",
            "Please also refer to the documentation for alternative solver options:\n",
            "    https://scikit-learn.org/stable/modules/linear_model.html#logistic-regression\n",
            "  extra_warning_msg=_LOGISTIC_SOLVER_CONVERGENCE_MSG,\n"
          ]
        },
        {
          "output_type": "stream",
          "name": "stdout",
          "text": [
            "[CV 5/5; 20/120] END Modelo=LogisticRegression(random_state=20), Preprocessing__bow__ngram_range=(1, 1), Selection__percentile=100;, score=(train=1.000, test=0.167) total time=   0.7s\n",
            "[CV 1/5; 21/120] START Modelo=LogisticRegression(random_state=20), Preprocessing__bow__ngram_range=(1, 2), Selection__percentile=5\n"
          ]
        },
        {
          "output_type": "stream",
          "name": "stderr",
          "text": [
            "/usr/local/lib/python3.7/dist-packages/sklearn/feature_selection/_univariate_selection.py:113: RuntimeWarning: divide by zero encountered in true_divide\n",
            "  f = msb / msw\n"
          ]
        },
        {
          "output_type": "stream",
          "name": "stdout",
          "text": [
            "[CV 1/5; 21/120] END Modelo=LogisticRegression(random_state=20), Preprocessing__bow__ngram_range=(1, 2), Selection__percentile=5;, score=(train=1.000, test=0.333) total time=   0.8s\n",
            "[CV 2/5; 21/120] START Modelo=LogisticRegression(random_state=20), Preprocessing__bow__ngram_range=(1, 2), Selection__percentile=5\n"
          ]
        },
        {
          "output_type": "stream",
          "name": "stderr",
          "text": [
            "/usr/local/lib/python3.7/dist-packages/sklearn/feature_selection/_univariate_selection.py:113: RuntimeWarning: divide by zero encountered in true_divide\n",
            "  f = msb / msw\n"
          ]
        },
        {
          "output_type": "stream",
          "name": "stdout",
          "text": [
            "[CV 2/5; 21/120] END Modelo=LogisticRegression(random_state=20), Preprocessing__bow__ngram_range=(1, 2), Selection__percentile=5;, score=(train=1.000, test=0.333) total time=   1.1s\n",
            "[CV 3/5; 21/120] START Modelo=LogisticRegression(random_state=20), Preprocessing__bow__ngram_range=(1, 2), Selection__percentile=5\n",
            "[CV 3/5; 21/120] END Modelo=LogisticRegression(random_state=20), Preprocessing__bow__ngram_range=(1, 2), Selection__percentile=5;, score=(train=0.625, test=0.500) total time=   0.4s\n",
            "[CV 4/5; 21/120] START Modelo=LogisticRegression(random_state=20), Preprocessing__bow__ngram_range=(1, 2), Selection__percentile=5\n",
            "[CV 4/5; 21/120] END Modelo=LogisticRegression(random_state=20), Preprocessing__bow__ngram_range=(1, 2), Selection__percentile=5;, score=(train=1.000, test=0.333) total time=   0.8s\n",
            "[CV 5/5; 21/120] START Modelo=LogisticRegression(random_state=20), Preprocessing__bow__ngram_range=(1, 2), Selection__percentile=5\n",
            "[CV 5/5; 21/120] END Modelo=LogisticRegression(random_state=20), Preprocessing__bow__ngram_range=(1, 2), Selection__percentile=5;, score=(train=1.000, test=0.500) total time=   0.7s\n",
            "[CV 1/5; 22/120] START Modelo=LogisticRegression(random_state=20), Preprocessing__bow__ngram_range=(1, 2), Selection__percentile=10\n"
          ]
        },
        {
          "output_type": "stream",
          "name": "stderr",
          "text": [
            "/usr/local/lib/python3.7/dist-packages/sklearn/feature_selection/_univariate_selection.py:113: RuntimeWarning: divide by zero encountered in true_divide\n",
            "  f = msb / msw\n",
            "/usr/local/lib/python3.7/dist-packages/sklearn/linear_model/_logistic.py:818: ConvergenceWarning: lbfgs failed to converge (status=1):\n",
            "STOP: TOTAL NO. of ITERATIONS REACHED LIMIT.\n",
            "\n",
            "Increase the number of iterations (max_iter) or scale the data as shown in:\n",
            "    https://scikit-learn.org/stable/modules/preprocessing.html\n",
            "Please also refer to the documentation for alternative solver options:\n",
            "    https://scikit-learn.org/stable/modules/linear_model.html#logistic-regression\n",
            "  extra_warning_msg=_LOGISTIC_SOLVER_CONVERGENCE_MSG,\n"
          ]
        },
        {
          "output_type": "stream",
          "name": "stdout",
          "text": [
            "[CV 1/5; 22/120] END Modelo=LogisticRegression(random_state=20), Preprocessing__bow__ngram_range=(1, 2), Selection__percentile=10;, score=(train=1.000, test=0.667) total time=   0.9s\n",
            "[CV 2/5; 22/120] START Modelo=LogisticRegression(random_state=20), Preprocessing__bow__ngram_range=(1, 2), Selection__percentile=10\n"
          ]
        },
        {
          "output_type": "stream",
          "name": "stderr",
          "text": [
            "/usr/local/lib/python3.7/dist-packages/sklearn/feature_selection/_univariate_selection.py:113: RuntimeWarning: divide by zero encountered in true_divide\n",
            "  f = msb / msw\n",
            "/usr/local/lib/python3.7/dist-packages/sklearn/linear_model/_logistic.py:818: ConvergenceWarning: lbfgs failed to converge (status=1):\n",
            "STOP: TOTAL NO. of ITERATIONS REACHED LIMIT.\n",
            "\n",
            "Increase the number of iterations (max_iter) or scale the data as shown in:\n",
            "    https://scikit-learn.org/stable/modules/preprocessing.html\n",
            "Please also refer to the documentation for alternative solver options:\n",
            "    https://scikit-learn.org/stable/modules/linear_model.html#logistic-regression\n",
            "  extra_warning_msg=_LOGISTIC_SOLVER_CONVERGENCE_MSG,\n"
          ]
        },
        {
          "output_type": "stream",
          "name": "stdout",
          "text": [
            "[CV 2/5; 22/120] END Modelo=LogisticRegression(random_state=20), Preprocessing__bow__ngram_range=(1, 2), Selection__percentile=10;, score=(train=1.000, test=0.333) total time=   1.2s\n",
            "[CV 3/5; 22/120] START Modelo=LogisticRegression(random_state=20), Preprocessing__bow__ngram_range=(1, 2), Selection__percentile=10\n",
            "[CV 3/5; 22/120] END Modelo=LogisticRegression(random_state=20), Preprocessing__bow__ngram_range=(1, 2), Selection__percentile=10;, score=(train=0.625, test=0.500) total time=   0.4s\n",
            "[CV 4/5; 22/120] START Modelo=LogisticRegression(random_state=20), Preprocessing__bow__ngram_range=(1, 2), Selection__percentile=10\n",
            "[CV 4/5; 22/120] END Modelo=LogisticRegression(random_state=20), Preprocessing__bow__ngram_range=(1, 2), Selection__percentile=10;, score=(train=1.000, test=0.333) total time=   0.8s\n",
            "[CV 5/5; 22/120] START Modelo=LogisticRegression(random_state=20), Preprocessing__bow__ngram_range=(1, 2), Selection__percentile=10\n",
            "[CV 5/5; 22/120] END Modelo=LogisticRegression(random_state=20), Preprocessing__bow__ngram_range=(1, 2), Selection__percentile=10;, score=(train=1.000, test=0.500) total time=   0.7s\n",
            "[CV 1/5; 23/120] START Modelo=LogisticRegression(random_state=20), Preprocessing__bow__ngram_range=(1, 2), Selection__percentile=15\n"
          ]
        },
        {
          "output_type": "stream",
          "name": "stderr",
          "text": [
            "/usr/local/lib/python3.7/dist-packages/sklearn/feature_selection/_univariate_selection.py:113: RuntimeWarning: divide by zero encountered in true_divide\n",
            "  f = msb / msw\n",
            "/usr/local/lib/python3.7/dist-packages/sklearn/linear_model/_logistic.py:818: ConvergenceWarning: lbfgs failed to converge (status=1):\n",
            "STOP: TOTAL NO. of ITERATIONS REACHED LIMIT.\n",
            "\n",
            "Increase the number of iterations (max_iter) or scale the data as shown in:\n",
            "    https://scikit-learn.org/stable/modules/preprocessing.html\n",
            "Please also refer to the documentation for alternative solver options:\n",
            "    https://scikit-learn.org/stable/modules/linear_model.html#logistic-regression\n",
            "  extra_warning_msg=_LOGISTIC_SOLVER_CONVERGENCE_MSG,\n"
          ]
        },
        {
          "output_type": "stream",
          "name": "stdout",
          "text": [
            "[CV 1/5; 23/120] END Modelo=LogisticRegression(random_state=20), Preprocessing__bow__ngram_range=(1, 2), Selection__percentile=15;, score=(train=1.000, test=0.833) total time=   1.0s\n",
            "[CV 2/5; 23/120] START Modelo=LogisticRegression(random_state=20), Preprocessing__bow__ngram_range=(1, 2), Selection__percentile=15\n"
          ]
        },
        {
          "output_type": "stream",
          "name": "stderr",
          "text": [
            "/usr/local/lib/python3.7/dist-packages/sklearn/feature_selection/_univariate_selection.py:113: RuntimeWarning: divide by zero encountered in true_divide\n",
            "  f = msb / msw\n",
            "/usr/local/lib/python3.7/dist-packages/sklearn/linear_model/_logistic.py:818: ConvergenceWarning: lbfgs failed to converge (status=1):\n",
            "STOP: TOTAL NO. of ITERATIONS REACHED LIMIT.\n",
            "\n",
            "Increase the number of iterations (max_iter) or scale the data as shown in:\n",
            "    https://scikit-learn.org/stable/modules/preprocessing.html\n",
            "Please also refer to the documentation for alternative solver options:\n",
            "    https://scikit-learn.org/stable/modules/linear_model.html#logistic-regression\n",
            "  extra_warning_msg=_LOGISTIC_SOLVER_CONVERGENCE_MSG,\n"
          ]
        },
        {
          "output_type": "stream",
          "name": "stdout",
          "text": [
            "[CV 2/5; 23/120] END Modelo=LogisticRegression(random_state=20), Preprocessing__bow__ngram_range=(1, 2), Selection__percentile=15;, score=(train=1.000, test=0.333) total time=   1.2s\n",
            "[CV 3/5; 23/120] START Modelo=LogisticRegression(random_state=20), Preprocessing__bow__ngram_range=(1, 2), Selection__percentile=15\n"
          ]
        },
        {
          "output_type": "stream",
          "name": "stderr",
          "text": [
            "/usr/local/lib/python3.7/dist-packages/sklearn/linear_model/_logistic.py:818: ConvergenceWarning: lbfgs failed to converge (status=1):\n",
            "STOP: TOTAL NO. of ITERATIONS REACHED LIMIT.\n",
            "\n",
            "Increase the number of iterations (max_iter) or scale the data as shown in:\n",
            "    https://scikit-learn.org/stable/modules/preprocessing.html\n",
            "Please also refer to the documentation for alternative solver options:\n",
            "    https://scikit-learn.org/stable/modules/linear_model.html#logistic-regression\n",
            "  extra_warning_msg=_LOGISTIC_SOLVER_CONVERGENCE_MSG,\n"
          ]
        },
        {
          "output_type": "stream",
          "name": "stdout",
          "text": [
            "[CV 3/5; 23/120] END Modelo=LogisticRegression(random_state=20), Preprocessing__bow__ngram_range=(1, 2), Selection__percentile=15;, score=(train=1.000, test=0.500) total time=   0.5s\n",
            "[CV 4/5; 23/120] START Modelo=LogisticRegression(random_state=20), Preprocessing__bow__ngram_range=(1, 2), Selection__percentile=15\n",
            "[CV 4/5; 23/120] END Modelo=LogisticRegression(random_state=20), Preprocessing__bow__ngram_range=(1, 2), Selection__percentile=15;, score=(train=1.000, test=0.333) total time=   0.8s\n",
            "[CV 5/5; 23/120] START Modelo=LogisticRegression(random_state=20), Preprocessing__bow__ngram_range=(1, 2), Selection__percentile=15\n",
            "[CV 5/5; 23/120] END Modelo=LogisticRegression(random_state=20), Preprocessing__bow__ngram_range=(1, 2), Selection__percentile=15;, score=(train=1.000, test=0.500) total time=   0.7s\n",
            "[CV 1/5; 24/120] START Modelo=LogisticRegression(random_state=20), Preprocessing__bow__ngram_range=(1, 2), Selection__percentile=20\n"
          ]
        },
        {
          "output_type": "stream",
          "name": "stderr",
          "text": [
            "/usr/local/lib/python3.7/dist-packages/sklearn/feature_selection/_univariate_selection.py:113: RuntimeWarning: divide by zero encountered in true_divide\n",
            "  f = msb / msw\n",
            "/usr/local/lib/python3.7/dist-packages/sklearn/linear_model/_logistic.py:818: ConvergenceWarning: lbfgs failed to converge (status=1):\n",
            "STOP: TOTAL NO. of ITERATIONS REACHED LIMIT.\n",
            "\n",
            "Increase the number of iterations (max_iter) or scale the data as shown in:\n",
            "    https://scikit-learn.org/stable/modules/preprocessing.html\n",
            "Please also refer to the documentation for alternative solver options:\n",
            "    https://scikit-learn.org/stable/modules/linear_model.html#logistic-regression\n",
            "  extra_warning_msg=_LOGISTIC_SOLVER_CONVERGENCE_MSG,\n"
          ]
        },
        {
          "output_type": "stream",
          "name": "stdout",
          "text": [
            "[CV 1/5; 24/120] END Modelo=LogisticRegression(random_state=20), Preprocessing__bow__ngram_range=(1, 2), Selection__percentile=20;, score=(train=1.000, test=0.833) total time=   1.0s\n",
            "[CV 2/5; 24/120] START Modelo=LogisticRegression(random_state=20), Preprocessing__bow__ngram_range=(1, 2), Selection__percentile=20\n"
          ]
        },
        {
          "output_type": "stream",
          "name": "stderr",
          "text": [
            "/usr/local/lib/python3.7/dist-packages/sklearn/feature_selection/_univariate_selection.py:113: RuntimeWarning: divide by zero encountered in true_divide\n",
            "  f = msb / msw\n"
          ]
        },
        {
          "output_type": "stream",
          "name": "stdout",
          "text": [
            "[CV 2/5; 24/120] END Modelo=LogisticRegression(random_state=20), Preprocessing__bow__ngram_range=(1, 2), Selection__percentile=20;, score=(train=1.000, test=0.333) total time=   1.2s\n",
            "[CV 3/5; 24/120] START Modelo=LogisticRegression(random_state=20), Preprocessing__bow__ngram_range=(1, 2), Selection__percentile=20\n"
          ]
        },
        {
          "output_type": "stream",
          "name": "stderr",
          "text": [
            "/usr/local/lib/python3.7/dist-packages/sklearn/linear_model/_logistic.py:818: ConvergenceWarning: lbfgs failed to converge (status=1):\n",
            "STOP: TOTAL NO. of ITERATIONS REACHED LIMIT.\n",
            "\n",
            "Increase the number of iterations (max_iter) or scale the data as shown in:\n",
            "    https://scikit-learn.org/stable/modules/preprocessing.html\n",
            "Please also refer to the documentation for alternative solver options:\n",
            "    https://scikit-learn.org/stable/modules/linear_model.html#logistic-regression\n",
            "  extra_warning_msg=_LOGISTIC_SOLVER_CONVERGENCE_MSG,\n"
          ]
        },
        {
          "output_type": "stream",
          "name": "stdout",
          "text": [
            "[CV 3/5; 24/120] END Modelo=LogisticRegression(random_state=20), Preprocessing__bow__ngram_range=(1, 2), Selection__percentile=20;, score=(train=1.000, test=0.500) total time=   0.5s\n",
            "[CV 4/5; 24/120] START Modelo=LogisticRegression(random_state=20), Preprocessing__bow__ngram_range=(1, 2), Selection__percentile=20\n",
            "[CV 4/5; 24/120] END Modelo=LogisticRegression(random_state=20), Preprocessing__bow__ngram_range=(1, 2), Selection__percentile=20;, score=(train=1.000, test=0.333) total time=   0.8s\n",
            "[CV 5/5; 24/120] START Modelo=LogisticRegression(random_state=20), Preprocessing__bow__ngram_range=(1, 2), Selection__percentile=20\n",
            "[CV 5/5; 24/120] END Modelo=LogisticRegression(random_state=20), Preprocessing__bow__ngram_range=(1, 2), Selection__percentile=20;, score=(train=1.000, test=0.500) total time=   0.7s\n",
            "[CV 1/5; 25/120] START Modelo=LogisticRegression(random_state=20), Preprocessing__bow__ngram_range=(1, 2), Selection__percentile=25\n"
          ]
        },
        {
          "output_type": "stream",
          "name": "stderr",
          "text": [
            "/usr/local/lib/python3.7/dist-packages/sklearn/feature_selection/_univariate_selection.py:113: RuntimeWarning: divide by zero encountered in true_divide\n",
            "  f = msb / msw\n",
            "/usr/local/lib/python3.7/dist-packages/sklearn/linear_model/_logistic.py:818: ConvergenceWarning: lbfgs failed to converge (status=1):\n",
            "STOP: TOTAL NO. of ITERATIONS REACHED LIMIT.\n",
            "\n",
            "Increase the number of iterations (max_iter) or scale the data as shown in:\n",
            "    https://scikit-learn.org/stable/modules/preprocessing.html\n",
            "Please also refer to the documentation for alternative solver options:\n",
            "    https://scikit-learn.org/stable/modules/linear_model.html#logistic-regression\n",
            "  extra_warning_msg=_LOGISTIC_SOLVER_CONVERGENCE_MSG,\n"
          ]
        },
        {
          "output_type": "stream",
          "name": "stdout",
          "text": [
            "[CV 1/5; 25/120] END Modelo=LogisticRegression(random_state=20), Preprocessing__bow__ngram_range=(1, 2), Selection__percentile=25;, score=(train=1.000, test=0.833) total time=   1.2s\n",
            "[CV 2/5; 25/120] START Modelo=LogisticRegression(random_state=20), Preprocessing__bow__ngram_range=(1, 2), Selection__percentile=25\n"
          ]
        },
        {
          "output_type": "stream",
          "name": "stderr",
          "text": [
            "/usr/local/lib/python3.7/dist-packages/sklearn/feature_selection/_univariate_selection.py:113: RuntimeWarning: divide by zero encountered in true_divide\n",
            "  f = msb / msw\n"
          ]
        },
        {
          "output_type": "stream",
          "name": "stdout",
          "text": [
            "[CV 2/5; 25/120] END Modelo=LogisticRegression(random_state=20), Preprocessing__bow__ngram_range=(1, 2), Selection__percentile=25;, score=(train=1.000, test=0.500) total time=   1.6s\n",
            "[CV 3/5; 25/120] START Modelo=LogisticRegression(random_state=20), Preprocessing__bow__ngram_range=(1, 2), Selection__percentile=25\n",
            "[CV 3/5; 25/120] END Modelo=LogisticRegression(random_state=20), Preprocessing__bow__ngram_range=(1, 2), Selection__percentile=25;, score=(train=1.000, test=0.500) total time=   0.5s\n",
            "[CV 4/5; 25/120] START Modelo=LogisticRegression(random_state=20), Preprocessing__bow__ngram_range=(1, 2), Selection__percentile=25\n",
            "[CV 4/5; 25/120] END Modelo=LogisticRegression(random_state=20), Preprocessing__bow__ngram_range=(1, 2), Selection__percentile=25;, score=(train=1.000, test=0.333) total time=   0.9s\n",
            "[CV 5/5; 25/120] START Modelo=LogisticRegression(random_state=20), Preprocessing__bow__ngram_range=(1, 2), Selection__percentile=25\n",
            "[CV 5/5; 25/120] END Modelo=LogisticRegression(random_state=20), Preprocessing__bow__ngram_range=(1, 2), Selection__percentile=25;, score=(train=1.000, test=0.500) total time=   0.7s\n",
            "[CV 1/5; 26/120] START Modelo=LogisticRegression(random_state=20), Preprocessing__bow__ngram_range=(1, 2), Selection__percentile=30\n"
          ]
        },
        {
          "output_type": "stream",
          "name": "stderr",
          "text": [
            "/usr/local/lib/python3.7/dist-packages/sklearn/feature_selection/_univariate_selection.py:113: RuntimeWarning: divide by zero encountered in true_divide\n",
            "  f = msb / msw\n"
          ]
        },
        {
          "output_type": "stream",
          "name": "stdout",
          "text": [
            "[CV 1/5; 26/120] END Modelo=LogisticRegression(random_state=20), Preprocessing__bow__ngram_range=(1, 2), Selection__percentile=30;, score=(train=1.000, test=0.667) total time=   1.3s\n",
            "[CV 2/5; 26/120] START Modelo=LogisticRegression(random_state=20), Preprocessing__bow__ngram_range=(1, 2), Selection__percentile=30\n"
          ]
        },
        {
          "output_type": "stream",
          "name": "stderr",
          "text": [
            "/usr/local/lib/python3.7/dist-packages/sklearn/feature_selection/_univariate_selection.py:113: RuntimeWarning: divide by zero encountered in true_divide\n",
            "  f = msb / msw\n",
            "/usr/local/lib/python3.7/dist-packages/sklearn/linear_model/_logistic.py:818: ConvergenceWarning: lbfgs failed to converge (status=1):\n",
            "STOP: TOTAL NO. of ITERATIONS REACHED LIMIT.\n",
            "\n",
            "Increase the number of iterations (max_iter) or scale the data as shown in:\n",
            "    https://scikit-learn.org/stable/modules/preprocessing.html\n",
            "Please also refer to the documentation for alternative solver options:\n",
            "    https://scikit-learn.org/stable/modules/linear_model.html#logistic-regression\n",
            "  extra_warning_msg=_LOGISTIC_SOLVER_CONVERGENCE_MSG,\n"
          ]
        },
        {
          "output_type": "stream",
          "name": "stdout",
          "text": [
            "[CV 2/5; 26/120] END Modelo=LogisticRegression(random_state=20), Preprocessing__bow__ngram_range=(1, 2), Selection__percentile=30;, score=(train=1.000, test=0.500) total time=   1.7s\n",
            "[CV 3/5; 26/120] START Modelo=LogisticRegression(random_state=20), Preprocessing__bow__ngram_range=(1, 2), Selection__percentile=30\n",
            "[CV 3/5; 26/120] END Modelo=LogisticRegression(random_state=20), Preprocessing__bow__ngram_range=(1, 2), Selection__percentile=30;, score=(train=1.000, test=0.333) total time=   0.5s\n",
            "[CV 4/5; 26/120] START Modelo=LogisticRegression(random_state=20), Preprocessing__bow__ngram_range=(1, 2), Selection__percentile=30\n",
            "[CV 4/5; 26/120] END Modelo=LogisticRegression(random_state=20), Preprocessing__bow__ngram_range=(1, 2), Selection__percentile=30;, score=(train=1.000, test=0.333) total time=   1.0s\n",
            "[CV 5/5; 26/120] START Modelo=LogisticRegression(random_state=20), Preprocessing__bow__ngram_range=(1, 2), Selection__percentile=30\n",
            "[CV 5/5; 26/120] END Modelo=LogisticRegression(random_state=20), Preprocessing__bow__ngram_range=(1, 2), Selection__percentile=30;, score=(train=1.000, test=0.500) total time=   0.8s\n",
            "[CV 1/5; 27/120] START Modelo=LogisticRegression(random_state=20), Preprocessing__bow__ngram_range=(1, 2), Selection__percentile=35\n"
          ]
        },
        {
          "output_type": "stream",
          "name": "stderr",
          "text": [
            "/usr/local/lib/python3.7/dist-packages/sklearn/feature_selection/_univariate_selection.py:113: RuntimeWarning: divide by zero encountered in true_divide\n",
            "  f = msb / msw\n",
            "/usr/local/lib/python3.7/dist-packages/sklearn/linear_model/_logistic.py:818: ConvergenceWarning: lbfgs failed to converge (status=1):\n",
            "STOP: TOTAL NO. of ITERATIONS REACHED LIMIT.\n",
            "\n",
            "Increase the number of iterations (max_iter) or scale the data as shown in:\n",
            "    https://scikit-learn.org/stable/modules/preprocessing.html\n",
            "Please also refer to the documentation for alternative solver options:\n",
            "    https://scikit-learn.org/stable/modules/linear_model.html#logistic-regression\n",
            "  extra_warning_msg=_LOGISTIC_SOLVER_CONVERGENCE_MSG,\n"
          ]
        },
        {
          "output_type": "stream",
          "name": "stdout",
          "text": [
            "[CV 1/5; 27/120] END Modelo=LogisticRegression(random_state=20), Preprocessing__bow__ngram_range=(1, 2), Selection__percentile=35;, score=(train=1.000, test=0.833) total time=   1.3s\n",
            "[CV 2/5; 27/120] START Modelo=LogisticRegression(random_state=20), Preprocessing__bow__ngram_range=(1, 2), Selection__percentile=35\n"
          ]
        },
        {
          "output_type": "stream",
          "name": "stderr",
          "text": [
            "/usr/local/lib/python3.7/dist-packages/sklearn/feature_selection/_univariate_selection.py:113: RuntimeWarning: divide by zero encountered in true_divide\n",
            "  f = msb / msw\n",
            "/usr/local/lib/python3.7/dist-packages/sklearn/linear_model/_logistic.py:818: ConvergenceWarning: lbfgs failed to converge (status=1):\n",
            "STOP: TOTAL NO. of ITERATIONS REACHED LIMIT.\n",
            "\n",
            "Increase the number of iterations (max_iter) or scale the data as shown in:\n",
            "    https://scikit-learn.org/stable/modules/preprocessing.html\n",
            "Please also refer to the documentation for alternative solver options:\n",
            "    https://scikit-learn.org/stable/modules/linear_model.html#logistic-regression\n",
            "  extra_warning_msg=_LOGISTIC_SOLVER_CONVERGENCE_MSG,\n"
          ]
        },
        {
          "output_type": "stream",
          "name": "stdout",
          "text": [
            "[CV 2/5; 27/120] END Modelo=LogisticRegression(random_state=20), Preprocessing__bow__ngram_range=(1, 2), Selection__percentile=35;, score=(train=1.000, test=0.500) total time=   1.5s\n",
            "[CV 3/5; 27/120] START Modelo=LogisticRegression(random_state=20), Preprocessing__bow__ngram_range=(1, 2), Selection__percentile=35\n",
            "[CV 3/5; 27/120] END Modelo=LogisticRegression(random_state=20), Preprocessing__bow__ngram_range=(1, 2), Selection__percentile=35;, score=(train=1.000, test=0.333) total time=   0.6s\n",
            "[CV 4/5; 27/120] START Modelo=LogisticRegression(random_state=20), Preprocessing__bow__ngram_range=(1, 2), Selection__percentile=35\n",
            "[CV 4/5; 27/120] END Modelo=LogisticRegression(random_state=20), Preprocessing__bow__ngram_range=(1, 2), Selection__percentile=35;, score=(train=1.000, test=0.333) total time=   1.1s\n",
            "[CV 5/5; 27/120] START Modelo=LogisticRegression(random_state=20), Preprocessing__bow__ngram_range=(1, 2), Selection__percentile=35\n",
            "[CV 5/5; 27/120] END Modelo=LogisticRegression(random_state=20), Preprocessing__bow__ngram_range=(1, 2), Selection__percentile=35;, score=(train=1.000, test=0.500) total time=   0.8s\n",
            "[CV 1/5; 28/120] START Modelo=LogisticRegression(random_state=20), Preprocessing__bow__ngram_range=(1, 2), Selection__percentile=40\n"
          ]
        },
        {
          "output_type": "stream",
          "name": "stderr",
          "text": [
            "/usr/local/lib/python3.7/dist-packages/sklearn/feature_selection/_univariate_selection.py:113: RuntimeWarning: divide by zero encountered in true_divide\n",
            "  f = msb / msw\n"
          ]
        },
        {
          "output_type": "stream",
          "name": "stdout",
          "text": [
            "[CV 1/5; 28/120] END Modelo=LogisticRegression(random_state=20), Preprocessing__bow__ngram_range=(1, 2), Selection__percentile=40;, score=(train=1.000, test=0.833) total time=   1.5s\n",
            "[CV 2/5; 28/120] START Modelo=LogisticRegression(random_state=20), Preprocessing__bow__ngram_range=(1, 2), Selection__percentile=40\n"
          ]
        },
        {
          "output_type": "stream",
          "name": "stderr",
          "text": [
            "/usr/local/lib/python3.7/dist-packages/sklearn/feature_selection/_univariate_selection.py:113: RuntimeWarning: divide by zero encountered in true_divide\n",
            "  f = msb / msw\n",
            "/usr/local/lib/python3.7/dist-packages/sklearn/linear_model/_logistic.py:818: ConvergenceWarning: lbfgs failed to converge (status=1):\n",
            "STOP: TOTAL NO. of ITERATIONS REACHED LIMIT.\n",
            "\n",
            "Increase the number of iterations (max_iter) or scale the data as shown in:\n",
            "    https://scikit-learn.org/stable/modules/preprocessing.html\n",
            "Please also refer to the documentation for alternative solver options:\n",
            "    https://scikit-learn.org/stable/modules/linear_model.html#logistic-regression\n",
            "  extra_warning_msg=_LOGISTIC_SOLVER_CONVERGENCE_MSG,\n"
          ]
        },
        {
          "output_type": "stream",
          "name": "stdout",
          "text": [
            "[CV 2/5; 28/120] END Modelo=LogisticRegression(random_state=20), Preprocessing__bow__ngram_range=(1, 2), Selection__percentile=40;, score=(train=1.000, test=0.500) total time=   1.8s\n",
            "[CV 3/5; 28/120] START Modelo=LogisticRegression(random_state=20), Preprocessing__bow__ngram_range=(1, 2), Selection__percentile=40\n",
            "[CV 3/5; 28/120] END Modelo=LogisticRegression(random_state=20), Preprocessing__bow__ngram_range=(1, 2), Selection__percentile=40;, score=(train=1.000, test=0.500) total time=   0.6s\n",
            "[CV 4/5; 28/120] START Modelo=LogisticRegression(random_state=20), Preprocessing__bow__ngram_range=(1, 2), Selection__percentile=40\n",
            "[CV 4/5; 28/120] END Modelo=LogisticRegression(random_state=20), Preprocessing__bow__ngram_range=(1, 2), Selection__percentile=40;, score=(train=1.000, test=0.333) total time=   1.0s\n",
            "[CV 5/5; 28/120] START Modelo=LogisticRegression(random_state=20), Preprocessing__bow__ngram_range=(1, 2), Selection__percentile=40\n",
            "[CV 5/5; 28/120] END Modelo=LogisticRegression(random_state=20), Preprocessing__bow__ngram_range=(1, 2), Selection__percentile=40;, score=(train=1.000, test=0.500) total time=   0.8s\n",
            "[CV 1/5; 29/120] START Modelo=LogisticRegression(random_state=20), Preprocessing__bow__ngram_range=(1, 2), Selection__percentile=45\n"
          ]
        },
        {
          "output_type": "stream",
          "name": "stderr",
          "text": [
            "/usr/local/lib/python3.7/dist-packages/sklearn/feature_selection/_univariate_selection.py:113: RuntimeWarning: divide by zero encountered in true_divide\n",
            "  f = msb / msw\n",
            "/usr/local/lib/python3.7/dist-packages/sklearn/linear_model/_logistic.py:818: ConvergenceWarning: lbfgs failed to converge (status=1):\n",
            "STOP: TOTAL NO. of ITERATIONS REACHED LIMIT.\n",
            "\n",
            "Increase the number of iterations (max_iter) or scale the data as shown in:\n",
            "    https://scikit-learn.org/stable/modules/preprocessing.html\n",
            "Please also refer to the documentation for alternative solver options:\n",
            "    https://scikit-learn.org/stable/modules/linear_model.html#logistic-regression\n",
            "  extra_warning_msg=_LOGISTIC_SOLVER_CONVERGENCE_MSG,\n"
          ]
        },
        {
          "output_type": "stream",
          "name": "stdout",
          "text": [
            "[CV 1/5; 29/120] END Modelo=LogisticRegression(random_state=20), Preprocessing__bow__ngram_range=(1, 2), Selection__percentile=45;, score=(train=1.000, test=0.833) total time=   1.3s\n",
            "[CV 2/5; 29/120] START Modelo=LogisticRegression(random_state=20), Preprocessing__bow__ngram_range=(1, 2), Selection__percentile=45\n"
          ]
        },
        {
          "output_type": "stream",
          "name": "stderr",
          "text": [
            "/usr/local/lib/python3.7/dist-packages/sklearn/feature_selection/_univariate_selection.py:113: RuntimeWarning: divide by zero encountered in true_divide\n",
            "  f = msb / msw\n",
            "/usr/local/lib/python3.7/dist-packages/sklearn/linear_model/_logistic.py:818: ConvergenceWarning: lbfgs failed to converge (status=1):\n",
            "STOP: TOTAL NO. of ITERATIONS REACHED LIMIT.\n",
            "\n",
            "Increase the number of iterations (max_iter) or scale the data as shown in:\n",
            "    https://scikit-learn.org/stable/modules/preprocessing.html\n",
            "Please also refer to the documentation for alternative solver options:\n",
            "    https://scikit-learn.org/stable/modules/linear_model.html#logistic-regression\n",
            "  extra_warning_msg=_LOGISTIC_SOLVER_CONVERGENCE_MSG,\n"
          ]
        },
        {
          "output_type": "stream",
          "name": "stdout",
          "text": [
            "[CV 2/5; 29/120] END Modelo=LogisticRegression(random_state=20), Preprocessing__bow__ngram_range=(1, 2), Selection__percentile=45;, score=(train=1.000, test=0.500) total time=   1.7s\n",
            "[CV 3/5; 29/120] START Modelo=LogisticRegression(random_state=20), Preprocessing__bow__ngram_range=(1, 2), Selection__percentile=45\n"
          ]
        },
        {
          "output_type": "stream",
          "name": "stderr",
          "text": [
            "/usr/local/lib/python3.7/dist-packages/sklearn/linear_model/_logistic.py:818: ConvergenceWarning: lbfgs failed to converge (status=1):\n",
            "STOP: TOTAL NO. of ITERATIONS REACHED LIMIT.\n",
            "\n",
            "Increase the number of iterations (max_iter) or scale the data as shown in:\n",
            "    https://scikit-learn.org/stable/modules/preprocessing.html\n",
            "Please also refer to the documentation for alternative solver options:\n",
            "    https://scikit-learn.org/stable/modules/linear_model.html#logistic-regression\n",
            "  extra_warning_msg=_LOGISTIC_SOLVER_CONVERGENCE_MSG,\n"
          ]
        },
        {
          "output_type": "stream",
          "name": "stdout",
          "text": [
            "[CV 3/5; 29/120] END Modelo=LogisticRegression(random_state=20), Preprocessing__bow__ngram_range=(1, 2), Selection__percentile=45;, score=(train=1.000, test=0.500) total time=   0.8s\n",
            "[CV 4/5; 29/120] START Modelo=LogisticRegression(random_state=20), Preprocessing__bow__ngram_range=(1, 2), Selection__percentile=45\n",
            "[CV 4/5; 29/120] END Modelo=LogisticRegression(random_state=20), Preprocessing__bow__ngram_range=(1, 2), Selection__percentile=45;, score=(train=1.000, test=0.333) total time=   1.1s\n",
            "[CV 5/5; 29/120] START Modelo=LogisticRegression(random_state=20), Preprocessing__bow__ngram_range=(1, 2), Selection__percentile=45\n",
            "[CV 5/5; 29/120] END Modelo=LogisticRegression(random_state=20), Preprocessing__bow__ngram_range=(1, 2), Selection__percentile=45;, score=(train=1.000, test=0.500) total time=   1.1s\n",
            "[CV 1/5; 30/120] START Modelo=LogisticRegression(random_state=20), Preprocessing__bow__ngram_range=(1, 2), Selection__percentile=50\n"
          ]
        },
        {
          "output_type": "stream",
          "name": "stderr",
          "text": [
            "/usr/local/lib/python3.7/dist-packages/sklearn/feature_selection/_univariate_selection.py:113: RuntimeWarning: divide by zero encountered in true_divide\n",
            "  f = msb / msw\n",
            "/usr/local/lib/python3.7/dist-packages/sklearn/linear_model/_logistic.py:818: ConvergenceWarning: lbfgs failed to converge (status=1):\n",
            "STOP: TOTAL NO. of ITERATIONS REACHED LIMIT.\n",
            "\n",
            "Increase the number of iterations (max_iter) or scale the data as shown in:\n",
            "    https://scikit-learn.org/stable/modules/preprocessing.html\n",
            "Please also refer to the documentation for alternative solver options:\n",
            "    https://scikit-learn.org/stable/modules/linear_model.html#logistic-regression\n",
            "  extra_warning_msg=_LOGISTIC_SOLVER_CONVERGENCE_MSG,\n"
          ]
        },
        {
          "output_type": "stream",
          "name": "stdout",
          "text": [
            "[CV 1/5; 30/120] END Modelo=LogisticRegression(random_state=20), Preprocessing__bow__ngram_range=(1, 2), Selection__percentile=50;, score=(train=1.000, test=0.833) total time=   1.6s\n",
            "[CV 2/5; 30/120] START Modelo=LogisticRegression(random_state=20), Preprocessing__bow__ngram_range=(1, 2), Selection__percentile=50\n"
          ]
        },
        {
          "output_type": "stream",
          "name": "stderr",
          "text": [
            "/usr/local/lib/python3.7/dist-packages/sklearn/feature_selection/_univariate_selection.py:113: RuntimeWarning: divide by zero encountered in true_divide\n",
            "  f = msb / msw\n",
            "/usr/local/lib/python3.7/dist-packages/sklearn/linear_model/_logistic.py:818: ConvergenceWarning: lbfgs failed to converge (status=1):\n",
            "STOP: TOTAL NO. of ITERATIONS REACHED LIMIT.\n",
            "\n",
            "Increase the number of iterations (max_iter) or scale the data as shown in:\n",
            "    https://scikit-learn.org/stable/modules/preprocessing.html\n",
            "Please also refer to the documentation for alternative solver options:\n",
            "    https://scikit-learn.org/stable/modules/linear_model.html#logistic-regression\n",
            "  extra_warning_msg=_LOGISTIC_SOLVER_CONVERGENCE_MSG,\n"
          ]
        },
        {
          "output_type": "stream",
          "name": "stdout",
          "text": [
            "[CV 2/5; 30/120] END Modelo=LogisticRegression(random_state=20), Preprocessing__bow__ngram_range=(1, 2), Selection__percentile=50;, score=(train=1.000, test=0.500) total time=   1.7s\n",
            "[CV 3/5; 30/120] START Modelo=LogisticRegression(random_state=20), Preprocessing__bow__ngram_range=(1, 2), Selection__percentile=50\n"
          ]
        },
        {
          "output_type": "stream",
          "name": "stderr",
          "text": [
            "/usr/local/lib/python3.7/dist-packages/sklearn/linear_model/_logistic.py:818: ConvergenceWarning: lbfgs failed to converge (status=1):\n",
            "STOP: TOTAL NO. of ITERATIONS REACHED LIMIT.\n",
            "\n",
            "Increase the number of iterations (max_iter) or scale the data as shown in:\n",
            "    https://scikit-learn.org/stable/modules/preprocessing.html\n",
            "Please also refer to the documentation for alternative solver options:\n",
            "    https://scikit-learn.org/stable/modules/linear_model.html#logistic-regression\n",
            "  extra_warning_msg=_LOGISTIC_SOLVER_CONVERGENCE_MSG,\n"
          ]
        },
        {
          "output_type": "stream",
          "name": "stdout",
          "text": [
            "[CV 3/5; 30/120] END Modelo=LogisticRegression(random_state=20), Preprocessing__bow__ngram_range=(1, 2), Selection__percentile=50;, score=(train=1.000, test=0.500) total time=   0.8s\n",
            "[CV 4/5; 30/120] START Modelo=LogisticRegression(random_state=20), Preprocessing__bow__ngram_range=(1, 2), Selection__percentile=50\n",
            "[CV 4/5; 30/120] END Modelo=LogisticRegression(random_state=20), Preprocessing__bow__ngram_range=(1, 2), Selection__percentile=50;, score=(train=1.000, test=0.333) total time=   1.3s\n",
            "[CV 5/5; 30/120] START Modelo=LogisticRegression(random_state=20), Preprocessing__bow__ngram_range=(1, 2), Selection__percentile=50\n",
            "[CV 5/5; 30/120] END Modelo=LogisticRegression(random_state=20), Preprocessing__bow__ngram_range=(1, 2), Selection__percentile=50;, score=(train=1.000, test=0.500) total time=   1.2s\n",
            "[CV 1/5; 31/120] START Modelo=LogisticRegression(random_state=20), Preprocessing__bow__ngram_range=(1, 2), Selection__percentile=55\n"
          ]
        },
        {
          "output_type": "stream",
          "name": "stderr",
          "text": [
            "/usr/local/lib/python3.7/dist-packages/sklearn/feature_selection/_univariate_selection.py:113: RuntimeWarning: divide by zero encountered in true_divide\n",
            "  f = msb / msw\n",
            "/usr/local/lib/python3.7/dist-packages/sklearn/linear_model/_logistic.py:818: ConvergenceWarning: lbfgs failed to converge (status=1):\n",
            "STOP: TOTAL NO. of ITERATIONS REACHED LIMIT.\n",
            "\n",
            "Increase the number of iterations (max_iter) or scale the data as shown in:\n",
            "    https://scikit-learn.org/stable/modules/preprocessing.html\n",
            "Please also refer to the documentation for alternative solver options:\n",
            "    https://scikit-learn.org/stable/modules/linear_model.html#logistic-regression\n",
            "  extra_warning_msg=_LOGISTIC_SOLVER_CONVERGENCE_MSG,\n"
          ]
        },
        {
          "output_type": "stream",
          "name": "stdout",
          "text": [
            "[CV 1/5; 31/120] END Modelo=LogisticRegression(random_state=20), Preprocessing__bow__ngram_range=(1, 2), Selection__percentile=55;, score=(train=1.000, test=0.833) total time=   1.7s\n",
            "[CV 2/5; 31/120] START Modelo=LogisticRegression(random_state=20), Preprocessing__bow__ngram_range=(1, 2), Selection__percentile=55\n"
          ]
        },
        {
          "output_type": "stream",
          "name": "stderr",
          "text": [
            "/usr/local/lib/python3.7/dist-packages/sklearn/feature_selection/_univariate_selection.py:113: RuntimeWarning: divide by zero encountered in true_divide\n",
            "  f = msb / msw\n"
          ]
        },
        {
          "output_type": "stream",
          "name": "stdout",
          "text": [
            "[CV 2/5; 31/120] END Modelo=LogisticRegression(random_state=20), Preprocessing__bow__ngram_range=(1, 2), Selection__percentile=55;, score=(train=1.000, test=0.500) total time=   1.8s\n",
            "[CV 3/5; 31/120] START Modelo=LogisticRegression(random_state=20), Preprocessing__bow__ngram_range=(1, 2), Selection__percentile=55\n"
          ]
        },
        {
          "output_type": "stream",
          "name": "stderr",
          "text": [
            "/usr/local/lib/python3.7/dist-packages/sklearn/linear_model/_logistic.py:818: ConvergenceWarning: lbfgs failed to converge (status=1):\n",
            "STOP: TOTAL NO. of ITERATIONS REACHED LIMIT.\n",
            "\n",
            "Increase the number of iterations (max_iter) or scale the data as shown in:\n",
            "    https://scikit-learn.org/stable/modules/preprocessing.html\n",
            "Please also refer to the documentation for alternative solver options:\n",
            "    https://scikit-learn.org/stable/modules/linear_model.html#logistic-regression\n",
            "  extra_warning_msg=_LOGISTIC_SOLVER_CONVERGENCE_MSG,\n"
          ]
        },
        {
          "output_type": "stream",
          "name": "stdout",
          "text": [
            "[CV 3/5; 31/120] END Modelo=LogisticRegression(random_state=20), Preprocessing__bow__ngram_range=(1, 2), Selection__percentile=55;, score=(train=1.000, test=0.500) total time=   0.8s\n",
            "[CV 4/5; 31/120] START Modelo=LogisticRegression(random_state=20), Preprocessing__bow__ngram_range=(1, 2), Selection__percentile=55\n",
            "[CV 4/5; 31/120] END Modelo=LogisticRegression(random_state=20), Preprocessing__bow__ngram_range=(1, 2), Selection__percentile=55;, score=(train=1.000, test=0.333) total time=   1.3s\n",
            "[CV 5/5; 31/120] START Modelo=LogisticRegression(random_state=20), Preprocessing__bow__ngram_range=(1, 2), Selection__percentile=55\n",
            "[CV 5/5; 31/120] END Modelo=LogisticRegression(random_state=20), Preprocessing__bow__ngram_range=(1, 2), Selection__percentile=55;, score=(train=1.000, test=0.500) total time=   1.3s\n",
            "[CV 1/5; 32/120] START Modelo=LogisticRegression(random_state=20), Preprocessing__bow__ngram_range=(1, 2), Selection__percentile=60\n"
          ]
        },
        {
          "output_type": "stream",
          "name": "stderr",
          "text": [
            "/usr/local/lib/python3.7/dist-packages/sklearn/feature_selection/_univariate_selection.py:113: RuntimeWarning: divide by zero encountered in true_divide\n",
            "  f = msb / msw\n",
            "/usr/local/lib/python3.7/dist-packages/sklearn/linear_model/_logistic.py:818: ConvergenceWarning: lbfgs failed to converge (status=1):\n",
            "STOP: TOTAL NO. of ITERATIONS REACHED LIMIT.\n",
            "\n",
            "Increase the number of iterations (max_iter) or scale the data as shown in:\n",
            "    https://scikit-learn.org/stable/modules/preprocessing.html\n",
            "Please also refer to the documentation for alternative solver options:\n",
            "    https://scikit-learn.org/stable/modules/linear_model.html#logistic-regression\n",
            "  extra_warning_msg=_LOGISTIC_SOLVER_CONVERGENCE_MSG,\n"
          ]
        },
        {
          "output_type": "stream",
          "name": "stdout",
          "text": [
            "[CV 1/5; 32/120] END Modelo=LogisticRegression(random_state=20), Preprocessing__bow__ngram_range=(1, 2), Selection__percentile=60;, score=(train=1.000, test=0.833) total time=   1.7s\n",
            "[CV 2/5; 32/120] START Modelo=LogisticRegression(random_state=20), Preprocessing__bow__ngram_range=(1, 2), Selection__percentile=60\n"
          ]
        },
        {
          "output_type": "stream",
          "name": "stderr",
          "text": [
            "/usr/local/lib/python3.7/dist-packages/sklearn/feature_selection/_univariate_selection.py:113: RuntimeWarning: divide by zero encountered in true_divide\n",
            "  f = msb / msw\n",
            "/usr/local/lib/python3.7/dist-packages/sklearn/linear_model/_logistic.py:818: ConvergenceWarning: lbfgs failed to converge (status=1):\n",
            "STOP: TOTAL NO. of ITERATIONS REACHED LIMIT.\n",
            "\n",
            "Increase the number of iterations (max_iter) or scale the data as shown in:\n",
            "    https://scikit-learn.org/stable/modules/preprocessing.html\n",
            "Please also refer to the documentation for alternative solver options:\n",
            "    https://scikit-learn.org/stable/modules/linear_model.html#logistic-regression\n",
            "  extra_warning_msg=_LOGISTIC_SOLVER_CONVERGENCE_MSG,\n"
          ]
        },
        {
          "output_type": "stream",
          "name": "stdout",
          "text": [
            "[CV 2/5; 32/120] END Modelo=LogisticRegression(random_state=20), Preprocessing__bow__ngram_range=(1, 2), Selection__percentile=60;, score=(train=1.000, test=0.500) total time=   1.9s\n",
            "[CV 3/5; 32/120] START Modelo=LogisticRegression(random_state=20), Preprocessing__bow__ngram_range=(1, 2), Selection__percentile=60\n",
            "[CV 3/5; 32/120] END Modelo=LogisticRegression(random_state=20), Preprocessing__bow__ngram_range=(1, 2), Selection__percentile=60;, score=(train=1.000, test=0.500) total time=   0.8s\n",
            "[CV 4/5; 32/120] START Modelo=LogisticRegression(random_state=20), Preprocessing__bow__ngram_range=(1, 2), Selection__percentile=60\n",
            "[CV 4/5; 32/120] END Modelo=LogisticRegression(random_state=20), Preprocessing__bow__ngram_range=(1, 2), Selection__percentile=60;, score=(train=1.000, test=0.333) total time=   1.4s\n",
            "[CV 5/5; 32/120] START Modelo=LogisticRegression(random_state=20), Preprocessing__bow__ngram_range=(1, 2), Selection__percentile=60\n",
            "[CV 5/5; 32/120] END Modelo=LogisticRegression(random_state=20), Preprocessing__bow__ngram_range=(1, 2), Selection__percentile=60;, score=(train=1.000, test=0.500) total time=   0.8s\n",
            "[CV 1/5; 33/120] START Modelo=LogisticRegression(random_state=20), Preprocessing__bow__ngram_range=(1, 2), Selection__percentile=65\n"
          ]
        },
        {
          "output_type": "stream",
          "name": "stderr",
          "text": [
            "/usr/local/lib/python3.7/dist-packages/sklearn/feature_selection/_univariate_selection.py:113: RuntimeWarning: divide by zero encountered in true_divide\n",
            "  f = msb / msw\n",
            "/usr/local/lib/python3.7/dist-packages/sklearn/linear_model/_logistic.py:818: ConvergenceWarning: lbfgs failed to converge (status=1):\n",
            "STOP: TOTAL NO. of ITERATIONS REACHED LIMIT.\n",
            "\n",
            "Increase the number of iterations (max_iter) or scale the data as shown in:\n",
            "    https://scikit-learn.org/stable/modules/preprocessing.html\n",
            "Please also refer to the documentation for alternative solver options:\n",
            "    https://scikit-learn.org/stable/modules/linear_model.html#logistic-regression\n",
            "  extra_warning_msg=_LOGISTIC_SOLVER_CONVERGENCE_MSG,\n"
          ]
        },
        {
          "output_type": "stream",
          "name": "stdout",
          "text": [
            "[CV 1/5; 33/120] END Modelo=LogisticRegression(random_state=20), Preprocessing__bow__ngram_range=(1, 2), Selection__percentile=65;, score=(train=1.000, test=0.833) total time=   1.5s\n",
            "[CV 2/5; 33/120] START Modelo=LogisticRegression(random_state=20), Preprocessing__bow__ngram_range=(1, 2), Selection__percentile=65\n"
          ]
        },
        {
          "output_type": "stream",
          "name": "stderr",
          "text": [
            "/usr/local/lib/python3.7/dist-packages/sklearn/feature_selection/_univariate_selection.py:113: RuntimeWarning: divide by zero encountered in true_divide\n",
            "  f = msb / msw\n"
          ]
        },
        {
          "output_type": "stream",
          "name": "stdout",
          "text": [
            "[CV 2/5; 33/120] END Modelo=LogisticRegression(random_state=20), Preprocessing__bow__ngram_range=(1, 2), Selection__percentile=65;, score=(train=1.000, test=0.500) total time=   1.8s\n",
            "[CV 3/5; 33/120] START Modelo=LogisticRegression(random_state=20), Preprocessing__bow__ngram_range=(1, 2), Selection__percentile=65\n",
            "[CV 3/5; 33/120] END Modelo=LogisticRegression(random_state=20), Preprocessing__bow__ngram_range=(1, 2), Selection__percentile=65;, score=(train=1.000, test=0.500) total time=   0.9s\n",
            "[CV 4/5; 33/120] START Modelo=LogisticRegression(random_state=20), Preprocessing__bow__ngram_range=(1, 2), Selection__percentile=65\n",
            "[CV 4/5; 33/120] END Modelo=LogisticRegression(random_state=20), Preprocessing__bow__ngram_range=(1, 2), Selection__percentile=65;, score=(train=1.000, test=0.333) total time=   1.3s\n",
            "[CV 5/5; 33/120] START Modelo=LogisticRegression(random_state=20), Preprocessing__bow__ngram_range=(1, 2), Selection__percentile=65\n",
            "[CV 5/5; 33/120] END Modelo=LogisticRegression(random_state=20), Preprocessing__bow__ngram_range=(1, 2), Selection__percentile=65;, score=(train=1.000, test=0.500) total time=   1.2s\n",
            "[CV 1/5; 34/120] START Modelo=LogisticRegression(random_state=20), Preprocessing__bow__ngram_range=(1, 2), Selection__percentile=70\n"
          ]
        },
        {
          "output_type": "stream",
          "name": "stderr",
          "text": [
            "/usr/local/lib/python3.7/dist-packages/sklearn/feature_selection/_univariate_selection.py:113: RuntimeWarning: divide by zero encountered in true_divide\n",
            "  f = msb / msw\n"
          ]
        },
        {
          "output_type": "stream",
          "name": "stdout",
          "text": [
            "[CV 1/5; 34/120] END Modelo=LogisticRegression(random_state=20), Preprocessing__bow__ngram_range=(1, 2), Selection__percentile=70;, score=(train=1.000, test=0.833) total time=   1.6s\n",
            "[CV 2/5; 34/120] START Modelo=LogisticRegression(random_state=20), Preprocessing__bow__ngram_range=(1, 2), Selection__percentile=70\n"
          ]
        },
        {
          "output_type": "stream",
          "name": "stderr",
          "text": [
            "/usr/local/lib/python3.7/dist-packages/sklearn/feature_selection/_univariate_selection.py:113: RuntimeWarning: divide by zero encountered in true_divide\n",
            "  f = msb / msw\n",
            "/usr/local/lib/python3.7/dist-packages/sklearn/linear_model/_logistic.py:818: ConvergenceWarning: lbfgs failed to converge (status=1):\n",
            "STOP: TOTAL NO. of ITERATIONS REACHED LIMIT.\n",
            "\n",
            "Increase the number of iterations (max_iter) or scale the data as shown in:\n",
            "    https://scikit-learn.org/stable/modules/preprocessing.html\n",
            "Please also refer to the documentation for alternative solver options:\n",
            "    https://scikit-learn.org/stable/modules/linear_model.html#logistic-regression\n",
            "  extra_warning_msg=_LOGISTIC_SOLVER_CONVERGENCE_MSG,\n"
          ]
        },
        {
          "output_type": "stream",
          "name": "stdout",
          "text": [
            "[CV 2/5; 34/120] END Modelo=LogisticRegression(random_state=20), Preprocessing__bow__ngram_range=(1, 2), Selection__percentile=70;, score=(train=1.000, test=0.500) total time=   2.0s\n",
            "[CV 3/5; 34/120] START Modelo=LogisticRegression(random_state=20), Preprocessing__bow__ngram_range=(1, 2), Selection__percentile=70\n",
            "[CV 3/5; 34/120] END Modelo=LogisticRegression(random_state=20), Preprocessing__bow__ngram_range=(1, 2), Selection__percentile=70;, score=(train=1.000, test=0.500) total time=   0.9s\n",
            "[CV 4/5; 34/120] START Modelo=LogisticRegression(random_state=20), Preprocessing__bow__ngram_range=(1, 2), Selection__percentile=70\n",
            "[CV 4/5; 34/120] END Modelo=LogisticRegression(random_state=20), Preprocessing__bow__ngram_range=(1, 2), Selection__percentile=70;, score=(train=1.000, test=0.333) total time=   1.5s\n",
            "[CV 5/5; 34/120] START Modelo=LogisticRegression(random_state=20), Preprocessing__bow__ngram_range=(1, 2), Selection__percentile=70\n",
            "[CV 5/5; 34/120] END Modelo=LogisticRegression(random_state=20), Preprocessing__bow__ngram_range=(1, 2), Selection__percentile=70;, score=(train=1.000, test=0.500) total time=   1.3s\n",
            "[CV 1/5; 35/120] START Modelo=LogisticRegression(random_state=20), Preprocessing__bow__ngram_range=(1, 2), Selection__percentile=75\n"
          ]
        },
        {
          "output_type": "stream",
          "name": "stderr",
          "text": [
            "/usr/local/lib/python3.7/dist-packages/sklearn/feature_selection/_univariate_selection.py:113: RuntimeWarning: divide by zero encountered in true_divide\n",
            "  f = msb / msw\n"
          ]
        },
        {
          "output_type": "stream",
          "name": "stdout",
          "text": [
            "[CV 1/5; 35/120] END Modelo=LogisticRegression(random_state=20), Preprocessing__bow__ngram_range=(1, 2), Selection__percentile=75;, score=(train=1.000, test=0.833) total time=   1.7s\n",
            "[CV 2/5; 35/120] START Modelo=LogisticRegression(random_state=20), Preprocessing__bow__ngram_range=(1, 2), Selection__percentile=75\n"
          ]
        },
        {
          "output_type": "stream",
          "name": "stderr",
          "text": [
            "/usr/local/lib/python3.7/dist-packages/sklearn/feature_selection/_univariate_selection.py:113: RuntimeWarning: divide by zero encountered in true_divide\n",
            "  f = msb / msw\n"
          ]
        },
        {
          "output_type": "stream",
          "name": "stdout",
          "text": [
            "[CV 2/5; 35/120] END Modelo=LogisticRegression(random_state=20), Preprocessing__bow__ngram_range=(1, 2), Selection__percentile=75;, score=(train=1.000, test=0.500) total time=   2.2s\n",
            "[CV 3/5; 35/120] START Modelo=LogisticRegression(random_state=20), Preprocessing__bow__ngram_range=(1, 2), Selection__percentile=75\n",
            "[CV 3/5; 35/120] END Modelo=LogisticRegression(random_state=20), Preprocessing__bow__ngram_range=(1, 2), Selection__percentile=75;, score=(train=1.000, test=0.500) total time=   0.9s\n",
            "[CV 4/5; 35/120] START Modelo=LogisticRegression(random_state=20), Preprocessing__bow__ngram_range=(1, 2), Selection__percentile=75\n",
            "[CV 4/5; 35/120] END Modelo=LogisticRegression(random_state=20), Preprocessing__bow__ngram_range=(1, 2), Selection__percentile=75;, score=(train=1.000, test=0.333) total time=   1.5s\n",
            "[CV 5/5; 35/120] START Modelo=LogisticRegression(random_state=20), Preprocessing__bow__ngram_range=(1, 2), Selection__percentile=75\n",
            "[CV 5/5; 35/120] END Modelo=LogisticRegression(random_state=20), Preprocessing__bow__ngram_range=(1, 2), Selection__percentile=75;, score=(train=1.000, test=0.500) total time=   1.6s\n",
            "[CV 1/5; 36/120] START Modelo=LogisticRegression(random_state=20), Preprocessing__bow__ngram_range=(1, 2), Selection__percentile=80\n"
          ]
        },
        {
          "output_type": "stream",
          "name": "stderr",
          "text": [
            "/usr/local/lib/python3.7/dist-packages/sklearn/feature_selection/_univariate_selection.py:113: RuntimeWarning: divide by zero encountered in true_divide\n",
            "  f = msb / msw\n",
            "/usr/local/lib/python3.7/dist-packages/sklearn/linear_model/_logistic.py:818: ConvergenceWarning: lbfgs failed to converge (status=1):\n",
            "STOP: TOTAL NO. of ITERATIONS REACHED LIMIT.\n",
            "\n",
            "Increase the number of iterations (max_iter) or scale the data as shown in:\n",
            "    https://scikit-learn.org/stable/modules/preprocessing.html\n",
            "Please also refer to the documentation for alternative solver options:\n",
            "    https://scikit-learn.org/stable/modules/linear_model.html#logistic-regression\n",
            "  extra_warning_msg=_LOGISTIC_SOLVER_CONVERGENCE_MSG,\n"
          ]
        },
        {
          "output_type": "stream",
          "name": "stdout",
          "text": [
            "[CV 1/5; 36/120] END Modelo=LogisticRegression(random_state=20), Preprocessing__bow__ngram_range=(1, 2), Selection__percentile=80;, score=(train=1.000, test=0.833) total time=   1.7s\n",
            "[CV 2/5; 36/120] START Modelo=LogisticRegression(random_state=20), Preprocessing__bow__ngram_range=(1, 2), Selection__percentile=80\n"
          ]
        },
        {
          "output_type": "stream",
          "name": "stderr",
          "text": [
            "/usr/local/lib/python3.7/dist-packages/sklearn/feature_selection/_univariate_selection.py:113: RuntimeWarning: divide by zero encountered in true_divide\n",
            "  f = msb / msw\n"
          ]
        },
        {
          "output_type": "stream",
          "name": "stdout",
          "text": [
            "[CV 2/5; 36/120] END Modelo=LogisticRegression(random_state=20), Preprocessing__bow__ngram_range=(1, 2), Selection__percentile=80;, score=(train=1.000, test=0.500) total time=   2.0s\n",
            "[CV 3/5; 36/120] START Modelo=LogisticRegression(random_state=20), Preprocessing__bow__ngram_range=(1, 2), Selection__percentile=80\n",
            "[CV 3/5; 36/120] END Modelo=LogisticRegression(random_state=20), Preprocessing__bow__ngram_range=(1, 2), Selection__percentile=80;, score=(train=1.000, test=0.500) total time=   0.9s\n",
            "[CV 4/5; 36/120] START Modelo=LogisticRegression(random_state=20), Preprocessing__bow__ngram_range=(1, 2), Selection__percentile=80\n",
            "[CV 4/5; 36/120] END Modelo=LogisticRegression(random_state=20), Preprocessing__bow__ngram_range=(1, 2), Selection__percentile=80;, score=(train=1.000, test=0.333) total time=   1.6s\n",
            "[CV 5/5; 36/120] START Modelo=LogisticRegression(random_state=20), Preprocessing__bow__ngram_range=(1, 2), Selection__percentile=80\n",
            "[CV 5/5; 36/120] END Modelo=LogisticRegression(random_state=20), Preprocessing__bow__ngram_range=(1, 2), Selection__percentile=80;, score=(train=1.000, test=0.500) total time=   1.3s\n",
            "[CV 1/5; 37/120] START Modelo=LogisticRegression(random_state=20), Preprocessing__bow__ngram_range=(1, 2), Selection__percentile=85\n"
          ]
        },
        {
          "output_type": "stream",
          "name": "stderr",
          "text": [
            "/usr/local/lib/python3.7/dist-packages/sklearn/feature_selection/_univariate_selection.py:113: RuntimeWarning: divide by zero encountered in true_divide\n",
            "  f = msb / msw\n",
            "/usr/local/lib/python3.7/dist-packages/sklearn/linear_model/_logistic.py:818: ConvergenceWarning: lbfgs failed to converge (status=1):\n",
            "STOP: TOTAL NO. of ITERATIONS REACHED LIMIT.\n",
            "\n",
            "Increase the number of iterations (max_iter) or scale the data as shown in:\n",
            "    https://scikit-learn.org/stable/modules/preprocessing.html\n",
            "Please also refer to the documentation for alternative solver options:\n",
            "    https://scikit-learn.org/stable/modules/linear_model.html#logistic-regression\n",
            "  extra_warning_msg=_LOGISTIC_SOLVER_CONVERGENCE_MSG,\n"
          ]
        },
        {
          "output_type": "stream",
          "name": "stdout",
          "text": [
            "[CV 1/5; 37/120] END Modelo=LogisticRegression(random_state=20), Preprocessing__bow__ngram_range=(1, 2), Selection__percentile=85;, score=(train=1.000, test=0.667) total time=   1.8s\n",
            "[CV 2/5; 37/120] START Modelo=LogisticRegression(random_state=20), Preprocessing__bow__ngram_range=(1, 2), Selection__percentile=85\n"
          ]
        },
        {
          "output_type": "stream",
          "name": "stderr",
          "text": [
            "/usr/local/lib/python3.7/dist-packages/sklearn/feature_selection/_univariate_selection.py:113: RuntimeWarning: divide by zero encountered in true_divide\n",
            "  f = msb / msw\n"
          ]
        },
        {
          "output_type": "stream",
          "name": "stdout",
          "text": [
            "[CV 2/5; 37/120] END Modelo=LogisticRegression(random_state=20), Preprocessing__bow__ngram_range=(1, 2), Selection__percentile=85;, score=(train=1.000, test=0.500) total time=   2.1s\n",
            "[CV 3/5; 37/120] START Modelo=LogisticRegression(random_state=20), Preprocessing__bow__ngram_range=(1, 2), Selection__percentile=85\n",
            "[CV 3/5; 37/120] END Modelo=LogisticRegression(random_state=20), Preprocessing__bow__ngram_range=(1, 2), Selection__percentile=85;, score=(train=1.000, test=0.500) total time=   1.0s\n",
            "[CV 4/5; 37/120] START Modelo=LogisticRegression(random_state=20), Preprocessing__bow__ngram_range=(1, 2), Selection__percentile=85\n",
            "[CV 4/5; 37/120] END Modelo=LogisticRegression(random_state=20), Preprocessing__bow__ngram_range=(1, 2), Selection__percentile=85;, score=(train=1.000, test=0.333) total time=   1.4s\n",
            "[CV 5/5; 37/120] START Modelo=LogisticRegression(random_state=20), Preprocessing__bow__ngram_range=(1, 2), Selection__percentile=85\n",
            "[CV 5/5; 37/120] END Modelo=LogisticRegression(random_state=20), Preprocessing__bow__ngram_range=(1, 2), Selection__percentile=85;, score=(train=1.000, test=0.500) total time=   1.3s\n",
            "[CV 1/5; 38/120] START Modelo=LogisticRegression(random_state=20), Preprocessing__bow__ngram_range=(1, 2), Selection__percentile=90\n"
          ]
        },
        {
          "output_type": "stream",
          "name": "stderr",
          "text": [
            "/usr/local/lib/python3.7/dist-packages/sklearn/feature_selection/_univariate_selection.py:113: RuntimeWarning: divide by zero encountered in true_divide\n",
            "  f = msb / msw\n",
            "/usr/local/lib/python3.7/dist-packages/sklearn/linear_model/_logistic.py:818: ConvergenceWarning: lbfgs failed to converge (status=1):\n",
            "STOP: TOTAL NO. of ITERATIONS REACHED LIMIT.\n",
            "\n",
            "Increase the number of iterations (max_iter) or scale the data as shown in:\n",
            "    https://scikit-learn.org/stable/modules/preprocessing.html\n",
            "Please also refer to the documentation for alternative solver options:\n",
            "    https://scikit-learn.org/stable/modules/linear_model.html#logistic-regression\n",
            "  extra_warning_msg=_LOGISTIC_SOLVER_CONVERGENCE_MSG,\n"
          ]
        },
        {
          "output_type": "stream",
          "name": "stdout",
          "text": [
            "[CV 1/5; 38/120] END Modelo=LogisticRegression(random_state=20), Preprocessing__bow__ngram_range=(1, 2), Selection__percentile=90;, score=(train=1.000, test=0.667) total time=   1.9s\n",
            "[CV 2/5; 38/120] START Modelo=LogisticRegression(random_state=20), Preprocessing__bow__ngram_range=(1, 2), Selection__percentile=90\n"
          ]
        },
        {
          "output_type": "stream",
          "name": "stderr",
          "text": [
            "/usr/local/lib/python3.7/dist-packages/sklearn/feature_selection/_univariate_selection.py:113: RuntimeWarning: divide by zero encountered in true_divide\n",
            "  f = msb / msw\n"
          ]
        },
        {
          "output_type": "stream",
          "name": "stdout",
          "text": [
            "[CV 2/5; 38/120] END Modelo=LogisticRegression(random_state=20), Preprocessing__bow__ngram_range=(1, 2), Selection__percentile=90;, score=(train=1.000, test=0.500) total time=   2.3s\n",
            "[CV 3/5; 38/120] START Modelo=LogisticRegression(random_state=20), Preprocessing__bow__ngram_range=(1, 2), Selection__percentile=90\n",
            "[CV 3/5; 38/120] END Modelo=LogisticRegression(random_state=20), Preprocessing__bow__ngram_range=(1, 2), Selection__percentile=90;, score=(train=1.000, test=0.500) total time=   0.9s\n",
            "[CV 4/5; 38/120] START Modelo=LogisticRegression(random_state=20), Preprocessing__bow__ngram_range=(1, 2), Selection__percentile=90\n",
            "[CV 4/5; 38/120] END Modelo=LogisticRegression(random_state=20), Preprocessing__bow__ngram_range=(1, 2), Selection__percentile=90;, score=(train=1.000, test=0.333) total time=   1.6s\n",
            "[CV 5/5; 38/120] START Modelo=LogisticRegression(random_state=20), Preprocessing__bow__ngram_range=(1, 2), Selection__percentile=90\n",
            "[CV 5/5; 38/120] END Modelo=LogisticRegression(random_state=20), Preprocessing__bow__ngram_range=(1, 2), Selection__percentile=90;, score=(train=1.000, test=0.500) total time=   1.4s\n",
            "[CV 1/5; 39/120] START Modelo=LogisticRegression(random_state=20), Preprocessing__bow__ngram_range=(1, 2), Selection__percentile=95\n"
          ]
        },
        {
          "output_type": "stream",
          "name": "stderr",
          "text": [
            "/usr/local/lib/python3.7/dist-packages/sklearn/feature_selection/_univariate_selection.py:113: RuntimeWarning: divide by zero encountered in true_divide\n",
            "  f = msb / msw\n"
          ]
        },
        {
          "output_type": "stream",
          "name": "stdout",
          "text": [
            "[CV 1/5; 39/120] END Modelo=LogisticRegression(random_state=20), Preprocessing__bow__ngram_range=(1, 2), Selection__percentile=95;, score=(train=1.000, test=0.833) total time=   1.9s\n",
            "[CV 2/5; 39/120] START Modelo=LogisticRegression(random_state=20), Preprocessing__bow__ngram_range=(1, 2), Selection__percentile=95\n"
          ]
        },
        {
          "output_type": "stream",
          "name": "stderr",
          "text": [
            "/usr/local/lib/python3.7/dist-packages/sklearn/feature_selection/_univariate_selection.py:113: RuntimeWarning: divide by zero encountered in true_divide\n",
            "  f = msb / msw\n"
          ]
        },
        {
          "output_type": "stream",
          "name": "stdout",
          "text": [
            "[CV 2/5; 39/120] END Modelo=LogisticRegression(random_state=20), Preprocessing__bow__ngram_range=(1, 2), Selection__percentile=95;, score=(train=1.000, test=0.500) total time=   2.1s\n",
            "[CV 3/5; 39/120] START Modelo=LogisticRegression(random_state=20), Preprocessing__bow__ngram_range=(1, 2), Selection__percentile=95\n",
            "[CV 3/5; 39/120] END Modelo=LogisticRegression(random_state=20), Preprocessing__bow__ngram_range=(1, 2), Selection__percentile=95;, score=(train=1.000, test=0.500) total time=   1.1s\n",
            "[CV 4/5; 39/120] START Modelo=LogisticRegression(random_state=20), Preprocessing__bow__ngram_range=(1, 2), Selection__percentile=95\n",
            "[CV 4/5; 39/120] END Modelo=LogisticRegression(random_state=20), Preprocessing__bow__ngram_range=(1, 2), Selection__percentile=95;, score=(train=1.000, test=0.333) total time=   1.5s\n",
            "[CV 5/5; 39/120] START Modelo=LogisticRegression(random_state=20), Preprocessing__bow__ngram_range=(1, 2), Selection__percentile=95\n",
            "[CV 5/5; 39/120] END Modelo=LogisticRegression(random_state=20), Preprocessing__bow__ngram_range=(1, 2), Selection__percentile=95;, score=(train=1.000, test=0.500) total time=   1.4s\n",
            "[CV 1/5; 40/120] START Modelo=LogisticRegression(random_state=20), Preprocessing__bow__ngram_range=(1, 2), Selection__percentile=100\n"
          ]
        },
        {
          "output_type": "stream",
          "name": "stderr",
          "text": [
            "/usr/local/lib/python3.7/dist-packages/sklearn/feature_selection/_univariate_selection.py:113: RuntimeWarning: divide by zero encountered in true_divide\n",
            "  f = msb / msw\n",
            "/usr/local/lib/python3.7/dist-packages/sklearn/linear_model/_logistic.py:818: ConvergenceWarning: lbfgs failed to converge (status=1):\n",
            "STOP: TOTAL NO. of ITERATIONS REACHED LIMIT.\n",
            "\n",
            "Increase the number of iterations (max_iter) or scale the data as shown in:\n",
            "    https://scikit-learn.org/stable/modules/preprocessing.html\n",
            "Please also refer to the documentation for alternative solver options:\n",
            "    https://scikit-learn.org/stable/modules/linear_model.html#logistic-regression\n",
            "  extra_warning_msg=_LOGISTIC_SOLVER_CONVERGENCE_MSG,\n"
          ]
        },
        {
          "output_type": "stream",
          "name": "stdout",
          "text": [
            "[CV 1/5; 40/120] END Modelo=LogisticRegression(random_state=20), Preprocessing__bow__ngram_range=(1, 2), Selection__percentile=100;, score=(train=1.000, test=0.833) total time=   2.2s\n",
            "[CV 2/5; 40/120] START Modelo=LogisticRegression(random_state=20), Preprocessing__bow__ngram_range=(1, 2), Selection__percentile=100\n"
          ]
        },
        {
          "output_type": "stream",
          "name": "stderr",
          "text": [
            "/usr/local/lib/python3.7/dist-packages/sklearn/feature_selection/_univariate_selection.py:113: RuntimeWarning: divide by zero encountered in true_divide\n",
            "  f = msb / msw\n",
            "/usr/local/lib/python3.7/dist-packages/sklearn/linear_model/_logistic.py:818: ConvergenceWarning: lbfgs failed to converge (status=1):\n",
            "STOP: TOTAL NO. of ITERATIONS REACHED LIMIT.\n",
            "\n",
            "Increase the number of iterations (max_iter) or scale the data as shown in:\n",
            "    https://scikit-learn.org/stable/modules/preprocessing.html\n",
            "Please also refer to the documentation for alternative solver options:\n",
            "    https://scikit-learn.org/stable/modules/linear_model.html#logistic-regression\n",
            "  extra_warning_msg=_LOGISTIC_SOLVER_CONVERGENCE_MSG,\n"
          ]
        },
        {
          "output_type": "stream",
          "name": "stdout",
          "text": [
            "[CV 2/5; 40/120] END Modelo=LogisticRegression(random_state=20), Preprocessing__bow__ngram_range=(1, 2), Selection__percentile=100;, score=(train=1.000, test=0.500) total time=   2.6s\n",
            "[CV 3/5; 40/120] START Modelo=LogisticRegression(random_state=20), Preprocessing__bow__ngram_range=(1, 2), Selection__percentile=100\n",
            "[CV 3/5; 40/120] END Modelo=LogisticRegression(random_state=20), Preprocessing__bow__ngram_range=(1, 2), Selection__percentile=100;, score=(train=1.000, test=0.500) total time=   1.0s\n",
            "[CV 4/5; 40/120] START Modelo=LogisticRegression(random_state=20), Preprocessing__bow__ngram_range=(1, 2), Selection__percentile=100\n"
          ]
        },
        {
          "output_type": "stream",
          "name": "stderr",
          "text": [
            "/usr/local/lib/python3.7/dist-packages/sklearn/linear_model/_logistic.py:818: ConvergenceWarning: lbfgs failed to converge (status=1):\n",
            "STOP: TOTAL NO. of ITERATIONS REACHED LIMIT.\n",
            "\n",
            "Increase the number of iterations (max_iter) or scale the data as shown in:\n",
            "    https://scikit-learn.org/stable/modules/preprocessing.html\n",
            "Please also refer to the documentation for alternative solver options:\n",
            "    https://scikit-learn.org/stable/modules/linear_model.html#logistic-regression\n",
            "  extra_warning_msg=_LOGISTIC_SOLVER_CONVERGENCE_MSG,\n"
          ]
        },
        {
          "output_type": "stream",
          "name": "stdout",
          "text": [
            "[CV 4/5; 40/120] END Modelo=LogisticRegression(random_state=20), Preprocessing__bow__ngram_range=(1, 2), Selection__percentile=100;, score=(train=1.000, test=0.500) total time=   1.9s\n",
            "[CV 5/5; 40/120] START Modelo=LogisticRegression(random_state=20), Preprocessing__bow__ngram_range=(1, 2), Selection__percentile=100\n",
            "[CV 5/5; 40/120] END Modelo=LogisticRegression(random_state=20), Preprocessing__bow__ngram_range=(1, 2), Selection__percentile=100;, score=(train=1.000, test=0.333) total time=   1.4s\n",
            "[CV 1/5; 41/120] START Modelo=LogisticRegression(random_state=20), Preprocessing__bow__ngram_range=(1, 3), Selection__percentile=5\n"
          ]
        },
        {
          "output_type": "stream",
          "name": "stderr",
          "text": [
            "/usr/local/lib/python3.7/dist-packages/sklearn/feature_selection/_univariate_selection.py:113: RuntimeWarning: divide by zero encountered in true_divide\n",
            "  f = msb / msw\n",
            "/usr/local/lib/python3.7/dist-packages/sklearn/linear_model/_logistic.py:818: ConvergenceWarning: lbfgs failed to converge (status=1):\n",
            "STOP: TOTAL NO. of ITERATIONS REACHED LIMIT.\n",
            "\n",
            "Increase the number of iterations (max_iter) or scale the data as shown in:\n",
            "    https://scikit-learn.org/stable/modules/preprocessing.html\n",
            "Please also refer to the documentation for alternative solver options:\n",
            "    https://scikit-learn.org/stable/modules/linear_model.html#logistic-regression\n",
            "  extra_warning_msg=_LOGISTIC_SOLVER_CONVERGENCE_MSG,\n"
          ]
        },
        {
          "output_type": "stream",
          "name": "stdout",
          "text": [
            "[CV 1/5; 41/120] END Modelo=LogisticRegression(random_state=20), Preprocessing__bow__ngram_range=(1, 3), Selection__percentile=5;, score=(train=1.000, test=0.500) total time=   1.0s\n",
            "[CV 2/5; 41/120] START Modelo=LogisticRegression(random_state=20), Preprocessing__bow__ngram_range=(1, 3), Selection__percentile=5\n"
          ]
        },
        {
          "output_type": "stream",
          "name": "stderr",
          "text": [
            "/usr/local/lib/python3.7/dist-packages/sklearn/feature_selection/_univariate_selection.py:113: RuntimeWarning: divide by zero encountered in true_divide\n",
            "  f = msb / msw\n"
          ]
        },
        {
          "output_type": "stream",
          "name": "stdout",
          "text": [
            "[CV 2/5; 41/120] END Modelo=LogisticRegression(random_state=20), Preprocessing__bow__ngram_range=(1, 3), Selection__percentile=5;, score=(train=1.000, test=0.333) total time=   1.2s\n",
            "[CV 3/5; 41/120] START Modelo=LogisticRegression(random_state=20), Preprocessing__bow__ngram_range=(1, 3), Selection__percentile=5\n",
            "[CV 3/5; 41/120] END Modelo=LogisticRegression(random_state=20), Preprocessing__bow__ngram_range=(1, 3), Selection__percentile=5;, score=(train=0.625, test=0.500) total time=   0.5s\n",
            "[CV 4/5; 41/120] START Modelo=LogisticRegression(random_state=20), Preprocessing__bow__ngram_range=(1, 3), Selection__percentile=5\n",
            "[CV 4/5; 41/120] END Modelo=LogisticRegression(random_state=20), Preprocessing__bow__ngram_range=(1, 3), Selection__percentile=5;, score=(train=1.000, test=0.333) total time=   0.9s\n",
            "[CV 5/5; 41/120] START Modelo=LogisticRegression(random_state=20), Preprocessing__bow__ngram_range=(1, 3), Selection__percentile=5\n",
            "[CV 5/5; 41/120] END Modelo=LogisticRegression(random_state=20), Preprocessing__bow__ngram_range=(1, 3), Selection__percentile=5;, score=(train=1.000, test=0.500) total time=   0.7s\n",
            "[CV 1/5; 42/120] START Modelo=LogisticRegression(random_state=20), Preprocessing__bow__ngram_range=(1, 3), Selection__percentile=10\n"
          ]
        },
        {
          "output_type": "stream",
          "name": "stderr",
          "text": [
            "/usr/local/lib/python3.7/dist-packages/sklearn/feature_selection/_univariate_selection.py:113: RuntimeWarning: divide by zero encountered in true_divide\n",
            "  f = msb / msw\n"
          ]
        },
        {
          "output_type": "stream",
          "name": "stdout",
          "text": [
            "[CV 1/5; 42/120] END Modelo=LogisticRegression(random_state=20), Preprocessing__bow__ngram_range=(1, 3), Selection__percentile=10;, score=(train=1.000, test=0.833) total time=   1.2s\n",
            "[CV 2/5; 42/120] START Modelo=LogisticRegression(random_state=20), Preprocessing__bow__ngram_range=(1, 3), Selection__percentile=10\n"
          ]
        },
        {
          "output_type": "stream",
          "name": "stderr",
          "text": [
            "/usr/local/lib/python3.7/dist-packages/sklearn/feature_selection/_univariate_selection.py:113: RuntimeWarning: divide by zero encountered in true_divide\n",
            "  f = msb / msw\n",
            "/usr/local/lib/python3.7/dist-packages/sklearn/linear_model/_logistic.py:818: ConvergenceWarning: lbfgs failed to converge (status=1):\n",
            "STOP: TOTAL NO. of ITERATIONS REACHED LIMIT.\n",
            "\n",
            "Increase the number of iterations (max_iter) or scale the data as shown in:\n",
            "    https://scikit-learn.org/stable/modules/preprocessing.html\n",
            "Please also refer to the documentation for alternative solver options:\n",
            "    https://scikit-learn.org/stable/modules/linear_model.html#logistic-regression\n",
            "  extra_warning_msg=_LOGISTIC_SOLVER_CONVERGENCE_MSG,\n"
          ]
        },
        {
          "output_type": "stream",
          "name": "stdout",
          "text": [
            "[CV 2/5; 42/120] END Modelo=LogisticRegression(random_state=20), Preprocessing__bow__ngram_range=(1, 3), Selection__percentile=10;, score=(train=1.000, test=0.333) total time=   1.5s\n",
            "[CV 3/5; 42/120] START Modelo=LogisticRegression(random_state=20), Preprocessing__bow__ngram_range=(1, 3), Selection__percentile=10\n",
            "[CV 3/5; 42/120] END Modelo=LogisticRegression(random_state=20), Preprocessing__bow__ngram_range=(1, 3), Selection__percentile=10;, score=(train=0.625, test=0.500) total time=   0.5s\n",
            "[CV 4/5; 42/120] START Modelo=LogisticRegression(random_state=20), Preprocessing__bow__ngram_range=(1, 3), Selection__percentile=10\n",
            "[CV 4/5; 42/120] END Modelo=LogisticRegression(random_state=20), Preprocessing__bow__ngram_range=(1, 3), Selection__percentile=10;, score=(train=1.000, test=0.333) total time=   0.9s\n",
            "[CV 5/5; 42/120] START Modelo=LogisticRegression(random_state=20), Preprocessing__bow__ngram_range=(1, 3), Selection__percentile=10\n",
            "[CV 5/5; 42/120] END Modelo=LogisticRegression(random_state=20), Preprocessing__bow__ngram_range=(1, 3), Selection__percentile=10;, score=(train=1.000, test=0.500) total time=   0.8s\n",
            "[CV 1/5; 43/120] START Modelo=LogisticRegression(random_state=20), Preprocessing__bow__ngram_range=(1, 3), Selection__percentile=15\n"
          ]
        },
        {
          "output_type": "stream",
          "name": "stderr",
          "text": [
            "/usr/local/lib/python3.7/dist-packages/sklearn/feature_selection/_univariate_selection.py:113: RuntimeWarning: divide by zero encountered in true_divide\n",
            "  f = msb / msw\n"
          ]
        },
        {
          "output_type": "stream",
          "name": "stdout",
          "text": [
            "[CV 1/5; 43/120] END Modelo=LogisticRegression(random_state=20), Preprocessing__bow__ngram_range=(1, 3), Selection__percentile=15;, score=(train=1.000, test=0.833) total time=   1.4s\n",
            "[CV 2/5; 43/120] START Modelo=LogisticRegression(random_state=20), Preprocessing__bow__ngram_range=(1, 3), Selection__percentile=15\n"
          ]
        },
        {
          "output_type": "stream",
          "name": "stderr",
          "text": [
            "/usr/local/lib/python3.7/dist-packages/sklearn/feature_selection/_univariate_selection.py:113: RuntimeWarning: divide by zero encountered in true_divide\n",
            "  f = msb / msw\n",
            "/usr/local/lib/python3.7/dist-packages/sklearn/linear_model/_logistic.py:818: ConvergenceWarning: lbfgs failed to converge (status=1):\n",
            "STOP: TOTAL NO. of ITERATIONS REACHED LIMIT.\n",
            "\n",
            "Increase the number of iterations (max_iter) or scale the data as shown in:\n",
            "    https://scikit-learn.org/stable/modules/preprocessing.html\n",
            "Please also refer to the documentation for alternative solver options:\n",
            "    https://scikit-learn.org/stable/modules/linear_model.html#logistic-regression\n",
            "  extra_warning_msg=_LOGISTIC_SOLVER_CONVERGENCE_MSG,\n"
          ]
        },
        {
          "output_type": "stream",
          "name": "stdout",
          "text": [
            "[CV 2/5; 43/120] END Modelo=LogisticRegression(random_state=20), Preprocessing__bow__ngram_range=(1, 3), Selection__percentile=15;, score=(train=1.000, test=0.333) total time=   1.7s\n",
            "[CV 3/5; 43/120] START Modelo=LogisticRegression(random_state=20), Preprocessing__bow__ngram_range=(1, 3), Selection__percentile=15\n"
          ]
        },
        {
          "output_type": "stream",
          "name": "stderr",
          "text": [
            "/usr/local/lib/python3.7/dist-packages/sklearn/linear_model/_logistic.py:818: ConvergenceWarning: lbfgs failed to converge (status=1):\n",
            "STOP: TOTAL NO. of ITERATIONS REACHED LIMIT.\n",
            "\n",
            "Increase the number of iterations (max_iter) or scale the data as shown in:\n",
            "    https://scikit-learn.org/stable/modules/preprocessing.html\n",
            "Please also refer to the documentation for alternative solver options:\n",
            "    https://scikit-learn.org/stable/modules/linear_model.html#logistic-regression\n",
            "  extra_warning_msg=_LOGISTIC_SOLVER_CONVERGENCE_MSG,\n"
          ]
        },
        {
          "output_type": "stream",
          "name": "stdout",
          "text": [
            "[CV 3/5; 43/120] END Modelo=LogisticRegression(random_state=20), Preprocessing__bow__ngram_range=(1, 3), Selection__percentile=15;, score=(train=1.000, test=0.500) total time=   0.6s\n",
            "[CV 4/5; 43/120] START Modelo=LogisticRegression(random_state=20), Preprocessing__bow__ngram_range=(1, 3), Selection__percentile=15\n",
            "[CV 4/5; 43/120] END Modelo=LogisticRegression(random_state=20), Preprocessing__bow__ngram_range=(1, 3), Selection__percentile=15;, score=(train=1.000, test=0.333) total time=   1.0s\n",
            "[CV 5/5; 43/120] START Modelo=LogisticRegression(random_state=20), Preprocessing__bow__ngram_range=(1, 3), Selection__percentile=15\n",
            "[CV 5/5; 43/120] END Modelo=LogisticRegression(random_state=20), Preprocessing__bow__ngram_range=(1, 3), Selection__percentile=15;, score=(train=1.000, test=0.500) total time=   0.7s\n",
            "[CV 1/5; 44/120] START Modelo=LogisticRegression(random_state=20), Preprocessing__bow__ngram_range=(1, 3), Selection__percentile=20\n"
          ]
        },
        {
          "output_type": "stream",
          "name": "stderr",
          "text": [
            "/usr/local/lib/python3.7/dist-packages/sklearn/feature_selection/_univariate_selection.py:113: RuntimeWarning: divide by zero encountered in true_divide\n",
            "  f = msb / msw\n",
            "/usr/local/lib/python3.7/dist-packages/sklearn/linear_model/_logistic.py:818: ConvergenceWarning: lbfgs failed to converge (status=1):\n",
            "STOP: TOTAL NO. of ITERATIONS REACHED LIMIT.\n",
            "\n",
            "Increase the number of iterations (max_iter) or scale the data as shown in:\n",
            "    https://scikit-learn.org/stable/modules/preprocessing.html\n",
            "Please also refer to the documentation for alternative solver options:\n",
            "    https://scikit-learn.org/stable/modules/linear_model.html#logistic-regression\n",
            "  extra_warning_msg=_LOGISTIC_SOLVER_CONVERGENCE_MSG,\n"
          ]
        },
        {
          "output_type": "stream",
          "name": "stdout",
          "text": [
            "[CV 1/5; 44/120] END Modelo=LogisticRegression(random_state=20), Preprocessing__bow__ngram_range=(1, 3), Selection__percentile=20;, score=(train=1.000, test=0.667) total time=   1.6s\n",
            "[CV 2/5; 44/120] START Modelo=LogisticRegression(random_state=20), Preprocessing__bow__ngram_range=(1, 3), Selection__percentile=20\n"
          ]
        },
        {
          "output_type": "stream",
          "name": "stderr",
          "text": [
            "/usr/local/lib/python3.7/dist-packages/sklearn/feature_selection/_univariate_selection.py:113: RuntimeWarning: divide by zero encountered in true_divide\n",
            "  f = msb / msw\n"
          ]
        },
        {
          "output_type": "stream",
          "name": "stdout",
          "text": [
            "[CV 2/5; 44/120] END Modelo=LogisticRegression(random_state=20), Preprocessing__bow__ngram_range=(1, 3), Selection__percentile=20;, score=(train=1.000, test=0.333) total time=   1.8s\n",
            "[CV 3/5; 44/120] START Modelo=LogisticRegression(random_state=20), Preprocessing__bow__ngram_range=(1, 3), Selection__percentile=20\n"
          ]
        },
        {
          "output_type": "stream",
          "name": "stderr",
          "text": [
            "/usr/local/lib/python3.7/dist-packages/sklearn/linear_model/_logistic.py:818: ConvergenceWarning: lbfgs failed to converge (status=1):\n",
            "STOP: TOTAL NO. of ITERATIONS REACHED LIMIT.\n",
            "\n",
            "Increase the number of iterations (max_iter) or scale the data as shown in:\n",
            "    https://scikit-learn.org/stable/modules/preprocessing.html\n",
            "Please also refer to the documentation for alternative solver options:\n",
            "    https://scikit-learn.org/stable/modules/linear_model.html#logistic-regression\n",
            "  extra_warning_msg=_LOGISTIC_SOLVER_CONVERGENCE_MSG,\n"
          ]
        },
        {
          "output_type": "stream",
          "name": "stdout",
          "text": [
            "[CV 3/5; 44/120] END Modelo=LogisticRegression(random_state=20), Preprocessing__bow__ngram_range=(1, 3), Selection__percentile=20;, score=(train=1.000, test=0.500) total time=   0.6s\n",
            "[CV 4/5; 44/120] START Modelo=LogisticRegression(random_state=20), Preprocessing__bow__ngram_range=(1, 3), Selection__percentile=20\n",
            "[CV 4/5; 44/120] END Modelo=LogisticRegression(random_state=20), Preprocessing__bow__ngram_range=(1, 3), Selection__percentile=20;, score=(train=1.000, test=0.333) total time=   1.1s\n",
            "[CV 5/5; 44/120] START Modelo=LogisticRegression(random_state=20), Preprocessing__bow__ngram_range=(1, 3), Selection__percentile=20\n",
            "[CV 5/5; 44/120] END Modelo=LogisticRegression(random_state=20), Preprocessing__bow__ngram_range=(1, 3), Selection__percentile=20;, score=(train=1.000, test=0.500) total time=   1.0s\n",
            "[CV 1/5; 45/120] START Modelo=LogisticRegression(random_state=20), Preprocessing__bow__ngram_range=(1, 3), Selection__percentile=25\n"
          ]
        },
        {
          "output_type": "stream",
          "name": "stderr",
          "text": [
            "/usr/local/lib/python3.7/dist-packages/sklearn/feature_selection/_univariate_selection.py:113: RuntimeWarning: divide by zero encountered in true_divide\n",
            "  f = msb / msw\n"
          ]
        },
        {
          "output_type": "stream",
          "name": "stdout",
          "text": [
            "[CV 1/5; 45/120] END Modelo=LogisticRegression(random_state=20), Preprocessing__bow__ngram_range=(1, 3), Selection__percentile=25;, score=(train=1.000, test=0.667) total time=   1.5s\n",
            "[CV 2/5; 45/120] START Modelo=LogisticRegression(random_state=20), Preprocessing__bow__ngram_range=(1, 3), Selection__percentile=25\n"
          ]
        },
        {
          "output_type": "stream",
          "name": "stderr",
          "text": [
            "/usr/local/lib/python3.7/dist-packages/sklearn/feature_selection/_univariate_selection.py:113: RuntimeWarning: divide by zero encountered in true_divide\n",
            "  f = msb / msw\n"
          ]
        },
        {
          "output_type": "stream",
          "name": "stdout",
          "text": [
            "[CV 2/5; 45/120] END Modelo=LogisticRegression(random_state=20), Preprocessing__bow__ngram_range=(1, 3), Selection__percentile=25;, score=(train=1.000, test=0.333) total time=   1.9s\n",
            "[CV 3/5; 45/120] START Modelo=LogisticRegression(random_state=20), Preprocessing__bow__ngram_range=(1, 3), Selection__percentile=25\n"
          ]
        },
        {
          "output_type": "stream",
          "name": "stderr",
          "text": [
            "/usr/local/lib/python3.7/dist-packages/sklearn/linear_model/_logistic.py:818: ConvergenceWarning: lbfgs failed to converge (status=1):\n",
            "STOP: TOTAL NO. of ITERATIONS REACHED LIMIT.\n",
            "\n",
            "Increase the number of iterations (max_iter) or scale the data as shown in:\n",
            "    https://scikit-learn.org/stable/modules/preprocessing.html\n",
            "Please also refer to the documentation for alternative solver options:\n",
            "    https://scikit-learn.org/stable/modules/linear_model.html#logistic-regression\n",
            "  extra_warning_msg=_LOGISTIC_SOLVER_CONVERGENCE_MSG,\n"
          ]
        },
        {
          "output_type": "stream",
          "name": "stdout",
          "text": [
            "[CV 3/5; 45/120] END Modelo=LogisticRegression(random_state=20), Preprocessing__bow__ngram_range=(1, 3), Selection__percentile=25;, score=(train=1.000, test=0.333) total time=   0.8s\n",
            "[CV 4/5; 45/120] START Modelo=LogisticRegression(random_state=20), Preprocessing__bow__ngram_range=(1, 3), Selection__percentile=25\n",
            "[CV 4/5; 45/120] END Modelo=LogisticRegression(random_state=20), Preprocessing__bow__ngram_range=(1, 3), Selection__percentile=25;, score=(train=1.000, test=0.333) total time=   1.1s\n",
            "[CV 5/5; 45/120] START Modelo=LogisticRegression(random_state=20), Preprocessing__bow__ngram_range=(1, 3), Selection__percentile=25\n",
            "[CV 5/5; 45/120] END Modelo=LogisticRegression(random_state=20), Preprocessing__bow__ngram_range=(1, 3), Selection__percentile=25;, score=(train=1.000, test=0.500) total time=   1.2s\n",
            "[CV 1/5; 46/120] START Modelo=LogisticRegression(random_state=20), Preprocessing__bow__ngram_range=(1, 3), Selection__percentile=30\n"
          ]
        },
        {
          "output_type": "stream",
          "name": "stderr",
          "text": [
            "/usr/local/lib/python3.7/dist-packages/sklearn/feature_selection/_univariate_selection.py:113: RuntimeWarning: divide by zero encountered in true_divide\n",
            "  f = msb / msw\n"
          ]
        },
        {
          "output_type": "stream",
          "name": "stdout",
          "text": [
            "[CV 1/5; 46/120] END Modelo=LogisticRegression(random_state=20), Preprocessing__bow__ngram_range=(1, 3), Selection__percentile=30;, score=(train=1.000, test=0.667) total time=   1.5s\n",
            "[CV 2/5; 46/120] START Modelo=LogisticRegression(random_state=20), Preprocessing__bow__ngram_range=(1, 3), Selection__percentile=30\n"
          ]
        },
        {
          "output_type": "stream",
          "name": "stderr",
          "text": [
            "/usr/local/lib/python3.7/dist-packages/sklearn/feature_selection/_univariate_selection.py:113: RuntimeWarning: divide by zero encountered in true_divide\n",
            "  f = msb / msw\n"
          ]
        },
        {
          "output_type": "stream",
          "name": "stdout",
          "text": [
            "[CV 2/5; 46/120] END Modelo=LogisticRegression(random_state=20), Preprocessing__bow__ngram_range=(1, 3), Selection__percentile=30;, score=(train=1.000, test=0.333) total time=   2.0s\n",
            "[CV 3/5; 46/120] START Modelo=LogisticRegression(random_state=20), Preprocessing__bow__ngram_range=(1, 3), Selection__percentile=30\n",
            "[CV 3/5; 46/120] END Modelo=LogisticRegression(random_state=20), Preprocessing__bow__ngram_range=(1, 3), Selection__percentile=30;, score=(train=1.000, test=0.333) total time=   1.0s\n",
            "[CV 4/5; 46/120] START Modelo=LogisticRegression(random_state=20), Preprocessing__bow__ngram_range=(1, 3), Selection__percentile=30\n",
            "[CV 4/5; 46/120] END Modelo=LogisticRegression(random_state=20), Preprocessing__bow__ngram_range=(1, 3), Selection__percentile=30;, score=(train=1.000, test=0.333) total time=   1.2s\n",
            "[CV 5/5; 46/120] START Modelo=LogisticRegression(random_state=20), Preprocessing__bow__ngram_range=(1, 3), Selection__percentile=30\n",
            "[CV 5/5; 46/120] END Modelo=LogisticRegression(random_state=20), Preprocessing__bow__ngram_range=(1, 3), Selection__percentile=30;, score=(train=1.000, test=0.500) total time=   1.1s\n",
            "[CV 1/5; 47/120] START Modelo=LogisticRegression(random_state=20), Preprocessing__bow__ngram_range=(1, 3), Selection__percentile=35\n"
          ]
        },
        {
          "output_type": "stream",
          "name": "stderr",
          "text": [
            "/usr/local/lib/python3.7/dist-packages/sklearn/feature_selection/_univariate_selection.py:113: RuntimeWarning: divide by zero encountered in true_divide\n",
            "  f = msb / msw\n"
          ]
        },
        {
          "output_type": "stream",
          "name": "stdout",
          "text": [
            "[CV 1/5; 47/120] END Modelo=LogisticRegression(random_state=20), Preprocessing__bow__ngram_range=(1, 3), Selection__percentile=35;, score=(train=1.000, test=0.667) total time=   1.8s\n",
            "[CV 2/5; 47/120] START Modelo=LogisticRegression(random_state=20), Preprocessing__bow__ngram_range=(1, 3), Selection__percentile=35\n"
          ]
        },
        {
          "output_type": "stream",
          "name": "stderr",
          "text": [
            "/usr/local/lib/python3.7/dist-packages/sklearn/feature_selection/_univariate_selection.py:113: RuntimeWarning: divide by zero encountered in true_divide\n",
            "  f = msb / msw\n",
            "/usr/local/lib/python3.7/dist-packages/sklearn/linear_model/_logistic.py:818: ConvergenceWarning: lbfgs failed to converge (status=1):\n",
            "STOP: TOTAL NO. of ITERATIONS REACHED LIMIT.\n",
            "\n",
            "Increase the number of iterations (max_iter) or scale the data as shown in:\n",
            "    https://scikit-learn.org/stable/modules/preprocessing.html\n",
            "Please also refer to the documentation for alternative solver options:\n",
            "    https://scikit-learn.org/stable/modules/linear_model.html#logistic-regression\n",
            "  extra_warning_msg=_LOGISTIC_SOLVER_CONVERGENCE_MSG,\n"
          ]
        },
        {
          "output_type": "stream",
          "name": "stdout",
          "text": [
            "[CV 2/5; 47/120] END Modelo=LogisticRegression(random_state=20), Preprocessing__bow__ngram_range=(1, 3), Selection__percentile=35;, score=(train=1.000, test=0.333) total time=   2.3s\n",
            "[CV 3/5; 47/120] START Modelo=LogisticRegression(random_state=20), Preprocessing__bow__ngram_range=(1, 3), Selection__percentile=35\n",
            "[CV 3/5; 47/120] END Modelo=LogisticRegression(random_state=20), Preprocessing__bow__ngram_range=(1, 3), Selection__percentile=35;, score=(train=1.000, test=0.167) total time=   0.9s\n",
            "[CV 4/5; 47/120] START Modelo=LogisticRegression(random_state=20), Preprocessing__bow__ngram_range=(1, 3), Selection__percentile=35\n",
            "[CV 4/5; 47/120] END Modelo=LogisticRegression(random_state=20), Preprocessing__bow__ngram_range=(1, 3), Selection__percentile=35;, score=(train=1.000, test=0.333) total time=   1.2s\n",
            "[CV 5/5; 47/120] START Modelo=LogisticRegression(random_state=20), Preprocessing__bow__ngram_range=(1, 3), Selection__percentile=35\n",
            "[CV 5/5; 47/120] END Modelo=LogisticRegression(random_state=20), Preprocessing__bow__ngram_range=(1, 3), Selection__percentile=35;, score=(train=1.000, test=0.500) total time=   1.3s\n",
            "[CV 1/5; 48/120] START Modelo=LogisticRegression(random_state=20), Preprocessing__bow__ngram_range=(1, 3), Selection__percentile=40\n"
          ]
        },
        {
          "output_type": "stream",
          "name": "stderr",
          "text": [
            "/usr/local/lib/python3.7/dist-packages/sklearn/feature_selection/_univariate_selection.py:113: RuntimeWarning: divide by zero encountered in true_divide\n",
            "  f = msb / msw\n",
            "/usr/local/lib/python3.7/dist-packages/sklearn/linear_model/_logistic.py:818: ConvergenceWarning: lbfgs failed to converge (status=1):\n",
            "STOP: TOTAL NO. of ITERATIONS REACHED LIMIT.\n",
            "\n",
            "Increase the number of iterations (max_iter) or scale the data as shown in:\n",
            "    https://scikit-learn.org/stable/modules/preprocessing.html\n",
            "Please also refer to the documentation for alternative solver options:\n",
            "    https://scikit-learn.org/stable/modules/linear_model.html#logistic-regression\n",
            "  extra_warning_msg=_LOGISTIC_SOLVER_CONVERGENCE_MSG,\n"
          ]
        },
        {
          "output_type": "stream",
          "name": "stdout",
          "text": [
            "[CV 1/5; 48/120] END Modelo=LogisticRegression(random_state=20), Preprocessing__bow__ngram_range=(1, 3), Selection__percentile=40;, score=(train=1.000, test=0.833) total time=   2.0s\n",
            "[CV 2/5; 48/120] START Modelo=LogisticRegression(random_state=20), Preprocessing__bow__ngram_range=(1, 3), Selection__percentile=40\n"
          ]
        },
        {
          "output_type": "stream",
          "name": "stderr",
          "text": [
            "/usr/local/lib/python3.7/dist-packages/sklearn/feature_selection/_univariate_selection.py:113: RuntimeWarning: divide by zero encountered in true_divide\n",
            "  f = msb / msw\n",
            "/usr/local/lib/python3.7/dist-packages/sklearn/linear_model/_logistic.py:818: ConvergenceWarning: lbfgs failed to converge (status=1):\n",
            "STOP: TOTAL NO. of ITERATIONS REACHED LIMIT.\n",
            "\n",
            "Increase the number of iterations (max_iter) or scale the data as shown in:\n",
            "    https://scikit-learn.org/stable/modules/preprocessing.html\n",
            "Please also refer to the documentation for alternative solver options:\n",
            "    https://scikit-learn.org/stable/modules/linear_model.html#logistic-regression\n",
            "  extra_warning_msg=_LOGISTIC_SOLVER_CONVERGENCE_MSG,\n"
          ]
        },
        {
          "output_type": "stream",
          "name": "stdout",
          "text": [
            "[CV 2/5; 48/120] END Modelo=LogisticRegression(random_state=20), Preprocessing__bow__ngram_range=(1, 3), Selection__percentile=40;, score=(train=1.000, test=0.333) total time=   2.2s\n",
            "[CV 3/5; 48/120] START Modelo=LogisticRegression(random_state=20), Preprocessing__bow__ngram_range=(1, 3), Selection__percentile=40\n",
            "[CV 3/5; 48/120] END Modelo=LogisticRegression(random_state=20), Preprocessing__bow__ngram_range=(1, 3), Selection__percentile=40;, score=(train=1.000, test=0.000) total time=   0.9s\n",
            "[CV 4/5; 48/120] START Modelo=LogisticRegression(random_state=20), Preprocessing__bow__ngram_range=(1, 3), Selection__percentile=40\n",
            "[CV 4/5; 48/120] END Modelo=LogisticRegression(random_state=20), Preprocessing__bow__ngram_range=(1, 3), Selection__percentile=40;, score=(train=1.000, test=0.333) total time=   1.3s\n",
            "[CV 5/5; 48/120] START Modelo=LogisticRegression(random_state=20), Preprocessing__bow__ngram_range=(1, 3), Selection__percentile=40\n",
            "[CV 5/5; 48/120] END Modelo=LogisticRegression(random_state=20), Preprocessing__bow__ngram_range=(1, 3), Selection__percentile=40;, score=(train=1.000, test=0.500) total time=   1.3s\n",
            "[CV 1/5; 49/120] START Modelo=LogisticRegression(random_state=20), Preprocessing__bow__ngram_range=(1, 3), Selection__percentile=45\n"
          ]
        },
        {
          "output_type": "stream",
          "name": "stderr",
          "text": [
            "/usr/local/lib/python3.7/dist-packages/sklearn/feature_selection/_univariate_selection.py:113: RuntimeWarning: divide by zero encountered in true_divide\n",
            "  f = msb / msw\n"
          ]
        },
        {
          "output_type": "stream",
          "name": "stdout",
          "text": [
            "[CV 1/5; 49/120] END Modelo=LogisticRegression(random_state=20), Preprocessing__bow__ngram_range=(1, 3), Selection__percentile=45;, score=(train=1.000, test=0.833) total time=   2.2s\n",
            "[CV 2/5; 49/120] START Modelo=LogisticRegression(random_state=20), Preprocessing__bow__ngram_range=(1, 3), Selection__percentile=45\n"
          ]
        },
        {
          "output_type": "stream",
          "name": "stderr",
          "text": [
            "/usr/local/lib/python3.7/dist-packages/sklearn/feature_selection/_univariate_selection.py:113: RuntimeWarning: divide by zero encountered in true_divide\n",
            "  f = msb / msw\n"
          ]
        },
        {
          "output_type": "stream",
          "name": "stdout",
          "text": [
            "[CV 2/5; 49/120] END Modelo=LogisticRegression(random_state=20), Preprocessing__bow__ngram_range=(1, 3), Selection__percentile=45;, score=(train=1.000, test=0.333) total time=   2.3s\n",
            "[CV 3/5; 49/120] START Modelo=LogisticRegression(random_state=20), Preprocessing__bow__ngram_range=(1, 3), Selection__percentile=45\n",
            "[CV 3/5; 49/120] END Modelo=LogisticRegression(random_state=20), Preprocessing__bow__ngram_range=(1, 3), Selection__percentile=45;, score=(train=1.000, test=0.333) total time=   0.9s\n",
            "[CV 4/5; 49/120] START Modelo=LogisticRegression(random_state=20), Preprocessing__bow__ngram_range=(1, 3), Selection__percentile=45\n",
            "[CV 4/5; 49/120] END Modelo=LogisticRegression(random_state=20), Preprocessing__bow__ngram_range=(1, 3), Selection__percentile=45;, score=(train=1.000, test=0.333) total time=   1.3s\n",
            "[CV 5/5; 49/120] START Modelo=LogisticRegression(random_state=20), Preprocessing__bow__ngram_range=(1, 3), Selection__percentile=45\n",
            "[CV 5/5; 49/120] END Modelo=LogisticRegression(random_state=20), Preprocessing__bow__ngram_range=(1, 3), Selection__percentile=45;, score=(train=1.000, test=0.500) total time=   1.4s\n",
            "[CV 1/5; 50/120] START Modelo=LogisticRegression(random_state=20), Preprocessing__bow__ngram_range=(1, 3), Selection__percentile=50\n"
          ]
        },
        {
          "output_type": "stream",
          "name": "stderr",
          "text": [
            "/usr/local/lib/python3.7/dist-packages/sklearn/feature_selection/_univariate_selection.py:113: RuntimeWarning: divide by zero encountered in true_divide\n",
            "  f = msb / msw\n"
          ]
        },
        {
          "output_type": "stream",
          "name": "stdout",
          "text": [
            "[CV 1/5; 50/120] END Modelo=LogisticRegression(random_state=20), Preprocessing__bow__ngram_range=(1, 3), Selection__percentile=50;, score=(train=1.000, test=0.833) total time=   2.2s\n",
            "[CV 2/5; 50/120] START Modelo=LogisticRegression(random_state=20), Preprocessing__bow__ngram_range=(1, 3), Selection__percentile=50\n"
          ]
        },
        {
          "output_type": "stream",
          "name": "stderr",
          "text": [
            "/usr/local/lib/python3.7/dist-packages/sklearn/feature_selection/_univariate_selection.py:113: RuntimeWarning: divide by zero encountered in true_divide\n",
            "  f = msb / msw\n"
          ]
        },
        {
          "output_type": "stream",
          "name": "stdout",
          "text": [
            "[CV 2/5; 50/120] END Modelo=LogisticRegression(random_state=20), Preprocessing__bow__ngram_range=(1, 3), Selection__percentile=50;, score=(train=1.000, test=0.333) total time=   2.5s\n",
            "[CV 3/5; 50/120] START Modelo=LogisticRegression(random_state=20), Preprocessing__bow__ngram_range=(1, 3), Selection__percentile=50\n",
            "[CV 3/5; 50/120] END Modelo=LogisticRegression(random_state=20), Preprocessing__bow__ngram_range=(1, 3), Selection__percentile=50;, score=(train=1.000, test=0.333) total time=   1.2s\n",
            "[CV 4/5; 50/120] START Modelo=LogisticRegression(random_state=20), Preprocessing__bow__ngram_range=(1, 3), Selection__percentile=50\n",
            "[CV 4/5; 50/120] END Modelo=LogisticRegression(random_state=20), Preprocessing__bow__ngram_range=(1, 3), Selection__percentile=50;, score=(train=1.000, test=0.333) total time=   1.9s\n",
            "[CV 5/5; 50/120] START Modelo=LogisticRegression(random_state=20), Preprocessing__bow__ngram_range=(1, 3), Selection__percentile=50\n",
            "[CV 5/5; 50/120] END Modelo=LogisticRegression(random_state=20), Preprocessing__bow__ngram_range=(1, 3), Selection__percentile=50;, score=(train=1.000, test=0.500) total time=   1.4s\n",
            "[CV 1/5; 51/120] START Modelo=LogisticRegression(random_state=20), Preprocessing__bow__ngram_range=(1, 3), Selection__percentile=55\n"
          ]
        },
        {
          "output_type": "stream",
          "name": "stderr",
          "text": [
            "/usr/local/lib/python3.7/dist-packages/sklearn/feature_selection/_univariate_selection.py:113: RuntimeWarning: divide by zero encountered in true_divide\n",
            "  f = msb / msw\n",
            "/usr/local/lib/python3.7/dist-packages/sklearn/linear_model/_logistic.py:818: ConvergenceWarning: lbfgs failed to converge (status=1):\n",
            "STOP: TOTAL NO. of ITERATIONS REACHED LIMIT.\n",
            "\n",
            "Increase the number of iterations (max_iter) or scale the data as shown in:\n",
            "    https://scikit-learn.org/stable/modules/preprocessing.html\n",
            "Please also refer to the documentation for alternative solver options:\n",
            "    https://scikit-learn.org/stable/modules/linear_model.html#logistic-regression\n",
            "  extra_warning_msg=_LOGISTIC_SOLVER_CONVERGENCE_MSG,\n"
          ]
        },
        {
          "output_type": "stream",
          "name": "stdout",
          "text": [
            "[CV 1/5; 51/120] END Modelo=LogisticRegression(random_state=20), Preprocessing__bow__ngram_range=(1, 3), Selection__percentile=55;, score=(train=1.000, test=0.833) total time=   2.5s\n",
            "[CV 2/5; 51/120] START Modelo=LogisticRegression(random_state=20), Preprocessing__bow__ngram_range=(1, 3), Selection__percentile=55\n"
          ]
        },
        {
          "output_type": "stream",
          "name": "stderr",
          "text": [
            "/usr/local/lib/python3.7/dist-packages/sklearn/feature_selection/_univariate_selection.py:113: RuntimeWarning: divide by zero encountered in true_divide\n",
            "  f = msb / msw\n",
            "/usr/local/lib/python3.7/dist-packages/sklearn/linear_model/_logistic.py:818: ConvergenceWarning: lbfgs failed to converge (status=1):\n",
            "STOP: TOTAL NO. of ITERATIONS REACHED LIMIT.\n",
            "\n",
            "Increase the number of iterations (max_iter) or scale the data as shown in:\n",
            "    https://scikit-learn.org/stable/modules/preprocessing.html\n",
            "Please also refer to the documentation for alternative solver options:\n",
            "    https://scikit-learn.org/stable/modules/linear_model.html#logistic-regression\n",
            "  extra_warning_msg=_LOGISTIC_SOLVER_CONVERGENCE_MSG,\n"
          ]
        },
        {
          "output_type": "stream",
          "name": "stdout",
          "text": [
            "[CV 2/5; 51/120] END Modelo=LogisticRegression(random_state=20), Preprocessing__bow__ngram_range=(1, 3), Selection__percentile=55;, score=(train=1.000, test=0.333) total time=   2.5s\n",
            "[CV 3/5; 51/120] START Modelo=LogisticRegression(random_state=20), Preprocessing__bow__ngram_range=(1, 3), Selection__percentile=55\n",
            "[CV 3/5; 51/120] END Modelo=LogisticRegression(random_state=20), Preprocessing__bow__ngram_range=(1, 3), Selection__percentile=55;, score=(train=1.000, test=0.500) total time=   1.0s\n",
            "[CV 4/5; 51/120] START Modelo=LogisticRegression(random_state=20), Preprocessing__bow__ngram_range=(1, 3), Selection__percentile=55\n",
            "[CV 4/5; 51/120] END Modelo=LogisticRegression(random_state=20), Preprocessing__bow__ngram_range=(1, 3), Selection__percentile=55;, score=(train=1.000, test=0.333) total time=   2.0s\n",
            "[CV 5/5; 51/120] START Modelo=LogisticRegression(random_state=20), Preprocessing__bow__ngram_range=(1, 3), Selection__percentile=55\n",
            "[CV 5/5; 51/120] END Modelo=LogisticRegression(random_state=20), Preprocessing__bow__ngram_range=(1, 3), Selection__percentile=55;, score=(train=1.000, test=0.500) total time=   1.4s\n",
            "[CV 1/5; 52/120] START Modelo=LogisticRegression(random_state=20), Preprocessing__bow__ngram_range=(1, 3), Selection__percentile=60\n"
          ]
        },
        {
          "output_type": "stream",
          "name": "stderr",
          "text": [
            "/usr/local/lib/python3.7/dist-packages/sklearn/feature_selection/_univariate_selection.py:113: RuntimeWarning: divide by zero encountered in true_divide\n",
            "  f = msb / msw\n"
          ]
        },
        {
          "output_type": "stream",
          "name": "stdout",
          "text": [
            "[CV 1/5; 52/120] END Modelo=LogisticRegression(random_state=20), Preprocessing__bow__ngram_range=(1, 3), Selection__percentile=60;, score=(train=1.000, test=0.833) total time=   2.4s\n",
            "[CV 2/5; 52/120] START Modelo=LogisticRegression(random_state=20), Preprocessing__bow__ngram_range=(1, 3), Selection__percentile=60\n"
          ]
        },
        {
          "output_type": "stream",
          "name": "stderr",
          "text": [
            "/usr/local/lib/python3.7/dist-packages/sklearn/feature_selection/_univariate_selection.py:113: RuntimeWarning: divide by zero encountered in true_divide\n",
            "  f = msb / msw\n"
          ]
        },
        {
          "output_type": "stream",
          "name": "stdout",
          "text": [
            "[CV 2/5; 52/120] END Modelo=LogisticRegression(random_state=20), Preprocessing__bow__ngram_range=(1, 3), Selection__percentile=60;, score=(train=1.000, test=0.333) total time=   2.6s\n",
            "[CV 3/5; 52/120] START Modelo=LogisticRegression(random_state=20), Preprocessing__bow__ngram_range=(1, 3), Selection__percentile=60\n",
            "[CV 3/5; 52/120] END Modelo=LogisticRegression(random_state=20), Preprocessing__bow__ngram_range=(1, 3), Selection__percentile=60;, score=(train=1.000, test=0.500) total time=   1.0s\n",
            "[CV 4/5; 52/120] START Modelo=LogisticRegression(random_state=20), Preprocessing__bow__ngram_range=(1, 3), Selection__percentile=60\n",
            "[CV 4/5; 52/120] END Modelo=LogisticRegression(random_state=20), Preprocessing__bow__ngram_range=(1, 3), Selection__percentile=60;, score=(train=1.000, test=0.333) total time=   1.9s\n",
            "[CV 5/5; 52/120] START Modelo=LogisticRegression(random_state=20), Preprocessing__bow__ngram_range=(1, 3), Selection__percentile=60\n",
            "[CV 5/5; 52/120] END Modelo=LogisticRegression(random_state=20), Preprocessing__bow__ngram_range=(1, 3), Selection__percentile=60;, score=(train=1.000, test=0.500) total time=   2.0s\n",
            "[CV 1/5; 53/120] START Modelo=LogisticRegression(random_state=20), Preprocessing__bow__ngram_range=(1, 3), Selection__percentile=65\n"
          ]
        },
        {
          "output_type": "stream",
          "name": "stderr",
          "text": [
            "/usr/local/lib/python3.7/dist-packages/sklearn/feature_selection/_univariate_selection.py:113: RuntimeWarning: divide by zero encountered in true_divide\n",
            "  f = msb / msw\n"
          ]
        },
        {
          "output_type": "stream",
          "name": "stdout",
          "text": [
            "[CV 1/5; 53/120] END Modelo=LogisticRegression(random_state=20), Preprocessing__bow__ngram_range=(1, 3), Selection__percentile=65;, score=(train=1.000, test=0.833) total time=   2.5s\n",
            "[CV 2/5; 53/120] START Modelo=LogisticRegression(random_state=20), Preprocessing__bow__ngram_range=(1, 3), Selection__percentile=65\n"
          ]
        },
        {
          "output_type": "stream",
          "name": "stderr",
          "text": [
            "/usr/local/lib/python3.7/dist-packages/sklearn/feature_selection/_univariate_selection.py:113: RuntimeWarning: divide by zero encountered in true_divide\n",
            "  f = msb / msw\n"
          ]
        },
        {
          "output_type": "stream",
          "name": "stdout",
          "text": [
            "[CV 2/5; 53/120] END Modelo=LogisticRegression(random_state=20), Preprocessing__bow__ngram_range=(1, 3), Selection__percentile=65;, score=(train=1.000, test=0.333) total time=   2.8s\n",
            "[CV 3/5; 53/120] START Modelo=LogisticRegression(random_state=20), Preprocessing__bow__ngram_range=(1, 3), Selection__percentile=65\n",
            "[CV 3/5; 53/120] END Modelo=LogisticRegression(random_state=20), Preprocessing__bow__ngram_range=(1, 3), Selection__percentile=65;, score=(train=1.000, test=0.500) total time=   1.1s\n",
            "[CV 4/5; 53/120] START Modelo=LogisticRegression(random_state=20), Preprocessing__bow__ngram_range=(1, 3), Selection__percentile=65\n",
            "[CV 4/5; 53/120] END Modelo=LogisticRegression(random_state=20), Preprocessing__bow__ngram_range=(1, 3), Selection__percentile=65;, score=(train=1.000, test=0.333) total time=   2.0s\n",
            "[CV 5/5; 53/120] START Modelo=LogisticRegression(random_state=20), Preprocessing__bow__ngram_range=(1, 3), Selection__percentile=65\n",
            "[CV 5/5; 53/120] END Modelo=LogisticRegression(random_state=20), Preprocessing__bow__ngram_range=(1, 3), Selection__percentile=65;, score=(train=1.000, test=0.500) total time=   1.5s\n",
            "[CV 1/5; 54/120] START Modelo=LogisticRegression(random_state=20), Preprocessing__bow__ngram_range=(1, 3), Selection__percentile=70\n"
          ]
        },
        {
          "output_type": "stream",
          "name": "stderr",
          "text": [
            "/usr/local/lib/python3.7/dist-packages/sklearn/feature_selection/_univariate_selection.py:113: RuntimeWarning: divide by zero encountered in true_divide\n",
            "  f = msb / msw\n"
          ]
        },
        {
          "output_type": "stream",
          "name": "stdout",
          "text": [
            "[CV 1/5; 54/120] END Modelo=LogisticRegression(random_state=20), Preprocessing__bow__ngram_range=(1, 3), Selection__percentile=70;, score=(train=1.000, test=0.833) total time=   3.0s\n",
            "[CV 2/5; 54/120] START Modelo=LogisticRegression(random_state=20), Preprocessing__bow__ngram_range=(1, 3), Selection__percentile=70\n"
          ]
        },
        {
          "output_type": "stream",
          "name": "stderr",
          "text": [
            "/usr/local/lib/python3.7/dist-packages/sklearn/feature_selection/_univariate_selection.py:113: RuntimeWarning: divide by zero encountered in true_divide\n",
            "  f = msb / msw\n"
          ]
        },
        {
          "output_type": "stream",
          "name": "stdout",
          "text": [
            "[CV 2/5; 54/120] END Modelo=LogisticRegression(random_state=20), Preprocessing__bow__ngram_range=(1, 3), Selection__percentile=70;, score=(train=1.000, test=0.333) total time=   2.7s\n",
            "[CV 3/5; 54/120] START Modelo=LogisticRegression(random_state=20), Preprocessing__bow__ngram_range=(1, 3), Selection__percentile=70\n",
            "[CV 3/5; 54/120] END Modelo=LogisticRegression(random_state=20), Preprocessing__bow__ngram_range=(1, 3), Selection__percentile=70;, score=(train=1.000, test=0.500) total time=   1.2s\n",
            "[CV 4/5; 54/120] START Modelo=LogisticRegression(random_state=20), Preprocessing__bow__ngram_range=(1, 3), Selection__percentile=70\n",
            "[CV 4/5; 54/120] END Modelo=LogisticRegression(random_state=20), Preprocessing__bow__ngram_range=(1, 3), Selection__percentile=70;, score=(train=1.000, test=0.333) total time=   1.9s\n",
            "[CV 5/5; 54/120] START Modelo=LogisticRegression(random_state=20), Preprocessing__bow__ngram_range=(1, 3), Selection__percentile=70\n",
            "[CV 5/5; 54/120] END Modelo=LogisticRegression(random_state=20), Preprocessing__bow__ngram_range=(1, 3), Selection__percentile=70;, score=(train=1.000, test=0.500) total time=   1.6s\n",
            "[CV 1/5; 55/120] START Modelo=LogisticRegression(random_state=20), Preprocessing__bow__ngram_range=(1, 3), Selection__percentile=75\n"
          ]
        },
        {
          "output_type": "stream",
          "name": "stderr",
          "text": [
            "/usr/local/lib/python3.7/dist-packages/sklearn/feature_selection/_univariate_selection.py:113: RuntimeWarning: divide by zero encountered in true_divide\n",
            "  f = msb / msw\n",
            "/usr/local/lib/python3.7/dist-packages/sklearn/linear_model/_logistic.py:818: ConvergenceWarning: lbfgs failed to converge (status=1):\n",
            "STOP: TOTAL NO. of ITERATIONS REACHED LIMIT.\n",
            "\n",
            "Increase the number of iterations (max_iter) or scale the data as shown in:\n",
            "    https://scikit-learn.org/stable/modules/preprocessing.html\n",
            "Please also refer to the documentation for alternative solver options:\n",
            "    https://scikit-learn.org/stable/modules/linear_model.html#logistic-regression\n",
            "  extra_warning_msg=_LOGISTIC_SOLVER_CONVERGENCE_MSG,\n"
          ]
        },
        {
          "output_type": "stream",
          "name": "stdout",
          "text": [
            "[CV 1/5; 55/120] END Modelo=LogisticRegression(random_state=20), Preprocessing__bow__ngram_range=(1, 3), Selection__percentile=75;, score=(train=1.000, test=0.833) total time=   2.9s\n",
            "[CV 2/5; 55/120] START Modelo=LogisticRegression(random_state=20), Preprocessing__bow__ngram_range=(1, 3), Selection__percentile=75\n"
          ]
        },
        {
          "output_type": "stream",
          "name": "stderr",
          "text": [
            "/usr/local/lib/python3.7/dist-packages/sklearn/feature_selection/_univariate_selection.py:113: RuntimeWarning: divide by zero encountered in true_divide\n",
            "  f = msb / msw\n"
          ]
        },
        {
          "output_type": "stream",
          "name": "stdout",
          "text": [
            "[CV 2/5; 55/120] END Modelo=LogisticRegression(random_state=20), Preprocessing__bow__ngram_range=(1, 3), Selection__percentile=75;, score=(train=1.000, test=0.333) total time=   3.2s\n",
            "[CV 3/5; 55/120] START Modelo=LogisticRegression(random_state=20), Preprocessing__bow__ngram_range=(1, 3), Selection__percentile=75\n",
            "[CV 3/5; 55/120] END Modelo=LogisticRegression(random_state=20), Preprocessing__bow__ngram_range=(1, 3), Selection__percentile=75;, score=(train=1.000, test=0.500) total time=   1.1s\n",
            "[CV 4/5; 55/120] START Modelo=LogisticRegression(random_state=20), Preprocessing__bow__ngram_range=(1, 3), Selection__percentile=75\n",
            "[CV 4/5; 55/120] END Modelo=LogisticRegression(random_state=20), Preprocessing__bow__ngram_range=(1, 3), Selection__percentile=75;, score=(train=1.000, test=0.333) total time=   2.2s\n",
            "[CV 5/5; 55/120] START Modelo=LogisticRegression(random_state=20), Preprocessing__bow__ngram_range=(1, 3), Selection__percentile=75\n",
            "[CV 5/5; 55/120] END Modelo=LogisticRegression(random_state=20), Preprocessing__bow__ngram_range=(1, 3), Selection__percentile=75;, score=(train=1.000, test=0.500) total time=   1.8s\n",
            "[CV 1/5; 56/120] START Modelo=LogisticRegression(random_state=20), Preprocessing__bow__ngram_range=(1, 3), Selection__percentile=80\n"
          ]
        },
        {
          "output_type": "stream",
          "name": "stderr",
          "text": [
            "/usr/local/lib/python3.7/dist-packages/sklearn/feature_selection/_univariate_selection.py:113: RuntimeWarning: divide by zero encountered in true_divide\n",
            "  f = msb / msw\n"
          ]
        },
        {
          "output_type": "stream",
          "name": "stdout",
          "text": [
            "[CV 1/5; 56/120] END Modelo=LogisticRegression(random_state=20), Preprocessing__bow__ngram_range=(1, 3), Selection__percentile=80;, score=(train=1.000, test=0.833) total time=   2.8s\n",
            "[CV 2/5; 56/120] START Modelo=LogisticRegression(random_state=20), Preprocessing__bow__ngram_range=(1, 3), Selection__percentile=80\n"
          ]
        },
        {
          "output_type": "stream",
          "name": "stderr",
          "text": [
            "/usr/local/lib/python3.7/dist-packages/sklearn/feature_selection/_univariate_selection.py:113: RuntimeWarning: divide by zero encountered in true_divide\n",
            "  f = msb / msw\n",
            "/usr/local/lib/python3.7/dist-packages/sklearn/linear_model/_logistic.py:818: ConvergenceWarning: lbfgs failed to converge (status=1):\n",
            "STOP: TOTAL NO. of ITERATIONS REACHED LIMIT.\n",
            "\n",
            "Increase the number of iterations (max_iter) or scale the data as shown in:\n",
            "    https://scikit-learn.org/stable/modules/preprocessing.html\n",
            "Please also refer to the documentation for alternative solver options:\n",
            "    https://scikit-learn.org/stable/modules/linear_model.html#logistic-regression\n",
            "  extra_warning_msg=_LOGISTIC_SOLVER_CONVERGENCE_MSG,\n"
          ]
        },
        {
          "output_type": "stream",
          "name": "stdout",
          "text": [
            "[CV 2/5; 56/120] END Modelo=LogisticRegression(random_state=20), Preprocessing__bow__ngram_range=(1, 3), Selection__percentile=80;, score=(train=1.000, test=0.333) total time=   3.3s\n",
            "[CV 3/5; 56/120] START Modelo=LogisticRegression(random_state=20), Preprocessing__bow__ngram_range=(1, 3), Selection__percentile=80\n",
            "[CV 3/5; 56/120] END Modelo=LogisticRegression(random_state=20), Preprocessing__bow__ngram_range=(1, 3), Selection__percentile=80;, score=(train=1.000, test=0.333) total time=   1.4s\n",
            "[CV 4/5; 56/120] START Modelo=LogisticRegression(random_state=20), Preprocessing__bow__ngram_range=(1, 3), Selection__percentile=80\n",
            "[CV 4/5; 56/120] END Modelo=LogisticRegression(random_state=20), Preprocessing__bow__ngram_range=(1, 3), Selection__percentile=80;, score=(train=1.000, test=0.333) total time=   1.7s\n",
            "[CV 5/5; 56/120] START Modelo=LogisticRegression(random_state=20), Preprocessing__bow__ngram_range=(1, 3), Selection__percentile=80\n",
            "[CV 5/5; 56/120] END Modelo=LogisticRegression(random_state=20), Preprocessing__bow__ngram_range=(1, 3), Selection__percentile=80;, score=(train=1.000, test=0.500) total time=   1.7s\n",
            "[CV 1/5; 57/120] START Modelo=LogisticRegression(random_state=20), Preprocessing__bow__ngram_range=(1, 3), Selection__percentile=85\n"
          ]
        },
        {
          "output_type": "stream",
          "name": "stderr",
          "text": [
            "/usr/local/lib/python3.7/dist-packages/sklearn/feature_selection/_univariate_selection.py:113: RuntimeWarning: divide by zero encountered in true_divide\n",
            "  f = msb / msw\n",
            "/usr/local/lib/python3.7/dist-packages/sklearn/linear_model/_logistic.py:818: ConvergenceWarning: lbfgs failed to converge (status=1):\n",
            "STOP: TOTAL NO. of ITERATIONS REACHED LIMIT.\n",
            "\n",
            "Increase the number of iterations (max_iter) or scale the data as shown in:\n",
            "    https://scikit-learn.org/stable/modules/preprocessing.html\n",
            "Please also refer to the documentation for alternative solver options:\n",
            "    https://scikit-learn.org/stable/modules/linear_model.html#logistic-regression\n",
            "  extra_warning_msg=_LOGISTIC_SOLVER_CONVERGENCE_MSG,\n"
          ]
        },
        {
          "output_type": "stream",
          "name": "stdout",
          "text": [
            "[CV 1/5; 57/120] END Modelo=LogisticRegression(random_state=20), Preprocessing__bow__ngram_range=(1, 3), Selection__percentile=85;, score=(train=1.000, test=0.833) total time=   3.3s\n",
            "[CV 2/5; 57/120] START Modelo=LogisticRegression(random_state=20), Preprocessing__bow__ngram_range=(1, 3), Selection__percentile=85\n"
          ]
        },
        {
          "output_type": "stream",
          "name": "stderr",
          "text": [
            "/usr/local/lib/python3.7/dist-packages/sklearn/feature_selection/_univariate_selection.py:113: RuntimeWarning: divide by zero encountered in true_divide\n",
            "  f = msb / msw\n"
          ]
        },
        {
          "output_type": "stream",
          "name": "stdout",
          "text": [
            "[CV 2/5; 57/120] END Modelo=LogisticRegression(random_state=20), Preprocessing__bow__ngram_range=(1, 3), Selection__percentile=85;, score=(train=1.000, test=0.333) total time=   3.4s\n",
            "[CV 3/5; 57/120] START Modelo=LogisticRegression(random_state=20), Preprocessing__bow__ngram_range=(1, 3), Selection__percentile=85\n",
            "[CV 3/5; 57/120] END Modelo=LogisticRegression(random_state=20), Preprocessing__bow__ngram_range=(1, 3), Selection__percentile=85;, score=(train=1.000, test=0.500) total time=   1.7s\n",
            "[CV 4/5; 57/120] START Modelo=LogisticRegression(random_state=20), Preprocessing__bow__ngram_range=(1, 3), Selection__percentile=85\n",
            "[CV 4/5; 57/120] END Modelo=LogisticRegression(random_state=20), Preprocessing__bow__ngram_range=(1, 3), Selection__percentile=85;, score=(train=1.000, test=0.333) total time=   2.9s\n",
            "[CV 5/5; 57/120] START Modelo=LogisticRegression(random_state=20), Preprocessing__bow__ngram_range=(1, 3), Selection__percentile=85\n",
            "[CV 5/5; 57/120] END Modelo=LogisticRegression(random_state=20), Preprocessing__bow__ngram_range=(1, 3), Selection__percentile=85;, score=(train=1.000, test=0.500) total time=   1.5s\n",
            "[CV 1/5; 58/120] START Modelo=LogisticRegression(random_state=20), Preprocessing__bow__ngram_range=(1, 3), Selection__percentile=90\n"
          ]
        },
        {
          "output_type": "stream",
          "name": "stderr",
          "text": [
            "/usr/local/lib/python3.7/dist-packages/sklearn/feature_selection/_univariate_selection.py:113: RuntimeWarning: divide by zero encountered in true_divide\n",
            "  f = msb / msw\n"
          ]
        },
        {
          "output_type": "stream",
          "name": "stdout",
          "text": [
            "[CV 1/5; 58/120] END Modelo=LogisticRegression(random_state=20), Preprocessing__bow__ngram_range=(1, 3), Selection__percentile=90;, score=(train=1.000, test=0.667) total time=   3.4s\n",
            "[CV 2/5; 58/120] START Modelo=LogisticRegression(random_state=20), Preprocessing__bow__ngram_range=(1, 3), Selection__percentile=90\n"
          ]
        },
        {
          "output_type": "stream",
          "name": "stderr",
          "text": [
            "/usr/local/lib/python3.7/dist-packages/sklearn/feature_selection/_univariate_selection.py:113: RuntimeWarning: divide by zero encountered in true_divide\n",
            "  f = msb / msw\n"
          ]
        },
        {
          "output_type": "stream",
          "name": "stdout",
          "text": [
            "[CV 2/5; 58/120] END Modelo=LogisticRegression(random_state=20), Preprocessing__bow__ngram_range=(1, 3), Selection__percentile=90;, score=(train=1.000, test=0.333) total time=   4.0s\n",
            "[CV 3/5; 58/120] START Modelo=LogisticRegression(random_state=20), Preprocessing__bow__ngram_range=(1, 3), Selection__percentile=90\n",
            "[CV 3/5; 58/120] END Modelo=LogisticRegression(random_state=20), Preprocessing__bow__ngram_range=(1, 3), Selection__percentile=90;, score=(train=1.000, test=0.333) total time=   1.3s\n",
            "[CV 4/5; 58/120] START Modelo=LogisticRegression(random_state=20), Preprocessing__bow__ngram_range=(1, 3), Selection__percentile=90\n",
            "[CV 4/5; 58/120] END Modelo=LogisticRegression(random_state=20), Preprocessing__bow__ngram_range=(1, 3), Selection__percentile=90;, score=(train=1.000, test=0.333) total time=   2.4s\n",
            "[CV 5/5; 58/120] START Modelo=LogisticRegression(random_state=20), Preprocessing__bow__ngram_range=(1, 3), Selection__percentile=90\n",
            "[CV 5/5; 58/120] END Modelo=LogisticRegression(random_state=20), Preprocessing__bow__ngram_range=(1, 3), Selection__percentile=90;, score=(train=1.000, test=0.500) total time=   1.7s\n",
            "[CV 1/5; 59/120] START Modelo=LogisticRegression(random_state=20), Preprocessing__bow__ngram_range=(1, 3), Selection__percentile=95\n"
          ]
        },
        {
          "output_type": "stream",
          "name": "stderr",
          "text": [
            "/usr/local/lib/python3.7/dist-packages/sklearn/feature_selection/_univariate_selection.py:113: RuntimeWarning: divide by zero encountered in true_divide\n",
            "  f = msb / msw\n",
            "/usr/local/lib/python3.7/dist-packages/sklearn/linear_model/_logistic.py:818: ConvergenceWarning: lbfgs failed to converge (status=1):\n",
            "STOP: TOTAL NO. of ITERATIONS REACHED LIMIT.\n",
            "\n",
            "Increase the number of iterations (max_iter) or scale the data as shown in:\n",
            "    https://scikit-learn.org/stable/modules/preprocessing.html\n",
            "Please also refer to the documentation for alternative solver options:\n",
            "    https://scikit-learn.org/stable/modules/linear_model.html#logistic-regression\n",
            "  extra_warning_msg=_LOGISTIC_SOLVER_CONVERGENCE_MSG,\n"
          ]
        },
        {
          "output_type": "stream",
          "name": "stdout",
          "text": [
            "[CV 1/5; 59/120] END Modelo=LogisticRegression(random_state=20), Preprocessing__bow__ngram_range=(1, 3), Selection__percentile=95;, score=(train=1.000, test=0.667) total time=   3.3s\n",
            "[CV 2/5; 59/120] START Modelo=LogisticRegression(random_state=20), Preprocessing__bow__ngram_range=(1, 3), Selection__percentile=95\n"
          ]
        },
        {
          "output_type": "stream",
          "name": "stderr",
          "text": [
            "/usr/local/lib/python3.7/dist-packages/sklearn/feature_selection/_univariate_selection.py:113: RuntimeWarning: divide by zero encountered in true_divide\n",
            "  f = msb / msw\n"
          ]
        },
        {
          "output_type": "stream",
          "name": "stdout",
          "text": [
            "[CV 2/5; 59/120] END Modelo=LogisticRegression(random_state=20), Preprocessing__bow__ngram_range=(1, 3), Selection__percentile=95;, score=(train=1.000, test=0.333) total time=   3.3s\n",
            "[CV 3/5; 59/120] START Modelo=LogisticRegression(random_state=20), Preprocessing__bow__ngram_range=(1, 3), Selection__percentile=95\n",
            "[CV 3/5; 59/120] END Modelo=LogisticRegression(random_state=20), Preprocessing__bow__ngram_range=(1, 3), Selection__percentile=95;, score=(train=1.000, test=0.333) total time=   1.3s\n",
            "[CV 4/5; 59/120] START Modelo=LogisticRegression(random_state=20), Preprocessing__bow__ngram_range=(1, 3), Selection__percentile=95\n",
            "[CV 4/5; 59/120] END Modelo=LogisticRegression(random_state=20), Preprocessing__bow__ngram_range=(1, 3), Selection__percentile=95;, score=(train=1.000, test=0.333) total time=   2.3s\n",
            "[CV 5/5; 59/120] START Modelo=LogisticRegression(random_state=20), Preprocessing__bow__ngram_range=(1, 3), Selection__percentile=95\n",
            "[CV 5/5; 59/120] END Modelo=LogisticRegression(random_state=20), Preprocessing__bow__ngram_range=(1, 3), Selection__percentile=95;, score=(train=1.000, test=0.500) total time=   2.0s\n",
            "[CV 1/5; 60/120] START Modelo=LogisticRegression(random_state=20), Preprocessing__bow__ngram_range=(1, 3), Selection__percentile=100\n"
          ]
        },
        {
          "output_type": "stream",
          "name": "stderr",
          "text": [
            "/usr/local/lib/python3.7/dist-packages/sklearn/feature_selection/_univariate_selection.py:113: RuntimeWarning: divide by zero encountered in true_divide\n",
            "  f = msb / msw\n",
            "/usr/local/lib/python3.7/dist-packages/sklearn/linear_model/_logistic.py:818: ConvergenceWarning: lbfgs failed to converge (status=1):\n",
            "STOP: TOTAL NO. of ITERATIONS REACHED LIMIT.\n",
            "\n",
            "Increase the number of iterations (max_iter) or scale the data as shown in:\n",
            "    https://scikit-learn.org/stable/modules/preprocessing.html\n",
            "Please also refer to the documentation for alternative solver options:\n",
            "    https://scikit-learn.org/stable/modules/linear_model.html#logistic-regression\n",
            "  extra_warning_msg=_LOGISTIC_SOLVER_CONVERGENCE_MSG,\n"
          ]
        },
        {
          "output_type": "stream",
          "name": "stdout",
          "text": [
            "[CV 1/5; 60/120] END Modelo=LogisticRegression(random_state=20), Preprocessing__bow__ngram_range=(1, 3), Selection__percentile=100;, score=(train=1.000, test=0.833) total time=   3.5s\n",
            "[CV 2/5; 60/120] START Modelo=LogisticRegression(random_state=20), Preprocessing__bow__ngram_range=(1, 3), Selection__percentile=100\n"
          ]
        },
        {
          "output_type": "stream",
          "name": "stderr",
          "text": [
            "/usr/local/lib/python3.7/dist-packages/sklearn/feature_selection/_univariate_selection.py:113: RuntimeWarning: divide by zero encountered in true_divide\n",
            "  f = msb / msw\n"
          ]
        },
        {
          "output_type": "stream",
          "name": "stdout",
          "text": [
            "[CV 2/5; 60/120] END Modelo=LogisticRegression(random_state=20), Preprocessing__bow__ngram_range=(1, 3), Selection__percentile=100;, score=(train=1.000, test=0.500) total time=   3.5s\n",
            "[CV 3/5; 60/120] START Modelo=LogisticRegression(random_state=20), Preprocessing__bow__ngram_range=(1, 3), Selection__percentile=100\n"
          ]
        },
        {
          "output_type": "stream",
          "name": "stderr",
          "text": [
            "/usr/local/lib/python3.7/dist-packages/sklearn/linear_model/_logistic.py:818: ConvergenceWarning: lbfgs failed to converge (status=1):\n",
            "STOP: TOTAL NO. of ITERATIONS REACHED LIMIT.\n",
            "\n",
            "Increase the number of iterations (max_iter) or scale the data as shown in:\n",
            "    https://scikit-learn.org/stable/modules/preprocessing.html\n",
            "Please also refer to the documentation for alternative solver options:\n",
            "    https://scikit-learn.org/stable/modules/linear_model.html#logistic-regression\n",
            "  extra_warning_msg=_LOGISTIC_SOLVER_CONVERGENCE_MSG,\n"
          ]
        },
        {
          "output_type": "stream",
          "name": "stdout",
          "text": [
            "[CV 3/5; 60/120] END Modelo=LogisticRegression(random_state=20), Preprocessing__bow__ngram_range=(1, 3), Selection__percentile=100;, score=(train=1.000, test=0.500) total time=   1.5s\n",
            "[CV 4/5; 60/120] START Modelo=LogisticRegression(random_state=20), Preprocessing__bow__ngram_range=(1, 3), Selection__percentile=100\n"
          ]
        },
        {
          "output_type": "stream",
          "name": "stderr",
          "text": [
            "/usr/local/lib/python3.7/dist-packages/sklearn/linear_model/_logistic.py:818: ConvergenceWarning: lbfgs failed to converge (status=1):\n",
            "STOP: TOTAL NO. of ITERATIONS REACHED LIMIT.\n",
            "\n",
            "Increase the number of iterations (max_iter) or scale the data as shown in:\n",
            "    https://scikit-learn.org/stable/modules/preprocessing.html\n",
            "Please also refer to the documentation for alternative solver options:\n",
            "    https://scikit-learn.org/stable/modules/linear_model.html#logistic-regression\n",
            "  extra_warning_msg=_LOGISTIC_SOLVER_CONVERGENCE_MSG,\n"
          ]
        },
        {
          "output_type": "stream",
          "name": "stdout",
          "text": [
            "[CV 4/5; 60/120] END Modelo=LogisticRegression(random_state=20), Preprocessing__bow__ngram_range=(1, 3), Selection__percentile=100;, score=(train=1.000, test=0.500) total time=   3.1s\n",
            "[CV 5/5; 60/120] START Modelo=LogisticRegression(random_state=20), Preprocessing__bow__ngram_range=(1, 3), Selection__percentile=100\n",
            "[CV 5/5; 60/120] END Modelo=LogisticRegression(random_state=20), Preprocessing__bow__ngram_range=(1, 3), Selection__percentile=100;, score=(train=1.000, test=0.333) total time=   1.6s\n",
            "[CV 1/5; 61/120] START Modelo=RandomForestClassifier(random_state=20), Preprocessing__bow__ngram_range=(1, 1), Selection__percentile=5\n"
          ]
        },
        {
          "output_type": "stream",
          "name": "stderr",
          "text": [
            "/usr/local/lib/python3.7/dist-packages/sklearn/feature_selection/_univariate_selection.py:113: RuntimeWarning: divide by zero encountered in true_divide\n",
            "  f = msb / msw\n"
          ]
        },
        {
          "output_type": "stream",
          "name": "stdout",
          "text": [
            "[CV 1/5; 61/120] END Modelo=RandomForestClassifier(random_state=20), Preprocessing__bow__ngram_range=(1, 1), Selection__percentile=5;, score=(train=1.000, test=0.500) total time=   0.9s\n",
            "[CV 2/5; 61/120] START Modelo=RandomForestClassifier(random_state=20), Preprocessing__bow__ngram_range=(1, 1), Selection__percentile=5\n"
          ]
        },
        {
          "output_type": "stream",
          "name": "stderr",
          "text": [
            "/usr/local/lib/python3.7/dist-packages/sklearn/feature_selection/_univariate_selection.py:113: RuntimeWarning: divide by zero encountered in true_divide\n",
            "  f = msb / msw\n"
          ]
        },
        {
          "output_type": "stream",
          "name": "stdout",
          "text": [
            "[CV 2/5; 61/120] END Modelo=RandomForestClassifier(random_state=20), Preprocessing__bow__ngram_range=(1, 1), Selection__percentile=5;, score=(train=1.000, test=0.333) total time=   1.2s\n",
            "[CV 3/5; 61/120] START Modelo=RandomForestClassifier(random_state=20), Preprocessing__bow__ngram_range=(1, 1), Selection__percentile=5\n",
            "[CV 3/5; 61/120] END Modelo=RandomForestClassifier(random_state=20), Preprocessing__bow__ngram_range=(1, 1), Selection__percentile=5;, score=(train=0.625, test=0.500) total time=   0.6s\n",
            "[CV 4/5; 61/120] START Modelo=RandomForestClassifier(random_state=20), Preprocessing__bow__ngram_range=(1, 1), Selection__percentile=5\n",
            "[CV 4/5; 61/120] END Modelo=RandomForestClassifier(random_state=20), Preprocessing__bow__ngram_range=(1, 1), Selection__percentile=5;, score=(train=1.000, test=0.500) total time=   0.9s\n",
            "[CV 5/5; 61/120] START Modelo=RandomForestClassifier(random_state=20), Preprocessing__bow__ngram_range=(1, 1), Selection__percentile=5\n",
            "[CV 5/5; 61/120] END Modelo=RandomForestClassifier(random_state=20), Preprocessing__bow__ngram_range=(1, 1), Selection__percentile=5;, score=(train=1.000, test=0.667) total time=   0.8s\n",
            "[CV 1/5; 62/120] START Modelo=RandomForestClassifier(random_state=20), Preprocessing__bow__ngram_range=(1, 1), Selection__percentile=10\n"
          ]
        },
        {
          "output_type": "stream",
          "name": "stderr",
          "text": [
            "/usr/local/lib/python3.7/dist-packages/sklearn/feature_selection/_univariate_selection.py:113: RuntimeWarning: divide by zero encountered in true_divide\n",
            "  f = msb / msw\n"
          ]
        },
        {
          "output_type": "stream",
          "name": "stdout",
          "text": [
            "[CV 1/5; 62/120] END Modelo=RandomForestClassifier(random_state=20), Preprocessing__bow__ngram_range=(1, 1), Selection__percentile=10;, score=(train=1.000, test=0.500) total time=   0.9s\n",
            "[CV 2/5; 62/120] START Modelo=RandomForestClassifier(random_state=20), Preprocessing__bow__ngram_range=(1, 1), Selection__percentile=10\n"
          ]
        },
        {
          "output_type": "stream",
          "name": "stderr",
          "text": [
            "/usr/local/lib/python3.7/dist-packages/sklearn/feature_selection/_univariate_selection.py:113: RuntimeWarning: divide by zero encountered in true_divide\n",
            "  f = msb / msw\n"
          ]
        },
        {
          "output_type": "stream",
          "name": "stdout",
          "text": [
            "[CV 2/5; 62/120] END Modelo=RandomForestClassifier(random_state=20), Preprocessing__bow__ngram_range=(1, 1), Selection__percentile=10;, score=(train=1.000, test=0.333) total time=   1.2s\n",
            "[CV 3/5; 62/120] START Modelo=RandomForestClassifier(random_state=20), Preprocessing__bow__ngram_range=(1, 1), Selection__percentile=10\n",
            "[CV 3/5; 62/120] END Modelo=RandomForestClassifier(random_state=20), Preprocessing__bow__ngram_range=(1, 1), Selection__percentile=10;, score=(train=0.833, test=0.333) total time=   0.6s\n",
            "[CV 4/5; 62/120] START Modelo=RandomForestClassifier(random_state=20), Preprocessing__bow__ngram_range=(1, 1), Selection__percentile=10\n",
            "[CV 4/5; 62/120] END Modelo=RandomForestClassifier(random_state=20), Preprocessing__bow__ngram_range=(1, 1), Selection__percentile=10;, score=(train=1.000, test=0.333) total time=   0.9s\n",
            "[CV 5/5; 62/120] START Modelo=RandomForestClassifier(random_state=20), Preprocessing__bow__ngram_range=(1, 1), Selection__percentile=10\n",
            "[CV 5/5; 62/120] END Modelo=RandomForestClassifier(random_state=20), Preprocessing__bow__ngram_range=(1, 1), Selection__percentile=10;, score=(train=1.000, test=0.500) total time=   0.8s\n",
            "[CV 1/5; 63/120] START Modelo=RandomForestClassifier(random_state=20), Preprocessing__bow__ngram_range=(1, 1), Selection__percentile=15\n"
          ]
        },
        {
          "output_type": "stream",
          "name": "stderr",
          "text": [
            "/usr/local/lib/python3.7/dist-packages/sklearn/feature_selection/_univariate_selection.py:113: RuntimeWarning: divide by zero encountered in true_divide\n",
            "  f = msb / msw\n"
          ]
        },
        {
          "output_type": "stream",
          "name": "stdout",
          "text": [
            "[CV 1/5; 63/120] END Modelo=RandomForestClassifier(random_state=20), Preprocessing__bow__ngram_range=(1, 1), Selection__percentile=15;, score=(train=1.000, test=0.333) total time=   0.9s\n",
            "[CV 2/5; 63/120] START Modelo=RandomForestClassifier(random_state=20), Preprocessing__bow__ngram_range=(1, 1), Selection__percentile=15\n"
          ]
        },
        {
          "output_type": "stream",
          "name": "stderr",
          "text": [
            "/usr/local/lib/python3.7/dist-packages/sklearn/feature_selection/_univariate_selection.py:113: RuntimeWarning: divide by zero encountered in true_divide\n",
            "  f = msb / msw\n"
          ]
        },
        {
          "output_type": "stream",
          "name": "stdout",
          "text": [
            "[CV 2/5; 63/120] END Modelo=RandomForestClassifier(random_state=20), Preprocessing__bow__ngram_range=(1, 1), Selection__percentile=15;, score=(train=1.000, test=0.333) total time=   1.2s\n",
            "[CV 3/5; 63/120] START Modelo=RandomForestClassifier(random_state=20), Preprocessing__bow__ngram_range=(1, 1), Selection__percentile=15\n",
            "[CV 3/5; 63/120] END Modelo=RandomForestClassifier(random_state=20), Preprocessing__bow__ngram_range=(1, 1), Selection__percentile=15;, score=(train=1.000, test=0.500) total time=   0.6s\n",
            "[CV 4/5; 63/120] START Modelo=RandomForestClassifier(random_state=20), Preprocessing__bow__ngram_range=(1, 1), Selection__percentile=15\n",
            "[CV 4/5; 63/120] END Modelo=RandomForestClassifier(random_state=20), Preprocessing__bow__ngram_range=(1, 1), Selection__percentile=15;, score=(train=1.000, test=0.500) total time=   0.9s\n",
            "[CV 5/5; 63/120] START Modelo=RandomForestClassifier(random_state=20), Preprocessing__bow__ngram_range=(1, 1), Selection__percentile=15\n",
            "[CV 5/5; 63/120] END Modelo=RandomForestClassifier(random_state=20), Preprocessing__bow__ngram_range=(1, 1), Selection__percentile=15;, score=(train=1.000, test=0.500) total time=   0.8s\n",
            "[CV 1/5; 64/120] START Modelo=RandomForestClassifier(random_state=20), Preprocessing__bow__ngram_range=(1, 1), Selection__percentile=20\n"
          ]
        },
        {
          "output_type": "stream",
          "name": "stderr",
          "text": [
            "/usr/local/lib/python3.7/dist-packages/sklearn/feature_selection/_univariate_selection.py:113: RuntimeWarning: divide by zero encountered in true_divide\n",
            "  f = msb / msw\n"
          ]
        },
        {
          "output_type": "stream",
          "name": "stdout",
          "text": [
            "[CV 1/5; 64/120] END Modelo=RandomForestClassifier(random_state=20), Preprocessing__bow__ngram_range=(1, 1), Selection__percentile=20;, score=(train=1.000, test=0.333) total time=   0.9s\n",
            "[CV 2/5; 64/120] START Modelo=RandomForestClassifier(random_state=20), Preprocessing__bow__ngram_range=(1, 1), Selection__percentile=20\n"
          ]
        },
        {
          "output_type": "stream",
          "name": "stderr",
          "text": [
            "/usr/local/lib/python3.7/dist-packages/sklearn/feature_selection/_univariate_selection.py:113: RuntimeWarning: divide by zero encountered in true_divide\n",
            "  f = msb / msw\n"
          ]
        },
        {
          "output_type": "stream",
          "name": "stdout",
          "text": [
            "[CV 2/5; 64/120] END Modelo=RandomForestClassifier(random_state=20), Preprocessing__bow__ngram_range=(1, 1), Selection__percentile=20;, score=(train=1.000, test=0.333) total time=   1.2s\n",
            "[CV 3/5; 64/120] START Modelo=RandomForestClassifier(random_state=20), Preprocessing__bow__ngram_range=(1, 1), Selection__percentile=20\n",
            "[CV 3/5; 64/120] END Modelo=RandomForestClassifier(random_state=20), Preprocessing__bow__ngram_range=(1, 1), Selection__percentile=20;, score=(train=1.000, test=0.500) total time=   0.6s\n",
            "[CV 4/5; 64/120] START Modelo=RandomForestClassifier(random_state=20), Preprocessing__bow__ngram_range=(1, 1), Selection__percentile=20\n",
            "[CV 4/5; 64/120] END Modelo=RandomForestClassifier(random_state=20), Preprocessing__bow__ngram_range=(1, 1), Selection__percentile=20;, score=(train=1.000, test=0.333) total time=   0.9s\n",
            "[CV 5/5; 64/120] START Modelo=RandomForestClassifier(random_state=20), Preprocessing__bow__ngram_range=(1, 1), Selection__percentile=20\n",
            "[CV 5/5; 64/120] END Modelo=RandomForestClassifier(random_state=20), Preprocessing__bow__ngram_range=(1, 1), Selection__percentile=20;, score=(train=1.000, test=0.500) total time=   0.8s\n",
            "[CV 1/5; 65/120] START Modelo=RandomForestClassifier(random_state=20), Preprocessing__bow__ngram_range=(1, 1), Selection__percentile=25\n"
          ]
        },
        {
          "output_type": "stream",
          "name": "stderr",
          "text": [
            "/usr/local/lib/python3.7/dist-packages/sklearn/feature_selection/_univariate_selection.py:113: RuntimeWarning: divide by zero encountered in true_divide\n",
            "  f = msb / msw\n"
          ]
        },
        {
          "output_type": "stream",
          "name": "stdout",
          "text": [
            "[CV 1/5; 65/120] END Modelo=RandomForestClassifier(random_state=20), Preprocessing__bow__ngram_range=(1, 1), Selection__percentile=25;, score=(train=1.000, test=0.500) total time=   0.9s\n",
            "[CV 2/5; 65/120] START Modelo=RandomForestClassifier(random_state=20), Preprocessing__bow__ngram_range=(1, 1), Selection__percentile=25\n"
          ]
        },
        {
          "output_type": "stream",
          "name": "stderr",
          "text": [
            "/usr/local/lib/python3.7/dist-packages/sklearn/feature_selection/_univariate_selection.py:113: RuntimeWarning: divide by zero encountered in true_divide\n",
            "  f = msb / msw\n"
          ]
        },
        {
          "output_type": "stream",
          "name": "stdout",
          "text": [
            "[CV 2/5; 65/120] END Modelo=RandomForestClassifier(random_state=20), Preprocessing__bow__ngram_range=(1, 1), Selection__percentile=25;, score=(train=1.000, test=0.333) total time=   1.2s\n",
            "[CV 3/5; 65/120] START Modelo=RandomForestClassifier(random_state=20), Preprocessing__bow__ngram_range=(1, 1), Selection__percentile=25\n",
            "[CV 3/5; 65/120] END Modelo=RandomForestClassifier(random_state=20), Preprocessing__bow__ngram_range=(1, 1), Selection__percentile=25;, score=(train=1.000, test=0.333) total time=   0.6s\n",
            "[CV 4/5; 65/120] START Modelo=RandomForestClassifier(random_state=20), Preprocessing__bow__ngram_range=(1, 1), Selection__percentile=25\n",
            "[CV 4/5; 65/120] END Modelo=RandomForestClassifier(random_state=20), Preprocessing__bow__ngram_range=(1, 1), Selection__percentile=25;, score=(train=1.000, test=0.333) total time=   0.9s\n",
            "[CV 5/5; 65/120] START Modelo=RandomForestClassifier(random_state=20), Preprocessing__bow__ngram_range=(1, 1), Selection__percentile=25\n",
            "[CV 5/5; 65/120] END Modelo=RandomForestClassifier(random_state=20), Preprocessing__bow__ngram_range=(1, 1), Selection__percentile=25;, score=(train=1.000, test=0.500) total time=   0.8s\n",
            "[CV 1/5; 66/120] START Modelo=RandomForestClassifier(random_state=20), Preprocessing__bow__ngram_range=(1, 1), Selection__percentile=30\n"
          ]
        },
        {
          "output_type": "stream",
          "name": "stderr",
          "text": [
            "/usr/local/lib/python3.7/dist-packages/sklearn/feature_selection/_univariate_selection.py:113: RuntimeWarning: divide by zero encountered in true_divide\n",
            "  f = msb / msw\n"
          ]
        },
        {
          "output_type": "stream",
          "name": "stdout",
          "text": [
            "[CV 1/5; 66/120] END Modelo=RandomForestClassifier(random_state=20), Preprocessing__bow__ngram_range=(1, 1), Selection__percentile=30;, score=(train=1.000, test=0.500) total time=   0.9s\n",
            "[CV 2/5; 66/120] START Modelo=RandomForestClassifier(random_state=20), Preprocessing__bow__ngram_range=(1, 1), Selection__percentile=30\n"
          ]
        },
        {
          "output_type": "stream",
          "name": "stderr",
          "text": [
            "/usr/local/lib/python3.7/dist-packages/sklearn/feature_selection/_univariate_selection.py:113: RuntimeWarning: divide by zero encountered in true_divide\n",
            "  f = msb / msw\n"
          ]
        },
        {
          "output_type": "stream",
          "name": "stdout",
          "text": [
            "[CV 2/5; 66/120] END Modelo=RandomForestClassifier(random_state=20), Preprocessing__bow__ngram_range=(1, 1), Selection__percentile=30;, score=(train=1.000, test=0.333) total time=   1.2s\n",
            "[CV 3/5; 66/120] START Modelo=RandomForestClassifier(random_state=20), Preprocessing__bow__ngram_range=(1, 1), Selection__percentile=30\n",
            "[CV 3/5; 66/120] END Modelo=RandomForestClassifier(random_state=20), Preprocessing__bow__ngram_range=(1, 1), Selection__percentile=30;, score=(train=1.000, test=0.500) total time=   0.6s\n",
            "[CV 4/5; 66/120] START Modelo=RandomForestClassifier(random_state=20), Preprocessing__bow__ngram_range=(1, 1), Selection__percentile=30\n",
            "[CV 4/5; 66/120] END Modelo=RandomForestClassifier(random_state=20), Preprocessing__bow__ngram_range=(1, 1), Selection__percentile=30;, score=(train=1.000, test=0.333) total time=   0.9s\n",
            "[CV 5/5; 66/120] START Modelo=RandomForestClassifier(random_state=20), Preprocessing__bow__ngram_range=(1, 1), Selection__percentile=30\n",
            "[CV 5/5; 66/120] END Modelo=RandomForestClassifier(random_state=20), Preprocessing__bow__ngram_range=(1, 1), Selection__percentile=30;, score=(train=1.000, test=0.500) total time=   0.8s\n",
            "[CV 1/5; 67/120] START Modelo=RandomForestClassifier(random_state=20), Preprocessing__bow__ngram_range=(1, 1), Selection__percentile=35\n"
          ]
        },
        {
          "output_type": "stream",
          "name": "stderr",
          "text": [
            "/usr/local/lib/python3.7/dist-packages/sklearn/feature_selection/_univariate_selection.py:113: RuntimeWarning: divide by zero encountered in true_divide\n",
            "  f = msb / msw\n"
          ]
        },
        {
          "output_type": "stream",
          "name": "stdout",
          "text": [
            "[CV 1/5; 67/120] END Modelo=RandomForestClassifier(random_state=20), Preprocessing__bow__ngram_range=(1, 1), Selection__percentile=35;, score=(train=1.000, test=0.500) total time=   0.9s\n",
            "[CV 2/5; 67/120] START Modelo=RandomForestClassifier(random_state=20), Preprocessing__bow__ngram_range=(1, 1), Selection__percentile=35\n"
          ]
        },
        {
          "output_type": "stream",
          "name": "stderr",
          "text": [
            "/usr/local/lib/python3.7/dist-packages/sklearn/feature_selection/_univariate_selection.py:113: RuntimeWarning: divide by zero encountered in true_divide\n",
            "  f = msb / msw\n"
          ]
        },
        {
          "output_type": "stream",
          "name": "stdout",
          "text": [
            "[CV 2/5; 67/120] END Modelo=RandomForestClassifier(random_state=20), Preprocessing__bow__ngram_range=(1, 1), Selection__percentile=35;, score=(train=1.000, test=0.333) total time=   1.2s\n",
            "[CV 3/5; 67/120] START Modelo=RandomForestClassifier(random_state=20), Preprocessing__bow__ngram_range=(1, 1), Selection__percentile=35\n",
            "[CV 3/5; 67/120] END Modelo=RandomForestClassifier(random_state=20), Preprocessing__bow__ngram_range=(1, 1), Selection__percentile=35;, score=(train=1.000, test=0.500) total time=   0.6s\n",
            "[CV 4/5; 67/120] START Modelo=RandomForestClassifier(random_state=20), Preprocessing__bow__ngram_range=(1, 1), Selection__percentile=35\n",
            "[CV 4/5; 67/120] END Modelo=RandomForestClassifier(random_state=20), Preprocessing__bow__ngram_range=(1, 1), Selection__percentile=35;, score=(train=1.000, test=0.333) total time=   0.9s\n",
            "[CV 5/5; 67/120] START Modelo=RandomForestClassifier(random_state=20), Preprocessing__bow__ngram_range=(1, 1), Selection__percentile=35\n",
            "[CV 5/5; 67/120] END Modelo=RandomForestClassifier(random_state=20), Preprocessing__bow__ngram_range=(1, 1), Selection__percentile=35;, score=(train=1.000, test=0.500) total time=   0.8s\n",
            "[CV 1/5; 68/120] START Modelo=RandomForestClassifier(random_state=20), Preprocessing__bow__ngram_range=(1, 1), Selection__percentile=40\n"
          ]
        },
        {
          "output_type": "stream",
          "name": "stderr",
          "text": [
            "/usr/local/lib/python3.7/dist-packages/sklearn/feature_selection/_univariate_selection.py:113: RuntimeWarning: divide by zero encountered in true_divide\n",
            "  f = msb / msw\n"
          ]
        },
        {
          "output_type": "stream",
          "name": "stdout",
          "text": [
            "[CV 1/5; 68/120] END Modelo=RandomForestClassifier(random_state=20), Preprocessing__bow__ngram_range=(1, 1), Selection__percentile=40;, score=(train=1.000, test=0.500) total time=   0.9s\n",
            "[CV 2/5; 68/120] START Modelo=RandomForestClassifier(random_state=20), Preprocessing__bow__ngram_range=(1, 1), Selection__percentile=40\n"
          ]
        },
        {
          "output_type": "stream",
          "name": "stderr",
          "text": [
            "/usr/local/lib/python3.7/dist-packages/sklearn/feature_selection/_univariate_selection.py:113: RuntimeWarning: divide by zero encountered in true_divide\n",
            "  f = msb / msw\n"
          ]
        },
        {
          "output_type": "stream",
          "name": "stdout",
          "text": [
            "[CV 2/5; 68/120] END Modelo=RandomForestClassifier(random_state=20), Preprocessing__bow__ngram_range=(1, 1), Selection__percentile=40;, score=(train=1.000, test=0.333) total time=   1.2s\n",
            "[CV 3/5; 68/120] START Modelo=RandomForestClassifier(random_state=20), Preprocessing__bow__ngram_range=(1, 1), Selection__percentile=40\n",
            "[CV 3/5; 68/120] END Modelo=RandomForestClassifier(random_state=20), Preprocessing__bow__ngram_range=(1, 1), Selection__percentile=40;, score=(train=1.000, test=0.333) total time=   0.6s\n",
            "[CV 4/5; 68/120] START Modelo=RandomForestClassifier(random_state=20), Preprocessing__bow__ngram_range=(1, 1), Selection__percentile=40\n",
            "[CV 4/5; 68/120] END Modelo=RandomForestClassifier(random_state=20), Preprocessing__bow__ngram_range=(1, 1), Selection__percentile=40;, score=(train=1.000, test=0.500) total time=   1.0s\n",
            "[CV 5/5; 68/120] START Modelo=RandomForestClassifier(random_state=20), Preprocessing__bow__ngram_range=(1, 1), Selection__percentile=40\n",
            "[CV 5/5; 68/120] END Modelo=RandomForestClassifier(random_state=20), Preprocessing__bow__ngram_range=(1, 1), Selection__percentile=40;, score=(train=1.000, test=0.500) total time=   0.8s\n",
            "[CV 1/5; 69/120] START Modelo=RandomForestClassifier(random_state=20), Preprocessing__bow__ngram_range=(1, 1), Selection__percentile=45\n"
          ]
        },
        {
          "output_type": "stream",
          "name": "stderr",
          "text": [
            "/usr/local/lib/python3.7/dist-packages/sklearn/feature_selection/_univariate_selection.py:113: RuntimeWarning: divide by zero encountered in true_divide\n",
            "  f = msb / msw\n"
          ]
        },
        {
          "output_type": "stream",
          "name": "stdout",
          "text": [
            "[CV 1/5; 69/120] END Modelo=RandomForestClassifier(random_state=20), Preprocessing__bow__ngram_range=(1, 1), Selection__percentile=45;, score=(train=1.000, test=0.333) total time=   0.9s\n",
            "[CV 2/5; 69/120] START Modelo=RandomForestClassifier(random_state=20), Preprocessing__bow__ngram_range=(1, 1), Selection__percentile=45\n"
          ]
        },
        {
          "output_type": "stream",
          "name": "stderr",
          "text": [
            "/usr/local/lib/python3.7/dist-packages/sklearn/feature_selection/_univariate_selection.py:113: RuntimeWarning: divide by zero encountered in true_divide\n",
            "  f = msb / msw\n"
          ]
        },
        {
          "output_type": "stream",
          "name": "stdout",
          "text": [
            "[CV 2/5; 69/120] END Modelo=RandomForestClassifier(random_state=20), Preprocessing__bow__ngram_range=(1, 1), Selection__percentile=45;, score=(train=1.000, test=0.333) total time=   1.2s\n",
            "[CV 3/5; 69/120] START Modelo=RandomForestClassifier(random_state=20), Preprocessing__bow__ngram_range=(1, 1), Selection__percentile=45\n",
            "[CV 3/5; 69/120] END Modelo=RandomForestClassifier(random_state=20), Preprocessing__bow__ngram_range=(1, 1), Selection__percentile=45;, score=(train=1.000, test=0.500) total time=   0.6s\n",
            "[CV 4/5; 69/120] START Modelo=RandomForestClassifier(random_state=20), Preprocessing__bow__ngram_range=(1, 1), Selection__percentile=45\n",
            "[CV 4/5; 69/120] END Modelo=RandomForestClassifier(random_state=20), Preprocessing__bow__ngram_range=(1, 1), Selection__percentile=45;, score=(train=1.000, test=0.500) total time=   1.0s\n",
            "[CV 5/5; 69/120] START Modelo=RandomForestClassifier(random_state=20), Preprocessing__bow__ngram_range=(1, 1), Selection__percentile=45\n",
            "[CV 5/5; 69/120] END Modelo=RandomForestClassifier(random_state=20), Preprocessing__bow__ngram_range=(1, 1), Selection__percentile=45;, score=(train=1.000, test=0.500) total time=   0.8s\n",
            "[CV 1/5; 70/120] START Modelo=RandomForestClassifier(random_state=20), Preprocessing__bow__ngram_range=(1, 1), Selection__percentile=50\n"
          ]
        },
        {
          "output_type": "stream",
          "name": "stderr",
          "text": [
            "/usr/local/lib/python3.7/dist-packages/sklearn/feature_selection/_univariate_selection.py:113: RuntimeWarning: divide by zero encountered in true_divide\n",
            "  f = msb / msw\n"
          ]
        },
        {
          "output_type": "stream",
          "name": "stdout",
          "text": [
            "[CV 1/5; 70/120] END Modelo=RandomForestClassifier(random_state=20), Preprocessing__bow__ngram_range=(1, 1), Selection__percentile=50;, score=(train=1.000, test=0.500) total time=   0.9s\n",
            "[CV 2/5; 70/120] START Modelo=RandomForestClassifier(random_state=20), Preprocessing__bow__ngram_range=(1, 1), Selection__percentile=50\n"
          ]
        },
        {
          "output_type": "stream",
          "name": "stderr",
          "text": [
            "/usr/local/lib/python3.7/dist-packages/sklearn/feature_selection/_univariate_selection.py:113: RuntimeWarning: divide by zero encountered in true_divide\n",
            "  f = msb / msw\n"
          ]
        },
        {
          "output_type": "stream",
          "name": "stdout",
          "text": [
            "[CV 2/5; 70/120] END Modelo=RandomForestClassifier(random_state=20), Preprocessing__bow__ngram_range=(1, 1), Selection__percentile=50;, score=(train=1.000, test=0.333) total time=   1.2s\n",
            "[CV 3/5; 70/120] START Modelo=RandomForestClassifier(random_state=20), Preprocessing__bow__ngram_range=(1, 1), Selection__percentile=50\n",
            "[CV 3/5; 70/120] END Modelo=RandomForestClassifier(random_state=20), Preprocessing__bow__ngram_range=(1, 1), Selection__percentile=50;, score=(train=1.000, test=0.500) total time=   0.6s\n",
            "[CV 4/5; 70/120] START Modelo=RandomForestClassifier(random_state=20), Preprocessing__bow__ngram_range=(1, 1), Selection__percentile=50\n",
            "[CV 4/5; 70/120] END Modelo=RandomForestClassifier(random_state=20), Preprocessing__bow__ngram_range=(1, 1), Selection__percentile=50;, score=(train=1.000, test=0.500) total time=   0.9s\n",
            "[CV 5/5; 70/120] START Modelo=RandomForestClassifier(random_state=20), Preprocessing__bow__ngram_range=(1, 1), Selection__percentile=50\n",
            "[CV 5/5; 70/120] END Modelo=RandomForestClassifier(random_state=20), Preprocessing__bow__ngram_range=(1, 1), Selection__percentile=50;, score=(train=1.000, test=0.500) total time=   0.8s\n",
            "[CV 1/5; 71/120] START Modelo=RandomForestClassifier(random_state=20), Preprocessing__bow__ngram_range=(1, 1), Selection__percentile=55\n"
          ]
        },
        {
          "output_type": "stream",
          "name": "stderr",
          "text": [
            "/usr/local/lib/python3.7/dist-packages/sklearn/feature_selection/_univariate_selection.py:113: RuntimeWarning: divide by zero encountered in true_divide\n",
            "  f = msb / msw\n"
          ]
        },
        {
          "output_type": "stream",
          "name": "stdout",
          "text": [
            "[CV 1/5; 71/120] END Modelo=RandomForestClassifier(random_state=20), Preprocessing__bow__ngram_range=(1, 1), Selection__percentile=55;, score=(train=1.000, test=0.500) total time=   0.9s\n",
            "[CV 2/5; 71/120] START Modelo=RandomForestClassifier(random_state=20), Preprocessing__bow__ngram_range=(1, 1), Selection__percentile=55\n"
          ]
        },
        {
          "output_type": "stream",
          "name": "stderr",
          "text": [
            "/usr/local/lib/python3.7/dist-packages/sklearn/feature_selection/_univariate_selection.py:113: RuntimeWarning: divide by zero encountered in true_divide\n",
            "  f = msb / msw\n"
          ]
        },
        {
          "output_type": "stream",
          "name": "stdout",
          "text": [
            "[CV 2/5; 71/120] END Modelo=RandomForestClassifier(random_state=20), Preprocessing__bow__ngram_range=(1, 1), Selection__percentile=55;, score=(train=1.000, test=0.333) total time=   1.2s\n",
            "[CV 3/5; 71/120] START Modelo=RandomForestClassifier(random_state=20), Preprocessing__bow__ngram_range=(1, 1), Selection__percentile=55\n",
            "[CV 3/5; 71/120] END Modelo=RandomForestClassifier(random_state=20), Preprocessing__bow__ngram_range=(1, 1), Selection__percentile=55;, score=(train=1.000, test=0.500) total time=   0.6s\n",
            "[CV 4/5; 71/120] START Modelo=RandomForestClassifier(random_state=20), Preprocessing__bow__ngram_range=(1, 1), Selection__percentile=55\n",
            "[CV 4/5; 71/120] END Modelo=RandomForestClassifier(random_state=20), Preprocessing__bow__ngram_range=(1, 1), Selection__percentile=55;, score=(train=1.000, test=0.500) total time=   1.0s\n",
            "[CV 5/5; 71/120] START Modelo=RandomForestClassifier(random_state=20), Preprocessing__bow__ngram_range=(1, 1), Selection__percentile=55\n",
            "[CV 5/5; 71/120] END Modelo=RandomForestClassifier(random_state=20), Preprocessing__bow__ngram_range=(1, 1), Selection__percentile=55;, score=(train=1.000, test=0.500) total time=   0.8s\n",
            "[CV 1/5; 72/120] START Modelo=RandomForestClassifier(random_state=20), Preprocessing__bow__ngram_range=(1, 1), Selection__percentile=60\n"
          ]
        },
        {
          "output_type": "stream",
          "name": "stderr",
          "text": [
            "/usr/local/lib/python3.7/dist-packages/sklearn/feature_selection/_univariate_selection.py:113: RuntimeWarning: divide by zero encountered in true_divide\n",
            "  f = msb / msw\n"
          ]
        },
        {
          "output_type": "stream",
          "name": "stdout",
          "text": [
            "[CV 1/5; 72/120] END Modelo=RandomForestClassifier(random_state=20), Preprocessing__bow__ngram_range=(1, 1), Selection__percentile=60;, score=(train=1.000, test=0.333) total time=   0.9s\n",
            "[CV 2/5; 72/120] START Modelo=RandomForestClassifier(random_state=20), Preprocessing__bow__ngram_range=(1, 1), Selection__percentile=60\n"
          ]
        },
        {
          "output_type": "stream",
          "name": "stderr",
          "text": [
            "/usr/local/lib/python3.7/dist-packages/sklearn/feature_selection/_univariate_selection.py:113: RuntimeWarning: divide by zero encountered in true_divide\n",
            "  f = msb / msw\n"
          ]
        },
        {
          "output_type": "stream",
          "name": "stdout",
          "text": [
            "[CV 2/5; 72/120] END Modelo=RandomForestClassifier(random_state=20), Preprocessing__bow__ngram_range=(1, 1), Selection__percentile=60;, score=(train=1.000, test=0.333) total time=   1.2s\n",
            "[CV 3/5; 72/120] START Modelo=RandomForestClassifier(random_state=20), Preprocessing__bow__ngram_range=(1, 1), Selection__percentile=60\n",
            "[CV 3/5; 72/120] END Modelo=RandomForestClassifier(random_state=20), Preprocessing__bow__ngram_range=(1, 1), Selection__percentile=60;, score=(train=1.000, test=0.500) total time=   0.6s\n",
            "[CV 4/5; 72/120] START Modelo=RandomForestClassifier(random_state=20), Preprocessing__bow__ngram_range=(1, 1), Selection__percentile=60\n",
            "[CV 4/5; 72/120] END Modelo=RandomForestClassifier(random_state=20), Preprocessing__bow__ngram_range=(1, 1), Selection__percentile=60;, score=(train=1.000, test=0.500) total time=   1.0s\n",
            "[CV 5/5; 72/120] START Modelo=RandomForestClassifier(random_state=20), Preprocessing__bow__ngram_range=(1, 1), Selection__percentile=60\n",
            "[CV 5/5; 72/120] END Modelo=RandomForestClassifier(random_state=20), Preprocessing__bow__ngram_range=(1, 1), Selection__percentile=60;, score=(train=1.000, test=0.500) total time=   0.8s\n",
            "[CV 1/5; 73/120] START Modelo=RandomForestClassifier(random_state=20), Preprocessing__bow__ngram_range=(1, 1), Selection__percentile=65\n"
          ]
        },
        {
          "output_type": "stream",
          "name": "stderr",
          "text": [
            "/usr/local/lib/python3.7/dist-packages/sklearn/feature_selection/_univariate_selection.py:113: RuntimeWarning: divide by zero encountered in true_divide\n",
            "  f = msb / msw\n"
          ]
        },
        {
          "output_type": "stream",
          "name": "stdout",
          "text": [
            "[CV 1/5; 73/120] END Modelo=RandomForestClassifier(random_state=20), Preprocessing__bow__ngram_range=(1, 1), Selection__percentile=65;, score=(train=1.000, test=0.500) total time=   0.9s\n",
            "[CV 2/5; 73/120] START Modelo=RandomForestClassifier(random_state=20), Preprocessing__bow__ngram_range=(1, 1), Selection__percentile=65\n"
          ]
        },
        {
          "output_type": "stream",
          "name": "stderr",
          "text": [
            "/usr/local/lib/python3.7/dist-packages/sklearn/feature_selection/_univariate_selection.py:113: RuntimeWarning: divide by zero encountered in true_divide\n",
            "  f = msb / msw\n"
          ]
        },
        {
          "output_type": "stream",
          "name": "stdout",
          "text": [
            "[CV 2/5; 73/120] END Modelo=RandomForestClassifier(random_state=20), Preprocessing__bow__ngram_range=(1, 1), Selection__percentile=65;, score=(train=1.000, test=0.333) total time=   1.2s\n",
            "[CV 3/5; 73/120] START Modelo=RandomForestClassifier(random_state=20), Preprocessing__bow__ngram_range=(1, 1), Selection__percentile=65\n",
            "[CV 3/5; 73/120] END Modelo=RandomForestClassifier(random_state=20), Preprocessing__bow__ngram_range=(1, 1), Selection__percentile=65;, score=(train=1.000, test=0.500) total time=   0.6s\n",
            "[CV 4/5; 73/120] START Modelo=RandomForestClassifier(random_state=20), Preprocessing__bow__ngram_range=(1, 1), Selection__percentile=65\n",
            "[CV 4/5; 73/120] END Modelo=RandomForestClassifier(random_state=20), Preprocessing__bow__ngram_range=(1, 1), Selection__percentile=65;, score=(train=1.000, test=0.500) total time=   0.9s\n",
            "[CV 5/5; 73/120] START Modelo=RandomForestClassifier(random_state=20), Preprocessing__bow__ngram_range=(1, 1), Selection__percentile=65\n",
            "[CV 5/5; 73/120] END Modelo=RandomForestClassifier(random_state=20), Preprocessing__bow__ngram_range=(1, 1), Selection__percentile=65;, score=(train=1.000, test=0.500) total time=   0.8s\n",
            "[CV 1/5; 74/120] START Modelo=RandomForestClassifier(random_state=20), Preprocessing__bow__ngram_range=(1, 1), Selection__percentile=70\n"
          ]
        },
        {
          "output_type": "stream",
          "name": "stderr",
          "text": [
            "/usr/local/lib/python3.7/dist-packages/sklearn/feature_selection/_univariate_selection.py:113: RuntimeWarning: divide by zero encountered in true_divide\n",
            "  f = msb / msw\n"
          ]
        },
        {
          "output_type": "stream",
          "name": "stdout",
          "text": [
            "[CV 1/5; 74/120] END Modelo=RandomForestClassifier(random_state=20), Preprocessing__bow__ngram_range=(1, 1), Selection__percentile=70;, score=(train=1.000, test=0.333) total time=   0.9s\n",
            "[CV 2/5; 74/120] START Modelo=RandomForestClassifier(random_state=20), Preprocessing__bow__ngram_range=(1, 1), Selection__percentile=70\n"
          ]
        },
        {
          "output_type": "stream",
          "name": "stderr",
          "text": [
            "/usr/local/lib/python3.7/dist-packages/sklearn/feature_selection/_univariate_selection.py:113: RuntimeWarning: divide by zero encountered in true_divide\n",
            "  f = msb / msw\n"
          ]
        },
        {
          "output_type": "stream",
          "name": "stdout",
          "text": [
            "[CV 2/5; 74/120] END Modelo=RandomForestClassifier(random_state=20), Preprocessing__bow__ngram_range=(1, 1), Selection__percentile=70;, score=(train=1.000, test=0.333) total time=   1.2s\n",
            "[CV 3/5; 74/120] START Modelo=RandomForestClassifier(random_state=20), Preprocessing__bow__ngram_range=(1, 1), Selection__percentile=70\n",
            "[CV 3/5; 74/120] END Modelo=RandomForestClassifier(random_state=20), Preprocessing__bow__ngram_range=(1, 1), Selection__percentile=70;, score=(train=1.000, test=0.500) total time=   0.6s\n",
            "[CV 4/5; 74/120] START Modelo=RandomForestClassifier(random_state=20), Preprocessing__bow__ngram_range=(1, 1), Selection__percentile=70\n",
            "[CV 4/5; 74/120] END Modelo=RandomForestClassifier(random_state=20), Preprocessing__bow__ngram_range=(1, 1), Selection__percentile=70;, score=(train=1.000, test=0.500) total time=   0.9s\n",
            "[CV 5/5; 74/120] START Modelo=RandomForestClassifier(random_state=20), Preprocessing__bow__ngram_range=(1, 1), Selection__percentile=70\n",
            "[CV 5/5; 74/120] END Modelo=RandomForestClassifier(random_state=20), Preprocessing__bow__ngram_range=(1, 1), Selection__percentile=70;, score=(train=1.000, test=0.500) total time=   0.8s\n",
            "[CV 1/5; 75/120] START Modelo=RandomForestClassifier(random_state=20), Preprocessing__bow__ngram_range=(1, 1), Selection__percentile=75\n"
          ]
        },
        {
          "output_type": "stream",
          "name": "stderr",
          "text": [
            "/usr/local/lib/python3.7/dist-packages/sklearn/feature_selection/_univariate_selection.py:113: RuntimeWarning: divide by zero encountered in true_divide\n",
            "  f = msb / msw\n"
          ]
        },
        {
          "output_type": "stream",
          "name": "stdout",
          "text": [
            "[CV 1/5; 75/120] END Modelo=RandomForestClassifier(random_state=20), Preprocessing__bow__ngram_range=(1, 1), Selection__percentile=75;, score=(train=1.000, test=0.500) total time=   0.9s\n",
            "[CV 2/5; 75/120] START Modelo=RandomForestClassifier(random_state=20), Preprocessing__bow__ngram_range=(1, 1), Selection__percentile=75\n"
          ]
        },
        {
          "output_type": "stream",
          "name": "stderr",
          "text": [
            "/usr/local/lib/python3.7/dist-packages/sklearn/feature_selection/_univariate_selection.py:113: RuntimeWarning: divide by zero encountered in true_divide\n",
            "  f = msb / msw\n"
          ]
        },
        {
          "output_type": "stream",
          "name": "stdout",
          "text": [
            "[CV 2/5; 75/120] END Modelo=RandomForestClassifier(random_state=20), Preprocessing__bow__ngram_range=(1, 1), Selection__percentile=75;, score=(train=1.000, test=0.333) total time=   1.2s\n",
            "[CV 3/5; 75/120] START Modelo=RandomForestClassifier(random_state=20), Preprocessing__bow__ngram_range=(1, 1), Selection__percentile=75\n",
            "[CV 3/5; 75/120] END Modelo=RandomForestClassifier(random_state=20), Preprocessing__bow__ngram_range=(1, 1), Selection__percentile=75;, score=(train=1.000, test=0.500) total time=   0.6s\n",
            "[CV 4/5; 75/120] START Modelo=RandomForestClassifier(random_state=20), Preprocessing__bow__ngram_range=(1, 1), Selection__percentile=75\n",
            "[CV 4/5; 75/120] END Modelo=RandomForestClassifier(random_state=20), Preprocessing__bow__ngram_range=(1, 1), Selection__percentile=75;, score=(train=1.000, test=0.500) total time=   1.0s\n",
            "[CV 5/5; 75/120] START Modelo=RandomForestClassifier(random_state=20), Preprocessing__bow__ngram_range=(1, 1), Selection__percentile=75\n",
            "[CV 5/5; 75/120] END Modelo=RandomForestClassifier(random_state=20), Preprocessing__bow__ngram_range=(1, 1), Selection__percentile=75;, score=(train=1.000, test=0.500) total time=   0.8s\n",
            "[CV 1/5; 76/120] START Modelo=RandomForestClassifier(random_state=20), Preprocessing__bow__ngram_range=(1, 1), Selection__percentile=80\n"
          ]
        },
        {
          "output_type": "stream",
          "name": "stderr",
          "text": [
            "/usr/local/lib/python3.7/dist-packages/sklearn/feature_selection/_univariate_selection.py:113: RuntimeWarning: divide by zero encountered in true_divide\n",
            "  f = msb / msw\n"
          ]
        },
        {
          "output_type": "stream",
          "name": "stdout",
          "text": [
            "[CV 1/5; 76/120] END Modelo=RandomForestClassifier(random_state=20), Preprocessing__bow__ngram_range=(1, 1), Selection__percentile=80;, score=(train=1.000, test=0.333) total time=   0.9s\n",
            "[CV 2/5; 76/120] START Modelo=RandomForestClassifier(random_state=20), Preprocessing__bow__ngram_range=(1, 1), Selection__percentile=80\n"
          ]
        },
        {
          "output_type": "stream",
          "name": "stderr",
          "text": [
            "/usr/local/lib/python3.7/dist-packages/sklearn/feature_selection/_univariate_selection.py:113: RuntimeWarning: divide by zero encountered in true_divide\n",
            "  f = msb / msw\n"
          ]
        },
        {
          "output_type": "stream",
          "name": "stdout",
          "text": [
            "[CV 2/5; 76/120] END Modelo=RandomForestClassifier(random_state=20), Preprocessing__bow__ngram_range=(1, 1), Selection__percentile=80;, score=(train=1.000, test=0.333) total time=   1.2s\n",
            "[CV 3/5; 76/120] START Modelo=RandomForestClassifier(random_state=20), Preprocessing__bow__ngram_range=(1, 1), Selection__percentile=80\n",
            "[CV 3/5; 76/120] END Modelo=RandomForestClassifier(random_state=20), Preprocessing__bow__ngram_range=(1, 1), Selection__percentile=80;, score=(train=1.000, test=0.500) total time=   0.6s\n",
            "[CV 4/5; 76/120] START Modelo=RandomForestClassifier(random_state=20), Preprocessing__bow__ngram_range=(1, 1), Selection__percentile=80\n",
            "[CV 4/5; 76/120] END Modelo=RandomForestClassifier(random_state=20), Preprocessing__bow__ngram_range=(1, 1), Selection__percentile=80;, score=(train=1.000, test=0.500) total time=   0.9s\n",
            "[CV 5/5; 76/120] START Modelo=RandomForestClassifier(random_state=20), Preprocessing__bow__ngram_range=(1, 1), Selection__percentile=80\n",
            "[CV 5/5; 76/120] END Modelo=RandomForestClassifier(random_state=20), Preprocessing__bow__ngram_range=(1, 1), Selection__percentile=80;, score=(train=1.000, test=0.500) total time=   0.8s\n",
            "[CV 1/5; 77/120] START Modelo=RandomForestClassifier(random_state=20), Preprocessing__bow__ngram_range=(1, 1), Selection__percentile=85\n"
          ]
        },
        {
          "output_type": "stream",
          "name": "stderr",
          "text": [
            "/usr/local/lib/python3.7/dist-packages/sklearn/feature_selection/_univariate_selection.py:113: RuntimeWarning: divide by zero encountered in true_divide\n",
            "  f = msb / msw\n"
          ]
        },
        {
          "output_type": "stream",
          "name": "stdout",
          "text": [
            "[CV 1/5; 77/120] END Modelo=RandomForestClassifier(random_state=20), Preprocessing__bow__ngram_range=(1, 1), Selection__percentile=85;, score=(train=1.000, test=0.333) total time=   0.9s\n",
            "[CV 2/5; 77/120] START Modelo=RandomForestClassifier(random_state=20), Preprocessing__bow__ngram_range=(1, 1), Selection__percentile=85\n"
          ]
        },
        {
          "output_type": "stream",
          "name": "stderr",
          "text": [
            "/usr/local/lib/python3.7/dist-packages/sklearn/feature_selection/_univariate_selection.py:113: RuntimeWarning: divide by zero encountered in true_divide\n",
            "  f = msb / msw\n"
          ]
        },
        {
          "output_type": "stream",
          "name": "stdout",
          "text": [
            "[CV 2/5; 77/120] END Modelo=RandomForestClassifier(random_state=20), Preprocessing__bow__ngram_range=(1, 1), Selection__percentile=85;, score=(train=1.000, test=0.333) total time=   1.2s\n",
            "[CV 3/5; 77/120] START Modelo=RandomForestClassifier(random_state=20), Preprocessing__bow__ngram_range=(1, 1), Selection__percentile=85\n",
            "[CV 3/5; 77/120] END Modelo=RandomForestClassifier(random_state=20), Preprocessing__bow__ngram_range=(1, 1), Selection__percentile=85;, score=(train=1.000, test=0.500) total time=   0.6s\n",
            "[CV 4/5; 77/120] START Modelo=RandomForestClassifier(random_state=20), Preprocessing__bow__ngram_range=(1, 1), Selection__percentile=85\n",
            "[CV 4/5; 77/120] END Modelo=RandomForestClassifier(random_state=20), Preprocessing__bow__ngram_range=(1, 1), Selection__percentile=85;, score=(train=1.000, test=0.500) total time=   0.9s\n",
            "[CV 5/5; 77/120] START Modelo=RandomForestClassifier(random_state=20), Preprocessing__bow__ngram_range=(1, 1), Selection__percentile=85\n",
            "[CV 5/5; 77/120] END Modelo=RandomForestClassifier(random_state=20), Preprocessing__bow__ngram_range=(1, 1), Selection__percentile=85;, score=(train=1.000, test=0.500) total time=   0.8s\n",
            "[CV 1/5; 78/120] START Modelo=RandomForestClassifier(random_state=20), Preprocessing__bow__ngram_range=(1, 1), Selection__percentile=90\n"
          ]
        },
        {
          "output_type": "stream",
          "name": "stderr",
          "text": [
            "/usr/local/lib/python3.7/dist-packages/sklearn/feature_selection/_univariate_selection.py:113: RuntimeWarning: divide by zero encountered in true_divide\n",
            "  f = msb / msw\n"
          ]
        },
        {
          "output_type": "stream",
          "name": "stdout",
          "text": [
            "[CV 1/5; 78/120] END Modelo=RandomForestClassifier(random_state=20), Preprocessing__bow__ngram_range=(1, 1), Selection__percentile=90;, score=(train=1.000, test=0.500) total time=   0.9s\n",
            "[CV 2/5; 78/120] START Modelo=RandomForestClassifier(random_state=20), Preprocessing__bow__ngram_range=(1, 1), Selection__percentile=90\n"
          ]
        },
        {
          "output_type": "stream",
          "name": "stderr",
          "text": [
            "/usr/local/lib/python3.7/dist-packages/sklearn/feature_selection/_univariate_selection.py:113: RuntimeWarning: divide by zero encountered in true_divide\n",
            "  f = msb / msw\n"
          ]
        },
        {
          "output_type": "stream",
          "name": "stdout",
          "text": [
            "[CV 2/5; 78/120] END Modelo=RandomForestClassifier(random_state=20), Preprocessing__bow__ngram_range=(1, 1), Selection__percentile=90;, score=(train=1.000, test=0.333) total time=   1.2s\n",
            "[CV 3/5; 78/120] START Modelo=RandomForestClassifier(random_state=20), Preprocessing__bow__ngram_range=(1, 1), Selection__percentile=90\n",
            "[CV 3/5; 78/120] END Modelo=RandomForestClassifier(random_state=20), Preprocessing__bow__ngram_range=(1, 1), Selection__percentile=90;, score=(train=1.000, test=0.333) total time=   0.6s\n",
            "[CV 4/5; 78/120] START Modelo=RandomForestClassifier(random_state=20), Preprocessing__bow__ngram_range=(1, 1), Selection__percentile=90\n",
            "[CV 4/5; 78/120] END Modelo=RandomForestClassifier(random_state=20), Preprocessing__bow__ngram_range=(1, 1), Selection__percentile=90;, score=(train=1.000, test=0.333) total time=   1.0s\n",
            "[CV 5/5; 78/120] START Modelo=RandomForestClassifier(random_state=20), Preprocessing__bow__ngram_range=(1, 1), Selection__percentile=90\n",
            "[CV 5/5; 78/120] END Modelo=RandomForestClassifier(random_state=20), Preprocessing__bow__ngram_range=(1, 1), Selection__percentile=90;, score=(train=1.000, test=0.500) total time=   0.8s\n",
            "[CV 1/5; 79/120] START Modelo=RandomForestClassifier(random_state=20), Preprocessing__bow__ngram_range=(1, 1), Selection__percentile=95\n"
          ]
        },
        {
          "output_type": "stream",
          "name": "stderr",
          "text": [
            "/usr/local/lib/python3.7/dist-packages/sklearn/feature_selection/_univariate_selection.py:113: RuntimeWarning: divide by zero encountered in true_divide\n",
            "  f = msb / msw\n"
          ]
        },
        {
          "output_type": "stream",
          "name": "stdout",
          "text": [
            "[CV 1/5; 79/120] END Modelo=RandomForestClassifier(random_state=20), Preprocessing__bow__ngram_range=(1, 1), Selection__percentile=95;, score=(train=1.000, test=0.333) total time=   0.9s\n",
            "[CV 2/5; 79/120] START Modelo=RandomForestClassifier(random_state=20), Preprocessing__bow__ngram_range=(1, 1), Selection__percentile=95\n"
          ]
        },
        {
          "output_type": "stream",
          "name": "stderr",
          "text": [
            "/usr/local/lib/python3.7/dist-packages/sklearn/feature_selection/_univariate_selection.py:113: RuntimeWarning: divide by zero encountered in true_divide\n",
            "  f = msb / msw\n"
          ]
        },
        {
          "output_type": "stream",
          "name": "stdout",
          "text": [
            "[CV 2/5; 79/120] END Modelo=RandomForestClassifier(random_state=20), Preprocessing__bow__ngram_range=(1, 1), Selection__percentile=95;, score=(train=1.000, test=0.333) total time=   1.2s\n",
            "[CV 3/5; 79/120] START Modelo=RandomForestClassifier(random_state=20), Preprocessing__bow__ngram_range=(1, 1), Selection__percentile=95\n",
            "[CV 3/5; 79/120] END Modelo=RandomForestClassifier(random_state=20), Preprocessing__bow__ngram_range=(1, 1), Selection__percentile=95;, score=(train=1.000, test=0.500) total time=   0.6s\n",
            "[CV 4/5; 79/120] START Modelo=RandomForestClassifier(random_state=20), Preprocessing__bow__ngram_range=(1, 1), Selection__percentile=95\n",
            "[CV 4/5; 79/120] END Modelo=RandomForestClassifier(random_state=20), Preprocessing__bow__ngram_range=(1, 1), Selection__percentile=95;, score=(train=1.000, test=0.333) total time=   1.0s\n",
            "[CV 5/5; 79/120] START Modelo=RandomForestClassifier(random_state=20), Preprocessing__bow__ngram_range=(1, 1), Selection__percentile=95\n",
            "[CV 5/5; 79/120] END Modelo=RandomForestClassifier(random_state=20), Preprocessing__bow__ngram_range=(1, 1), Selection__percentile=95;, score=(train=1.000, test=0.500) total time=   0.8s\n",
            "[CV 1/5; 80/120] START Modelo=RandomForestClassifier(random_state=20), Preprocessing__bow__ngram_range=(1, 1), Selection__percentile=100\n"
          ]
        },
        {
          "output_type": "stream",
          "name": "stderr",
          "text": [
            "/usr/local/lib/python3.7/dist-packages/sklearn/feature_selection/_univariate_selection.py:113: RuntimeWarning: divide by zero encountered in true_divide\n",
            "  f = msb / msw\n"
          ]
        },
        {
          "output_type": "stream",
          "name": "stdout",
          "text": [
            "[CV 1/5; 80/120] END Modelo=RandomForestClassifier(random_state=20), Preprocessing__bow__ngram_range=(1, 1), Selection__percentile=100;, score=(train=1.000, test=0.167) total time=   0.9s\n",
            "[CV 2/5; 80/120] START Modelo=RandomForestClassifier(random_state=20), Preprocessing__bow__ngram_range=(1, 1), Selection__percentile=100\n"
          ]
        },
        {
          "output_type": "stream",
          "name": "stderr",
          "text": [
            "/usr/local/lib/python3.7/dist-packages/sklearn/feature_selection/_univariate_selection.py:113: RuntimeWarning: divide by zero encountered in true_divide\n",
            "  f = msb / msw\n"
          ]
        },
        {
          "output_type": "stream",
          "name": "stdout",
          "text": [
            "[CV 2/5; 80/120] END Modelo=RandomForestClassifier(random_state=20), Preprocessing__bow__ngram_range=(1, 1), Selection__percentile=100;, score=(train=1.000, test=0.333) total time=   1.2s\n",
            "[CV 3/5; 80/120] START Modelo=RandomForestClassifier(random_state=20), Preprocessing__bow__ngram_range=(1, 1), Selection__percentile=100\n",
            "[CV 3/5; 80/120] END Modelo=RandomForestClassifier(random_state=20), Preprocessing__bow__ngram_range=(1, 1), Selection__percentile=100;, score=(train=1.000, test=0.333) total time=   0.6s\n",
            "[CV 4/5; 80/120] START Modelo=RandomForestClassifier(random_state=20), Preprocessing__bow__ngram_range=(1, 1), Selection__percentile=100\n",
            "[CV 4/5; 80/120] END Modelo=RandomForestClassifier(random_state=20), Preprocessing__bow__ngram_range=(1, 1), Selection__percentile=100;, score=(train=1.000, test=0.333) total time=   1.0s\n",
            "[CV 5/5; 80/120] START Modelo=RandomForestClassifier(random_state=20), Preprocessing__bow__ngram_range=(1, 1), Selection__percentile=100\n",
            "[CV 5/5; 80/120] END Modelo=RandomForestClassifier(random_state=20), Preprocessing__bow__ngram_range=(1, 1), Selection__percentile=100;, score=(train=1.000, test=0.500) total time=   0.8s\n",
            "[CV 1/5; 81/120] START Modelo=RandomForestClassifier(random_state=20), Preprocessing__bow__ngram_range=(1, 2), Selection__percentile=5\n"
          ]
        },
        {
          "output_type": "stream",
          "name": "stderr",
          "text": [
            "/usr/local/lib/python3.7/dist-packages/sklearn/feature_selection/_univariate_selection.py:113: RuntimeWarning: divide by zero encountered in true_divide\n",
            "  f = msb / msw\n"
          ]
        },
        {
          "output_type": "stream",
          "name": "stdout",
          "text": [
            "[CV 1/5; 81/120] END Modelo=RandomForestClassifier(random_state=20), Preprocessing__bow__ngram_range=(1, 2), Selection__percentile=5;, score=(train=1.000, test=0.333) total time=   1.1s\n",
            "[CV 2/5; 81/120] START Modelo=RandomForestClassifier(random_state=20), Preprocessing__bow__ngram_range=(1, 2), Selection__percentile=5\n"
          ]
        },
        {
          "output_type": "stream",
          "name": "stderr",
          "text": [
            "/usr/local/lib/python3.7/dist-packages/sklearn/feature_selection/_univariate_selection.py:113: RuntimeWarning: divide by zero encountered in true_divide\n",
            "  f = msb / msw\n"
          ]
        },
        {
          "output_type": "stream",
          "name": "stdout",
          "text": [
            "[CV 2/5; 81/120] END Modelo=RandomForestClassifier(random_state=20), Preprocessing__bow__ngram_range=(1, 2), Selection__percentile=5;, score=(train=1.000, test=0.333) total time=   1.3s\n",
            "[CV 3/5; 81/120] START Modelo=RandomForestClassifier(random_state=20), Preprocessing__bow__ngram_range=(1, 2), Selection__percentile=5\n",
            "[CV 3/5; 81/120] END Modelo=RandomForestClassifier(random_state=20), Preprocessing__bow__ngram_range=(1, 2), Selection__percentile=5;, score=(train=0.625, test=0.500) total time=   0.6s\n",
            "[CV 4/5; 81/120] START Modelo=RandomForestClassifier(random_state=20), Preprocessing__bow__ngram_range=(1, 2), Selection__percentile=5\n",
            "[CV 4/5; 81/120] END Modelo=RandomForestClassifier(random_state=20), Preprocessing__bow__ngram_range=(1, 2), Selection__percentile=5;, score=(train=1.000, test=0.500) total time=   1.0s\n",
            "[CV 5/5; 81/120] START Modelo=RandomForestClassifier(random_state=20), Preprocessing__bow__ngram_range=(1, 2), Selection__percentile=5\n",
            "[CV 5/5; 81/120] END Modelo=RandomForestClassifier(random_state=20), Preprocessing__bow__ngram_range=(1, 2), Selection__percentile=5;, score=(train=1.000, test=0.500) total time=   0.8s\n",
            "[CV 1/5; 82/120] START Modelo=RandomForestClassifier(random_state=20), Preprocessing__bow__ngram_range=(1, 2), Selection__percentile=10\n"
          ]
        },
        {
          "output_type": "stream",
          "name": "stderr",
          "text": [
            "/usr/local/lib/python3.7/dist-packages/sklearn/feature_selection/_univariate_selection.py:113: RuntimeWarning: divide by zero encountered in true_divide\n",
            "  f = msb / msw\n"
          ]
        },
        {
          "output_type": "stream",
          "name": "stdout",
          "text": [
            "[CV 1/5; 82/120] END Modelo=RandomForestClassifier(random_state=20), Preprocessing__bow__ngram_range=(1, 2), Selection__percentile=10;, score=(train=1.000, test=0.333) total time=   0.9s\n",
            "[CV 2/5; 82/120] START Modelo=RandomForestClassifier(random_state=20), Preprocessing__bow__ngram_range=(1, 2), Selection__percentile=10\n"
          ]
        },
        {
          "output_type": "stream",
          "name": "stderr",
          "text": [
            "/usr/local/lib/python3.7/dist-packages/sklearn/feature_selection/_univariate_selection.py:113: RuntimeWarning: divide by zero encountered in true_divide\n",
            "  f = msb / msw\n"
          ]
        },
        {
          "output_type": "stream",
          "name": "stdout",
          "text": [
            "[CV 2/5; 82/120] END Modelo=RandomForestClassifier(random_state=20), Preprocessing__bow__ngram_range=(1, 2), Selection__percentile=10;, score=(train=1.000, test=0.333) total time=   1.2s\n",
            "[CV 3/5; 82/120] START Modelo=RandomForestClassifier(random_state=20), Preprocessing__bow__ngram_range=(1, 2), Selection__percentile=10\n",
            "[CV 3/5; 82/120] END Modelo=RandomForestClassifier(random_state=20), Preprocessing__bow__ngram_range=(1, 2), Selection__percentile=10;, score=(train=0.625, test=0.500) total time=   0.6s\n",
            "[CV 4/5; 82/120] START Modelo=RandomForestClassifier(random_state=20), Preprocessing__bow__ngram_range=(1, 2), Selection__percentile=10\n",
            "[CV 4/5; 82/120] END Modelo=RandomForestClassifier(random_state=20), Preprocessing__bow__ngram_range=(1, 2), Selection__percentile=10;, score=(train=1.000, test=0.500) total time=   1.0s\n",
            "[CV 5/5; 82/120] START Modelo=RandomForestClassifier(random_state=20), Preprocessing__bow__ngram_range=(1, 2), Selection__percentile=10\n",
            "[CV 5/5; 82/120] END Modelo=RandomForestClassifier(random_state=20), Preprocessing__bow__ngram_range=(1, 2), Selection__percentile=10;, score=(train=1.000, test=0.500) total time=   0.8s\n",
            "[CV 1/5; 83/120] START Modelo=RandomForestClassifier(random_state=20), Preprocessing__bow__ngram_range=(1, 2), Selection__percentile=15\n"
          ]
        },
        {
          "output_type": "stream",
          "name": "stderr",
          "text": [
            "/usr/local/lib/python3.7/dist-packages/sklearn/feature_selection/_univariate_selection.py:113: RuntimeWarning: divide by zero encountered in true_divide\n",
            "  f = msb / msw\n"
          ]
        },
        {
          "output_type": "stream",
          "name": "stdout",
          "text": [
            "[CV 1/5; 83/120] END Modelo=RandomForestClassifier(random_state=20), Preprocessing__bow__ngram_range=(1, 2), Selection__percentile=15;, score=(train=1.000, test=0.500) total time=   1.0s\n",
            "[CV 2/5; 83/120] START Modelo=RandomForestClassifier(random_state=20), Preprocessing__bow__ngram_range=(1, 2), Selection__percentile=15\n"
          ]
        },
        {
          "output_type": "stream",
          "name": "stderr",
          "text": [
            "/usr/local/lib/python3.7/dist-packages/sklearn/feature_selection/_univariate_selection.py:113: RuntimeWarning: divide by zero encountered in true_divide\n",
            "  f = msb / msw\n"
          ]
        },
        {
          "output_type": "stream",
          "name": "stdout",
          "text": [
            "[CV 2/5; 83/120] END Modelo=RandomForestClassifier(random_state=20), Preprocessing__bow__ngram_range=(1, 2), Selection__percentile=15;, score=(train=1.000, test=0.333) total time=   1.2s\n",
            "[CV 3/5; 83/120] START Modelo=RandomForestClassifier(random_state=20), Preprocessing__bow__ngram_range=(1, 2), Selection__percentile=15\n",
            "[CV 3/5; 83/120] END Modelo=RandomForestClassifier(random_state=20), Preprocessing__bow__ngram_range=(1, 2), Selection__percentile=15;, score=(train=1.000, test=0.500) total time=   0.6s\n",
            "[CV 4/5; 83/120] START Modelo=RandomForestClassifier(random_state=20), Preprocessing__bow__ngram_range=(1, 2), Selection__percentile=15\n",
            "[CV 4/5; 83/120] END Modelo=RandomForestClassifier(random_state=20), Preprocessing__bow__ngram_range=(1, 2), Selection__percentile=15;, score=(train=1.000, test=0.500) total time=   1.0s\n",
            "[CV 5/5; 83/120] START Modelo=RandomForestClassifier(random_state=20), Preprocessing__bow__ngram_range=(1, 2), Selection__percentile=15\n",
            "[CV 5/5; 83/120] END Modelo=RandomForestClassifier(random_state=20), Preprocessing__bow__ngram_range=(1, 2), Selection__percentile=15;, score=(train=1.000, test=0.500) total time=   0.8s\n",
            "[CV 1/5; 84/120] START Modelo=RandomForestClassifier(random_state=20), Preprocessing__bow__ngram_range=(1, 2), Selection__percentile=20\n"
          ]
        },
        {
          "output_type": "stream",
          "name": "stderr",
          "text": [
            "/usr/local/lib/python3.7/dist-packages/sklearn/feature_selection/_univariate_selection.py:113: RuntimeWarning: divide by zero encountered in true_divide\n",
            "  f = msb / msw\n"
          ]
        },
        {
          "output_type": "stream",
          "name": "stdout",
          "text": [
            "[CV 1/5; 84/120] END Modelo=RandomForestClassifier(random_state=20), Preprocessing__bow__ngram_range=(1, 2), Selection__percentile=20;, score=(train=1.000, test=0.333) total time=   0.9s\n",
            "[CV 2/5; 84/120] START Modelo=RandomForestClassifier(random_state=20), Preprocessing__bow__ngram_range=(1, 2), Selection__percentile=20\n"
          ]
        },
        {
          "output_type": "stream",
          "name": "stderr",
          "text": [
            "/usr/local/lib/python3.7/dist-packages/sklearn/feature_selection/_univariate_selection.py:113: RuntimeWarning: divide by zero encountered in true_divide\n",
            "  f = msb / msw\n"
          ]
        },
        {
          "output_type": "stream",
          "name": "stdout",
          "text": [
            "[CV 2/5; 84/120] END Modelo=RandomForestClassifier(random_state=20), Preprocessing__bow__ngram_range=(1, 2), Selection__percentile=20;, score=(train=1.000, test=0.333) total time=   1.3s\n",
            "[CV 3/5; 84/120] START Modelo=RandomForestClassifier(random_state=20), Preprocessing__bow__ngram_range=(1, 2), Selection__percentile=20\n",
            "[CV 3/5; 84/120] END Modelo=RandomForestClassifier(random_state=20), Preprocessing__bow__ngram_range=(1, 2), Selection__percentile=20;, score=(train=1.000, test=0.500) total time=   0.6s\n",
            "[CV 4/5; 84/120] START Modelo=RandomForestClassifier(random_state=20), Preprocessing__bow__ngram_range=(1, 2), Selection__percentile=20\n",
            "[CV 4/5; 84/120] END Modelo=RandomForestClassifier(random_state=20), Preprocessing__bow__ngram_range=(1, 2), Selection__percentile=20;, score=(train=1.000, test=0.500) total time=   1.0s\n",
            "[CV 5/5; 84/120] START Modelo=RandomForestClassifier(random_state=20), Preprocessing__bow__ngram_range=(1, 2), Selection__percentile=20\n",
            "[CV 5/5; 84/120] END Modelo=RandomForestClassifier(random_state=20), Preprocessing__bow__ngram_range=(1, 2), Selection__percentile=20;, score=(train=1.000, test=0.500) total time=   0.8s\n",
            "[CV 1/5; 85/120] START Modelo=RandomForestClassifier(random_state=20), Preprocessing__bow__ngram_range=(1, 2), Selection__percentile=25\n"
          ]
        },
        {
          "output_type": "stream",
          "name": "stderr",
          "text": [
            "/usr/local/lib/python3.7/dist-packages/sklearn/feature_selection/_univariate_selection.py:113: RuntimeWarning: divide by zero encountered in true_divide\n",
            "  f = msb / msw\n"
          ]
        },
        {
          "output_type": "stream",
          "name": "stdout",
          "text": [
            "[CV 1/5; 85/120] END Modelo=RandomForestClassifier(random_state=20), Preprocessing__bow__ngram_range=(1, 2), Selection__percentile=25;, score=(train=1.000, test=0.500) total time=   1.0s\n",
            "[CV 2/5; 85/120] START Modelo=RandomForestClassifier(random_state=20), Preprocessing__bow__ngram_range=(1, 2), Selection__percentile=25\n"
          ]
        },
        {
          "output_type": "stream",
          "name": "stderr",
          "text": [
            "/usr/local/lib/python3.7/dist-packages/sklearn/feature_selection/_univariate_selection.py:113: RuntimeWarning: divide by zero encountered in true_divide\n",
            "  f = msb / msw\n"
          ]
        },
        {
          "output_type": "stream",
          "name": "stdout",
          "text": [
            "[CV 2/5; 85/120] END Modelo=RandomForestClassifier(random_state=20), Preprocessing__bow__ngram_range=(1, 2), Selection__percentile=25;, score=(train=1.000, test=0.333) total time=   1.2s\n",
            "[CV 3/5; 85/120] START Modelo=RandomForestClassifier(random_state=20), Preprocessing__bow__ngram_range=(1, 2), Selection__percentile=25\n",
            "[CV 3/5; 85/120] END Modelo=RandomForestClassifier(random_state=20), Preprocessing__bow__ngram_range=(1, 2), Selection__percentile=25;, score=(train=1.000, test=0.333) total time=   0.6s\n",
            "[CV 4/5; 85/120] START Modelo=RandomForestClassifier(random_state=20), Preprocessing__bow__ngram_range=(1, 2), Selection__percentile=25\n",
            "[CV 4/5; 85/120] END Modelo=RandomForestClassifier(random_state=20), Preprocessing__bow__ngram_range=(1, 2), Selection__percentile=25;, score=(train=1.000, test=0.500) total time=   1.0s\n",
            "[CV 5/5; 85/120] START Modelo=RandomForestClassifier(random_state=20), Preprocessing__bow__ngram_range=(1, 2), Selection__percentile=25\n",
            "[CV 5/5; 85/120] END Modelo=RandomForestClassifier(random_state=20), Preprocessing__bow__ngram_range=(1, 2), Selection__percentile=25;, score=(train=1.000, test=0.500) total time=   0.8s\n",
            "[CV 1/5; 86/120] START Modelo=RandomForestClassifier(random_state=20), Preprocessing__bow__ngram_range=(1, 2), Selection__percentile=30\n"
          ]
        },
        {
          "output_type": "stream",
          "name": "stderr",
          "text": [
            "/usr/local/lib/python3.7/dist-packages/sklearn/feature_selection/_univariate_selection.py:113: RuntimeWarning: divide by zero encountered in true_divide\n",
            "  f = msb / msw\n"
          ]
        },
        {
          "output_type": "stream",
          "name": "stdout",
          "text": [
            "[CV 1/5; 86/120] END Modelo=RandomForestClassifier(random_state=20), Preprocessing__bow__ngram_range=(1, 2), Selection__percentile=30;, score=(train=1.000, test=0.500) total time=   1.0s\n",
            "[CV 2/5; 86/120] START Modelo=RandomForestClassifier(random_state=20), Preprocessing__bow__ngram_range=(1, 2), Selection__percentile=30\n"
          ]
        },
        {
          "output_type": "stream",
          "name": "stderr",
          "text": [
            "/usr/local/lib/python3.7/dist-packages/sklearn/feature_selection/_univariate_selection.py:113: RuntimeWarning: divide by zero encountered in true_divide\n",
            "  f = msb / msw\n"
          ]
        },
        {
          "output_type": "stream",
          "name": "stdout",
          "text": [
            "[CV 2/5; 86/120] END Modelo=RandomForestClassifier(random_state=20), Preprocessing__bow__ngram_range=(1, 2), Selection__percentile=30;, score=(train=1.000, test=0.333) total time=   1.2s\n",
            "[CV 3/5; 86/120] START Modelo=RandomForestClassifier(random_state=20), Preprocessing__bow__ngram_range=(1, 2), Selection__percentile=30\n",
            "[CV 3/5; 86/120] END Modelo=RandomForestClassifier(random_state=20), Preprocessing__bow__ngram_range=(1, 2), Selection__percentile=30;, score=(train=1.000, test=0.500) total time=   0.6s\n",
            "[CV 4/5; 86/120] START Modelo=RandomForestClassifier(random_state=20), Preprocessing__bow__ngram_range=(1, 2), Selection__percentile=30\n",
            "[CV 4/5; 86/120] END Modelo=RandomForestClassifier(random_state=20), Preprocessing__bow__ngram_range=(1, 2), Selection__percentile=30;, score=(train=1.000, test=0.500) total time=   1.0s\n",
            "[CV 5/5; 86/120] START Modelo=RandomForestClassifier(random_state=20), Preprocessing__bow__ngram_range=(1, 2), Selection__percentile=30\n",
            "[CV 5/5; 86/120] END Modelo=RandomForestClassifier(random_state=20), Preprocessing__bow__ngram_range=(1, 2), Selection__percentile=30;, score=(train=1.000, test=0.500) total time=   0.8s\n",
            "[CV 1/5; 87/120] START Modelo=RandomForestClassifier(random_state=20), Preprocessing__bow__ngram_range=(1, 2), Selection__percentile=35\n"
          ]
        },
        {
          "output_type": "stream",
          "name": "stderr",
          "text": [
            "/usr/local/lib/python3.7/dist-packages/sklearn/feature_selection/_univariate_selection.py:113: RuntimeWarning: divide by zero encountered in true_divide\n",
            "  f = msb / msw\n"
          ]
        },
        {
          "output_type": "stream",
          "name": "stdout",
          "text": [
            "[CV 1/5; 87/120] END Modelo=RandomForestClassifier(random_state=20), Preprocessing__bow__ngram_range=(1, 2), Selection__percentile=35;, score=(train=1.000, test=0.167) total time=   1.0s\n",
            "[CV 2/5; 87/120] START Modelo=RandomForestClassifier(random_state=20), Preprocessing__bow__ngram_range=(1, 2), Selection__percentile=35\n"
          ]
        },
        {
          "output_type": "stream",
          "name": "stderr",
          "text": [
            "/usr/local/lib/python3.7/dist-packages/sklearn/feature_selection/_univariate_selection.py:113: RuntimeWarning: divide by zero encountered in true_divide\n",
            "  f = msb / msw\n"
          ]
        },
        {
          "output_type": "stream",
          "name": "stdout",
          "text": [
            "[CV 2/5; 87/120] END Modelo=RandomForestClassifier(random_state=20), Preprocessing__bow__ngram_range=(1, 2), Selection__percentile=35;, score=(train=1.000, test=0.333) total time=   1.2s\n",
            "[CV 3/5; 87/120] START Modelo=RandomForestClassifier(random_state=20), Preprocessing__bow__ngram_range=(1, 2), Selection__percentile=35\n",
            "[CV 3/5; 87/120] END Modelo=RandomForestClassifier(random_state=20), Preprocessing__bow__ngram_range=(1, 2), Selection__percentile=35;, score=(train=1.000, test=0.500) total time=   0.6s\n",
            "[CV 4/5; 87/120] START Modelo=RandomForestClassifier(random_state=20), Preprocessing__bow__ngram_range=(1, 2), Selection__percentile=35\n",
            "[CV 4/5; 87/120] END Modelo=RandomForestClassifier(random_state=20), Preprocessing__bow__ngram_range=(1, 2), Selection__percentile=35;, score=(train=1.000, test=0.500) total time=   1.0s\n",
            "[CV 5/5; 87/120] START Modelo=RandomForestClassifier(random_state=20), Preprocessing__bow__ngram_range=(1, 2), Selection__percentile=35\n",
            "[CV 5/5; 87/120] END Modelo=RandomForestClassifier(random_state=20), Preprocessing__bow__ngram_range=(1, 2), Selection__percentile=35;, score=(train=1.000, test=0.500) total time=   0.8s\n",
            "[CV 1/5; 88/120] START Modelo=RandomForestClassifier(random_state=20), Preprocessing__bow__ngram_range=(1, 2), Selection__percentile=40\n"
          ]
        },
        {
          "output_type": "stream",
          "name": "stderr",
          "text": [
            "/usr/local/lib/python3.7/dist-packages/sklearn/feature_selection/_univariate_selection.py:113: RuntimeWarning: divide by zero encountered in true_divide\n",
            "  f = msb / msw\n"
          ]
        },
        {
          "output_type": "stream",
          "name": "stdout",
          "text": [
            "[CV 1/5; 88/120] END Modelo=RandomForestClassifier(random_state=20), Preprocessing__bow__ngram_range=(1, 2), Selection__percentile=40;, score=(train=1.000, test=0.333) total time=   0.9s\n",
            "[CV 2/5; 88/120] START Modelo=RandomForestClassifier(random_state=20), Preprocessing__bow__ngram_range=(1, 2), Selection__percentile=40\n"
          ]
        },
        {
          "output_type": "stream",
          "name": "stderr",
          "text": [
            "/usr/local/lib/python3.7/dist-packages/sklearn/feature_selection/_univariate_selection.py:113: RuntimeWarning: divide by zero encountered in true_divide\n",
            "  f = msb / msw\n"
          ]
        },
        {
          "output_type": "stream",
          "name": "stdout",
          "text": [
            "[CV 2/5; 88/120] END Modelo=RandomForestClassifier(random_state=20), Preprocessing__bow__ngram_range=(1, 2), Selection__percentile=40;, score=(train=1.000, test=0.333) total time=   1.3s\n",
            "[CV 3/5; 88/120] START Modelo=RandomForestClassifier(random_state=20), Preprocessing__bow__ngram_range=(1, 2), Selection__percentile=40\n",
            "[CV 3/5; 88/120] END Modelo=RandomForestClassifier(random_state=20), Preprocessing__bow__ngram_range=(1, 2), Selection__percentile=40;, score=(train=1.000, test=0.500) total time=   0.6s\n",
            "[CV 4/5; 88/120] START Modelo=RandomForestClassifier(random_state=20), Preprocessing__bow__ngram_range=(1, 2), Selection__percentile=40\n",
            "[CV 4/5; 88/120] END Modelo=RandomForestClassifier(random_state=20), Preprocessing__bow__ngram_range=(1, 2), Selection__percentile=40;, score=(train=1.000, test=0.500) total time=   1.0s\n",
            "[CV 5/5; 88/120] START Modelo=RandomForestClassifier(random_state=20), Preprocessing__bow__ngram_range=(1, 2), Selection__percentile=40\n",
            "[CV 5/5; 88/120] END Modelo=RandomForestClassifier(random_state=20), Preprocessing__bow__ngram_range=(1, 2), Selection__percentile=40;, score=(train=1.000, test=0.500) total time=   0.8s\n",
            "[CV 1/5; 89/120] START Modelo=RandomForestClassifier(random_state=20), Preprocessing__bow__ngram_range=(1, 2), Selection__percentile=45\n"
          ]
        },
        {
          "output_type": "stream",
          "name": "stderr",
          "text": [
            "/usr/local/lib/python3.7/dist-packages/sklearn/feature_selection/_univariate_selection.py:113: RuntimeWarning: divide by zero encountered in true_divide\n",
            "  f = msb / msw\n"
          ]
        },
        {
          "output_type": "stream",
          "name": "stdout",
          "text": [
            "[CV 1/5; 89/120] END Modelo=RandomForestClassifier(random_state=20), Preprocessing__bow__ngram_range=(1, 2), Selection__percentile=45;, score=(train=1.000, test=0.333) total time=   1.0s\n",
            "[CV 2/5; 89/120] START Modelo=RandomForestClassifier(random_state=20), Preprocessing__bow__ngram_range=(1, 2), Selection__percentile=45\n"
          ]
        },
        {
          "output_type": "stream",
          "name": "stderr",
          "text": [
            "/usr/local/lib/python3.7/dist-packages/sklearn/feature_selection/_univariate_selection.py:113: RuntimeWarning: divide by zero encountered in true_divide\n",
            "  f = msb / msw\n"
          ]
        },
        {
          "output_type": "stream",
          "name": "stdout",
          "text": [
            "[CV 2/5; 89/120] END Modelo=RandomForestClassifier(random_state=20), Preprocessing__bow__ngram_range=(1, 2), Selection__percentile=45;, score=(train=1.000, test=0.333) total time=   1.3s\n",
            "[CV 3/5; 89/120] START Modelo=RandomForestClassifier(random_state=20), Preprocessing__bow__ngram_range=(1, 2), Selection__percentile=45\n",
            "[CV 3/5; 89/120] END Modelo=RandomForestClassifier(random_state=20), Preprocessing__bow__ngram_range=(1, 2), Selection__percentile=45;, score=(train=1.000, test=0.500) total time=   0.6s\n",
            "[CV 4/5; 89/120] START Modelo=RandomForestClassifier(random_state=20), Preprocessing__bow__ngram_range=(1, 2), Selection__percentile=45\n",
            "[CV 4/5; 89/120] END Modelo=RandomForestClassifier(random_state=20), Preprocessing__bow__ngram_range=(1, 2), Selection__percentile=45;, score=(train=1.000, test=0.500) total time=   1.0s\n",
            "[CV 5/5; 89/120] START Modelo=RandomForestClassifier(random_state=20), Preprocessing__bow__ngram_range=(1, 2), Selection__percentile=45\n",
            "[CV 5/5; 89/120] END Modelo=RandomForestClassifier(random_state=20), Preprocessing__bow__ngram_range=(1, 2), Selection__percentile=45;, score=(train=1.000, test=0.500) total time=   0.9s\n",
            "[CV 1/5; 90/120] START Modelo=RandomForestClassifier(random_state=20), Preprocessing__bow__ngram_range=(1, 2), Selection__percentile=50\n"
          ]
        },
        {
          "output_type": "stream",
          "name": "stderr",
          "text": [
            "/usr/local/lib/python3.7/dist-packages/sklearn/feature_selection/_univariate_selection.py:113: RuntimeWarning: divide by zero encountered in true_divide\n",
            "  f = msb / msw\n"
          ]
        },
        {
          "output_type": "stream",
          "name": "stdout",
          "text": [
            "[CV 1/5; 90/120] END Modelo=RandomForestClassifier(random_state=20), Preprocessing__bow__ngram_range=(1, 2), Selection__percentile=50;, score=(train=1.000, test=0.333) total time=   1.0s\n",
            "[CV 2/5; 90/120] START Modelo=RandomForestClassifier(random_state=20), Preprocessing__bow__ngram_range=(1, 2), Selection__percentile=50\n"
          ]
        },
        {
          "output_type": "stream",
          "name": "stderr",
          "text": [
            "/usr/local/lib/python3.7/dist-packages/sklearn/feature_selection/_univariate_selection.py:113: RuntimeWarning: divide by zero encountered in true_divide\n",
            "  f = msb / msw\n"
          ]
        },
        {
          "output_type": "stream",
          "name": "stdout",
          "text": [
            "[CV 2/5; 90/120] END Modelo=RandomForestClassifier(random_state=20), Preprocessing__bow__ngram_range=(1, 2), Selection__percentile=50;, score=(train=1.000, test=0.333) total time=   1.2s\n",
            "[CV 3/5; 90/120] START Modelo=RandomForestClassifier(random_state=20), Preprocessing__bow__ngram_range=(1, 2), Selection__percentile=50\n",
            "[CV 3/5; 90/120] END Modelo=RandomForestClassifier(random_state=20), Preprocessing__bow__ngram_range=(1, 2), Selection__percentile=50;, score=(train=1.000, test=0.500) total time=   0.6s\n",
            "[CV 4/5; 90/120] START Modelo=RandomForestClassifier(random_state=20), Preprocessing__bow__ngram_range=(1, 2), Selection__percentile=50\n",
            "[CV 4/5; 90/120] END Modelo=RandomForestClassifier(random_state=20), Preprocessing__bow__ngram_range=(1, 2), Selection__percentile=50;, score=(train=1.000, test=0.500) total time=   1.0s\n",
            "[CV 5/5; 90/120] START Modelo=RandomForestClassifier(random_state=20), Preprocessing__bow__ngram_range=(1, 2), Selection__percentile=50\n",
            "[CV 5/5; 90/120] END Modelo=RandomForestClassifier(random_state=20), Preprocessing__bow__ngram_range=(1, 2), Selection__percentile=50;, score=(train=1.000, test=0.500) total time=   0.8s\n",
            "[CV 1/5; 91/120] START Modelo=RandomForestClassifier(random_state=20), Preprocessing__bow__ngram_range=(1, 2), Selection__percentile=55\n"
          ]
        },
        {
          "output_type": "stream",
          "name": "stderr",
          "text": [
            "/usr/local/lib/python3.7/dist-packages/sklearn/feature_selection/_univariate_selection.py:113: RuntimeWarning: divide by zero encountered in true_divide\n",
            "  f = msb / msw\n"
          ]
        },
        {
          "output_type": "stream",
          "name": "stdout",
          "text": [
            "[CV 1/5; 91/120] END Modelo=RandomForestClassifier(random_state=20), Preprocessing__bow__ngram_range=(1, 2), Selection__percentile=55;, score=(train=1.000, test=0.333) total time=   1.0s\n",
            "[CV 2/5; 91/120] START Modelo=RandomForestClassifier(random_state=20), Preprocessing__bow__ngram_range=(1, 2), Selection__percentile=55\n"
          ]
        },
        {
          "output_type": "stream",
          "name": "stderr",
          "text": [
            "/usr/local/lib/python3.7/dist-packages/sklearn/feature_selection/_univariate_selection.py:113: RuntimeWarning: divide by zero encountered in true_divide\n",
            "  f = msb / msw\n"
          ]
        },
        {
          "output_type": "stream",
          "name": "stdout",
          "text": [
            "[CV 2/5; 91/120] END Modelo=RandomForestClassifier(random_state=20), Preprocessing__bow__ngram_range=(1, 2), Selection__percentile=55;, score=(train=1.000, test=0.333) total time=   1.3s\n",
            "[CV 3/5; 91/120] START Modelo=RandomForestClassifier(random_state=20), Preprocessing__bow__ngram_range=(1, 2), Selection__percentile=55\n",
            "[CV 3/5; 91/120] END Modelo=RandomForestClassifier(random_state=20), Preprocessing__bow__ngram_range=(1, 2), Selection__percentile=55;, score=(train=1.000, test=0.500) total time=   0.6s\n",
            "[CV 4/5; 91/120] START Modelo=RandomForestClassifier(random_state=20), Preprocessing__bow__ngram_range=(1, 2), Selection__percentile=55\n",
            "[CV 4/5; 91/120] END Modelo=RandomForestClassifier(random_state=20), Preprocessing__bow__ngram_range=(1, 2), Selection__percentile=55;, score=(train=1.000, test=0.500) total time=   1.0s\n",
            "[CV 5/5; 91/120] START Modelo=RandomForestClassifier(random_state=20), Preprocessing__bow__ngram_range=(1, 2), Selection__percentile=55\n",
            "[CV 5/5; 91/120] END Modelo=RandomForestClassifier(random_state=20), Preprocessing__bow__ngram_range=(1, 2), Selection__percentile=55;, score=(train=1.000, test=0.500) total time=   0.8s\n",
            "[CV 1/5; 92/120] START Modelo=RandomForestClassifier(random_state=20), Preprocessing__bow__ngram_range=(1, 2), Selection__percentile=60\n"
          ]
        },
        {
          "output_type": "stream",
          "name": "stderr",
          "text": [
            "/usr/local/lib/python3.7/dist-packages/sklearn/feature_selection/_univariate_selection.py:113: RuntimeWarning: divide by zero encountered in true_divide\n",
            "  f = msb / msw\n"
          ]
        },
        {
          "output_type": "stream",
          "name": "stdout",
          "text": [
            "[CV 1/5; 92/120] END Modelo=RandomForestClassifier(random_state=20), Preprocessing__bow__ngram_range=(1, 2), Selection__percentile=60;, score=(train=1.000, test=0.333) total time=   0.9s\n",
            "[CV 2/5; 92/120] START Modelo=RandomForestClassifier(random_state=20), Preprocessing__bow__ngram_range=(1, 2), Selection__percentile=60\n"
          ]
        },
        {
          "output_type": "stream",
          "name": "stderr",
          "text": [
            "/usr/local/lib/python3.7/dist-packages/sklearn/feature_selection/_univariate_selection.py:113: RuntimeWarning: divide by zero encountered in true_divide\n",
            "  f = msb / msw\n"
          ]
        },
        {
          "output_type": "stream",
          "name": "stdout",
          "text": [
            "[CV 2/5; 92/120] END Modelo=RandomForestClassifier(random_state=20), Preprocessing__bow__ngram_range=(1, 2), Selection__percentile=60;, score=(train=1.000, test=0.333) total time=   1.2s\n",
            "[CV 3/5; 92/120] START Modelo=RandomForestClassifier(random_state=20), Preprocessing__bow__ngram_range=(1, 2), Selection__percentile=60\n",
            "[CV 3/5; 92/120] END Modelo=RandomForestClassifier(random_state=20), Preprocessing__bow__ngram_range=(1, 2), Selection__percentile=60;, score=(train=1.000, test=0.333) total time=   0.6s\n",
            "[CV 4/5; 92/120] START Modelo=RandomForestClassifier(random_state=20), Preprocessing__bow__ngram_range=(1, 2), Selection__percentile=60\n",
            "[CV 4/5; 92/120] END Modelo=RandomForestClassifier(random_state=20), Preprocessing__bow__ngram_range=(1, 2), Selection__percentile=60;, score=(train=1.000, test=0.500) total time=   1.0s\n",
            "[CV 5/5; 92/120] START Modelo=RandomForestClassifier(random_state=20), Preprocessing__bow__ngram_range=(1, 2), Selection__percentile=60\n",
            "[CV 5/5; 92/120] END Modelo=RandomForestClassifier(random_state=20), Preprocessing__bow__ngram_range=(1, 2), Selection__percentile=60;, score=(train=1.000, test=0.500) total time=   0.8s\n",
            "[CV 1/5; 93/120] START Modelo=RandomForestClassifier(random_state=20), Preprocessing__bow__ngram_range=(1, 2), Selection__percentile=65\n"
          ]
        },
        {
          "output_type": "stream",
          "name": "stderr",
          "text": [
            "/usr/local/lib/python3.7/dist-packages/sklearn/feature_selection/_univariate_selection.py:113: RuntimeWarning: divide by zero encountered in true_divide\n",
            "  f = msb / msw\n"
          ]
        },
        {
          "output_type": "stream",
          "name": "stdout",
          "text": [
            "[CV 1/5; 93/120] END Modelo=RandomForestClassifier(random_state=20), Preprocessing__bow__ngram_range=(1, 2), Selection__percentile=65;, score=(train=1.000, test=0.333) total time=   1.0s\n",
            "[CV 2/5; 93/120] START Modelo=RandomForestClassifier(random_state=20), Preprocessing__bow__ngram_range=(1, 2), Selection__percentile=65\n"
          ]
        },
        {
          "output_type": "stream",
          "name": "stderr",
          "text": [
            "/usr/local/lib/python3.7/dist-packages/sklearn/feature_selection/_univariate_selection.py:113: RuntimeWarning: divide by zero encountered in true_divide\n",
            "  f = msb / msw\n"
          ]
        },
        {
          "output_type": "stream",
          "name": "stdout",
          "text": [
            "[CV 2/5; 93/120] END Modelo=RandomForestClassifier(random_state=20), Preprocessing__bow__ngram_range=(1, 2), Selection__percentile=65;, score=(train=1.000, test=0.333) total time=   1.3s\n",
            "[CV 3/5; 93/120] START Modelo=RandomForestClassifier(random_state=20), Preprocessing__bow__ngram_range=(1, 2), Selection__percentile=65\n",
            "[CV 3/5; 93/120] END Modelo=RandomForestClassifier(random_state=20), Preprocessing__bow__ngram_range=(1, 2), Selection__percentile=65;, score=(train=1.000, test=0.500) total time=   0.6s\n",
            "[CV 4/5; 93/120] START Modelo=RandomForestClassifier(random_state=20), Preprocessing__bow__ngram_range=(1, 2), Selection__percentile=65\n",
            "[CV 4/5; 93/120] END Modelo=RandomForestClassifier(random_state=20), Preprocessing__bow__ngram_range=(1, 2), Selection__percentile=65;, score=(train=1.000, test=0.500) total time=   1.0s\n",
            "[CV 5/5; 93/120] START Modelo=RandomForestClassifier(random_state=20), Preprocessing__bow__ngram_range=(1, 2), Selection__percentile=65\n",
            "[CV 5/5; 93/120] END Modelo=RandomForestClassifier(random_state=20), Preprocessing__bow__ngram_range=(1, 2), Selection__percentile=65;, score=(train=1.000, test=0.500) total time=   0.8s\n",
            "[CV 1/5; 94/120] START Modelo=RandomForestClassifier(random_state=20), Preprocessing__bow__ngram_range=(1, 2), Selection__percentile=70\n"
          ]
        },
        {
          "output_type": "stream",
          "name": "stderr",
          "text": [
            "/usr/local/lib/python3.7/dist-packages/sklearn/feature_selection/_univariate_selection.py:113: RuntimeWarning: divide by zero encountered in true_divide\n",
            "  f = msb / msw\n"
          ]
        },
        {
          "output_type": "stream",
          "name": "stdout",
          "text": [
            "[CV 1/5; 94/120] END Modelo=RandomForestClassifier(random_state=20), Preprocessing__bow__ngram_range=(1, 2), Selection__percentile=70;, score=(train=1.000, test=0.333) total time=   1.0s\n",
            "[CV 2/5; 94/120] START Modelo=RandomForestClassifier(random_state=20), Preprocessing__bow__ngram_range=(1, 2), Selection__percentile=70\n"
          ]
        },
        {
          "output_type": "stream",
          "name": "stderr",
          "text": [
            "/usr/local/lib/python3.7/dist-packages/sklearn/feature_selection/_univariate_selection.py:113: RuntimeWarning: divide by zero encountered in true_divide\n",
            "  f = msb / msw\n"
          ]
        },
        {
          "output_type": "stream",
          "name": "stdout",
          "text": [
            "[CV 2/5; 94/120] END Modelo=RandomForestClassifier(random_state=20), Preprocessing__bow__ngram_range=(1, 2), Selection__percentile=70;, score=(train=1.000, test=0.333) total time=   1.3s\n",
            "[CV 3/5; 94/120] START Modelo=RandomForestClassifier(random_state=20), Preprocessing__bow__ngram_range=(1, 2), Selection__percentile=70\n",
            "[CV 3/5; 94/120] END Modelo=RandomForestClassifier(random_state=20), Preprocessing__bow__ngram_range=(1, 2), Selection__percentile=70;, score=(train=1.000, test=0.500) total time=   0.6s\n",
            "[CV 4/5; 94/120] START Modelo=RandomForestClassifier(random_state=20), Preprocessing__bow__ngram_range=(1, 2), Selection__percentile=70\n",
            "[CV 4/5; 94/120] END Modelo=RandomForestClassifier(random_state=20), Preprocessing__bow__ngram_range=(1, 2), Selection__percentile=70;, score=(train=1.000, test=0.500) total time=   1.0s\n",
            "[CV 5/5; 94/120] START Modelo=RandomForestClassifier(random_state=20), Preprocessing__bow__ngram_range=(1, 2), Selection__percentile=70\n",
            "[CV 5/5; 94/120] END Modelo=RandomForestClassifier(random_state=20), Preprocessing__bow__ngram_range=(1, 2), Selection__percentile=70;, score=(train=1.000, test=0.500) total time=   0.8s\n",
            "[CV 1/5; 95/120] START Modelo=RandomForestClassifier(random_state=20), Preprocessing__bow__ngram_range=(1, 2), Selection__percentile=75\n"
          ]
        },
        {
          "output_type": "stream",
          "name": "stderr",
          "text": [
            "/usr/local/lib/python3.7/dist-packages/sklearn/feature_selection/_univariate_selection.py:113: RuntimeWarning: divide by zero encountered in true_divide\n",
            "  f = msb / msw\n"
          ]
        },
        {
          "output_type": "stream",
          "name": "stdout",
          "text": [
            "[CV 1/5; 95/120] END Modelo=RandomForestClassifier(random_state=20), Preprocessing__bow__ngram_range=(1, 2), Selection__percentile=75;, score=(train=1.000, test=0.333) total time=   1.0s\n",
            "[CV 2/5; 95/120] START Modelo=RandomForestClassifier(random_state=20), Preprocessing__bow__ngram_range=(1, 2), Selection__percentile=75\n"
          ]
        },
        {
          "output_type": "stream",
          "name": "stderr",
          "text": [
            "/usr/local/lib/python3.7/dist-packages/sklearn/feature_selection/_univariate_selection.py:113: RuntimeWarning: divide by zero encountered in true_divide\n",
            "  f = msb / msw\n"
          ]
        },
        {
          "output_type": "stream",
          "name": "stdout",
          "text": [
            "[CV 2/5; 95/120] END Modelo=RandomForestClassifier(random_state=20), Preprocessing__bow__ngram_range=(1, 2), Selection__percentile=75;, score=(train=1.000, test=0.333) total time=   1.2s\n",
            "[CV 3/5; 95/120] START Modelo=RandomForestClassifier(random_state=20), Preprocessing__bow__ngram_range=(1, 2), Selection__percentile=75\n",
            "[CV 3/5; 95/120] END Modelo=RandomForestClassifier(random_state=20), Preprocessing__bow__ngram_range=(1, 2), Selection__percentile=75;, score=(train=1.000, test=0.333) total time=   0.6s\n",
            "[CV 4/5; 95/120] START Modelo=RandomForestClassifier(random_state=20), Preprocessing__bow__ngram_range=(1, 2), Selection__percentile=75\n",
            "[CV 4/5; 95/120] END Modelo=RandomForestClassifier(random_state=20), Preprocessing__bow__ngram_range=(1, 2), Selection__percentile=75;, score=(train=1.000, test=0.500) total time=   1.0s\n",
            "[CV 5/5; 95/120] START Modelo=RandomForestClassifier(random_state=20), Preprocessing__bow__ngram_range=(1, 2), Selection__percentile=75\n",
            "[CV 5/5; 95/120] END Modelo=RandomForestClassifier(random_state=20), Preprocessing__bow__ngram_range=(1, 2), Selection__percentile=75;, score=(train=1.000, test=0.500) total time=   0.8s\n",
            "[CV 1/5; 96/120] START Modelo=RandomForestClassifier(random_state=20), Preprocessing__bow__ngram_range=(1, 2), Selection__percentile=80\n"
          ]
        },
        {
          "output_type": "stream",
          "name": "stderr",
          "text": [
            "/usr/local/lib/python3.7/dist-packages/sklearn/feature_selection/_univariate_selection.py:113: RuntimeWarning: divide by zero encountered in true_divide\n",
            "  f = msb / msw\n"
          ]
        },
        {
          "output_type": "stream",
          "name": "stdout",
          "text": [
            "[CV 1/5; 96/120] END Modelo=RandomForestClassifier(random_state=20), Preprocessing__bow__ngram_range=(1, 2), Selection__percentile=80;, score=(train=1.000, test=0.500) total time=   1.0s\n",
            "[CV 2/5; 96/120] START Modelo=RandomForestClassifier(random_state=20), Preprocessing__bow__ngram_range=(1, 2), Selection__percentile=80\n"
          ]
        },
        {
          "output_type": "stream",
          "name": "stderr",
          "text": [
            "/usr/local/lib/python3.7/dist-packages/sklearn/feature_selection/_univariate_selection.py:113: RuntimeWarning: divide by zero encountered in true_divide\n",
            "  f = msb / msw\n"
          ]
        },
        {
          "output_type": "stream",
          "name": "stdout",
          "text": [
            "[CV 2/5; 96/120] END Modelo=RandomForestClassifier(random_state=20), Preprocessing__bow__ngram_range=(1, 2), Selection__percentile=80;, score=(train=1.000, test=0.333) total time=   1.2s\n",
            "[CV 3/5; 96/120] START Modelo=RandomForestClassifier(random_state=20), Preprocessing__bow__ngram_range=(1, 2), Selection__percentile=80\n",
            "[CV 3/5; 96/120] END Modelo=RandomForestClassifier(random_state=20), Preprocessing__bow__ngram_range=(1, 2), Selection__percentile=80;, score=(train=1.000, test=0.500) total time=   0.6s\n",
            "[CV 4/5; 96/120] START Modelo=RandomForestClassifier(random_state=20), Preprocessing__bow__ngram_range=(1, 2), Selection__percentile=80\n",
            "[CV 4/5; 96/120] END Modelo=RandomForestClassifier(random_state=20), Preprocessing__bow__ngram_range=(1, 2), Selection__percentile=80;, score=(train=1.000, test=0.500) total time=   1.0s\n",
            "[CV 5/5; 96/120] START Modelo=RandomForestClassifier(random_state=20), Preprocessing__bow__ngram_range=(1, 2), Selection__percentile=80\n",
            "[CV 5/5; 96/120] END Modelo=RandomForestClassifier(random_state=20), Preprocessing__bow__ngram_range=(1, 2), Selection__percentile=80;, score=(train=1.000, test=0.500) total time=   0.9s\n",
            "[CV 1/5; 97/120] START Modelo=RandomForestClassifier(random_state=20), Preprocessing__bow__ngram_range=(1, 2), Selection__percentile=85\n"
          ]
        },
        {
          "output_type": "stream",
          "name": "stderr",
          "text": [
            "/usr/local/lib/python3.7/dist-packages/sklearn/feature_selection/_univariate_selection.py:113: RuntimeWarning: divide by zero encountered in true_divide\n",
            "  f = msb / msw\n"
          ]
        },
        {
          "output_type": "stream",
          "name": "stdout",
          "text": [
            "[CV 1/5; 97/120] END Modelo=RandomForestClassifier(random_state=20), Preprocessing__bow__ngram_range=(1, 2), Selection__percentile=85;, score=(train=1.000, test=0.333) total time=   1.0s\n",
            "[CV 2/5; 97/120] START Modelo=RandomForestClassifier(random_state=20), Preprocessing__bow__ngram_range=(1, 2), Selection__percentile=85\n"
          ]
        },
        {
          "output_type": "stream",
          "name": "stderr",
          "text": [
            "/usr/local/lib/python3.7/dist-packages/sklearn/feature_selection/_univariate_selection.py:113: RuntimeWarning: divide by zero encountered in true_divide\n",
            "  f = msb / msw\n"
          ]
        },
        {
          "output_type": "stream",
          "name": "stdout",
          "text": [
            "[CV 2/5; 97/120] END Modelo=RandomForestClassifier(random_state=20), Preprocessing__bow__ngram_range=(1, 2), Selection__percentile=85;, score=(train=1.000, test=0.333) total time=   1.3s\n",
            "[CV 3/5; 97/120] START Modelo=RandomForestClassifier(random_state=20), Preprocessing__bow__ngram_range=(1, 2), Selection__percentile=85\n",
            "[CV 3/5; 97/120] END Modelo=RandomForestClassifier(random_state=20), Preprocessing__bow__ngram_range=(1, 2), Selection__percentile=85;, score=(train=1.000, test=0.500) total time=   0.6s\n",
            "[CV 4/5; 97/120] START Modelo=RandomForestClassifier(random_state=20), Preprocessing__bow__ngram_range=(1, 2), Selection__percentile=85\n",
            "[CV 4/5; 97/120] END Modelo=RandomForestClassifier(random_state=20), Preprocessing__bow__ngram_range=(1, 2), Selection__percentile=85;, score=(train=1.000, test=0.500) total time=   1.0s\n",
            "[CV 5/5; 97/120] START Modelo=RandomForestClassifier(random_state=20), Preprocessing__bow__ngram_range=(1, 2), Selection__percentile=85\n",
            "[CV 5/5; 97/120] END Modelo=RandomForestClassifier(random_state=20), Preprocessing__bow__ngram_range=(1, 2), Selection__percentile=85;, score=(train=1.000, test=0.500) total time=   0.8s\n",
            "[CV 1/5; 98/120] START Modelo=RandomForestClassifier(random_state=20), Preprocessing__bow__ngram_range=(1, 2), Selection__percentile=90\n"
          ]
        },
        {
          "output_type": "stream",
          "name": "stderr",
          "text": [
            "/usr/local/lib/python3.7/dist-packages/sklearn/feature_selection/_univariate_selection.py:113: RuntimeWarning: divide by zero encountered in true_divide\n",
            "  f = msb / msw\n"
          ]
        },
        {
          "output_type": "stream",
          "name": "stdout",
          "text": [
            "[CV 1/5; 98/120] END Modelo=RandomForestClassifier(random_state=20), Preprocessing__bow__ngram_range=(1, 2), Selection__percentile=90;, score=(train=1.000, test=0.333) total time=   1.0s\n",
            "[CV 2/5; 98/120] START Modelo=RandomForestClassifier(random_state=20), Preprocessing__bow__ngram_range=(1, 2), Selection__percentile=90\n"
          ]
        },
        {
          "output_type": "stream",
          "name": "stderr",
          "text": [
            "/usr/local/lib/python3.7/dist-packages/sklearn/feature_selection/_univariate_selection.py:113: RuntimeWarning: divide by zero encountered in true_divide\n",
            "  f = msb / msw\n"
          ]
        },
        {
          "output_type": "stream",
          "name": "stdout",
          "text": [
            "[CV 2/5; 98/120] END Modelo=RandomForestClassifier(random_state=20), Preprocessing__bow__ngram_range=(1, 2), Selection__percentile=90;, score=(train=1.000, test=0.333) total time=   1.3s\n",
            "[CV 3/5; 98/120] START Modelo=RandomForestClassifier(random_state=20), Preprocessing__bow__ngram_range=(1, 2), Selection__percentile=90\n",
            "[CV 3/5; 98/120] END Modelo=RandomForestClassifier(random_state=20), Preprocessing__bow__ngram_range=(1, 2), Selection__percentile=90;, score=(train=1.000, test=0.500) total time=   0.6s\n",
            "[CV 4/5; 98/120] START Modelo=RandomForestClassifier(random_state=20), Preprocessing__bow__ngram_range=(1, 2), Selection__percentile=90\n",
            "[CV 4/5; 98/120] END Modelo=RandomForestClassifier(random_state=20), Preprocessing__bow__ngram_range=(1, 2), Selection__percentile=90;, score=(train=1.000, test=0.500) total time=   1.0s\n",
            "[CV 5/5; 98/120] START Modelo=RandomForestClassifier(random_state=20), Preprocessing__bow__ngram_range=(1, 2), Selection__percentile=90\n",
            "[CV 5/5; 98/120] END Modelo=RandomForestClassifier(random_state=20), Preprocessing__bow__ngram_range=(1, 2), Selection__percentile=90;, score=(train=1.000, test=0.500) total time=   0.8s\n",
            "[CV 1/5; 99/120] START Modelo=RandomForestClassifier(random_state=20), Preprocessing__bow__ngram_range=(1, 2), Selection__percentile=95\n"
          ]
        },
        {
          "output_type": "stream",
          "name": "stderr",
          "text": [
            "/usr/local/lib/python3.7/dist-packages/sklearn/feature_selection/_univariate_selection.py:113: RuntimeWarning: divide by zero encountered in true_divide\n",
            "  f = msb / msw\n"
          ]
        },
        {
          "output_type": "stream",
          "name": "stdout",
          "text": [
            "[CV 1/5; 99/120] END Modelo=RandomForestClassifier(random_state=20), Preprocessing__bow__ngram_range=(1, 2), Selection__percentile=95;, score=(train=1.000, test=0.667) total time=   1.0s\n",
            "[CV 2/5; 99/120] START Modelo=RandomForestClassifier(random_state=20), Preprocessing__bow__ngram_range=(1, 2), Selection__percentile=95\n"
          ]
        },
        {
          "output_type": "stream",
          "name": "stderr",
          "text": [
            "/usr/local/lib/python3.7/dist-packages/sklearn/feature_selection/_univariate_selection.py:113: RuntimeWarning: divide by zero encountered in true_divide\n",
            "  f = msb / msw\n"
          ]
        },
        {
          "output_type": "stream",
          "name": "stdout",
          "text": [
            "[CV 2/5; 99/120] END Modelo=RandomForestClassifier(random_state=20), Preprocessing__bow__ngram_range=(1, 2), Selection__percentile=95;, score=(train=1.000, test=0.333) total time=   1.2s\n",
            "[CV 3/5; 99/120] START Modelo=RandomForestClassifier(random_state=20), Preprocessing__bow__ngram_range=(1, 2), Selection__percentile=95\n",
            "[CV 3/5; 99/120] END Modelo=RandomForestClassifier(random_state=20), Preprocessing__bow__ngram_range=(1, 2), Selection__percentile=95;, score=(train=1.000, test=0.500) total time=   0.6s\n",
            "[CV 4/5; 99/120] START Modelo=RandomForestClassifier(random_state=20), Preprocessing__bow__ngram_range=(1, 2), Selection__percentile=95\n",
            "[CV 4/5; 99/120] END Modelo=RandomForestClassifier(random_state=20), Preprocessing__bow__ngram_range=(1, 2), Selection__percentile=95;, score=(train=1.000, test=0.500) total time=   1.0s\n",
            "[CV 5/5; 99/120] START Modelo=RandomForestClassifier(random_state=20), Preprocessing__bow__ngram_range=(1, 2), Selection__percentile=95\n",
            "[CV 5/5; 99/120] END Modelo=RandomForestClassifier(random_state=20), Preprocessing__bow__ngram_range=(1, 2), Selection__percentile=95;, score=(train=1.000, test=0.500) total time=   0.8s\n",
            "[CV 1/5; 100/120] START Modelo=RandomForestClassifier(random_state=20), Preprocessing__bow__ngram_range=(1, 2), Selection__percentile=100\n"
          ]
        },
        {
          "output_type": "stream",
          "name": "stderr",
          "text": [
            "/usr/local/lib/python3.7/dist-packages/sklearn/feature_selection/_univariate_selection.py:113: RuntimeWarning: divide by zero encountered in true_divide\n",
            "  f = msb / msw\n"
          ]
        },
        {
          "output_type": "stream",
          "name": "stdout",
          "text": [
            "[CV 1/5; 100/120] END Modelo=RandomForestClassifier(random_state=20), Preprocessing__bow__ngram_range=(1, 2), Selection__percentile=100;, score=(train=1.000, test=0.333) total time=   0.9s\n",
            "[CV 2/5; 100/120] START Modelo=RandomForestClassifier(random_state=20), Preprocessing__bow__ngram_range=(1, 2), Selection__percentile=100\n"
          ]
        },
        {
          "output_type": "stream",
          "name": "stderr",
          "text": [
            "/usr/local/lib/python3.7/dist-packages/sklearn/feature_selection/_univariate_selection.py:113: RuntimeWarning: divide by zero encountered in true_divide\n",
            "  f = msb / msw\n"
          ]
        },
        {
          "output_type": "stream",
          "name": "stdout",
          "text": [
            "[CV 2/5; 100/120] END Modelo=RandomForestClassifier(random_state=20), Preprocessing__bow__ngram_range=(1, 2), Selection__percentile=100;, score=(train=1.000, test=0.333) total time=   1.2s\n",
            "[CV 3/5; 100/120] START Modelo=RandomForestClassifier(random_state=20), Preprocessing__bow__ngram_range=(1, 2), Selection__percentile=100\n",
            "[CV 3/5; 100/120] END Modelo=RandomForestClassifier(random_state=20), Preprocessing__bow__ngram_range=(1, 2), Selection__percentile=100;, score=(train=1.000, test=0.500) total time=   0.6s\n",
            "[CV 4/5; 100/120] START Modelo=RandomForestClassifier(random_state=20), Preprocessing__bow__ngram_range=(1, 2), Selection__percentile=100\n",
            "[CV 4/5; 100/120] END Modelo=RandomForestClassifier(random_state=20), Preprocessing__bow__ngram_range=(1, 2), Selection__percentile=100;, score=(train=1.000, test=0.500) total time=   1.0s\n",
            "[CV 5/5; 100/120] START Modelo=RandomForestClassifier(random_state=20), Preprocessing__bow__ngram_range=(1, 2), Selection__percentile=100\n",
            "[CV 5/5; 100/120] END Modelo=RandomForestClassifier(random_state=20), Preprocessing__bow__ngram_range=(1, 2), Selection__percentile=100;, score=(train=1.000, test=0.500) total time=   0.8s\n",
            "[CV 1/5; 101/120] START Modelo=RandomForestClassifier(random_state=20), Preprocessing__bow__ngram_range=(1, 3), Selection__percentile=5\n"
          ]
        },
        {
          "output_type": "stream",
          "name": "stderr",
          "text": [
            "/usr/local/lib/python3.7/dist-packages/sklearn/feature_selection/_univariate_selection.py:113: RuntimeWarning: divide by zero encountered in true_divide\n",
            "  f = msb / msw\n"
          ]
        },
        {
          "output_type": "stream",
          "name": "stdout",
          "text": [
            "[CV 1/5; 101/120] END Modelo=RandomForestClassifier(random_state=20), Preprocessing__bow__ngram_range=(1, 3), Selection__percentile=5;, score=(train=1.000, test=0.333) total time=   1.0s\n",
            "[CV 2/5; 101/120] START Modelo=RandomForestClassifier(random_state=20), Preprocessing__bow__ngram_range=(1, 3), Selection__percentile=5\n"
          ]
        },
        {
          "output_type": "stream",
          "name": "stderr",
          "text": [
            "/usr/local/lib/python3.7/dist-packages/sklearn/feature_selection/_univariate_selection.py:113: RuntimeWarning: divide by zero encountered in true_divide\n",
            "  f = msb / msw\n"
          ]
        },
        {
          "output_type": "stream",
          "name": "stdout",
          "text": [
            "[CV 2/5; 101/120] END Modelo=RandomForestClassifier(random_state=20), Preprocessing__bow__ngram_range=(1, 3), Selection__percentile=5;, score=(train=1.000, test=0.333) total time=   1.3s\n",
            "[CV 3/5; 101/120] START Modelo=RandomForestClassifier(random_state=20), Preprocessing__bow__ngram_range=(1, 3), Selection__percentile=5\n",
            "[CV 3/5; 101/120] END Modelo=RandomForestClassifier(random_state=20), Preprocessing__bow__ngram_range=(1, 3), Selection__percentile=5;, score=(train=0.625, test=0.500) total time=   0.6s\n",
            "[CV 4/5; 101/120] START Modelo=RandomForestClassifier(random_state=20), Preprocessing__bow__ngram_range=(1, 3), Selection__percentile=5\n",
            "[CV 4/5; 101/120] END Modelo=RandomForestClassifier(random_state=20), Preprocessing__bow__ngram_range=(1, 3), Selection__percentile=5;, score=(train=1.000, test=0.500) total time=   1.0s\n",
            "[CV 5/5; 101/120] START Modelo=RandomForestClassifier(random_state=20), Preprocessing__bow__ngram_range=(1, 3), Selection__percentile=5\n",
            "[CV 5/5; 101/120] END Modelo=RandomForestClassifier(random_state=20), Preprocessing__bow__ngram_range=(1, 3), Selection__percentile=5;, score=(train=1.000, test=0.500) total time=   0.9s\n",
            "[CV 1/5; 102/120] START Modelo=RandomForestClassifier(random_state=20), Preprocessing__bow__ngram_range=(1, 3), Selection__percentile=10\n"
          ]
        },
        {
          "output_type": "stream",
          "name": "stderr",
          "text": [
            "/usr/local/lib/python3.7/dist-packages/sklearn/feature_selection/_univariate_selection.py:113: RuntimeWarning: divide by zero encountered in true_divide\n",
            "  f = msb / msw\n"
          ]
        },
        {
          "output_type": "stream",
          "name": "stdout",
          "text": [
            "[CV 1/5; 102/120] END Modelo=RandomForestClassifier(random_state=20), Preprocessing__bow__ngram_range=(1, 3), Selection__percentile=10;, score=(train=1.000, test=0.333) total time=   1.0s\n",
            "[CV 2/5; 102/120] START Modelo=RandomForestClassifier(random_state=20), Preprocessing__bow__ngram_range=(1, 3), Selection__percentile=10\n"
          ]
        },
        {
          "output_type": "stream",
          "name": "stderr",
          "text": [
            "/usr/local/lib/python3.7/dist-packages/sklearn/feature_selection/_univariate_selection.py:113: RuntimeWarning: divide by zero encountered in true_divide\n",
            "  f = msb / msw\n"
          ]
        },
        {
          "output_type": "stream",
          "name": "stdout",
          "text": [
            "[CV 2/5; 102/120] END Modelo=RandomForestClassifier(random_state=20), Preprocessing__bow__ngram_range=(1, 3), Selection__percentile=10;, score=(train=1.000, test=0.333) total time=   1.3s\n",
            "[CV 3/5; 102/120] START Modelo=RandomForestClassifier(random_state=20), Preprocessing__bow__ngram_range=(1, 3), Selection__percentile=10\n",
            "[CV 3/5; 102/120] END Modelo=RandomForestClassifier(random_state=20), Preprocessing__bow__ngram_range=(1, 3), Selection__percentile=10;, score=(train=0.625, test=0.500) total time=   0.6s\n",
            "[CV 4/5; 102/120] START Modelo=RandomForestClassifier(random_state=20), Preprocessing__bow__ngram_range=(1, 3), Selection__percentile=10\n",
            "[CV 4/5; 102/120] END Modelo=RandomForestClassifier(random_state=20), Preprocessing__bow__ngram_range=(1, 3), Selection__percentile=10;, score=(train=1.000, test=0.500) total time=   1.0s\n",
            "[CV 5/5; 102/120] START Modelo=RandomForestClassifier(random_state=20), Preprocessing__bow__ngram_range=(1, 3), Selection__percentile=10\n",
            "[CV 5/5; 102/120] END Modelo=RandomForestClassifier(random_state=20), Preprocessing__bow__ngram_range=(1, 3), Selection__percentile=10;, score=(train=1.000, test=0.500) total time=   0.8s\n",
            "[CV 1/5; 103/120] START Modelo=RandomForestClassifier(random_state=20), Preprocessing__bow__ngram_range=(1, 3), Selection__percentile=15\n"
          ]
        },
        {
          "output_type": "stream",
          "name": "stderr",
          "text": [
            "/usr/local/lib/python3.7/dist-packages/sklearn/feature_selection/_univariate_selection.py:113: RuntimeWarning: divide by zero encountered in true_divide\n",
            "  f = msb / msw\n"
          ]
        },
        {
          "output_type": "stream",
          "name": "stdout",
          "text": [
            "[CV 1/5; 103/120] END Modelo=RandomForestClassifier(random_state=20), Preprocessing__bow__ngram_range=(1, 3), Selection__percentile=15;, score=(train=1.000, test=0.167) total time=   1.0s\n",
            "[CV 2/5; 103/120] START Modelo=RandomForestClassifier(random_state=20), Preprocessing__bow__ngram_range=(1, 3), Selection__percentile=15\n"
          ]
        },
        {
          "output_type": "stream",
          "name": "stderr",
          "text": [
            "/usr/local/lib/python3.7/dist-packages/sklearn/feature_selection/_univariate_selection.py:113: RuntimeWarning: divide by zero encountered in true_divide\n",
            "  f = msb / msw\n"
          ]
        },
        {
          "output_type": "stream",
          "name": "stdout",
          "text": [
            "[CV 2/5; 103/120] END Modelo=RandomForestClassifier(random_state=20), Preprocessing__bow__ngram_range=(1, 3), Selection__percentile=15;, score=(train=1.000, test=0.333) total time=   1.4s\n",
            "[CV 3/5; 103/120] START Modelo=RandomForestClassifier(random_state=20), Preprocessing__bow__ngram_range=(1, 3), Selection__percentile=15\n",
            "[CV 3/5; 103/120] END Modelo=RandomForestClassifier(random_state=20), Preprocessing__bow__ngram_range=(1, 3), Selection__percentile=15;, score=(train=1.000, test=0.333) total time=   0.6s\n",
            "[CV 4/5; 103/120] START Modelo=RandomForestClassifier(random_state=20), Preprocessing__bow__ngram_range=(1, 3), Selection__percentile=15\n",
            "[CV 4/5; 103/120] END Modelo=RandomForestClassifier(random_state=20), Preprocessing__bow__ngram_range=(1, 3), Selection__percentile=15;, score=(train=1.000, test=0.500) total time=   1.0s\n",
            "[CV 5/5; 103/120] START Modelo=RandomForestClassifier(random_state=20), Preprocessing__bow__ngram_range=(1, 3), Selection__percentile=15\n",
            "[CV 5/5; 103/120] END Modelo=RandomForestClassifier(random_state=20), Preprocessing__bow__ngram_range=(1, 3), Selection__percentile=15;, score=(train=1.000, test=0.500) total time=   0.9s\n",
            "[CV 1/5; 104/120] START Modelo=RandomForestClassifier(random_state=20), Preprocessing__bow__ngram_range=(1, 3), Selection__percentile=20\n"
          ]
        },
        {
          "output_type": "stream",
          "name": "stderr",
          "text": [
            "/usr/local/lib/python3.7/dist-packages/sklearn/feature_selection/_univariate_selection.py:113: RuntimeWarning: divide by zero encountered in true_divide\n",
            "  f = msb / msw\n"
          ]
        },
        {
          "output_type": "stream",
          "name": "stdout",
          "text": [
            "[CV 1/5; 104/120] END Modelo=RandomForestClassifier(random_state=20), Preprocessing__bow__ngram_range=(1, 3), Selection__percentile=20;, score=(train=1.000, test=0.500) total time=   1.1s\n",
            "[CV 2/5; 104/120] START Modelo=RandomForestClassifier(random_state=20), Preprocessing__bow__ngram_range=(1, 3), Selection__percentile=20\n"
          ]
        },
        {
          "output_type": "stream",
          "name": "stderr",
          "text": [
            "/usr/local/lib/python3.7/dist-packages/sklearn/feature_selection/_univariate_selection.py:113: RuntimeWarning: divide by zero encountered in true_divide\n",
            "  f = msb / msw\n"
          ]
        },
        {
          "output_type": "stream",
          "name": "stdout",
          "text": [
            "[CV 2/5; 104/120] END Modelo=RandomForestClassifier(random_state=20), Preprocessing__bow__ngram_range=(1, 3), Selection__percentile=20;, score=(train=1.000, test=0.333) total time=   1.3s\n",
            "[CV 3/5; 104/120] START Modelo=RandomForestClassifier(random_state=20), Preprocessing__bow__ngram_range=(1, 3), Selection__percentile=20\n",
            "[CV 3/5; 104/120] END Modelo=RandomForestClassifier(random_state=20), Preprocessing__bow__ngram_range=(1, 3), Selection__percentile=20;, score=(train=1.000, test=0.333) total time=   0.6s\n",
            "[CV 4/5; 104/120] START Modelo=RandomForestClassifier(random_state=20), Preprocessing__bow__ngram_range=(1, 3), Selection__percentile=20\n",
            "[CV 4/5; 104/120] END Modelo=RandomForestClassifier(random_state=20), Preprocessing__bow__ngram_range=(1, 3), Selection__percentile=20;, score=(train=1.000, test=0.500) total time=   1.0s\n",
            "[CV 5/5; 104/120] START Modelo=RandomForestClassifier(random_state=20), Preprocessing__bow__ngram_range=(1, 3), Selection__percentile=20\n",
            "[CV 5/5; 104/120] END Modelo=RandomForestClassifier(random_state=20), Preprocessing__bow__ngram_range=(1, 3), Selection__percentile=20;, score=(train=1.000, test=0.500) total time=   0.9s\n",
            "[CV 1/5; 105/120] START Modelo=RandomForestClassifier(random_state=20), Preprocessing__bow__ngram_range=(1, 3), Selection__percentile=25\n"
          ]
        },
        {
          "output_type": "stream",
          "name": "stderr",
          "text": [
            "/usr/local/lib/python3.7/dist-packages/sklearn/feature_selection/_univariate_selection.py:113: RuntimeWarning: divide by zero encountered in true_divide\n",
            "  f = msb / msw\n"
          ]
        },
        {
          "output_type": "stream",
          "name": "stdout",
          "text": [
            "[CV 1/5; 105/120] END Modelo=RandomForestClassifier(random_state=20), Preprocessing__bow__ngram_range=(1, 3), Selection__percentile=25;, score=(train=1.000, test=0.500) total time=   1.0s\n",
            "[CV 2/5; 105/120] START Modelo=RandomForestClassifier(random_state=20), Preprocessing__bow__ngram_range=(1, 3), Selection__percentile=25\n"
          ]
        },
        {
          "output_type": "stream",
          "name": "stderr",
          "text": [
            "/usr/local/lib/python3.7/dist-packages/sklearn/feature_selection/_univariate_selection.py:113: RuntimeWarning: divide by zero encountered in true_divide\n",
            "  f = msb / msw\n"
          ]
        },
        {
          "output_type": "stream",
          "name": "stdout",
          "text": [
            "[CV 2/5; 105/120] END Modelo=RandomForestClassifier(random_state=20), Preprocessing__bow__ngram_range=(1, 3), Selection__percentile=25;, score=(train=1.000, test=0.333) total time=   1.3s\n",
            "[CV 3/5; 105/120] START Modelo=RandomForestClassifier(random_state=20), Preprocessing__bow__ngram_range=(1, 3), Selection__percentile=25\n",
            "[CV 3/5; 105/120] END Modelo=RandomForestClassifier(random_state=20), Preprocessing__bow__ngram_range=(1, 3), Selection__percentile=25;, score=(train=1.000, test=0.500) total time=   0.6s\n",
            "[CV 4/5; 105/120] START Modelo=RandomForestClassifier(random_state=20), Preprocessing__bow__ngram_range=(1, 3), Selection__percentile=25\n",
            "[CV 4/5; 105/120] END Modelo=RandomForestClassifier(random_state=20), Preprocessing__bow__ngram_range=(1, 3), Selection__percentile=25;, score=(train=1.000, test=0.500) total time=   1.0s\n",
            "[CV 5/5; 105/120] START Modelo=RandomForestClassifier(random_state=20), Preprocessing__bow__ngram_range=(1, 3), Selection__percentile=25\n",
            "[CV 5/5; 105/120] END Modelo=RandomForestClassifier(random_state=20), Preprocessing__bow__ngram_range=(1, 3), Selection__percentile=25;, score=(train=1.000, test=0.500) total time=   0.9s\n",
            "[CV 1/5; 106/120] START Modelo=RandomForestClassifier(random_state=20), Preprocessing__bow__ngram_range=(1, 3), Selection__percentile=30\n"
          ]
        },
        {
          "output_type": "stream",
          "name": "stderr",
          "text": [
            "/usr/local/lib/python3.7/dist-packages/sklearn/feature_selection/_univariate_selection.py:113: RuntimeWarning: divide by zero encountered in true_divide\n",
            "  f = msb / msw\n"
          ]
        },
        {
          "output_type": "stream",
          "name": "stdout",
          "text": [
            "[CV 1/5; 106/120] END Modelo=RandomForestClassifier(random_state=20), Preprocessing__bow__ngram_range=(1, 3), Selection__percentile=30;, score=(train=1.000, test=0.667) total time=   1.0s\n",
            "[CV 2/5; 106/120] START Modelo=RandomForestClassifier(random_state=20), Preprocessing__bow__ngram_range=(1, 3), Selection__percentile=30\n"
          ]
        },
        {
          "output_type": "stream",
          "name": "stderr",
          "text": [
            "/usr/local/lib/python3.7/dist-packages/sklearn/feature_selection/_univariate_selection.py:113: RuntimeWarning: divide by zero encountered in true_divide\n",
            "  f = msb / msw\n"
          ]
        },
        {
          "output_type": "stream",
          "name": "stdout",
          "text": [
            "[CV 2/5; 106/120] END Modelo=RandomForestClassifier(random_state=20), Preprocessing__bow__ngram_range=(1, 3), Selection__percentile=30;, score=(train=1.000, test=0.333) total time=   1.3s\n",
            "[CV 3/5; 106/120] START Modelo=RandomForestClassifier(random_state=20), Preprocessing__bow__ngram_range=(1, 3), Selection__percentile=30\n",
            "[CV 3/5; 106/120] END Modelo=RandomForestClassifier(random_state=20), Preprocessing__bow__ngram_range=(1, 3), Selection__percentile=30;, score=(train=1.000, test=0.500) total time=   0.6s\n",
            "[CV 4/5; 106/120] START Modelo=RandomForestClassifier(random_state=20), Preprocessing__bow__ngram_range=(1, 3), Selection__percentile=30\n",
            "[CV 4/5; 106/120] END Modelo=RandomForestClassifier(random_state=20), Preprocessing__bow__ngram_range=(1, 3), Selection__percentile=30;, score=(train=1.000, test=0.500) total time=   1.0s\n",
            "[CV 5/5; 106/120] START Modelo=RandomForestClassifier(random_state=20), Preprocessing__bow__ngram_range=(1, 3), Selection__percentile=30\n",
            "[CV 5/5; 106/120] END Modelo=RandomForestClassifier(random_state=20), Preprocessing__bow__ngram_range=(1, 3), Selection__percentile=30;, score=(train=1.000, test=0.500) total time=   0.9s\n",
            "[CV 1/5; 107/120] START Modelo=RandomForestClassifier(random_state=20), Preprocessing__bow__ngram_range=(1, 3), Selection__percentile=35\n"
          ]
        },
        {
          "output_type": "stream",
          "name": "stderr",
          "text": [
            "/usr/local/lib/python3.7/dist-packages/sklearn/feature_selection/_univariate_selection.py:113: RuntimeWarning: divide by zero encountered in true_divide\n",
            "  f = msb / msw\n"
          ]
        },
        {
          "output_type": "stream",
          "name": "stdout",
          "text": [
            "[CV 1/5; 107/120] END Modelo=RandomForestClassifier(random_state=20), Preprocessing__bow__ngram_range=(1, 3), Selection__percentile=35;, score=(train=1.000, test=0.667) total time=   1.0s\n",
            "[CV 2/5; 107/120] START Modelo=RandomForestClassifier(random_state=20), Preprocessing__bow__ngram_range=(1, 3), Selection__percentile=35\n"
          ]
        },
        {
          "output_type": "stream",
          "name": "stderr",
          "text": [
            "/usr/local/lib/python3.7/dist-packages/sklearn/feature_selection/_univariate_selection.py:113: RuntimeWarning: divide by zero encountered in true_divide\n",
            "  f = msb / msw\n"
          ]
        },
        {
          "output_type": "stream",
          "name": "stdout",
          "text": [
            "[CV 2/5; 107/120] END Modelo=RandomForestClassifier(random_state=20), Preprocessing__bow__ngram_range=(1, 3), Selection__percentile=35;, score=(train=1.000, test=0.333) total time=   1.3s\n",
            "[CV 3/5; 107/120] START Modelo=RandomForestClassifier(random_state=20), Preprocessing__bow__ngram_range=(1, 3), Selection__percentile=35\n",
            "[CV 3/5; 107/120] END Modelo=RandomForestClassifier(random_state=20), Preprocessing__bow__ngram_range=(1, 3), Selection__percentile=35;, score=(train=1.000, test=0.500) total time=   0.6s\n",
            "[CV 4/5; 107/120] START Modelo=RandomForestClassifier(random_state=20), Preprocessing__bow__ngram_range=(1, 3), Selection__percentile=35\n",
            "[CV 4/5; 107/120] END Modelo=RandomForestClassifier(random_state=20), Preprocessing__bow__ngram_range=(1, 3), Selection__percentile=35;, score=(train=1.000, test=0.500) total time=   1.1s\n",
            "[CV 5/5; 107/120] START Modelo=RandomForestClassifier(random_state=20), Preprocessing__bow__ngram_range=(1, 3), Selection__percentile=35\n",
            "[CV 5/5; 107/120] END Modelo=RandomForestClassifier(random_state=20), Preprocessing__bow__ngram_range=(1, 3), Selection__percentile=35;, score=(train=1.000, test=0.500) total time=   0.9s\n",
            "[CV 1/5; 108/120] START Modelo=RandomForestClassifier(random_state=20), Preprocessing__bow__ngram_range=(1, 3), Selection__percentile=40\n"
          ]
        },
        {
          "output_type": "stream",
          "name": "stderr",
          "text": [
            "/usr/local/lib/python3.7/dist-packages/sklearn/feature_selection/_univariate_selection.py:113: RuntimeWarning: divide by zero encountered in true_divide\n",
            "  f = msb / msw\n"
          ]
        },
        {
          "output_type": "stream",
          "name": "stdout",
          "text": [
            "[CV 1/5; 108/120] END Modelo=RandomForestClassifier(random_state=20), Preprocessing__bow__ngram_range=(1, 3), Selection__percentile=40;, score=(train=1.000, test=0.833) total time=   1.1s\n",
            "[CV 2/5; 108/120] START Modelo=RandomForestClassifier(random_state=20), Preprocessing__bow__ngram_range=(1, 3), Selection__percentile=40\n"
          ]
        },
        {
          "output_type": "stream",
          "name": "stderr",
          "text": [
            "/usr/local/lib/python3.7/dist-packages/sklearn/feature_selection/_univariate_selection.py:113: RuntimeWarning: divide by zero encountered in true_divide\n",
            "  f = msb / msw\n"
          ]
        },
        {
          "output_type": "stream",
          "name": "stdout",
          "text": [
            "[CV 2/5; 108/120] END Modelo=RandomForestClassifier(random_state=20), Preprocessing__bow__ngram_range=(1, 3), Selection__percentile=40;, score=(train=1.000, test=0.333) total time=   1.3s\n",
            "[CV 3/5; 108/120] START Modelo=RandomForestClassifier(random_state=20), Preprocessing__bow__ngram_range=(1, 3), Selection__percentile=40\n",
            "[CV 3/5; 108/120] END Modelo=RandomForestClassifier(random_state=20), Preprocessing__bow__ngram_range=(1, 3), Selection__percentile=40;, score=(train=1.000, test=0.500) total time=   0.6s\n",
            "[CV 4/5; 108/120] START Modelo=RandomForestClassifier(random_state=20), Preprocessing__bow__ngram_range=(1, 3), Selection__percentile=40\n",
            "[CV 4/5; 108/120] END Modelo=RandomForestClassifier(random_state=20), Preprocessing__bow__ngram_range=(1, 3), Selection__percentile=40;, score=(train=1.000, test=0.500) total time=   1.1s\n",
            "[CV 5/5; 108/120] START Modelo=RandomForestClassifier(random_state=20), Preprocessing__bow__ngram_range=(1, 3), Selection__percentile=40\n",
            "[CV 5/5; 108/120] END Modelo=RandomForestClassifier(random_state=20), Preprocessing__bow__ngram_range=(1, 3), Selection__percentile=40;, score=(train=1.000, test=0.500) total time=   0.9s\n",
            "[CV 1/5; 109/120] START Modelo=RandomForestClassifier(random_state=20), Preprocessing__bow__ngram_range=(1, 3), Selection__percentile=45\n"
          ]
        },
        {
          "output_type": "stream",
          "name": "stderr",
          "text": [
            "/usr/local/lib/python3.7/dist-packages/sklearn/feature_selection/_univariate_selection.py:113: RuntimeWarning: divide by zero encountered in true_divide\n",
            "  f = msb / msw\n"
          ]
        },
        {
          "output_type": "stream",
          "name": "stdout",
          "text": [
            "[CV 1/5; 109/120] END Modelo=RandomForestClassifier(random_state=20), Preprocessing__bow__ngram_range=(1, 3), Selection__percentile=45;, score=(train=1.000, test=0.500) total time=   1.0s\n",
            "[CV 2/5; 109/120] START Modelo=RandomForestClassifier(random_state=20), Preprocessing__bow__ngram_range=(1, 3), Selection__percentile=45\n"
          ]
        },
        {
          "output_type": "stream",
          "name": "stderr",
          "text": [
            "/usr/local/lib/python3.7/dist-packages/sklearn/feature_selection/_univariate_selection.py:113: RuntimeWarning: divide by zero encountered in true_divide\n",
            "  f = msb / msw\n"
          ]
        },
        {
          "output_type": "stream",
          "name": "stdout",
          "text": [
            "[CV 2/5; 109/120] END Modelo=RandomForestClassifier(random_state=20), Preprocessing__bow__ngram_range=(1, 3), Selection__percentile=45;, score=(train=1.000, test=0.333) total time=   1.3s\n",
            "[CV 3/5; 109/120] START Modelo=RandomForestClassifier(random_state=20), Preprocessing__bow__ngram_range=(1, 3), Selection__percentile=45\n",
            "[CV 3/5; 109/120] END Modelo=RandomForestClassifier(random_state=20), Preprocessing__bow__ngram_range=(1, 3), Selection__percentile=45;, score=(train=1.000, test=0.500) total time=   0.6s\n",
            "[CV 4/5; 109/120] START Modelo=RandomForestClassifier(random_state=20), Preprocessing__bow__ngram_range=(1, 3), Selection__percentile=45\n",
            "[CV 4/5; 109/120] END Modelo=RandomForestClassifier(random_state=20), Preprocessing__bow__ngram_range=(1, 3), Selection__percentile=45;, score=(train=1.000, test=0.500) total time=   1.1s\n",
            "[CV 5/5; 109/120] START Modelo=RandomForestClassifier(random_state=20), Preprocessing__bow__ngram_range=(1, 3), Selection__percentile=45\n",
            "[CV 5/5; 109/120] END Modelo=RandomForestClassifier(random_state=20), Preprocessing__bow__ngram_range=(1, 3), Selection__percentile=45;, score=(train=1.000, test=0.500) total time=   0.9s\n",
            "[CV 1/5; 110/120] START Modelo=RandomForestClassifier(random_state=20), Preprocessing__bow__ngram_range=(1, 3), Selection__percentile=50\n"
          ]
        },
        {
          "output_type": "stream",
          "name": "stderr",
          "text": [
            "/usr/local/lib/python3.7/dist-packages/sklearn/feature_selection/_univariate_selection.py:113: RuntimeWarning: divide by zero encountered in true_divide\n",
            "  f = msb / msw\n"
          ]
        },
        {
          "output_type": "stream",
          "name": "stdout",
          "text": [
            "[CV 1/5; 110/120] END Modelo=RandomForestClassifier(random_state=20), Preprocessing__bow__ngram_range=(1, 3), Selection__percentile=50;, score=(train=1.000, test=0.333) total time=   1.0s\n",
            "[CV 2/5; 110/120] START Modelo=RandomForestClassifier(random_state=20), Preprocessing__bow__ngram_range=(1, 3), Selection__percentile=50\n"
          ]
        },
        {
          "output_type": "stream",
          "name": "stderr",
          "text": [
            "/usr/local/lib/python3.7/dist-packages/sklearn/feature_selection/_univariate_selection.py:113: RuntimeWarning: divide by zero encountered in true_divide\n",
            "  f = msb / msw\n"
          ]
        },
        {
          "output_type": "stream",
          "name": "stdout",
          "text": [
            "[CV 2/5; 110/120] END Modelo=RandomForestClassifier(random_state=20), Preprocessing__bow__ngram_range=(1, 3), Selection__percentile=50;, score=(train=1.000, test=0.333) total time=   1.3s\n",
            "[CV 3/5; 110/120] START Modelo=RandomForestClassifier(random_state=20), Preprocessing__bow__ngram_range=(1, 3), Selection__percentile=50\n",
            "[CV 3/5; 110/120] END Modelo=RandomForestClassifier(random_state=20), Preprocessing__bow__ngram_range=(1, 3), Selection__percentile=50;, score=(train=1.000, test=0.500) total time=   0.6s\n",
            "[CV 4/5; 110/120] START Modelo=RandomForestClassifier(random_state=20), Preprocessing__bow__ngram_range=(1, 3), Selection__percentile=50\n",
            "[CV 4/5; 110/120] END Modelo=RandomForestClassifier(random_state=20), Preprocessing__bow__ngram_range=(1, 3), Selection__percentile=50;, score=(train=1.000, test=0.500) total time=   1.1s\n",
            "[CV 5/5; 110/120] START Modelo=RandomForestClassifier(random_state=20), Preprocessing__bow__ngram_range=(1, 3), Selection__percentile=50\n",
            "[CV 5/5; 110/120] END Modelo=RandomForestClassifier(random_state=20), Preprocessing__bow__ngram_range=(1, 3), Selection__percentile=50;, score=(train=1.000, test=0.500) total time=   0.9s\n",
            "[CV 1/5; 111/120] START Modelo=RandomForestClassifier(random_state=20), Preprocessing__bow__ngram_range=(1, 3), Selection__percentile=55\n"
          ]
        },
        {
          "output_type": "stream",
          "name": "stderr",
          "text": [
            "/usr/local/lib/python3.7/dist-packages/sklearn/feature_selection/_univariate_selection.py:113: RuntimeWarning: divide by zero encountered in true_divide\n",
            "  f = msb / msw\n"
          ]
        },
        {
          "output_type": "stream",
          "name": "stdout",
          "text": [
            "[CV 1/5; 111/120] END Modelo=RandomForestClassifier(random_state=20), Preprocessing__bow__ngram_range=(1, 3), Selection__percentile=55;, score=(train=1.000, test=0.333) total time=   1.0s\n",
            "[CV 2/5; 111/120] START Modelo=RandomForestClassifier(random_state=20), Preprocessing__bow__ngram_range=(1, 3), Selection__percentile=55\n"
          ]
        },
        {
          "output_type": "stream",
          "name": "stderr",
          "text": [
            "/usr/local/lib/python3.7/dist-packages/sklearn/feature_selection/_univariate_selection.py:113: RuntimeWarning: divide by zero encountered in true_divide\n",
            "  f = msb / msw\n"
          ]
        },
        {
          "output_type": "stream",
          "name": "stdout",
          "text": [
            "[CV 2/5; 111/120] END Modelo=RandomForestClassifier(random_state=20), Preprocessing__bow__ngram_range=(1, 3), Selection__percentile=55;, score=(train=1.000, test=0.333) total time=   1.3s\n",
            "[CV 3/5; 111/120] START Modelo=RandomForestClassifier(random_state=20), Preprocessing__bow__ngram_range=(1, 3), Selection__percentile=55\n",
            "[CV 3/5; 111/120] END Modelo=RandomForestClassifier(random_state=20), Preprocessing__bow__ngram_range=(1, 3), Selection__percentile=55;, score=(train=1.000, test=0.500) total time=   0.7s\n",
            "[CV 4/5; 111/120] START Modelo=RandomForestClassifier(random_state=20), Preprocessing__bow__ngram_range=(1, 3), Selection__percentile=55\n",
            "[CV 4/5; 111/120] END Modelo=RandomForestClassifier(random_state=20), Preprocessing__bow__ngram_range=(1, 3), Selection__percentile=55;, score=(train=1.000, test=0.500) total time=   1.0s\n",
            "[CV 5/5; 111/120] START Modelo=RandomForestClassifier(random_state=20), Preprocessing__bow__ngram_range=(1, 3), Selection__percentile=55\n",
            "[CV 5/5; 111/120] END Modelo=RandomForestClassifier(random_state=20), Preprocessing__bow__ngram_range=(1, 3), Selection__percentile=55;, score=(train=1.000, test=0.500) total time=   0.8s\n",
            "[CV 1/5; 112/120] START Modelo=RandomForestClassifier(random_state=20), Preprocessing__bow__ngram_range=(1, 3), Selection__percentile=60\n"
          ]
        },
        {
          "output_type": "stream",
          "name": "stderr",
          "text": [
            "/usr/local/lib/python3.7/dist-packages/sklearn/feature_selection/_univariate_selection.py:113: RuntimeWarning: divide by zero encountered in true_divide\n",
            "  f = msb / msw\n"
          ]
        },
        {
          "output_type": "stream",
          "name": "stdout",
          "text": [
            "[CV 1/5; 112/120] END Modelo=RandomForestClassifier(random_state=20), Preprocessing__bow__ngram_range=(1, 3), Selection__percentile=60;, score=(train=1.000, test=0.333) total time=   1.0s\n",
            "[CV 2/5; 112/120] START Modelo=RandomForestClassifier(random_state=20), Preprocessing__bow__ngram_range=(1, 3), Selection__percentile=60\n"
          ]
        },
        {
          "output_type": "stream",
          "name": "stderr",
          "text": [
            "/usr/local/lib/python3.7/dist-packages/sklearn/feature_selection/_univariate_selection.py:113: RuntimeWarning: divide by zero encountered in true_divide\n",
            "  f = msb / msw\n"
          ]
        },
        {
          "output_type": "stream",
          "name": "stdout",
          "text": [
            "[CV 2/5; 112/120] END Modelo=RandomForestClassifier(random_state=20), Preprocessing__bow__ngram_range=(1, 3), Selection__percentile=60;, score=(train=1.000, test=0.333) total time=   1.4s\n",
            "[CV 3/5; 112/120] START Modelo=RandomForestClassifier(random_state=20), Preprocessing__bow__ngram_range=(1, 3), Selection__percentile=60\n",
            "[CV 3/5; 112/120] END Modelo=RandomForestClassifier(random_state=20), Preprocessing__bow__ngram_range=(1, 3), Selection__percentile=60;, score=(train=1.000, test=0.500) total time=   0.6s\n",
            "[CV 4/5; 112/120] START Modelo=RandomForestClassifier(random_state=20), Preprocessing__bow__ngram_range=(1, 3), Selection__percentile=60\n",
            "[CV 4/5; 112/120] END Modelo=RandomForestClassifier(random_state=20), Preprocessing__bow__ngram_range=(1, 3), Selection__percentile=60;, score=(train=1.000, test=0.500) total time=   1.0s\n",
            "[CV 5/5; 112/120] START Modelo=RandomForestClassifier(random_state=20), Preprocessing__bow__ngram_range=(1, 3), Selection__percentile=60\n",
            "[CV 5/5; 112/120] END Modelo=RandomForestClassifier(random_state=20), Preprocessing__bow__ngram_range=(1, 3), Selection__percentile=60;, score=(train=1.000, test=0.500) total time=   0.9s\n",
            "[CV 1/5; 113/120] START Modelo=RandomForestClassifier(random_state=20), Preprocessing__bow__ngram_range=(1, 3), Selection__percentile=65\n"
          ]
        },
        {
          "output_type": "stream",
          "name": "stderr",
          "text": [
            "/usr/local/lib/python3.7/dist-packages/sklearn/feature_selection/_univariate_selection.py:113: RuntimeWarning: divide by zero encountered in true_divide\n",
            "  f = msb / msw\n"
          ]
        },
        {
          "output_type": "stream",
          "name": "stdout",
          "text": [
            "[CV 1/5; 113/120] END Modelo=RandomForestClassifier(random_state=20), Preprocessing__bow__ngram_range=(1, 3), Selection__percentile=65;, score=(train=1.000, test=0.333) total time=   1.0s\n",
            "[CV 2/5; 113/120] START Modelo=RandomForestClassifier(random_state=20), Preprocessing__bow__ngram_range=(1, 3), Selection__percentile=65\n"
          ]
        },
        {
          "output_type": "stream",
          "name": "stderr",
          "text": [
            "/usr/local/lib/python3.7/dist-packages/sklearn/feature_selection/_univariate_selection.py:113: RuntimeWarning: divide by zero encountered in true_divide\n",
            "  f = msb / msw\n"
          ]
        },
        {
          "output_type": "stream",
          "name": "stdout",
          "text": [
            "[CV 2/5; 113/120] END Modelo=RandomForestClassifier(random_state=20), Preprocessing__bow__ngram_range=(1, 3), Selection__percentile=65;, score=(train=1.000, test=0.333) total time=   1.3s\n",
            "[CV 3/5; 113/120] START Modelo=RandomForestClassifier(random_state=20), Preprocessing__bow__ngram_range=(1, 3), Selection__percentile=65\n",
            "[CV 3/5; 113/120] END Modelo=RandomForestClassifier(random_state=20), Preprocessing__bow__ngram_range=(1, 3), Selection__percentile=65;, score=(train=1.000, test=0.333) total time=   0.6s\n",
            "[CV 4/5; 113/120] START Modelo=RandomForestClassifier(random_state=20), Preprocessing__bow__ngram_range=(1, 3), Selection__percentile=65\n",
            "[CV 4/5; 113/120] END Modelo=RandomForestClassifier(random_state=20), Preprocessing__bow__ngram_range=(1, 3), Selection__percentile=65;, score=(train=1.000, test=0.500) total time=   1.1s\n",
            "[CV 5/5; 113/120] START Modelo=RandomForestClassifier(random_state=20), Preprocessing__bow__ngram_range=(1, 3), Selection__percentile=65\n",
            "[CV 5/5; 113/120] END Modelo=RandomForestClassifier(random_state=20), Preprocessing__bow__ngram_range=(1, 3), Selection__percentile=65;, score=(train=1.000, test=0.500) total time=   0.8s\n",
            "[CV 1/5; 114/120] START Modelo=RandomForestClassifier(random_state=20), Preprocessing__bow__ngram_range=(1, 3), Selection__percentile=70\n"
          ]
        },
        {
          "output_type": "stream",
          "name": "stderr",
          "text": [
            "/usr/local/lib/python3.7/dist-packages/sklearn/feature_selection/_univariate_selection.py:113: RuntimeWarning: divide by zero encountered in true_divide\n",
            "  f = msb / msw\n"
          ]
        },
        {
          "output_type": "stream",
          "name": "stdout",
          "text": [
            "[CV 1/5; 114/120] END Modelo=RandomForestClassifier(random_state=20), Preprocessing__bow__ngram_range=(1, 3), Selection__percentile=70;, score=(train=1.000, test=0.333) total time=   1.0s\n",
            "[CV 2/5; 114/120] START Modelo=RandomForestClassifier(random_state=20), Preprocessing__bow__ngram_range=(1, 3), Selection__percentile=70\n"
          ]
        },
        {
          "output_type": "stream",
          "name": "stderr",
          "text": [
            "/usr/local/lib/python3.7/dist-packages/sklearn/feature_selection/_univariate_selection.py:113: RuntimeWarning: divide by zero encountered in true_divide\n",
            "  f = msb / msw\n"
          ]
        },
        {
          "output_type": "stream",
          "name": "stdout",
          "text": [
            "[CV 2/5; 114/120] END Modelo=RandomForestClassifier(random_state=20), Preprocessing__bow__ngram_range=(1, 3), Selection__percentile=70;, score=(train=1.000, test=0.333) total time=   1.3s\n",
            "[CV 3/5; 114/120] START Modelo=RandomForestClassifier(random_state=20), Preprocessing__bow__ngram_range=(1, 3), Selection__percentile=70\n",
            "[CV 3/5; 114/120] END Modelo=RandomForestClassifier(random_state=20), Preprocessing__bow__ngram_range=(1, 3), Selection__percentile=70;, score=(train=1.000, test=0.333) total time=   0.6s\n",
            "[CV 4/5; 114/120] START Modelo=RandomForestClassifier(random_state=20), Preprocessing__bow__ngram_range=(1, 3), Selection__percentile=70\n",
            "[CV 4/5; 114/120] END Modelo=RandomForestClassifier(random_state=20), Preprocessing__bow__ngram_range=(1, 3), Selection__percentile=70;, score=(train=1.000, test=0.500) total time=   1.1s\n",
            "[CV 5/5; 114/120] START Modelo=RandomForestClassifier(random_state=20), Preprocessing__bow__ngram_range=(1, 3), Selection__percentile=70\n",
            "[CV 5/5; 114/120] END Modelo=RandomForestClassifier(random_state=20), Preprocessing__bow__ngram_range=(1, 3), Selection__percentile=70;, score=(train=1.000, test=0.500) total time=   0.9s\n",
            "[CV 1/5; 115/120] START Modelo=RandomForestClassifier(random_state=20), Preprocessing__bow__ngram_range=(1, 3), Selection__percentile=75\n"
          ]
        },
        {
          "output_type": "stream",
          "name": "stderr",
          "text": [
            "/usr/local/lib/python3.7/dist-packages/sklearn/feature_selection/_univariate_selection.py:113: RuntimeWarning: divide by zero encountered in true_divide\n",
            "  f = msb / msw\n"
          ]
        },
        {
          "output_type": "stream",
          "name": "stdout",
          "text": [
            "[CV 1/5; 115/120] END Modelo=RandomForestClassifier(random_state=20), Preprocessing__bow__ngram_range=(1, 3), Selection__percentile=75;, score=(train=1.000, test=0.333) total time=   1.1s\n",
            "[CV 2/5; 115/120] START Modelo=RandomForestClassifier(random_state=20), Preprocessing__bow__ngram_range=(1, 3), Selection__percentile=75\n"
          ]
        },
        {
          "output_type": "stream",
          "name": "stderr",
          "text": [
            "/usr/local/lib/python3.7/dist-packages/sklearn/feature_selection/_univariate_selection.py:113: RuntimeWarning: divide by zero encountered in true_divide\n",
            "  f = msb / msw\n"
          ]
        },
        {
          "output_type": "stream",
          "name": "stdout",
          "text": [
            "[CV 2/5; 115/120] END Modelo=RandomForestClassifier(random_state=20), Preprocessing__bow__ngram_range=(1, 3), Selection__percentile=75;, score=(train=1.000, test=0.333) total time=   1.3s\n",
            "[CV 3/5; 115/120] START Modelo=RandomForestClassifier(random_state=20), Preprocessing__bow__ngram_range=(1, 3), Selection__percentile=75\n",
            "[CV 3/5; 115/120] END Modelo=RandomForestClassifier(random_state=20), Preprocessing__bow__ngram_range=(1, 3), Selection__percentile=75;, score=(train=1.000, test=0.333) total time=   0.6s\n",
            "[CV 4/5; 115/120] START Modelo=RandomForestClassifier(random_state=20), Preprocessing__bow__ngram_range=(1, 3), Selection__percentile=75\n",
            "[CV 4/5; 115/120] END Modelo=RandomForestClassifier(random_state=20), Preprocessing__bow__ngram_range=(1, 3), Selection__percentile=75;, score=(train=1.000, test=0.500) total time=   1.0s\n",
            "[CV 5/5; 115/120] START Modelo=RandomForestClassifier(random_state=20), Preprocessing__bow__ngram_range=(1, 3), Selection__percentile=75\n",
            "[CV 5/5; 115/120] END Modelo=RandomForestClassifier(random_state=20), Preprocessing__bow__ngram_range=(1, 3), Selection__percentile=75;, score=(train=1.000, test=0.500) total time=   0.8s\n",
            "[CV 1/5; 116/120] START Modelo=RandomForestClassifier(random_state=20), Preprocessing__bow__ngram_range=(1, 3), Selection__percentile=80\n"
          ]
        },
        {
          "output_type": "stream",
          "name": "stderr",
          "text": [
            "/usr/local/lib/python3.7/dist-packages/sklearn/feature_selection/_univariate_selection.py:113: RuntimeWarning: divide by zero encountered in true_divide\n",
            "  f = msb / msw\n"
          ]
        },
        {
          "output_type": "stream",
          "name": "stdout",
          "text": [
            "[CV 1/5; 116/120] END Modelo=RandomForestClassifier(random_state=20), Preprocessing__bow__ngram_range=(1, 3), Selection__percentile=80;, score=(train=1.000, test=0.333) total time=   1.0s\n",
            "[CV 2/5; 116/120] START Modelo=RandomForestClassifier(random_state=20), Preprocessing__bow__ngram_range=(1, 3), Selection__percentile=80\n"
          ]
        },
        {
          "output_type": "stream",
          "name": "stderr",
          "text": [
            "/usr/local/lib/python3.7/dist-packages/sklearn/feature_selection/_univariate_selection.py:113: RuntimeWarning: divide by zero encountered in true_divide\n",
            "  f = msb / msw\n"
          ]
        },
        {
          "output_type": "stream",
          "name": "stdout",
          "text": [
            "[CV 2/5; 116/120] END Modelo=RandomForestClassifier(random_state=20), Preprocessing__bow__ngram_range=(1, 3), Selection__percentile=80;, score=(train=1.000, test=0.333) total time=   1.3s\n",
            "[CV 3/5; 116/120] START Modelo=RandomForestClassifier(random_state=20), Preprocessing__bow__ngram_range=(1, 3), Selection__percentile=80\n",
            "[CV 3/5; 116/120] END Modelo=RandomForestClassifier(random_state=20), Preprocessing__bow__ngram_range=(1, 3), Selection__percentile=80;, score=(train=1.000, test=0.500) total time=   0.6s\n",
            "[CV 4/5; 116/120] START Modelo=RandomForestClassifier(random_state=20), Preprocessing__bow__ngram_range=(1, 3), Selection__percentile=80\n",
            "[CV 4/5; 116/120] END Modelo=RandomForestClassifier(random_state=20), Preprocessing__bow__ngram_range=(1, 3), Selection__percentile=80;, score=(train=1.000, test=0.500) total time=   1.1s\n",
            "[CV 5/5; 116/120] START Modelo=RandomForestClassifier(random_state=20), Preprocessing__bow__ngram_range=(1, 3), Selection__percentile=80\n",
            "[CV 5/5; 116/120] END Modelo=RandomForestClassifier(random_state=20), Preprocessing__bow__ngram_range=(1, 3), Selection__percentile=80;, score=(train=1.000, test=0.500) total time=   0.9s\n",
            "[CV 1/5; 117/120] START Modelo=RandomForestClassifier(random_state=20), Preprocessing__bow__ngram_range=(1, 3), Selection__percentile=85\n"
          ]
        },
        {
          "output_type": "stream",
          "name": "stderr",
          "text": [
            "/usr/local/lib/python3.7/dist-packages/sklearn/feature_selection/_univariate_selection.py:113: RuntimeWarning: divide by zero encountered in true_divide\n",
            "  f = msb / msw\n"
          ]
        },
        {
          "output_type": "stream",
          "name": "stdout",
          "text": [
            "[CV 1/5; 117/120] END Modelo=RandomForestClassifier(random_state=20), Preprocessing__bow__ngram_range=(1, 3), Selection__percentile=85;, score=(train=1.000, test=0.333) total time=   1.0s\n",
            "[CV 2/5; 117/120] START Modelo=RandomForestClassifier(random_state=20), Preprocessing__bow__ngram_range=(1, 3), Selection__percentile=85\n"
          ]
        },
        {
          "output_type": "stream",
          "name": "stderr",
          "text": [
            "/usr/local/lib/python3.7/dist-packages/sklearn/feature_selection/_univariate_selection.py:113: RuntimeWarning: divide by zero encountered in true_divide\n",
            "  f = msb / msw\n"
          ]
        },
        {
          "output_type": "stream",
          "name": "stdout",
          "text": [
            "[CV 2/5; 117/120] END Modelo=RandomForestClassifier(random_state=20), Preprocessing__bow__ngram_range=(1, 3), Selection__percentile=85;, score=(train=1.000, test=0.333) total time=   1.4s\n",
            "[CV 3/5; 117/120] START Modelo=RandomForestClassifier(random_state=20), Preprocessing__bow__ngram_range=(1, 3), Selection__percentile=85\n",
            "[CV 3/5; 117/120] END Modelo=RandomForestClassifier(random_state=20), Preprocessing__bow__ngram_range=(1, 3), Selection__percentile=85;, score=(train=1.000, test=0.500) total time=   0.6s\n",
            "[CV 4/5; 117/120] START Modelo=RandomForestClassifier(random_state=20), Preprocessing__bow__ngram_range=(1, 3), Selection__percentile=85\n",
            "[CV 4/5; 117/120] END Modelo=RandomForestClassifier(random_state=20), Preprocessing__bow__ngram_range=(1, 3), Selection__percentile=85;, score=(train=1.000, test=0.500) total time=   1.1s\n",
            "[CV 5/5; 117/120] START Modelo=RandomForestClassifier(random_state=20), Preprocessing__bow__ngram_range=(1, 3), Selection__percentile=85\n",
            "[CV 5/5; 117/120] END Modelo=RandomForestClassifier(random_state=20), Preprocessing__bow__ngram_range=(1, 3), Selection__percentile=85;, score=(train=1.000, test=0.500) total time=   0.9s\n",
            "[CV 1/5; 118/120] START Modelo=RandomForestClassifier(random_state=20), Preprocessing__bow__ngram_range=(1, 3), Selection__percentile=90\n"
          ]
        },
        {
          "output_type": "stream",
          "name": "stderr",
          "text": [
            "/usr/local/lib/python3.7/dist-packages/sklearn/feature_selection/_univariate_selection.py:113: RuntimeWarning: divide by zero encountered in true_divide\n",
            "  f = msb / msw\n"
          ]
        },
        {
          "output_type": "stream",
          "name": "stdout",
          "text": [
            "[CV 1/5; 118/120] END Modelo=RandomForestClassifier(random_state=20), Preprocessing__bow__ngram_range=(1, 3), Selection__percentile=90;, score=(train=1.000, test=0.333) total time=   1.0s\n",
            "[CV 2/5; 118/120] START Modelo=RandomForestClassifier(random_state=20), Preprocessing__bow__ngram_range=(1, 3), Selection__percentile=90\n"
          ]
        },
        {
          "output_type": "stream",
          "name": "stderr",
          "text": [
            "/usr/local/lib/python3.7/dist-packages/sklearn/feature_selection/_univariate_selection.py:113: RuntimeWarning: divide by zero encountered in true_divide\n",
            "  f = msb / msw\n"
          ]
        },
        {
          "output_type": "stream",
          "name": "stdout",
          "text": [
            "[CV 2/5; 118/120] END Modelo=RandomForestClassifier(random_state=20), Preprocessing__bow__ngram_range=(1, 3), Selection__percentile=90;, score=(train=1.000, test=0.333) total time=   1.3s\n",
            "[CV 3/5; 118/120] START Modelo=RandomForestClassifier(random_state=20), Preprocessing__bow__ngram_range=(1, 3), Selection__percentile=90\n",
            "[CV 3/5; 118/120] END Modelo=RandomForestClassifier(random_state=20), Preprocessing__bow__ngram_range=(1, 3), Selection__percentile=90;, score=(train=1.000, test=0.500) total time=   0.6s\n",
            "[CV 4/5; 118/120] START Modelo=RandomForestClassifier(random_state=20), Preprocessing__bow__ngram_range=(1, 3), Selection__percentile=90\n",
            "[CV 4/5; 118/120] END Modelo=RandomForestClassifier(random_state=20), Preprocessing__bow__ngram_range=(1, 3), Selection__percentile=90;, score=(train=1.000, test=0.500) total time=   1.1s\n",
            "[CV 5/5; 118/120] START Modelo=RandomForestClassifier(random_state=20), Preprocessing__bow__ngram_range=(1, 3), Selection__percentile=90\n",
            "[CV 5/5; 118/120] END Modelo=RandomForestClassifier(random_state=20), Preprocessing__bow__ngram_range=(1, 3), Selection__percentile=90;, score=(train=1.000, test=0.500) total time=   0.9s\n",
            "[CV 1/5; 119/120] START Modelo=RandomForestClassifier(random_state=20), Preprocessing__bow__ngram_range=(1, 3), Selection__percentile=95\n"
          ]
        },
        {
          "output_type": "stream",
          "name": "stderr",
          "text": [
            "/usr/local/lib/python3.7/dist-packages/sklearn/feature_selection/_univariate_selection.py:113: RuntimeWarning: divide by zero encountered in true_divide\n",
            "  f = msb / msw\n"
          ]
        },
        {
          "output_type": "stream",
          "name": "stdout",
          "text": [
            "[CV 1/5; 119/120] END Modelo=RandomForestClassifier(random_state=20), Preprocessing__bow__ngram_range=(1, 3), Selection__percentile=95;, score=(train=1.000, test=0.333) total time=   1.0s\n",
            "[CV 2/5; 119/120] START Modelo=RandomForestClassifier(random_state=20), Preprocessing__bow__ngram_range=(1, 3), Selection__percentile=95\n"
          ]
        },
        {
          "output_type": "stream",
          "name": "stderr",
          "text": [
            "/usr/local/lib/python3.7/dist-packages/sklearn/feature_selection/_univariate_selection.py:113: RuntimeWarning: divide by zero encountered in true_divide\n",
            "  f = msb / msw\n"
          ]
        },
        {
          "output_type": "stream",
          "name": "stdout",
          "text": [
            "[CV 2/5; 119/120] END Modelo=RandomForestClassifier(random_state=20), Preprocessing__bow__ngram_range=(1, 3), Selection__percentile=95;, score=(train=1.000, test=0.333) total time=   1.4s\n",
            "[CV 3/5; 119/120] START Modelo=RandomForestClassifier(random_state=20), Preprocessing__bow__ngram_range=(1, 3), Selection__percentile=95\n",
            "[CV 3/5; 119/120] END Modelo=RandomForestClassifier(random_state=20), Preprocessing__bow__ngram_range=(1, 3), Selection__percentile=95;, score=(train=1.000, test=0.500) total time=   0.6s\n",
            "[CV 4/5; 119/120] START Modelo=RandomForestClassifier(random_state=20), Preprocessing__bow__ngram_range=(1, 3), Selection__percentile=95\n",
            "[CV 4/5; 119/120] END Modelo=RandomForestClassifier(random_state=20), Preprocessing__bow__ngram_range=(1, 3), Selection__percentile=95;, score=(train=1.000, test=0.500) total time=   1.0s\n",
            "[CV 5/5; 119/120] START Modelo=RandomForestClassifier(random_state=20), Preprocessing__bow__ngram_range=(1, 3), Selection__percentile=95\n",
            "[CV 5/5; 119/120] END Modelo=RandomForestClassifier(random_state=20), Preprocessing__bow__ngram_range=(1, 3), Selection__percentile=95;, score=(train=1.000, test=0.500) total time=   0.9s\n",
            "[CV 1/5; 120/120] START Modelo=RandomForestClassifier(random_state=20), Preprocessing__bow__ngram_range=(1, 3), Selection__percentile=100\n"
          ]
        },
        {
          "output_type": "stream",
          "name": "stderr",
          "text": [
            "/usr/local/lib/python3.7/dist-packages/sklearn/feature_selection/_univariate_selection.py:113: RuntimeWarning: divide by zero encountered in true_divide\n",
            "  f = msb / msw\n"
          ]
        },
        {
          "output_type": "stream",
          "name": "stdout",
          "text": [
            "[CV 1/5; 120/120] END Modelo=RandomForestClassifier(random_state=20), Preprocessing__bow__ngram_range=(1, 3), Selection__percentile=100;, score=(train=1.000, test=0.333) total time=   1.0s\n",
            "[CV 2/5; 120/120] START Modelo=RandomForestClassifier(random_state=20), Preprocessing__bow__ngram_range=(1, 3), Selection__percentile=100\n"
          ]
        },
        {
          "output_type": "stream",
          "name": "stderr",
          "text": [
            "/usr/local/lib/python3.7/dist-packages/sklearn/feature_selection/_univariate_selection.py:113: RuntimeWarning: divide by zero encountered in true_divide\n",
            "  f = msb / msw\n"
          ]
        },
        {
          "output_type": "stream",
          "name": "stdout",
          "text": [
            "[CV 2/5; 120/120] END Modelo=RandomForestClassifier(random_state=20), Preprocessing__bow__ngram_range=(1, 3), Selection__percentile=100;, score=(train=1.000, test=0.333) total time=   1.3s\n",
            "[CV 3/5; 120/120] START Modelo=RandomForestClassifier(random_state=20), Preprocessing__bow__ngram_range=(1, 3), Selection__percentile=100\n",
            "[CV 3/5; 120/120] END Modelo=RandomForestClassifier(random_state=20), Preprocessing__bow__ngram_range=(1, 3), Selection__percentile=100;, score=(train=1.000, test=0.500) total time=   0.6s\n",
            "[CV 4/5; 120/120] START Modelo=RandomForestClassifier(random_state=20), Preprocessing__bow__ngram_range=(1, 3), Selection__percentile=100\n",
            "[CV 4/5; 120/120] END Modelo=RandomForestClassifier(random_state=20), Preprocessing__bow__ngram_range=(1, 3), Selection__percentile=100;, score=(train=1.000, test=0.500) total time=   1.0s\n",
            "[CV 5/5; 120/120] START Modelo=RandomForestClassifier(random_state=20), Preprocessing__bow__ngram_range=(1, 3), Selection__percentile=100\n",
            "[CV 5/5; 120/120] END Modelo=RandomForestClassifier(random_state=20), Preprocessing__bow__ngram_range=(1, 3), Selection__percentile=100;, score=(train=1.000, test=0.500) total time=   0.9s\n",
            "----------\n",
            "iter: 1\n",
            "n_candidates: 40\n",
            "n_resources: 90\n",
            "Fitting 5 folds for each of 40 candidates, totalling 200 fits\n",
            "[CV 1/5; 1/40] START Modelo=LogisticRegression(random_state=20), Preprocessing__bow__ngram_range=(1, 2), Selection__percentile=90\n"
          ]
        },
        {
          "output_type": "stream",
          "name": "stderr",
          "text": [
            "/usr/local/lib/python3.7/dist-packages/sklearn/linear_model/_logistic.py:818: ConvergenceWarning: lbfgs failed to converge (status=1):\n",
            "STOP: TOTAL NO. of ITERATIONS REACHED LIMIT.\n",
            "\n",
            "Increase the number of iterations (max_iter) or scale the data as shown in:\n",
            "    https://scikit-learn.org/stable/modules/preprocessing.html\n",
            "Please also refer to the documentation for alternative solver options:\n",
            "    https://scikit-learn.org/stable/modules/linear_model.html#logistic-regression\n",
            "  extra_warning_msg=_LOGISTIC_SOLVER_CONVERGENCE_MSG,\n"
          ]
        },
        {
          "output_type": "stream",
          "name": "stdout",
          "text": [
            "[CV 1/5; 1/40] END Modelo=LogisticRegression(random_state=20), Preprocessing__bow__ngram_range=(1, 2), Selection__percentile=90;, score=(train=1.000, test=0.444) total time=   4.2s\n",
            "[CV 2/5; 1/40] START Modelo=LogisticRegression(random_state=20), Preprocessing__bow__ngram_range=(1, 2), Selection__percentile=90\n",
            "[CV 2/5; 1/40] END Modelo=LogisticRegression(random_state=20), Preprocessing__bow__ngram_range=(1, 2), Selection__percentile=90;, score=(train=1.000, test=0.556) total time=   5.5s\n",
            "[CV 3/5; 1/40] START Modelo=LogisticRegression(random_state=20), Preprocessing__bow__ngram_range=(1, 2), Selection__percentile=90\n"
          ]
        },
        {
          "output_type": "stream",
          "name": "stderr",
          "text": [
            "/usr/local/lib/python3.7/dist-packages/sklearn/linear_model/_logistic.py:818: ConvergenceWarning: lbfgs failed to converge (status=1):\n",
            "STOP: TOTAL NO. of ITERATIONS REACHED LIMIT.\n",
            "\n",
            "Increase the number of iterations (max_iter) or scale the data as shown in:\n",
            "    https://scikit-learn.org/stable/modules/preprocessing.html\n",
            "Please also refer to the documentation for alternative solver options:\n",
            "    https://scikit-learn.org/stable/modules/linear_model.html#logistic-regression\n",
            "  extra_warning_msg=_LOGISTIC_SOLVER_CONVERGENCE_MSG,\n"
          ]
        },
        {
          "output_type": "stream",
          "name": "stdout",
          "text": [
            "[CV 3/5; 1/40] END Modelo=LogisticRegression(random_state=20), Preprocessing__bow__ngram_range=(1, 2), Selection__percentile=90;, score=(train=1.000, test=0.389) total time=   5.9s\n",
            "[CV 4/5; 1/40] START Modelo=LogisticRegression(random_state=20), Preprocessing__bow__ngram_range=(1, 2), Selection__percentile=90\n",
            "[CV 4/5; 1/40] END Modelo=LogisticRegression(random_state=20), Preprocessing__bow__ngram_range=(1, 2), Selection__percentile=90;, score=(train=1.000, test=0.611) total time=   5.8s\n",
            "[CV 5/5; 1/40] START Modelo=LogisticRegression(random_state=20), Preprocessing__bow__ngram_range=(1, 2), Selection__percentile=90\n"
          ]
        },
        {
          "output_type": "stream",
          "name": "stderr",
          "text": [
            "/usr/local/lib/python3.7/dist-packages/sklearn/linear_model/_logistic.py:818: ConvergenceWarning: lbfgs failed to converge (status=1):\n",
            "STOP: TOTAL NO. of ITERATIONS REACHED LIMIT.\n",
            "\n",
            "Increase the number of iterations (max_iter) or scale the data as shown in:\n",
            "    https://scikit-learn.org/stable/modules/preprocessing.html\n",
            "Please also refer to the documentation for alternative solver options:\n",
            "    https://scikit-learn.org/stable/modules/linear_model.html#logistic-regression\n",
            "  extra_warning_msg=_LOGISTIC_SOLVER_CONVERGENCE_MSG,\n"
          ]
        },
        {
          "output_type": "stream",
          "name": "stdout",
          "text": [
            "[CV 5/5; 1/40] END Modelo=LogisticRegression(random_state=20), Preprocessing__bow__ngram_range=(1, 2), Selection__percentile=90;, score=(train=1.000, test=0.611) total time=   5.4s\n",
            "[CV 1/5; 2/40] START Modelo=RandomForestClassifier(random_state=20), Preprocessing__bow__ngram_range=(1, 1), Selection__percentile=5\n",
            "[CV 1/5; 2/40] END Modelo=RandomForestClassifier(random_state=20), Preprocessing__bow__ngram_range=(1, 1), Selection__percentile=5;, score=(train=1.000, test=0.611) total time=   3.0s\n",
            "[CV 2/5; 2/40] START Modelo=RandomForestClassifier(random_state=20), Preprocessing__bow__ngram_range=(1, 1), Selection__percentile=5\n",
            "[CV 2/5; 2/40] END Modelo=RandomForestClassifier(random_state=20), Preprocessing__bow__ngram_range=(1, 1), Selection__percentile=5;, score=(train=0.972, test=0.611) total time=   2.9s\n",
            "[CV 3/5; 2/40] START Modelo=RandomForestClassifier(random_state=20), Preprocessing__bow__ngram_range=(1, 1), Selection__percentile=5\n",
            "[CV 3/5; 2/40] END Modelo=RandomForestClassifier(random_state=20), Preprocessing__bow__ngram_range=(1, 1), Selection__percentile=5;, score=(train=1.000, test=0.444) total time=   3.1s\n",
            "[CV 4/5; 2/40] START Modelo=RandomForestClassifier(random_state=20), Preprocessing__bow__ngram_range=(1, 1), Selection__percentile=5\n",
            "[CV 4/5; 2/40] END Modelo=RandomForestClassifier(random_state=20), Preprocessing__bow__ngram_range=(1, 1), Selection__percentile=5;, score=(train=1.000, test=0.389) total time=   2.8s\n",
            "[CV 5/5; 2/40] START Modelo=RandomForestClassifier(random_state=20), Preprocessing__bow__ngram_range=(1, 1), Selection__percentile=5\n",
            "[CV 5/5; 2/40] END Modelo=RandomForestClassifier(random_state=20), Preprocessing__bow__ngram_range=(1, 1), Selection__percentile=5;, score=(train=1.000, test=0.500) total time=   2.5s\n",
            "[CV 1/5; 3/40] START Modelo=LogisticRegression(random_state=20), Preprocessing__bow__ngram_range=(1, 1), Selection__percentile=20\n"
          ]
        },
        {
          "output_type": "stream",
          "name": "stderr",
          "text": [
            "/usr/local/lib/python3.7/dist-packages/sklearn/linear_model/_logistic.py:818: ConvergenceWarning: lbfgs failed to converge (status=1):\n",
            "STOP: TOTAL NO. of ITERATIONS REACHED LIMIT.\n",
            "\n",
            "Increase the number of iterations (max_iter) or scale the data as shown in:\n",
            "    https://scikit-learn.org/stable/modules/preprocessing.html\n",
            "Please also refer to the documentation for alternative solver options:\n",
            "    https://scikit-learn.org/stable/modules/linear_model.html#logistic-regression\n",
            "  extra_warning_msg=_LOGISTIC_SOLVER_CONVERGENCE_MSG,\n"
          ]
        },
        {
          "output_type": "stream",
          "name": "stdout",
          "text": [
            "[CV 1/5; 3/40] END Modelo=LogisticRegression(random_state=20), Preprocessing__bow__ngram_range=(1, 1), Selection__percentile=20;, score=(train=1.000, test=0.611) total time=   2.9s\n",
            "[CV 2/5; 3/40] START Modelo=LogisticRegression(random_state=20), Preprocessing__bow__ngram_range=(1, 1), Selection__percentile=20\n",
            "[CV 2/5; 3/40] END Modelo=LogisticRegression(random_state=20), Preprocessing__bow__ngram_range=(1, 1), Selection__percentile=20;, score=(train=1.000, test=0.500) total time=   2.8s\n",
            "[CV 3/5; 3/40] START Modelo=LogisticRegression(random_state=20), Preprocessing__bow__ngram_range=(1, 1), Selection__percentile=20\n"
          ]
        },
        {
          "output_type": "stream",
          "name": "stderr",
          "text": [
            "/usr/local/lib/python3.7/dist-packages/sklearn/linear_model/_logistic.py:818: ConvergenceWarning: lbfgs failed to converge (status=1):\n",
            "STOP: TOTAL NO. of ITERATIONS REACHED LIMIT.\n",
            "\n",
            "Increase the number of iterations (max_iter) or scale the data as shown in:\n",
            "    https://scikit-learn.org/stable/modules/preprocessing.html\n",
            "Please also refer to the documentation for alternative solver options:\n",
            "    https://scikit-learn.org/stable/modules/linear_model.html#logistic-regression\n",
            "  extra_warning_msg=_LOGISTIC_SOLVER_CONVERGENCE_MSG,\n"
          ]
        },
        {
          "output_type": "stream",
          "name": "stdout",
          "text": [
            "[CV 3/5; 3/40] END Modelo=LogisticRegression(random_state=20), Preprocessing__bow__ngram_range=(1, 1), Selection__percentile=20;, score=(train=1.000, test=0.278) total time=   3.0s\n",
            "[CV 4/5; 3/40] START Modelo=LogisticRegression(random_state=20), Preprocessing__bow__ngram_range=(1, 1), Selection__percentile=20\n",
            "[CV 4/5; 3/40] END Modelo=LogisticRegression(random_state=20), Preprocessing__bow__ngram_range=(1, 1), Selection__percentile=20;, score=(train=1.000, test=0.500) total time=   2.7s\n",
            "[CV 5/5; 3/40] START Modelo=LogisticRegression(random_state=20), Preprocessing__bow__ngram_range=(1, 1), Selection__percentile=20\n",
            "[CV 5/5; 3/40] END Modelo=LogisticRegression(random_state=20), Preprocessing__bow__ngram_range=(1, 1), Selection__percentile=20;, score=(train=1.000, test=0.667) total time=   2.4s\n",
            "[CV 1/5; 4/40] START Modelo=LogisticRegression(random_state=20), Preprocessing__bow__ngram_range=(1, 3), Selection__percentile=15\n"
          ]
        },
        {
          "output_type": "stream",
          "name": "stderr",
          "text": [
            "/usr/local/lib/python3.7/dist-packages/sklearn/linear_model/_logistic.py:818: ConvergenceWarning: lbfgs failed to converge (status=1):\n",
            "STOP: TOTAL NO. of ITERATIONS REACHED LIMIT.\n",
            "\n",
            "Increase the number of iterations (max_iter) or scale the data as shown in:\n",
            "    https://scikit-learn.org/stable/modules/preprocessing.html\n",
            "Please also refer to the documentation for alternative solver options:\n",
            "    https://scikit-learn.org/stable/modules/linear_model.html#logistic-regression\n",
            "  extra_warning_msg=_LOGISTIC_SOLVER_CONVERGENCE_MSG,\n"
          ]
        },
        {
          "output_type": "stream",
          "name": "stdout",
          "text": [
            "[CV 1/5; 4/40] END Modelo=LogisticRegression(random_state=20), Preprocessing__bow__ngram_range=(1, 3), Selection__percentile=15;, score=(train=1.000, test=0.611) total time=   4.4s\n",
            "[CV 2/5; 4/40] START Modelo=LogisticRegression(random_state=20), Preprocessing__bow__ngram_range=(1, 3), Selection__percentile=15\n",
            "[CV 2/5; 4/40] END Modelo=LogisticRegression(random_state=20), Preprocessing__bow__ngram_range=(1, 3), Selection__percentile=15;, score=(train=1.000, test=0.556) total time=   3.7s\n",
            "[CV 3/5; 4/40] START Modelo=LogisticRegression(random_state=20), Preprocessing__bow__ngram_range=(1, 3), Selection__percentile=15\n"
          ]
        },
        {
          "output_type": "stream",
          "name": "stderr",
          "text": [
            "/usr/local/lib/python3.7/dist-packages/sklearn/linear_model/_logistic.py:818: ConvergenceWarning: lbfgs failed to converge (status=1):\n",
            "STOP: TOTAL NO. of ITERATIONS REACHED LIMIT.\n",
            "\n",
            "Increase the number of iterations (max_iter) or scale the data as shown in:\n",
            "    https://scikit-learn.org/stable/modules/preprocessing.html\n",
            "Please also refer to the documentation for alternative solver options:\n",
            "    https://scikit-learn.org/stable/modules/linear_model.html#logistic-regression\n",
            "  extra_warning_msg=_LOGISTIC_SOLVER_CONVERGENCE_MSG,\n"
          ]
        },
        {
          "output_type": "stream",
          "name": "stdout",
          "text": [
            "[CV 3/5; 4/40] END Modelo=LogisticRegression(random_state=20), Preprocessing__bow__ngram_range=(1, 3), Selection__percentile=15;, score=(train=1.000, test=0.444) total time=   4.4s\n",
            "[CV 4/5; 4/40] START Modelo=LogisticRegression(random_state=20), Preprocessing__bow__ngram_range=(1, 3), Selection__percentile=15\n",
            "[CV 4/5; 4/40] END Modelo=LogisticRegression(random_state=20), Preprocessing__bow__ngram_range=(1, 3), Selection__percentile=15;, score=(train=0.972, test=0.556) total time=   3.8s\n",
            "[CV 5/5; 4/40] START Modelo=LogisticRegression(random_state=20), Preprocessing__bow__ngram_range=(1, 3), Selection__percentile=15\n",
            "[CV 5/5; 4/40] END Modelo=LogisticRegression(random_state=20), Preprocessing__bow__ngram_range=(1, 3), Selection__percentile=15;, score=(train=1.000, test=0.667) total time=   3.3s\n",
            "[CV 1/5; 5/40] START Modelo=LogisticRegression(random_state=20), Preprocessing__bow__ngram_range=(1, 3), Selection__percentile=55\n"
          ]
        },
        {
          "output_type": "stream",
          "name": "stderr",
          "text": [
            "/usr/local/lib/python3.7/dist-packages/sklearn/linear_model/_logistic.py:818: ConvergenceWarning: lbfgs failed to converge (status=1):\n",
            "STOP: TOTAL NO. of ITERATIONS REACHED LIMIT.\n",
            "\n",
            "Increase the number of iterations (max_iter) or scale the data as shown in:\n",
            "    https://scikit-learn.org/stable/modules/preprocessing.html\n",
            "Please also refer to the documentation for alternative solver options:\n",
            "    https://scikit-learn.org/stable/modules/linear_model.html#logistic-regression\n",
            "  extra_warning_msg=_LOGISTIC_SOLVER_CONVERGENCE_MSG,\n"
          ]
        },
        {
          "output_type": "stream",
          "name": "stdout",
          "text": [
            "[CV 1/5; 5/40] END Modelo=LogisticRegression(random_state=20), Preprocessing__bow__ngram_range=(1, 3), Selection__percentile=55;, score=(train=1.000, test=0.500) total time=   6.9s\n",
            "[CV 2/5; 5/40] START Modelo=LogisticRegression(random_state=20), Preprocessing__bow__ngram_range=(1, 3), Selection__percentile=55\n",
            "[CV 2/5; 5/40] END Modelo=LogisticRegression(random_state=20), Preprocessing__bow__ngram_range=(1, 3), Selection__percentile=55;, score=(train=1.000, test=0.556) total time=   7.6s\n",
            "[CV 3/5; 5/40] START Modelo=LogisticRegression(random_state=20), Preprocessing__bow__ngram_range=(1, 3), Selection__percentile=55\n"
          ]
        },
        {
          "output_type": "stream",
          "name": "stderr",
          "text": [
            "/usr/local/lib/python3.7/dist-packages/sklearn/linear_model/_logistic.py:818: ConvergenceWarning: lbfgs failed to converge (status=1):\n",
            "STOP: TOTAL NO. of ITERATIONS REACHED LIMIT.\n",
            "\n",
            "Increase the number of iterations (max_iter) or scale the data as shown in:\n",
            "    https://scikit-learn.org/stable/modules/preprocessing.html\n",
            "Please also refer to the documentation for alternative solver options:\n",
            "    https://scikit-learn.org/stable/modules/linear_model.html#logistic-regression\n",
            "  extra_warning_msg=_LOGISTIC_SOLVER_CONVERGENCE_MSG,\n"
          ]
        },
        {
          "output_type": "stream",
          "name": "stdout",
          "text": [
            "[CV 3/5; 5/40] END Modelo=LogisticRegression(random_state=20), Preprocessing__bow__ngram_range=(1, 3), Selection__percentile=55;, score=(train=1.000, test=0.500) total time=   7.2s\n",
            "[CV 4/5; 5/40] START Modelo=LogisticRegression(random_state=20), Preprocessing__bow__ngram_range=(1, 3), Selection__percentile=55\n",
            "[CV 4/5; 5/40] END Modelo=LogisticRegression(random_state=20), Preprocessing__bow__ngram_range=(1, 3), Selection__percentile=55;, score=(train=1.000, test=0.500) total time=   7.5s\n",
            "[CV 5/5; 5/40] START Modelo=LogisticRegression(random_state=20), Preprocessing__bow__ngram_range=(1, 3), Selection__percentile=55\n"
          ]
        },
        {
          "output_type": "stream",
          "name": "stderr",
          "text": [
            "/usr/local/lib/python3.7/dist-packages/sklearn/linear_model/_logistic.py:818: ConvergenceWarning: lbfgs failed to converge (status=1):\n",
            "STOP: TOTAL NO. of ITERATIONS REACHED LIMIT.\n",
            "\n",
            "Increase the number of iterations (max_iter) or scale the data as shown in:\n",
            "    https://scikit-learn.org/stable/modules/preprocessing.html\n",
            "Please also refer to the documentation for alternative solver options:\n",
            "    https://scikit-learn.org/stable/modules/linear_model.html#logistic-regression\n",
            "  extra_warning_msg=_LOGISTIC_SOLVER_CONVERGENCE_MSG,\n"
          ]
        },
        {
          "output_type": "stream",
          "name": "stdout",
          "text": [
            "[CV 5/5; 5/40] END Modelo=LogisticRegression(random_state=20), Preprocessing__bow__ngram_range=(1, 3), Selection__percentile=55;, score=(train=1.000, test=0.667) total time=   7.2s\n",
            "[CV 1/5; 6/40] START Modelo=LogisticRegression(random_state=20), Preprocessing__bow__ngram_range=(1, 3), Selection__percentile=60\n"
          ]
        },
        {
          "output_type": "stream",
          "name": "stderr",
          "text": [
            "/usr/local/lib/python3.7/dist-packages/sklearn/linear_model/_logistic.py:818: ConvergenceWarning: lbfgs failed to converge (status=1):\n",
            "STOP: TOTAL NO. of ITERATIONS REACHED LIMIT.\n",
            "\n",
            "Increase the number of iterations (max_iter) or scale the data as shown in:\n",
            "    https://scikit-learn.org/stable/modules/preprocessing.html\n",
            "Please also refer to the documentation for alternative solver options:\n",
            "    https://scikit-learn.org/stable/modules/linear_model.html#logistic-regression\n",
            "  extra_warning_msg=_LOGISTIC_SOLVER_CONVERGENCE_MSG,\n"
          ]
        },
        {
          "output_type": "stream",
          "name": "stdout",
          "text": [
            "[CV 1/5; 6/40] END Modelo=LogisticRegression(random_state=20), Preprocessing__bow__ngram_range=(1, 3), Selection__percentile=60;, score=(train=1.000, test=0.500) total time=   5.6s\n",
            "[CV 2/5; 6/40] START Modelo=LogisticRegression(random_state=20), Preprocessing__bow__ngram_range=(1, 3), Selection__percentile=60\n",
            "[CV 2/5; 6/40] END Modelo=LogisticRegression(random_state=20), Preprocessing__bow__ngram_range=(1, 3), Selection__percentile=60;, score=(train=1.000, test=0.556) total time=   7.0s\n",
            "[CV 3/5; 6/40] START Modelo=LogisticRegression(random_state=20), Preprocessing__bow__ngram_range=(1, 3), Selection__percentile=60\n"
          ]
        },
        {
          "output_type": "stream",
          "name": "stderr",
          "text": [
            "/usr/local/lib/python3.7/dist-packages/sklearn/linear_model/_logistic.py:818: ConvergenceWarning: lbfgs failed to converge (status=1):\n",
            "STOP: TOTAL NO. of ITERATIONS REACHED LIMIT.\n",
            "\n",
            "Increase the number of iterations (max_iter) or scale the data as shown in:\n",
            "    https://scikit-learn.org/stable/modules/preprocessing.html\n",
            "Please also refer to the documentation for alternative solver options:\n",
            "    https://scikit-learn.org/stable/modules/linear_model.html#logistic-regression\n",
            "  extra_warning_msg=_LOGISTIC_SOLVER_CONVERGENCE_MSG,\n"
          ]
        },
        {
          "output_type": "stream",
          "name": "stdout",
          "text": [
            "[CV 3/5; 6/40] END Modelo=LogisticRegression(random_state=20), Preprocessing__bow__ngram_range=(1, 3), Selection__percentile=60;, score=(train=1.000, test=0.500) total time=   7.3s\n",
            "[CV 4/5; 6/40] START Modelo=LogisticRegression(random_state=20), Preprocessing__bow__ngram_range=(1, 3), Selection__percentile=60\n"
          ]
        },
        {
          "output_type": "stream",
          "name": "stderr",
          "text": [
            "/usr/local/lib/python3.7/dist-packages/sklearn/linear_model/_logistic.py:818: ConvergenceWarning: lbfgs failed to converge (status=1):\n",
            "STOP: TOTAL NO. of ITERATIONS REACHED LIMIT.\n",
            "\n",
            "Increase the number of iterations (max_iter) or scale the data as shown in:\n",
            "    https://scikit-learn.org/stable/modules/preprocessing.html\n",
            "Please also refer to the documentation for alternative solver options:\n",
            "    https://scikit-learn.org/stable/modules/linear_model.html#logistic-regression\n",
            "  extra_warning_msg=_LOGISTIC_SOLVER_CONVERGENCE_MSG,\n"
          ]
        },
        {
          "output_type": "stream",
          "name": "stdout",
          "text": [
            "[CV 4/5; 6/40] END Modelo=LogisticRegression(random_state=20), Preprocessing__bow__ngram_range=(1, 3), Selection__percentile=60;, score=(train=1.000, test=0.500) total time=   8.2s\n",
            "[CV 5/5; 6/40] START Modelo=LogisticRegression(random_state=20), Preprocessing__bow__ngram_range=(1, 3), Selection__percentile=60\n",
            "[CV 5/5; 6/40] END Modelo=LogisticRegression(random_state=20), Preprocessing__bow__ngram_range=(1, 3), Selection__percentile=60;, score=(train=1.000, test=0.667) total time=   7.0s\n",
            "[CV 1/5; 7/40] START Modelo=LogisticRegression(random_state=20), Preprocessing__bow__ngram_range=(1, 3), Selection__percentile=65\n"
          ]
        },
        {
          "output_type": "stream",
          "name": "stderr",
          "text": [
            "/usr/local/lib/python3.7/dist-packages/sklearn/linear_model/_logistic.py:818: ConvergenceWarning: lbfgs failed to converge (status=1):\n",
            "STOP: TOTAL NO. of ITERATIONS REACHED LIMIT.\n",
            "\n",
            "Increase the number of iterations (max_iter) or scale the data as shown in:\n",
            "    https://scikit-learn.org/stable/modules/preprocessing.html\n",
            "Please also refer to the documentation for alternative solver options:\n",
            "    https://scikit-learn.org/stable/modules/linear_model.html#logistic-regression\n",
            "  extra_warning_msg=_LOGISTIC_SOLVER_CONVERGENCE_MSG,\n"
          ]
        },
        {
          "output_type": "stream",
          "name": "stdout",
          "text": [
            "[CV 1/5; 7/40] END Modelo=LogisticRegression(random_state=20), Preprocessing__bow__ngram_range=(1, 3), Selection__percentile=65;, score=(train=1.000, test=0.444) total time=   9.9s\n",
            "[CV 2/5; 7/40] START Modelo=LogisticRegression(random_state=20), Preprocessing__bow__ngram_range=(1, 3), Selection__percentile=65\n",
            "[CV 2/5; 7/40] END Modelo=LogisticRegression(random_state=20), Preprocessing__bow__ngram_range=(1, 3), Selection__percentile=65;, score=(train=1.000, test=0.556) total time=   8.2s\n",
            "[CV 3/5; 7/40] START Modelo=LogisticRegression(random_state=20), Preprocessing__bow__ngram_range=(1, 3), Selection__percentile=65\n"
          ]
        },
        {
          "output_type": "stream",
          "name": "stderr",
          "text": [
            "/usr/local/lib/python3.7/dist-packages/sklearn/linear_model/_logistic.py:818: ConvergenceWarning: lbfgs failed to converge (status=1):\n",
            "STOP: TOTAL NO. of ITERATIONS REACHED LIMIT.\n",
            "\n",
            "Increase the number of iterations (max_iter) or scale the data as shown in:\n",
            "    https://scikit-learn.org/stable/modules/preprocessing.html\n",
            "Please also refer to the documentation for alternative solver options:\n",
            "    https://scikit-learn.org/stable/modules/linear_model.html#logistic-regression\n",
            "  extra_warning_msg=_LOGISTIC_SOLVER_CONVERGENCE_MSG,\n"
          ]
        },
        {
          "output_type": "stream",
          "name": "stdout",
          "text": [
            "[CV 3/5; 7/40] END Modelo=LogisticRegression(random_state=20), Preprocessing__bow__ngram_range=(1, 3), Selection__percentile=65;, score=(train=1.000, test=0.444) total time=   8.0s\n",
            "[CV 4/5; 7/40] START Modelo=LogisticRegression(random_state=20), Preprocessing__bow__ngram_range=(1, 3), Selection__percentile=65\n",
            "[CV 4/5; 7/40] END Modelo=LogisticRegression(random_state=20), Preprocessing__bow__ngram_range=(1, 3), Selection__percentile=65;, score=(train=1.000, test=0.444) total time=   8.3s\n",
            "[CV 5/5; 7/40] START Modelo=LogisticRegression(random_state=20), Preprocessing__bow__ngram_range=(1, 3), Selection__percentile=65\n"
          ]
        },
        {
          "output_type": "stream",
          "name": "stderr",
          "text": [
            "/usr/local/lib/python3.7/dist-packages/sklearn/linear_model/_logistic.py:818: ConvergenceWarning: lbfgs failed to converge (status=1):\n",
            "STOP: TOTAL NO. of ITERATIONS REACHED LIMIT.\n",
            "\n",
            "Increase the number of iterations (max_iter) or scale the data as shown in:\n",
            "    https://scikit-learn.org/stable/modules/preprocessing.html\n",
            "Please also refer to the documentation for alternative solver options:\n",
            "    https://scikit-learn.org/stable/modules/linear_model.html#logistic-regression\n",
            "  extra_warning_msg=_LOGISTIC_SOLVER_CONVERGENCE_MSG,\n"
          ]
        },
        {
          "output_type": "stream",
          "name": "stdout",
          "text": [
            "[CV 5/5; 7/40] END Modelo=LogisticRegression(random_state=20), Preprocessing__bow__ngram_range=(1, 3), Selection__percentile=65;, score=(train=1.000, test=0.667) total time=   7.9s\n",
            "[CV 1/5; 8/40] START Modelo=LogisticRegression(random_state=20), Preprocessing__bow__ngram_range=(1, 3), Selection__percentile=70\n"
          ]
        },
        {
          "output_type": "stream",
          "name": "stderr",
          "text": [
            "/usr/local/lib/python3.7/dist-packages/sklearn/linear_model/_logistic.py:818: ConvergenceWarning: lbfgs failed to converge (status=1):\n",
            "STOP: TOTAL NO. of ITERATIONS REACHED LIMIT.\n",
            "\n",
            "Increase the number of iterations (max_iter) or scale the data as shown in:\n",
            "    https://scikit-learn.org/stable/modules/preprocessing.html\n",
            "Please also refer to the documentation for alternative solver options:\n",
            "    https://scikit-learn.org/stable/modules/linear_model.html#logistic-regression\n",
            "  extra_warning_msg=_LOGISTIC_SOLVER_CONVERGENCE_MSG,\n"
          ]
        },
        {
          "output_type": "stream",
          "name": "stdout",
          "text": [
            "[CV 1/5; 8/40] END Modelo=LogisticRegression(random_state=20), Preprocessing__bow__ngram_range=(1, 3), Selection__percentile=70;, score=(train=1.000, test=0.444) total time=   8.2s\n",
            "[CV 2/5; 8/40] START Modelo=LogisticRegression(random_state=20), Preprocessing__bow__ngram_range=(1, 3), Selection__percentile=70\n",
            "[CV 2/5; 8/40] END Modelo=LogisticRegression(random_state=20), Preprocessing__bow__ngram_range=(1, 3), Selection__percentile=70;, score=(train=1.000, test=0.556) total time=   8.0s\n",
            "[CV 3/5; 8/40] START Modelo=LogisticRegression(random_state=20), Preprocessing__bow__ngram_range=(1, 3), Selection__percentile=70\n"
          ]
        },
        {
          "output_type": "stream",
          "name": "stderr",
          "text": [
            "/usr/local/lib/python3.7/dist-packages/sklearn/linear_model/_logistic.py:818: ConvergenceWarning: lbfgs failed to converge (status=1):\n",
            "STOP: TOTAL NO. of ITERATIONS REACHED LIMIT.\n",
            "\n",
            "Increase the number of iterations (max_iter) or scale the data as shown in:\n",
            "    https://scikit-learn.org/stable/modules/preprocessing.html\n",
            "Please also refer to the documentation for alternative solver options:\n",
            "    https://scikit-learn.org/stable/modules/linear_model.html#logistic-regression\n",
            "  extra_warning_msg=_LOGISTIC_SOLVER_CONVERGENCE_MSG,\n"
          ]
        },
        {
          "output_type": "stream",
          "name": "stdout",
          "text": [
            "[CV 3/5; 8/40] END Modelo=LogisticRegression(random_state=20), Preprocessing__bow__ngram_range=(1, 3), Selection__percentile=70;, score=(train=1.000, test=0.444) total time=   8.0s\n",
            "[CV 4/5; 8/40] START Modelo=LogisticRegression(random_state=20), Preprocessing__bow__ngram_range=(1, 3), Selection__percentile=70\n",
            "[CV 4/5; 8/40] END Modelo=LogisticRegression(random_state=20), Preprocessing__bow__ngram_range=(1, 3), Selection__percentile=70;, score=(train=1.000, test=0.444) total time=   8.5s\n",
            "[CV 5/5; 8/40] START Modelo=LogisticRegression(random_state=20), Preprocessing__bow__ngram_range=(1, 3), Selection__percentile=70\n"
          ]
        },
        {
          "output_type": "stream",
          "name": "stderr",
          "text": [
            "/usr/local/lib/python3.7/dist-packages/sklearn/linear_model/_logistic.py:818: ConvergenceWarning: lbfgs failed to converge (status=1):\n",
            "STOP: TOTAL NO. of ITERATIONS REACHED LIMIT.\n",
            "\n",
            "Increase the number of iterations (max_iter) or scale the data as shown in:\n",
            "    https://scikit-learn.org/stable/modules/preprocessing.html\n",
            "Please also refer to the documentation for alternative solver options:\n",
            "    https://scikit-learn.org/stable/modules/linear_model.html#logistic-regression\n",
            "  extra_warning_msg=_LOGISTIC_SOLVER_CONVERGENCE_MSG,\n"
          ]
        },
        {
          "output_type": "stream",
          "name": "stdout",
          "text": [
            "[CV 5/5; 8/40] END Modelo=LogisticRegression(random_state=20), Preprocessing__bow__ngram_range=(1, 3), Selection__percentile=70;, score=(train=1.000, test=0.667) total time=   8.3s\n",
            "[CV 1/5; 9/40] START Modelo=LogisticRegression(random_state=20), Preprocessing__bow__ngram_range=(1, 3), Selection__percentile=75\n"
          ]
        },
        {
          "output_type": "stream",
          "name": "stderr",
          "text": [
            "/usr/local/lib/python3.7/dist-packages/sklearn/linear_model/_logistic.py:818: ConvergenceWarning: lbfgs failed to converge (status=1):\n",
            "STOP: TOTAL NO. of ITERATIONS REACHED LIMIT.\n",
            "\n",
            "Increase the number of iterations (max_iter) or scale the data as shown in:\n",
            "    https://scikit-learn.org/stable/modules/preprocessing.html\n",
            "Please also refer to the documentation for alternative solver options:\n",
            "    https://scikit-learn.org/stable/modules/linear_model.html#logistic-regression\n",
            "  extra_warning_msg=_LOGISTIC_SOLVER_CONVERGENCE_MSG,\n"
          ]
        },
        {
          "output_type": "stream",
          "name": "stdout",
          "text": [
            "[CV 1/5; 9/40] END Modelo=LogisticRegression(random_state=20), Preprocessing__bow__ngram_range=(1, 3), Selection__percentile=75;, score=(train=1.000, test=0.444) total time=   8.3s\n",
            "[CV 2/5; 9/40] START Modelo=LogisticRegression(random_state=20), Preprocessing__bow__ngram_range=(1, 3), Selection__percentile=75\n",
            "[CV 2/5; 9/40] END Modelo=LogisticRegression(random_state=20), Preprocessing__bow__ngram_range=(1, 3), Selection__percentile=75;, score=(train=1.000, test=0.556) total time=   8.7s\n",
            "[CV 3/5; 9/40] START Modelo=LogisticRegression(random_state=20), Preprocessing__bow__ngram_range=(1, 3), Selection__percentile=75\n"
          ]
        },
        {
          "output_type": "stream",
          "name": "stderr",
          "text": [
            "/usr/local/lib/python3.7/dist-packages/sklearn/linear_model/_logistic.py:818: ConvergenceWarning: lbfgs failed to converge (status=1):\n",
            "STOP: TOTAL NO. of ITERATIONS REACHED LIMIT.\n",
            "\n",
            "Increase the number of iterations (max_iter) or scale the data as shown in:\n",
            "    https://scikit-learn.org/stable/modules/preprocessing.html\n",
            "Please also refer to the documentation for alternative solver options:\n",
            "    https://scikit-learn.org/stable/modules/linear_model.html#logistic-regression\n",
            "  extra_warning_msg=_LOGISTIC_SOLVER_CONVERGENCE_MSG,\n"
          ]
        },
        {
          "output_type": "stream",
          "name": "stdout",
          "text": [
            "[CV 3/5; 9/40] END Modelo=LogisticRegression(random_state=20), Preprocessing__bow__ngram_range=(1, 3), Selection__percentile=75;, score=(train=1.000, test=0.444) total time=   9.2s\n",
            "[CV 4/5; 9/40] START Modelo=LogisticRegression(random_state=20), Preprocessing__bow__ngram_range=(1, 3), Selection__percentile=75\n",
            "[CV 4/5; 9/40] END Modelo=LogisticRegression(random_state=20), Preprocessing__bow__ngram_range=(1, 3), Selection__percentile=75;, score=(train=1.000, test=0.444) total time=   9.1s\n",
            "[CV 5/5; 9/40] START Modelo=LogisticRegression(random_state=20), Preprocessing__bow__ngram_range=(1, 3), Selection__percentile=75\n",
            "[CV 5/5; 9/40] END Modelo=LogisticRegression(random_state=20), Preprocessing__bow__ngram_range=(1, 3), Selection__percentile=75;, score=(train=1.000, test=0.667) total time=   8.5s\n",
            "[CV 1/5; 10/40] START Modelo=LogisticRegression(random_state=20), Preprocessing__bow__ngram_range=(1, 3), Selection__percentile=10\n"
          ]
        },
        {
          "output_type": "stream",
          "name": "stderr",
          "text": [
            "/usr/local/lib/python3.7/dist-packages/sklearn/linear_model/_logistic.py:818: ConvergenceWarning: lbfgs failed to converge (status=1):\n",
            "STOP: TOTAL NO. of ITERATIONS REACHED LIMIT.\n",
            "\n",
            "Increase the number of iterations (max_iter) or scale the data as shown in:\n",
            "    https://scikit-learn.org/stable/modules/preprocessing.html\n",
            "Please also refer to the documentation for alternative solver options:\n",
            "    https://scikit-learn.org/stable/modules/linear_model.html#logistic-regression\n",
            "  extra_warning_msg=_LOGISTIC_SOLVER_CONVERGENCE_MSG,\n"
          ]
        },
        {
          "output_type": "stream",
          "name": "stdout",
          "text": [
            "[CV 1/5; 10/40] END Modelo=LogisticRegression(random_state=20), Preprocessing__bow__ngram_range=(1, 3), Selection__percentile=10;, score=(train=1.000, test=0.611) total time=   4.0s\n",
            "[CV 2/5; 10/40] START Modelo=LogisticRegression(random_state=20), Preprocessing__bow__ngram_range=(1, 3), Selection__percentile=10\n",
            "[CV 2/5; 10/40] END Modelo=LogisticRegression(random_state=20), Preprocessing__bow__ngram_range=(1, 3), Selection__percentile=10;, score=(train=1.000, test=0.556) total time=   3.7s\n",
            "[CV 3/5; 10/40] START Modelo=LogisticRegression(random_state=20), Preprocessing__bow__ngram_range=(1, 3), Selection__percentile=10\n"
          ]
        },
        {
          "output_type": "stream",
          "name": "stderr",
          "text": [
            "/usr/local/lib/python3.7/dist-packages/sklearn/linear_model/_logistic.py:818: ConvergenceWarning: lbfgs failed to converge (status=1):\n",
            "STOP: TOTAL NO. of ITERATIONS REACHED LIMIT.\n",
            "\n",
            "Increase the number of iterations (max_iter) or scale the data as shown in:\n",
            "    https://scikit-learn.org/stable/modules/preprocessing.html\n",
            "Please also refer to the documentation for alternative solver options:\n",
            "    https://scikit-learn.org/stable/modules/linear_model.html#logistic-regression\n",
            "  extra_warning_msg=_LOGISTIC_SOLVER_CONVERGENCE_MSG,\n"
          ]
        },
        {
          "output_type": "stream",
          "name": "stdout",
          "text": [
            "[CV 3/5; 10/40] END Modelo=LogisticRegression(random_state=20), Preprocessing__bow__ngram_range=(1, 3), Selection__percentile=10;, score=(train=1.000, test=0.333) total time=   4.0s\n",
            "[CV 4/5; 10/40] START Modelo=LogisticRegression(random_state=20), Preprocessing__bow__ngram_range=(1, 3), Selection__percentile=10\n",
            "[CV 4/5; 10/40] END Modelo=LogisticRegression(random_state=20), Preprocessing__bow__ngram_range=(1, 3), Selection__percentile=10;, score=(train=0.972, test=0.556) total time=   3.5s\n",
            "[CV 5/5; 10/40] START Modelo=LogisticRegression(random_state=20), Preprocessing__bow__ngram_range=(1, 3), Selection__percentile=10\n",
            "[CV 5/5; 10/40] END Modelo=LogisticRegression(random_state=20), Preprocessing__bow__ngram_range=(1, 3), Selection__percentile=10;, score=(train=1.000, test=0.611) total time=   3.1s\n",
            "[CV 1/5; 11/40] START Modelo=LogisticRegression(random_state=20), Preprocessing__bow__ngram_range=(1, 2), Selection__percentile=35\n"
          ]
        },
        {
          "output_type": "stream",
          "name": "stderr",
          "text": [
            "/usr/local/lib/python3.7/dist-packages/sklearn/linear_model/_logistic.py:818: ConvergenceWarning: lbfgs failed to converge (status=1):\n",
            "STOP: TOTAL NO. of ITERATIONS REACHED LIMIT.\n",
            "\n",
            "Increase the number of iterations (max_iter) or scale the data as shown in:\n",
            "    https://scikit-learn.org/stable/modules/preprocessing.html\n",
            "Please also refer to the documentation for alternative solver options:\n",
            "    https://scikit-learn.org/stable/modules/linear_model.html#logistic-regression\n",
            "  extra_warning_msg=_LOGISTIC_SOLVER_CONVERGENCE_MSG,\n"
          ]
        },
        {
          "output_type": "stream",
          "name": "stdout",
          "text": [
            "[CV 1/5; 11/40] END Modelo=LogisticRegression(random_state=20), Preprocessing__bow__ngram_range=(1, 2), Selection__percentile=35;, score=(train=1.000, test=0.444) total time=   4.0s\n",
            "[CV 2/5; 11/40] START Modelo=LogisticRegression(random_state=20), Preprocessing__bow__ngram_range=(1, 2), Selection__percentile=35\n",
            "[CV 2/5; 11/40] END Modelo=LogisticRegression(random_state=20), Preprocessing__bow__ngram_range=(1, 2), Selection__percentile=35;, score=(train=1.000, test=0.556) total time=   3.3s\n",
            "[CV 3/5; 11/40] START Modelo=LogisticRegression(random_state=20), Preprocessing__bow__ngram_range=(1, 2), Selection__percentile=35\n"
          ]
        },
        {
          "output_type": "stream",
          "name": "stderr",
          "text": [
            "/usr/local/lib/python3.7/dist-packages/sklearn/linear_model/_logistic.py:818: ConvergenceWarning: lbfgs failed to converge (status=1):\n",
            "STOP: TOTAL NO. of ITERATIONS REACHED LIMIT.\n",
            "\n",
            "Increase the number of iterations (max_iter) or scale the data as shown in:\n",
            "    https://scikit-learn.org/stable/modules/preprocessing.html\n",
            "Please also refer to the documentation for alternative solver options:\n",
            "    https://scikit-learn.org/stable/modules/linear_model.html#logistic-regression\n",
            "  extra_warning_msg=_LOGISTIC_SOLVER_CONVERGENCE_MSG,\n"
          ]
        },
        {
          "output_type": "stream",
          "name": "stdout",
          "text": [
            "[CV 3/5; 11/40] END Modelo=LogisticRegression(random_state=20), Preprocessing__bow__ngram_range=(1, 2), Selection__percentile=35;, score=(train=1.000, test=0.389) total time=   4.1s\n",
            "[CV 4/5; 11/40] START Modelo=LogisticRegression(random_state=20), Preprocessing__bow__ngram_range=(1, 2), Selection__percentile=35\n",
            "[CV 4/5; 11/40] END Modelo=LogisticRegression(random_state=20), Preprocessing__bow__ngram_range=(1, 2), Selection__percentile=35;, score=(train=1.000, test=0.556) total time=   3.7s\n",
            "[CV 5/5; 11/40] START Modelo=LogisticRegression(random_state=20), Preprocessing__bow__ngram_range=(1, 2), Selection__percentile=35\n",
            "[CV 5/5; 11/40] END Modelo=LogisticRegression(random_state=20), Preprocessing__bow__ngram_range=(1, 2), Selection__percentile=35;, score=(train=1.000, test=0.667) total time=   3.0s\n",
            "[CV 1/5; 12/40] START Modelo=LogisticRegression(random_state=20), Preprocessing__bow__ngram_range=(1, 1), Selection__percentile=85\n"
          ]
        },
        {
          "output_type": "stream",
          "name": "stderr",
          "text": [
            "/usr/local/lib/python3.7/dist-packages/sklearn/linear_model/_logistic.py:818: ConvergenceWarning: lbfgs failed to converge (status=1):\n",
            "STOP: TOTAL NO. of ITERATIONS REACHED LIMIT.\n",
            "\n",
            "Increase the number of iterations (max_iter) or scale the data as shown in:\n",
            "    https://scikit-learn.org/stable/modules/preprocessing.html\n",
            "Please also refer to the documentation for alternative solver options:\n",
            "    https://scikit-learn.org/stable/modules/linear_model.html#logistic-regression\n",
            "  extra_warning_msg=_LOGISTIC_SOLVER_CONVERGENCE_MSG,\n"
          ]
        },
        {
          "output_type": "stream",
          "name": "stdout",
          "text": [
            "[CV 1/5; 12/40] END Modelo=LogisticRegression(random_state=20), Preprocessing__bow__ngram_range=(1, 1), Selection__percentile=85;, score=(train=1.000, test=0.500) total time=   3.3s\n",
            "[CV 2/5; 12/40] START Modelo=LogisticRegression(random_state=20), Preprocessing__bow__ngram_range=(1, 1), Selection__percentile=85\n"
          ]
        },
        {
          "output_type": "stream",
          "name": "stderr",
          "text": [
            "/usr/local/lib/python3.7/dist-packages/sklearn/linear_model/_logistic.py:818: ConvergenceWarning: lbfgs failed to converge (status=1):\n",
            "STOP: TOTAL NO. of ITERATIONS REACHED LIMIT.\n",
            "\n",
            "Increase the number of iterations (max_iter) or scale the data as shown in:\n",
            "    https://scikit-learn.org/stable/modules/preprocessing.html\n",
            "Please also refer to the documentation for alternative solver options:\n",
            "    https://scikit-learn.org/stable/modules/linear_model.html#logistic-regression\n",
            "  extra_warning_msg=_LOGISTIC_SOLVER_CONVERGENCE_MSG,\n"
          ]
        },
        {
          "output_type": "stream",
          "name": "stdout",
          "text": [
            "[CV 2/5; 12/40] END Modelo=LogisticRegression(random_state=20), Preprocessing__bow__ngram_range=(1, 1), Selection__percentile=85;, score=(train=1.000, test=0.556) total time=   3.4s\n",
            "[CV 3/5; 12/40] START Modelo=LogisticRegression(random_state=20), Preprocessing__bow__ngram_range=(1, 1), Selection__percentile=85\n"
          ]
        },
        {
          "output_type": "stream",
          "name": "stderr",
          "text": [
            "/usr/local/lib/python3.7/dist-packages/sklearn/linear_model/_logistic.py:818: ConvergenceWarning: lbfgs failed to converge (status=1):\n",
            "STOP: TOTAL NO. of ITERATIONS REACHED LIMIT.\n",
            "\n",
            "Increase the number of iterations (max_iter) or scale the data as shown in:\n",
            "    https://scikit-learn.org/stable/modules/preprocessing.html\n",
            "Please also refer to the documentation for alternative solver options:\n",
            "    https://scikit-learn.org/stable/modules/linear_model.html#logistic-regression\n",
            "  extra_warning_msg=_LOGISTIC_SOLVER_CONVERGENCE_MSG,\n"
          ]
        },
        {
          "output_type": "stream",
          "name": "stdout",
          "text": [
            "[CV 3/5; 12/40] END Modelo=LogisticRegression(random_state=20), Preprocessing__bow__ngram_range=(1, 1), Selection__percentile=85;, score=(train=1.000, test=0.333) total time=   3.5s\n",
            "[CV 4/5; 12/40] START Modelo=LogisticRegression(random_state=20), Preprocessing__bow__ngram_range=(1, 1), Selection__percentile=85\n",
            "[CV 4/5; 12/40] END Modelo=LogisticRegression(random_state=20), Preprocessing__bow__ngram_range=(1, 1), Selection__percentile=85;, score=(train=1.000, test=0.556) total time=   3.1s\n",
            "[CV 5/5; 12/40] START Modelo=LogisticRegression(random_state=20), Preprocessing__bow__ngram_range=(1, 1), Selection__percentile=85\n"
          ]
        },
        {
          "output_type": "stream",
          "name": "stderr",
          "text": [
            "/usr/local/lib/python3.7/dist-packages/sklearn/linear_model/_logistic.py:818: ConvergenceWarning: lbfgs failed to converge (status=1):\n",
            "STOP: TOTAL NO. of ITERATIONS REACHED LIMIT.\n",
            "\n",
            "Increase the number of iterations (max_iter) or scale the data as shown in:\n",
            "    https://scikit-learn.org/stable/modules/preprocessing.html\n",
            "Please also refer to the documentation for alternative solver options:\n",
            "    https://scikit-learn.org/stable/modules/linear_model.html#logistic-regression\n",
            "  extra_warning_msg=_LOGISTIC_SOLVER_CONVERGENCE_MSG,\n"
          ]
        },
        {
          "output_type": "stream",
          "name": "stdout",
          "text": [
            "[CV 5/5; 12/40] END Modelo=LogisticRegression(random_state=20), Preprocessing__bow__ngram_range=(1, 1), Selection__percentile=85;, score=(train=1.000, test=0.611) total time=   3.0s\n",
            "[CV 1/5; 13/40] START Modelo=LogisticRegression(random_state=20), Preprocessing__bow__ngram_range=(1, 1), Selection__percentile=90\n"
          ]
        },
        {
          "output_type": "stream",
          "name": "stderr",
          "text": [
            "/usr/local/lib/python3.7/dist-packages/sklearn/linear_model/_logistic.py:818: ConvergenceWarning: lbfgs failed to converge (status=1):\n",
            "STOP: TOTAL NO. of ITERATIONS REACHED LIMIT.\n",
            "\n",
            "Increase the number of iterations (max_iter) or scale the data as shown in:\n",
            "    https://scikit-learn.org/stable/modules/preprocessing.html\n",
            "Please also refer to the documentation for alternative solver options:\n",
            "    https://scikit-learn.org/stable/modules/linear_model.html#logistic-regression\n",
            "  extra_warning_msg=_LOGISTIC_SOLVER_CONVERGENCE_MSG,\n"
          ]
        },
        {
          "output_type": "stream",
          "name": "stdout",
          "text": [
            "[CV 1/5; 13/40] END Modelo=LogisticRegression(random_state=20), Preprocessing__bow__ngram_range=(1, 1), Selection__percentile=90;, score=(train=1.000, test=0.500) total time=   3.4s\n",
            "[CV 2/5; 13/40] START Modelo=LogisticRegression(random_state=20), Preprocessing__bow__ngram_range=(1, 1), Selection__percentile=90\n"
          ]
        },
        {
          "output_type": "stream",
          "name": "stderr",
          "text": [
            "/usr/local/lib/python3.7/dist-packages/sklearn/linear_model/_logistic.py:818: ConvergenceWarning: lbfgs failed to converge (status=1):\n",
            "STOP: TOTAL NO. of ITERATIONS REACHED LIMIT.\n",
            "\n",
            "Increase the number of iterations (max_iter) or scale the data as shown in:\n",
            "    https://scikit-learn.org/stable/modules/preprocessing.html\n",
            "Please also refer to the documentation for alternative solver options:\n",
            "    https://scikit-learn.org/stable/modules/linear_model.html#logistic-regression\n",
            "  extra_warning_msg=_LOGISTIC_SOLVER_CONVERGENCE_MSG,\n"
          ]
        },
        {
          "output_type": "stream",
          "name": "stdout",
          "text": [
            "[CV 2/5; 13/40] END Modelo=LogisticRegression(random_state=20), Preprocessing__bow__ngram_range=(1, 1), Selection__percentile=90;, score=(train=1.000, test=0.500) total time=   3.4s\n",
            "[CV 3/5; 13/40] START Modelo=LogisticRegression(random_state=20), Preprocessing__bow__ngram_range=(1, 1), Selection__percentile=90\n"
          ]
        },
        {
          "output_type": "stream",
          "name": "stderr",
          "text": [
            "/usr/local/lib/python3.7/dist-packages/sklearn/linear_model/_logistic.py:818: ConvergenceWarning: lbfgs failed to converge (status=1):\n",
            "STOP: TOTAL NO. of ITERATIONS REACHED LIMIT.\n",
            "\n",
            "Increase the number of iterations (max_iter) or scale the data as shown in:\n",
            "    https://scikit-learn.org/stable/modules/preprocessing.html\n",
            "Please also refer to the documentation for alternative solver options:\n",
            "    https://scikit-learn.org/stable/modules/linear_model.html#logistic-regression\n",
            "  extra_warning_msg=_LOGISTIC_SOLVER_CONVERGENCE_MSG,\n"
          ]
        },
        {
          "output_type": "stream",
          "name": "stdout",
          "text": [
            "[CV 3/5; 13/40] END Modelo=LogisticRegression(random_state=20), Preprocessing__bow__ngram_range=(1, 1), Selection__percentile=90;, score=(train=1.000, test=0.389) total time=   3.5s\n",
            "[CV 4/5; 13/40] START Modelo=LogisticRegression(random_state=20), Preprocessing__bow__ngram_range=(1, 1), Selection__percentile=90\n",
            "[CV 4/5; 13/40] END Modelo=LogisticRegression(random_state=20), Preprocessing__bow__ngram_range=(1, 1), Selection__percentile=90;, score=(train=1.000, test=0.556) total time=   3.3s\n",
            "[CV 5/5; 13/40] START Modelo=LogisticRegression(random_state=20), Preprocessing__bow__ngram_range=(1, 1), Selection__percentile=90\n"
          ]
        },
        {
          "output_type": "stream",
          "name": "stderr",
          "text": [
            "/usr/local/lib/python3.7/dist-packages/sklearn/linear_model/_logistic.py:818: ConvergenceWarning: lbfgs failed to converge (status=1):\n",
            "STOP: TOTAL NO. of ITERATIONS REACHED LIMIT.\n",
            "\n",
            "Increase the number of iterations (max_iter) or scale the data as shown in:\n",
            "    https://scikit-learn.org/stable/modules/preprocessing.html\n",
            "Please also refer to the documentation for alternative solver options:\n",
            "    https://scikit-learn.org/stable/modules/linear_model.html#logistic-regression\n",
            "  extra_warning_msg=_LOGISTIC_SOLVER_CONVERGENCE_MSG,\n"
          ]
        },
        {
          "output_type": "stream",
          "name": "stdout",
          "text": [
            "[CV 5/5; 13/40] END Modelo=LogisticRegression(random_state=20), Preprocessing__bow__ngram_range=(1, 1), Selection__percentile=90;, score=(train=1.000, test=0.611) total time=   3.0s\n",
            "[CV 1/5; 14/40] START Modelo=LogisticRegression(random_state=20), Preprocessing__bow__ngram_range=(1, 1), Selection__percentile=70\n"
          ]
        },
        {
          "output_type": "stream",
          "name": "stderr",
          "text": [
            "/usr/local/lib/python3.7/dist-packages/sklearn/linear_model/_logistic.py:818: ConvergenceWarning: lbfgs failed to converge (status=1):\n",
            "STOP: TOTAL NO. of ITERATIONS REACHED LIMIT.\n",
            "\n",
            "Increase the number of iterations (max_iter) or scale the data as shown in:\n",
            "    https://scikit-learn.org/stable/modules/preprocessing.html\n",
            "Please also refer to the documentation for alternative solver options:\n",
            "    https://scikit-learn.org/stable/modules/linear_model.html#logistic-regression\n",
            "  extra_warning_msg=_LOGISTIC_SOLVER_CONVERGENCE_MSG,\n"
          ]
        },
        {
          "output_type": "stream",
          "name": "stdout",
          "text": [
            "[CV 1/5; 14/40] END Modelo=LogisticRegression(random_state=20), Preprocessing__bow__ngram_range=(1, 1), Selection__percentile=70;, score=(train=1.000, test=0.500) total time=   3.3s\n",
            "[CV 2/5; 14/40] START Modelo=LogisticRegression(random_state=20), Preprocessing__bow__ngram_range=(1, 1), Selection__percentile=70\n"
          ]
        },
        {
          "output_type": "stream",
          "name": "stderr",
          "text": [
            "/usr/local/lib/python3.7/dist-packages/sklearn/linear_model/_logistic.py:818: ConvergenceWarning: lbfgs failed to converge (status=1):\n",
            "STOP: TOTAL NO. of ITERATIONS REACHED LIMIT.\n",
            "\n",
            "Increase the number of iterations (max_iter) or scale the data as shown in:\n",
            "    https://scikit-learn.org/stable/modules/preprocessing.html\n",
            "Please also refer to the documentation for alternative solver options:\n",
            "    https://scikit-learn.org/stable/modules/linear_model.html#logistic-regression\n",
            "  extra_warning_msg=_LOGISTIC_SOLVER_CONVERGENCE_MSG,\n"
          ]
        },
        {
          "output_type": "stream",
          "name": "stdout",
          "text": [
            "[CV 2/5; 14/40] END Modelo=LogisticRegression(random_state=20), Preprocessing__bow__ngram_range=(1, 1), Selection__percentile=70;, score=(train=1.000, test=0.500) total time=   3.1s\n",
            "[CV 3/5; 14/40] START Modelo=LogisticRegression(random_state=20), Preprocessing__bow__ngram_range=(1, 1), Selection__percentile=70\n"
          ]
        },
        {
          "output_type": "stream",
          "name": "stderr",
          "text": [
            "/usr/local/lib/python3.7/dist-packages/sklearn/linear_model/_logistic.py:818: ConvergenceWarning: lbfgs failed to converge (status=1):\n",
            "STOP: TOTAL NO. of ITERATIONS REACHED LIMIT.\n",
            "\n",
            "Increase the number of iterations (max_iter) or scale the data as shown in:\n",
            "    https://scikit-learn.org/stable/modules/preprocessing.html\n",
            "Please also refer to the documentation for alternative solver options:\n",
            "    https://scikit-learn.org/stable/modules/linear_model.html#logistic-regression\n",
            "  extra_warning_msg=_LOGISTIC_SOLVER_CONVERGENCE_MSG,\n"
          ]
        },
        {
          "output_type": "stream",
          "name": "stdout",
          "text": [
            "[CV 3/5; 14/40] END Modelo=LogisticRegression(random_state=20), Preprocessing__bow__ngram_range=(1, 1), Selection__percentile=70;, score=(train=1.000, test=0.389) total time=   3.1s\n",
            "[CV 4/5; 14/40] START Modelo=LogisticRegression(random_state=20), Preprocessing__bow__ngram_range=(1, 1), Selection__percentile=70\n",
            "[CV 4/5; 14/40] END Modelo=LogisticRegression(random_state=20), Preprocessing__bow__ngram_range=(1, 1), Selection__percentile=70;, score=(train=1.000, test=0.500) total time=   3.1s\n",
            "[CV 5/5; 14/40] START Modelo=LogisticRegression(random_state=20), Preprocessing__bow__ngram_range=(1, 1), Selection__percentile=70\n"
          ]
        },
        {
          "output_type": "stream",
          "name": "stderr",
          "text": [
            "/usr/local/lib/python3.7/dist-packages/sklearn/linear_model/_logistic.py:818: ConvergenceWarning: lbfgs failed to converge (status=1):\n",
            "STOP: TOTAL NO. of ITERATIONS REACHED LIMIT.\n",
            "\n",
            "Increase the number of iterations (max_iter) or scale the data as shown in:\n",
            "    https://scikit-learn.org/stable/modules/preprocessing.html\n",
            "Please also refer to the documentation for alternative solver options:\n",
            "    https://scikit-learn.org/stable/modules/linear_model.html#logistic-regression\n",
            "  extra_warning_msg=_LOGISTIC_SOLVER_CONVERGENCE_MSG,\n"
          ]
        },
        {
          "output_type": "stream",
          "name": "stdout",
          "text": [
            "[CV 5/5; 14/40] END Modelo=LogisticRegression(random_state=20), Preprocessing__bow__ngram_range=(1, 1), Selection__percentile=70;, score=(train=1.000, test=0.611) total time=   2.7s\n",
            "[CV 1/5; 15/40] START Modelo=LogisticRegression(random_state=20), Preprocessing__bow__ngram_range=(1, 1), Selection__percentile=75\n"
          ]
        },
        {
          "output_type": "stream",
          "name": "stderr",
          "text": [
            "/usr/local/lib/python3.7/dist-packages/sklearn/linear_model/_logistic.py:818: ConvergenceWarning: lbfgs failed to converge (status=1):\n",
            "STOP: TOTAL NO. of ITERATIONS REACHED LIMIT.\n",
            "\n",
            "Increase the number of iterations (max_iter) or scale the data as shown in:\n",
            "    https://scikit-learn.org/stable/modules/preprocessing.html\n",
            "Please also refer to the documentation for alternative solver options:\n",
            "    https://scikit-learn.org/stable/modules/linear_model.html#logistic-regression\n",
            "  extra_warning_msg=_LOGISTIC_SOLVER_CONVERGENCE_MSG,\n"
          ]
        },
        {
          "output_type": "stream",
          "name": "stdout",
          "text": [
            "[CV 1/5; 15/40] END Modelo=LogisticRegression(random_state=20), Preprocessing__bow__ngram_range=(1, 1), Selection__percentile=75;, score=(train=1.000, test=0.500) total time=   3.3s\n",
            "[CV 2/5; 15/40] START Modelo=LogisticRegression(random_state=20), Preprocessing__bow__ngram_range=(1, 1), Selection__percentile=75\n"
          ]
        },
        {
          "output_type": "stream",
          "name": "stderr",
          "text": [
            "/usr/local/lib/python3.7/dist-packages/sklearn/linear_model/_logistic.py:818: ConvergenceWarning: lbfgs failed to converge (status=1):\n",
            "STOP: TOTAL NO. of ITERATIONS REACHED LIMIT.\n",
            "\n",
            "Increase the number of iterations (max_iter) or scale the data as shown in:\n",
            "    https://scikit-learn.org/stable/modules/preprocessing.html\n",
            "Please also refer to the documentation for alternative solver options:\n",
            "    https://scikit-learn.org/stable/modules/linear_model.html#logistic-regression\n",
            "  extra_warning_msg=_LOGISTIC_SOLVER_CONVERGENCE_MSG,\n"
          ]
        },
        {
          "output_type": "stream",
          "name": "stdout",
          "text": [
            "[CV 2/5; 15/40] END Modelo=LogisticRegression(random_state=20), Preprocessing__bow__ngram_range=(1, 1), Selection__percentile=75;, score=(train=1.000, test=0.500) total time=   3.1s\n",
            "[CV 3/5; 15/40] START Modelo=LogisticRegression(random_state=20), Preprocessing__bow__ngram_range=(1, 1), Selection__percentile=75\n"
          ]
        },
        {
          "output_type": "stream",
          "name": "stderr",
          "text": [
            "/usr/local/lib/python3.7/dist-packages/sklearn/linear_model/_logistic.py:818: ConvergenceWarning: lbfgs failed to converge (status=1):\n",
            "STOP: TOTAL NO. of ITERATIONS REACHED LIMIT.\n",
            "\n",
            "Increase the number of iterations (max_iter) or scale the data as shown in:\n",
            "    https://scikit-learn.org/stable/modules/preprocessing.html\n",
            "Please also refer to the documentation for alternative solver options:\n",
            "    https://scikit-learn.org/stable/modules/linear_model.html#logistic-regression\n",
            "  extra_warning_msg=_LOGISTIC_SOLVER_CONVERGENCE_MSG,\n"
          ]
        },
        {
          "output_type": "stream",
          "name": "stdout",
          "text": [
            "[CV 3/5; 15/40] END Modelo=LogisticRegression(random_state=20), Preprocessing__bow__ngram_range=(1, 1), Selection__percentile=75;, score=(train=1.000, test=0.333) total time=   3.4s\n",
            "[CV 4/5; 15/40] START Modelo=LogisticRegression(random_state=20), Preprocessing__bow__ngram_range=(1, 1), Selection__percentile=75\n"
          ]
        },
        {
          "output_type": "stream",
          "name": "stderr",
          "text": [
            "/usr/local/lib/python3.7/dist-packages/sklearn/linear_model/_logistic.py:818: ConvergenceWarning: lbfgs failed to converge (status=1):\n",
            "STOP: TOTAL NO. of ITERATIONS REACHED LIMIT.\n",
            "\n",
            "Increase the number of iterations (max_iter) or scale the data as shown in:\n",
            "    https://scikit-learn.org/stable/modules/preprocessing.html\n",
            "Please also refer to the documentation for alternative solver options:\n",
            "    https://scikit-learn.org/stable/modules/linear_model.html#logistic-regression\n",
            "  extra_warning_msg=_LOGISTIC_SOLVER_CONVERGENCE_MSG,\n"
          ]
        },
        {
          "output_type": "stream",
          "name": "stdout",
          "text": [
            "[CV 4/5; 15/40] END Modelo=LogisticRegression(random_state=20), Preprocessing__bow__ngram_range=(1, 1), Selection__percentile=75;, score=(train=1.000, test=0.500) total time=   3.1s\n",
            "[CV 5/5; 15/40] START Modelo=LogisticRegression(random_state=20), Preprocessing__bow__ngram_range=(1, 1), Selection__percentile=75\n"
          ]
        },
        {
          "output_type": "stream",
          "name": "stderr",
          "text": [
            "/usr/local/lib/python3.7/dist-packages/sklearn/linear_model/_logistic.py:818: ConvergenceWarning: lbfgs failed to converge (status=1):\n",
            "STOP: TOTAL NO. of ITERATIONS REACHED LIMIT.\n",
            "\n",
            "Increase the number of iterations (max_iter) or scale the data as shown in:\n",
            "    https://scikit-learn.org/stable/modules/preprocessing.html\n",
            "Please also refer to the documentation for alternative solver options:\n",
            "    https://scikit-learn.org/stable/modules/linear_model.html#logistic-regression\n",
            "  extra_warning_msg=_LOGISTIC_SOLVER_CONVERGENCE_MSG,\n"
          ]
        },
        {
          "output_type": "stream",
          "name": "stdout",
          "text": [
            "[CV 5/5; 15/40] END Modelo=LogisticRegression(random_state=20), Preprocessing__bow__ngram_range=(1, 1), Selection__percentile=75;, score=(train=1.000, test=0.611) total time=   2.8s\n",
            "[CV 1/5; 16/40] START Modelo=LogisticRegression(random_state=20), Preprocessing__bow__ngram_range=(1, 1), Selection__percentile=80\n"
          ]
        },
        {
          "output_type": "stream",
          "name": "stderr",
          "text": [
            "/usr/local/lib/python3.7/dist-packages/sklearn/linear_model/_logistic.py:818: ConvergenceWarning: lbfgs failed to converge (status=1):\n",
            "STOP: TOTAL NO. of ITERATIONS REACHED LIMIT.\n",
            "\n",
            "Increase the number of iterations (max_iter) or scale the data as shown in:\n",
            "    https://scikit-learn.org/stable/modules/preprocessing.html\n",
            "Please also refer to the documentation for alternative solver options:\n",
            "    https://scikit-learn.org/stable/modules/linear_model.html#logistic-regression\n",
            "  extra_warning_msg=_LOGISTIC_SOLVER_CONVERGENCE_MSG,\n"
          ]
        },
        {
          "output_type": "stream",
          "name": "stdout",
          "text": [
            "[CV 1/5; 16/40] END Modelo=LogisticRegression(random_state=20), Preprocessing__bow__ngram_range=(1, 1), Selection__percentile=80;, score=(train=1.000, test=0.500) total time=   3.0s\n",
            "[CV 2/5; 16/40] START Modelo=LogisticRegression(random_state=20), Preprocessing__bow__ngram_range=(1, 1), Selection__percentile=80\n",
            "[CV 2/5; 16/40] END Modelo=LogisticRegression(random_state=20), Preprocessing__bow__ngram_range=(1, 1), Selection__percentile=80;, score=(train=1.000, test=0.500) total time=   3.2s\n",
            "[CV 3/5; 16/40] START Modelo=LogisticRegression(random_state=20), Preprocessing__bow__ngram_range=(1, 1), Selection__percentile=80\n"
          ]
        },
        {
          "output_type": "stream",
          "name": "stderr",
          "text": [
            "/usr/local/lib/python3.7/dist-packages/sklearn/linear_model/_logistic.py:818: ConvergenceWarning: lbfgs failed to converge (status=1):\n",
            "STOP: TOTAL NO. of ITERATIONS REACHED LIMIT.\n",
            "\n",
            "Increase the number of iterations (max_iter) or scale the data as shown in:\n",
            "    https://scikit-learn.org/stable/modules/preprocessing.html\n",
            "Please also refer to the documentation for alternative solver options:\n",
            "    https://scikit-learn.org/stable/modules/linear_model.html#logistic-regression\n",
            "  extra_warning_msg=_LOGISTIC_SOLVER_CONVERGENCE_MSG,\n"
          ]
        },
        {
          "output_type": "stream",
          "name": "stdout",
          "text": [
            "[CV 3/5; 16/40] END Modelo=LogisticRegression(random_state=20), Preprocessing__bow__ngram_range=(1, 1), Selection__percentile=80;, score=(train=1.000, test=0.333) total time=   3.3s\n",
            "[CV 4/5; 16/40] START Modelo=LogisticRegression(random_state=20), Preprocessing__bow__ngram_range=(1, 1), Selection__percentile=80\n",
            "[CV 4/5; 16/40] END Modelo=LogisticRegression(random_state=20), Preprocessing__bow__ngram_range=(1, 1), Selection__percentile=80;, score=(train=1.000, test=0.556) total time=   3.0s\n",
            "[CV 5/5; 16/40] START Modelo=LogisticRegression(random_state=20), Preprocessing__bow__ngram_range=(1, 1), Selection__percentile=80\n"
          ]
        },
        {
          "output_type": "stream",
          "name": "stderr",
          "text": [
            "/usr/local/lib/python3.7/dist-packages/sklearn/linear_model/_logistic.py:818: ConvergenceWarning: lbfgs failed to converge (status=1):\n",
            "STOP: TOTAL NO. of ITERATIONS REACHED LIMIT.\n",
            "\n",
            "Increase the number of iterations (max_iter) or scale the data as shown in:\n",
            "    https://scikit-learn.org/stable/modules/preprocessing.html\n",
            "Please also refer to the documentation for alternative solver options:\n",
            "    https://scikit-learn.org/stable/modules/linear_model.html#logistic-regression\n",
            "  extra_warning_msg=_LOGISTIC_SOLVER_CONVERGENCE_MSG,\n"
          ]
        },
        {
          "output_type": "stream",
          "name": "stdout",
          "text": [
            "[CV 5/5; 16/40] END Modelo=LogisticRegression(random_state=20), Preprocessing__bow__ngram_range=(1, 1), Selection__percentile=80;, score=(train=1.000, test=0.611) total time=   2.9s\n",
            "[CV 1/5; 17/40] START Modelo=LogisticRegression(random_state=20), Preprocessing__bow__ngram_range=(1, 1), Selection__percentile=100\n"
          ]
        },
        {
          "output_type": "stream",
          "name": "stderr",
          "text": [
            "/usr/local/lib/python3.7/dist-packages/sklearn/linear_model/_logistic.py:818: ConvergenceWarning: lbfgs failed to converge (status=1):\n",
            "STOP: TOTAL NO. of ITERATIONS REACHED LIMIT.\n",
            "\n",
            "Increase the number of iterations (max_iter) or scale the data as shown in:\n",
            "    https://scikit-learn.org/stable/modules/preprocessing.html\n",
            "Please also refer to the documentation for alternative solver options:\n",
            "    https://scikit-learn.org/stable/modules/linear_model.html#logistic-regression\n",
            "  extra_warning_msg=_LOGISTIC_SOLVER_CONVERGENCE_MSG,\n"
          ]
        },
        {
          "output_type": "stream",
          "name": "stdout",
          "text": [
            "[CV 1/5; 17/40] END Modelo=LogisticRegression(random_state=20), Preprocessing__bow__ngram_range=(1, 1), Selection__percentile=100;, score=(train=1.000, test=0.389) total time=   3.4s\n",
            "[CV 2/5; 17/40] START Modelo=LogisticRegression(random_state=20), Preprocessing__bow__ngram_range=(1, 1), Selection__percentile=100\n"
          ]
        },
        {
          "output_type": "stream",
          "name": "stderr",
          "text": [
            "/usr/local/lib/python3.7/dist-packages/sklearn/linear_model/_logistic.py:818: ConvergenceWarning: lbfgs failed to converge (status=1):\n",
            "STOP: TOTAL NO. of ITERATIONS REACHED LIMIT.\n",
            "\n",
            "Increase the number of iterations (max_iter) or scale the data as shown in:\n",
            "    https://scikit-learn.org/stable/modules/preprocessing.html\n",
            "Please also refer to the documentation for alternative solver options:\n",
            "    https://scikit-learn.org/stable/modules/linear_model.html#logistic-regression\n",
            "  extra_warning_msg=_LOGISTIC_SOLVER_CONVERGENCE_MSG,\n"
          ]
        },
        {
          "output_type": "stream",
          "name": "stdout",
          "text": [
            "[CV 2/5; 17/40] END Modelo=LogisticRegression(random_state=20), Preprocessing__bow__ngram_range=(1, 1), Selection__percentile=100;, score=(train=1.000, test=0.444) total time=   3.6s\n",
            "[CV 3/5; 17/40] START Modelo=LogisticRegression(random_state=20), Preprocessing__bow__ngram_range=(1, 1), Selection__percentile=100\n"
          ]
        },
        {
          "output_type": "stream",
          "name": "stderr",
          "text": [
            "/usr/local/lib/python3.7/dist-packages/sklearn/linear_model/_logistic.py:818: ConvergenceWarning: lbfgs failed to converge (status=1):\n",
            "STOP: TOTAL NO. of ITERATIONS REACHED LIMIT.\n",
            "\n",
            "Increase the number of iterations (max_iter) or scale the data as shown in:\n",
            "    https://scikit-learn.org/stable/modules/preprocessing.html\n",
            "Please also refer to the documentation for alternative solver options:\n",
            "    https://scikit-learn.org/stable/modules/linear_model.html#logistic-regression\n",
            "  extra_warning_msg=_LOGISTIC_SOLVER_CONVERGENCE_MSG,\n"
          ]
        },
        {
          "output_type": "stream",
          "name": "stdout",
          "text": [
            "[CV 3/5; 17/40] END Modelo=LogisticRegression(random_state=20), Preprocessing__bow__ngram_range=(1, 1), Selection__percentile=100;, score=(train=1.000, test=0.333) total time=   3.5s\n",
            "[CV 4/5; 17/40] START Modelo=LogisticRegression(random_state=20), Preprocessing__bow__ngram_range=(1, 1), Selection__percentile=100\n"
          ]
        },
        {
          "output_type": "stream",
          "name": "stderr",
          "text": [
            "/usr/local/lib/python3.7/dist-packages/sklearn/linear_model/_logistic.py:818: ConvergenceWarning: lbfgs failed to converge (status=1):\n",
            "STOP: TOTAL NO. of ITERATIONS REACHED LIMIT.\n",
            "\n",
            "Increase the number of iterations (max_iter) or scale the data as shown in:\n",
            "    https://scikit-learn.org/stable/modules/preprocessing.html\n",
            "Please also refer to the documentation for alternative solver options:\n",
            "    https://scikit-learn.org/stable/modules/linear_model.html#logistic-regression\n",
            "  extra_warning_msg=_LOGISTIC_SOLVER_CONVERGENCE_MSG,\n"
          ]
        },
        {
          "output_type": "stream",
          "name": "stdout",
          "text": [
            "[CV 4/5; 17/40] END Modelo=LogisticRegression(random_state=20), Preprocessing__bow__ngram_range=(1, 1), Selection__percentile=100;, score=(train=1.000, test=0.444) total time=   3.4s\n",
            "[CV 5/5; 17/40] START Modelo=LogisticRegression(random_state=20), Preprocessing__bow__ngram_range=(1, 1), Selection__percentile=100\n"
          ]
        },
        {
          "output_type": "stream",
          "name": "stderr",
          "text": [
            "/usr/local/lib/python3.7/dist-packages/sklearn/linear_model/_logistic.py:818: ConvergenceWarning: lbfgs failed to converge (status=1):\n",
            "STOP: TOTAL NO. of ITERATIONS REACHED LIMIT.\n",
            "\n",
            "Increase the number of iterations (max_iter) or scale the data as shown in:\n",
            "    https://scikit-learn.org/stable/modules/preprocessing.html\n",
            "Please also refer to the documentation for alternative solver options:\n",
            "    https://scikit-learn.org/stable/modules/linear_model.html#logistic-regression\n",
            "  extra_warning_msg=_LOGISTIC_SOLVER_CONVERGENCE_MSG,\n"
          ]
        },
        {
          "output_type": "stream",
          "name": "stdout",
          "text": [
            "[CV 5/5; 17/40] END Modelo=LogisticRegression(random_state=20), Preprocessing__bow__ngram_range=(1, 1), Selection__percentile=100;, score=(train=1.000, test=0.611) total time=   3.0s\n",
            "[CV 1/5; 18/40] START Modelo=LogisticRegression(random_state=20), Preprocessing__bow__ngram_range=(1, 1), Selection__percentile=15\n"
          ]
        },
        {
          "output_type": "stream",
          "name": "stderr",
          "text": [
            "/usr/local/lib/python3.7/dist-packages/sklearn/linear_model/_logistic.py:818: ConvergenceWarning: lbfgs failed to converge (status=1):\n",
            "STOP: TOTAL NO. of ITERATIONS REACHED LIMIT.\n",
            "\n",
            "Increase the number of iterations (max_iter) or scale the data as shown in:\n",
            "    https://scikit-learn.org/stable/modules/preprocessing.html\n",
            "Please also refer to the documentation for alternative solver options:\n",
            "    https://scikit-learn.org/stable/modules/linear_model.html#logistic-regression\n",
            "  extra_warning_msg=_LOGISTIC_SOLVER_CONVERGENCE_MSG,\n"
          ]
        },
        {
          "output_type": "stream",
          "name": "stdout",
          "text": [
            "[CV 1/5; 18/40] END Modelo=LogisticRegression(random_state=20), Preprocessing__bow__ngram_range=(1, 1), Selection__percentile=15;, score=(train=1.000, test=0.611) total time=   3.0s\n",
            "[CV 2/5; 18/40] START Modelo=LogisticRegression(random_state=20), Preprocessing__bow__ngram_range=(1, 1), Selection__percentile=15\n",
            "[CV 2/5; 18/40] END Modelo=LogisticRegression(random_state=20), Preprocessing__bow__ngram_range=(1, 1), Selection__percentile=15;, score=(train=1.000, test=0.556) total time=   2.8s\n",
            "[CV 3/5; 18/40] START Modelo=LogisticRegression(random_state=20), Preprocessing__bow__ngram_range=(1, 1), Selection__percentile=15\n"
          ]
        },
        {
          "output_type": "stream",
          "name": "stderr",
          "text": [
            "/usr/local/lib/python3.7/dist-packages/sklearn/linear_model/_logistic.py:818: ConvergenceWarning: lbfgs failed to converge (status=1):\n",
            "STOP: TOTAL NO. of ITERATIONS REACHED LIMIT.\n",
            "\n",
            "Increase the number of iterations (max_iter) or scale the data as shown in:\n",
            "    https://scikit-learn.org/stable/modules/preprocessing.html\n",
            "Please also refer to the documentation for alternative solver options:\n",
            "    https://scikit-learn.org/stable/modules/linear_model.html#logistic-regression\n",
            "  extra_warning_msg=_LOGISTIC_SOLVER_CONVERGENCE_MSG,\n"
          ]
        },
        {
          "output_type": "stream",
          "name": "stdout",
          "text": [
            "[CV 3/5; 18/40] END Modelo=LogisticRegression(random_state=20), Preprocessing__bow__ngram_range=(1, 1), Selection__percentile=15;, score=(train=1.000, test=0.278) total time=   3.0s\n",
            "[CV 4/5; 18/40] START Modelo=LogisticRegression(random_state=20), Preprocessing__bow__ngram_range=(1, 1), Selection__percentile=15\n",
            "[CV 4/5; 18/40] END Modelo=LogisticRegression(random_state=20), Preprocessing__bow__ngram_range=(1, 1), Selection__percentile=15;, score=(train=0.986, test=0.444) total time=   2.7s\n",
            "[CV 5/5; 18/40] START Modelo=LogisticRegression(random_state=20), Preprocessing__bow__ngram_range=(1, 1), Selection__percentile=15\n",
            "[CV 5/5; 18/40] END Modelo=LogisticRegression(random_state=20), Preprocessing__bow__ngram_range=(1, 1), Selection__percentile=15;, score=(train=1.000, test=0.667) total time=   2.4s\n",
            "[CV 1/5; 19/40] START Modelo=RandomForestClassifier(random_state=20), Preprocessing__bow__ngram_range=(1, 3), Selection__percentile=40\n",
            "[CV 1/5; 19/40] END Modelo=RandomForestClassifier(random_state=20), Preprocessing__bow__ngram_range=(1, 3), Selection__percentile=40;, score=(train=1.000, test=0.611) total time=   3.5s\n",
            "[CV 2/5; 19/40] START Modelo=RandomForestClassifier(random_state=20), Preprocessing__bow__ngram_range=(1, 3), Selection__percentile=40\n",
            "[CV 2/5; 19/40] END Modelo=RandomForestClassifier(random_state=20), Preprocessing__bow__ngram_range=(1, 3), Selection__percentile=40;, score=(train=1.000, test=0.556) total time=   3.6s\n",
            "[CV 3/5; 19/40] START Modelo=RandomForestClassifier(random_state=20), Preprocessing__bow__ngram_range=(1, 3), Selection__percentile=40\n",
            "[CV 3/5; 19/40] END Modelo=RandomForestClassifier(random_state=20), Preprocessing__bow__ngram_range=(1, 3), Selection__percentile=40;, score=(train=1.000, test=0.611) total time=   3.6s\n",
            "[CV 4/5; 19/40] START Modelo=RandomForestClassifier(random_state=20), Preprocessing__bow__ngram_range=(1, 3), Selection__percentile=40\n",
            "[CV 4/5; 19/40] END Modelo=RandomForestClassifier(random_state=20), Preprocessing__bow__ngram_range=(1, 3), Selection__percentile=40;, score=(train=1.000, test=0.500) total time=   3.5s\n",
            "[CV 5/5; 19/40] START Modelo=RandomForestClassifier(random_state=20), Preprocessing__bow__ngram_range=(1, 3), Selection__percentile=40\n",
            "[CV 5/5; 19/40] END Modelo=RandomForestClassifier(random_state=20), Preprocessing__bow__ngram_range=(1, 3), Selection__percentile=40;, score=(train=1.000, test=0.667) total time=   3.0s\n",
            "[CV 1/5; 20/40] START Modelo=LogisticRegression(random_state=20), Preprocessing__bow__ngram_range=(1, 1), Selection__percentile=60\n"
          ]
        },
        {
          "output_type": "stream",
          "name": "stderr",
          "text": [
            "/usr/local/lib/python3.7/dist-packages/sklearn/linear_model/_logistic.py:818: ConvergenceWarning: lbfgs failed to converge (status=1):\n",
            "STOP: TOTAL NO. of ITERATIONS REACHED LIMIT.\n",
            "\n",
            "Increase the number of iterations (max_iter) or scale the data as shown in:\n",
            "    https://scikit-learn.org/stable/modules/preprocessing.html\n",
            "Please also refer to the documentation for alternative solver options:\n",
            "    https://scikit-learn.org/stable/modules/linear_model.html#logistic-regression\n",
            "  extra_warning_msg=_LOGISTIC_SOLVER_CONVERGENCE_MSG,\n"
          ]
        },
        {
          "output_type": "stream",
          "name": "stdout",
          "text": [
            "[CV 1/5; 20/40] END Modelo=LogisticRegression(random_state=20), Preprocessing__bow__ngram_range=(1, 1), Selection__percentile=60;, score=(train=1.000, test=0.500) total time=   3.0s\n",
            "[CV 2/5; 20/40] START Modelo=LogisticRegression(random_state=20), Preprocessing__bow__ngram_range=(1, 1), Selection__percentile=60\n"
          ]
        },
        {
          "output_type": "stream",
          "name": "stderr",
          "text": [
            "/usr/local/lib/python3.7/dist-packages/sklearn/linear_model/_logistic.py:818: ConvergenceWarning: lbfgs failed to converge (status=1):\n",
            "STOP: TOTAL NO. of ITERATIONS REACHED LIMIT.\n",
            "\n",
            "Increase the number of iterations (max_iter) or scale the data as shown in:\n",
            "    https://scikit-learn.org/stable/modules/preprocessing.html\n",
            "Please also refer to the documentation for alternative solver options:\n",
            "    https://scikit-learn.org/stable/modules/linear_model.html#logistic-regression\n",
            "  extra_warning_msg=_LOGISTIC_SOLVER_CONVERGENCE_MSG,\n"
          ]
        },
        {
          "output_type": "stream",
          "name": "stdout",
          "text": [
            "[CV 2/5; 20/40] END Modelo=LogisticRegression(random_state=20), Preprocessing__bow__ngram_range=(1, 1), Selection__percentile=60;, score=(train=1.000, test=0.500) total time=   3.3s\n",
            "[CV 3/5; 20/40] START Modelo=LogisticRegression(random_state=20), Preprocessing__bow__ngram_range=(1, 1), Selection__percentile=60\n"
          ]
        },
        {
          "output_type": "stream",
          "name": "stderr",
          "text": [
            "/usr/local/lib/python3.7/dist-packages/sklearn/linear_model/_logistic.py:818: ConvergenceWarning: lbfgs failed to converge (status=1):\n",
            "STOP: TOTAL NO. of ITERATIONS REACHED LIMIT.\n",
            "\n",
            "Increase the number of iterations (max_iter) or scale the data as shown in:\n",
            "    https://scikit-learn.org/stable/modules/preprocessing.html\n",
            "Please also refer to the documentation for alternative solver options:\n",
            "    https://scikit-learn.org/stable/modules/linear_model.html#logistic-regression\n",
            "  extra_warning_msg=_LOGISTIC_SOLVER_CONVERGENCE_MSG,\n"
          ]
        },
        {
          "output_type": "stream",
          "name": "stdout",
          "text": [
            "[CV 3/5; 20/40] END Modelo=LogisticRegression(random_state=20), Preprocessing__bow__ngram_range=(1, 1), Selection__percentile=60;, score=(train=1.000, test=0.389) total time=   3.0s\n",
            "[CV 4/5; 20/40] START Modelo=LogisticRegression(random_state=20), Preprocessing__bow__ngram_range=(1, 1), Selection__percentile=60\n"
          ]
        },
        {
          "output_type": "stream",
          "name": "stderr",
          "text": [
            "/usr/local/lib/python3.7/dist-packages/sklearn/linear_model/_logistic.py:818: ConvergenceWarning: lbfgs failed to converge (status=1):\n",
            "STOP: TOTAL NO. of ITERATIONS REACHED LIMIT.\n",
            "\n",
            "Increase the number of iterations (max_iter) or scale the data as shown in:\n",
            "    https://scikit-learn.org/stable/modules/preprocessing.html\n",
            "Please also refer to the documentation for alternative solver options:\n",
            "    https://scikit-learn.org/stable/modules/linear_model.html#logistic-regression\n",
            "  extra_warning_msg=_LOGISTIC_SOLVER_CONVERGENCE_MSG,\n"
          ]
        },
        {
          "output_type": "stream",
          "name": "stdout",
          "text": [
            "[CV 4/5; 20/40] END Modelo=LogisticRegression(random_state=20), Preprocessing__bow__ngram_range=(1, 1), Selection__percentile=60;, score=(train=1.000, test=0.500) total time=   3.1s\n",
            "[CV 5/5; 20/40] START Modelo=LogisticRegression(random_state=20), Preprocessing__bow__ngram_range=(1, 1), Selection__percentile=60\n"
          ]
        },
        {
          "output_type": "stream",
          "name": "stderr",
          "text": [
            "/usr/local/lib/python3.7/dist-packages/sklearn/linear_model/_logistic.py:818: ConvergenceWarning: lbfgs failed to converge (status=1):\n",
            "STOP: TOTAL NO. of ITERATIONS REACHED LIMIT.\n",
            "\n",
            "Increase the number of iterations (max_iter) or scale the data as shown in:\n",
            "    https://scikit-learn.org/stable/modules/preprocessing.html\n",
            "Please also refer to the documentation for alternative solver options:\n",
            "    https://scikit-learn.org/stable/modules/linear_model.html#logistic-regression\n",
            "  extra_warning_msg=_LOGISTIC_SOLVER_CONVERGENCE_MSG,\n"
          ]
        },
        {
          "output_type": "stream",
          "name": "stdout",
          "text": [
            "[CV 5/5; 20/40] END Modelo=LogisticRegression(random_state=20), Preprocessing__bow__ngram_range=(1, 1), Selection__percentile=60;, score=(train=1.000, test=0.611) total time=   2.8s\n",
            "[CV 1/5; 21/40] START Modelo=LogisticRegression(random_state=20), Preprocessing__bow__ngram_range=(1, 1), Selection__percentile=55\n"
          ]
        },
        {
          "output_type": "stream",
          "name": "stderr",
          "text": [
            "/usr/local/lib/python3.7/dist-packages/sklearn/linear_model/_logistic.py:818: ConvergenceWarning: lbfgs failed to converge (status=1):\n",
            "STOP: TOTAL NO. of ITERATIONS REACHED LIMIT.\n",
            "\n",
            "Increase the number of iterations (max_iter) or scale the data as shown in:\n",
            "    https://scikit-learn.org/stable/modules/preprocessing.html\n",
            "Please also refer to the documentation for alternative solver options:\n",
            "    https://scikit-learn.org/stable/modules/linear_model.html#logistic-regression\n",
            "  extra_warning_msg=_LOGISTIC_SOLVER_CONVERGENCE_MSG,\n"
          ]
        },
        {
          "output_type": "stream",
          "name": "stdout",
          "text": [
            "[CV 1/5; 21/40] END Modelo=LogisticRegression(random_state=20), Preprocessing__bow__ngram_range=(1, 1), Selection__percentile=55;, score=(train=1.000, test=0.500) total time=   3.0s\n",
            "[CV 2/5; 21/40] START Modelo=LogisticRegression(random_state=20), Preprocessing__bow__ngram_range=(1, 1), Selection__percentile=55\n",
            "[CV 2/5; 21/40] END Modelo=LogisticRegression(random_state=20), Preprocessing__bow__ngram_range=(1, 1), Selection__percentile=55;, score=(train=1.000, test=0.500) total time=   3.0s\n",
            "[CV 3/5; 21/40] START Modelo=LogisticRegression(random_state=20), Preprocessing__bow__ngram_range=(1, 1), Selection__percentile=55\n"
          ]
        },
        {
          "output_type": "stream",
          "name": "stderr",
          "text": [
            "/usr/local/lib/python3.7/dist-packages/sklearn/linear_model/_logistic.py:818: ConvergenceWarning: lbfgs failed to converge (status=1):\n",
            "STOP: TOTAL NO. of ITERATIONS REACHED LIMIT.\n",
            "\n",
            "Increase the number of iterations (max_iter) or scale the data as shown in:\n",
            "    https://scikit-learn.org/stable/modules/preprocessing.html\n",
            "Please also refer to the documentation for alternative solver options:\n",
            "    https://scikit-learn.org/stable/modules/linear_model.html#logistic-regression\n",
            "  extra_warning_msg=_LOGISTIC_SOLVER_CONVERGENCE_MSG,\n"
          ]
        },
        {
          "output_type": "stream",
          "name": "stdout",
          "text": [
            "[CV 3/5; 21/40] END Modelo=LogisticRegression(random_state=20), Preprocessing__bow__ngram_range=(1, 1), Selection__percentile=55;, score=(train=1.000, test=0.389) total time=   3.0s\n",
            "[CV 4/5; 21/40] START Modelo=LogisticRegression(random_state=20), Preprocessing__bow__ngram_range=(1, 1), Selection__percentile=55\n"
          ]
        },
        {
          "output_type": "stream",
          "name": "stderr",
          "text": [
            "/usr/local/lib/python3.7/dist-packages/sklearn/linear_model/_logistic.py:818: ConvergenceWarning: lbfgs failed to converge (status=1):\n",
            "STOP: TOTAL NO. of ITERATIONS REACHED LIMIT.\n",
            "\n",
            "Increase the number of iterations (max_iter) or scale the data as shown in:\n",
            "    https://scikit-learn.org/stable/modules/preprocessing.html\n",
            "Please also refer to the documentation for alternative solver options:\n",
            "    https://scikit-learn.org/stable/modules/linear_model.html#logistic-regression\n",
            "  extra_warning_msg=_LOGISTIC_SOLVER_CONVERGENCE_MSG,\n"
          ]
        },
        {
          "output_type": "stream",
          "name": "stdout",
          "text": [
            "[CV 4/5; 21/40] END Modelo=LogisticRegression(random_state=20), Preprocessing__bow__ngram_range=(1, 1), Selection__percentile=55;, score=(train=1.000, test=0.444) total time=   2.9s\n",
            "[CV 5/5; 21/40] START Modelo=LogisticRegression(random_state=20), Preprocessing__bow__ngram_range=(1, 1), Selection__percentile=55\n"
          ]
        },
        {
          "output_type": "stream",
          "name": "stderr",
          "text": [
            "/usr/local/lib/python3.7/dist-packages/sklearn/linear_model/_logistic.py:818: ConvergenceWarning: lbfgs failed to converge (status=1):\n",
            "STOP: TOTAL NO. of ITERATIONS REACHED LIMIT.\n",
            "\n",
            "Increase the number of iterations (max_iter) or scale the data as shown in:\n",
            "    https://scikit-learn.org/stable/modules/preprocessing.html\n",
            "Please also refer to the documentation for alternative solver options:\n",
            "    https://scikit-learn.org/stable/modules/linear_model.html#logistic-regression\n",
            "  extra_warning_msg=_LOGISTIC_SOLVER_CONVERGENCE_MSG,\n"
          ]
        },
        {
          "output_type": "stream",
          "name": "stdout",
          "text": [
            "[CV 5/5; 21/40] END Modelo=LogisticRegression(random_state=20), Preprocessing__bow__ngram_range=(1, 1), Selection__percentile=55;, score=(train=1.000, test=0.611) total time=   2.5s\n",
            "[CV 1/5; 22/40] START Modelo=LogisticRegression(random_state=20), Preprocessing__bow__ngram_range=(1, 1), Selection__percentile=50\n"
          ]
        },
        {
          "output_type": "stream",
          "name": "stderr",
          "text": [
            "/usr/local/lib/python3.7/dist-packages/sklearn/linear_model/_logistic.py:818: ConvergenceWarning: lbfgs failed to converge (status=1):\n",
            "STOP: TOTAL NO. of ITERATIONS REACHED LIMIT.\n",
            "\n",
            "Increase the number of iterations (max_iter) or scale the data as shown in:\n",
            "    https://scikit-learn.org/stable/modules/preprocessing.html\n",
            "Please also refer to the documentation for alternative solver options:\n",
            "    https://scikit-learn.org/stable/modules/linear_model.html#logistic-regression\n",
            "  extra_warning_msg=_LOGISTIC_SOLVER_CONVERGENCE_MSG,\n"
          ]
        },
        {
          "output_type": "stream",
          "name": "stdout",
          "text": [
            "[CV 1/5; 22/40] END Modelo=LogisticRegression(random_state=20), Preprocessing__bow__ngram_range=(1, 1), Selection__percentile=50;, score=(train=1.000, test=0.500) total time=   3.1s\n",
            "[CV 2/5; 22/40] START Modelo=LogisticRegression(random_state=20), Preprocessing__bow__ngram_range=(1, 1), Selection__percentile=50\n"
          ]
        },
        {
          "output_type": "stream",
          "name": "stderr",
          "text": [
            "/usr/local/lib/python3.7/dist-packages/sklearn/linear_model/_logistic.py:818: ConvergenceWarning: lbfgs failed to converge (status=1):\n",
            "STOP: TOTAL NO. of ITERATIONS REACHED LIMIT.\n",
            "\n",
            "Increase the number of iterations (max_iter) or scale the data as shown in:\n",
            "    https://scikit-learn.org/stable/modules/preprocessing.html\n",
            "Please also refer to the documentation for alternative solver options:\n",
            "    https://scikit-learn.org/stable/modules/linear_model.html#logistic-regression\n",
            "  extra_warning_msg=_LOGISTIC_SOLVER_CONVERGENCE_MSG,\n"
          ]
        },
        {
          "output_type": "stream",
          "name": "stdout",
          "text": [
            "[CV 2/5; 22/40] END Modelo=LogisticRegression(random_state=20), Preprocessing__bow__ngram_range=(1, 1), Selection__percentile=50;, score=(train=1.000, test=0.500) total time=   2.9s\n",
            "[CV 3/5; 22/40] START Modelo=LogisticRegression(random_state=20), Preprocessing__bow__ngram_range=(1, 1), Selection__percentile=50\n"
          ]
        },
        {
          "output_type": "stream",
          "name": "stderr",
          "text": [
            "/usr/local/lib/python3.7/dist-packages/sklearn/linear_model/_logistic.py:818: ConvergenceWarning: lbfgs failed to converge (status=1):\n",
            "STOP: TOTAL NO. of ITERATIONS REACHED LIMIT.\n",
            "\n",
            "Increase the number of iterations (max_iter) or scale the data as shown in:\n",
            "    https://scikit-learn.org/stable/modules/preprocessing.html\n",
            "Please also refer to the documentation for alternative solver options:\n",
            "    https://scikit-learn.org/stable/modules/linear_model.html#logistic-regression\n",
            "  extra_warning_msg=_LOGISTIC_SOLVER_CONVERGENCE_MSG,\n"
          ]
        },
        {
          "output_type": "stream",
          "name": "stdout",
          "text": [
            "[CV 3/5; 22/40] END Modelo=LogisticRegression(random_state=20), Preprocessing__bow__ngram_range=(1, 1), Selection__percentile=50;, score=(train=1.000, test=0.333) total time=   3.0s\n",
            "[CV 4/5; 22/40] START Modelo=LogisticRegression(random_state=20), Preprocessing__bow__ngram_range=(1, 1), Selection__percentile=50\n",
            "[CV 4/5; 22/40] END Modelo=LogisticRegression(random_state=20), Preprocessing__bow__ngram_range=(1, 1), Selection__percentile=50;, score=(train=1.000, test=0.556) total time=   2.8s\n",
            "[CV 5/5; 22/40] START Modelo=LogisticRegression(random_state=20), Preprocessing__bow__ngram_range=(1, 1), Selection__percentile=50\n"
          ]
        },
        {
          "output_type": "stream",
          "name": "stderr",
          "text": [
            "/usr/local/lib/python3.7/dist-packages/sklearn/linear_model/_logistic.py:818: ConvergenceWarning: lbfgs failed to converge (status=1):\n",
            "STOP: TOTAL NO. of ITERATIONS REACHED LIMIT.\n",
            "\n",
            "Increase the number of iterations (max_iter) or scale the data as shown in:\n",
            "    https://scikit-learn.org/stable/modules/preprocessing.html\n",
            "Please also refer to the documentation for alternative solver options:\n",
            "    https://scikit-learn.org/stable/modules/linear_model.html#logistic-regression\n",
            "  extra_warning_msg=_LOGISTIC_SOLVER_CONVERGENCE_MSG,\n"
          ]
        },
        {
          "output_type": "stream",
          "name": "stdout",
          "text": [
            "[CV 5/5; 22/40] END Modelo=LogisticRegression(random_state=20), Preprocessing__bow__ngram_range=(1, 1), Selection__percentile=50;, score=(train=1.000, test=0.611) total time=   2.5s\n",
            "[CV 1/5; 23/40] START Modelo=LogisticRegression(random_state=20), Preprocessing__bow__ngram_range=(1, 1), Selection__percentile=35\n"
          ]
        },
        {
          "output_type": "stream",
          "name": "stderr",
          "text": [
            "/usr/local/lib/python3.7/dist-packages/sklearn/linear_model/_logistic.py:818: ConvergenceWarning: lbfgs failed to converge (status=1):\n",
            "STOP: TOTAL NO. of ITERATIONS REACHED LIMIT.\n",
            "\n",
            "Increase the number of iterations (max_iter) or scale the data as shown in:\n",
            "    https://scikit-learn.org/stable/modules/preprocessing.html\n",
            "Please also refer to the documentation for alternative solver options:\n",
            "    https://scikit-learn.org/stable/modules/linear_model.html#logistic-regression\n",
            "  extra_warning_msg=_LOGISTIC_SOLVER_CONVERGENCE_MSG,\n"
          ]
        },
        {
          "output_type": "stream",
          "name": "stdout",
          "text": [
            "[CV 1/5; 23/40] END Modelo=LogisticRegression(random_state=20), Preprocessing__bow__ngram_range=(1, 1), Selection__percentile=35;, score=(train=1.000, test=0.556) total time=   3.0s\n",
            "[CV 2/5; 23/40] START Modelo=LogisticRegression(random_state=20), Preprocessing__bow__ngram_range=(1, 1), Selection__percentile=35\n",
            "[CV 2/5; 23/40] END Modelo=LogisticRegression(random_state=20), Preprocessing__bow__ngram_range=(1, 1), Selection__percentile=35;, score=(train=1.000, test=0.611) total time=   2.8s\n",
            "[CV 3/5; 23/40] START Modelo=LogisticRegression(random_state=20), Preprocessing__bow__ngram_range=(1, 1), Selection__percentile=35\n"
          ]
        },
        {
          "output_type": "stream",
          "name": "stderr",
          "text": [
            "/usr/local/lib/python3.7/dist-packages/sklearn/linear_model/_logistic.py:818: ConvergenceWarning: lbfgs failed to converge (status=1):\n",
            "STOP: TOTAL NO. of ITERATIONS REACHED LIMIT.\n",
            "\n",
            "Increase the number of iterations (max_iter) or scale the data as shown in:\n",
            "    https://scikit-learn.org/stable/modules/preprocessing.html\n",
            "Please also refer to the documentation for alternative solver options:\n",
            "    https://scikit-learn.org/stable/modules/linear_model.html#logistic-regression\n",
            "  extra_warning_msg=_LOGISTIC_SOLVER_CONVERGENCE_MSG,\n"
          ]
        },
        {
          "output_type": "stream",
          "name": "stdout",
          "text": [
            "[CV 3/5; 23/40] END Modelo=LogisticRegression(random_state=20), Preprocessing__bow__ngram_range=(1, 1), Selection__percentile=35;, score=(train=1.000, test=0.389) total time=   3.1s\n",
            "[CV 4/5; 23/40] START Modelo=LogisticRegression(random_state=20), Preprocessing__bow__ngram_range=(1, 1), Selection__percentile=35\n",
            "[CV 4/5; 23/40] END Modelo=LogisticRegression(random_state=20), Preprocessing__bow__ngram_range=(1, 1), Selection__percentile=35;, score=(train=1.000, test=0.667) total time=   2.7s\n",
            "[CV 5/5; 23/40] START Modelo=LogisticRegression(random_state=20), Preprocessing__bow__ngram_range=(1, 1), Selection__percentile=35\n",
            "[CV 5/5; 23/40] END Modelo=LogisticRegression(random_state=20), Preprocessing__bow__ngram_range=(1, 1), Selection__percentile=35;, score=(train=1.000, test=0.611) total time=   2.4s\n",
            "[CV 1/5; 24/40] START Modelo=LogisticRegression(random_state=20), Preprocessing__bow__ngram_range=(1, 1), Selection__percentile=30\n"
          ]
        },
        {
          "output_type": "stream",
          "name": "stderr",
          "text": [
            "/usr/local/lib/python3.7/dist-packages/sklearn/linear_model/_logistic.py:818: ConvergenceWarning: lbfgs failed to converge (status=1):\n",
            "STOP: TOTAL NO. of ITERATIONS REACHED LIMIT.\n",
            "\n",
            "Increase the number of iterations (max_iter) or scale the data as shown in:\n",
            "    https://scikit-learn.org/stable/modules/preprocessing.html\n",
            "Please also refer to the documentation for alternative solver options:\n",
            "    https://scikit-learn.org/stable/modules/linear_model.html#logistic-regression\n",
            "  extra_warning_msg=_LOGISTIC_SOLVER_CONVERGENCE_MSG,\n"
          ]
        },
        {
          "output_type": "stream",
          "name": "stdout",
          "text": [
            "[CV 1/5; 24/40] END Modelo=LogisticRegression(random_state=20), Preprocessing__bow__ngram_range=(1, 1), Selection__percentile=30;, score=(train=1.000, test=0.500) total time=   2.9s\n",
            "[CV 2/5; 24/40] START Modelo=LogisticRegression(random_state=20), Preprocessing__bow__ngram_range=(1, 1), Selection__percentile=30\n",
            "[CV 2/5; 24/40] END Modelo=LogisticRegression(random_state=20), Preprocessing__bow__ngram_range=(1, 1), Selection__percentile=30;, score=(train=1.000, test=0.611) total time=   2.8s\n",
            "[CV 3/5; 24/40] START Modelo=LogisticRegression(random_state=20), Preprocessing__bow__ngram_range=(1, 1), Selection__percentile=30\n"
          ]
        },
        {
          "output_type": "stream",
          "name": "stderr",
          "text": [
            "/usr/local/lib/python3.7/dist-packages/sklearn/linear_model/_logistic.py:818: ConvergenceWarning: lbfgs failed to converge (status=1):\n",
            "STOP: TOTAL NO. of ITERATIONS REACHED LIMIT.\n",
            "\n",
            "Increase the number of iterations (max_iter) or scale the data as shown in:\n",
            "    https://scikit-learn.org/stable/modules/preprocessing.html\n",
            "Please also refer to the documentation for alternative solver options:\n",
            "    https://scikit-learn.org/stable/modules/linear_model.html#logistic-regression\n",
            "  extra_warning_msg=_LOGISTIC_SOLVER_CONVERGENCE_MSG,\n"
          ]
        },
        {
          "output_type": "stream",
          "name": "stdout",
          "text": [
            "[CV 3/5; 24/40] END Modelo=LogisticRegression(random_state=20), Preprocessing__bow__ngram_range=(1, 1), Selection__percentile=30;, score=(train=1.000, test=0.444) total time=   3.0s\n",
            "[CV 4/5; 24/40] START Modelo=LogisticRegression(random_state=20), Preprocessing__bow__ngram_range=(1, 1), Selection__percentile=30\n",
            "[CV 4/5; 24/40] END Modelo=LogisticRegression(random_state=20), Preprocessing__bow__ngram_range=(1, 1), Selection__percentile=30;, score=(train=1.000, test=0.556) total time=   2.7s\n",
            "[CV 5/5; 24/40] START Modelo=LogisticRegression(random_state=20), Preprocessing__bow__ngram_range=(1, 1), Selection__percentile=30\n",
            "[CV 5/5; 24/40] END Modelo=LogisticRegression(random_state=20), Preprocessing__bow__ngram_range=(1, 1), Selection__percentile=30;, score=(train=1.000, test=0.667) total time=   2.4s\n",
            "[CV 1/5; 25/40] START Modelo=LogisticRegression(random_state=20), Preprocessing__bow__ngram_range=(1, 1), Selection__percentile=65\n"
          ]
        },
        {
          "output_type": "stream",
          "name": "stderr",
          "text": [
            "/usr/local/lib/python3.7/dist-packages/sklearn/linear_model/_logistic.py:818: ConvergenceWarning: lbfgs failed to converge (status=1):\n",
            "STOP: TOTAL NO. of ITERATIONS REACHED LIMIT.\n",
            "\n",
            "Increase the number of iterations (max_iter) or scale the data as shown in:\n",
            "    https://scikit-learn.org/stable/modules/preprocessing.html\n",
            "Please also refer to the documentation for alternative solver options:\n",
            "    https://scikit-learn.org/stable/modules/linear_model.html#logistic-regression\n",
            "  extra_warning_msg=_LOGISTIC_SOLVER_CONVERGENCE_MSG,\n"
          ]
        },
        {
          "output_type": "stream",
          "name": "stdout",
          "text": [
            "[CV 1/5; 25/40] END Modelo=LogisticRegression(random_state=20), Preprocessing__bow__ngram_range=(1, 1), Selection__percentile=65;, score=(train=1.000, test=0.500) total time=   3.4s\n",
            "[CV 2/5; 25/40] START Modelo=LogisticRegression(random_state=20), Preprocessing__bow__ngram_range=(1, 1), Selection__percentile=65\n",
            "[CV 2/5; 25/40] END Modelo=LogisticRegression(random_state=20), Preprocessing__bow__ngram_range=(1, 1), Selection__percentile=65;, score=(train=1.000, test=0.500) total time=   3.2s\n",
            "[CV 3/5; 25/40] START Modelo=LogisticRegression(random_state=20), Preprocessing__bow__ngram_range=(1, 1), Selection__percentile=65\n"
          ]
        },
        {
          "output_type": "stream",
          "name": "stderr",
          "text": [
            "/usr/local/lib/python3.7/dist-packages/sklearn/linear_model/_logistic.py:818: ConvergenceWarning: lbfgs failed to converge (status=1):\n",
            "STOP: TOTAL NO. of ITERATIONS REACHED LIMIT.\n",
            "\n",
            "Increase the number of iterations (max_iter) or scale the data as shown in:\n",
            "    https://scikit-learn.org/stable/modules/preprocessing.html\n",
            "Please also refer to the documentation for alternative solver options:\n",
            "    https://scikit-learn.org/stable/modules/linear_model.html#logistic-regression\n",
            "  extra_warning_msg=_LOGISTIC_SOLVER_CONVERGENCE_MSG,\n"
          ]
        },
        {
          "output_type": "stream",
          "name": "stdout",
          "text": [
            "[CV 3/5; 25/40] END Modelo=LogisticRegression(random_state=20), Preprocessing__bow__ngram_range=(1, 1), Selection__percentile=65;, score=(train=1.000, test=0.333) total time=   3.4s\n",
            "[CV 4/5; 25/40] START Modelo=LogisticRegression(random_state=20), Preprocessing__bow__ngram_range=(1, 1), Selection__percentile=65\n"
          ]
        },
        {
          "output_type": "stream",
          "name": "stderr",
          "text": [
            "/usr/local/lib/python3.7/dist-packages/sklearn/linear_model/_logistic.py:818: ConvergenceWarning: lbfgs failed to converge (status=1):\n",
            "STOP: TOTAL NO. of ITERATIONS REACHED LIMIT.\n",
            "\n",
            "Increase the number of iterations (max_iter) or scale the data as shown in:\n",
            "    https://scikit-learn.org/stable/modules/preprocessing.html\n",
            "Please also refer to the documentation for alternative solver options:\n",
            "    https://scikit-learn.org/stable/modules/linear_model.html#logistic-regression\n",
            "  extra_warning_msg=_LOGISTIC_SOLVER_CONVERGENCE_MSG,\n"
          ]
        },
        {
          "output_type": "stream",
          "name": "stdout",
          "text": [
            "[CV 4/5; 25/40] END Modelo=LogisticRegression(random_state=20), Preprocessing__bow__ngram_range=(1, 1), Selection__percentile=65;, score=(train=1.000, test=0.500) total time=   3.2s\n",
            "[CV 5/5; 25/40] START Modelo=LogisticRegression(random_state=20), Preprocessing__bow__ngram_range=(1, 1), Selection__percentile=65\n"
          ]
        },
        {
          "output_type": "stream",
          "name": "stderr",
          "text": [
            "/usr/local/lib/python3.7/dist-packages/sklearn/linear_model/_logistic.py:818: ConvergenceWarning: lbfgs failed to converge (status=1):\n",
            "STOP: TOTAL NO. of ITERATIONS REACHED LIMIT.\n",
            "\n",
            "Increase the number of iterations (max_iter) or scale the data as shown in:\n",
            "    https://scikit-learn.org/stable/modules/preprocessing.html\n",
            "Please also refer to the documentation for alternative solver options:\n",
            "    https://scikit-learn.org/stable/modules/linear_model.html#logistic-regression\n",
            "  extra_warning_msg=_LOGISTIC_SOLVER_CONVERGENCE_MSG,\n"
          ]
        },
        {
          "output_type": "stream",
          "name": "stdout",
          "text": [
            "[CV 5/5; 25/40] END Modelo=LogisticRegression(random_state=20), Preprocessing__bow__ngram_range=(1, 1), Selection__percentile=65;, score=(train=1.000, test=0.611) total time=   2.9s\n",
            "[CV 1/5; 26/40] START Modelo=LogisticRegression(random_state=20), Preprocessing__bow__ngram_range=(1, 1), Selection__percentile=45\n"
          ]
        },
        {
          "output_type": "stream",
          "name": "stderr",
          "text": [
            "/usr/local/lib/python3.7/dist-packages/sklearn/linear_model/_logistic.py:818: ConvergenceWarning: lbfgs failed to converge (status=1):\n",
            "STOP: TOTAL NO. of ITERATIONS REACHED LIMIT.\n",
            "\n",
            "Increase the number of iterations (max_iter) or scale the data as shown in:\n",
            "    https://scikit-learn.org/stable/modules/preprocessing.html\n",
            "Please also refer to the documentation for alternative solver options:\n",
            "    https://scikit-learn.org/stable/modules/linear_model.html#logistic-regression\n",
            "  extra_warning_msg=_LOGISTIC_SOLVER_CONVERGENCE_MSG,\n"
          ]
        },
        {
          "output_type": "stream",
          "name": "stdout",
          "text": [
            "[CV 1/5; 26/40] END Modelo=LogisticRegression(random_state=20), Preprocessing__bow__ngram_range=(1, 1), Selection__percentile=45;, score=(train=1.000, test=0.611) total time=   3.0s\n",
            "[CV 2/5; 26/40] START Modelo=LogisticRegression(random_state=20), Preprocessing__bow__ngram_range=(1, 1), Selection__percentile=45\n",
            "[CV 2/5; 26/40] END Modelo=LogisticRegression(random_state=20), Preprocessing__bow__ngram_range=(1, 1), Selection__percentile=45;, score=(train=1.000, test=0.500) total time=   2.9s\n",
            "[CV 3/5; 26/40] START Modelo=LogisticRegression(random_state=20), Preprocessing__bow__ngram_range=(1, 1), Selection__percentile=45\n"
          ]
        },
        {
          "output_type": "stream",
          "name": "stderr",
          "text": [
            "/usr/local/lib/python3.7/dist-packages/sklearn/linear_model/_logistic.py:818: ConvergenceWarning: lbfgs failed to converge (status=1):\n",
            "STOP: TOTAL NO. of ITERATIONS REACHED LIMIT.\n",
            "\n",
            "Increase the number of iterations (max_iter) or scale the data as shown in:\n",
            "    https://scikit-learn.org/stable/modules/preprocessing.html\n",
            "Please also refer to the documentation for alternative solver options:\n",
            "    https://scikit-learn.org/stable/modules/linear_model.html#logistic-regression\n",
            "  extra_warning_msg=_LOGISTIC_SOLVER_CONVERGENCE_MSG,\n"
          ]
        },
        {
          "output_type": "stream",
          "name": "stdout",
          "text": [
            "[CV 3/5; 26/40] END Modelo=LogisticRegression(random_state=20), Preprocessing__bow__ngram_range=(1, 1), Selection__percentile=45;, score=(train=1.000, test=0.333) total time=   3.0s\n",
            "[CV 4/5; 26/40] START Modelo=LogisticRegression(random_state=20), Preprocessing__bow__ngram_range=(1, 1), Selection__percentile=45\n",
            "[CV 4/5; 26/40] END Modelo=LogisticRegression(random_state=20), Preprocessing__bow__ngram_range=(1, 1), Selection__percentile=45;, score=(train=1.000, test=0.667) total time=   2.8s\n",
            "[CV 5/5; 26/40] START Modelo=LogisticRegression(random_state=20), Preprocessing__bow__ngram_range=(1, 1), Selection__percentile=45\n"
          ]
        },
        {
          "output_type": "stream",
          "name": "stderr",
          "text": [
            "/usr/local/lib/python3.7/dist-packages/sklearn/linear_model/_logistic.py:818: ConvergenceWarning: lbfgs failed to converge (status=1):\n",
            "STOP: TOTAL NO. of ITERATIONS REACHED LIMIT.\n",
            "\n",
            "Increase the number of iterations (max_iter) or scale the data as shown in:\n",
            "    https://scikit-learn.org/stable/modules/preprocessing.html\n",
            "Please also refer to the documentation for alternative solver options:\n",
            "    https://scikit-learn.org/stable/modules/linear_model.html#logistic-regression\n",
            "  extra_warning_msg=_LOGISTIC_SOLVER_CONVERGENCE_MSG,\n"
          ]
        },
        {
          "output_type": "stream",
          "name": "stdout",
          "text": [
            "[CV 5/5; 26/40] END Modelo=LogisticRegression(random_state=20), Preprocessing__bow__ngram_range=(1, 1), Selection__percentile=45;, score=(train=1.000, test=0.611) total time=   2.5s\n",
            "[CV 1/5; 27/40] START Modelo=LogisticRegression(random_state=20), Preprocessing__bow__ngram_range=(1, 2), Selection__percentile=25\n"
          ]
        },
        {
          "output_type": "stream",
          "name": "stderr",
          "text": [
            "/usr/local/lib/python3.7/dist-packages/sklearn/linear_model/_logistic.py:818: ConvergenceWarning: lbfgs failed to converge (status=1):\n",
            "STOP: TOTAL NO. of ITERATIONS REACHED LIMIT.\n",
            "\n",
            "Increase the number of iterations (max_iter) or scale the data as shown in:\n",
            "    https://scikit-learn.org/stable/modules/preprocessing.html\n",
            "Please also refer to the documentation for alternative solver options:\n",
            "    https://scikit-learn.org/stable/modules/linear_model.html#logistic-regression\n",
            "  extra_warning_msg=_LOGISTIC_SOLVER_CONVERGENCE_MSG,\n"
          ]
        },
        {
          "output_type": "stream",
          "name": "stdout",
          "text": [
            "[CV 1/5; 27/40] END Modelo=LogisticRegression(random_state=20), Preprocessing__bow__ngram_range=(1, 2), Selection__percentile=25;, score=(train=1.000, test=0.556) total time=   3.8s\n",
            "[CV 2/5; 27/40] START Modelo=LogisticRegression(random_state=20), Preprocessing__bow__ngram_range=(1, 2), Selection__percentile=25\n",
            "[CV 2/5; 27/40] END Modelo=LogisticRegression(random_state=20), Preprocessing__bow__ngram_range=(1, 2), Selection__percentile=25;, score=(train=1.000, test=0.556) total time=   3.4s\n",
            "[CV 3/5; 27/40] START Modelo=LogisticRegression(random_state=20), Preprocessing__bow__ngram_range=(1, 2), Selection__percentile=25\n"
          ]
        },
        {
          "output_type": "stream",
          "name": "stderr",
          "text": [
            "/usr/local/lib/python3.7/dist-packages/sklearn/linear_model/_logistic.py:818: ConvergenceWarning: lbfgs failed to converge (status=1):\n",
            "STOP: TOTAL NO. of ITERATIONS REACHED LIMIT.\n",
            "\n",
            "Increase the number of iterations (max_iter) or scale the data as shown in:\n",
            "    https://scikit-learn.org/stable/modules/preprocessing.html\n",
            "Please also refer to the documentation for alternative solver options:\n",
            "    https://scikit-learn.org/stable/modules/linear_model.html#logistic-regression\n",
            "  extra_warning_msg=_LOGISTIC_SOLVER_CONVERGENCE_MSG,\n"
          ]
        },
        {
          "output_type": "stream",
          "name": "stdout",
          "text": [
            "[CV 3/5; 27/40] END Modelo=LogisticRegression(random_state=20), Preprocessing__bow__ngram_range=(1, 2), Selection__percentile=25;, score=(train=1.000, test=0.389) total time=   4.0s\n",
            "[CV 4/5; 27/40] START Modelo=LogisticRegression(random_state=20), Preprocessing__bow__ngram_range=(1, 2), Selection__percentile=25\n",
            "[CV 4/5; 27/40] END Modelo=LogisticRegression(random_state=20), Preprocessing__bow__ngram_range=(1, 2), Selection__percentile=25;, score=(train=1.000, test=0.500) total time=   3.4s\n",
            "[CV 5/5; 27/40] START Modelo=LogisticRegression(random_state=20), Preprocessing__bow__ngram_range=(1, 2), Selection__percentile=25\n",
            "[CV 5/5; 27/40] END Modelo=LogisticRegression(random_state=20), Preprocessing__bow__ngram_range=(1, 2), Selection__percentile=25;, score=(train=1.000, test=0.667) total time=   2.9s\n",
            "[CV 1/5; 28/40] START Modelo=LogisticRegression(random_state=20), Preprocessing__bow__ngram_range=(1, 2), Selection__percentile=40\n"
          ]
        },
        {
          "output_type": "stream",
          "name": "stderr",
          "text": [
            "/usr/local/lib/python3.7/dist-packages/sklearn/linear_model/_logistic.py:818: ConvergenceWarning: lbfgs failed to converge (status=1):\n",
            "STOP: TOTAL NO. of ITERATIONS REACHED LIMIT.\n",
            "\n",
            "Increase the number of iterations (max_iter) or scale the data as shown in:\n",
            "    https://scikit-learn.org/stable/modules/preprocessing.html\n",
            "Please also refer to the documentation for alternative solver options:\n",
            "    https://scikit-learn.org/stable/modules/linear_model.html#logistic-regression\n",
            "  extra_warning_msg=_LOGISTIC_SOLVER_CONVERGENCE_MSG,\n"
          ]
        },
        {
          "output_type": "stream",
          "name": "stdout",
          "text": [
            "[CV 1/5; 28/40] END Modelo=LogisticRegression(random_state=20), Preprocessing__bow__ngram_range=(1, 2), Selection__percentile=40;, score=(train=1.000, test=0.444) total time=   4.5s\n",
            "[CV 2/5; 28/40] START Modelo=LogisticRegression(random_state=20), Preprocessing__bow__ngram_range=(1, 2), Selection__percentile=40\n",
            "[CV 2/5; 28/40] END Modelo=LogisticRegression(random_state=20), Preprocessing__bow__ngram_range=(1, 2), Selection__percentile=40;, score=(train=1.000, test=0.556) total time=   4.3s\n",
            "[CV 3/5; 28/40] START Modelo=LogisticRegression(random_state=20), Preprocessing__bow__ngram_range=(1, 2), Selection__percentile=40\n"
          ]
        },
        {
          "output_type": "stream",
          "name": "stderr",
          "text": [
            "/usr/local/lib/python3.7/dist-packages/sklearn/linear_model/_logistic.py:818: ConvergenceWarning: lbfgs failed to converge (status=1):\n",
            "STOP: TOTAL NO. of ITERATIONS REACHED LIMIT.\n",
            "\n",
            "Increase the number of iterations (max_iter) or scale the data as shown in:\n",
            "    https://scikit-learn.org/stable/modules/preprocessing.html\n",
            "Please also refer to the documentation for alternative solver options:\n",
            "    https://scikit-learn.org/stable/modules/linear_model.html#logistic-regression\n",
            "  extra_warning_msg=_LOGISTIC_SOLVER_CONVERGENCE_MSG,\n"
          ]
        },
        {
          "output_type": "stream",
          "name": "stdout",
          "text": [
            "[CV 3/5; 28/40] END Modelo=LogisticRegression(random_state=20), Preprocessing__bow__ngram_range=(1, 2), Selection__percentile=40;, score=(train=1.000, test=0.389) total time=   4.5s\n",
            "[CV 4/5; 28/40] START Modelo=LogisticRegression(random_state=20), Preprocessing__bow__ngram_range=(1, 2), Selection__percentile=40\n",
            "[CV 4/5; 28/40] END Modelo=LogisticRegression(random_state=20), Preprocessing__bow__ngram_range=(1, 2), Selection__percentile=40;, score=(train=1.000, test=0.500) total time=   4.4s\n",
            "[CV 5/5; 28/40] START Modelo=LogisticRegression(random_state=20), Preprocessing__bow__ngram_range=(1, 2), Selection__percentile=40\n"
          ]
        },
        {
          "output_type": "stream",
          "name": "stderr",
          "text": [
            "/usr/local/lib/python3.7/dist-packages/sklearn/linear_model/_logistic.py:818: ConvergenceWarning: lbfgs failed to converge (status=1):\n",
            "STOP: TOTAL NO. of ITERATIONS REACHED LIMIT.\n",
            "\n",
            "Increase the number of iterations (max_iter) or scale the data as shown in:\n",
            "    https://scikit-learn.org/stable/modules/preprocessing.html\n",
            "Please also refer to the documentation for alternative solver options:\n",
            "    https://scikit-learn.org/stable/modules/linear_model.html#logistic-regression\n",
            "  extra_warning_msg=_LOGISTIC_SOLVER_CONVERGENCE_MSG,\n"
          ]
        },
        {
          "output_type": "stream",
          "name": "stdout",
          "text": [
            "[CV 5/5; 28/40] END Modelo=LogisticRegression(random_state=20), Preprocessing__bow__ngram_range=(1, 2), Selection__percentile=40;, score=(train=1.000, test=0.667) total time=   4.0s\n",
            "[CV 1/5; 29/40] START Modelo=LogisticRegression(random_state=20), Preprocessing__bow__ngram_range=(1, 2), Selection__percentile=45\n"
          ]
        },
        {
          "output_type": "stream",
          "name": "stderr",
          "text": [
            "/usr/local/lib/python3.7/dist-packages/sklearn/linear_model/_logistic.py:818: ConvergenceWarning: lbfgs failed to converge (status=1):\n",
            "STOP: TOTAL NO. of ITERATIONS REACHED LIMIT.\n",
            "\n",
            "Increase the number of iterations (max_iter) or scale the data as shown in:\n",
            "    https://scikit-learn.org/stable/modules/preprocessing.html\n",
            "Please also refer to the documentation for alternative solver options:\n",
            "    https://scikit-learn.org/stable/modules/linear_model.html#logistic-regression\n",
            "  extra_warning_msg=_LOGISTIC_SOLVER_CONVERGENCE_MSG,\n"
          ]
        },
        {
          "output_type": "stream",
          "name": "stdout",
          "text": [
            "[CV 1/5; 29/40] END Modelo=LogisticRegression(random_state=20), Preprocessing__bow__ngram_range=(1, 2), Selection__percentile=45;, score=(train=1.000, test=0.500) total time=   5.9s\n",
            "[CV 2/5; 29/40] START Modelo=LogisticRegression(random_state=20), Preprocessing__bow__ngram_range=(1, 2), Selection__percentile=45\n",
            "[CV 2/5; 29/40] END Modelo=LogisticRegression(random_state=20), Preprocessing__bow__ngram_range=(1, 2), Selection__percentile=45;, score=(train=1.000, test=0.556) total time=   4.4s\n",
            "[CV 3/5; 29/40] START Modelo=LogisticRegression(random_state=20), Preprocessing__bow__ngram_range=(1, 2), Selection__percentile=45\n"
          ]
        },
        {
          "output_type": "stream",
          "name": "stderr",
          "text": [
            "/usr/local/lib/python3.7/dist-packages/sklearn/linear_model/_logistic.py:818: ConvergenceWarning: lbfgs failed to converge (status=1):\n",
            "STOP: TOTAL NO. of ITERATIONS REACHED LIMIT.\n",
            "\n",
            "Increase the number of iterations (max_iter) or scale the data as shown in:\n",
            "    https://scikit-learn.org/stable/modules/preprocessing.html\n",
            "Please also refer to the documentation for alternative solver options:\n",
            "    https://scikit-learn.org/stable/modules/linear_model.html#logistic-regression\n",
            "  extra_warning_msg=_LOGISTIC_SOLVER_CONVERGENCE_MSG,\n"
          ]
        },
        {
          "output_type": "stream",
          "name": "stdout",
          "text": [
            "[CV 3/5; 29/40] END Modelo=LogisticRegression(random_state=20), Preprocessing__bow__ngram_range=(1, 2), Selection__percentile=45;, score=(train=1.000, test=0.389) total time=   4.7s\n",
            "[CV 4/5; 29/40] START Modelo=LogisticRegression(random_state=20), Preprocessing__bow__ngram_range=(1, 2), Selection__percentile=45\n"
          ]
        },
        {
          "output_type": "stream",
          "name": "stderr",
          "text": [
            "/usr/local/lib/python3.7/dist-packages/sklearn/linear_model/_logistic.py:818: ConvergenceWarning: lbfgs failed to converge (status=1):\n",
            "STOP: TOTAL NO. of ITERATIONS REACHED LIMIT.\n",
            "\n",
            "Increase the number of iterations (max_iter) or scale the data as shown in:\n",
            "    https://scikit-learn.org/stable/modules/preprocessing.html\n",
            "Please also refer to the documentation for alternative solver options:\n",
            "    https://scikit-learn.org/stable/modules/linear_model.html#logistic-regression\n",
            "  extra_warning_msg=_LOGISTIC_SOLVER_CONVERGENCE_MSG,\n"
          ]
        },
        {
          "output_type": "stream",
          "name": "stdout",
          "text": [
            "[CV 4/5; 29/40] END Modelo=LogisticRegression(random_state=20), Preprocessing__bow__ngram_range=(1, 2), Selection__percentile=45;, score=(train=1.000, test=0.500) total time=   4.8s\n",
            "[CV 5/5; 29/40] START Modelo=LogisticRegression(random_state=20), Preprocessing__bow__ngram_range=(1, 2), Selection__percentile=45\n",
            "[CV 5/5; 29/40] END Modelo=LogisticRegression(random_state=20), Preprocessing__bow__ngram_range=(1, 2), Selection__percentile=45;, score=(train=1.000, test=0.611) total time=   3.9s\n",
            "[CV 1/5; 30/40] START Modelo=LogisticRegression(random_state=20), Preprocessing__bow__ngram_range=(1, 2), Selection__percentile=50\n"
          ]
        },
        {
          "output_type": "stream",
          "name": "stderr",
          "text": [
            "/usr/local/lib/python3.7/dist-packages/sklearn/linear_model/_logistic.py:818: ConvergenceWarning: lbfgs failed to converge (status=1):\n",
            "STOP: TOTAL NO. of ITERATIONS REACHED LIMIT.\n",
            "\n",
            "Increase the number of iterations (max_iter) or scale the data as shown in:\n",
            "    https://scikit-learn.org/stable/modules/preprocessing.html\n",
            "Please also refer to the documentation for alternative solver options:\n",
            "    https://scikit-learn.org/stable/modules/linear_model.html#logistic-regression\n",
            "  extra_warning_msg=_LOGISTIC_SOLVER_CONVERGENCE_MSG,\n"
          ]
        },
        {
          "output_type": "stream",
          "name": "stdout",
          "text": [
            "[CV 1/5; 30/40] END Modelo=LogisticRegression(random_state=20), Preprocessing__bow__ngram_range=(1, 2), Selection__percentile=50;, score=(train=1.000, test=0.444) total time=   4.6s\n",
            "[CV 2/5; 30/40] START Modelo=LogisticRegression(random_state=20), Preprocessing__bow__ngram_range=(1, 2), Selection__percentile=50\n",
            "[CV 2/5; 30/40] END Modelo=LogisticRegression(random_state=20), Preprocessing__bow__ngram_range=(1, 2), Selection__percentile=50;, score=(train=1.000, test=0.556) total time=   4.6s\n",
            "[CV 3/5; 30/40] START Modelo=LogisticRegression(random_state=20), Preprocessing__bow__ngram_range=(1, 2), Selection__percentile=50\n"
          ]
        },
        {
          "output_type": "stream",
          "name": "stderr",
          "text": [
            "/usr/local/lib/python3.7/dist-packages/sklearn/linear_model/_logistic.py:818: ConvergenceWarning: lbfgs failed to converge (status=1):\n",
            "STOP: TOTAL NO. of ITERATIONS REACHED LIMIT.\n",
            "\n",
            "Increase the number of iterations (max_iter) or scale the data as shown in:\n",
            "    https://scikit-learn.org/stable/modules/preprocessing.html\n",
            "Please also refer to the documentation for alternative solver options:\n",
            "    https://scikit-learn.org/stable/modules/linear_model.html#logistic-regression\n",
            "  extra_warning_msg=_LOGISTIC_SOLVER_CONVERGENCE_MSG,\n"
          ]
        },
        {
          "output_type": "stream",
          "name": "stdout",
          "text": [
            "[CV 3/5; 30/40] END Modelo=LogisticRegression(random_state=20), Preprocessing__bow__ngram_range=(1, 2), Selection__percentile=50;, score=(train=1.000, test=0.444) total time=   4.6s\n",
            "[CV 4/5; 30/40] START Modelo=LogisticRegression(random_state=20), Preprocessing__bow__ngram_range=(1, 2), Selection__percentile=50\n"
          ]
        },
        {
          "output_type": "stream",
          "name": "stderr",
          "text": [
            "/usr/local/lib/python3.7/dist-packages/sklearn/linear_model/_logistic.py:818: ConvergenceWarning: lbfgs failed to converge (status=1):\n",
            "STOP: TOTAL NO. of ITERATIONS REACHED LIMIT.\n",
            "\n",
            "Increase the number of iterations (max_iter) or scale the data as shown in:\n",
            "    https://scikit-learn.org/stable/modules/preprocessing.html\n",
            "Please also refer to the documentation for alternative solver options:\n",
            "    https://scikit-learn.org/stable/modules/linear_model.html#logistic-regression\n",
            "  extra_warning_msg=_LOGISTIC_SOLVER_CONVERGENCE_MSG,\n"
          ]
        },
        {
          "output_type": "stream",
          "name": "stdout",
          "text": [
            "[CV 4/5; 30/40] END Modelo=LogisticRegression(random_state=20), Preprocessing__bow__ngram_range=(1, 2), Selection__percentile=50;, score=(train=1.000, test=0.444) total time=   4.7s\n",
            "[CV 5/5; 30/40] START Modelo=LogisticRegression(random_state=20), Preprocessing__bow__ngram_range=(1, 2), Selection__percentile=50\n"
          ]
        },
        {
          "output_type": "stream",
          "name": "stderr",
          "text": [
            "/usr/local/lib/python3.7/dist-packages/sklearn/linear_model/_logistic.py:818: ConvergenceWarning: lbfgs failed to converge (status=1):\n",
            "STOP: TOTAL NO. of ITERATIONS REACHED LIMIT.\n",
            "\n",
            "Increase the number of iterations (max_iter) or scale the data as shown in:\n",
            "    https://scikit-learn.org/stable/modules/preprocessing.html\n",
            "Please also refer to the documentation for alternative solver options:\n",
            "    https://scikit-learn.org/stable/modules/linear_model.html#logistic-regression\n",
            "  extra_warning_msg=_LOGISTIC_SOLVER_CONVERGENCE_MSG,\n"
          ]
        },
        {
          "output_type": "stream",
          "name": "stdout",
          "text": [
            "[CV 5/5; 30/40] END Modelo=LogisticRegression(random_state=20), Preprocessing__bow__ngram_range=(1, 2), Selection__percentile=50;, score=(train=1.000, test=0.611) total time=   4.2s\n",
            "[CV 1/5; 31/40] START Modelo=LogisticRegression(random_state=20), Preprocessing__bow__ngram_range=(1, 2), Selection__percentile=55\n"
          ]
        },
        {
          "output_type": "stream",
          "name": "stderr",
          "text": [
            "/usr/local/lib/python3.7/dist-packages/sklearn/linear_model/_logistic.py:818: ConvergenceWarning: lbfgs failed to converge (status=1):\n",
            "STOP: TOTAL NO. of ITERATIONS REACHED LIMIT.\n",
            "\n",
            "Increase the number of iterations (max_iter) or scale the data as shown in:\n",
            "    https://scikit-learn.org/stable/modules/preprocessing.html\n",
            "Please also refer to the documentation for alternative solver options:\n",
            "    https://scikit-learn.org/stable/modules/linear_model.html#logistic-regression\n",
            "  extra_warning_msg=_LOGISTIC_SOLVER_CONVERGENCE_MSG,\n"
          ]
        },
        {
          "output_type": "stream",
          "name": "stdout",
          "text": [
            "[CV 1/5; 31/40] END Modelo=LogisticRegression(random_state=20), Preprocessing__bow__ngram_range=(1, 2), Selection__percentile=55;, score=(train=1.000, test=0.444) total time=   4.8s\n",
            "[CV 2/5; 31/40] START Modelo=LogisticRegression(random_state=20), Preprocessing__bow__ngram_range=(1, 2), Selection__percentile=55\n",
            "[CV 2/5; 31/40] END Modelo=LogisticRegression(random_state=20), Preprocessing__bow__ngram_range=(1, 2), Selection__percentile=55;, score=(train=1.000, test=0.556) total time=   4.8s\n",
            "[CV 3/5; 31/40] START Modelo=LogisticRegression(random_state=20), Preprocessing__bow__ngram_range=(1, 2), Selection__percentile=55\n"
          ]
        },
        {
          "output_type": "stream",
          "name": "stderr",
          "text": [
            "/usr/local/lib/python3.7/dist-packages/sklearn/linear_model/_logistic.py:818: ConvergenceWarning: lbfgs failed to converge (status=1):\n",
            "STOP: TOTAL NO. of ITERATIONS REACHED LIMIT.\n",
            "\n",
            "Increase the number of iterations (max_iter) or scale the data as shown in:\n",
            "    https://scikit-learn.org/stable/modules/preprocessing.html\n",
            "Please also refer to the documentation for alternative solver options:\n",
            "    https://scikit-learn.org/stable/modules/linear_model.html#logistic-regression\n",
            "  extra_warning_msg=_LOGISTIC_SOLVER_CONVERGENCE_MSG,\n"
          ]
        },
        {
          "output_type": "stream",
          "name": "stdout",
          "text": [
            "[CV 3/5; 31/40] END Modelo=LogisticRegression(random_state=20), Preprocessing__bow__ngram_range=(1, 2), Selection__percentile=55;, score=(train=1.000, test=0.444) total time=   4.9s\n",
            "[CV 4/5; 31/40] START Modelo=LogisticRegression(random_state=20), Preprocessing__bow__ngram_range=(1, 2), Selection__percentile=55\n"
          ]
        },
        {
          "output_type": "stream",
          "name": "stderr",
          "text": [
            "/usr/local/lib/python3.7/dist-packages/sklearn/linear_model/_logistic.py:818: ConvergenceWarning: lbfgs failed to converge (status=1):\n",
            "STOP: TOTAL NO. of ITERATIONS REACHED LIMIT.\n",
            "\n",
            "Increase the number of iterations (max_iter) or scale the data as shown in:\n",
            "    https://scikit-learn.org/stable/modules/preprocessing.html\n",
            "Please also refer to the documentation for alternative solver options:\n",
            "    https://scikit-learn.org/stable/modules/linear_model.html#logistic-regression\n",
            "  extra_warning_msg=_LOGISTIC_SOLVER_CONVERGENCE_MSG,\n"
          ]
        },
        {
          "output_type": "stream",
          "name": "stdout",
          "text": [
            "[CV 4/5; 31/40] END Modelo=LogisticRegression(random_state=20), Preprocessing__bow__ngram_range=(1, 2), Selection__percentile=55;, score=(train=1.000, test=0.444) total time=   4.9s\n",
            "[CV 5/5; 31/40] START Modelo=LogisticRegression(random_state=20), Preprocessing__bow__ngram_range=(1, 2), Selection__percentile=55\n"
          ]
        },
        {
          "output_type": "stream",
          "name": "stderr",
          "text": [
            "/usr/local/lib/python3.7/dist-packages/sklearn/linear_model/_logistic.py:818: ConvergenceWarning: lbfgs failed to converge (status=1):\n",
            "STOP: TOTAL NO. of ITERATIONS REACHED LIMIT.\n",
            "\n",
            "Increase the number of iterations (max_iter) or scale the data as shown in:\n",
            "    https://scikit-learn.org/stable/modules/preprocessing.html\n",
            "Please also refer to the documentation for alternative solver options:\n",
            "    https://scikit-learn.org/stable/modules/linear_model.html#logistic-regression\n",
            "  extra_warning_msg=_LOGISTIC_SOLVER_CONVERGENCE_MSG,\n"
          ]
        },
        {
          "output_type": "stream",
          "name": "stdout",
          "text": [
            "[CV 5/5; 31/40] END Modelo=LogisticRegression(random_state=20), Preprocessing__bow__ngram_range=(1, 2), Selection__percentile=55;, score=(train=1.000, test=0.611) total time=   4.8s\n",
            "[CV 1/5; 32/40] START Modelo=LogisticRegression(random_state=20), Preprocessing__bow__ngram_range=(1, 2), Selection__percentile=60\n"
          ]
        },
        {
          "output_type": "stream",
          "name": "stderr",
          "text": [
            "/usr/local/lib/python3.7/dist-packages/sklearn/linear_model/_logistic.py:818: ConvergenceWarning: lbfgs failed to converge (status=1):\n",
            "STOP: TOTAL NO. of ITERATIONS REACHED LIMIT.\n",
            "\n",
            "Increase the number of iterations (max_iter) or scale the data as shown in:\n",
            "    https://scikit-learn.org/stable/modules/preprocessing.html\n",
            "Please also refer to the documentation for alternative solver options:\n",
            "    https://scikit-learn.org/stable/modules/linear_model.html#logistic-regression\n",
            "  extra_warning_msg=_LOGISTIC_SOLVER_CONVERGENCE_MSG,\n"
          ]
        },
        {
          "output_type": "stream",
          "name": "stdout",
          "text": [
            "[CV 1/5; 32/40] END Modelo=LogisticRegression(random_state=20), Preprocessing__bow__ngram_range=(1, 2), Selection__percentile=60;, score=(train=1.000, test=0.444) total time=   4.3s\n",
            "[CV 2/5; 32/40] START Modelo=LogisticRegression(random_state=20), Preprocessing__bow__ngram_range=(1, 2), Selection__percentile=60\n",
            "[CV 2/5; 32/40] END Modelo=LogisticRegression(random_state=20), Preprocessing__bow__ngram_range=(1, 2), Selection__percentile=60;, score=(train=1.000, test=0.556) total time=   4.7s\n",
            "[CV 3/5; 32/40] START Modelo=LogisticRegression(random_state=20), Preprocessing__bow__ngram_range=(1, 2), Selection__percentile=60\n"
          ]
        },
        {
          "output_type": "stream",
          "name": "stderr",
          "text": [
            "/usr/local/lib/python3.7/dist-packages/sklearn/linear_model/_logistic.py:818: ConvergenceWarning: lbfgs failed to converge (status=1):\n",
            "STOP: TOTAL NO. of ITERATIONS REACHED LIMIT.\n",
            "\n",
            "Increase the number of iterations (max_iter) or scale the data as shown in:\n",
            "    https://scikit-learn.org/stable/modules/preprocessing.html\n",
            "Please also refer to the documentation for alternative solver options:\n",
            "    https://scikit-learn.org/stable/modules/linear_model.html#logistic-regression\n",
            "  extra_warning_msg=_LOGISTIC_SOLVER_CONVERGENCE_MSG,\n"
          ]
        },
        {
          "output_type": "stream",
          "name": "stdout",
          "text": [
            "[CV 3/5; 32/40] END Modelo=LogisticRegression(random_state=20), Preprocessing__bow__ngram_range=(1, 2), Selection__percentile=60;, score=(train=1.000, test=0.444) total time=   5.0s\n",
            "[CV 4/5; 32/40] START Modelo=LogisticRegression(random_state=20), Preprocessing__bow__ngram_range=(1, 2), Selection__percentile=60\n",
            "[CV 4/5; 32/40] END Modelo=LogisticRegression(random_state=20), Preprocessing__bow__ngram_range=(1, 2), Selection__percentile=60;, score=(train=1.000, test=0.500) total time=   5.0s\n",
            "[CV 5/5; 32/40] START Modelo=LogisticRegression(random_state=20), Preprocessing__bow__ngram_range=(1, 2), Selection__percentile=60\n",
            "[CV 5/5; 32/40] END Modelo=LogisticRegression(random_state=20), Preprocessing__bow__ngram_range=(1, 2), Selection__percentile=60;, score=(train=1.000, test=0.611) total time=   4.2s\n",
            "[CV 1/5; 33/40] START Modelo=LogisticRegression(random_state=20), Preprocessing__bow__ngram_range=(1, 2), Selection__percentile=65\n"
          ]
        },
        {
          "output_type": "stream",
          "name": "stderr",
          "text": [
            "/usr/local/lib/python3.7/dist-packages/sklearn/linear_model/_logistic.py:818: ConvergenceWarning: lbfgs failed to converge (status=1):\n",
            "STOP: TOTAL NO. of ITERATIONS REACHED LIMIT.\n",
            "\n",
            "Increase the number of iterations (max_iter) or scale the data as shown in:\n",
            "    https://scikit-learn.org/stable/modules/preprocessing.html\n",
            "Please also refer to the documentation for alternative solver options:\n",
            "    https://scikit-learn.org/stable/modules/linear_model.html#logistic-regression\n",
            "  extra_warning_msg=_LOGISTIC_SOLVER_CONVERGENCE_MSG,\n"
          ]
        },
        {
          "output_type": "stream",
          "name": "stdout",
          "text": [
            "[CV 1/5; 33/40] END Modelo=LogisticRegression(random_state=20), Preprocessing__bow__ngram_range=(1, 2), Selection__percentile=65;, score=(train=1.000, test=0.444) total time=   5.1s\n",
            "[CV 2/5; 33/40] START Modelo=LogisticRegression(random_state=20), Preprocessing__bow__ngram_range=(1, 2), Selection__percentile=65\n"
          ]
        },
        {
          "output_type": "stream",
          "name": "stderr",
          "text": [
            "/usr/local/lib/python3.7/dist-packages/sklearn/linear_model/_logistic.py:818: ConvergenceWarning: lbfgs failed to converge (status=1):\n",
            "STOP: TOTAL NO. of ITERATIONS REACHED LIMIT.\n",
            "\n",
            "Increase the number of iterations (max_iter) or scale the data as shown in:\n",
            "    https://scikit-learn.org/stable/modules/preprocessing.html\n",
            "Please also refer to the documentation for alternative solver options:\n",
            "    https://scikit-learn.org/stable/modules/linear_model.html#logistic-regression\n",
            "  extra_warning_msg=_LOGISTIC_SOLVER_CONVERGENCE_MSG,\n"
          ]
        },
        {
          "output_type": "stream",
          "name": "stdout",
          "text": [
            "[CV 2/5; 33/40] END Modelo=LogisticRegression(random_state=20), Preprocessing__bow__ngram_range=(1, 2), Selection__percentile=65;, score=(train=1.000, test=0.556) total time=   5.4s\n",
            "[CV 3/5; 33/40] START Modelo=LogisticRegression(random_state=20), Preprocessing__bow__ngram_range=(1, 2), Selection__percentile=65\n"
          ]
        },
        {
          "output_type": "stream",
          "name": "stderr",
          "text": [
            "/usr/local/lib/python3.7/dist-packages/sklearn/linear_model/_logistic.py:818: ConvergenceWarning: lbfgs failed to converge (status=1):\n",
            "STOP: TOTAL NO. of ITERATIONS REACHED LIMIT.\n",
            "\n",
            "Increase the number of iterations (max_iter) or scale the data as shown in:\n",
            "    https://scikit-learn.org/stable/modules/preprocessing.html\n",
            "Please also refer to the documentation for alternative solver options:\n",
            "    https://scikit-learn.org/stable/modules/linear_model.html#logistic-regression\n",
            "  extra_warning_msg=_LOGISTIC_SOLVER_CONVERGENCE_MSG,\n"
          ]
        },
        {
          "output_type": "stream",
          "name": "stdout",
          "text": [
            "[CV 3/5; 33/40] END Modelo=LogisticRegression(random_state=20), Preprocessing__bow__ngram_range=(1, 2), Selection__percentile=65;, score=(train=1.000, test=0.444) total time=   5.1s\n",
            "[CV 4/5; 33/40] START Modelo=LogisticRegression(random_state=20), Preprocessing__bow__ngram_range=(1, 2), Selection__percentile=65\n"
          ]
        },
        {
          "output_type": "stream",
          "name": "stderr",
          "text": [
            "/usr/local/lib/python3.7/dist-packages/sklearn/linear_model/_logistic.py:818: ConvergenceWarning: lbfgs failed to converge (status=1):\n",
            "STOP: TOTAL NO. of ITERATIONS REACHED LIMIT.\n",
            "\n",
            "Increase the number of iterations (max_iter) or scale the data as shown in:\n",
            "    https://scikit-learn.org/stable/modules/preprocessing.html\n",
            "Please also refer to the documentation for alternative solver options:\n",
            "    https://scikit-learn.org/stable/modules/linear_model.html#logistic-regression\n",
            "  extra_warning_msg=_LOGISTIC_SOLVER_CONVERGENCE_MSG,\n"
          ]
        },
        {
          "output_type": "stream",
          "name": "stdout",
          "text": [
            "[CV 4/5; 33/40] END Modelo=LogisticRegression(random_state=20), Preprocessing__bow__ngram_range=(1, 2), Selection__percentile=65;, score=(train=1.000, test=0.500) total time=   5.3s\n",
            "[CV 5/5; 33/40] START Modelo=LogisticRegression(random_state=20), Preprocessing__bow__ngram_range=(1, 2), Selection__percentile=65\n"
          ]
        },
        {
          "output_type": "stream",
          "name": "stderr",
          "text": [
            "/usr/local/lib/python3.7/dist-packages/sklearn/linear_model/_logistic.py:818: ConvergenceWarning: lbfgs failed to converge (status=1):\n",
            "STOP: TOTAL NO. of ITERATIONS REACHED LIMIT.\n",
            "\n",
            "Increase the number of iterations (max_iter) or scale the data as shown in:\n",
            "    https://scikit-learn.org/stable/modules/preprocessing.html\n",
            "Please also refer to the documentation for alternative solver options:\n",
            "    https://scikit-learn.org/stable/modules/linear_model.html#logistic-regression\n",
            "  extra_warning_msg=_LOGISTIC_SOLVER_CONVERGENCE_MSG,\n"
          ]
        },
        {
          "output_type": "stream",
          "name": "stdout",
          "text": [
            "[CV 5/5; 33/40] END Modelo=LogisticRegression(random_state=20), Preprocessing__bow__ngram_range=(1, 2), Selection__percentile=65;, score=(train=1.000, test=0.611) total time=   4.6s\n",
            "[CV 1/5; 34/40] START Modelo=LogisticRegression(random_state=20), Preprocessing__bow__ngram_range=(1, 2), Selection__percentile=70\n"
          ]
        },
        {
          "output_type": "stream",
          "name": "stderr",
          "text": [
            "/usr/local/lib/python3.7/dist-packages/sklearn/linear_model/_logistic.py:818: ConvergenceWarning: lbfgs failed to converge (status=1):\n",
            "STOP: TOTAL NO. of ITERATIONS REACHED LIMIT.\n",
            "\n",
            "Increase the number of iterations (max_iter) or scale the data as shown in:\n",
            "    https://scikit-learn.org/stable/modules/preprocessing.html\n",
            "Please also refer to the documentation for alternative solver options:\n",
            "    https://scikit-learn.org/stable/modules/linear_model.html#logistic-regression\n",
            "  extra_warning_msg=_LOGISTIC_SOLVER_CONVERGENCE_MSG,\n"
          ]
        },
        {
          "output_type": "stream",
          "name": "stdout",
          "text": [
            "[CV 1/5; 34/40] END Modelo=LogisticRegression(random_state=20), Preprocessing__bow__ngram_range=(1, 2), Selection__percentile=70;, score=(train=1.000, test=0.444) total time=   5.0s\n",
            "[CV 2/5; 34/40] START Modelo=LogisticRegression(random_state=20), Preprocessing__bow__ngram_range=(1, 2), Selection__percentile=70\n",
            "[CV 2/5; 34/40] END Modelo=LogisticRegression(random_state=20), Preprocessing__bow__ngram_range=(1, 2), Selection__percentile=70;, score=(train=1.000, test=0.556) total time=   5.3s\n",
            "[CV 3/5; 34/40] START Modelo=LogisticRegression(random_state=20), Preprocessing__bow__ngram_range=(1, 2), Selection__percentile=70\n"
          ]
        },
        {
          "output_type": "stream",
          "name": "stderr",
          "text": [
            "/usr/local/lib/python3.7/dist-packages/sklearn/linear_model/_logistic.py:818: ConvergenceWarning: lbfgs failed to converge (status=1):\n",
            "STOP: TOTAL NO. of ITERATIONS REACHED LIMIT.\n",
            "\n",
            "Increase the number of iterations (max_iter) or scale the data as shown in:\n",
            "    https://scikit-learn.org/stable/modules/preprocessing.html\n",
            "Please also refer to the documentation for alternative solver options:\n",
            "    https://scikit-learn.org/stable/modules/linear_model.html#logistic-regression\n",
            "  extra_warning_msg=_LOGISTIC_SOLVER_CONVERGENCE_MSG,\n"
          ]
        },
        {
          "output_type": "stream",
          "name": "stdout",
          "text": [
            "[CV 3/5; 34/40] END Modelo=LogisticRegression(random_state=20), Preprocessing__bow__ngram_range=(1, 2), Selection__percentile=70;, score=(train=1.000, test=0.444) total time=   5.3s\n",
            "[CV 4/5; 34/40] START Modelo=LogisticRegression(random_state=20), Preprocessing__bow__ngram_range=(1, 2), Selection__percentile=70\n",
            "[CV 4/5; 34/40] END Modelo=LogisticRegression(random_state=20), Preprocessing__bow__ngram_range=(1, 2), Selection__percentile=70;, score=(train=1.000, test=0.500) total time=   5.7s\n",
            "[CV 5/5; 34/40] START Modelo=LogisticRegression(random_state=20), Preprocessing__bow__ngram_range=(1, 2), Selection__percentile=70\n"
          ]
        },
        {
          "output_type": "stream",
          "name": "stderr",
          "text": [
            "/usr/local/lib/python3.7/dist-packages/sklearn/linear_model/_logistic.py:818: ConvergenceWarning: lbfgs failed to converge (status=1):\n",
            "STOP: TOTAL NO. of ITERATIONS REACHED LIMIT.\n",
            "\n",
            "Increase the number of iterations (max_iter) or scale the data as shown in:\n",
            "    https://scikit-learn.org/stable/modules/preprocessing.html\n",
            "Please also refer to the documentation for alternative solver options:\n",
            "    https://scikit-learn.org/stable/modules/linear_model.html#logistic-regression\n",
            "  extra_warning_msg=_LOGISTIC_SOLVER_CONVERGENCE_MSG,\n"
          ]
        },
        {
          "output_type": "stream",
          "name": "stdout",
          "text": [
            "[CV 5/5; 34/40] END Modelo=LogisticRegression(random_state=20), Preprocessing__bow__ngram_range=(1, 2), Selection__percentile=70;, score=(train=1.000, test=0.611) total time=   5.0s\n",
            "[CV 1/5; 35/40] START Modelo=LogisticRegression(random_state=20), Preprocessing__bow__ngram_range=(1, 2), Selection__percentile=75\n"
          ]
        },
        {
          "output_type": "stream",
          "name": "stderr",
          "text": [
            "/usr/local/lib/python3.7/dist-packages/sklearn/linear_model/_logistic.py:818: ConvergenceWarning: lbfgs failed to converge (status=1):\n",
            "STOP: TOTAL NO. of ITERATIONS REACHED LIMIT.\n",
            "\n",
            "Increase the number of iterations (max_iter) or scale the data as shown in:\n",
            "    https://scikit-learn.org/stable/modules/preprocessing.html\n",
            "Please also refer to the documentation for alternative solver options:\n",
            "    https://scikit-learn.org/stable/modules/linear_model.html#logistic-regression\n",
            "  extra_warning_msg=_LOGISTIC_SOLVER_CONVERGENCE_MSG,\n"
          ]
        },
        {
          "output_type": "stream",
          "name": "stdout",
          "text": [
            "[CV 1/5; 35/40] END Modelo=LogisticRegression(random_state=20), Preprocessing__bow__ngram_range=(1, 2), Selection__percentile=75;, score=(train=1.000, test=0.444) total time=   5.4s\n",
            "[CV 2/5; 35/40] START Modelo=LogisticRegression(random_state=20), Preprocessing__bow__ngram_range=(1, 2), Selection__percentile=75\n",
            "[CV 2/5; 35/40] END Modelo=LogisticRegression(random_state=20), Preprocessing__bow__ngram_range=(1, 2), Selection__percentile=75;, score=(train=1.000, test=0.556) total time=   5.9s\n",
            "[CV 3/5; 35/40] START Modelo=LogisticRegression(random_state=20), Preprocessing__bow__ngram_range=(1, 2), Selection__percentile=75\n"
          ]
        },
        {
          "output_type": "stream",
          "name": "stderr",
          "text": [
            "/usr/local/lib/python3.7/dist-packages/sklearn/linear_model/_logistic.py:818: ConvergenceWarning: lbfgs failed to converge (status=1):\n",
            "STOP: TOTAL NO. of ITERATIONS REACHED LIMIT.\n",
            "\n",
            "Increase the number of iterations (max_iter) or scale the data as shown in:\n",
            "    https://scikit-learn.org/stable/modules/preprocessing.html\n",
            "Please also refer to the documentation for alternative solver options:\n",
            "    https://scikit-learn.org/stable/modules/linear_model.html#logistic-regression\n",
            "  extra_warning_msg=_LOGISTIC_SOLVER_CONVERGENCE_MSG,\n"
          ]
        },
        {
          "output_type": "stream",
          "name": "stdout",
          "text": [
            "[CV 3/5; 35/40] END Modelo=LogisticRegression(random_state=20), Preprocessing__bow__ngram_range=(1, 2), Selection__percentile=75;, score=(train=1.000, test=0.444) total time=   5.1s\n",
            "[CV 4/5; 35/40] START Modelo=LogisticRegression(random_state=20), Preprocessing__bow__ngram_range=(1, 2), Selection__percentile=75\n",
            "[CV 4/5; 35/40] END Modelo=LogisticRegression(random_state=20), Preprocessing__bow__ngram_range=(1, 2), Selection__percentile=75;, score=(train=1.000, test=0.556) total time=   5.6s\n",
            "[CV 5/5; 35/40] START Modelo=LogisticRegression(random_state=20), Preprocessing__bow__ngram_range=(1, 2), Selection__percentile=75\n",
            "[CV 5/5; 35/40] END Modelo=LogisticRegression(random_state=20), Preprocessing__bow__ngram_range=(1, 2), Selection__percentile=75;, score=(train=1.000, test=0.611) total time=   4.9s\n",
            "[CV 1/5; 36/40] START Modelo=LogisticRegression(random_state=20), Preprocessing__bow__ngram_range=(1, 2), Selection__percentile=80\n"
          ]
        },
        {
          "output_type": "stream",
          "name": "stderr",
          "text": [
            "/usr/local/lib/python3.7/dist-packages/sklearn/linear_model/_logistic.py:818: ConvergenceWarning: lbfgs failed to converge (status=1):\n",
            "STOP: TOTAL NO. of ITERATIONS REACHED LIMIT.\n",
            "\n",
            "Increase the number of iterations (max_iter) or scale the data as shown in:\n",
            "    https://scikit-learn.org/stable/modules/preprocessing.html\n",
            "Please also refer to the documentation for alternative solver options:\n",
            "    https://scikit-learn.org/stable/modules/linear_model.html#logistic-regression\n",
            "  extra_warning_msg=_LOGISTIC_SOLVER_CONVERGENCE_MSG,\n"
          ]
        },
        {
          "output_type": "stream",
          "name": "stdout",
          "text": [
            "[CV 1/5; 36/40] END Modelo=LogisticRegression(random_state=20), Preprocessing__bow__ngram_range=(1, 2), Selection__percentile=80;, score=(train=1.000, test=0.444) total time=   5.4s\n",
            "[CV 2/5; 36/40] START Modelo=LogisticRegression(random_state=20), Preprocessing__bow__ngram_range=(1, 2), Selection__percentile=80\n",
            "[CV 2/5; 36/40] END Modelo=LogisticRegression(random_state=20), Preprocessing__bow__ngram_range=(1, 2), Selection__percentile=80;, score=(train=1.000, test=0.556) total time=   6.0s\n",
            "[CV 3/5; 36/40] START Modelo=LogisticRegression(random_state=20), Preprocessing__bow__ngram_range=(1, 2), Selection__percentile=80\n"
          ]
        },
        {
          "output_type": "stream",
          "name": "stderr",
          "text": [
            "/usr/local/lib/python3.7/dist-packages/sklearn/linear_model/_logistic.py:818: ConvergenceWarning: lbfgs failed to converge (status=1):\n",
            "STOP: TOTAL NO. of ITERATIONS REACHED LIMIT.\n",
            "\n",
            "Increase the number of iterations (max_iter) or scale the data as shown in:\n",
            "    https://scikit-learn.org/stable/modules/preprocessing.html\n",
            "Please also refer to the documentation for alternative solver options:\n",
            "    https://scikit-learn.org/stable/modules/linear_model.html#logistic-regression\n",
            "  extra_warning_msg=_LOGISTIC_SOLVER_CONVERGENCE_MSG,\n"
          ]
        },
        {
          "output_type": "stream",
          "name": "stdout",
          "text": [
            "[CV 3/5; 36/40] END Modelo=LogisticRegression(random_state=20), Preprocessing__bow__ngram_range=(1, 2), Selection__percentile=80;, score=(train=1.000, test=0.389) total time=   5.5s\n",
            "[CV 4/5; 36/40] START Modelo=LogisticRegression(random_state=20), Preprocessing__bow__ngram_range=(1, 2), Selection__percentile=80\n",
            "[CV 4/5; 36/40] END Modelo=LogisticRegression(random_state=20), Preprocessing__bow__ngram_range=(1, 2), Selection__percentile=80;, score=(train=1.000, test=0.556) total time=   5.1s\n",
            "[CV 5/5; 36/40] START Modelo=LogisticRegression(random_state=20), Preprocessing__bow__ngram_range=(1, 2), Selection__percentile=80\n"
          ]
        },
        {
          "output_type": "stream",
          "name": "stderr",
          "text": [
            "/usr/local/lib/python3.7/dist-packages/sklearn/linear_model/_logistic.py:818: ConvergenceWarning: lbfgs failed to converge (status=1):\n",
            "STOP: TOTAL NO. of ITERATIONS REACHED LIMIT.\n",
            "\n",
            "Increase the number of iterations (max_iter) or scale the data as shown in:\n",
            "    https://scikit-learn.org/stable/modules/preprocessing.html\n",
            "Please also refer to the documentation for alternative solver options:\n",
            "    https://scikit-learn.org/stable/modules/linear_model.html#logistic-regression\n",
            "  extra_warning_msg=_LOGISTIC_SOLVER_CONVERGENCE_MSG,\n"
          ]
        },
        {
          "output_type": "stream",
          "name": "stdout",
          "text": [
            "[CV 5/5; 36/40] END Modelo=LogisticRegression(random_state=20), Preprocessing__bow__ngram_range=(1, 2), Selection__percentile=80;, score=(train=1.000, test=0.611) total time=   5.2s\n",
            "[CV 1/5; 37/40] START Modelo=LogisticRegression(random_state=20), Preprocessing__bow__ngram_range=(1, 2), Selection__percentile=95\n"
          ]
        },
        {
          "output_type": "stream",
          "name": "stderr",
          "text": [
            "/usr/local/lib/python3.7/dist-packages/sklearn/linear_model/_logistic.py:818: ConvergenceWarning: lbfgs failed to converge (status=1):\n",
            "STOP: TOTAL NO. of ITERATIONS REACHED LIMIT.\n",
            "\n",
            "Increase the number of iterations (max_iter) or scale the data as shown in:\n",
            "    https://scikit-learn.org/stable/modules/preprocessing.html\n",
            "Please also refer to the documentation for alternative solver options:\n",
            "    https://scikit-learn.org/stable/modules/linear_model.html#logistic-regression\n",
            "  extra_warning_msg=_LOGISTIC_SOLVER_CONVERGENCE_MSG,\n"
          ]
        },
        {
          "output_type": "stream",
          "name": "stdout",
          "text": [
            "[CV 1/5; 37/40] END Modelo=LogisticRegression(random_state=20), Preprocessing__bow__ngram_range=(1, 2), Selection__percentile=95;, score=(train=1.000, test=0.444) total time=   6.1s\n",
            "[CV 2/5; 37/40] START Modelo=LogisticRegression(random_state=20), Preprocessing__bow__ngram_range=(1, 2), Selection__percentile=95\n"
          ]
        },
        {
          "output_type": "stream",
          "name": "stderr",
          "text": [
            "/usr/local/lib/python3.7/dist-packages/sklearn/linear_model/_logistic.py:818: ConvergenceWarning: lbfgs failed to converge (status=1):\n",
            "STOP: TOTAL NO. of ITERATIONS REACHED LIMIT.\n",
            "\n",
            "Increase the number of iterations (max_iter) or scale the data as shown in:\n",
            "    https://scikit-learn.org/stable/modules/preprocessing.html\n",
            "Please also refer to the documentation for alternative solver options:\n",
            "    https://scikit-learn.org/stable/modules/linear_model.html#logistic-regression\n",
            "  extra_warning_msg=_LOGISTIC_SOLVER_CONVERGENCE_MSG,\n"
          ]
        },
        {
          "output_type": "stream",
          "name": "stdout",
          "text": [
            "[CV 2/5; 37/40] END Modelo=LogisticRegression(random_state=20), Preprocessing__bow__ngram_range=(1, 2), Selection__percentile=95;, score=(train=1.000, test=0.444) total time=   6.8s\n",
            "[CV 3/5; 37/40] START Modelo=LogisticRegression(random_state=20), Preprocessing__bow__ngram_range=(1, 2), Selection__percentile=95\n"
          ]
        },
        {
          "output_type": "stream",
          "name": "stderr",
          "text": [
            "/usr/local/lib/python3.7/dist-packages/sklearn/linear_model/_logistic.py:818: ConvergenceWarning: lbfgs failed to converge (status=1):\n",
            "STOP: TOTAL NO. of ITERATIONS REACHED LIMIT.\n",
            "\n",
            "Increase the number of iterations (max_iter) or scale the data as shown in:\n",
            "    https://scikit-learn.org/stable/modules/preprocessing.html\n",
            "Please also refer to the documentation for alternative solver options:\n",
            "    https://scikit-learn.org/stable/modules/linear_model.html#logistic-regression\n",
            "  extra_warning_msg=_LOGISTIC_SOLVER_CONVERGENCE_MSG,\n"
          ]
        },
        {
          "output_type": "stream",
          "name": "stdout",
          "text": [
            "[CV 3/5; 37/40] END Modelo=LogisticRegression(random_state=20), Preprocessing__bow__ngram_range=(1, 2), Selection__percentile=95;, score=(train=1.000, test=0.389) total time=   6.2s\n",
            "[CV 4/5; 37/40] START Modelo=LogisticRegression(random_state=20), Preprocessing__bow__ngram_range=(1, 2), Selection__percentile=95\n",
            "[CV 4/5; 37/40] END Modelo=LogisticRegression(random_state=20), Preprocessing__bow__ngram_range=(1, 2), Selection__percentile=95;, score=(train=1.000, test=0.611) total time=   6.3s\n",
            "[CV 5/5; 37/40] START Modelo=LogisticRegression(random_state=20), Preprocessing__bow__ngram_range=(1, 2), Selection__percentile=95\n"
          ]
        },
        {
          "output_type": "stream",
          "name": "stderr",
          "text": [
            "/usr/local/lib/python3.7/dist-packages/sklearn/linear_model/_logistic.py:818: ConvergenceWarning: lbfgs failed to converge (status=1):\n",
            "STOP: TOTAL NO. of ITERATIONS REACHED LIMIT.\n",
            "\n",
            "Increase the number of iterations (max_iter) or scale the data as shown in:\n",
            "    https://scikit-learn.org/stable/modules/preprocessing.html\n",
            "Please also refer to the documentation for alternative solver options:\n",
            "    https://scikit-learn.org/stable/modules/linear_model.html#logistic-regression\n",
            "  extra_warning_msg=_LOGISTIC_SOLVER_CONVERGENCE_MSG,\n"
          ]
        },
        {
          "output_type": "stream",
          "name": "stdout",
          "text": [
            "[CV 5/5; 37/40] END Modelo=LogisticRegression(random_state=20), Preprocessing__bow__ngram_range=(1, 2), Selection__percentile=95;, score=(train=1.000, test=0.611) total time=   5.6s\n",
            "[CV 1/5; 38/40] START Modelo=LogisticRegression(random_state=20), Preprocessing__bow__ngram_range=(1, 2), Selection__percentile=100\n"
          ]
        },
        {
          "output_type": "stream",
          "name": "stderr",
          "text": [
            "/usr/local/lib/python3.7/dist-packages/sklearn/linear_model/_logistic.py:818: ConvergenceWarning: lbfgs failed to converge (status=1):\n",
            "STOP: TOTAL NO. of ITERATIONS REACHED LIMIT.\n",
            "\n",
            "Increase the number of iterations (max_iter) or scale the data as shown in:\n",
            "    https://scikit-learn.org/stable/modules/preprocessing.html\n",
            "Please also refer to the documentation for alternative solver options:\n",
            "    https://scikit-learn.org/stable/modules/linear_model.html#logistic-regression\n",
            "  extra_warning_msg=_LOGISTIC_SOLVER_CONVERGENCE_MSG,\n"
          ]
        },
        {
          "output_type": "stream",
          "name": "stdout",
          "text": [
            "[CV 1/5; 38/40] END Modelo=LogisticRegression(random_state=20), Preprocessing__bow__ngram_range=(1, 2), Selection__percentile=100;, score=(train=1.000, test=0.444) total time=   6.2s\n",
            "[CV 2/5; 38/40] START Modelo=LogisticRegression(random_state=20), Preprocessing__bow__ngram_range=(1, 2), Selection__percentile=100\n"
          ]
        },
        {
          "output_type": "stream",
          "name": "stderr",
          "text": [
            "/usr/local/lib/python3.7/dist-packages/sklearn/linear_model/_logistic.py:818: ConvergenceWarning: lbfgs failed to converge (status=1):\n",
            "STOP: TOTAL NO. of ITERATIONS REACHED LIMIT.\n",
            "\n",
            "Increase the number of iterations (max_iter) or scale the data as shown in:\n",
            "    https://scikit-learn.org/stable/modules/preprocessing.html\n",
            "Please also refer to the documentation for alternative solver options:\n",
            "    https://scikit-learn.org/stable/modules/linear_model.html#logistic-regression\n",
            "  extra_warning_msg=_LOGISTIC_SOLVER_CONVERGENCE_MSG,\n"
          ]
        },
        {
          "output_type": "stream",
          "name": "stdout",
          "text": [
            "[CV 2/5; 38/40] END Modelo=LogisticRegression(random_state=20), Preprocessing__bow__ngram_range=(1, 2), Selection__percentile=100;, score=(train=1.000, test=0.444) total time=   7.0s\n",
            "[CV 3/5; 38/40] START Modelo=LogisticRegression(random_state=20), Preprocessing__bow__ngram_range=(1, 2), Selection__percentile=100\n"
          ]
        },
        {
          "output_type": "stream",
          "name": "stderr",
          "text": [
            "/usr/local/lib/python3.7/dist-packages/sklearn/linear_model/_logistic.py:818: ConvergenceWarning: lbfgs failed to converge (status=1):\n",
            "STOP: TOTAL NO. of ITERATIONS REACHED LIMIT.\n",
            "\n",
            "Increase the number of iterations (max_iter) or scale the data as shown in:\n",
            "    https://scikit-learn.org/stable/modules/preprocessing.html\n",
            "Please also refer to the documentation for alternative solver options:\n",
            "    https://scikit-learn.org/stable/modules/linear_model.html#logistic-regression\n",
            "  extra_warning_msg=_LOGISTIC_SOLVER_CONVERGENCE_MSG,\n"
          ]
        },
        {
          "output_type": "stream",
          "name": "stdout",
          "text": [
            "[CV 3/5; 38/40] END Modelo=LogisticRegression(random_state=20), Preprocessing__bow__ngram_range=(1, 2), Selection__percentile=100;, score=(train=1.000, test=0.444) total time=   6.4s\n",
            "[CV 4/5; 38/40] START Modelo=LogisticRegression(random_state=20), Preprocessing__bow__ngram_range=(1, 2), Selection__percentile=100\n"
          ]
        },
        {
          "output_type": "stream",
          "name": "stderr",
          "text": [
            "/usr/local/lib/python3.7/dist-packages/sklearn/linear_model/_logistic.py:818: ConvergenceWarning: lbfgs failed to converge (status=1):\n",
            "STOP: TOTAL NO. of ITERATIONS REACHED LIMIT.\n",
            "\n",
            "Increase the number of iterations (max_iter) or scale the data as shown in:\n",
            "    https://scikit-learn.org/stable/modules/preprocessing.html\n",
            "Please also refer to the documentation for alternative solver options:\n",
            "    https://scikit-learn.org/stable/modules/linear_model.html#logistic-regression\n",
            "  extra_warning_msg=_LOGISTIC_SOLVER_CONVERGENCE_MSG,\n"
          ]
        },
        {
          "output_type": "stream",
          "name": "stdout",
          "text": [
            "[CV 4/5; 38/40] END Modelo=LogisticRegression(random_state=20), Preprocessing__bow__ngram_range=(1, 2), Selection__percentile=100;, score=(train=1.000, test=0.444) total time=   6.7s\n",
            "[CV 5/5; 38/40] START Modelo=LogisticRegression(random_state=20), Preprocessing__bow__ngram_range=(1, 2), Selection__percentile=100\n"
          ]
        },
        {
          "output_type": "stream",
          "name": "stderr",
          "text": [
            "/usr/local/lib/python3.7/dist-packages/sklearn/linear_model/_logistic.py:818: ConvergenceWarning: lbfgs failed to converge (status=1):\n",
            "STOP: TOTAL NO. of ITERATIONS REACHED LIMIT.\n",
            "\n",
            "Increase the number of iterations (max_iter) or scale the data as shown in:\n",
            "    https://scikit-learn.org/stable/modules/preprocessing.html\n",
            "Please also refer to the documentation for alternative solver options:\n",
            "    https://scikit-learn.org/stable/modules/linear_model.html#logistic-regression\n",
            "  extra_warning_msg=_LOGISTIC_SOLVER_CONVERGENCE_MSG,\n"
          ]
        },
        {
          "output_type": "stream",
          "name": "stdout",
          "text": [
            "[CV 5/5; 38/40] END Modelo=LogisticRegression(random_state=20), Preprocessing__bow__ngram_range=(1, 2), Selection__percentile=100;, score=(train=1.000, test=0.611) total time=   6.0s\n",
            "[CV 1/5; 39/40] START Modelo=LogisticRegression(random_state=20), Preprocessing__bow__ngram_range=(1, 3), Selection__percentile=100\n"
          ]
        },
        {
          "output_type": "stream",
          "name": "stderr",
          "text": [
            "/usr/local/lib/python3.7/dist-packages/sklearn/linear_model/_logistic.py:818: ConvergenceWarning: lbfgs failed to converge (status=1):\n",
            "STOP: TOTAL NO. of ITERATIONS REACHED LIMIT.\n",
            "\n",
            "Increase the number of iterations (max_iter) or scale the data as shown in:\n",
            "    https://scikit-learn.org/stable/modules/preprocessing.html\n",
            "Please also refer to the documentation for alternative solver options:\n",
            "    https://scikit-learn.org/stable/modules/linear_model.html#logistic-regression\n",
            "  extra_warning_msg=_LOGISTIC_SOLVER_CONVERGENCE_MSG,\n"
          ]
        },
        {
          "output_type": "stream",
          "name": "stdout",
          "text": [
            "[CV 1/5; 39/40] END Modelo=LogisticRegression(random_state=20), Preprocessing__bow__ngram_range=(1, 3), Selection__percentile=100;, score=(train=1.000, test=0.389) total time=  10.2s\n",
            "[CV 2/5; 39/40] START Modelo=LogisticRegression(random_state=20), Preprocessing__bow__ngram_range=(1, 3), Selection__percentile=100\n"
          ]
        },
        {
          "output_type": "stream",
          "name": "stderr",
          "text": [
            "/usr/local/lib/python3.7/dist-packages/sklearn/linear_model/_logistic.py:818: ConvergenceWarning: lbfgs failed to converge (status=1):\n",
            "STOP: TOTAL NO. of ITERATIONS REACHED LIMIT.\n",
            "\n",
            "Increase the number of iterations (max_iter) or scale the data as shown in:\n",
            "    https://scikit-learn.org/stable/modules/preprocessing.html\n",
            "Please also refer to the documentation for alternative solver options:\n",
            "    https://scikit-learn.org/stable/modules/linear_model.html#logistic-regression\n",
            "  extra_warning_msg=_LOGISTIC_SOLVER_CONVERGENCE_MSG,\n"
          ]
        },
        {
          "output_type": "stream",
          "name": "stdout",
          "text": [
            "[CV 2/5; 39/40] END Modelo=LogisticRegression(random_state=20), Preprocessing__bow__ngram_range=(1, 3), Selection__percentile=100;, score=(train=1.000, test=0.444) total time=  12.1s\n",
            "[CV 3/5; 39/40] START Modelo=LogisticRegression(random_state=20), Preprocessing__bow__ngram_range=(1, 3), Selection__percentile=100\n"
          ]
        },
        {
          "output_type": "stream",
          "name": "stderr",
          "text": [
            "/usr/local/lib/python3.7/dist-packages/sklearn/linear_model/_logistic.py:818: ConvergenceWarning: lbfgs failed to converge (status=1):\n",
            "STOP: TOTAL NO. of ITERATIONS REACHED LIMIT.\n",
            "\n",
            "Increase the number of iterations (max_iter) or scale the data as shown in:\n",
            "    https://scikit-learn.org/stable/modules/preprocessing.html\n",
            "Please also refer to the documentation for alternative solver options:\n",
            "    https://scikit-learn.org/stable/modules/linear_model.html#logistic-regression\n",
            "  extra_warning_msg=_LOGISTIC_SOLVER_CONVERGENCE_MSG,\n"
          ]
        },
        {
          "output_type": "stream",
          "name": "stdout",
          "text": [
            "[CV 3/5; 39/40] END Modelo=LogisticRegression(random_state=20), Preprocessing__bow__ngram_range=(1, 3), Selection__percentile=100;, score=(train=1.000, test=0.444) total time=  10.6s\n",
            "[CV 4/5; 39/40] START Modelo=LogisticRegression(random_state=20), Preprocessing__bow__ngram_range=(1, 3), Selection__percentile=100\n"
          ]
        },
        {
          "output_type": "stream",
          "name": "stderr",
          "text": [
            "/usr/local/lib/python3.7/dist-packages/sklearn/linear_model/_logistic.py:818: ConvergenceWarning: lbfgs failed to converge (status=1):\n",
            "STOP: TOTAL NO. of ITERATIONS REACHED LIMIT.\n",
            "\n",
            "Increase the number of iterations (max_iter) or scale the data as shown in:\n",
            "    https://scikit-learn.org/stable/modules/preprocessing.html\n",
            "Please also refer to the documentation for alternative solver options:\n",
            "    https://scikit-learn.org/stable/modules/linear_model.html#logistic-regression\n",
            "  extra_warning_msg=_LOGISTIC_SOLVER_CONVERGENCE_MSG,\n"
          ]
        },
        {
          "output_type": "stream",
          "name": "stdout",
          "text": [
            "[CV 4/5; 39/40] END Modelo=LogisticRegression(random_state=20), Preprocessing__bow__ngram_range=(1, 3), Selection__percentile=100;, score=(train=1.000, test=0.444) total time=  12.0s\n",
            "[CV 5/5; 39/40] START Modelo=LogisticRegression(random_state=20), Preprocessing__bow__ngram_range=(1, 3), Selection__percentile=100\n"
          ]
        },
        {
          "output_type": "stream",
          "name": "stderr",
          "text": [
            "/usr/local/lib/python3.7/dist-packages/sklearn/linear_model/_logistic.py:818: ConvergenceWarning: lbfgs failed to converge (status=1):\n",
            "STOP: TOTAL NO. of ITERATIONS REACHED LIMIT.\n",
            "\n",
            "Increase the number of iterations (max_iter) or scale the data as shown in:\n",
            "    https://scikit-learn.org/stable/modules/preprocessing.html\n",
            "Please also refer to the documentation for alternative solver options:\n",
            "    https://scikit-learn.org/stable/modules/linear_model.html#logistic-regression\n",
            "  extra_warning_msg=_LOGISTIC_SOLVER_CONVERGENCE_MSG,\n"
          ]
        },
        {
          "output_type": "stream",
          "name": "stdout",
          "text": [
            "[CV 5/5; 39/40] END Modelo=LogisticRegression(random_state=20), Preprocessing__bow__ngram_range=(1, 3), Selection__percentile=100;, score=(train=1.000, test=0.611) total time=  10.0s\n",
            "[CV 1/5; 40/40] START Modelo=LogisticRegression(random_state=20), Preprocessing__bow__ngram_range=(1, 1), Selection__percentile=95\n"
          ]
        },
        {
          "output_type": "stream",
          "name": "stderr",
          "text": [
            "/usr/local/lib/python3.7/dist-packages/sklearn/linear_model/_logistic.py:818: ConvergenceWarning: lbfgs failed to converge (status=1):\n",
            "STOP: TOTAL NO. of ITERATIONS REACHED LIMIT.\n",
            "\n",
            "Increase the number of iterations (max_iter) or scale the data as shown in:\n",
            "    https://scikit-learn.org/stable/modules/preprocessing.html\n",
            "Please also refer to the documentation for alternative solver options:\n",
            "    https://scikit-learn.org/stable/modules/linear_model.html#logistic-regression\n",
            "  extra_warning_msg=_LOGISTIC_SOLVER_CONVERGENCE_MSG,\n"
          ]
        },
        {
          "output_type": "stream",
          "name": "stdout",
          "text": [
            "[CV 1/5; 40/40] END Modelo=LogisticRegression(random_state=20), Preprocessing__bow__ngram_range=(1, 1), Selection__percentile=95;, score=(train=1.000, test=0.500) total time=   3.4s\n",
            "[CV 2/5; 40/40] START Modelo=LogisticRegression(random_state=20), Preprocessing__bow__ngram_range=(1, 1), Selection__percentile=95\n"
          ]
        },
        {
          "output_type": "stream",
          "name": "stderr",
          "text": [
            "/usr/local/lib/python3.7/dist-packages/sklearn/linear_model/_logistic.py:818: ConvergenceWarning: lbfgs failed to converge (status=1):\n",
            "STOP: TOTAL NO. of ITERATIONS REACHED LIMIT.\n",
            "\n",
            "Increase the number of iterations (max_iter) or scale the data as shown in:\n",
            "    https://scikit-learn.org/stable/modules/preprocessing.html\n",
            "Please also refer to the documentation for alternative solver options:\n",
            "    https://scikit-learn.org/stable/modules/linear_model.html#logistic-regression\n",
            "  extra_warning_msg=_LOGISTIC_SOLVER_CONVERGENCE_MSG,\n"
          ]
        },
        {
          "output_type": "stream",
          "name": "stdout",
          "text": [
            "[CV 2/5; 40/40] END Modelo=LogisticRegression(random_state=20), Preprocessing__bow__ngram_range=(1, 1), Selection__percentile=95;, score=(train=1.000, test=0.444) total time=   3.5s\n",
            "[CV 3/5; 40/40] START Modelo=LogisticRegression(random_state=20), Preprocessing__bow__ngram_range=(1, 1), Selection__percentile=95\n"
          ]
        },
        {
          "output_type": "stream",
          "name": "stderr",
          "text": [
            "/usr/local/lib/python3.7/dist-packages/sklearn/linear_model/_logistic.py:818: ConvergenceWarning: lbfgs failed to converge (status=1):\n",
            "STOP: TOTAL NO. of ITERATIONS REACHED LIMIT.\n",
            "\n",
            "Increase the number of iterations (max_iter) or scale the data as shown in:\n",
            "    https://scikit-learn.org/stable/modules/preprocessing.html\n",
            "Please also refer to the documentation for alternative solver options:\n",
            "    https://scikit-learn.org/stable/modules/linear_model.html#logistic-regression\n",
            "  extra_warning_msg=_LOGISTIC_SOLVER_CONVERGENCE_MSG,\n"
          ]
        },
        {
          "output_type": "stream",
          "name": "stdout",
          "text": [
            "[CV 3/5; 40/40] END Modelo=LogisticRegression(random_state=20), Preprocessing__bow__ngram_range=(1, 1), Selection__percentile=95;, score=(train=1.000, test=0.389) total time=   3.5s\n",
            "[CV 4/5; 40/40] START Modelo=LogisticRegression(random_state=20), Preprocessing__bow__ngram_range=(1, 1), Selection__percentile=95\n"
          ]
        },
        {
          "output_type": "stream",
          "name": "stderr",
          "text": [
            "/usr/local/lib/python3.7/dist-packages/sklearn/linear_model/_logistic.py:818: ConvergenceWarning: lbfgs failed to converge (status=1):\n",
            "STOP: TOTAL NO. of ITERATIONS REACHED LIMIT.\n",
            "\n",
            "Increase the number of iterations (max_iter) or scale the data as shown in:\n",
            "    https://scikit-learn.org/stable/modules/preprocessing.html\n",
            "Please also refer to the documentation for alternative solver options:\n",
            "    https://scikit-learn.org/stable/modules/linear_model.html#logistic-regression\n",
            "  extra_warning_msg=_LOGISTIC_SOLVER_CONVERGENCE_MSG,\n"
          ]
        },
        {
          "output_type": "stream",
          "name": "stdout",
          "text": [
            "[CV 4/5; 40/40] END Modelo=LogisticRegression(random_state=20), Preprocessing__bow__ngram_range=(1, 1), Selection__percentile=95;, score=(train=1.000, test=0.444) total time=   3.4s\n",
            "[CV 5/5; 40/40] START Modelo=LogisticRegression(random_state=20), Preprocessing__bow__ngram_range=(1, 1), Selection__percentile=95\n"
          ]
        },
        {
          "output_type": "stream",
          "name": "stderr",
          "text": [
            "/usr/local/lib/python3.7/dist-packages/sklearn/linear_model/_logistic.py:818: ConvergenceWarning: lbfgs failed to converge (status=1):\n",
            "STOP: TOTAL NO. of ITERATIONS REACHED LIMIT.\n",
            "\n",
            "Increase the number of iterations (max_iter) or scale the data as shown in:\n",
            "    https://scikit-learn.org/stable/modules/preprocessing.html\n",
            "Please also refer to the documentation for alternative solver options:\n",
            "    https://scikit-learn.org/stable/modules/linear_model.html#logistic-regression\n",
            "  extra_warning_msg=_LOGISTIC_SOLVER_CONVERGENCE_MSG,\n"
          ]
        },
        {
          "output_type": "stream",
          "name": "stdout",
          "text": [
            "[CV 5/5; 40/40] END Modelo=LogisticRegression(random_state=20), Preprocessing__bow__ngram_range=(1, 1), Selection__percentile=95;, score=(train=1.000, test=0.611) total time=   3.0s\n",
            "----------\n",
            "iter: 2\n",
            "n_candidates: 14\n",
            "n_resources: 270\n",
            "Fitting 5 folds for each of 14 candidates, totalling 70 fits\n",
            "[CV 1/5; 1/14] START Modelo=RandomForestClassifier(random_state=20), Preprocessing__bow__ngram_range=(1, 1), Selection__percentile=5\n",
            "[CV 1/5; 1/14] END Modelo=RandomForestClassifier(random_state=20), Preprocessing__bow__ngram_range=(1, 1), Selection__percentile=5;, score=(train=0.912, test=0.537) total time=   8.0s\n",
            "[CV 2/5; 1/14] START Modelo=RandomForestClassifier(random_state=20), Preprocessing__bow__ngram_range=(1, 1), Selection__percentile=5\n",
            "[CV 2/5; 1/14] END Modelo=RandomForestClassifier(random_state=20), Preprocessing__bow__ngram_range=(1, 1), Selection__percentile=5;, score=(train=0.991, test=0.611) total time=   7.8s\n",
            "[CV 3/5; 1/14] START Modelo=RandomForestClassifier(random_state=20), Preprocessing__bow__ngram_range=(1, 1), Selection__percentile=5\n",
            "[CV 3/5; 1/14] END Modelo=RandomForestClassifier(random_state=20), Preprocessing__bow__ngram_range=(1, 1), Selection__percentile=5;, score=(train=1.000, test=0.574) total time=   6.7s\n",
            "[CV 4/5; 1/14] START Modelo=RandomForestClassifier(random_state=20), Preprocessing__bow__ngram_range=(1, 1), Selection__percentile=5\n",
            "[CV 4/5; 1/14] END Modelo=RandomForestClassifier(random_state=20), Preprocessing__bow__ngram_range=(1, 1), Selection__percentile=5;, score=(train=0.986, test=0.611) total time=   7.1s\n",
            "[CV 5/5; 1/14] START Modelo=RandomForestClassifier(random_state=20), Preprocessing__bow__ngram_range=(1, 1), Selection__percentile=5\n",
            "[CV 5/5; 1/14] END Modelo=RandomForestClassifier(random_state=20), Preprocessing__bow__ngram_range=(1, 1), Selection__percentile=5;, score=(train=1.000, test=0.537) total time=   7.3s\n",
            "[CV 1/5; 2/14] START Modelo=LogisticRegression(random_state=20), Preprocessing__bow__ngram_range=(1, 1), Selection__percentile=15\n"
          ]
        },
        {
          "output_type": "stream",
          "name": "stderr",
          "text": [
            "/usr/local/lib/python3.7/dist-packages/sklearn/linear_model/_logistic.py:818: ConvergenceWarning: lbfgs failed to converge (status=1):\n",
            "STOP: TOTAL NO. of ITERATIONS REACHED LIMIT.\n",
            "\n",
            "Increase the number of iterations (max_iter) or scale the data as shown in:\n",
            "    https://scikit-learn.org/stable/modules/preprocessing.html\n",
            "Please also refer to the documentation for alternative solver options:\n",
            "    https://scikit-learn.org/stable/modules/linear_model.html#logistic-regression\n",
            "  extra_warning_msg=_LOGISTIC_SOLVER_CONVERGENCE_MSG,\n"
          ]
        },
        {
          "output_type": "stream",
          "name": "stdout",
          "text": [
            "[CV 1/5; 2/14] END Modelo=LogisticRegression(random_state=20), Preprocessing__bow__ngram_range=(1, 1), Selection__percentile=15;, score=(train=0.995, test=0.481) total time=   8.1s\n",
            "[CV 2/5; 2/14] START Modelo=LogisticRegression(random_state=20), Preprocessing__bow__ngram_range=(1, 1), Selection__percentile=15\n"
          ]
        },
        {
          "output_type": "stream",
          "name": "stderr",
          "text": [
            "/usr/local/lib/python3.7/dist-packages/sklearn/linear_model/_logistic.py:818: ConvergenceWarning: lbfgs failed to converge (status=1):\n",
            "STOP: TOTAL NO. of ITERATIONS REACHED LIMIT.\n",
            "\n",
            "Increase the number of iterations (max_iter) or scale the data as shown in:\n",
            "    https://scikit-learn.org/stable/modules/preprocessing.html\n",
            "Please also refer to the documentation for alternative solver options:\n",
            "    https://scikit-learn.org/stable/modules/linear_model.html#logistic-regression\n",
            "  extra_warning_msg=_LOGISTIC_SOLVER_CONVERGENCE_MSG,\n"
          ]
        },
        {
          "output_type": "stream",
          "name": "stdout",
          "text": [
            "[CV 2/5; 2/14] END Modelo=LogisticRegression(random_state=20), Preprocessing__bow__ngram_range=(1, 1), Selection__percentile=15;, score=(train=1.000, test=0.648) total time=   7.9s\n",
            "[CV 3/5; 2/14] START Modelo=LogisticRegression(random_state=20), Preprocessing__bow__ngram_range=(1, 1), Selection__percentile=15\n"
          ]
        },
        {
          "output_type": "stream",
          "name": "stderr",
          "text": [
            "/usr/local/lib/python3.7/dist-packages/sklearn/linear_model/_logistic.py:818: ConvergenceWarning: lbfgs failed to converge (status=1):\n",
            "STOP: TOTAL NO. of ITERATIONS REACHED LIMIT.\n",
            "\n",
            "Increase the number of iterations (max_iter) or scale the data as shown in:\n",
            "    https://scikit-learn.org/stable/modules/preprocessing.html\n",
            "Please also refer to the documentation for alternative solver options:\n",
            "    https://scikit-learn.org/stable/modules/linear_model.html#logistic-regression\n",
            "  extra_warning_msg=_LOGISTIC_SOLVER_CONVERGENCE_MSG,\n"
          ]
        },
        {
          "output_type": "stream",
          "name": "stdout",
          "text": [
            "[CV 3/5; 2/14] END Modelo=LogisticRegression(random_state=20), Preprocessing__bow__ngram_range=(1, 1), Selection__percentile=15;, score=(train=1.000, test=0.537) total time=   6.8s\n",
            "[CV 4/5; 2/14] START Modelo=LogisticRegression(random_state=20), Preprocessing__bow__ngram_range=(1, 1), Selection__percentile=15\n",
            "[CV 4/5; 2/14] END Modelo=LogisticRegression(random_state=20), Preprocessing__bow__ngram_range=(1, 1), Selection__percentile=15;, score=(train=0.986, test=0.574) total time=   7.1s\n",
            "[CV 5/5; 2/14] START Modelo=LogisticRegression(random_state=20), Preprocessing__bow__ngram_range=(1, 1), Selection__percentile=15\n"
          ]
        },
        {
          "output_type": "stream",
          "name": "stderr",
          "text": [
            "/usr/local/lib/python3.7/dist-packages/sklearn/linear_model/_logistic.py:818: ConvergenceWarning: lbfgs failed to converge (status=1):\n",
            "STOP: TOTAL NO. of ITERATIONS REACHED LIMIT.\n",
            "\n",
            "Increase the number of iterations (max_iter) or scale the data as shown in:\n",
            "    https://scikit-learn.org/stable/modules/preprocessing.html\n",
            "Please also refer to the documentation for alternative solver options:\n",
            "    https://scikit-learn.org/stable/modules/linear_model.html#logistic-regression\n",
            "  extra_warning_msg=_LOGISTIC_SOLVER_CONVERGENCE_MSG,\n"
          ]
        },
        {
          "output_type": "stream",
          "name": "stdout",
          "text": [
            "[CV 5/5; 2/14] END Modelo=LogisticRegression(random_state=20), Preprocessing__bow__ngram_range=(1, 1), Selection__percentile=15;, score=(train=1.000, test=0.537) total time=   7.3s\n",
            "[CV 1/5; 3/14] START Modelo=LogisticRegression(random_state=20), Preprocessing__bow__ngram_range=(1, 2), Selection__percentile=75\n"
          ]
        },
        {
          "output_type": "stream",
          "name": "stderr",
          "text": [
            "/usr/local/lib/python3.7/dist-packages/sklearn/linear_model/_logistic.py:818: ConvergenceWarning: lbfgs failed to converge (status=1):\n",
            "STOP: TOTAL NO. of ITERATIONS REACHED LIMIT.\n",
            "\n",
            "Increase the number of iterations (max_iter) or scale the data as shown in:\n",
            "    https://scikit-learn.org/stable/modules/preprocessing.html\n",
            "Please also refer to the documentation for alternative solver options:\n",
            "    https://scikit-learn.org/stable/modules/linear_model.html#logistic-regression\n",
            "  extra_warning_msg=_LOGISTIC_SOLVER_CONVERGENCE_MSG,\n"
          ]
        },
        {
          "output_type": "stream",
          "name": "stdout",
          "text": [
            "[CV 1/5; 3/14] END Modelo=LogisticRegression(random_state=20), Preprocessing__bow__ngram_range=(1, 2), Selection__percentile=75;, score=(train=1.000, test=0.519) total time=  13.9s\n",
            "[CV 2/5; 3/14] START Modelo=LogisticRegression(random_state=20), Preprocessing__bow__ngram_range=(1, 2), Selection__percentile=75\n"
          ]
        },
        {
          "output_type": "stream",
          "name": "stderr",
          "text": [
            "/usr/local/lib/python3.7/dist-packages/sklearn/linear_model/_logistic.py:818: ConvergenceWarning: lbfgs failed to converge (status=1):\n",
            "STOP: TOTAL NO. of ITERATIONS REACHED LIMIT.\n",
            "\n",
            "Increase the number of iterations (max_iter) or scale the data as shown in:\n",
            "    https://scikit-learn.org/stable/modules/preprocessing.html\n",
            "Please also refer to the documentation for alternative solver options:\n",
            "    https://scikit-learn.org/stable/modules/linear_model.html#logistic-regression\n",
            "  extra_warning_msg=_LOGISTIC_SOLVER_CONVERGENCE_MSG,\n"
          ]
        },
        {
          "output_type": "stream",
          "name": "stdout",
          "text": [
            "[CV 2/5; 3/14] END Modelo=LogisticRegression(random_state=20), Preprocessing__bow__ngram_range=(1, 2), Selection__percentile=75;, score=(train=1.000, test=0.685) total time=  13.9s\n",
            "[CV 3/5; 3/14] START Modelo=LogisticRegression(random_state=20), Preprocessing__bow__ngram_range=(1, 2), Selection__percentile=75\n"
          ]
        },
        {
          "output_type": "stream",
          "name": "stderr",
          "text": [
            "/usr/local/lib/python3.7/dist-packages/sklearn/linear_model/_logistic.py:818: ConvergenceWarning: lbfgs failed to converge (status=1):\n",
            "STOP: TOTAL NO. of ITERATIONS REACHED LIMIT.\n",
            "\n",
            "Increase the number of iterations (max_iter) or scale the data as shown in:\n",
            "    https://scikit-learn.org/stable/modules/preprocessing.html\n",
            "Please also refer to the documentation for alternative solver options:\n",
            "    https://scikit-learn.org/stable/modules/linear_model.html#logistic-regression\n",
            "  extra_warning_msg=_LOGISTIC_SOLVER_CONVERGENCE_MSG,\n"
          ]
        },
        {
          "output_type": "stream",
          "name": "stdout",
          "text": [
            "[CV 3/5; 3/14] END Modelo=LogisticRegression(random_state=20), Preprocessing__bow__ngram_range=(1, 2), Selection__percentile=75;, score=(train=1.000, test=0.519) total time=  12.7s\n",
            "[CV 4/5; 3/14] START Modelo=LogisticRegression(random_state=20), Preprocessing__bow__ngram_range=(1, 2), Selection__percentile=75\n"
          ]
        },
        {
          "output_type": "stream",
          "name": "stderr",
          "text": [
            "/usr/local/lib/python3.7/dist-packages/sklearn/linear_model/_logistic.py:818: ConvergenceWarning: lbfgs failed to converge (status=1):\n",
            "STOP: TOTAL NO. of ITERATIONS REACHED LIMIT.\n",
            "\n",
            "Increase the number of iterations (max_iter) or scale the data as shown in:\n",
            "    https://scikit-learn.org/stable/modules/preprocessing.html\n",
            "Please also refer to the documentation for alternative solver options:\n",
            "    https://scikit-learn.org/stable/modules/linear_model.html#logistic-regression\n",
            "  extra_warning_msg=_LOGISTIC_SOLVER_CONVERGENCE_MSG,\n"
          ]
        },
        {
          "output_type": "stream",
          "name": "stdout",
          "text": [
            "[CV 4/5; 3/14] END Modelo=LogisticRegression(random_state=20), Preprocessing__bow__ngram_range=(1, 2), Selection__percentile=75;, score=(train=1.000, test=0.667) total time=  14.1s\n",
            "[CV 5/5; 3/14] START Modelo=LogisticRegression(random_state=20), Preprocessing__bow__ngram_range=(1, 2), Selection__percentile=75\n"
          ]
        },
        {
          "output_type": "stream",
          "name": "stderr",
          "text": [
            "/usr/local/lib/python3.7/dist-packages/sklearn/linear_model/_logistic.py:818: ConvergenceWarning: lbfgs failed to converge (status=1):\n",
            "STOP: TOTAL NO. of ITERATIONS REACHED LIMIT.\n",
            "\n",
            "Increase the number of iterations (max_iter) or scale the data as shown in:\n",
            "    https://scikit-learn.org/stable/modules/preprocessing.html\n",
            "Please also refer to the documentation for alternative solver options:\n",
            "    https://scikit-learn.org/stable/modules/linear_model.html#logistic-regression\n",
            "  extra_warning_msg=_LOGISTIC_SOLVER_CONVERGENCE_MSG,\n"
          ]
        },
        {
          "output_type": "stream",
          "name": "stdout",
          "text": [
            "[CV 5/5; 3/14] END Modelo=LogisticRegression(random_state=20), Preprocessing__bow__ngram_range=(1, 2), Selection__percentile=75;, score=(train=1.000, test=0.574) total time=  13.9s\n",
            "[CV 1/5; 4/14] START Modelo=LogisticRegression(random_state=20), Preprocessing__bow__ngram_range=(1, 2), Selection__percentile=90\n"
          ]
        },
        {
          "output_type": "stream",
          "name": "stderr",
          "text": [
            "/usr/local/lib/python3.7/dist-packages/sklearn/linear_model/_logistic.py:818: ConvergenceWarning: lbfgs failed to converge (status=1):\n",
            "STOP: TOTAL NO. of ITERATIONS REACHED LIMIT.\n",
            "\n",
            "Increase the number of iterations (max_iter) or scale the data as shown in:\n",
            "    https://scikit-learn.org/stable/modules/preprocessing.html\n",
            "Please also refer to the documentation for alternative solver options:\n",
            "    https://scikit-learn.org/stable/modules/linear_model.html#logistic-regression\n",
            "  extra_warning_msg=_LOGISTIC_SOLVER_CONVERGENCE_MSG,\n"
          ]
        },
        {
          "output_type": "stream",
          "name": "stdout",
          "text": [
            "[CV 1/5; 4/14] END Modelo=LogisticRegression(random_state=20), Preprocessing__bow__ngram_range=(1, 2), Selection__percentile=90;, score=(train=1.000, test=0.481) total time=  15.0s\n",
            "[CV 2/5; 4/14] START Modelo=LogisticRegression(random_state=20), Preprocessing__bow__ngram_range=(1, 2), Selection__percentile=90\n"
          ]
        },
        {
          "output_type": "stream",
          "name": "stderr",
          "text": [
            "/usr/local/lib/python3.7/dist-packages/sklearn/linear_model/_logistic.py:818: ConvergenceWarning: lbfgs failed to converge (status=1):\n",
            "STOP: TOTAL NO. of ITERATIONS REACHED LIMIT.\n",
            "\n",
            "Increase the number of iterations (max_iter) or scale the data as shown in:\n",
            "    https://scikit-learn.org/stable/modules/preprocessing.html\n",
            "Please also refer to the documentation for alternative solver options:\n",
            "    https://scikit-learn.org/stable/modules/linear_model.html#logistic-regression\n",
            "  extra_warning_msg=_LOGISTIC_SOLVER_CONVERGENCE_MSG,\n"
          ]
        },
        {
          "output_type": "stream",
          "name": "stdout",
          "text": [
            "[CV 2/5; 4/14] END Modelo=LogisticRegression(random_state=20), Preprocessing__bow__ngram_range=(1, 2), Selection__percentile=90;, score=(train=1.000, test=0.685) total time=  15.0s\n",
            "[CV 3/5; 4/14] START Modelo=LogisticRegression(random_state=20), Preprocessing__bow__ngram_range=(1, 2), Selection__percentile=90\n"
          ]
        },
        {
          "output_type": "stream",
          "name": "stderr",
          "text": [
            "/usr/local/lib/python3.7/dist-packages/sklearn/linear_model/_logistic.py:818: ConvergenceWarning: lbfgs failed to converge (status=1):\n",
            "STOP: TOTAL NO. of ITERATIONS REACHED LIMIT.\n",
            "\n",
            "Increase the number of iterations (max_iter) or scale the data as shown in:\n",
            "    https://scikit-learn.org/stable/modules/preprocessing.html\n",
            "Please also refer to the documentation for alternative solver options:\n",
            "    https://scikit-learn.org/stable/modules/linear_model.html#logistic-regression\n",
            "  extra_warning_msg=_LOGISTIC_SOLVER_CONVERGENCE_MSG,\n"
          ]
        },
        {
          "output_type": "stream",
          "name": "stdout",
          "text": [
            "[CV 3/5; 4/14] END Modelo=LogisticRegression(random_state=20), Preprocessing__bow__ngram_range=(1, 2), Selection__percentile=90;, score=(train=1.000, test=0.537) total time=  13.3s\n",
            "[CV 4/5; 4/14] START Modelo=LogisticRegression(random_state=20), Preprocessing__bow__ngram_range=(1, 2), Selection__percentile=90\n"
          ]
        },
        {
          "output_type": "stream",
          "name": "stderr",
          "text": [
            "/usr/local/lib/python3.7/dist-packages/sklearn/linear_model/_logistic.py:818: ConvergenceWarning: lbfgs failed to converge (status=1):\n",
            "STOP: TOTAL NO. of ITERATIONS REACHED LIMIT.\n",
            "\n",
            "Increase the number of iterations (max_iter) or scale the data as shown in:\n",
            "    https://scikit-learn.org/stable/modules/preprocessing.html\n",
            "Please also refer to the documentation for alternative solver options:\n",
            "    https://scikit-learn.org/stable/modules/linear_model.html#logistic-regression\n",
            "  extra_warning_msg=_LOGISTIC_SOLVER_CONVERGENCE_MSG,\n"
          ]
        },
        {
          "output_type": "stream",
          "name": "stdout",
          "text": [
            "[CV 4/5; 4/14] END Modelo=LogisticRegression(random_state=20), Preprocessing__bow__ngram_range=(1, 2), Selection__percentile=90;, score=(train=1.000, test=0.648) total time=  14.6s\n",
            "[CV 5/5; 4/14] START Modelo=LogisticRegression(random_state=20), Preprocessing__bow__ngram_range=(1, 2), Selection__percentile=90\n"
          ]
        },
        {
          "output_type": "stream",
          "name": "stderr",
          "text": [
            "/usr/local/lib/python3.7/dist-packages/sklearn/linear_model/_logistic.py:818: ConvergenceWarning: lbfgs failed to converge (status=1):\n",
            "STOP: TOTAL NO. of ITERATIONS REACHED LIMIT.\n",
            "\n",
            "Increase the number of iterations (max_iter) or scale the data as shown in:\n",
            "    https://scikit-learn.org/stable/modules/preprocessing.html\n",
            "Please also refer to the documentation for alternative solver options:\n",
            "    https://scikit-learn.org/stable/modules/linear_model.html#logistic-regression\n",
            "  extra_warning_msg=_LOGISTIC_SOLVER_CONVERGENCE_MSG,\n"
          ]
        },
        {
          "output_type": "stream",
          "name": "stdout",
          "text": [
            "[CV 5/5; 4/14] END Modelo=LogisticRegression(random_state=20), Preprocessing__bow__ngram_range=(1, 2), Selection__percentile=90;, score=(train=1.000, test=0.574) total time=  15.2s\n",
            "[CV 1/5; 5/14] START Modelo=LogisticRegression(random_state=20), Preprocessing__bow__ngram_range=(1, 2), Selection__percentile=35\n"
          ]
        },
        {
          "output_type": "stream",
          "name": "stderr",
          "text": [
            "/usr/local/lib/python3.7/dist-packages/sklearn/linear_model/_logistic.py:818: ConvergenceWarning: lbfgs failed to converge (status=1):\n",
            "STOP: TOTAL NO. of ITERATIONS REACHED LIMIT.\n",
            "\n",
            "Increase the number of iterations (max_iter) or scale the data as shown in:\n",
            "    https://scikit-learn.org/stable/modules/preprocessing.html\n",
            "Please also refer to the documentation for alternative solver options:\n",
            "    https://scikit-learn.org/stable/modules/linear_model.html#logistic-regression\n",
            "  extra_warning_msg=_LOGISTIC_SOLVER_CONVERGENCE_MSG,\n"
          ]
        },
        {
          "output_type": "stream",
          "name": "stdout",
          "text": [
            "[CV 1/5; 5/14] END Modelo=LogisticRegression(random_state=20), Preprocessing__bow__ngram_range=(1, 2), Selection__percentile=35;, score=(train=1.000, test=0.519) total time=  11.2s\n",
            "[CV 2/5; 5/14] START Modelo=LogisticRegression(random_state=20), Preprocessing__bow__ngram_range=(1, 2), Selection__percentile=35\n"
          ]
        },
        {
          "output_type": "stream",
          "name": "stderr",
          "text": [
            "/usr/local/lib/python3.7/dist-packages/sklearn/linear_model/_logistic.py:818: ConvergenceWarning: lbfgs failed to converge (status=1):\n",
            "STOP: TOTAL NO. of ITERATIONS REACHED LIMIT.\n",
            "\n",
            "Increase the number of iterations (max_iter) or scale the data as shown in:\n",
            "    https://scikit-learn.org/stable/modules/preprocessing.html\n",
            "Please also refer to the documentation for alternative solver options:\n",
            "    https://scikit-learn.org/stable/modules/linear_model.html#logistic-regression\n",
            "  extra_warning_msg=_LOGISTIC_SOLVER_CONVERGENCE_MSG,\n"
          ]
        },
        {
          "output_type": "stream",
          "name": "stdout",
          "text": [
            "[CV 2/5; 5/14] END Modelo=LogisticRegression(random_state=20), Preprocessing__bow__ngram_range=(1, 2), Selection__percentile=35;, score=(train=1.000, test=0.630) total time=  11.0s\n",
            "[CV 3/5; 5/14] START Modelo=LogisticRegression(random_state=20), Preprocessing__bow__ngram_range=(1, 2), Selection__percentile=35\n"
          ]
        },
        {
          "output_type": "stream",
          "name": "stderr",
          "text": [
            "/usr/local/lib/python3.7/dist-packages/sklearn/linear_model/_logistic.py:818: ConvergenceWarning: lbfgs failed to converge (status=1):\n",
            "STOP: TOTAL NO. of ITERATIONS REACHED LIMIT.\n",
            "\n",
            "Increase the number of iterations (max_iter) or scale the data as shown in:\n",
            "    https://scikit-learn.org/stable/modules/preprocessing.html\n",
            "Please also refer to the documentation for alternative solver options:\n",
            "    https://scikit-learn.org/stable/modules/linear_model.html#logistic-regression\n",
            "  extra_warning_msg=_LOGISTIC_SOLVER_CONVERGENCE_MSG,\n"
          ]
        },
        {
          "output_type": "stream",
          "name": "stdout",
          "text": [
            "[CV 3/5; 5/14] END Modelo=LogisticRegression(random_state=20), Preprocessing__bow__ngram_range=(1, 2), Selection__percentile=35;, score=(train=1.000, test=0.519) total time=   9.9s\n",
            "[CV 4/5; 5/14] START Modelo=LogisticRegression(random_state=20), Preprocessing__bow__ngram_range=(1, 2), Selection__percentile=35\n"
          ]
        },
        {
          "output_type": "stream",
          "name": "stderr",
          "text": [
            "/usr/local/lib/python3.7/dist-packages/sklearn/linear_model/_logistic.py:818: ConvergenceWarning: lbfgs failed to converge (status=1):\n",
            "STOP: TOTAL NO. of ITERATIONS REACHED LIMIT.\n",
            "\n",
            "Increase the number of iterations (max_iter) or scale the data as shown in:\n",
            "    https://scikit-learn.org/stable/modules/preprocessing.html\n",
            "Please also refer to the documentation for alternative solver options:\n",
            "    https://scikit-learn.org/stable/modules/linear_model.html#logistic-regression\n",
            "  extra_warning_msg=_LOGISTIC_SOLVER_CONVERGENCE_MSG,\n"
          ]
        },
        {
          "output_type": "stream",
          "name": "stdout",
          "text": [
            "[CV 4/5; 5/14] END Modelo=LogisticRegression(random_state=20), Preprocessing__bow__ngram_range=(1, 2), Selection__percentile=35;, score=(train=1.000, test=0.593) total time=  10.3s\n",
            "[CV 5/5; 5/14] START Modelo=LogisticRegression(random_state=20), Preprocessing__bow__ngram_range=(1, 2), Selection__percentile=35\n"
          ]
        },
        {
          "output_type": "stream",
          "name": "stderr",
          "text": [
            "/usr/local/lib/python3.7/dist-packages/sklearn/linear_model/_logistic.py:818: ConvergenceWarning: lbfgs failed to converge (status=1):\n",
            "STOP: TOTAL NO. of ITERATIONS REACHED LIMIT.\n",
            "\n",
            "Increase the number of iterations (max_iter) or scale the data as shown in:\n",
            "    https://scikit-learn.org/stable/modules/preprocessing.html\n",
            "Please also refer to the documentation for alternative solver options:\n",
            "    https://scikit-learn.org/stable/modules/linear_model.html#logistic-regression\n",
            "  extra_warning_msg=_LOGISTIC_SOLVER_CONVERGENCE_MSG,\n"
          ]
        },
        {
          "output_type": "stream",
          "name": "stdout",
          "text": [
            "[CV 5/5; 5/14] END Modelo=LogisticRegression(random_state=20), Preprocessing__bow__ngram_range=(1, 2), Selection__percentile=35;, score=(train=1.000, test=0.611) total time=  10.4s\n",
            "[CV 1/5; 6/14] START Modelo=LogisticRegression(random_state=20), Preprocessing__bow__ngram_range=(1, 3), Selection__percentile=10\n",
            "[CV 1/5; 6/14] END Modelo=LogisticRegression(random_state=20), Preprocessing__bow__ngram_range=(1, 3), Selection__percentile=10;, score=(train=0.995, test=0.519) total time=  11.0s\n",
            "[CV 2/5; 6/14] START Modelo=LogisticRegression(random_state=20), Preprocessing__bow__ngram_range=(1, 3), Selection__percentile=10\n"
          ]
        },
        {
          "output_type": "stream",
          "name": "stderr",
          "text": [
            "/usr/local/lib/python3.7/dist-packages/sklearn/linear_model/_logistic.py:818: ConvergenceWarning: lbfgs failed to converge (status=1):\n",
            "STOP: TOTAL NO. of ITERATIONS REACHED LIMIT.\n",
            "\n",
            "Increase the number of iterations (max_iter) or scale the data as shown in:\n",
            "    https://scikit-learn.org/stable/modules/preprocessing.html\n",
            "Please also refer to the documentation for alternative solver options:\n",
            "    https://scikit-learn.org/stable/modules/linear_model.html#logistic-regression\n",
            "  extra_warning_msg=_LOGISTIC_SOLVER_CONVERGENCE_MSG,\n"
          ]
        },
        {
          "output_type": "stream",
          "name": "stdout",
          "text": [
            "[CV 2/5; 6/14] END Modelo=LogisticRegression(random_state=20), Preprocessing__bow__ngram_range=(1, 3), Selection__percentile=10;, score=(train=1.000, test=0.648) total time=  10.9s\n",
            "[CV 3/5; 6/14] START Modelo=LogisticRegression(random_state=20), Preprocessing__bow__ngram_range=(1, 3), Selection__percentile=10\n"
          ]
        },
        {
          "output_type": "stream",
          "name": "stderr",
          "text": [
            "/usr/local/lib/python3.7/dist-packages/sklearn/linear_model/_logistic.py:818: ConvergenceWarning: lbfgs failed to converge (status=1):\n",
            "STOP: TOTAL NO. of ITERATIONS REACHED LIMIT.\n",
            "\n",
            "Increase the number of iterations (max_iter) or scale the data as shown in:\n",
            "    https://scikit-learn.org/stable/modules/preprocessing.html\n",
            "Please also refer to the documentation for alternative solver options:\n",
            "    https://scikit-learn.org/stable/modules/linear_model.html#logistic-regression\n",
            "  extra_warning_msg=_LOGISTIC_SOLVER_CONVERGENCE_MSG,\n"
          ]
        },
        {
          "output_type": "stream",
          "name": "stdout",
          "text": [
            "[CV 3/5; 6/14] END Modelo=LogisticRegression(random_state=20), Preprocessing__bow__ngram_range=(1, 3), Selection__percentile=10;, score=(train=1.000, test=0.519) total time=   9.8s\n",
            "[CV 4/5; 6/14] START Modelo=LogisticRegression(random_state=20), Preprocessing__bow__ngram_range=(1, 3), Selection__percentile=10\n",
            "[CV 4/5; 6/14] END Modelo=LogisticRegression(random_state=20), Preprocessing__bow__ngram_range=(1, 3), Selection__percentile=10;, score=(train=1.000, test=0.611) total time=   9.8s\n",
            "[CV 5/5; 6/14] START Modelo=LogisticRegression(random_state=20), Preprocessing__bow__ngram_range=(1, 3), Selection__percentile=10\n"
          ]
        },
        {
          "output_type": "stream",
          "name": "stderr",
          "text": [
            "/usr/local/lib/python3.7/dist-packages/sklearn/linear_model/_logistic.py:818: ConvergenceWarning: lbfgs failed to converge (status=1):\n",
            "STOP: TOTAL NO. of ITERATIONS REACHED LIMIT.\n",
            "\n",
            "Increase the number of iterations (max_iter) or scale the data as shown in:\n",
            "    https://scikit-learn.org/stable/modules/preprocessing.html\n",
            "Please also refer to the documentation for alternative solver options:\n",
            "    https://scikit-learn.org/stable/modules/linear_model.html#logistic-regression\n",
            "  extra_warning_msg=_LOGISTIC_SOLVER_CONVERGENCE_MSG,\n"
          ]
        },
        {
          "output_type": "stream",
          "name": "stdout",
          "text": [
            "[CV 5/5; 6/14] END Modelo=LogisticRegression(random_state=20), Preprocessing__bow__ngram_range=(1, 3), Selection__percentile=10;, score=(train=1.000, test=0.593) total time=  10.8s\n",
            "[CV 1/5; 7/14] START Modelo=LogisticRegression(random_state=20), Preprocessing__bow__ngram_range=(1, 2), Selection__percentile=25\n"
          ]
        },
        {
          "output_type": "stream",
          "name": "stderr",
          "text": [
            "/usr/local/lib/python3.7/dist-packages/sklearn/linear_model/_logistic.py:818: ConvergenceWarning: lbfgs failed to converge (status=1):\n",
            "STOP: TOTAL NO. of ITERATIONS REACHED LIMIT.\n",
            "\n",
            "Increase the number of iterations (max_iter) or scale the data as shown in:\n",
            "    https://scikit-learn.org/stable/modules/preprocessing.html\n",
            "Please also refer to the documentation for alternative solver options:\n",
            "    https://scikit-learn.org/stable/modules/linear_model.html#logistic-regression\n",
            "  extra_warning_msg=_LOGISTIC_SOLVER_CONVERGENCE_MSG,\n"
          ]
        },
        {
          "output_type": "stream",
          "name": "stdout",
          "text": [
            "[CV 1/5; 7/14] END Modelo=LogisticRegression(random_state=20), Preprocessing__bow__ngram_range=(1, 2), Selection__percentile=25;, score=(train=1.000, test=0.537) total time=  10.0s\n",
            "[CV 2/5; 7/14] START Modelo=LogisticRegression(random_state=20), Preprocessing__bow__ngram_range=(1, 2), Selection__percentile=25\n"
          ]
        },
        {
          "output_type": "stream",
          "name": "stderr",
          "text": [
            "/usr/local/lib/python3.7/dist-packages/sklearn/linear_model/_logistic.py:818: ConvergenceWarning: lbfgs failed to converge (status=1):\n",
            "STOP: TOTAL NO. of ITERATIONS REACHED LIMIT.\n",
            "\n",
            "Increase the number of iterations (max_iter) or scale the data as shown in:\n",
            "    https://scikit-learn.org/stable/modules/preprocessing.html\n",
            "Please also refer to the documentation for alternative solver options:\n",
            "    https://scikit-learn.org/stable/modules/linear_model.html#logistic-regression\n",
            "  extra_warning_msg=_LOGISTIC_SOLVER_CONVERGENCE_MSG,\n"
          ]
        },
        {
          "output_type": "stream",
          "name": "stdout",
          "text": [
            "[CV 2/5; 7/14] END Modelo=LogisticRegression(random_state=20), Preprocessing__bow__ngram_range=(1, 2), Selection__percentile=25;, score=(train=1.000, test=0.667) total time=  10.1s\n",
            "[CV 3/5; 7/14] START Modelo=LogisticRegression(random_state=20), Preprocessing__bow__ngram_range=(1, 2), Selection__percentile=25\n"
          ]
        },
        {
          "output_type": "stream",
          "name": "stderr",
          "text": [
            "/usr/local/lib/python3.7/dist-packages/sklearn/linear_model/_logistic.py:818: ConvergenceWarning: lbfgs failed to converge (status=1):\n",
            "STOP: TOTAL NO. of ITERATIONS REACHED LIMIT.\n",
            "\n",
            "Increase the number of iterations (max_iter) or scale the data as shown in:\n",
            "    https://scikit-learn.org/stable/modules/preprocessing.html\n",
            "Please also refer to the documentation for alternative solver options:\n",
            "    https://scikit-learn.org/stable/modules/linear_model.html#logistic-regression\n",
            "  extra_warning_msg=_LOGISTIC_SOLVER_CONVERGENCE_MSG,\n"
          ]
        },
        {
          "output_type": "stream",
          "name": "stdout",
          "text": [
            "[CV 3/5; 7/14] END Modelo=LogisticRegression(random_state=20), Preprocessing__bow__ngram_range=(1, 2), Selection__percentile=25;, score=(train=1.000, test=0.481) total time=   8.7s\n",
            "[CV 4/5; 7/14] START Modelo=LogisticRegression(random_state=20), Preprocessing__bow__ngram_range=(1, 2), Selection__percentile=25\n",
            "[CV 4/5; 7/14] END Modelo=LogisticRegression(random_state=20), Preprocessing__bow__ngram_range=(1, 2), Selection__percentile=25;, score=(train=1.000, test=0.630) total time=   9.0s\n",
            "[CV 5/5; 7/14] START Modelo=LogisticRegression(random_state=20), Preprocessing__bow__ngram_range=(1, 2), Selection__percentile=25\n"
          ]
        },
        {
          "output_type": "stream",
          "name": "stderr",
          "text": [
            "/usr/local/lib/python3.7/dist-packages/sklearn/linear_model/_logistic.py:818: ConvergenceWarning: lbfgs failed to converge (status=1):\n",
            "STOP: TOTAL NO. of ITERATIONS REACHED LIMIT.\n",
            "\n",
            "Increase the number of iterations (max_iter) or scale the data as shown in:\n",
            "    https://scikit-learn.org/stable/modules/preprocessing.html\n",
            "Please also refer to the documentation for alternative solver options:\n",
            "    https://scikit-learn.org/stable/modules/linear_model.html#logistic-regression\n",
            "  extra_warning_msg=_LOGISTIC_SOLVER_CONVERGENCE_MSG,\n"
          ]
        },
        {
          "output_type": "stream",
          "name": "stdout",
          "text": [
            "[CV 5/5; 7/14] END Modelo=LogisticRegression(random_state=20), Preprocessing__bow__ngram_range=(1, 2), Selection__percentile=25;, score=(train=1.000, test=0.611) total time=   9.8s\n",
            "[CV 1/5; 8/14] START Modelo=LogisticRegression(random_state=20), Preprocessing__bow__ngram_range=(1, 3), Selection__percentile=60\n"
          ]
        },
        {
          "output_type": "stream",
          "name": "stderr",
          "text": [
            "/usr/local/lib/python3.7/dist-packages/sklearn/linear_model/_logistic.py:818: ConvergenceWarning: lbfgs failed to converge (status=1):\n",
            "STOP: TOTAL NO. of ITERATIONS REACHED LIMIT.\n",
            "\n",
            "Increase the number of iterations (max_iter) or scale the data as shown in:\n",
            "    https://scikit-learn.org/stable/modules/preprocessing.html\n",
            "Please also refer to the documentation for alternative solver options:\n",
            "    https://scikit-learn.org/stable/modules/linear_model.html#logistic-regression\n",
            "  extra_warning_msg=_LOGISTIC_SOLVER_CONVERGENCE_MSG,\n"
          ]
        },
        {
          "output_type": "stream",
          "name": "stdout",
          "text": [
            "[CV 1/5; 8/14] END Modelo=LogisticRegression(random_state=20), Preprocessing__bow__ngram_range=(1, 3), Selection__percentile=60;, score=(train=1.000, test=0.537) total time=  20.0s\n",
            "[CV 2/5; 8/14] START Modelo=LogisticRegression(random_state=20), Preprocessing__bow__ngram_range=(1, 3), Selection__percentile=60\n"
          ]
        },
        {
          "output_type": "stream",
          "name": "stderr",
          "text": [
            "/usr/local/lib/python3.7/dist-packages/sklearn/linear_model/_logistic.py:818: ConvergenceWarning: lbfgs failed to converge (status=1):\n",
            "STOP: TOTAL NO. of ITERATIONS REACHED LIMIT.\n",
            "\n",
            "Increase the number of iterations (max_iter) or scale the data as shown in:\n",
            "    https://scikit-learn.org/stable/modules/preprocessing.html\n",
            "Please also refer to the documentation for alternative solver options:\n",
            "    https://scikit-learn.org/stable/modules/linear_model.html#logistic-regression\n",
            "  extra_warning_msg=_LOGISTIC_SOLVER_CONVERGENCE_MSG,\n"
          ]
        },
        {
          "output_type": "stream",
          "name": "stdout",
          "text": [
            "[CV 2/5; 8/14] END Modelo=LogisticRegression(random_state=20), Preprocessing__bow__ngram_range=(1, 3), Selection__percentile=60;, score=(train=1.000, test=0.630) total time=  20.5s\n",
            "[CV 3/5; 8/14] START Modelo=LogisticRegression(random_state=20), Preprocessing__bow__ngram_range=(1, 3), Selection__percentile=60\n"
          ]
        },
        {
          "output_type": "stream",
          "name": "stderr",
          "text": [
            "/usr/local/lib/python3.7/dist-packages/sklearn/linear_model/_logistic.py:818: ConvergenceWarning: lbfgs failed to converge (status=1):\n",
            "STOP: TOTAL NO. of ITERATIONS REACHED LIMIT.\n",
            "\n",
            "Increase the number of iterations (max_iter) or scale the data as shown in:\n",
            "    https://scikit-learn.org/stable/modules/preprocessing.html\n",
            "Please also refer to the documentation for alternative solver options:\n",
            "    https://scikit-learn.org/stable/modules/linear_model.html#logistic-regression\n",
            "  extra_warning_msg=_LOGISTIC_SOLVER_CONVERGENCE_MSG,\n"
          ]
        },
        {
          "output_type": "stream",
          "name": "stdout",
          "text": [
            "[CV 3/5; 8/14] END Modelo=LogisticRegression(random_state=20), Preprocessing__bow__ngram_range=(1, 3), Selection__percentile=60;, score=(train=1.000, test=0.574) total time=  22.4s\n",
            "[CV 4/5; 8/14] START Modelo=LogisticRegression(random_state=20), Preprocessing__bow__ngram_range=(1, 3), Selection__percentile=60\n"
          ]
        },
        {
          "output_type": "stream",
          "name": "stderr",
          "text": [
            "/usr/local/lib/python3.7/dist-packages/sklearn/linear_model/_logistic.py:818: ConvergenceWarning: lbfgs failed to converge (status=1):\n",
            "STOP: TOTAL NO. of ITERATIONS REACHED LIMIT.\n",
            "\n",
            "Increase the number of iterations (max_iter) or scale the data as shown in:\n",
            "    https://scikit-learn.org/stable/modules/preprocessing.html\n",
            "Please also refer to the documentation for alternative solver options:\n",
            "    https://scikit-learn.org/stable/modules/linear_model.html#logistic-regression\n",
            "  extra_warning_msg=_LOGISTIC_SOLVER_CONVERGENCE_MSG,\n"
          ]
        },
        {
          "output_type": "stream",
          "name": "stdout",
          "text": [
            "[CV 4/5; 8/14] END Modelo=LogisticRegression(random_state=20), Preprocessing__bow__ngram_range=(1, 3), Selection__percentile=60;, score=(train=1.000, test=0.667) total time=  20.7s\n",
            "[CV 5/5; 8/14] START Modelo=LogisticRegression(random_state=20), Preprocessing__bow__ngram_range=(1, 3), Selection__percentile=60\n"
          ]
        },
        {
          "output_type": "stream",
          "name": "stderr",
          "text": [
            "/usr/local/lib/python3.7/dist-packages/sklearn/linear_model/_logistic.py:818: ConvergenceWarning: lbfgs failed to converge (status=1):\n",
            "STOP: TOTAL NO. of ITERATIONS REACHED LIMIT.\n",
            "\n",
            "Increase the number of iterations (max_iter) or scale the data as shown in:\n",
            "    https://scikit-learn.org/stable/modules/preprocessing.html\n",
            "Please also refer to the documentation for alternative solver options:\n",
            "    https://scikit-learn.org/stable/modules/linear_model.html#logistic-regression\n",
            "  extra_warning_msg=_LOGISTIC_SOLVER_CONVERGENCE_MSG,\n"
          ]
        },
        {
          "output_type": "stream",
          "name": "stdout",
          "text": [
            "[CV 5/5; 8/14] END Modelo=LogisticRegression(random_state=20), Preprocessing__bow__ngram_range=(1, 3), Selection__percentile=60;, score=(train=1.000, test=0.574) total time=  20.2s\n",
            "[CV 1/5; 9/14] START Modelo=LogisticRegression(random_state=20), Preprocessing__bow__ngram_range=(1, 3), Selection__percentile=55\n"
          ]
        },
        {
          "output_type": "stream",
          "name": "stderr",
          "text": [
            "/usr/local/lib/python3.7/dist-packages/sklearn/linear_model/_logistic.py:818: ConvergenceWarning: lbfgs failed to converge (status=1):\n",
            "STOP: TOTAL NO. of ITERATIONS REACHED LIMIT.\n",
            "\n",
            "Increase the number of iterations (max_iter) or scale the data as shown in:\n",
            "    https://scikit-learn.org/stable/modules/preprocessing.html\n",
            "Please also refer to the documentation for alternative solver options:\n",
            "    https://scikit-learn.org/stable/modules/linear_model.html#logistic-regression\n",
            "  extra_warning_msg=_LOGISTIC_SOLVER_CONVERGENCE_MSG,\n"
          ]
        },
        {
          "output_type": "stream",
          "name": "stdout",
          "text": [
            "[CV 1/5; 9/14] END Modelo=LogisticRegression(random_state=20), Preprocessing__bow__ngram_range=(1, 3), Selection__percentile=55;, score=(train=1.000, test=0.537) total time=  19.3s\n",
            "[CV 2/5; 9/14] START Modelo=LogisticRegression(random_state=20), Preprocessing__bow__ngram_range=(1, 3), Selection__percentile=55\n"
          ]
        },
        {
          "output_type": "stream",
          "name": "stderr",
          "text": [
            "/usr/local/lib/python3.7/dist-packages/sklearn/linear_model/_logistic.py:818: ConvergenceWarning: lbfgs failed to converge (status=1):\n",
            "STOP: TOTAL NO. of ITERATIONS REACHED LIMIT.\n",
            "\n",
            "Increase the number of iterations (max_iter) or scale the data as shown in:\n",
            "    https://scikit-learn.org/stable/modules/preprocessing.html\n",
            "Please also refer to the documentation for alternative solver options:\n",
            "    https://scikit-learn.org/stable/modules/linear_model.html#logistic-regression\n",
            "  extra_warning_msg=_LOGISTIC_SOLVER_CONVERGENCE_MSG,\n"
          ]
        },
        {
          "output_type": "stream",
          "name": "stdout",
          "text": [
            "[CV 2/5; 9/14] END Modelo=LogisticRegression(random_state=20), Preprocessing__bow__ngram_range=(1, 3), Selection__percentile=55;, score=(train=1.000, test=0.630) total time=  19.6s\n",
            "[CV 3/5; 9/14] START Modelo=LogisticRegression(random_state=20), Preprocessing__bow__ngram_range=(1, 3), Selection__percentile=55\n"
          ]
        },
        {
          "output_type": "stream",
          "name": "stderr",
          "text": [
            "/usr/local/lib/python3.7/dist-packages/sklearn/linear_model/_logistic.py:818: ConvergenceWarning: lbfgs failed to converge (status=1):\n",
            "STOP: TOTAL NO. of ITERATIONS REACHED LIMIT.\n",
            "\n",
            "Increase the number of iterations (max_iter) or scale the data as shown in:\n",
            "    https://scikit-learn.org/stable/modules/preprocessing.html\n",
            "Please also refer to the documentation for alternative solver options:\n",
            "    https://scikit-learn.org/stable/modules/linear_model.html#logistic-regression\n",
            "  extra_warning_msg=_LOGISTIC_SOLVER_CONVERGENCE_MSG,\n"
          ]
        },
        {
          "output_type": "stream",
          "name": "stdout",
          "text": [
            "[CV 3/5; 9/14] END Modelo=LogisticRegression(random_state=20), Preprocessing__bow__ngram_range=(1, 3), Selection__percentile=55;, score=(train=1.000, test=0.556) total time=  17.6s\n",
            "[CV 4/5; 9/14] START Modelo=LogisticRegression(random_state=20), Preprocessing__bow__ngram_range=(1, 3), Selection__percentile=55\n"
          ]
        },
        {
          "output_type": "stream",
          "name": "stderr",
          "text": [
            "/usr/local/lib/python3.7/dist-packages/sklearn/linear_model/_logistic.py:818: ConvergenceWarning: lbfgs failed to converge (status=1):\n",
            "STOP: TOTAL NO. of ITERATIONS REACHED LIMIT.\n",
            "\n",
            "Increase the number of iterations (max_iter) or scale the data as shown in:\n",
            "    https://scikit-learn.org/stable/modules/preprocessing.html\n",
            "Please also refer to the documentation for alternative solver options:\n",
            "    https://scikit-learn.org/stable/modules/linear_model.html#logistic-regression\n",
            "  extra_warning_msg=_LOGISTIC_SOLVER_CONVERGENCE_MSG,\n"
          ]
        },
        {
          "output_type": "stream",
          "name": "stdout",
          "text": [
            "[CV 4/5; 9/14] END Modelo=LogisticRegression(random_state=20), Preprocessing__bow__ngram_range=(1, 3), Selection__percentile=55;, score=(train=1.000, test=0.667) total time=  19.6s\n",
            "[CV 5/5; 9/14] START Modelo=LogisticRegression(random_state=20), Preprocessing__bow__ngram_range=(1, 3), Selection__percentile=55\n"
          ]
        },
        {
          "output_type": "stream",
          "name": "stderr",
          "text": [
            "/usr/local/lib/python3.7/dist-packages/sklearn/linear_model/_logistic.py:818: ConvergenceWarning: lbfgs failed to converge (status=1):\n",
            "STOP: TOTAL NO. of ITERATIONS REACHED LIMIT.\n",
            "\n",
            "Increase the number of iterations (max_iter) or scale the data as shown in:\n",
            "    https://scikit-learn.org/stable/modules/preprocessing.html\n",
            "Please also refer to the documentation for alternative solver options:\n",
            "    https://scikit-learn.org/stable/modules/linear_model.html#logistic-regression\n",
            "  extra_warning_msg=_LOGISTIC_SOLVER_CONVERGENCE_MSG,\n"
          ]
        },
        {
          "output_type": "stream",
          "name": "stdout",
          "text": [
            "[CV 5/5; 9/14] END Modelo=LogisticRegression(random_state=20), Preprocessing__bow__ngram_range=(1, 3), Selection__percentile=55;, score=(train=1.000, test=0.574) total time=  19.6s\n",
            "[CV 1/5; 10/14] START Modelo=LogisticRegression(random_state=20), Preprocessing__bow__ngram_range=(1, 1), Selection__percentile=45\n"
          ]
        },
        {
          "output_type": "stream",
          "name": "stderr",
          "text": [
            "/usr/local/lib/python3.7/dist-packages/sklearn/linear_model/_logistic.py:818: ConvergenceWarning: lbfgs failed to converge (status=1):\n",
            "STOP: TOTAL NO. of ITERATIONS REACHED LIMIT.\n",
            "\n",
            "Increase the number of iterations (max_iter) or scale the data as shown in:\n",
            "    https://scikit-learn.org/stable/modules/preprocessing.html\n",
            "Please also refer to the documentation for alternative solver options:\n",
            "    https://scikit-learn.org/stable/modules/linear_model.html#logistic-regression\n",
            "  extra_warning_msg=_LOGISTIC_SOLVER_CONVERGENCE_MSG,\n"
          ]
        },
        {
          "output_type": "stream",
          "name": "stdout",
          "text": [
            "[CV 1/5; 10/14] END Modelo=LogisticRegression(random_state=20), Preprocessing__bow__ngram_range=(1, 1), Selection__percentile=45;, score=(train=0.995, test=0.537) total time=   8.3s\n",
            "[CV 2/5; 10/14] START Modelo=LogisticRegression(random_state=20), Preprocessing__bow__ngram_range=(1, 1), Selection__percentile=45\n"
          ]
        },
        {
          "output_type": "stream",
          "name": "stderr",
          "text": [
            "/usr/local/lib/python3.7/dist-packages/sklearn/linear_model/_logistic.py:818: ConvergenceWarning: lbfgs failed to converge (status=1):\n",
            "STOP: TOTAL NO. of ITERATIONS REACHED LIMIT.\n",
            "\n",
            "Increase the number of iterations (max_iter) or scale the data as shown in:\n",
            "    https://scikit-learn.org/stable/modules/preprocessing.html\n",
            "Please also refer to the documentation for alternative solver options:\n",
            "    https://scikit-learn.org/stable/modules/linear_model.html#logistic-regression\n",
            "  extra_warning_msg=_LOGISTIC_SOLVER_CONVERGENCE_MSG,\n"
          ]
        },
        {
          "output_type": "stream",
          "name": "stdout",
          "text": [
            "[CV 2/5; 10/14] END Modelo=LogisticRegression(random_state=20), Preprocessing__bow__ngram_range=(1, 1), Selection__percentile=45;, score=(train=1.000, test=0.611) total time=   8.1s\n",
            "[CV 3/5; 10/14] START Modelo=LogisticRegression(random_state=20), Preprocessing__bow__ngram_range=(1, 1), Selection__percentile=45\n"
          ]
        },
        {
          "output_type": "stream",
          "name": "stderr",
          "text": [
            "/usr/local/lib/python3.7/dist-packages/sklearn/linear_model/_logistic.py:818: ConvergenceWarning: lbfgs failed to converge (status=1):\n",
            "STOP: TOTAL NO. of ITERATIONS REACHED LIMIT.\n",
            "\n",
            "Increase the number of iterations (max_iter) or scale the data as shown in:\n",
            "    https://scikit-learn.org/stable/modules/preprocessing.html\n",
            "Please also refer to the documentation for alternative solver options:\n",
            "    https://scikit-learn.org/stable/modules/linear_model.html#logistic-regression\n",
            "  extra_warning_msg=_LOGISTIC_SOLVER_CONVERGENCE_MSG,\n"
          ]
        },
        {
          "output_type": "stream",
          "name": "stdout",
          "text": [
            "[CV 3/5; 10/14] END Modelo=LogisticRegression(random_state=20), Preprocessing__bow__ngram_range=(1, 1), Selection__percentile=45;, score=(train=1.000, test=0.500) total time=   7.2s\n",
            "[CV 4/5; 10/14] START Modelo=LogisticRegression(random_state=20), Preprocessing__bow__ngram_range=(1, 1), Selection__percentile=45\n"
          ]
        },
        {
          "output_type": "stream",
          "name": "stderr",
          "text": [
            "/usr/local/lib/python3.7/dist-packages/sklearn/linear_model/_logistic.py:818: ConvergenceWarning: lbfgs failed to converge (status=1):\n",
            "STOP: TOTAL NO. of ITERATIONS REACHED LIMIT.\n",
            "\n",
            "Increase the number of iterations (max_iter) or scale the data as shown in:\n",
            "    https://scikit-learn.org/stable/modules/preprocessing.html\n",
            "Please also refer to the documentation for alternative solver options:\n",
            "    https://scikit-learn.org/stable/modules/linear_model.html#logistic-regression\n",
            "  extra_warning_msg=_LOGISTIC_SOLVER_CONVERGENCE_MSG,\n"
          ]
        },
        {
          "output_type": "stream",
          "name": "stdout",
          "text": [
            "[CV 4/5; 10/14] END Modelo=LogisticRegression(random_state=20), Preprocessing__bow__ngram_range=(1, 1), Selection__percentile=45;, score=(train=1.000, test=0.685) total time=   7.5s\n",
            "[CV 5/5; 10/14] START Modelo=LogisticRegression(random_state=20), Preprocessing__bow__ngram_range=(1, 1), Selection__percentile=45\n"
          ]
        },
        {
          "output_type": "stream",
          "name": "stderr",
          "text": [
            "/usr/local/lib/python3.7/dist-packages/sklearn/linear_model/_logistic.py:818: ConvergenceWarning: lbfgs failed to converge (status=1):\n",
            "STOP: TOTAL NO. of ITERATIONS REACHED LIMIT.\n",
            "\n",
            "Increase the number of iterations (max_iter) or scale the data as shown in:\n",
            "    https://scikit-learn.org/stable/modules/preprocessing.html\n",
            "Please also refer to the documentation for alternative solver options:\n",
            "    https://scikit-learn.org/stable/modules/linear_model.html#logistic-regression\n",
            "  extra_warning_msg=_LOGISTIC_SOLVER_CONVERGENCE_MSG,\n"
          ]
        },
        {
          "output_type": "stream",
          "name": "stdout",
          "text": [
            "[CV 5/5; 10/14] END Modelo=LogisticRegression(random_state=20), Preprocessing__bow__ngram_range=(1, 1), Selection__percentile=45;, score=(train=1.000, test=0.611) total time=   7.9s\n",
            "[CV 1/5; 11/14] START Modelo=LogisticRegression(random_state=20), Preprocessing__bow__ngram_range=(1, 1), Selection__percentile=30\n"
          ]
        },
        {
          "output_type": "stream",
          "name": "stderr",
          "text": [
            "/usr/local/lib/python3.7/dist-packages/sklearn/linear_model/_logistic.py:818: ConvergenceWarning: lbfgs failed to converge (status=1):\n",
            "STOP: TOTAL NO. of ITERATIONS REACHED LIMIT.\n",
            "\n",
            "Increase the number of iterations (max_iter) or scale the data as shown in:\n",
            "    https://scikit-learn.org/stable/modules/preprocessing.html\n",
            "Please also refer to the documentation for alternative solver options:\n",
            "    https://scikit-learn.org/stable/modules/linear_model.html#logistic-regression\n",
            "  extra_warning_msg=_LOGISTIC_SOLVER_CONVERGENCE_MSG,\n"
          ]
        },
        {
          "output_type": "stream",
          "name": "stdout",
          "text": [
            "[CV 1/5; 11/14] END Modelo=LogisticRegression(random_state=20), Preprocessing__bow__ngram_range=(1, 1), Selection__percentile=30;, score=(train=0.995, test=0.519) total time=   8.2s\n",
            "[CV 2/5; 11/14] START Modelo=LogisticRegression(random_state=20), Preprocessing__bow__ngram_range=(1, 1), Selection__percentile=30\n"
          ]
        },
        {
          "output_type": "stream",
          "name": "stderr",
          "text": [
            "/usr/local/lib/python3.7/dist-packages/sklearn/linear_model/_logistic.py:818: ConvergenceWarning: lbfgs failed to converge (status=1):\n",
            "STOP: TOTAL NO. of ITERATIONS REACHED LIMIT.\n",
            "\n",
            "Increase the number of iterations (max_iter) or scale the data as shown in:\n",
            "    https://scikit-learn.org/stable/modules/preprocessing.html\n",
            "Please also refer to the documentation for alternative solver options:\n",
            "    https://scikit-learn.org/stable/modules/linear_model.html#logistic-regression\n",
            "  extra_warning_msg=_LOGISTIC_SOLVER_CONVERGENCE_MSG,\n"
          ]
        },
        {
          "output_type": "stream",
          "name": "stdout",
          "text": [
            "[CV 2/5; 11/14] END Modelo=LogisticRegression(random_state=20), Preprocessing__bow__ngram_range=(1, 1), Selection__percentile=30;, score=(train=1.000, test=0.704) total time=   7.8s\n",
            "[CV 3/5; 11/14] START Modelo=LogisticRegression(random_state=20), Preprocessing__bow__ngram_range=(1, 1), Selection__percentile=30\n"
          ]
        },
        {
          "output_type": "stream",
          "name": "stderr",
          "text": [
            "/usr/local/lib/python3.7/dist-packages/sklearn/linear_model/_logistic.py:818: ConvergenceWarning: lbfgs failed to converge (status=1):\n",
            "STOP: TOTAL NO. of ITERATIONS REACHED LIMIT.\n",
            "\n",
            "Increase the number of iterations (max_iter) or scale the data as shown in:\n",
            "    https://scikit-learn.org/stable/modules/preprocessing.html\n",
            "Please also refer to the documentation for alternative solver options:\n",
            "    https://scikit-learn.org/stable/modules/linear_model.html#logistic-regression\n",
            "  extra_warning_msg=_LOGISTIC_SOLVER_CONVERGENCE_MSG,\n"
          ]
        },
        {
          "output_type": "stream",
          "name": "stdout",
          "text": [
            "[CV 3/5; 11/14] END Modelo=LogisticRegression(random_state=20), Preprocessing__bow__ngram_range=(1, 1), Selection__percentile=30;, score=(train=1.000, test=0.537) total time=   6.8s\n",
            "[CV 4/5; 11/14] START Modelo=LogisticRegression(random_state=20), Preprocessing__bow__ngram_range=(1, 1), Selection__percentile=30\n",
            "[CV 4/5; 11/14] END Modelo=LogisticRegression(random_state=20), Preprocessing__bow__ngram_range=(1, 1), Selection__percentile=30;, score=(train=0.995, test=0.611) total time=   7.1s\n",
            "[CV 5/5; 11/14] START Modelo=LogisticRegression(random_state=20), Preprocessing__bow__ngram_range=(1, 1), Selection__percentile=30\n"
          ]
        },
        {
          "output_type": "stream",
          "name": "stderr",
          "text": [
            "/usr/local/lib/python3.7/dist-packages/sklearn/linear_model/_logistic.py:818: ConvergenceWarning: lbfgs failed to converge (status=1):\n",
            "STOP: TOTAL NO. of ITERATIONS REACHED LIMIT.\n",
            "\n",
            "Increase the number of iterations (max_iter) or scale the data as shown in:\n",
            "    https://scikit-learn.org/stable/modules/preprocessing.html\n",
            "Please also refer to the documentation for alternative solver options:\n",
            "    https://scikit-learn.org/stable/modules/linear_model.html#logistic-regression\n",
            "  extra_warning_msg=_LOGISTIC_SOLVER_CONVERGENCE_MSG,\n"
          ]
        },
        {
          "output_type": "stream",
          "name": "stdout",
          "text": [
            "[CV 5/5; 11/14] END Modelo=LogisticRegression(random_state=20), Preprocessing__bow__ngram_range=(1, 1), Selection__percentile=30;, score=(train=1.000, test=0.630) total time=   7.5s\n",
            "[CV 1/5; 12/14] START Modelo=LogisticRegression(random_state=20), Preprocessing__bow__ngram_range=(1, 3), Selection__percentile=15\n"
          ]
        },
        {
          "output_type": "stream",
          "name": "stderr",
          "text": [
            "/usr/local/lib/python3.7/dist-packages/sklearn/linear_model/_logistic.py:818: ConvergenceWarning: lbfgs failed to converge (status=1):\n",
            "STOP: TOTAL NO. of ITERATIONS REACHED LIMIT.\n",
            "\n",
            "Increase the number of iterations (max_iter) or scale the data as shown in:\n",
            "    https://scikit-learn.org/stable/modules/preprocessing.html\n",
            "Please also refer to the documentation for alternative solver options:\n",
            "    https://scikit-learn.org/stable/modules/linear_model.html#logistic-regression\n",
            "  extra_warning_msg=_LOGISTIC_SOLVER_CONVERGENCE_MSG,\n"
          ]
        },
        {
          "output_type": "stream",
          "name": "stdout",
          "text": [
            "[CV 1/5; 12/14] END Modelo=LogisticRegression(random_state=20), Preprocessing__bow__ngram_range=(1, 3), Selection__percentile=15;, score=(train=1.000, test=0.519) total time=  12.0s\n",
            "[CV 2/5; 12/14] START Modelo=LogisticRegression(random_state=20), Preprocessing__bow__ngram_range=(1, 3), Selection__percentile=15\n"
          ]
        },
        {
          "output_type": "stream",
          "name": "stderr",
          "text": [
            "/usr/local/lib/python3.7/dist-packages/sklearn/linear_model/_logistic.py:818: ConvergenceWarning: lbfgs failed to converge (status=1):\n",
            "STOP: TOTAL NO. of ITERATIONS REACHED LIMIT.\n",
            "\n",
            "Increase the number of iterations (max_iter) or scale the data as shown in:\n",
            "    https://scikit-learn.org/stable/modules/preprocessing.html\n",
            "Please also refer to the documentation for alternative solver options:\n",
            "    https://scikit-learn.org/stable/modules/linear_model.html#logistic-regression\n",
            "  extra_warning_msg=_LOGISTIC_SOLVER_CONVERGENCE_MSG,\n"
          ]
        },
        {
          "output_type": "stream",
          "name": "stdout",
          "text": [
            "[CV 2/5; 12/14] END Modelo=LogisticRegression(random_state=20), Preprocessing__bow__ngram_range=(1, 3), Selection__percentile=15;, score=(train=1.000, test=0.611) total time=  12.3s\n",
            "[CV 3/5; 12/14] START Modelo=LogisticRegression(random_state=20), Preprocessing__bow__ngram_range=(1, 3), Selection__percentile=15\n"
          ]
        },
        {
          "output_type": "stream",
          "name": "stderr",
          "text": [
            "/usr/local/lib/python3.7/dist-packages/sklearn/linear_model/_logistic.py:818: ConvergenceWarning: lbfgs failed to converge (status=1):\n",
            "STOP: TOTAL NO. of ITERATIONS REACHED LIMIT.\n",
            "\n",
            "Increase the number of iterations (max_iter) or scale the data as shown in:\n",
            "    https://scikit-learn.org/stable/modules/preprocessing.html\n",
            "Please also refer to the documentation for alternative solver options:\n",
            "    https://scikit-learn.org/stable/modules/linear_model.html#logistic-regression\n",
            "  extra_warning_msg=_LOGISTIC_SOLVER_CONVERGENCE_MSG,\n"
          ]
        },
        {
          "output_type": "stream",
          "name": "stdout",
          "text": [
            "[CV 3/5; 12/14] END Modelo=LogisticRegression(random_state=20), Preprocessing__bow__ngram_range=(1, 3), Selection__percentile=15;, score=(train=1.000, test=0.519) total time=  10.5s\n",
            "[CV 4/5; 12/14] START Modelo=LogisticRegression(random_state=20), Preprocessing__bow__ngram_range=(1, 3), Selection__percentile=15\n",
            "[CV 4/5; 12/14] END Modelo=LogisticRegression(random_state=20), Preprocessing__bow__ngram_range=(1, 3), Selection__percentile=15;, score=(train=1.000, test=0.648) total time=  10.8s\n",
            "[CV 5/5; 12/14] START Modelo=LogisticRegression(random_state=20), Preprocessing__bow__ngram_range=(1, 3), Selection__percentile=15\n"
          ]
        },
        {
          "output_type": "stream",
          "name": "stderr",
          "text": [
            "/usr/local/lib/python3.7/dist-packages/sklearn/linear_model/_logistic.py:818: ConvergenceWarning: lbfgs failed to converge (status=1):\n",
            "STOP: TOTAL NO. of ITERATIONS REACHED LIMIT.\n",
            "\n",
            "Increase the number of iterations (max_iter) or scale the data as shown in:\n",
            "    https://scikit-learn.org/stable/modules/preprocessing.html\n",
            "Please also refer to the documentation for alternative solver options:\n",
            "    https://scikit-learn.org/stable/modules/linear_model.html#logistic-regression\n",
            "  extra_warning_msg=_LOGISTIC_SOLVER_CONVERGENCE_MSG,\n"
          ]
        },
        {
          "output_type": "stream",
          "name": "stdout",
          "text": [
            "[CV 5/5; 12/14] END Modelo=LogisticRegression(random_state=20), Preprocessing__bow__ngram_range=(1, 3), Selection__percentile=15;, score=(train=1.000, test=0.556) total time=  11.4s\n",
            "[CV 1/5; 13/14] START Modelo=LogisticRegression(random_state=20), Preprocessing__bow__ngram_range=(1, 1), Selection__percentile=35\n"
          ]
        },
        {
          "output_type": "stream",
          "name": "stderr",
          "text": [
            "/usr/local/lib/python3.7/dist-packages/sklearn/linear_model/_logistic.py:818: ConvergenceWarning: lbfgs failed to converge (status=1):\n",
            "STOP: TOTAL NO. of ITERATIONS REACHED LIMIT.\n",
            "\n",
            "Increase the number of iterations (max_iter) or scale the data as shown in:\n",
            "    https://scikit-learn.org/stable/modules/preprocessing.html\n",
            "Please also refer to the documentation for alternative solver options:\n",
            "    https://scikit-learn.org/stable/modules/linear_model.html#logistic-regression\n",
            "  extra_warning_msg=_LOGISTIC_SOLVER_CONVERGENCE_MSG,\n"
          ]
        },
        {
          "output_type": "stream",
          "name": "stdout",
          "text": [
            "[CV 1/5; 13/14] END Modelo=LogisticRegression(random_state=20), Preprocessing__bow__ngram_range=(1, 1), Selection__percentile=35;, score=(train=0.995, test=0.519) total time=   8.4s\n",
            "[CV 2/5; 13/14] START Modelo=LogisticRegression(random_state=20), Preprocessing__bow__ngram_range=(1, 1), Selection__percentile=35\n"
          ]
        },
        {
          "output_type": "stream",
          "name": "stderr",
          "text": [
            "/usr/local/lib/python3.7/dist-packages/sklearn/linear_model/_logistic.py:818: ConvergenceWarning: lbfgs failed to converge (status=1):\n",
            "STOP: TOTAL NO. of ITERATIONS REACHED LIMIT.\n",
            "\n",
            "Increase the number of iterations (max_iter) or scale the data as shown in:\n",
            "    https://scikit-learn.org/stable/modules/preprocessing.html\n",
            "Please also refer to the documentation for alternative solver options:\n",
            "    https://scikit-learn.org/stable/modules/linear_model.html#logistic-regression\n",
            "  extra_warning_msg=_LOGISTIC_SOLVER_CONVERGENCE_MSG,\n"
          ]
        },
        {
          "output_type": "stream",
          "name": "stdout",
          "text": [
            "[CV 2/5; 13/14] END Modelo=LogisticRegression(random_state=20), Preprocessing__bow__ngram_range=(1, 1), Selection__percentile=35;, score=(train=1.000, test=0.648) total time=   8.0s\n",
            "[CV 3/5; 13/14] START Modelo=LogisticRegression(random_state=20), Preprocessing__bow__ngram_range=(1, 1), Selection__percentile=35\n"
          ]
        },
        {
          "output_type": "stream",
          "name": "stderr",
          "text": [
            "/usr/local/lib/python3.7/dist-packages/sklearn/linear_model/_logistic.py:818: ConvergenceWarning: lbfgs failed to converge (status=1):\n",
            "STOP: TOTAL NO. of ITERATIONS REACHED LIMIT.\n",
            "\n",
            "Increase the number of iterations (max_iter) or scale the data as shown in:\n",
            "    https://scikit-learn.org/stable/modules/preprocessing.html\n",
            "Please also refer to the documentation for alternative solver options:\n",
            "    https://scikit-learn.org/stable/modules/linear_model.html#logistic-regression\n",
            "  extra_warning_msg=_LOGISTIC_SOLVER_CONVERGENCE_MSG,\n"
          ]
        },
        {
          "output_type": "stream",
          "name": "stdout",
          "text": [
            "[CV 3/5; 13/14] END Modelo=LogisticRegression(random_state=20), Preprocessing__bow__ngram_range=(1, 1), Selection__percentile=35;, score=(train=1.000, test=0.556) total time=   7.1s\n",
            "[CV 4/5; 13/14] START Modelo=LogisticRegression(random_state=20), Preprocessing__bow__ngram_range=(1, 1), Selection__percentile=35\n"
          ]
        },
        {
          "output_type": "stream",
          "name": "stderr",
          "text": [
            "/usr/local/lib/python3.7/dist-packages/sklearn/linear_model/_logistic.py:818: ConvergenceWarning: lbfgs failed to converge (status=1):\n",
            "STOP: TOTAL NO. of ITERATIONS REACHED LIMIT.\n",
            "\n",
            "Increase the number of iterations (max_iter) or scale the data as shown in:\n",
            "    https://scikit-learn.org/stable/modules/preprocessing.html\n",
            "Please also refer to the documentation for alternative solver options:\n",
            "    https://scikit-learn.org/stable/modules/linear_model.html#logistic-regression\n",
            "  extra_warning_msg=_LOGISTIC_SOLVER_CONVERGENCE_MSG,\n"
          ]
        },
        {
          "output_type": "stream",
          "name": "stdout",
          "text": [
            "[CV 4/5; 13/14] END Modelo=LogisticRegression(random_state=20), Preprocessing__bow__ngram_range=(1, 1), Selection__percentile=35;, score=(train=0.995, test=0.611) total time=   7.4s\n",
            "[CV 5/5; 13/14] START Modelo=LogisticRegression(random_state=20), Preprocessing__bow__ngram_range=(1, 1), Selection__percentile=35\n"
          ]
        },
        {
          "output_type": "stream",
          "name": "stderr",
          "text": [
            "/usr/local/lib/python3.7/dist-packages/sklearn/linear_model/_logistic.py:818: ConvergenceWarning: lbfgs failed to converge (status=1):\n",
            "STOP: TOTAL NO. of ITERATIONS REACHED LIMIT.\n",
            "\n",
            "Increase the number of iterations (max_iter) or scale the data as shown in:\n",
            "    https://scikit-learn.org/stable/modules/preprocessing.html\n",
            "Please also refer to the documentation for alternative solver options:\n",
            "    https://scikit-learn.org/stable/modules/linear_model.html#logistic-regression\n",
            "  extra_warning_msg=_LOGISTIC_SOLVER_CONVERGENCE_MSG,\n"
          ]
        },
        {
          "output_type": "stream",
          "name": "stdout",
          "text": [
            "[CV 5/5; 13/14] END Modelo=LogisticRegression(random_state=20), Preprocessing__bow__ngram_range=(1, 1), Selection__percentile=35;, score=(train=1.000, test=0.611) total time=   7.9s\n",
            "[CV 1/5; 14/14] START Modelo=RandomForestClassifier(random_state=20), Preprocessing__bow__ngram_range=(1, 3), Selection__percentile=40\n",
            "[CV 1/5; 14/14] END Modelo=RandomForestClassifier(random_state=20), Preprocessing__bow__ngram_range=(1, 3), Selection__percentile=40;, score=(train=1.000, test=0.556) total time=  10.1s\n",
            "[CV 2/5; 14/14] START Modelo=RandomForestClassifier(random_state=20), Preprocessing__bow__ngram_range=(1, 3), Selection__percentile=40\n",
            "[CV 2/5; 14/14] END Modelo=RandomForestClassifier(random_state=20), Preprocessing__bow__ngram_range=(1, 3), Selection__percentile=40;, score=(train=1.000, test=0.556) total time=   9.6s\n",
            "[CV 3/5; 14/14] START Modelo=RandomForestClassifier(random_state=20), Preprocessing__bow__ngram_range=(1, 3), Selection__percentile=40\n",
            "[CV 3/5; 14/14] END Modelo=RandomForestClassifier(random_state=20), Preprocessing__bow__ngram_range=(1, 3), Selection__percentile=40;, score=(train=1.000, test=0.611) total time=   8.6s\n",
            "[CV 4/5; 14/14] START Modelo=RandomForestClassifier(random_state=20), Preprocessing__bow__ngram_range=(1, 3), Selection__percentile=40\n",
            "[CV 4/5; 14/14] END Modelo=RandomForestClassifier(random_state=20), Preprocessing__bow__ngram_range=(1, 3), Selection__percentile=40;, score=(train=1.000, test=0.593) total time=   8.9s\n",
            "[CV 5/5; 14/14] START Modelo=RandomForestClassifier(random_state=20), Preprocessing__bow__ngram_range=(1, 3), Selection__percentile=40\n",
            "[CV 5/5; 14/14] END Modelo=RandomForestClassifier(random_state=20), Preprocessing__bow__ngram_range=(1, 3), Selection__percentile=40;, score=(train=1.000, test=0.537) total time=   9.3s\n",
            "----------\n",
            "iter: 3\n",
            "n_candidates: 5\n",
            "n_resources: 810\n",
            "Fitting 5 folds for each of 5 candidates, totalling 25 fits\n",
            "[CV 1/5; 1/5] START Modelo=LogisticRegression(random_state=20), Preprocessing__bow__ngram_range=(1, 1), Selection__percentile=45\n"
          ]
        },
        {
          "output_type": "stream",
          "name": "stderr",
          "text": [
            "/usr/local/lib/python3.7/dist-packages/sklearn/linear_model/_logistic.py:818: ConvergenceWarning: lbfgs failed to converge (status=1):\n",
            "STOP: TOTAL NO. of ITERATIONS REACHED LIMIT.\n",
            "\n",
            "Increase the number of iterations (max_iter) or scale the data as shown in:\n",
            "    https://scikit-learn.org/stable/modules/preprocessing.html\n",
            "Please also refer to the documentation for alternative solver options:\n",
            "    https://scikit-learn.org/stable/modules/linear_model.html#logistic-regression\n",
            "  extra_warning_msg=_LOGISTIC_SOLVER_CONVERGENCE_MSG,\n"
          ]
        },
        {
          "output_type": "stream",
          "name": "stdout",
          "text": [
            "[CV 1/5; 1/5] END Modelo=LogisticRegression(random_state=20), Preprocessing__bow__ngram_range=(1, 1), Selection__percentile=45;, score=(train=0.983, test=0.642) total time=  21.6s\n",
            "[CV 2/5; 1/5] START Modelo=LogisticRegression(random_state=20), Preprocessing__bow__ngram_range=(1, 1), Selection__percentile=45\n"
          ]
        },
        {
          "output_type": "stream",
          "name": "stderr",
          "text": [
            "/usr/local/lib/python3.7/dist-packages/sklearn/linear_model/_logistic.py:818: ConvergenceWarning: lbfgs failed to converge (status=1):\n",
            "STOP: TOTAL NO. of ITERATIONS REACHED LIMIT.\n",
            "\n",
            "Increase the number of iterations (max_iter) or scale the data as shown in:\n",
            "    https://scikit-learn.org/stable/modules/preprocessing.html\n",
            "Please also refer to the documentation for alternative solver options:\n",
            "    https://scikit-learn.org/stable/modules/linear_model.html#logistic-regression\n",
            "  extra_warning_msg=_LOGISTIC_SOLVER_CONVERGENCE_MSG,\n"
          ]
        },
        {
          "output_type": "stream",
          "name": "stdout",
          "text": [
            "[CV 2/5; 1/5] END Modelo=LogisticRegression(random_state=20), Preprocessing__bow__ngram_range=(1, 1), Selection__percentile=45;, score=(train=0.978, test=0.660) total time=  22.1s\n",
            "[CV 3/5; 1/5] START Modelo=LogisticRegression(random_state=20), Preprocessing__bow__ngram_range=(1, 1), Selection__percentile=45\n"
          ]
        },
        {
          "output_type": "stream",
          "name": "stderr",
          "text": [
            "/usr/local/lib/python3.7/dist-packages/sklearn/linear_model/_logistic.py:818: ConvergenceWarning: lbfgs failed to converge (status=1):\n",
            "STOP: TOTAL NO. of ITERATIONS REACHED LIMIT.\n",
            "\n",
            "Increase the number of iterations (max_iter) or scale the data as shown in:\n",
            "    https://scikit-learn.org/stable/modules/preprocessing.html\n",
            "Please also refer to the documentation for alternative solver options:\n",
            "    https://scikit-learn.org/stable/modules/linear_model.html#logistic-regression\n",
            "  extra_warning_msg=_LOGISTIC_SOLVER_CONVERGENCE_MSG,\n"
          ]
        },
        {
          "output_type": "stream",
          "name": "stdout",
          "text": [
            "[CV 3/5; 1/5] END Modelo=LogisticRegression(random_state=20), Preprocessing__bow__ngram_range=(1, 1), Selection__percentile=45;, score=(train=0.997, test=0.654) total time=  22.6s\n",
            "[CV 4/5; 1/5] START Modelo=LogisticRegression(random_state=20), Preprocessing__bow__ngram_range=(1, 1), Selection__percentile=45\n"
          ]
        },
        {
          "output_type": "stream",
          "name": "stderr",
          "text": [
            "/usr/local/lib/python3.7/dist-packages/sklearn/linear_model/_logistic.py:818: ConvergenceWarning: lbfgs failed to converge (status=1):\n",
            "STOP: TOTAL NO. of ITERATIONS REACHED LIMIT.\n",
            "\n",
            "Increase the number of iterations (max_iter) or scale the data as shown in:\n",
            "    https://scikit-learn.org/stable/modules/preprocessing.html\n",
            "Please also refer to the documentation for alternative solver options:\n",
            "    https://scikit-learn.org/stable/modules/linear_model.html#logistic-regression\n",
            "  extra_warning_msg=_LOGISTIC_SOLVER_CONVERGENCE_MSG,\n"
          ]
        },
        {
          "output_type": "stream",
          "name": "stdout",
          "text": [
            "[CV 4/5; 1/5] END Modelo=LogisticRegression(random_state=20), Preprocessing__bow__ngram_range=(1, 1), Selection__percentile=45;, score=(train=0.977, test=0.568) total time=  21.8s\n",
            "[CV 5/5; 1/5] START Modelo=LogisticRegression(random_state=20), Preprocessing__bow__ngram_range=(1, 1), Selection__percentile=45\n"
          ]
        },
        {
          "output_type": "stream",
          "name": "stderr",
          "text": [
            "/usr/local/lib/python3.7/dist-packages/sklearn/linear_model/_logistic.py:818: ConvergenceWarning: lbfgs failed to converge (status=1):\n",
            "STOP: TOTAL NO. of ITERATIONS REACHED LIMIT.\n",
            "\n",
            "Increase the number of iterations (max_iter) or scale the data as shown in:\n",
            "    https://scikit-learn.org/stable/modules/preprocessing.html\n",
            "Please also refer to the documentation for alternative solver options:\n",
            "    https://scikit-learn.org/stable/modules/linear_model.html#logistic-regression\n",
            "  extra_warning_msg=_LOGISTIC_SOLVER_CONVERGENCE_MSG,\n"
          ]
        },
        {
          "output_type": "stream",
          "name": "stdout",
          "text": [
            "[CV 5/5; 1/5] END Modelo=LogisticRegression(random_state=20), Preprocessing__bow__ngram_range=(1, 1), Selection__percentile=45;, score=(train=0.991, test=0.642) total time=  22.4s\n",
            "[CV 1/5; 2/5] START Modelo=LogisticRegression(random_state=20), Preprocessing__bow__ngram_range=(1, 2), Selection__percentile=75\n"
          ]
        },
        {
          "output_type": "stream",
          "name": "stderr",
          "text": [
            "/usr/local/lib/python3.7/dist-packages/sklearn/linear_model/_logistic.py:818: ConvergenceWarning: lbfgs failed to converge (status=1):\n",
            "STOP: TOTAL NO. of ITERATIONS REACHED LIMIT.\n",
            "\n",
            "Increase the number of iterations (max_iter) or scale the data as shown in:\n",
            "    https://scikit-learn.org/stable/modules/preprocessing.html\n",
            "Please also refer to the documentation for alternative solver options:\n",
            "    https://scikit-learn.org/stable/modules/linear_model.html#logistic-regression\n",
            "  extra_warning_msg=_LOGISTIC_SOLVER_CONVERGENCE_MSG,\n"
          ]
        },
        {
          "output_type": "stream",
          "name": "stdout",
          "text": [
            "[CV 1/5; 2/5] END Modelo=LogisticRegression(random_state=20), Preprocessing__bow__ngram_range=(1, 2), Selection__percentile=75;, score=(train=0.997, test=0.605) total time=  33.9s\n",
            "[CV 2/5; 2/5] START Modelo=LogisticRegression(random_state=20), Preprocessing__bow__ngram_range=(1, 2), Selection__percentile=75\n"
          ]
        },
        {
          "output_type": "stream",
          "name": "stderr",
          "text": [
            "/usr/local/lib/python3.7/dist-packages/sklearn/linear_model/_logistic.py:818: ConvergenceWarning: lbfgs failed to converge (status=1):\n",
            "STOP: TOTAL NO. of ITERATIONS REACHED LIMIT.\n",
            "\n",
            "Increase the number of iterations (max_iter) or scale the data as shown in:\n",
            "    https://scikit-learn.org/stable/modules/preprocessing.html\n",
            "Please also refer to the documentation for alternative solver options:\n",
            "    https://scikit-learn.org/stable/modules/linear_model.html#logistic-regression\n",
            "  extra_warning_msg=_LOGISTIC_SOLVER_CONVERGENCE_MSG,\n"
          ]
        },
        {
          "output_type": "stream",
          "name": "stdout",
          "text": [
            "[CV 2/5; 2/5] END Modelo=LogisticRegression(random_state=20), Preprocessing__bow__ngram_range=(1, 2), Selection__percentile=75;, score=(train=0.995, test=0.673) total time=  35.7s\n",
            "[CV 3/5; 2/5] START Modelo=LogisticRegression(random_state=20), Preprocessing__bow__ngram_range=(1, 2), Selection__percentile=75\n"
          ]
        },
        {
          "output_type": "stream",
          "name": "stderr",
          "text": [
            "/usr/local/lib/python3.7/dist-packages/sklearn/linear_model/_logistic.py:818: ConvergenceWarning: lbfgs failed to converge (status=1):\n",
            "STOP: TOTAL NO. of ITERATIONS REACHED LIMIT.\n",
            "\n",
            "Increase the number of iterations (max_iter) or scale the data as shown in:\n",
            "    https://scikit-learn.org/stable/modules/preprocessing.html\n",
            "Please also refer to the documentation for alternative solver options:\n",
            "    https://scikit-learn.org/stable/modules/linear_model.html#logistic-regression\n",
            "  extra_warning_msg=_LOGISTIC_SOLVER_CONVERGENCE_MSG,\n"
          ]
        },
        {
          "output_type": "stream",
          "name": "stdout",
          "text": [
            "[CV 3/5; 2/5] END Modelo=LogisticRegression(random_state=20), Preprocessing__bow__ngram_range=(1, 2), Selection__percentile=75;, score=(train=1.000, test=0.685) total time=  37.1s\n",
            "[CV 4/5; 2/5] START Modelo=LogisticRegression(random_state=20), Preprocessing__bow__ngram_range=(1, 2), Selection__percentile=75\n"
          ]
        },
        {
          "output_type": "stream",
          "name": "stderr",
          "text": [
            "/usr/local/lib/python3.7/dist-packages/sklearn/linear_model/_logistic.py:818: ConvergenceWarning: lbfgs failed to converge (status=1):\n",
            "STOP: TOTAL NO. of ITERATIONS REACHED LIMIT.\n",
            "\n",
            "Increase the number of iterations (max_iter) or scale the data as shown in:\n",
            "    https://scikit-learn.org/stable/modules/preprocessing.html\n",
            "Please also refer to the documentation for alternative solver options:\n",
            "    https://scikit-learn.org/stable/modules/linear_model.html#logistic-regression\n",
            "  extra_warning_msg=_LOGISTIC_SOLVER_CONVERGENCE_MSG,\n"
          ]
        },
        {
          "output_type": "stream",
          "name": "stdout",
          "text": [
            "[CV 4/5; 2/5] END Modelo=LogisticRegression(random_state=20), Preprocessing__bow__ngram_range=(1, 2), Selection__percentile=75;, score=(train=0.998, test=0.642) total time=  35.6s\n",
            "[CV 5/5; 2/5] START Modelo=LogisticRegression(random_state=20), Preprocessing__bow__ngram_range=(1, 2), Selection__percentile=75\n"
          ]
        },
        {
          "output_type": "stream",
          "name": "stderr",
          "text": [
            "/usr/local/lib/python3.7/dist-packages/sklearn/linear_model/_logistic.py:818: ConvergenceWarning: lbfgs failed to converge (status=1):\n",
            "STOP: TOTAL NO. of ITERATIONS REACHED LIMIT.\n",
            "\n",
            "Increase the number of iterations (max_iter) or scale the data as shown in:\n",
            "    https://scikit-learn.org/stable/modules/preprocessing.html\n",
            "Please also refer to the documentation for alternative solver options:\n",
            "    https://scikit-learn.org/stable/modules/linear_model.html#logistic-regression\n",
            "  extra_warning_msg=_LOGISTIC_SOLVER_CONVERGENCE_MSG,\n"
          ]
        },
        {
          "output_type": "stream",
          "name": "stdout",
          "text": [
            "[CV 5/5; 2/5] END Modelo=LogisticRegression(random_state=20), Preprocessing__bow__ngram_range=(1, 2), Selection__percentile=75;, score=(train=0.997, test=0.660) total time=  35.7s\n",
            "[CV 1/5; 3/5] START Modelo=LogisticRegression(random_state=20), Preprocessing__bow__ngram_range=(1, 3), Selection__percentile=55\n"
          ]
        },
        {
          "output_type": "stream",
          "name": "stderr",
          "text": [
            "/usr/local/lib/python3.7/dist-packages/sklearn/linear_model/_logistic.py:818: ConvergenceWarning: lbfgs failed to converge (status=1):\n",
            "STOP: TOTAL NO. of ITERATIONS REACHED LIMIT.\n",
            "\n",
            "Increase the number of iterations (max_iter) or scale the data as shown in:\n",
            "    https://scikit-learn.org/stable/modules/preprocessing.html\n",
            "Please also refer to the documentation for alternative solver options:\n",
            "    https://scikit-learn.org/stable/modules/linear_model.html#logistic-regression\n",
            "  extra_warning_msg=_LOGISTIC_SOLVER_CONVERGENCE_MSG,\n"
          ]
        },
        {
          "output_type": "stream",
          "name": "stdout",
          "text": [
            "[CV 1/5; 3/5] END Modelo=LogisticRegression(random_state=20), Preprocessing__bow__ngram_range=(1, 3), Selection__percentile=55;, score=(train=0.997, test=0.611) total time=  44.9s\n",
            "[CV 2/5; 3/5] START Modelo=LogisticRegression(random_state=20), Preprocessing__bow__ngram_range=(1, 3), Selection__percentile=55\n"
          ]
        },
        {
          "output_type": "stream",
          "name": "stderr",
          "text": [
            "/usr/local/lib/python3.7/dist-packages/sklearn/linear_model/_logistic.py:818: ConvergenceWarning: lbfgs failed to converge (status=1):\n",
            "STOP: TOTAL NO. of ITERATIONS REACHED LIMIT.\n",
            "\n",
            "Increase the number of iterations (max_iter) or scale the data as shown in:\n",
            "    https://scikit-learn.org/stable/modules/preprocessing.html\n",
            "Please also refer to the documentation for alternative solver options:\n",
            "    https://scikit-learn.org/stable/modules/linear_model.html#logistic-regression\n",
            "  extra_warning_msg=_LOGISTIC_SOLVER_CONVERGENCE_MSG,\n"
          ]
        },
        {
          "output_type": "stream",
          "name": "stdout",
          "text": [
            "[CV 2/5; 3/5] END Modelo=LogisticRegression(random_state=20), Preprocessing__bow__ngram_range=(1, 3), Selection__percentile=55;, score=(train=0.997, test=0.636) total time=  45.9s\n",
            "[CV 3/5; 3/5] START Modelo=LogisticRegression(random_state=20), Preprocessing__bow__ngram_range=(1, 3), Selection__percentile=55\n"
          ]
        },
        {
          "output_type": "stream",
          "name": "stderr",
          "text": [
            "/usr/local/lib/python3.7/dist-packages/sklearn/linear_model/_logistic.py:818: ConvergenceWarning: lbfgs failed to converge (status=1):\n",
            "STOP: TOTAL NO. of ITERATIONS REACHED LIMIT.\n",
            "\n",
            "Increase the number of iterations (max_iter) or scale the data as shown in:\n",
            "    https://scikit-learn.org/stable/modules/preprocessing.html\n",
            "Please also refer to the documentation for alternative solver options:\n",
            "    https://scikit-learn.org/stable/modules/linear_model.html#logistic-regression\n",
            "  extra_warning_msg=_LOGISTIC_SOLVER_CONVERGENCE_MSG,\n"
          ]
        },
        {
          "output_type": "stream",
          "name": "stdout",
          "text": [
            "[CV 3/5; 3/5] END Modelo=LogisticRegression(random_state=20), Preprocessing__bow__ngram_range=(1, 3), Selection__percentile=55;, score=(train=1.000, test=0.642) total time=  48.3s\n",
            "[CV 4/5; 3/5] START Modelo=LogisticRegression(random_state=20), Preprocessing__bow__ngram_range=(1, 3), Selection__percentile=55\n"
          ]
        },
        {
          "output_type": "stream",
          "name": "stderr",
          "text": [
            "/usr/local/lib/python3.7/dist-packages/sklearn/linear_model/_logistic.py:818: ConvergenceWarning: lbfgs failed to converge (status=1):\n",
            "STOP: TOTAL NO. of ITERATIONS REACHED LIMIT.\n",
            "\n",
            "Increase the number of iterations (max_iter) or scale the data as shown in:\n",
            "    https://scikit-learn.org/stable/modules/preprocessing.html\n",
            "Please also refer to the documentation for alternative solver options:\n",
            "    https://scikit-learn.org/stable/modules/linear_model.html#logistic-regression\n",
            "  extra_warning_msg=_LOGISTIC_SOLVER_CONVERGENCE_MSG,\n"
          ]
        },
        {
          "output_type": "stream",
          "name": "stdout",
          "text": [
            "[CV 4/5; 3/5] END Modelo=LogisticRegression(random_state=20), Preprocessing__bow__ngram_range=(1, 3), Selection__percentile=55;, score=(train=0.998, test=0.623) total time=  46.8s\n",
            "[CV 5/5; 3/5] START Modelo=LogisticRegression(random_state=20), Preprocessing__bow__ngram_range=(1, 3), Selection__percentile=55\n"
          ]
        },
        {
          "output_type": "stream",
          "name": "stderr",
          "text": [
            "/usr/local/lib/python3.7/dist-packages/sklearn/linear_model/_logistic.py:818: ConvergenceWarning: lbfgs failed to converge (status=1):\n",
            "STOP: TOTAL NO. of ITERATIONS REACHED LIMIT.\n",
            "\n",
            "Increase the number of iterations (max_iter) or scale the data as shown in:\n",
            "    https://scikit-learn.org/stable/modules/preprocessing.html\n",
            "Please also refer to the documentation for alternative solver options:\n",
            "    https://scikit-learn.org/stable/modules/linear_model.html#logistic-regression\n",
            "  extra_warning_msg=_LOGISTIC_SOLVER_CONVERGENCE_MSG,\n"
          ]
        },
        {
          "output_type": "stream",
          "name": "stdout",
          "text": [
            "[CV 5/5; 3/5] END Modelo=LogisticRegression(random_state=20), Preprocessing__bow__ngram_range=(1, 3), Selection__percentile=55;, score=(train=0.997, test=0.654) total time=  50.4s\n",
            "[CV 1/5; 4/5] START Modelo=LogisticRegression(random_state=20), Preprocessing__bow__ngram_range=(1, 3), Selection__percentile=60\n"
          ]
        },
        {
          "output_type": "stream",
          "name": "stderr",
          "text": [
            "/usr/local/lib/python3.7/dist-packages/sklearn/linear_model/_logistic.py:818: ConvergenceWarning: lbfgs failed to converge (status=1):\n",
            "STOP: TOTAL NO. of ITERATIONS REACHED LIMIT.\n",
            "\n",
            "Increase the number of iterations (max_iter) or scale the data as shown in:\n",
            "    https://scikit-learn.org/stable/modules/preprocessing.html\n",
            "Please also refer to the documentation for alternative solver options:\n",
            "    https://scikit-learn.org/stable/modules/linear_model.html#logistic-regression\n",
            "  extra_warning_msg=_LOGISTIC_SOLVER_CONVERGENCE_MSG,\n"
          ]
        },
        {
          "output_type": "stream",
          "name": "stdout",
          "text": [
            "[CV 1/5; 4/5] END Modelo=LogisticRegression(random_state=20), Preprocessing__bow__ngram_range=(1, 3), Selection__percentile=60;, score=(train=0.997, test=0.617) total time=  46.9s\n",
            "[CV 2/5; 4/5] START Modelo=LogisticRegression(random_state=20), Preprocessing__bow__ngram_range=(1, 3), Selection__percentile=60\n"
          ]
        },
        {
          "output_type": "stream",
          "name": "stderr",
          "text": [
            "/usr/local/lib/python3.7/dist-packages/sklearn/linear_model/_logistic.py:818: ConvergenceWarning: lbfgs failed to converge (status=1):\n",
            "STOP: TOTAL NO. of ITERATIONS REACHED LIMIT.\n",
            "\n",
            "Increase the number of iterations (max_iter) or scale the data as shown in:\n",
            "    https://scikit-learn.org/stable/modules/preprocessing.html\n",
            "Please also refer to the documentation for alternative solver options:\n",
            "    https://scikit-learn.org/stable/modules/linear_model.html#logistic-regression\n",
            "  extra_warning_msg=_LOGISTIC_SOLVER_CONVERGENCE_MSG,\n"
          ]
        },
        {
          "output_type": "stream",
          "name": "stdout",
          "text": [
            "[CV 2/5; 4/5] END Modelo=LogisticRegression(random_state=20), Preprocessing__bow__ngram_range=(1, 3), Selection__percentile=60;, score=(train=0.997, test=0.623) total time=  46.9s\n",
            "[CV 3/5; 4/5] START Modelo=LogisticRegression(random_state=20), Preprocessing__bow__ngram_range=(1, 3), Selection__percentile=60\n"
          ]
        },
        {
          "output_type": "stream",
          "name": "stderr",
          "text": [
            "/usr/local/lib/python3.7/dist-packages/sklearn/linear_model/_logistic.py:818: ConvergenceWarning: lbfgs failed to converge (status=1):\n",
            "STOP: TOTAL NO. of ITERATIONS REACHED LIMIT.\n",
            "\n",
            "Increase the number of iterations (max_iter) or scale the data as shown in:\n",
            "    https://scikit-learn.org/stable/modules/preprocessing.html\n",
            "Please also refer to the documentation for alternative solver options:\n",
            "    https://scikit-learn.org/stable/modules/linear_model.html#logistic-regression\n",
            "  extra_warning_msg=_LOGISTIC_SOLVER_CONVERGENCE_MSG,\n"
          ]
        },
        {
          "output_type": "stream",
          "name": "stdout",
          "text": [
            "[CV 3/5; 4/5] END Modelo=LogisticRegression(random_state=20), Preprocessing__bow__ngram_range=(1, 3), Selection__percentile=60;, score=(train=1.000, test=0.660) total time=  49.4s\n",
            "[CV 4/5; 4/5] START Modelo=LogisticRegression(random_state=20), Preprocessing__bow__ngram_range=(1, 3), Selection__percentile=60\n"
          ]
        },
        {
          "output_type": "stream",
          "name": "stderr",
          "text": [
            "/usr/local/lib/python3.7/dist-packages/sklearn/linear_model/_logistic.py:818: ConvergenceWarning: lbfgs failed to converge (status=1):\n",
            "STOP: TOTAL NO. of ITERATIONS REACHED LIMIT.\n",
            "\n",
            "Increase the number of iterations (max_iter) or scale the data as shown in:\n",
            "    https://scikit-learn.org/stable/modules/preprocessing.html\n",
            "Please also refer to the documentation for alternative solver options:\n",
            "    https://scikit-learn.org/stable/modules/linear_model.html#logistic-regression\n",
            "  extra_warning_msg=_LOGISTIC_SOLVER_CONVERGENCE_MSG,\n"
          ]
        },
        {
          "output_type": "stream",
          "name": "stdout",
          "text": [
            "[CV 4/5; 4/5] END Modelo=LogisticRegression(random_state=20), Preprocessing__bow__ngram_range=(1, 3), Selection__percentile=60;, score=(train=0.998, test=0.617) total time=  50.1s\n",
            "[CV 5/5; 4/5] START Modelo=LogisticRegression(random_state=20), Preprocessing__bow__ngram_range=(1, 3), Selection__percentile=60\n"
          ]
        },
        {
          "output_type": "stream",
          "name": "stderr",
          "text": [
            "/usr/local/lib/python3.7/dist-packages/sklearn/linear_model/_logistic.py:818: ConvergenceWarning: lbfgs failed to converge (status=1):\n",
            "STOP: TOTAL NO. of ITERATIONS REACHED LIMIT.\n",
            "\n",
            "Increase the number of iterations (max_iter) or scale the data as shown in:\n",
            "    https://scikit-learn.org/stable/modules/preprocessing.html\n",
            "Please also refer to the documentation for alternative solver options:\n",
            "    https://scikit-learn.org/stable/modules/linear_model.html#logistic-regression\n",
            "  extra_warning_msg=_LOGISTIC_SOLVER_CONVERGENCE_MSG,\n"
          ]
        },
        {
          "output_type": "stream",
          "name": "stdout",
          "text": [
            "[CV 5/5; 4/5] END Modelo=LogisticRegression(random_state=20), Preprocessing__bow__ngram_range=(1, 3), Selection__percentile=60;, score=(train=0.997, test=0.623) total time=  49.9s\n",
            "[CV 1/5; 5/5] START Modelo=LogisticRegression(random_state=20), Preprocessing__bow__ngram_range=(1, 1), Selection__percentile=30\n"
          ]
        },
        {
          "output_type": "stream",
          "name": "stderr",
          "text": [
            "/usr/local/lib/python3.7/dist-packages/sklearn/linear_model/_logistic.py:818: ConvergenceWarning: lbfgs failed to converge (status=1):\n",
            "STOP: TOTAL NO. of ITERATIONS REACHED LIMIT.\n",
            "\n",
            "Increase the number of iterations (max_iter) or scale the data as shown in:\n",
            "    https://scikit-learn.org/stable/modules/preprocessing.html\n",
            "Please also refer to the documentation for alternative solver options:\n",
            "    https://scikit-learn.org/stable/modules/linear_model.html#logistic-regression\n",
            "  extra_warning_msg=_LOGISTIC_SOLVER_CONVERGENCE_MSG,\n"
          ]
        },
        {
          "output_type": "stream",
          "name": "stdout",
          "text": [
            "[CV 1/5; 5/5] END Modelo=LogisticRegression(random_state=20), Preprocessing__bow__ngram_range=(1, 1), Selection__percentile=30;, score=(train=0.980, test=0.623) total time=  20.9s\n",
            "[CV 2/5; 5/5] START Modelo=LogisticRegression(random_state=20), Preprocessing__bow__ngram_range=(1, 1), Selection__percentile=30\n"
          ]
        },
        {
          "output_type": "stream",
          "name": "stderr",
          "text": [
            "/usr/local/lib/python3.7/dist-packages/sklearn/linear_model/_logistic.py:818: ConvergenceWarning: lbfgs failed to converge (status=1):\n",
            "STOP: TOTAL NO. of ITERATIONS REACHED LIMIT.\n",
            "\n",
            "Increase the number of iterations (max_iter) or scale the data as shown in:\n",
            "    https://scikit-learn.org/stable/modules/preprocessing.html\n",
            "Please also refer to the documentation for alternative solver options:\n",
            "    https://scikit-learn.org/stable/modules/linear_model.html#logistic-regression\n",
            "  extra_warning_msg=_LOGISTIC_SOLVER_CONVERGENCE_MSG,\n"
          ]
        },
        {
          "output_type": "stream",
          "name": "stdout",
          "text": [
            "[CV 2/5; 5/5] END Modelo=LogisticRegression(random_state=20), Preprocessing__bow__ngram_range=(1, 1), Selection__percentile=30;, score=(train=0.957, test=0.642) total time=  21.6s\n",
            "[CV 3/5; 5/5] START Modelo=LogisticRegression(random_state=20), Preprocessing__bow__ngram_range=(1, 1), Selection__percentile=30\n"
          ]
        },
        {
          "output_type": "stream",
          "name": "stderr",
          "text": [
            "/usr/local/lib/python3.7/dist-packages/sklearn/linear_model/_logistic.py:818: ConvergenceWarning: lbfgs failed to converge (status=1):\n",
            "STOP: TOTAL NO. of ITERATIONS REACHED LIMIT.\n",
            "\n",
            "Increase the number of iterations (max_iter) or scale the data as shown in:\n",
            "    https://scikit-learn.org/stable/modules/preprocessing.html\n",
            "Please also refer to the documentation for alternative solver options:\n",
            "    https://scikit-learn.org/stable/modules/linear_model.html#logistic-regression\n",
            "  extra_warning_msg=_LOGISTIC_SOLVER_CONVERGENCE_MSG,\n"
          ]
        },
        {
          "output_type": "stream",
          "name": "stdout",
          "text": [
            "[CV 3/5; 5/5] END Modelo=LogisticRegression(random_state=20), Preprocessing__bow__ngram_range=(1, 1), Selection__percentile=30;, score=(train=0.994, test=0.654) total time=  22.0s\n",
            "[CV 4/5; 5/5] START Modelo=LogisticRegression(random_state=20), Preprocessing__bow__ngram_range=(1, 1), Selection__percentile=30\n"
          ]
        },
        {
          "output_type": "stream",
          "name": "stderr",
          "text": [
            "/usr/local/lib/python3.7/dist-packages/sklearn/linear_model/_logistic.py:818: ConvergenceWarning: lbfgs failed to converge (status=1):\n",
            "STOP: TOTAL NO. of ITERATIONS REACHED LIMIT.\n",
            "\n",
            "Increase the number of iterations (max_iter) or scale the data as shown in:\n",
            "    https://scikit-learn.org/stable/modules/preprocessing.html\n",
            "Please also refer to the documentation for alternative solver options:\n",
            "    https://scikit-learn.org/stable/modules/linear_model.html#logistic-regression\n",
            "  extra_warning_msg=_LOGISTIC_SOLVER_CONVERGENCE_MSG,\n"
          ]
        },
        {
          "output_type": "stream",
          "name": "stdout",
          "text": [
            "[CV 4/5; 5/5] END Modelo=LogisticRegression(random_state=20), Preprocessing__bow__ngram_range=(1, 1), Selection__percentile=30;, score=(train=0.960, test=0.605) total time=  21.1s\n",
            "[CV 5/5; 5/5] START Modelo=LogisticRegression(random_state=20), Preprocessing__bow__ngram_range=(1, 1), Selection__percentile=30\n"
          ]
        },
        {
          "output_type": "stream",
          "name": "stderr",
          "text": [
            "/usr/local/lib/python3.7/dist-packages/sklearn/linear_model/_logistic.py:818: ConvergenceWarning: lbfgs failed to converge (status=1):\n",
            "STOP: TOTAL NO. of ITERATIONS REACHED LIMIT.\n",
            "\n",
            "Increase the number of iterations (max_iter) or scale the data as shown in:\n",
            "    https://scikit-learn.org/stable/modules/preprocessing.html\n",
            "Please also refer to the documentation for alternative solver options:\n",
            "    https://scikit-learn.org/stable/modules/linear_model.html#logistic-regression\n",
            "  extra_warning_msg=_LOGISTIC_SOLVER_CONVERGENCE_MSG,\n"
          ]
        },
        {
          "output_type": "stream",
          "name": "stdout",
          "text": [
            "[CV 5/5; 5/5] END Modelo=LogisticRegression(random_state=20), Preprocessing__bow__ngram_range=(1, 1), Selection__percentile=30;, score=(train=0.965, test=0.660) total time=  21.5s\n"
          ]
        },
        {
          "output_type": "stream",
          "name": "stderr",
          "text": [
            "/usr/local/lib/python3.7/dist-packages/sklearn/linear_model/_logistic.py:818: ConvergenceWarning: lbfgs failed to converge (status=1):\n",
            "STOP: TOTAL NO. of ITERATIONS REACHED LIMIT.\n",
            "\n",
            "Increase the number of iterations (max_iter) or scale the data as shown in:\n",
            "    https://scikit-learn.org/stable/modules/preprocessing.html\n",
            "Please also refer to the documentation for alternative solver options:\n",
            "    https://scikit-learn.org/stable/modules/linear_model.html#logistic-regression\n",
            "  extra_warning_msg=_LOGISTIC_SOLVER_CONVERGENCE_MSG,\n"
          ]
        },
        {
          "output_type": "stream",
          "name": "stdout",
          "text": [
            "Matriz de confusión: \n",
            "\n",
            "[[ 98  40   4]\n",
            " [ 49 193   4]\n",
            " [ 16  19   2]]\n",
            "\n",
            "Reporte de Clasificación: \n",
            "\n",
            "              precision    recall  f1-score   support\n",
            "\n",
            "         Bad       0.60      0.69      0.64       142\n",
            "        Good       0.77      0.78      0.78       246\n",
            "     Neutral       0.20      0.05      0.09        37\n",
            "\n",
            "    accuracy                           0.69       425\n",
            "   macro avg       0.52      0.51      0.50       425\n",
            "weighted avg       0.66      0.69      0.67       425\n",
            "\n"
          ]
        },
        {
          "output_type": "execute_result",
          "data": {
            "text/plain": [
              "0.6707672799571457"
            ]
          },
          "metadata": {},
          "execution_count": 33
        }
      ]
    },
    {
      "cell_type": "code",
      "metadata": {
        "colab": {
          "base_uri": "https://localhost:8080/"
        },
        "id": "Sb41Aqy-6rv1",
        "outputId": "32bc761d-fccd-4097-ae67-29cc8138c66b"
      },
      "source": [
        "hgs.best_params_"
      ],
      "execution_count": 36,
      "outputs": [
        {
          "output_type": "execute_result",
          "data": {
            "text/plain": [
              "{'Modelo': LogisticRegression(random_state=20),\n",
              " 'Preprocessing__bow__ngram_range': (1, 2),\n",
              " 'Selection__percentile': 75}"
            ]
          },
          "metadata": {},
          "execution_count": 36
        }
      ]
    },
    {
      "cell_type": "markdown",
      "metadata": {
        "cell_id": "00042-1dc5444c-59e9-4d79-93fb-3c545fe3b086",
        "deepnote_cell_type": "markdown",
        "id": "OmQUw2aZ_6z2"
      },
      "source": [
        "## 1.4 Predicción del datos sin etiquetado  [0.5 puntos]\n",
        "\n",
        "<p align=\"center\">\n",
        "  <img src=\"https://pbs.twimg.com/media/DolotxUUYAAbg7f.jpg\" width=\"350\">\n",
        "</p>\n"
      ]
    },
    {
      "cell_type": "markdown",
      "metadata": {
        "cell_id": "00043-bdf593d2-92b5-4d74-869a-8c9541a6e572",
        "deepnote_cell_type": "markdown",
        "id": "Cj0ERBgTBFWN"
      },
      "source": [
        "LLego el momento de predecir \n",
        "`Vergil`, `Gorilla Girl` y `Batcow`\n",
        "\n",
        "\n",
        "**Nota:** Recuerde que pueden existir campos vacios en `history_text`, por lo que se les recomienda borrar los nan."
      ]
    },
    {
      "cell_type": "markdown",
      "metadata": {
        "cell_id": "00035-1e9b40e0-20dc-4ed1-81ca-b7f8f9679771",
        "deepnote_cell_type": "markdown",
        "tags": [],
        "id": "F_R8_YH9jROc"
      },
      "source": [
        "**Respuesta:**"
      ]
    },
    {
      "cell_type": "code",
      "metadata": {
        "id": "Gu4BBuIq8tOx"
      },
      "source": [
        "df_comics_no_label = df_comics_no_label.dropna(subset=['history_text']).drop_duplicates() # eliminar ejemplos sin historia"
      ],
      "execution_count": 69,
      "outputs": []
    },
    {
      "cell_type": "code",
      "metadata": {
        "id": "ABqZIaqP9IK_"
      },
      "source": [
        "X_TEST=df_comics_no_label.drop(columns=[\"alignment\"])"
      ],
      "execution_count": 70,
      "outputs": []
    },
    {
      "cell_type": "code",
      "metadata": {
        "cell_id": "00035-1ec91701-af2f-4571-9067-f82dbc6f2989",
        "deepnote_cell_type": "code",
        "tags": [],
        "id": "_pIxPVTfjROc"
      },
      "source": [
        "Y_PRED = hgs.predict(X_TEST)\n"
      ],
      "execution_count": 71,
      "outputs": []
    },
    {
      "cell_type": "code",
      "metadata": {
        "id": "GHTJ-s9X9pSZ"
      },
      "source": [
        "df_comics_no_label[\"alignment\"]=Y_PRED"
      ],
      "execution_count": 72,
      "outputs": []
    },
    {
      "cell_type": "code",
      "metadata": {
        "colab": {
          "base_uri": "https://localhost:8080/",
          "height": 143
        },
        "id": "6I5QrUoN94n4",
        "outputId": "c90b8b8b-5b82-4aa8-be64-b518ddea2f3f"
      },
      "source": [
        "df_comics_no_label.loc[df_comics_no_label['name'].isin(['Vergil', 'Gorilla Girl', 'Batcow'])][['name','alignment']]"
      ],
      "execution_count": 73,
      "outputs": [
        {
          "output_type": "execute_result",
          "data": {
            "text/html": [
              "<div>\n",
              "<style scoped>\n",
              "    .dataframe tbody tr th:only-of-type {\n",
              "        vertical-align: middle;\n",
              "    }\n",
              "\n",
              "    .dataframe tbody tr th {\n",
              "        vertical-align: top;\n",
              "    }\n",
              "\n",
              "    .dataframe thead th {\n",
              "        text-align: right;\n",
              "    }\n",
              "</style>\n",
              "<table border=\"1\" class=\"dataframe\">\n",
              "  <thead>\n",
              "    <tr style=\"text-align: right;\">\n",
              "      <th></th>\n",
              "      <th>name</th>\n",
              "      <th>alignment</th>\n",
              "    </tr>\n",
              "  </thead>\n",
              "  <tbody>\n",
              "    <tr>\n",
              "      <th>16</th>\n",
              "      <td>Batcow</td>\n",
              "      <td>Good</td>\n",
              "    </tr>\n",
              "    <tr>\n",
              "      <th>40</th>\n",
              "      <td>Gorilla Girl</td>\n",
              "      <td>Good</td>\n",
              "    </tr>\n",
              "    <tr>\n",
              "      <th>78</th>\n",
              "      <td>Vergil</td>\n",
              "      <td>Good</td>\n",
              "    </tr>\n",
              "  </tbody>\n",
              "</table>\n",
              "</div>"
            ],
            "text/plain": [
              "            name alignment\n",
              "16        Batcow      Good\n",
              "40  Gorilla Girl      Good\n",
              "78        Vergil      Good"
            ]
          },
          "metadata": {},
          "execution_count": 73
        }
      ]
    },
    {
      "cell_type": "markdown",
      "metadata": {
        "cell_id": "00045-bf830861-7edd-434b-93f5-af4b0404ce83",
        "deepnote_cell_type": "markdown",
        "id": "Rg4ZMq8ezAH6"
      },
      "source": [
        "# Conclusión\n",
        "Eso ha sido todo para el lab de hoy, recuerden que el laboratorio tiene un plazo de entrega de una semana y que **los días de atraso no se pueden utilizar para entregas de lab, solo para tareas**. Cualquier duda del laboratorio, no duden en contactarnos por mail o U-cursos.\n",
        "\n",
        "<p align=\"center\">\n",
        "  <img src=\"https://media1.tenor.com/images/fb5bf7cc5a4acb91b4177672886a88ba/tenor.gif?itemid=5591338\">\n",
        "</p>"
      ]
    },
    {
      "cell_type": "markdown",
      "metadata": {
        "created_in_deepnote_cell": true,
        "deepnote_cell_type": "markdown",
        "tags": [],
        "id": "IESU67pkjROc"
      },
      "source": [
        "<a style='text-decoration:none;line-height:16px;display:flex;color:#5B5B62;padding:10px;justify-content:end;' href='https://deepnote.com?utm_source=created-in-deepnote-cell&projectId=87110296-876e-426f-b91d-aaf681223468' target=\"_blank\">\n",
        "<img alt='Created in deepnote.com' style='display:inline;max-height:16px;margin:0px;margin-right:7.5px;' src='data:image/svg+xml;base64,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' > </img>\n",
        "Created in <span style='font-weight:600;margin-left:4px;'>Deepnote</span></a>"
      ]
    }
  ]
}